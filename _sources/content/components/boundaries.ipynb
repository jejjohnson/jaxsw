{
 "cells": [
  {
   "cell_type": "markdown",
   "metadata": {},
   "source": [
    "# Boundary Conditions"
   ]
  },
  {
   "cell_type": "code",
   "execution_count": 1,
   "metadata": {},
   "outputs": [],
   "source": [
    "import autoroot\n",
    "import jax\n",
    "import jax.numpy as jnp\n",
    "import kernex as kex\n",
    "import matplotlib.pyplot as plt\n",
    "import seaborn as sns\n",
    "import xarray as xr\n",
    "from jaxtyping import Array\n",
    "import einops\n",
    "import finitediffx as fdx\n",
    "from jaxsw._src.operators.functional import grid as F_grid\n",
    "from jaxsw._src.boundaries import functional as F_bc\n",
    "\n",
    "\n",
    "sns.reset_defaults()\n",
    "sns.set_context(context=\"talk\", font_scale=0.7)\n",
    "jax.config.update(\"jax_enable_x64\", True)\n",
    "\n",
    "%matplotlib inline\n",
    "%load_ext autoreload\n",
    "%autoreload 2"
   ]
  },
  {
   "cell_type": "markdown",
   "metadata": {},
   "source": [
    "## 1-Dimensional"
   ]
  },
  {
   "cell_type": "code",
   "execution_count": 2,
   "metadata": {},
   "outputs": [
    {
     "data": {
      "text/plain": [
       "Array([ 1,  2,  3,  4,  5,  6,  7,  8,  9, 10], dtype=int64)"
      ]
     },
     "execution_count": 2,
     "metadata": {},
     "output_type": "execute_result"
    }
   ],
   "source": [
    "u = jnp.arange(1, 11)\n",
    "u"
   ]
  },
  {
   "cell_type": "markdown",
   "metadata": {},
   "source": [
    "### Padding"
   ]
  },
  {
   "cell_type": "markdown",
   "metadata": {},
   "source": [
    "Inevitably, there are many ways we may want to pad an array. Some examples include:\n",
    "\n",
    "* Symmetric Boundaries\n",
    "* Wrap for periodic conditions"
   ]
  },
  {
   "cell_type": "code",
   "execution_count": 3,
   "metadata": {},
   "outputs": [
    {
     "data": {
      "text/plain": [
       "Array([100,   1,   2,   3,   4,   5,   6,   7,   8,   9,  10, 100], dtype=int64)"
      ]
     },
     "execution_count": 3,
     "metadata": {},
     "output_type": "execute_result"
    }
   ],
   "source": [
    "mode = \"constant\"  # \"linear_ramp\" # \"reflect\" #  \"wrap\" #\"symmetric\" #\n",
    "constant_values = (100, 100)\n",
    "u_pad = jnp.pad(u, pad_width=((1, 1)), mode=mode, constant_values=constant_values)\n",
    "u_pad"
   ]
  },
  {
   "cell_type": "markdown",
   "metadata": {},
   "source": [
    "### Boundary Conditions"
   ]
  },
  {
   "cell_type": "markdown",
   "metadata": {},
   "source": [
    "#### Periodic Boundary Conditions"
   ]
  },
  {
   "cell_type": "code",
   "execution_count": 4,
   "metadata": {},
   "outputs": [
    {
     "data": {
      "text/plain": [
       "Array([10,  1,  2,  3,  4,  5,  6,  7,  8,  9, 10,  1], dtype=int64)"
      ]
     },
     "execution_count": 4,
     "metadata": {},
     "output_type": "execute_result"
    }
   ],
   "source": [
    "mode = \"wrap\"  # \"linear_ramp\" # \"reflect\" #  \"wrap\" #\"symmetric\" #\n",
    "u_periodic = jnp.pad(u, pad_width=((1, 1)), mode=mode)\n",
    "u_periodic"
   ]
  },
  {
   "cell_type": "code",
   "execution_count": 5,
   "metadata": {},
   "outputs": [
    {
     "data": {
      "text/plain": [
       "Array([10,  1,  2,  3,  4,  5,  6,  7,  8,  9, 10,  1], dtype=int64)"
      ]
     },
     "execution_count": 5,
     "metadata": {},
     "output_type": "execute_result"
    }
   ],
   "source": [
    "u_periodic = F_bc.apply_periodic_pad_1D(u)\n",
    "u_periodic"
   ]
  },
  {
   "cell_type": "code",
   "execution_count": 6,
   "metadata": {},
   "outputs": [
    {
     "data": {
      "text/plain": [
       "Array([-9., -4.,  1.,  1.,  1.,  1.,  1.,  1.,  1.,  1., -4., -9.],      dtype=float64)"
      ]
     },
     "execution_count": 6,
     "metadata": {},
     "output_type": "execute_result"
    }
   ],
   "source": [
    "jnp.gradient(u_periodic)"
   ]
  },
  {
   "cell_type": "markdown",
   "metadata": {},
   "source": [
    "#### Neumann Boundaries"
   ]
  },
  {
   "cell_type": "code",
   "execution_count": 7,
   "metadata": {},
   "outputs": [
    {
     "data": {
      "text/plain": [
       "Array([ 1,  1,  2,  3,  4,  5,  6,  7,  8,  9, 10, 10], dtype=int64)"
      ]
     },
     "execution_count": 7,
     "metadata": {},
     "output_type": "execute_result"
    }
   ],
   "source": [
    "u_neumann = jnp.pad(u, pad_width=((1, 1)), mode=\"constant\")\n",
    "u_neumann = u_neumann.at[0].set(u_neumann[1])\n",
    "u_neumann = u_neumann.at[-1].set(u_neumann[-2])\n",
    "u_neumann"
   ]
  },
  {
   "cell_type": "code",
   "execution_count": 8,
   "metadata": {},
   "outputs": [
    {
     "data": {
      "text/plain": [
       "Array([ 1,  1,  2,  3,  4,  5,  6,  7,  8,  9, 10, 10], dtype=int64)"
      ]
     },
     "execution_count": 8,
     "metadata": {},
     "output_type": "execute_result"
    }
   ],
   "source": [
    "u_neumann = F_bc.apply_neumann_pad_1D(u)\n",
    "u_neumann"
   ]
  },
  {
   "cell_type": "code",
   "execution_count": 9,
   "metadata": {},
   "outputs": [
    {
     "data": {
      "text/plain": [
       "Array([0. , 0.5, 1. , 1. , 1. , 1. , 1. , 1. , 1. , 1. , 0.5, 0. ],      dtype=float64)"
      ]
     },
     "execution_count": 9,
     "metadata": {},
     "output_type": "execute_result"
    }
   ],
   "source": [
    "jnp.gradient(u_neumann)"
   ]
  },
  {
   "cell_type": "markdown",
   "metadata": {},
   "source": [
    "#### Dirichlet Boundaries"
   ]
  },
  {
   "cell_type": "markdown",
   "metadata": {},
   "source": [
    "**EDFES**"
   ]
  },
  {
   "cell_type": "code",
   "execution_count": 10,
   "metadata": {},
   "outputs": [
    {
     "data": {
      "text/plain": [
       "Array([ -1,   1,   2,   3,   4,   5,   6,   7,   8,   9,  10, -10], dtype=int64)"
      ]
     },
     "execution_count": 10,
     "metadata": {},
     "output_type": "execute_result"
    }
   ],
   "source": [
    "# pad the array with empty values\n",
    "u_dirichlet = jnp.pad(u, pad_width=((1, 1)), mode=\"empty\")\n",
    "\n",
    "# modify values manually\n",
    "u_dirichlet = u_dirichlet.at[0].set(-u_dirichlet[1])\n",
    "u_dirichlet = u_dirichlet.at[-1].set(-u_dirichlet[-2])\n",
    "\n",
    "u_dirichlet"
   ]
  },
  {
   "cell_type": "code",
   "execution_count": 11,
   "metadata": {},
   "outputs": [
    {
     "data": {
      "text/plain": [
       "Array([ -1,   1,   2,   3,   4,   5,   6,   7,   8,   9,  10, -10], dtype=int64)"
      ]
     },
     "execution_count": 11,
     "metadata": {},
     "output_type": "execute_result"
    }
   ],
   "source": [
    "u_dirichlet = F_bc.apply_dirichlet_pad_edge_1D(u)\n",
    "u_dirichlet"
   ]
  },
  {
   "cell_type": "code",
   "execution_count": 12,
   "metadata": {},
   "outputs": [
    {
     "data": {
      "text/plain": [
       "Array([  2. ,   1.5,   1. ,   1. ,   1. ,   1. ,   1. ,   1. ,   1. ,\n",
       "         1. ,  -9.5, -20. ], dtype=float64)"
      ]
     },
     "execution_count": 12,
     "metadata": {},
     "output_type": "execute_result"
    }
   ],
   "source": [
    "jnp.gradient(u_dirichlet)"
   ]
  },
  {
   "cell_type": "markdown",
   "metadata": {},
   "source": [
    "**FACES**"
   ]
  },
  {
   "cell_type": "code",
   "execution_count": 13,
   "metadata": {},
   "outputs": [
    {
     "data": {
      "text/plain": [
       "Array([ 0,  1,  2,  3,  4,  5,  6,  7,  8,  9, 10,  0], dtype=int64)"
      ]
     },
     "execution_count": 13,
     "metadata": {},
     "output_type": "execute_result"
    }
   ],
   "source": [
    "# pad the array with empty values\n",
    "u_dirichlet = jnp.pad(u, pad_width=((1, 1)), mode=\"empty\")\n",
    "\n",
    "# modify values manually\n",
    "u_dirichlet = u_dirichlet.at[0].set(jnp.asarray(0.0, dtype=u_dirichlet.dtype))\n",
    "u_dirichlet = u_dirichlet.at[-1].set(jnp.asarray(0.0, dtype=u_dirichlet.dtype))\n",
    "\n",
    "u_dirichlet"
   ]
  },
  {
   "cell_type": "code",
   "execution_count": 14,
   "metadata": {},
   "outputs": [
    {
     "data": {
      "text/plain": [
       "Array([ 0,  1,  2,  3,  4,  5,  6,  7,  8,  9, 10,  0], dtype=int64)"
      ]
     },
     "execution_count": 14,
     "metadata": {},
     "output_type": "execute_result"
    }
   ],
   "source": [
    "u_dirichlet = F_bc.apply_dirichlet_pad_face_1D(u)\n",
    "u_dirichlet"
   ]
  },
  {
   "cell_type": "code",
   "execution_count": 15,
   "metadata": {},
   "outputs": [
    {
     "data": {
      "text/plain": [
       "Array([  1. ,   1. ,   1. ,   1. ,   1. ,   1. ,   1. ,   1. ,   1. ,\n",
       "         1. ,  -4.5, -10. ], dtype=float64)"
      ]
     },
     "execution_count": 15,
     "metadata": {},
     "output_type": "execute_result"
    }
   ],
   "source": [
    "jnp.gradient(u_dirichlet)"
   ]
  },
  {
   "cell_type": "markdown",
   "metadata": {},
   "source": [
    "## Two-Dimensional"
   ]
  },
  {
   "cell_type": "code",
   "execution_count": 16,
   "metadata": {},
   "outputs": [
    {
     "data": {
      "text/plain": [
       "Array([[1, 2, 3, 4, 5],\n",
       "       [1, 2, 3, 4, 5],\n",
       "       [1, 2, 3, 4, 5],\n",
       "       [1, 2, 3, 4, 5],\n",
       "       [1, 2, 3, 4, 5]], dtype=int64)"
      ]
     },
     "execution_count": 16,
     "metadata": {},
     "output_type": "execute_result"
    }
   ],
   "source": [
    "u = jnp.arange(1, 6)\n",
    "u = einops.repeat(u, \"Nx -> Nx Ny\", Ny=5)\n",
    "\n",
    "u.T"
   ]
  },
  {
   "cell_type": "markdown",
   "metadata": {},
   "source": [
    "### Padding"
   ]
  },
  {
   "cell_type": "markdown",
   "metadata": {},
   "source": [
    "Inevitably, there are many ways we may want to pad an array. Some examples include:\n",
    "\n",
    "* Symmetric Boundaries\n",
    "* Wrap for periodic conditions\n",
    "* Ghost Points"
   ]
  },
  {
   "cell_type": "code",
   "execution_count": 17,
   "metadata": {},
   "outputs": [
    {
     "data": {
      "text/plain": [
       "Array([[0, 0, 0, 0, 0, 0, 0],\n",
       "       [0, 1, 1, 1, 1, 1, 0],\n",
       "       [0, 2, 2, 2, 2, 2, 0],\n",
       "       [0, 3, 3, 3, 3, 3, 0],\n",
       "       [0, 4, 4, 4, 4, 4, 0],\n",
       "       [0, 5, 5, 5, 5, 5, 0],\n",
       "       [0, 0, 0, 0, 0, 0, 0]], dtype=int64)"
      ]
     },
     "execution_count": 17,
     "metadata": {},
     "output_type": "execute_result"
    }
   ],
   "source": [
    "mode = \"constant\"  # \"linear_ramp\" # \"reflect\" #  \"wrap\" #\"symmetric\" #\n",
    "constant_values = jnp.nan  # ((100,100), (100, 100))\n",
    "u_pad = jnp.pad(\n",
    "    u, pad_width=((1, 1), (1, 1)), mode=mode, constant_values=constant_values\n",
    ")\n",
    "u_pad"
   ]
  },
  {
   "cell_type": "markdown",
   "metadata": {},
   "source": [
    "### Boundary Conditions"
   ]
  },
  {
   "cell_type": "markdown",
   "metadata": {},
   "source": [
    "#### Periodic Boundary Conditions"
   ]
  },
  {
   "cell_type": "code",
   "execution_count": 18,
   "metadata": {},
   "outputs": [
    {
     "data": {
      "text/plain": [
       "Array([[5, 5, 5, 5, 5, 5, 5],\n",
       "       [1, 1, 1, 1, 1, 1, 1],\n",
       "       [2, 2, 2, 2, 2, 2, 2],\n",
       "       [3, 3, 3, 3, 3, 3, 3],\n",
       "       [4, 4, 4, 4, 4, 4, 4],\n",
       "       [5, 5, 5, 5, 5, 5, 5],\n",
       "       [1, 1, 1, 1, 1, 1, 1]], dtype=int64)"
      ]
     },
     "execution_count": 18,
     "metadata": {},
     "output_type": "execute_result"
    }
   ],
   "source": [
    "mode = \"wrap\"  # \"linear_ramp\" # \"reflect\" #  \"wrap\" #\"symmetric\" #\n",
    "u_periodic = jnp.pad(u, pad_width=((1, 1), (1, 1)), mode=mode)\n",
    "u_periodic"
   ]
  },
  {
   "cell_type": "code",
   "execution_count": 19,
   "metadata": {},
   "outputs": [
    {
     "data": {
      "text/plain": [
       "Array([[5, 5, 5, 5, 5, 5, 5],\n",
       "       [1, 1, 1, 1, 1, 1, 1],\n",
       "       [2, 2, 2, 2, 2, 2, 2],\n",
       "       [3, 3, 3, 3, 3, 3, 3],\n",
       "       [4, 4, 4, 4, 4, 4, 4],\n",
       "       [5, 5, 5, 5, 5, 5, 5],\n",
       "       [1, 1, 1, 1, 1, 1, 1]], dtype=int64)"
      ]
     },
     "execution_count": 19,
     "metadata": {},
     "output_type": "execute_result"
    }
   ],
   "source": [
    "u_periodic = F_bc.apply_periodic_pad_2D(u)\n",
    "u_periodic"
   ]
  },
  {
   "cell_type": "code",
   "execution_count": 20,
   "metadata": {},
   "outputs": [
    {
     "data": {
      "text/plain": [
       "Array([[-4. , -4. , -4. , -4. , -4. , -4. , -4. ],\n",
       "       [-1.5, -1.5, -1.5, -1.5, -1.5, -1.5, -1.5],\n",
       "       [ 1. ,  1. ,  1. ,  1. ,  1. ,  1. ,  1. ],\n",
       "       [ 1. ,  1. ,  1. ,  1. ,  1. ,  1. ,  1. ],\n",
       "       [ 1. ,  1. ,  1. ,  1. ,  1. ,  1. ,  1. ],\n",
       "       [-1.5, -1.5, -1.5, -1.5, -1.5, -1.5, -1.5],\n",
       "       [-4. , -4. , -4. , -4. , -4. , -4. , -4. ]], dtype=float64)"
      ]
     },
     "execution_count": 20,
     "metadata": {},
     "output_type": "execute_result"
    }
   ],
   "source": [
    "jnp.gradient(u_periodic, axis=0)"
   ]
  },
  {
   "cell_type": "code",
   "execution_count": 21,
   "metadata": {},
   "outputs": [
    {
     "data": {
      "text/plain": [
       "Array([[0., 0., 0., 0., 0., 0., 0.],\n",
       "       [0., 0., 0., 0., 0., 0., 0.],\n",
       "       [0., 0., 0., 0., 0., 0., 0.],\n",
       "       [0., 0., 0., 0., 0., 0., 0.],\n",
       "       [0., 0., 0., 0., 0., 0., 0.],\n",
       "       [0., 0., 0., 0., 0., 0., 0.],\n",
       "       [0., 0., 0., 0., 0., 0., 0.]], dtype=float64)"
      ]
     },
     "execution_count": 21,
     "metadata": {},
     "output_type": "execute_result"
    }
   ],
   "source": [
    "jnp.gradient(u_periodic, axis=1)"
   ]
  },
  {
   "cell_type": "markdown",
   "metadata": {},
   "source": [
    "#### Neumann Boundaries"
   ]
  },
  {
   "cell_type": "code",
   "execution_count": 22,
   "metadata": {},
   "outputs": [],
   "source": [
    "# F_bc.apply_dirichlet_x??\n",
    "# F_bc.apply_dirichlet_y??"
   ]
  },
  {
   "cell_type": "code",
   "execution_count": 23,
   "metadata": {},
   "outputs": [
    {
     "data": {
      "text/plain": [
       "Array([[1, 1, 1, 1, 1, 1, 1],\n",
       "       [1, 1, 1, 1, 1, 1, 1],\n",
       "       [2, 2, 2, 2, 2, 2, 2],\n",
       "       [3, 3, 3, 3, 3, 3, 3],\n",
       "       [4, 4, 4, 4, 4, 4, 4],\n",
       "       [5, 5, 5, 5, 5, 5, 5],\n",
       "       [5, 5, 5, 5, 5, 5, 5]], dtype=int64)"
      ]
     },
     "execution_count": 23,
     "metadata": {},
     "output_type": "execute_result"
    }
   ],
   "source": [
    "u_neumann = jnp.pad(u, pad_width=((1, 1), (1, 1)), mode=\"constant\")\n",
    "u_neumann = F_bc.apply_neumann_y(F_bc.apply_neumann_x(u_neumann))\n",
    "u_neumann"
   ]
  },
  {
   "cell_type": "code",
   "execution_count": 24,
   "metadata": {},
   "outputs": [
    {
     "data": {
      "text/plain": [
       "Array([[1, 1, 1, 1, 1, 1, 1],\n",
       "       [1, 1, 1, 1, 1, 1, 1],\n",
       "       [2, 2, 2, 2, 2, 2, 2],\n",
       "       [3, 3, 3, 3, 3, 3, 3],\n",
       "       [4, 4, 4, 4, 4, 4, 4],\n",
       "       [5, 5, 5, 5, 5, 5, 5],\n",
       "       [5, 5, 5, 5, 5, 5, 5]], dtype=int64)"
      ]
     },
     "execution_count": 24,
     "metadata": {},
     "output_type": "execute_result"
    }
   ],
   "source": [
    "u_neumann = F_bc.apply_neumann_pad_2D(u)\n",
    "u_neumann"
   ]
  },
  {
   "cell_type": "code",
   "execution_count": 25,
   "metadata": {},
   "outputs": [
    {
     "data": {
      "text/plain": [
       "Array([[0. , 0. , 0. , 0. , 0. , 0. , 0. ],\n",
       "       [0.5, 0.5, 0.5, 0.5, 0.5, 0.5, 0.5],\n",
       "       [1. , 1. , 1. , 1. , 1. , 1. , 1. ],\n",
       "       [1. , 1. , 1. , 1. , 1. , 1. , 1. ],\n",
       "       [1. , 1. , 1. , 1. , 1. , 1. , 1. ],\n",
       "       [0.5, 0.5, 0.5, 0.5, 0.5, 0.5, 0.5],\n",
       "       [0. , 0. , 0. , 0. , 0. , 0. , 0. ]], dtype=float64)"
      ]
     },
     "execution_count": 25,
     "metadata": {},
     "output_type": "execute_result"
    }
   ],
   "source": [
    "jnp.gradient(u_neumann, axis=0)"
   ]
  },
  {
   "cell_type": "code",
   "execution_count": 26,
   "metadata": {},
   "outputs": [
    {
     "data": {
      "text/plain": [
       "Array([[0., 0., 0., 0., 0., 0., 0.],\n",
       "       [0., 0., 0., 0., 0., 0., 0.],\n",
       "       [0., 0., 0., 0., 0., 0., 0.],\n",
       "       [0., 0., 0., 0., 0., 0., 0.],\n",
       "       [0., 0., 0., 0., 0., 0., 0.],\n",
       "       [0., 0., 0., 0., 0., 0., 0.],\n",
       "       [0., 0., 0., 0., 0., 0., 0.]], dtype=float64)"
      ]
     },
     "execution_count": 26,
     "metadata": {},
     "output_type": "execute_result"
    }
   ],
   "source": [
    "jnp.gradient(u_neumann, axis=1)"
   ]
  },
  {
   "cell_type": "markdown",
   "metadata": {},
   "source": [
    "#### Dirichlet Boundaries"
   ]
  },
  {
   "cell_type": "code",
   "execution_count": 27,
   "metadata": {},
   "outputs": [
    {
     "data": {
      "text/plain": [
       "Array([[1, 1, 1, 1, 1, 1, 1],\n",
       "       [1, 1, 1, 1, 1, 1, 1],\n",
       "       [2, 2, 2, 2, 2, 2, 2],\n",
       "       [3, 3, 3, 3, 3, 3, 3],\n",
       "       [4, 4, 4, 4, 4, 4, 4],\n",
       "       [5, 5, 5, 5, 5, 5, 5],\n",
       "       [5, 5, 5, 5, 5, 5, 5]], dtype=int64)"
      ]
     },
     "execution_count": 27,
     "metadata": {},
     "output_type": "execute_result"
    }
   ],
   "source": [
    "jnp.pad(u, pad_width=((1, 1), (1, 1)), mode=\"symmetric\", reflect_type=\"odd\")"
   ]
  },
  {
   "cell_type": "markdown",
   "metadata": {},
   "source": [
    "**Edges**"
   ]
  },
  {
   "cell_type": "code",
   "execution_count": 28,
   "metadata": {},
   "outputs": [
    {
     "data": {
      "text/plain": [
       "Array([[ 1, -1, -1, -1, -1, -1,  1],\n",
       "       [-1,  1,  1,  1,  1,  1, -1],\n",
       "       [-2,  2,  2,  2,  2,  2, -2],\n",
       "       [-3,  3,  3,  3,  3,  3, -3],\n",
       "       [-4,  4,  4,  4,  4,  4, -4],\n",
       "       [-5,  5,  5,  5,  5,  5, -5],\n",
       "       [ 5, -5, -5, -5, -5, -5,  5]], dtype=int64)"
      ]
     },
     "execution_count": 28,
     "metadata": {},
     "output_type": "execute_result"
    }
   ],
   "source": [
    "# pad the array with empty values\n",
    "u_dirichlet = jnp.pad(u, pad_width=((1, 1), (1, 1)), mode=\"empty\")\n",
    "\n",
    "# modify values manually\n",
    "u_dirichlet = F_bc.apply_dirichlet_y_edge(F_bc.apply_dirichlet_x_edge(u_dirichlet))\n",
    "\n",
    "u_dirichlet"
   ]
  },
  {
   "cell_type": "code",
   "execution_count": 29,
   "metadata": {},
   "outputs": [
    {
     "data": {
      "text/plain": [
       "Array([[ 1, -1, -1, -1, -1, -1,  1],\n",
       "       [-1,  1,  1,  1,  1,  1, -1],\n",
       "       [-2,  2,  2,  2,  2,  2, -2],\n",
       "       [-3,  3,  3,  3,  3,  3, -3],\n",
       "       [-4,  4,  4,  4,  4,  4, -4],\n",
       "       [-5,  5,  5,  5,  5,  5, -5],\n",
       "       [ 5, -5, -5, -5, -5, -5,  5]], dtype=int64)"
      ]
     },
     "execution_count": 29,
     "metadata": {},
     "output_type": "execute_result"
    }
   ],
   "source": [
    "u_dirichlet = F_bc.apply_dirichlet_pad_edge_2D(u)\n",
    "u_dirichlet"
   ]
  },
  {
   "cell_type": "code",
   "execution_count": 30,
   "metadata": {},
   "outputs": [
    {
     "data": {
      "text/plain": [
       "Array([[ -2. ,   2. ,   2. ,   2. ,   2. ,   2. ,  -2. ],\n",
       "       [ -1.5,   1.5,   1.5,   1.5,   1.5,   1.5,  -1.5],\n",
       "       [ -1. ,   1. ,   1. ,   1. ,   1. ,   1. ,  -1. ],\n",
       "       [ -1. ,   1. ,   1. ,   1. ,   1. ,   1. ,  -1. ],\n",
       "       [ -1. ,   1. ,   1. ,   1. ,   1. ,   1. ,  -1. ],\n",
       "       [  4.5,  -4.5,  -4.5,  -4.5,  -4.5,  -4.5,   4.5],\n",
       "       [ 10. , -10. , -10. , -10. , -10. , -10. ,  10. ]], dtype=float64)"
      ]
     },
     "execution_count": 30,
     "metadata": {},
     "output_type": "execute_result"
    }
   ],
   "source": [
    "jnp.gradient(u_dirichlet, axis=0)"
   ]
  },
  {
   "cell_type": "code",
   "execution_count": 31,
   "metadata": {},
   "outputs": [
    {
     "data": {
      "text/plain": [
       "Array([[ -2.,  -1.,   0.,   0.,   0.,   1.,   2.],\n",
       "       [  2.,   1.,   0.,   0.,   0.,  -1.,  -2.],\n",
       "       [  4.,   2.,   0.,   0.,   0.,  -2.,  -4.],\n",
       "       [  6.,   3.,   0.,   0.,   0.,  -3.,  -6.],\n",
       "       [  8.,   4.,   0.,   0.,   0.,  -4.,  -8.],\n",
       "       [ 10.,   5.,   0.,   0.,   0.,  -5., -10.],\n",
       "       [-10.,  -5.,   0.,   0.,   0.,   5.,  10.]], dtype=float64)"
      ]
     },
     "execution_count": 31,
     "metadata": {},
     "output_type": "execute_result"
    }
   ],
   "source": [
    "jnp.gradient(u_dirichlet, axis=1)"
   ]
  },
  {
   "cell_type": "markdown",
   "metadata": {},
   "source": [
    "**FACES**"
   ]
  },
  {
   "cell_type": "code",
   "execution_count": 32,
   "metadata": {},
   "outputs": [
    {
     "data": {
      "text/plain": [
       "Array([[0, 0, 0, 0, 0, 0, 0],\n",
       "       [0, 1, 1, 1, 1, 1, 0],\n",
       "       [0, 2, 2, 2, 2, 2, 0],\n",
       "       [0, 3, 3, 3, 3, 3, 0],\n",
       "       [0, 4, 4, 4, 4, 4, 0],\n",
       "       [0, 5, 5, 5, 5, 5, 0],\n",
       "       [0, 0, 0, 0, 0, 0, 0]], dtype=int64)"
      ]
     },
     "execution_count": 32,
     "metadata": {},
     "output_type": "execute_result"
    }
   ],
   "source": [
    "# pad the array with empty values\n",
    "u_dirichlet = jnp.pad(u, pad_width=((1, 1), (1, 1)), mode=\"empty\")\n",
    "\n",
    "# modify values manually\n",
    "u_dirichlet = F_bc.apply_dirichlet_y_face(F_bc.apply_dirichlet_x_face(u_dirichlet))\n",
    "\n",
    "u_dirichlet"
   ]
  },
  {
   "cell_type": "code",
   "execution_count": 33,
   "metadata": {},
   "outputs": [
    {
     "data": {
      "text/plain": [
       "Array([[0, 0, 0, 0, 0, 0, 0],\n",
       "       [0, 1, 1, 1, 1, 1, 0],\n",
       "       [0, 2, 2, 2, 2, 2, 0],\n",
       "       [0, 3, 3, 3, 3, 3, 0],\n",
       "       [0, 4, 4, 4, 4, 4, 0],\n",
       "       [0, 5, 5, 5, 5, 5, 0],\n",
       "       [0, 0, 0, 0, 0, 0, 0]], dtype=int64)"
      ]
     },
     "execution_count": 33,
     "metadata": {},
     "output_type": "execute_result"
    }
   ],
   "source": [
    "u_dirichlet = F_bc.apply_dirichlet_pad_face_2D(u)\n",
    "u_dirichlet"
   ]
  },
  {
   "cell_type": "code",
   "execution_count": 34,
   "metadata": {},
   "outputs": [
    {
     "data": {
      "text/plain": [
       "Array([[ 0.,  1.,  1.,  1.,  1.,  1.,  0.],\n",
       "       [ 0.,  1.,  1.,  1.,  1.,  1.,  0.],\n",
       "       [ 0.,  1.,  1.,  1.,  1.,  1.,  0.],\n",
       "       [ 0.,  1.,  1.,  1.,  1.,  1.,  0.],\n",
       "       [ 0.,  1.,  1.,  1.,  1.,  1.,  0.],\n",
       "       [ 0., -2., -2., -2., -2., -2.,  0.],\n",
       "       [ 0., -5., -5., -5., -5., -5.,  0.]], dtype=float64)"
      ]
     },
     "execution_count": 34,
     "metadata": {},
     "output_type": "execute_result"
    }
   ],
   "source": [
    "jnp.gradient(u_dirichlet, axis=0)"
   ]
  },
  {
   "cell_type": "code",
   "execution_count": 35,
   "metadata": {},
   "outputs": [
    {
     "data": {
      "text/plain": [
       "Array([[ 0. ,  0. ,  0. ,  0. ,  0. ,  0. ,  0. ],\n",
       "       [ 1. ,  0.5,  0. ,  0. ,  0. , -0.5, -1. ],\n",
       "       [ 2. ,  1. ,  0. ,  0. ,  0. , -1. , -2. ],\n",
       "       [ 3. ,  1.5,  0. ,  0. ,  0. , -1.5, -3. ],\n",
       "       [ 4. ,  2. ,  0. ,  0. ,  0. , -2. , -4. ],\n",
       "       [ 5. ,  2.5,  0. ,  0. ,  0. , -2.5, -5. ],\n",
       "       [ 0. ,  0. ,  0. ,  0. ,  0. ,  0. ,  0. ]], dtype=float64)"
      ]
     },
     "execution_count": 35,
     "metadata": {},
     "output_type": "execute_result"
    }
   ],
   "source": [
    "jnp.gradient(u_dirichlet, axis=1)"
   ]
  },
  {
   "cell_type": "code",
   "execution_count": null,
   "metadata": {},
   "outputs": [],
   "source": []
  }
 ],
 "metadata": {
  "kernelspec": {
   "display_name": "Python 3 (ipykernel)",
   "language": "python",
   "name": "python3"
  },
  "language_info": {
   "codemirror_mode": {
    "name": "ipython",
    "version": 3
   },
   "file_extension": ".py",
   "mimetype": "text/x-python",
   "name": "python",
   "nbconvert_exporter": "python",
   "pygments_lexer": "ipython3",
   "version": "3.10.8"
  }
 },
 "nbformat": 4,
 "nbformat_minor": 4
}
