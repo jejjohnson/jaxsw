{
 "cells": [
  {
   "attachments": {},
   "cell_type": "markdown",
   "metadata": {
    "tags": [],
    "user_expressions": []
   },
   "source": [
    "# 1D Linear Convection\n",
    "<!-- ---\n",
    "title: 1D Linear Convection\n",
    "suptitle: Time Steppers with JAX\n",
    "short_title: Linear Convection\n",
    "date: 2023-02-21\n",
    "authors:\n",
    "  - name: J. Emmanuel Johnson\n",
    "    affiliations:\n",
    "      - MEOM Lab\n",
    "    roles:\n",
    "      - Primary Programmer\n",
    "    email: jemanjohnson34@gmail.com\n",
    "license: CC-BY-4.0\n",
    "keywords: PDE, ODE, TimeStepper, Diffrax\n",
    "--- -->"
   ]
  },
  {
   "attachments": {},
   "cell_type": "markdown",
   "metadata": {
    "user_expressions": []
   },
   "source": [
    "> In the previous tutorial, we broke up all of the pieces into abstract concepts. We also looked at how to jax-ify all the things by creating functions for all of the bits and pieces; ranging from the domain definition to the stepper. In this tutorial, we will repeat the same procedure but define some `pytree` objects which we will operator. Many times, we need more than just the array values. There is a lot of auxillary information including stuff about the domain.\n"
   ]
  },
  {
   "cell_type": "code",
   "execution_count": 1,
   "metadata": {
    "tags": []
   },
   "outputs": [],
   "source": [
    "import autoroot\n",
    "import jax\n",
    "import jax.numpy as jnp\n",
    "import numpy as np\n",
    "import jaxdf\n",
    "import kernex as kex\n",
    "import finitediffx as fdx\n",
    "import diffrax as dfx\n",
    "import xarray as xr\n",
    "import matplotlib.pyplot as plt\n",
    "import seaborn as sns\n",
    "from jaxtyping import Float, Array\n",
    "\n",
    "sns.reset_defaults()\n",
    "sns.set_context(context=\"talk\", font_scale=0.7)\n",
    "jax.config.update(\"jax_enable_x64\", True)\n",
    "\n",
    "%matplotlib inline\n",
    "%load_ext autoreload\n",
    "%autoreload 2"
   ]
  },
  {
   "attachments": {},
   "cell_type": "markdown",
   "metadata": {
    "user_expressions": []
   },
   "source": [
    "## Recall: PDE - 1D Linear Convection"
   ]
  },
  {
   "attachments": {},
   "cell_type": "markdown",
   "metadata": {
    "user_expressions": []
   },
   "source": [
    "Let's continue from the previous tutorial. Recall, we are working with a 1D Linear Convection scheme:\n",
    "\n",
    "$$\n",
    "\\frac{\\partial u}{\\partial t} + c \\frac{\\partial u}{\\partial x} = 0\n",
    "$$ (pde)\n",
    "\n",
    "For the PDE {eq}`pde`, we are going to do a backwards difference discretization in space and a forwards in time."
   ]
  },
  {
   "attachments": {},
   "cell_type": "markdown",
   "metadata": {
    "user_expressions": []
   },
   "source": [
    "### Spatial Domain\n",
    "\n",
    "We define our spatial discretization as:\n",
    "\n",
    "$$\n",
    "x \\in \\Omega \\sub \\mathbb{R}^{D}\n",
    "$$ (spatial_d)\n",
    "\n",
    "Where:\n",
    "\n",
    "* $\\mathbb{R}^D$ - the space of coordinates, e.g. Euclidean, Spherical, and the size, e.g. scalar, vector, etc\n",
    "* $\\Omega$ - the domain and discretization\n",
    "\n",
    "For this problem our domain bounds are $[0.0, 2.0]$ and our time step is $\\Delta x\\sim 0.04$.\n"
   ]
  },
  {
   "cell_type": "code",
   "execution_count": 2,
   "metadata": {},
   "outputs": [],
   "source": [
    "from jaxsw._src.domain.base import Domain"
   ]
  },
  {
   "attachments": {},
   "cell_type": "markdown",
   "metadata": {
    "tags": [],
    "user_expressions": []
   },
   "source": [
    "There are a few ways to initialize the domain. Here are a few:\n",
    "\n",
    "* Define the number of values and the step\n",
    "* Define the start/end points and the number of values\n"
   ]
  },
  {
   "cell_type": "code",
   "execution_count": 6,
   "metadata": {},
   "outputs": [
    {
     "name": "stdout",
     "output_type": "stream",
     "text": [
      "Size: (50,)\n",
      "nDims: 1\n",
      "Grid Size: (50, 1)\n",
      "Cell Volume: 0.04\n",
      "dx: (0.04,)\n"
     ]
    }
   ],
   "source": [
    "xmin = 0.0\n",
    "xmax = 2.0\n",
    "nx = 51\n",
    "\n",
    "\n",
    "domain = Domain.from_numpoints(xmin=(xmin,), xmax=(xmax,), N=(nx,))\n",
    "print(f\"Size: {domain.size}\")\n",
    "print(f\"nDims: {domain.ndim}\")\n",
    "print(f\"Grid Size: {domain.grid.shape}\")\n",
    "print(f\"Cell Volume: {domain.cell_volume}\")\n",
    "print(f\"dx: {domain.dx}\")"
   ]
  },
  {
   "attachments": {},
   "cell_type": "markdown",
   "metadata": {
    "tags": [],
    "user_expressions": []
   },
   "source": [
    "### Initial Condition\n",
    "\n",
    "We said that the initial condition is actually a function which operates on a discretized domain $\\Omega$.\n",
    "\n",
    "\n",
    "$$\n",
    "\\mathcal{IC}[u](x,0) = \n",
    "\\begin{cases}\n",
    "2 & \\text{where } 0.5 \\leq x \\leq 1,\\\\\n",
    "1 & \\text{everywhere else in } (0,2) \\\\\n",
    "\\end{cases}\n",
    "$$ (ic)\n",
    "\n",
    "In practical terms, we need to initialize our state, $u$, based on the domain and discretization, $\\Omega$.\n",
    "\n",
    "$$\n",
    "\\mathcal{IC}[u](x,0):= \\boldsymbol{IC}(\\Omega, x)\n",
    "$$ (ic_practical)"
   ]
  },
  {
   "cell_type": "code",
   "execution_count": 7,
   "metadata": {},
   "outputs": [],
   "source": [
    "from jaxsw._src.models.pde import DynamicalSystem\n",
    "from jaxsw._src.fields.base import Field"
   ]
  },
  {
   "cell_type": "code",
   "execution_count": 8,
   "metadata": {},
   "outputs": [],
   "source": [
    "def init_u0(domain):\n",
    "    \"\"\"Initial condition from grid\"\"\"\n",
    "    u = jnp.ones_like(domain.grid, dtype=jnp.float64)\n",
    "\n",
    "    u = u.at[int(0.5 / domain.dx[0]) : int(1 / domain.dx[0] + 1)].set(2.0)\n",
    "    return u"
   ]
  },
  {
   "cell_type": "code",
   "execution_count": 9,
   "metadata": {},
   "outputs": [],
   "source": [
    "u_init = init_u0(domain)"
   ]
  },
  {
   "attachments": {},
   "cell_type": "markdown",
   "metadata": {
    "user_expressions": []
   },
   "source": [
    "### Boundary Conditions\n",
    "\n",
    "For the boundary conditions, this is another function that is dependent upon the domain and discretization. It can be defined as:\n",
    "\n",
    "$$\n",
    "\\mathcal{BC}[u](x, t) = 1.0, \\hspace{10mm} x\\in\\partial\\Omega \\hspace{3mm} t\\in\\mathcal{T}\n",
    "$$ (bc)\n",
    "\n",
    "\n",
    "In practical terms, we want to apply some function, $\\boldsymbol{b}$, which modifies our state, $u$, at the coordinates along the boundaries of the domain, i.e. $x \\in \\partial\\Omega$. In our case it is constant. But we can easily think of strategies where it is an actual function."
   ]
  },
  {
   "cell_type": "code",
   "execution_count": 10,
   "metadata": {},
   "outputs": [],
   "source": [
    "def bc_fn(u: Float[Array, \"D\"]) -> Float[Array, \"D\"]:\n",
    "    u = u.at[0].set(1.0)\n",
    "\n",
    "    u = u.at[-1].set(1.0)\n",
    "\n",
    "    return u"
   ]
  },
  {
   "cell_type": "code",
   "execution_count": 11,
   "metadata": {},
   "outputs": [],
   "source": [
    "u_out = bc_fn(u_init)"
   ]
  },
  {
   "attachments": {},
   "cell_type": "markdown",
   "metadata": {
    "user_expressions": []
   },
   "source": [
    "### Differential Operators\n",
    "\n",
    "We identified the differential operators, $\\mathcal{N}[\\cdot;\\boldsymbol{\\theta}]$ on the RHS of the equation. In this case, we used the backwards time finite difference method because this is a convection scheme. There are (hyper)-parameters, $\\boldsymbol{\\theta}$, in every differential operator because there are possibly (ad-hoc) decisions that one must make for all discretizations, e.g. finite difference schem (backwards, forwards, central) and stencil order. \n",
    "\n",
    "The 1st order backwards difference is defined as:\n",
    "\n",
    "$$\n",
    "\\mathcal{N}[u](x) := D^-(x)=\\frac{1}{\\Delta x}\\left( u_{i}-u_{i-1}^n \\right)\n",
    "$$ (bd)\n",
    "\n",
    "We showcased how we can use the stencil operator as a way to handle finite differences instead of the messy slicing operations. (Tutorial on this soon!)"
   ]
  },
  {
   "cell_type": "code",
   "execution_count": 12,
   "metadata": {},
   "outputs": [],
   "source": [
    "du_dx = fdx.difference(\n",
    "    u_init, axis=0, step_size=domain.dx[0], method=\"backward\", accuracy=1\n",
    ")"
   ]
  },
  {
   "cell_type": "code",
   "execution_count": 13,
   "metadata": {},
   "outputs": [
    {
     "data": {
      "image/png": "[encoded data removed]",
      "text/plain": [
       "<Figure size 640x480 with 1 Axes>"
      ]
     },
     "metadata": {},
     "output_type": "display_data"
    }
   ],
   "source": [
    "fig, ax = plt.subplots()\n",
    "\n",
    "ax.plot(u_init, label=\"Convolution\")\n",
    "ax.plot(-du_dx[..., 0], label=\"Slicing\")\n",
    "\n",
    "plt.legend()\n",
    "plt.show()"
   ]
  },
  {
   "attachments": {},
   "cell_type": "markdown",
   "metadata": {
    "user_expressions": []
   },
   "source": [
    "### Right Hand Side\n",
    "\n",
    "Now, this is the ultimate part that glues the differential operators and the boundary conditions together.\n",
    "\n",
    "$$\n",
    "\\begin{aligned}\n",
    "\\mathcal{F}[u] &= - c \\cdot \\mathcal{N}_\\text{BackDiff}[u;\\boldsymbol{\\theta}](x) \\hspace{10mm} x\\in\\Omega\n",
    "\\end{aligned}\n",
    "$$ (rhs_complete)\n",
    "\n",
    "We dump all of this within the function to define our RHS function."
   ]
  },
  {
   "cell_type": "code",
   "execution_count": 14,
   "metadata": {},
   "outputs": [],
   "source": [
    "from jaxsw._src.models.pde import DynamicalSystem\n",
    "from jaxsw._src.domain.time import TimeDomain\n",
    "from jaxsw._src.operators.functional import advection"
   ]
  },
  {
   "cell_type": "code",
   "execution_count": 16,
   "metadata": {},
   "outputs": [],
   "source": [
    "c = 1.0\n",
    "\n",
    "\n",
    "class LinearAdvection1D(DynamicalSystem):\n",
    "    @staticmethod\n",
    "    def equation_of_motion(t: float, u: Array, args) -> Array:\n",
    "        # u = bc_fn(u)\n",
    "\n",
    "        c, domain = args\n",
    "\n",
    "        rhs = advection.advection_1D(u, a=c, step_size=domain.dx[0], axis=0, accuracy=1)\n",
    "        # rhs = fd_backwards(u, step_size=domain.dx[0])\n",
    "        # rhs = fd_backwards_kernel(u, step_size=domain.dx[0], stencil=stencil, nodes=nodes)\n",
    "\n",
    "        return -rhs"
   ]
  },
  {
   "cell_type": "code",
   "execution_count": 17,
   "metadata": {},
   "outputs": [
    {
     "data": {
      "text/plain": [
       "(50, 1)"
      ]
     },
     "execution_count": 17,
     "metadata": {},
     "output_type": "execute_result"
    }
   ],
   "source": [
    "out = LinearAdvection1D.equation_of_motion(0, u_init, (c, domain))\n",
    "out.shape"
   ]
  },
  {
   "cell_type": "code",
   "execution_count": 18,
   "metadata": {},
   "outputs": [
    {
     "data": {
      "image/png": "[encoded data removed]",
      "text/plain": [
       "<Figure size 640x480 with 1 Axes>"
      ]
     },
     "metadata": {},
     "output_type": "display_data"
    }
   ],
   "source": [
    "fig, ax = plt.subplots()\n",
    "\n",
    "ax.plot(u_init)\n",
    "ax.plot(-out[..., 0])\n",
    "plt.show()"
   ]
  },
  {
   "attachments": {},
   "cell_type": "markdown",
   "metadata": {
    "user_expressions": []
   },
   "source": [
    "## Time Stepping\n",
    "\n",
    "So in the previous tutorial, we talked about the step function but let's pause for a moment and rethink. The step function is actually a combination of two things:\n",
    "\n",
    "1. The RHS which includes the spatial derivatives.\n",
    "2. The time stepping scheme\n",
    "\n",
    "We have already taken care of the spatial derivatives in the previous step. So looking again at equations {eq}`pde` and {eq}`discretization_full`, we write the half step in between them.\n",
    "\n",
    "$$\n",
    "\\partial_t u = - c \\frac{1}{\\Delta x}\\left( u_{i}-u_{i-1}^n \\right)\n",
    "$$ (pde_spatial_discretization)\n",
    "\n",
    "where we have the RHS as defined in equation {eq}`rhs_complete` but we *did not* write the time stepping scheme for Euler. Instead, we're going to offset this to another library called `diffrax`."
   ]
  },
  {
   "attachments": {},
   "cell_type": "markdown",
   "metadata": {
    "user_expressions": []
   },
   "source": [
    "### Temporal Domain\n",
    "\n",
    "We define our temporal discretization as:\n",
    "\n",
    "$$\n",
    "t \\in \\mathcal{T} \\sub \\mathbb{R}^+\n",
    "$$ (time_d)\n",
    "\n",
    "where the space time coordinates are bounded by $\\mathcal{T}=[0,T]$. For our problem, it is bounded between $[0.0, 0.5]$. Recall, the time step was calculated from the CFL condition given by\n",
    "\n",
    "$$\n",
    "\\Delta t = \\frac{\\sigma\\Delta x}{c} \\leq 1\n",
    "$$ (cfl_advection_dt)\n",
    "\n"
   ]
  },
  {
   "cell_type": "code",
   "execution_count": 19,
   "metadata": {},
   "outputs": [],
   "source": [
    "# SPATIAL DISCRETIZATION\n",
    "u_init = init_u0(domain)\n",
    "\n",
    "# TEMPORAL DISCRETIZATION\n",
    "# initialize temporal domain\n",
    "t0 = 0.0\n",
    "tmax = 0.5\n",
    "\n",
    "\n",
    "# CFL condition\n",
    "def cfl_cond(dx, c, sigma):\n",
    "    assert sigma <= 1.0\n",
    "    return (sigma * dx) / c\n",
    "\n",
    "\n",
    "# temporal parameters\n",
    "c = 1.0\n",
    "sigma = 0.2\n",
    "dt = cfl_cond(dx=domain.dx[0], c=c, sigma=sigma)\n",
    "\n",
    "t_domain = TimeDomain(tmin=0.0, tmax=0.5, dt=dt)\n",
    "ts = jnp.linspace(t0, tmax, 25)\n",
    "saveat = dfx.SaveAt(ts=ts)\n",
    "\n",
    "# DYNAMICAL SYSTEM\n",
    "dyn_model = LinearAdvection1D(\n",
    "    t_domain=t_domain,\n",
    "    saveat=saveat,\n",
    ")"
   ]
  },
  {
   "cell_type": "code",
   "execution_count": 20,
   "metadata": {},
   "outputs": [
    {
     "data": {
      "text/plain": [
       "((25, 50, 1), (25,))"
      ]
     },
     "execution_count": 20,
     "metadata": {},
     "output_type": "execute_result"
    }
   ],
   "source": [
    "# Euler, Constant StepSize\n",
    "solver = dfx.Euler()\n",
    "stepsize_controller = dfx.ConstantStepSize()\n",
    "\n",
    "\n",
    "sol = dfx.diffeqsolve(\n",
    "    terms=dfx.ODETerm(dyn_model.equation_of_motion),\n",
    "    solver=solver,\n",
    "    t0=ts.min(),\n",
    "    t1=ts.max(),\n",
    "    dt0=dt,\n",
    "    y0=u_init,\n",
    "    saveat=saveat,\n",
    "    args=(c, domain),\n",
    "    stepsize_controller=stepsize_controller,\n",
    ")\n",
    "\n",
    "sol.ys.shape, sol.ts.shape"
   ]
  },
  {
   "attachments": {},
   "cell_type": "markdown",
   "metadata": {},
   "source": [
    "## Analysis"
   ]
  },
  {
   "cell_type": "code",
   "execution_count": 21,
   "metadata": {},
   "outputs": [
    {
     "data": {
      "text/html": [
       "<div><svg style=\"position: absolute; width: 0; height: 0; overflow: hidden\">\n",
       "<defs>\n",
       "<symbol id=\"icon-database\" viewBox=\"0 0 32 32\">\n",
       "<path d=\"M16 0c-8.837 0-16 2.239-16 5v4c0 2.761 7.163 5 16 5s16-2.239 16-5v-4c0-2.761-7.163-5-16-5z\"></path>\n",
       "<path d=\"M16 17c-8.837 0-16-2.239-16-5v6c0 2.761 7.163 5 16 5s16-2.239 16-5v-6c0 2.761-7.163 5-16 5z\"></path>\n",
       "<path d=\"M16 26c-8.837 0-16-2.239-16-5v6c0 2.761 7.163 5 16 5s16-2.239 16-5v-6c0 2.761-7.163 5-16 5z\"></path>\n",
       "</symbol>\n",
       "<symbol id=\"icon-file-text2\" viewBox=\"0 0 32 32\">\n",
       "<path d=\"M28.681 7.159c-0.694-0.947-1.662-2.053-2.724-3.116s-2.169-2.030-3.116-2.724c-1.612-1.182-2.393-1.319-2.841-1.319h-15.5c-1.378 0-2.5 1.121-2.5 2.5v27c0 1.378 1.122 2.5 2.5 2.5h23c1.378 0 2.5-1.122 2.5-2.5v-19.5c0-0.448-0.137-1.23-1.319-2.841zM24.543 5.457c0.959 0.959 1.712 1.825 2.268 2.543h-4.811v-4.811c0.718 0.556 1.584 1.309 2.543 2.268zM28 29.5c0 0.271-0.229 0.5-0.5 0.5h-23c-0.271 0-0.5-0.229-0.5-0.5v-27c0-0.271 0.229-0.5 0.5-0.5 0 0 15.499-0 15.5 0v7c0 0.552 0.448 1 1 1h7v19.5z\"></path>\n",
       "<path d=\"M23 26h-14c-0.552 0-1-0.448-1-1s0.448-1 1-1h14c0.552 0 1 0.448 1 1s-0.448 1-1 1z\"></path>\n",
       "<path d=\"M23 22h-14c-0.552 0-1-0.448-1-1s0.448-1 1-1h14c0.552 0 1 0.448 1 1s-0.448 1-1 1z\"></path>\n",
       "<path d=\"M23 18h-14c-0.552 0-1-0.448-1-1s0.448-1 1-1h14c0.552 0 1 0.448 1 1s-0.448 1-1 1z\"></path>\n",
       "</symbol>\n",
       "</defs>\n",
       "</svg>\n",
       "<style>/* CSS stylesheet for displaying xarray objects in jupyterlab.\n",
       " *\n",
       " */\n",
       "\n",
       ":root {\n",
       "  --xr-font-color0: var(--jp-content-font-color0, rgba(0, 0, 0, 1));\n",
       "  --xr-font-color2: var(--jp-content-font-color2, rgba(0, 0, 0, 0.54));\n",
       "  --xr-font-color3: var(--jp-content-font-color3, rgba(0, 0, 0, 0.38));\n",
       "  --xr-border-color: var(--jp-border-color2, #e0e0e0);\n",
       "  --xr-disabled-color: var(--jp-layout-color3, #bdbdbd);\n",
       "  --xr-background-color: var(--jp-layout-color0, white);\n",
       "  --xr-background-color-row-even: var(--jp-layout-color1, white);\n",
       "  --xr-background-color-row-odd: var(--jp-layout-color2, #eeeeee);\n",
       "}\n",
       "\n",
       "html[theme=dark],\n",
       "body[data-theme=dark],\n",
       "body.vscode-dark {\n",
       "  --xr-font-color0: rgba(255, 255, 255, 1);\n",
       "  --xr-font-color2: rgba(255, 255, 255, 0.54);\n",
       "  --xr-font-color3: rgba(255, 255, 255, 0.38);\n",
       "  --xr-border-color: #1F1F1F;\n",
       "  --xr-disabled-color: #515151;\n",
       "  --xr-background-color: #111111;\n",
       "  --xr-background-color-row-even: #111111;\n",
       "  --xr-background-color-row-odd: #313131;\n",
       "}\n",
       "\n",
       ".xr-wrap {\n",
       "  display: block !important;\n",
       "  min-width: 300px;\n",
       "  max-width: 700px;\n",
       "}\n",
       "\n",
       ".xr-text-repr-fallback {\n",
       "  /* fallback to plain text repr when CSS is not injected (untrusted notebook) */\n",
       "  display: none;\n",
       "}\n",
       "\n",
       ".xr-header {\n",
       "  padding-top: 6px;\n",
       "  padding-bottom: 6px;\n",
       "  margin-bottom: 4px;\n",
       "  border-bottom: solid 1px var(--xr-border-color);\n",
       "}\n",
       "\n",
       ".xr-header > div,\n",
       ".xr-header > ul {\n",
       "  display: inline;\n",
       "  margin-top: 0;\n",
       "  margin-bottom: 0;\n",
       "}\n",
       "\n",
       ".xr-obj-type,\n",
       ".xr-array-name {\n",
       "  margin-left: 2px;\n",
       "  margin-right: 10px;\n",
       "}\n",
       "\n",
       ".xr-obj-type {\n",
       "  color: var(--xr-font-color2);\n",
       "}\n",
       "\n",
       ".xr-sections {\n",
       "  padding-left: 0 !important;\n",
       "  display: grid;\n",
       "  grid-template-columns: 150px auto auto 1fr 20px 20px;\n",
       "}\n",
       "\n",
       ".xr-section-item {\n",
       "  display: contents;\n",
       "}\n",
       "\n",
       ".xr-section-item input {\n",
       "  display: none;\n",
       "}\n",
       "\n",
       ".xr-section-item input + label {\n",
       "  color: var(--xr-disabled-color);\n",
       "}\n",
       "\n",
       ".xr-section-item input:enabled + label {\n",
       "  cursor: pointer;\n",
       "  color: var(--xr-font-color2);\n",
       "}\n",
       "\n",
       ".xr-section-item input:enabled + label:hover {\n",
       "  color: var(--xr-font-color0);\n",
       "}\n",
       "\n",
       ".xr-section-summary {\n",
       "  grid-column: 1;\n",
       "  color: var(--xr-font-color2);\n",
       "  font-weight: 500;\n",
       "}\n",
       "\n",
       ".xr-section-summary > span {\n",
       "  display: inline-block;\n",
       "  padding-left: 0.5em;\n",
       "}\n",
       "\n",
       ".xr-section-summary-in:disabled + label {\n",
       "  color: var(--xr-font-color2);\n",
       "}\n",
       "\n",
       ".xr-section-summary-in + label:before {\n",
       "  display: inline-block;\n",
       "  content: '►';\n",
       "  font-size: 11px;\n",
       "  width: 15px;\n",
       "  text-align: center;\n",
       "}\n",
       "\n",
       ".xr-section-summary-in:disabled + label:before {\n",
       "  color: var(--xr-disabled-color);\n",
       "}\n",
       "\n",
       ".xr-section-summary-in:checked + label:before {\n",
       "  content: '▼';\n",
       "}\n",
       "\n",
       ".xr-section-summary-in:checked + label > span {\n",
       "  display: none;\n",
       "}\n",
       "\n",
       ".xr-section-summary,\n",
       ".xr-section-inline-details {\n",
       "  padding-top: 4px;\n",
       "  padding-bottom: 4px;\n",
       "}\n",
       "\n",
       ".xr-section-inline-details {\n",
       "  grid-column: 2 / -1;\n",
       "}\n",
       "\n",
       ".xr-section-details {\n",
       "  display: none;\n",
       "  grid-column: 1 / -1;\n",
       "  margin-bottom: 5px;\n",
       "}\n",
       "\n",
       ".xr-section-summary-in:checked ~ .xr-section-details {\n",
       "  display: contents;\n",
       "}\n",
       "\n",
       ".xr-array-wrap {\n",
       "  grid-column: 1 / -1;\n",
       "  display: grid;\n",
       "  grid-template-columns: 20px auto;\n",
       "}\n",
       "\n",
       ".xr-array-wrap > label {\n",
       "  grid-column: 1;\n",
       "  vertical-align: top;\n",
       "}\n",
       "\n",
       ".xr-preview {\n",
       "  color: var(--xr-font-color3);\n",
       "}\n",
       "\n",
       ".xr-array-preview,\n",
       ".xr-array-data {\n",
       "  padding: 0 5px !important;\n",
       "  grid-column: 2;\n",
       "}\n",
       "\n",
       ".xr-array-data,\n",
       ".xr-array-in:checked ~ .xr-array-preview {\n",
       "  display: none;\n",
       "}\n",
       "\n",
       ".xr-array-in:checked ~ .xr-array-data,\n",
       ".xr-array-preview {\n",
       "  display: inline-block;\n",
       "}\n",
       "\n",
       ".xr-dim-list {\n",
       "  display: inline-block !important;\n",
       "  list-style: none;\n",
       "  padding: 0 !important;\n",
       "  margin: 0;\n",
       "}\n",
       "\n",
       ".xr-dim-list li {\n",
       "  display: inline-block;\n",
       "  padding: 0;\n",
       "  margin: 0;\n",
       "}\n",
       "\n",
       ".xr-dim-list:before {\n",
       "  content: '(';\n",
       "}\n",
       "\n",
       ".xr-dim-list:after {\n",
       "  content: ')';\n",
       "}\n",
       "\n",
       ".xr-dim-list li:not(:last-child):after {\n",
       "  content: ',';\n",
       "  padding-right: 5px;\n",
       "}\n",
       "\n",
       ".xr-has-index {\n",
       "  font-weight: bold;\n",
       "}\n",
       "\n",
       ".xr-var-list,\n",
       ".xr-var-item {\n",
       "  display: contents;\n",
       "}\n",
       "\n",
       ".xr-var-item > div,\n",
       ".xr-var-item label,\n",
       ".xr-var-item > .xr-var-name span {\n",
       "  background-color: var(--xr-background-color-row-even);\n",
       "  margin-bottom: 0;\n",
       "}\n",
       "\n",
       ".xr-var-item > .xr-var-name:hover span {\n",
       "  padding-right: 5px;\n",
       "}\n",
       "\n",
       ".xr-var-list > li:nth-child(odd) > div,\n",
       ".xr-var-list > li:nth-child(odd) > label,\n",
       ".xr-var-list > li:nth-child(odd) > .xr-var-name span {\n",
       "  background-color: var(--xr-background-color-row-odd);\n",
       "}\n",
       "\n",
       ".xr-var-name {\n",
       "  grid-column: 1;\n",
       "}\n",
       "\n",
       ".xr-var-dims {\n",
       "  grid-column: 2;\n",
       "}\n",
       "\n",
       ".xr-var-dtype {\n",
       "  grid-column: 3;\n",
       "  text-align: right;\n",
       "  color: var(--xr-font-color2);\n",
       "}\n",
       "\n",
       ".xr-var-preview {\n",
       "  grid-column: 4;\n",
       "}\n",
       "\n",
       ".xr-index-preview {\n",
       "  grid-column: 2 / 5;\n",
       "  color: var(--xr-font-color2);\n",
       "}\n",
       "\n",
       ".xr-var-name,\n",
       ".xr-var-dims,\n",
       ".xr-var-dtype,\n",
       ".xr-preview,\n",
       ".xr-attrs dt {\n",
       "  white-space: nowrap;\n",
       "  overflow: hidden;\n",
       "  text-overflow: ellipsis;\n",
       "  padding-right: 10px;\n",
       "}\n",
       "\n",
       ".xr-var-name:hover,\n",
       ".xr-var-dims:hover,\n",
       ".xr-var-dtype:hover,\n",
       ".xr-attrs dt:hover {\n",
       "  overflow: visible;\n",
       "  width: auto;\n",
       "  z-index: 1;\n",
       "}\n",
       "\n",
       ".xr-var-attrs,\n",
       ".xr-var-data,\n",
       ".xr-index-data {\n",
       "  display: none;\n",
       "  background-color: var(--xr-background-color) !important;\n",
       "  padding-bottom: 5px !important;\n",
       "}\n",
       "\n",
       ".xr-var-attrs-in:checked ~ .xr-var-attrs,\n",
       ".xr-var-data-in:checked ~ .xr-var-data,\n",
       ".xr-index-data-in:checked ~ .xr-index-data {\n",
       "  display: block;\n",
       "}\n",
       "\n",
       ".xr-var-data > table {\n",
       "  float: right;\n",
       "}\n",
       "\n",
       ".xr-var-name span,\n",
       ".xr-var-data,\n",
       ".xr-index-name div,\n",
       ".xr-index-data,\n",
       ".xr-attrs {\n",
       "  padding-left: 25px !important;\n",
       "}\n",
       "\n",
       ".xr-attrs,\n",
       ".xr-var-attrs,\n",
       ".xr-var-data,\n",
       ".xr-index-data {\n",
       "  grid-column: 1 / -1;\n",
       "}\n",
       "\n",
       "dl.xr-attrs {\n",
       "  padding: 0;\n",
       "  margin: 0;\n",
       "  display: grid;\n",
       "  grid-template-columns: 125px auto;\n",
       "}\n",
       "\n",
       ".xr-attrs dt,\n",
       ".xr-attrs dd {\n",
       "  padding: 0;\n",
       "  margin: 0;\n",
       "  float: left;\n",
       "  padding-right: 10px;\n",
       "  width: auto;\n",
       "}\n",
       "\n",
       ".xr-attrs dt {\n",
       "  font-weight: normal;\n",
       "  grid-column: 1;\n",
       "}\n",
       "\n",
       ".xr-attrs dt:hover span {\n",
       "  display: inline-block;\n",
       "  background: var(--xr-background-color);\n",
       "  padding-right: 10px;\n",
       "}\n",
       "\n",
       ".xr-attrs dd {\n",
       "  grid-column: 2;\n",
       "  white-space: pre-wrap;\n",
       "  word-break: break-all;\n",
       "}\n",
       "\n",
       ".xr-icon-database,\n",
       ".xr-icon-file-text2,\n",
       ".xr-no-icon {\n",
       "  display: inline-block;\n",
       "  vertical-align: middle;\n",
       "  width: 1em;\n",
       "  height: 1.5em !important;\n",
       "  stroke-width: 0;\n",
       "  stroke: currentColor;\n",
       "  fill: currentColor;\n",
       "}\n",
       "</style><pre class='xr-text-repr-fallback'>&lt;xarray.DataArray (time: 25, x: 50)&gt;\n",
       "array([[1.        , 1.        , 1.        , ..., 1.        , 1.        ,\n",
       "        1.        ],\n",
       "       [1.        , 1.        , 1.        , ..., 1.        , 1.        ,\n",
       "        1.        ],\n",
       "       [1.        , 1.        , 1.        , ..., 1.        , 1.        ,\n",
       "        1.        ],\n",
       "       ...,\n",
       "       [1.        , 1.        , 1.        , ..., 1.00102186, 1.00037816,\n",
       "        1.00013084],\n",
       "       [1.        , 1.        , 1.        , ..., 1.00199644, 1.00079019,\n",
       "        1.00029306],\n",
       "       [1.        , 1.        , 1.        , ..., 1.00368945, 1.00155701,\n",
       "        1.00061708]])\n",
       "Coordinates:\n",
       "  * x        (x) float64 0.0 0.04 0.08 0.12 0.16 0.2 ... 1.8 1.84 1.88 1.92 1.96\n",
       "  * time     (time) float64 0.0 0.02083 0.04167 0.0625 ... 0.4583 0.4792 0.5\n",
       "Attributes:\n",
       "    pde:      linear_convection\n",
       "    c:        1.0\n",
       "    sigma:    0.2</pre><div class='xr-wrap' style='display:none'><div class='xr-header'><div class='xr-obj-type'>xarray.DataArray</div><div class='xr-array-name'></div><ul class='xr-dim-list'><li><span class='xr-has-index'>time</span>: 25</li><li><span class='xr-has-index'>x</span>: 50</li></ul></div><ul class='xr-sections'><li class='xr-section-item'><div class='xr-array-wrap'><input id='section-fbcbbbbf-ffce-43b4-9f17-94d513609fa3' class='xr-array-in' type='checkbox' checked><label for='section-fbcbbbbf-ffce-43b4-9f17-94d513609fa3' title='Show/hide data repr'><svg class='icon xr-icon-database'><use xlink:href='#icon-database'></use></svg></label><div class='xr-array-preview xr-preview'><span>1.0 1.0 1.0 1.0 1.0 1.0 1.0 ... 1.034 1.017 1.008 1.004 1.002 1.001</span></div><div class='xr-array-data'><pre>array([[1.        , 1.        , 1.        , ..., 1.        , 1.        ,\n",
       "        1.        ],\n",
       "       [1.        , 1.        , 1.        , ..., 1.        , 1.        ,\n",
       "        1.        ],\n",
       "       [1.        , 1.        , 1.        , ..., 1.        , 1.        ,\n",
       "        1.        ],\n",
       "       ...,\n",
       "       [1.        , 1.        , 1.        , ..., 1.00102186, 1.00037816,\n",
       "        1.00013084],\n",
       "       [1.        , 1.        , 1.        , ..., 1.00199644, 1.00079019,\n",
       "        1.00029306],\n",
       "       [1.        , 1.        , 1.        , ..., 1.00368945, 1.00155701,\n",
       "        1.00061708]])</pre></div></div></li><li class='xr-section-item'><input id='section-468157f5-12e2-4013-a99f-b7b60edbdfc4' class='xr-section-summary-in' type='checkbox'  checked><label for='section-468157f5-12e2-4013-a99f-b7b60edbdfc4' class='xr-section-summary' >Coordinates: <span>(2)</span></label><div class='xr-section-inline-details'></div><div class='xr-section-details'><ul class='xr-var-list'><li class='xr-var-item'><div class='xr-var-name'><span class='xr-has-index'>x</span></div><div class='xr-var-dims'>(x)</div><div class='xr-var-dtype'>float64</div><div class='xr-var-preview xr-preview'>0.0 0.04 0.08 ... 1.88 1.92 1.96</div><input id='attrs-f74a92cc-07d5-4527-84d1-0b0185b10ca1' class='xr-var-attrs-in' type='checkbox' disabled><label for='attrs-f74a92cc-07d5-4527-84d1-0b0185b10ca1' title='Show/Hide attributes'><svg class='icon xr-icon-file-text2'><use xlink:href='#icon-file-text2'></use></svg></label><input id='data-4f1826f8-5776-43d7-b141-6316fa2be6cc' class='xr-var-data-in' type='checkbox'><label for='data-4f1826f8-5776-43d7-b141-6316fa2be6cc' title='Show/Hide data repr'><svg class='icon xr-icon-database'><use xlink:href='#icon-database'></use></svg></label><div class='xr-var-attrs'><dl class='xr-attrs'></dl></div><div class='xr-var-data'><pre>array([0.  , 0.04, 0.08, 0.12, 0.16, 0.2 , 0.24, 0.28, 0.32, 0.36, 0.4 , 0.44,\n",
       "       0.48, 0.52, 0.56, 0.6 , 0.64, 0.68, 0.72, 0.76, 0.8 , 0.84, 0.88, 0.92,\n",
       "       0.96, 1.  , 1.04, 1.08, 1.12, 1.16, 1.2 , 1.24, 1.28, 1.32, 1.36, 1.4 ,\n",
       "       1.44, 1.48, 1.52, 1.56, 1.6 , 1.64, 1.68, 1.72, 1.76, 1.8 , 1.84, 1.88,\n",
       "       1.92, 1.96])</pre></div></li><li class='xr-var-item'><div class='xr-var-name'><span class='xr-has-index'>time</span></div><div class='xr-var-dims'>(time)</div><div class='xr-var-dtype'>float64</div><div class='xr-var-preview xr-preview'>0.0 0.02083 0.04167 ... 0.4792 0.5</div><input id='attrs-99fe179b-a73f-424f-b804-1db348f56ecf' class='xr-var-attrs-in' type='checkbox' disabled><label for='attrs-99fe179b-a73f-424f-b804-1db348f56ecf' title='Show/Hide attributes'><svg class='icon xr-icon-file-text2'><use xlink:href='#icon-file-text2'></use></svg></label><input id='data-0e4d1113-6042-42be-8f85-37cc6f8c1a66' class='xr-var-data-in' type='checkbox'><label for='data-0e4d1113-6042-42be-8f85-37cc6f8c1a66' title='Show/Hide data repr'><svg class='icon xr-icon-database'><use xlink:href='#icon-database'></use></svg></label><div class='xr-var-attrs'><dl class='xr-attrs'></dl></div><div class='xr-var-data'><pre>array([0.      , 0.020833, 0.041667, 0.0625  , 0.083333, 0.104167, 0.125   ,\n",
       "       0.145833, 0.166667, 0.1875  , 0.208333, 0.229167, 0.25    , 0.270833,\n",
       "       0.291667, 0.3125  , 0.333333, 0.354167, 0.375   , 0.395833, 0.416667,\n",
       "       0.4375  , 0.458333, 0.479167, 0.5     ])</pre></div></li></ul></div></li><li class='xr-section-item'><input id='section-55bb49e1-c90d-4d4e-99a7-ef3604ab4b08' class='xr-section-summary-in' type='checkbox'  ><label for='section-55bb49e1-c90d-4d4e-99a7-ef3604ab4b08' class='xr-section-summary' >Indexes: <span>(2)</span></label><div class='xr-section-inline-details'></div><div class='xr-section-details'><ul class='xr-var-list'><li class='xr-var-item'><div class='xr-index-name'><div>x</div></div><div class='xr-index-preview'>PandasIndex</div><div></div><input id='index-f2c94f77-f03f-44a6-a939-143b3f630e35' class='xr-index-data-in' type='checkbox'/><label for='index-f2c94f77-f03f-44a6-a939-143b3f630e35' title='Show/Hide index repr'><svg class='icon xr-icon-database'><use xlink:href='#icon-database'></use></svg></label><div class='xr-index-data'><pre>PandasIndex(Index([               0.0,               0.04,               0.08,\n",
       "                     0.12,               0.16,                0.2,\n",
       "                     0.24,               0.28,               0.32,\n",
       "                     0.36,                0.4,               0.44,\n",
       "                     0.48,               0.52,               0.56,\n",
       "                      0.6,               0.64,               0.68,\n",
       "                     0.72,               0.76,                0.8,\n",
       "                     0.84,               0.88,               0.92,\n",
       "                     0.96,                1.0,               1.04,\n",
       "                     1.08,               1.12,               1.16,\n",
       "                      1.2,               1.24,               1.28,\n",
       "                     1.32,               1.36, 1.4000000000000001,\n",
       "                     1.44,               1.48,               1.52,\n",
       "                     1.56,                1.6, 1.6400000000000001,\n",
       "                     1.68,               1.72,               1.76,\n",
       "                      1.8,               1.84, 1.8800000000000001,\n",
       "                     1.92,               1.96],\n",
       "      dtype=&#x27;float64&#x27;, name=&#x27;x&#x27;))</pre></div></li><li class='xr-var-item'><div class='xr-index-name'><div>time</div></div><div class='xr-index-preview'>PandasIndex</div><div></div><input id='index-ac4c17ee-fddc-4d0b-89d9-122040a69e9a' class='xr-index-data-in' type='checkbox'/><label for='index-ac4c17ee-fddc-4d0b-89d9-122040a69e9a' title='Show/Hide index repr'><svg class='icon xr-icon-database'><use xlink:href='#icon-database'></use></svg></label><div class='xr-index-data'><pre>PandasIndex(Index([                 0.0, 0.020833333333333332, 0.041666666666666664,\n",
       "                     0.0625,  0.08333333333333333,  0.10416666666666666,\n",
       "                      0.125,  0.14583333333333331,  0.16666666666666666,\n",
       "                     0.1875,  0.20833333333333331,  0.22916666666666666,\n",
       "                       0.25,   0.2708333333333333,  0.29166666666666663,\n",
       "                     0.3125,   0.3333333333333333,  0.35416666666666663,\n",
       "                      0.375,   0.3958333333333333,  0.41666666666666663,\n",
       "                     0.4375,   0.4583333333333333,  0.47916666666666663,\n",
       "                        0.5],\n",
       "      dtype=&#x27;float64&#x27;, name=&#x27;time&#x27;))</pre></div></li></ul></div></li><li class='xr-section-item'><input id='section-af00c689-8fab-482c-a7ef-941023c92b96' class='xr-section-summary-in' type='checkbox'  checked><label for='section-af00c689-8fab-482c-a7ef-941023c92b96' class='xr-section-summary' >Attributes: <span>(3)</span></label><div class='xr-section-inline-details'></div><div class='xr-section-details'><dl class='xr-attrs'><dt><span>pde :</span></dt><dd>linear_convection</dd><dt><span>c :</span></dt><dd>1.0</dd><dt><span>sigma :</span></dt><dd>0.2</dd></dl></div></li></ul></div></div>"
      ],
      "text/plain": [
       "<xarray.DataArray (time: 25, x: 50)>\n",
       "array([[1.        , 1.        , 1.        , ..., 1.        , 1.        ,\n",
       "        1.        ],\n",
       "       [1.        , 1.        , 1.        , ..., 1.        , 1.        ,\n",
       "        1.        ],\n",
       "       [1.        , 1.        , 1.        , ..., 1.        , 1.        ,\n",
       "        1.        ],\n",
       "       ...,\n",
       "       [1.        , 1.        , 1.        , ..., 1.00102186, 1.00037816,\n",
       "        1.00013084],\n",
       "       [1.        , 1.        , 1.        , ..., 1.00199644, 1.00079019,\n",
       "        1.00029306],\n",
       "       [1.        , 1.        , 1.        , ..., 1.00368945, 1.00155701,\n",
       "        1.00061708]])\n",
       "Coordinates:\n",
       "  * x        (x) float64 0.0 0.04 0.08 0.12 0.16 0.2 ... 1.8 1.84 1.88 1.92 1.96\n",
       "  * time     (time) float64 0.0 0.02083 0.04167 0.0625 ... 0.4583 0.4792 0.5\n",
       "Attributes:\n",
       "    pde:      linear_convection\n",
       "    c:        1.0\n",
       "    sigma:    0.2"
      ]
     },
     "execution_count": 21,
     "metadata": {},
     "output_type": "execute_result"
    }
   ],
   "source": [
    "da_sol = xr.DataArray(\n",
    "    data=np.asarray(sol.ys).squeeze(),\n",
    "    dims=[\"time\", \"x\"],\n",
    "    coords={\n",
    "        \"x\": ([\"x\"], np.asarray(domain.coords[0])),\n",
    "        \"time\": ([\"time\"], np.asarray(sol.ts)),\n",
    "    },\n",
    "    attrs={\"pde\": \"linear_convection\", \"c\": c, \"sigma\": sigma},\n",
    ")\n",
    "da_sol"
   ]
  },
  {
   "cell_type": "code",
   "execution_count": 22,
   "metadata": {},
   "outputs": [
    {
     "data": {
      "image/png": "[encoded data removed]",
      "text/plain": [
       "<Figure size 640x480 with 2 Axes>"
      ]
     },
     "metadata": {},
     "output_type": "display_data"
    }
   ],
   "source": [
    "fig, ax = plt.subplots()\n",
    "\n",
    "da_sol.T.plot.pcolormesh(ax=ax, cmap=\"gray_r\")\n",
    "\n",
    "plt.show()"
   ]
  },
  {
   "cell_type": "code",
   "execution_count": 23,
   "metadata": {},
   "outputs": [
    {
     "data": {
      "image/png": "[encoded data removed]",
      "text/plain": [
       "<Figure size 640x480 with 1 Axes>"
      ]
     },
     "metadata": {},
     "output_type": "display_data"
    }
   ],
   "source": [
    "fig, ax = plt.subplots()\n",
    "\n",
    "for i in range(0, len(da_sol.time), 5):\n",
    "    da_sol.isel(time=i).plot.line(ax=ax, color=\"gray\")\n",
    "\n",
    "plt.show()"
   ]
  },
  {
   "attachments": {},
   "cell_type": "markdown",
   "metadata": {},
   "source": [
    "As we can see, there seems to be some dissipation. Could be the solver? Something to think about. But I think the most important thing is the fact that it is so easy to just try things without getting bogged down by the coding details!!\n",
    "\n",
    "At least that is what I hope to convey!"
   ]
  },
  {
   "cell_type": "code",
   "execution_count": null,
   "metadata": {},
   "outputs": [],
   "source": []
  },
  {
   "cell_type": "code",
   "execution_count": null,
   "metadata": {},
   "outputs": [],
   "source": []
  }
 ],
 "metadata": {
  "kernelspec": {
   "display_name": "jaxsw",
   "language": "python",
   "name": "python3"
  },
  "language_info": {
   "codemirror_mode": {
    "name": "ipython",
    "version": 3
   },
   "file_extension": ".py",
   "mimetype": "text/x-python",
   "name": "python",
   "nbconvert_exporter": "python",
   "pygments_lexer": "ipython3",
   "version": "3.11.3"
  }
 },
 "nbformat": 4,
 "nbformat_minor": 4
}
