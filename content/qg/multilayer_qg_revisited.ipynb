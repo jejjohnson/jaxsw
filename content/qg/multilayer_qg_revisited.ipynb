{
 "cells": [
  {
   "cell_type": "markdown",
   "id": "663302d1",
   "metadata": {
    "tags": []
   },
   "source": [
    "---\n",
    "title: 3 Layer Stacked QG Model\n",
    "subject: Jax Approximate Ocean Models\n",
    "# subtitle: How can I estimate the state AND the parameters?\n",
    "short_title: Stacked QG\n",
    "authors:\n",
    "  - name: J. Emmanuel Johnson\n",
    "    affiliations:\n",
    "      - CNRS\n",
    "      - MEOM\n",
    "    orcid: 0000-0002-6739-0053\n",
    "    email: jemanjohnson34@gmail.com\n",
    "  - name: Takaya Uchida\n",
    "    affiliations:\n",
    "      - FSU\n",
    "    orcid: https://orcid.org/0000-0002-8654-6009\n",
    "    email: tuchida@fsu.edu\n",
    "license: CC-BY-4.0\n",
    "keywords: jax, shallow water model, differentiable\n",
    "abbreviations:\n",
    "    SW: Shallow Water\n",
    "    QG: Quasi-Geostrophic\n",
    "    PDE: Partial Differential Equation\n",
    "    RHS: Right Hand Side\n",
    "---"
   ]
  },
  {
   "cell_type": "code",
   "execution_count": 1,
   "id": "1f10932d",
   "metadata": {
    "tags": []
   },
   "outputs": [],
   "source": [
    "import autoroot\n",
    "import jax\n",
    "import jax.numpy as jnp\n",
    "import jax.scipy as jsp\n",
    "from jax.config import config\n",
    "import numpy as np\n",
    "import numba as nb\n",
    "import pandas as pd\n",
    "import equinox as eqx\n",
    "import finitediffx as fdx\n",
    "import diffrax as dfx\n",
    "import xarray as xr\n",
    "import einops\n",
    "import matplotlib.pyplot as plt\n",
    "import seaborn as sns\n",
    "from einops import rearrange, repeat, reduce\n",
    "from tqdm.notebook import tqdm, trange\n",
    "from jaxtyping import Array, Float\n",
    "import typing as tp\n",
    "import einops\n",
    "\n",
    "from jaxsw._src.domain.base import Domain\n",
    "from jaxsw._src.operators.functional import advection as F_adv\n",
    "from jaxsw._src.operators.functional import geostrophic as F_geos\n",
    "from jaxsw._src.operators.functional import cgrid as F_cgrid\n",
    "from jaxsw._src.operators.functional import grid as F_grid\n",
    "from jaxsw._src.boundaries.helmholtz import enforce_boundaries_helmholtz\n",
    "from jaxsw._src.models import qg_louis as F_louis\n",
    "from jaxsw._src.models import qg_ml as F_qgml\n",
    "\n",
    "sns.reset_defaults()\n",
    "sns.set_context(context=\"talk\", font_scale=0.7)\n",
    "config.update(\"jax_enable_x64\", True)\n",
    "\n",
    "\n",
    "%matplotlib inline\n",
    "%load_ext autoreload\n",
    "%autoreload 2"
   ]
  },
  {
   "cell_type": "code",
   "execution_count": 2,
   "id": "5653fb69-469c-4d1c-a17c-68f7538f9277",
   "metadata": {},
   "outputs": [],
   "source": [
    "from jaxsw._src.operators.functional import interp as F_interp"
   ]
  },
  {
   "cell_type": "code",
   "execution_count": 3,
   "id": "473d9e9e",
   "metadata": {},
   "outputs": [],
   "source": [
    "from loguru import logger\n",
    "\n",
    "\n",
    "def plot_field(field):\n",
    "    num_axis = len(field)\n",
    "    fig, ax = plt.subplots(ncols=num_axis, figsize=(8, 2))\n",
    "\n",
    "    for i in range(num_axis):\n",
    "        pts = ax[i].pcolormesh(field[i], cmap=\"coolwarm\")\n",
    "        plt.colorbar(pts)\n",
    "\n",
    "    plt.tight_layout()\n",
    "    plt.show()\n",
    "\n",
    "\n",
    "def print_debug_quantity(quantity, name=\"\"):\n",
    "    size = quantity.shape\n",
    "    min_ = np.min(quantity)\n",
    "    max_ = np.max(quantity)\n",
    "    mean_ = np.mean(quantity)\n",
    "    median_ = np.mean(quantity)\n",
    "    logger.debug(\n",
    "        f\"{name}: {size} | {min_:.6e} | {mean_:.6e} | {median_:.6e} | {max_:.6e}\"\n",
    "    )"
   ]
  },
  {
   "cell_type": "markdown",
   "id": "78dd852c",
   "metadata": {},
   "source": [
    "In this problem, we are looking at sea surface height (SSH) in relation to the Quasi-Geostrophic (QG) equations. These equations are a simplified form for the Navier-Stokes equations with approximations like *hydrostatic approximation*, *small aspect ratio*, and a *small Rossby number*. Ideally, these equations might be a decent approximation at mesoscale (100km - 10,000km). In this application, we will see how SSH propagates with the QG equations."
   ]
  },
  {
   "cell_type": "markdown",
   "id": "9ad5e2a9",
   "metadata": {
    "tags": []
   },
   "source": [
    "## Equations\n",
    "\n",
    "\n",
    "$$\n",
    "\\partial_t q_k + (u_kq_k)_x + (v_kq_k)_y = F_k + D_k\n",
    "$$ (eq:qg_form_adv)\n",
    "\n",
    "The term that links each of the layers together, $\\mathbf{A}$, is a tri-diagonal matrix that can be written as\n",
    "\n",
    "$$\n",
    "\\mathbf{A} =\n",
    "\\begin{bmatrix}\n",
    "\\frac{1}{H_1 g_1'} & \\frac{-1}{H_1 g_1'} & \\ldots & \\ldots & \\ldots  \\\\\n",
    "\\frac{-1}{H_2 g_1'} & \\frac{1}{H_1}\\left(\\frac{1}{g_1'} + \\frac{1}{g_2'} \\right) & \\frac{-1}{H_2 g_2'} & \\ldots & \\ldots  \\\\\n",
    "\\ldots & \\ldots & \\ldots & \\ldots & \\ldots \\\\\n",
    "\\ldots & \\ldots & \\frac{-1}{H_{n-1} g_{n-2}'} & \\frac{1}{H_{n-1}}\\left(\\frac{1}{g_{n-2}'} + \\frac{1}{g_{n-1}'} \\right) & \\frac{-1}{H_{n-1} g_{n-2}'}  \\\\\n",
    "\\ldots & \\ldots& \\ldots & \\frac{-1}{H_n g_{n-1}'} & \\frac{1}{H_n g_{n-1}'}   \\\\\n",
    "\\end{bmatrix}\n",
    "$$ (eq:qg_A)\n",
    "\n",
    "In the paper [[Thiry et al., 2023](https://doi.org/10.22541/essoar.167397445.54992823/v1),[Thiry et al., 2023](https://egusphere.copernicus.org/preprints/2023/egusphere-2023-1715/)], they use the following method\n",
    "\n",
    "$$\n",
    "\\begin{aligned}\n",
    "\\text{Hyperviscosity}: && \n",
    "\\boldsymbol{D_1} &= \n",
    "-a_4\\boldsymbol{\\nabla}_H^6\\psi\\\\\n",
    "\\text{Wind Forcing}: && \n",
    "\\boldsymbol{F} &= \n",
    "\\frac{\\tau_0}{\\rho_0H_1}\\left[\\partial_x\\tau_y - \\partial_y\\tau_x, 0\\cdots,0\\right]\\\\\n",
    "\\text{Bottom Drag}: && \n",
    "\\boldsymbol{D_2} &= \n",
    "\\frac{\\delta_{ek}}{2H_{N_Z}}\n",
    "\\left[0,\\cdots,0,\\Delta\\psi_N\\right]\n",
    "\\end{aligned}\n",
    "$$\n",
    "\n",
    "Source:\n",
    "* [Geophysical Fluid Dynamcis - Pedlosky](https://doi.org/10.1007/978-1-4612-4650-3)\n",
    "* [Atmosphere and Oceanic Fluid Dynamics - Vallis](https://doi.org/10.1017/9781107588417)"
   ]
  },
  {
   "cell_type": "markdown",
   "id": "67df1e64-a52e-4721-b2d3-b233c60599af",
   "metadata": {},
   "source": [
    "$$\n",
    "\\begin{aligned}\n",
    "\\Omega_\\psi &\\in[N_x,N_y] && && [x_0,y_0] && && [x_1,y_1] \\\\ \n",
    "\\Omega_u &\\in[N_x,N_y+1] && && [x_0,y_0-\\frac{1}{2}dy] && && [x_1,y_1+\\frac{1}{2}dy]  \\\\ \n",
    "\\Omega_v &\\in[N_x+1,N_y] && && [x_0-\\frac{1}{2}dx,y_0] && && [x_1+\\frac{1}{2}dx,y_1]  \\\\ \n",
    "\\Omega_q &\\in[N_x-1,N_y-1] && && [x_0+\\frac{1}{2}dx,y_0+\\frac{1}{2}dy] && && [x_1-\\frac{1}{2}dx,y_1-\\frac{1}{2}dy] \n",
    "\\end{aligned}\n",
    "$$"
   ]
  },
  {
   "cell_type": "markdown",
   "id": "545da4be",
   "metadata": {},
   "source": [
    "## Parameters"
   ]
  },
  {
   "cell_type": "code",
   "execution_count": 4,
   "id": "1d74c648-35cf-4c86-ab9a-04a0661ee161",
   "metadata": {},
   "outputs": [
    {
     "data": {
      "text/plain": [
       "\u001b[0;31mInit signature:\u001b[0m \u001b[0mF_qgml\u001b[0m\u001b[0;34m.\u001b[0m\u001b[0mPDEParams\u001b[0m\u001b[0;34m(\u001b[0m\u001b[0;34m*\u001b[0m\u001b[0margs\u001b[0m\u001b[0;34m,\u001b[0m \u001b[0;34m**\u001b[0m\u001b[0mkwargs\u001b[0m\u001b[0;34m)\u001b[0m\u001b[0;34m\u001b[0m\u001b[0;34m\u001b[0m\u001b[0m\n",
       "\u001b[0;31mDocstring:\u001b[0m      PDEParams(*args, **kwargs)\n",
       "\u001b[0;31mSource:\u001b[0m        \n",
       "\u001b[0;32mclass\u001b[0m \u001b[0mPDEParams\u001b[0m\u001b[0;34m(\u001b[0m\u001b[0meqx\u001b[0m\u001b[0;34m.\u001b[0m\u001b[0mModule\u001b[0m\u001b[0;34m)\u001b[0m\u001b[0;34m:\u001b[0m\u001b[0;34m\u001b[0m\n",
       "\u001b[0;34m\u001b[0m    \u001b[0mf0\u001b[0m\u001b[0;34m:\u001b[0m \u001b[0mfloat\u001b[0m \u001b[0;34m=\u001b[0m \u001b[0;36m9.375e-5\u001b[0m  \u001b[0;31m# coriolis [s^-1]\u001b[0m\u001b[0;34m\u001b[0m\n",
       "\u001b[0;34m\u001b[0m    \u001b[0mbeta\u001b[0m\u001b[0;34m:\u001b[0m \u001b[0mfloat\u001b[0m \u001b[0;34m=\u001b[0m \u001b[0;36m1.754e-11\u001b[0m  \u001b[0;31m# coriolis gradient [m^-1 s^-1]\u001b[0m\u001b[0;34m\u001b[0m\n",
       "\u001b[0;34m\u001b[0m    \u001b[0mtau0\u001b[0m\u001b[0;34m:\u001b[0m \u001b[0mfloat\u001b[0m \u001b[0;34m=\u001b[0m \u001b[0;36m2.0e-5\u001b[0m  \u001b[0;31m# wind stress magnitude m/s^2\u001b[0m\u001b[0;34m\u001b[0m\n",
       "\u001b[0;34m\u001b[0m    \u001b[0my0\u001b[0m\u001b[0;34m:\u001b[0m \u001b[0mfloat\u001b[0m \u001b[0;34m=\u001b[0m \u001b[0;36m2_400_000.0\u001b[0m  \u001b[0;31m# [m]\u001b[0m\u001b[0;34m\u001b[0m\n",
       "\u001b[0;34m\u001b[0m    \u001b[0ma_2\u001b[0m\u001b[0;34m:\u001b[0m \u001b[0mfloat\u001b[0m \u001b[0;34m=\u001b[0m \u001b[0;36m0.0\u001b[0m  \u001b[0;31m# laplacian diffusion coef (m^2/s)\u001b[0m\u001b[0;34m\u001b[0m\n",
       "\u001b[0;34m\u001b[0m    \u001b[0ma_4\u001b[0m\u001b[0;34m:\u001b[0m \u001b[0mfloat\u001b[0m \u001b[0;34m=\u001b[0m \u001b[0;36m5.0e11\u001b[0m  \u001b[0;31m# LR # 2.0e9 # HR\u001b[0m\u001b[0;34m\u001b[0m\n",
       "\u001b[0;34m\u001b[0m    \u001b[0mbcco\u001b[0m\u001b[0;34m:\u001b[0m \u001b[0mfloat\u001b[0m \u001b[0;34m=\u001b[0m \u001b[0;36m0.2\u001b[0m  \u001b[0;31m# boundary condition coef. (non-dim.)\u001b[0m\u001b[0;34m\u001b[0m\n",
       "\u001b[0;34m\u001b[0m    \u001b[0mdelta_ek\u001b[0m\u001b[0;34m:\u001b[0m \u001b[0mfloat\u001b[0m \u001b[0;34m=\u001b[0m \u001b[0;36m2.0\u001b[0m  \u001b[0;31m# eckman height [m]\u001b[0m\u001b[0;34m\u001b[0m\n",
       "\u001b[0;34m\u001b[0m\u001b[0;34m\u001b[0m\n",
       "\u001b[0;34m\u001b[0m    \u001b[0;34m@\u001b[0m\u001b[0mproperty\u001b[0m\u001b[0;34m\u001b[0m\n",
       "\u001b[0;34m\u001b[0m    \u001b[0;32mdef\u001b[0m \u001b[0mzfbc\u001b[0m\u001b[0;34m(\u001b[0m\u001b[0mself\u001b[0m\u001b[0;34m)\u001b[0m\u001b[0;34m:\u001b[0m\u001b[0;34m\u001b[0m\n",
       "\u001b[0;34m\u001b[0m        \u001b[0;32mreturn\u001b[0m \u001b[0mself\u001b[0m\u001b[0;34m.\u001b[0m\u001b[0mbcco\u001b[0m \u001b[0;34m/\u001b[0m \u001b[0;34m(\u001b[0m\u001b[0;36m1.0\u001b[0m \u001b[0;34m+\u001b[0m \u001b[0;36m0.5\u001b[0m \u001b[0;34m*\u001b[0m \u001b[0mself\u001b[0m\u001b[0;34m.\u001b[0m\u001b[0mbcco\u001b[0m\u001b[0;34m)\u001b[0m\u001b[0;34m\u001b[0m\u001b[0;34m\u001b[0m\u001b[0m\n",
       "\u001b[0;31mFile:\u001b[0m           ~/code_projects/jaxsw/jaxsw/_src/models/qg_ml.py\n",
       "\u001b[0;31mType:\u001b[0m           _ModuleMeta\n",
       "\u001b[0;31mSubclasses:\u001b[0m     "
      ]
     },
     "metadata": {},
     "output_type": "display_data"
    }
   ],
   "source": [
    "F_qgml.PDEParams??"
   ]
  },
  {
   "cell_type": "code",
   "execution_count": 5,
   "id": "11f406a9",
   "metadata": {},
   "outputs": [],
   "source": [
    "a_4 = 5.0e11  # 2.0e9 #\n",
    "params = F_qgml.PDEParams()"
   ]
  },
  {
   "cell_type": "markdown",
   "id": "aff2ae6c",
   "metadata": {},
   "source": [
    "## Domain"
   ]
  },
  {
   "cell_type": "code",
   "execution_count": 6,
   "id": "6c25307f-be31-4ba0-ab99-5cbe8ee0b854",
   "metadata": {},
   "outputs": [],
   "source": [
    "import jaxsw._src.domain.base_v2 as Domain"
   ]
  },
  {
   "cell_type": "code",
   "execution_count": 7,
   "id": "f3b6e380-cce2-4147-81eb-9a873165c219",
   "metadata": {},
   "outputs": [],
   "source": [
    "# Low Resolution\n",
    "Nx, Ny = 97, 121\n",
    "# High Resolution\n",
    "# Nx, Ny = 769, 961\n",
    "\n",
    "# Lx, Ly = 3840.0e3, 4800.0e3\n",
    "Lx, Ly = 5_120.0e3, 5_120.0e3\n",
    "\n",
    "x_domain = Domain.init_domain_1d(Lx, Nx)\n",
    "y_domain = Domain.init_domain_1d(Ly, Ny)\n",
    "x_domain, y_domain\n",
    "xy_domain = x_domain * y_domain\n"
   ]
  },
  {
   "cell_type": "code",
   "execution_count": 8,
   "id": "0bea7c77-6ca0-416c-a7b1-748e45082c1b",
   "metadata": {},
   "outputs": [],
   "source": [
    "def check_field_shapes(u: Array, name: str=\"psi\"):\n",
    "\n",
    "    shape = np.array(u).shape[-2:]\n",
    "    if name == \"psi\":\n",
    "        assert shape == (Nx, Ny)\n",
    "    elif name == \"psi_i\":\n",
    "        assert shape == (Nx-2,Ny-2)\n",
    "    elif name == \"u\":\n",
    "        assert shape == (Nx,Ny-1)\n",
    "    elif name == \"v\":\n",
    "        assert shape == (Nx-1,Ny)\n",
    "    elif name == \"q\":\n",
    "        assert shape == (Nx-1,Ny-1)\n",
    "    else:\n",
    "        raise ValueError(f\"Unreocngized field: {name}\")\n",
    "        "
   ]
  },
  {
   "cell_type": "code",
   "execution_count": 9,
   "id": "17e4671c-fc56-4e56-a644-136ff5a962c7",
   "metadata": {},
   "outputs": [],
   "source": [
    "check_field_shapes(xy_domain.grid_axis[0], name=\"psi\")\n",
    "check_field_shapes(xy_domain.grid_axis[1], name=\"psi\")"
   ]
  },
  {
   "cell_type": "code",
   "execution_count": 10,
   "id": "ac34c01e-45c8-4abb-a55f-4a5513d4f7e0",
   "metadata": {},
   "outputs": [
    {
     "data": {
      "text/plain": [
       "((0.010416666666666666, 0.008333333333333333),\n",
       " (97, 121),\n",
       " (5120000.0, 5120000.0),\n",
       " 8.680555555555555e-05,\n",
       " 2)"
      ]
     },
     "execution_count": 10,
     "metadata": {},
     "output_type": "execute_result"
    }
   ],
   "source": [
    "xy_domain.dx, xy_domain.Nx, xy_domain.Lx, xy_domain.cell_volume, xy_domain.ndim"
   ]
  },
  {
   "cell_type": "markdown",
   "id": "1e301074",
   "metadata": {},
   "source": [
    "### Heights\n"
   ]
  },
  {
   "cell_type": "markdown",
   "id": "46238bb8",
   "metadata": {},
   "source": [
    "Remember equation [](#eq:qg_A)"
   ]
  },
  {
   "cell_type": "code",
   "execution_count": 11,
   "id": "9a6e8f2f-f0cd-40cd-942b-a27fe34a65f2",
   "metadata": {},
   "outputs": [
    {
     "data": {
      "text/plain": [
       "\u001b[0;31mSignature:\u001b[0m\n",
       "\u001b[0mcreate_qg_multilayer_mat\u001b[0m\u001b[0;34m(\u001b[0m\u001b[0;34m\u001b[0m\n",
       "\u001b[0;34m\u001b[0m    \u001b[0mheights\u001b[0m\u001b[0;34m:\u001b[0m \u001b[0mList\u001b[0m\u001b[0;34m[\u001b[0m\u001b[0mfloat\u001b[0m\u001b[0;34m]\u001b[0m\u001b[0;34m,\u001b[0m\u001b[0;34m\u001b[0m\n",
       "\u001b[0;34m\u001b[0m    \u001b[0mreduced_gravities\u001b[0m\u001b[0;34m:\u001b[0m \u001b[0mList\u001b[0m\u001b[0;34m[\u001b[0m\u001b[0mfloat\u001b[0m\u001b[0;34m]\u001b[0m\u001b[0;34m,\u001b[0m\u001b[0;34m\u001b[0m\n",
       "\u001b[0;34m\u001b[0m\u001b[0;34m)\u001b[0m \u001b[0;34m->\u001b[0m \u001b[0mnumpy\u001b[0m\u001b[0;34m.\u001b[0m\u001b[0mndarray\u001b[0m\u001b[0;34m\u001b[0m\u001b[0;34m\u001b[0m\u001b[0m\n",
       "\u001b[0;31mSource:\u001b[0m   \n",
       "\u001b[0;32mdef\u001b[0m \u001b[0mcreate_qg_multilayer_mat\u001b[0m\u001b[0;34m(\u001b[0m\u001b[0;34m\u001b[0m\n",
       "\u001b[0;34m\u001b[0m    \u001b[0mheights\u001b[0m\u001b[0;34m:\u001b[0m \u001b[0mtp\u001b[0m\u001b[0;34m.\u001b[0m\u001b[0mList\u001b[0m\u001b[0;34m[\u001b[0m\u001b[0mfloat\u001b[0m\u001b[0;34m]\u001b[0m\u001b[0;34m,\u001b[0m \u001b[0mreduced_gravities\u001b[0m\u001b[0;34m:\u001b[0m \u001b[0mtp\u001b[0m\u001b[0;34m.\u001b[0m\u001b[0mList\u001b[0m\u001b[0;34m[\u001b[0m\u001b[0mfloat\u001b[0m\u001b[0;34m]\u001b[0m\u001b[0;34m\u001b[0m\n",
       "\u001b[0;34m\u001b[0m\u001b[0;34m)\u001b[0m \u001b[0;34m->\u001b[0m \u001b[0mnp\u001b[0m\u001b[0;34m.\u001b[0m\u001b[0mndarray\u001b[0m\u001b[0;34m:\u001b[0m\u001b[0;34m\u001b[0m\n",
       "\u001b[0;34m\u001b[0m    \u001b[0;34m\"\"\"Computes the Matrix that is used to connected a stacked\u001b[0m\n",
       "\u001b[0;34m    isopycnal Quasi-Geostrophic model.\u001b[0m\n",
       "\u001b[0;34m\u001b[0m\n",
       "\u001b[0;34m    Args:\u001b[0m\n",
       "\u001b[0;34m        heights (tp.List[float]): the height for each layer\u001b[0m\n",
       "\u001b[0;34m            Size = [Nx]\u001b[0m\n",
       "\u001b[0;34m        reduced_gravities (tp.List[float]): the reduced gravities\u001b[0m\n",
       "\u001b[0;34m            for each layer, Size = [Nx-1]\u001b[0m\n",
       "\u001b[0;34m\u001b[0m\n",
       "\u001b[0;34m    Returns:\u001b[0m\n",
       "\u001b[0;34m        np.ndarray: The Matrix connecting the layers, Size = [Nz, Nx]\u001b[0m\n",
       "\u001b[0;34m    \"\"\"\u001b[0m\u001b[0;34m\u001b[0m\n",
       "\u001b[0;34m\u001b[0m    \u001b[0mnum_heights\u001b[0m \u001b[0;34m=\u001b[0m \u001b[0mlen\u001b[0m\u001b[0;34m(\u001b[0m\u001b[0mheights\u001b[0m\u001b[0;34m)\u001b[0m\u001b[0;34m\u001b[0m\n",
       "\u001b[0;34m\u001b[0m\u001b[0;34m\u001b[0m\n",
       "\u001b[0;34m\u001b[0m    \u001b[0;31m# initialize matrix\u001b[0m\u001b[0;34m\u001b[0m\n",
       "\u001b[0;34m\u001b[0m    \u001b[0mA\u001b[0m \u001b[0;34m=\u001b[0m \u001b[0mnp\u001b[0m\u001b[0;34m.\u001b[0m\u001b[0mzeros\u001b[0m\u001b[0;34m(\u001b[0m\u001b[0;34m(\u001b[0m\u001b[0mnum_heights\u001b[0m\u001b[0;34m,\u001b[0m \u001b[0mnum_heights\u001b[0m\u001b[0;34m)\u001b[0m\u001b[0;34m)\u001b[0m\u001b[0;34m\u001b[0m\n",
       "\u001b[0;34m\u001b[0m\u001b[0;34m\u001b[0m\n",
       "\u001b[0;34m\u001b[0m    \u001b[0;32mif\u001b[0m \u001b[0mnum_heights\u001b[0m \u001b[0;34m==\u001b[0m \u001b[0;36m1\u001b[0m\u001b[0;34m:\u001b[0m\u001b[0;34m\u001b[0m\n",
       "\u001b[0;34m\u001b[0m        \u001b[0mA\u001b[0m\u001b[0;34m[\u001b[0m\u001b[0;36m0\u001b[0m\u001b[0;34m,\u001b[0m \u001b[0;36m0\u001b[0m\u001b[0;34m]\u001b[0m \u001b[0;34m=\u001b[0m \u001b[0;36m1.\u001b[0m \u001b[0;34m/\u001b[0m \u001b[0;34m(\u001b[0m\u001b[0mheights\u001b[0m\u001b[0;34m[\u001b[0m\u001b[0;36m0\u001b[0m\u001b[0;34m]\u001b[0m \u001b[0;34m*\u001b[0m \u001b[0mreduced_gravities\u001b[0m\u001b[0;34m[\u001b[0m\u001b[0;36m0\u001b[0m\u001b[0;34m]\u001b[0m\u001b[0;34m)\u001b[0m\u001b[0;34m\u001b[0m\n",
       "\u001b[0;34m\u001b[0m    \u001b[0;32melse\u001b[0m\u001b[0;34m:\u001b[0m\u001b[0;34m\u001b[0m\n",
       "\u001b[0;34m\u001b[0m        \u001b[0;31m# top rows\u001b[0m\u001b[0;34m\u001b[0m\n",
       "\u001b[0;34m\u001b[0m        \u001b[0mA\u001b[0m\u001b[0;34m[\u001b[0m\u001b[0;36m0\u001b[0m\u001b[0;34m,\u001b[0m \u001b[0;36m0\u001b[0m\u001b[0;34m]\u001b[0m \u001b[0;34m=\u001b[0m \u001b[0;36m1.0\u001b[0m \u001b[0;34m/\u001b[0m \u001b[0;34m(\u001b[0m\u001b[0mheights\u001b[0m\u001b[0;34m[\u001b[0m\u001b[0;36m0\u001b[0m\u001b[0;34m]\u001b[0m \u001b[0;34m*\u001b[0m \u001b[0mreduced_gravities\u001b[0m\u001b[0;34m[\u001b[0m\u001b[0;36m0\u001b[0m\u001b[0;34m]\u001b[0m\u001b[0;34m)\u001b[0m\u001b[0;34m\u001b[0m\n",
       "\u001b[0;34m\u001b[0m        \u001b[0mA\u001b[0m\u001b[0;34m[\u001b[0m\u001b[0;36m0\u001b[0m\u001b[0;34m,\u001b[0m \u001b[0;36m1\u001b[0m\u001b[0;34m]\u001b[0m \u001b[0;34m=\u001b[0m \u001b[0;34m-\u001b[0m\u001b[0;36m1.0\u001b[0m \u001b[0;34m/\u001b[0m \u001b[0;34m(\u001b[0m\u001b[0mheights\u001b[0m\u001b[0;34m[\u001b[0m\u001b[0;36m0\u001b[0m\u001b[0;34m]\u001b[0m \u001b[0;34m*\u001b[0m \u001b[0mreduced_gravities\u001b[0m\u001b[0;34m[\u001b[0m\u001b[0;36m0\u001b[0m\u001b[0;34m]\u001b[0m\u001b[0;34m)\u001b[0m\u001b[0;34m\u001b[0m\n",
       "\u001b[0;34m\u001b[0m    \u001b[0;34m\u001b[0m\n",
       "\u001b[0;34m\u001b[0m        \u001b[0;31m# interior rows\u001b[0m\u001b[0;34m\u001b[0m\n",
       "\u001b[0;34m\u001b[0m        \u001b[0;32mfor\u001b[0m \u001b[0mi\u001b[0m \u001b[0;32min\u001b[0m \u001b[0mrange\u001b[0m\u001b[0;34m(\u001b[0m\u001b[0;36m1\u001b[0m\u001b[0;34m,\u001b[0m \u001b[0mnum_heights\u001b[0m \u001b[0;34m-\u001b[0m \u001b[0;36m1\u001b[0m\u001b[0;34m)\u001b[0m\u001b[0;34m:\u001b[0m\u001b[0;34m\u001b[0m\n",
       "\u001b[0;34m\u001b[0m            \u001b[0mA\u001b[0m\u001b[0;34m[\u001b[0m\u001b[0mi\u001b[0m\u001b[0;34m,\u001b[0m \u001b[0mi\u001b[0m \u001b[0;34m-\u001b[0m \u001b[0;36m1\u001b[0m\u001b[0;34m]\u001b[0m \u001b[0;34m=\u001b[0m \u001b[0;34m-\u001b[0m\u001b[0;36m1.0\u001b[0m \u001b[0;34m/\u001b[0m \u001b[0;34m(\u001b[0m\u001b[0mheights\u001b[0m\u001b[0;34m[\u001b[0m\u001b[0mi\u001b[0m\u001b[0;34m]\u001b[0m \u001b[0;34m*\u001b[0m \u001b[0mreduced_gravities\u001b[0m\u001b[0;34m[\u001b[0m\u001b[0mi\u001b[0m \u001b[0;34m-\u001b[0m \u001b[0;36m1\u001b[0m\u001b[0;34m]\u001b[0m\u001b[0;34m)\u001b[0m\u001b[0;34m\u001b[0m\n",
       "\u001b[0;34m\u001b[0m            \u001b[0mA\u001b[0m\u001b[0;34m[\u001b[0m\u001b[0mi\u001b[0m\u001b[0;34m,\u001b[0m \u001b[0mi\u001b[0m\u001b[0;34m]\u001b[0m \u001b[0;34m=\u001b[0m \u001b[0;34m(\u001b[0m\u001b[0;34m\u001b[0m\n",
       "\u001b[0;34m\u001b[0m                \u001b[0;36m1.0\u001b[0m \u001b[0;34m/\u001b[0m \u001b[0mheights\u001b[0m\u001b[0;34m[\u001b[0m\u001b[0mi\u001b[0m\u001b[0;34m]\u001b[0m \u001b[0;34m*\u001b[0m \u001b[0;34m(\u001b[0m\u001b[0;36m1\u001b[0m \u001b[0;34m/\u001b[0m \u001b[0mreduced_gravities\u001b[0m\u001b[0;34m[\u001b[0m\u001b[0mi\u001b[0m\u001b[0;34m]\u001b[0m \u001b[0;34m+\u001b[0m \u001b[0;36m1\u001b[0m \u001b[0;34m/\u001b[0m \u001b[0mreduced_gravities\u001b[0m\u001b[0;34m[\u001b[0m\u001b[0mi\u001b[0m \u001b[0;34m-\u001b[0m \u001b[0;36m1\u001b[0m\u001b[0;34m]\u001b[0m\u001b[0;34m)\u001b[0m\u001b[0;34m\u001b[0m\n",
       "\u001b[0;34m\u001b[0m            \u001b[0;34m)\u001b[0m\u001b[0;34m\u001b[0m\n",
       "\u001b[0;34m\u001b[0m            \u001b[0mA\u001b[0m\u001b[0;34m[\u001b[0m\u001b[0mi\u001b[0m\u001b[0;34m,\u001b[0m \u001b[0mi\u001b[0m \u001b[0;34m+\u001b[0m \u001b[0;36m1\u001b[0m\u001b[0;34m]\u001b[0m \u001b[0;34m=\u001b[0m \u001b[0;34m-\u001b[0m\u001b[0;36m1.0\u001b[0m \u001b[0;34m/\u001b[0m \u001b[0;34m(\u001b[0m\u001b[0mheights\u001b[0m\u001b[0;34m[\u001b[0m\u001b[0mi\u001b[0m\u001b[0;34m]\u001b[0m \u001b[0;34m*\u001b[0m \u001b[0mreduced_gravities\u001b[0m\u001b[0;34m[\u001b[0m\u001b[0mnum_heights\u001b[0m \u001b[0;34m-\u001b[0m \u001b[0;36m2\u001b[0m\u001b[0;34m]\u001b[0m\u001b[0;34m)\u001b[0m\u001b[0;34m\u001b[0m\n",
       "\u001b[0;34m\u001b[0m    \u001b[0;34m\u001b[0m\n",
       "\u001b[0;34m\u001b[0m        \u001b[0;31m# bottom rows\u001b[0m\u001b[0;34m\u001b[0m\n",
       "\u001b[0;34m\u001b[0m        \u001b[0mA\u001b[0m\u001b[0;34m[\u001b[0m\u001b[0;34m-\u001b[0m\u001b[0;36m1\u001b[0m\u001b[0;34m,\u001b[0m \u001b[0;34m-\u001b[0m\u001b[0;36m1\u001b[0m\u001b[0;34m]\u001b[0m \u001b[0;34m=\u001b[0m \u001b[0;36m1.0\u001b[0m \u001b[0;34m/\u001b[0m \u001b[0;34m(\u001b[0m\u001b[0mheights\u001b[0m\u001b[0;34m[\u001b[0m\u001b[0mnum_heights\u001b[0m \u001b[0;34m-\u001b[0m \u001b[0;36m1\u001b[0m\u001b[0;34m]\u001b[0m \u001b[0;34m*\u001b[0m \u001b[0mreduced_gravities\u001b[0m\u001b[0;34m[\u001b[0m\u001b[0mnum_heights\u001b[0m \u001b[0;34m-\u001b[0m \u001b[0;36m2\u001b[0m\u001b[0;34m]\u001b[0m\u001b[0;34m)\u001b[0m\u001b[0;34m\u001b[0m\n",
       "\u001b[0;34m\u001b[0m        \u001b[0mA\u001b[0m\u001b[0;34m[\u001b[0m\u001b[0;34m-\u001b[0m\u001b[0;36m1\u001b[0m\u001b[0;34m,\u001b[0m \u001b[0;34m-\u001b[0m\u001b[0;36m2\u001b[0m\u001b[0;34m]\u001b[0m \u001b[0;34m=\u001b[0m \u001b[0;34m-\u001b[0m\u001b[0;36m1.0\u001b[0m \u001b[0;34m/\u001b[0m \u001b[0;34m(\u001b[0m\u001b[0mheights\u001b[0m\u001b[0;34m[\u001b[0m\u001b[0mnum_heights\u001b[0m \u001b[0;34m-\u001b[0m \u001b[0;36m1\u001b[0m\u001b[0;34m]\u001b[0m \u001b[0;34m*\u001b[0m \u001b[0mreduced_gravities\u001b[0m\u001b[0;34m[\u001b[0m\u001b[0mnum_heights\u001b[0m \u001b[0;34m-\u001b[0m \u001b[0;36m2\u001b[0m\u001b[0;34m]\u001b[0m\u001b[0;34m)\u001b[0m\u001b[0;34m\u001b[0m\n",
       "\u001b[0;34m\u001b[0m    \u001b[0;32mreturn\u001b[0m \u001b[0mA\u001b[0m\u001b[0;34m\u001b[0m\u001b[0;34m\u001b[0m\u001b[0m\n",
       "\u001b[0;31mFile:\u001b[0m      ~/code_projects/jaxsw/jaxsw/_src/domain/qg.py\n",
       "\u001b[0;31mType:\u001b[0m      function"
      ]
     },
     "metadata": {},
     "output_type": "display_data"
    }
   ],
   "source": [
    "from jaxsw._src.domain.qg import create_qg_multilayer_mat, LayerDomain\n",
    "# LayerDomain??\n",
    "create_qg_multilayer_mat??"
   ]
  },
  {
   "cell_type": "code",
   "execution_count": 12,
   "id": "ec3a4ea9",
   "metadata": {},
   "outputs": [
    {
     "data": {
      "text/plain": [
       "LayerDomain(\n",
       "  heights=f64[3],\n",
       "  reduced_gravities=f64[2],\n",
       "  Nz=3,\n",
       "  A=f64[3,3],\n",
       "  A_layer_2_mode=f64[3,3],\n",
       "  A_mode_2_layer=f64[3,3],\n",
       "  lambda_sq=f64[3]\n",
       ")"
      ]
     },
     "execution_count": 12,
     "metadata": {},
     "output_type": "execute_result"
    }
   ],
   "source": [
    "\n",
    "# heights\n",
    "heights = [350.0, 750.0, 2900.0]\n",
    "\n",
    "# reduced gravities\n",
    "reduced_gravities = [0.025, 0.0125]\n",
    "\n",
    "layer_domain = LayerDomain(heights, reduced_gravities)\n",
    "layer_domain"
   ]
  },
  {
   "cell_type": "markdown",
   "id": "198a84d5",
   "metadata": {},
   "source": [
    "### Helmholtz Matrices"
   ]
  },
  {
   "cell_type": "markdown",
   "id": "100ada83",
   "metadata": {},
   "source": [
    "We can precompute the Helmoltz matrices\n",
    "\n",
    "$$\n",
    "\\text{Helmholtz Operator}:=\\left(\\alpha\\boldsymbol{\\nabla}^2-\\beta\\right)u\n",
    "$$\n",
    "\n",
    "where\n",
    "\n",
    "$$\n",
    "\\begin{aligned}\n",
    "u &= \\psi \\\\\n",
    "\\alpha &= 1.0 \\\\\n",
    "\\beta &= f_0^2\\lambda^2\n",
    "\\end{aligned}\n",
    "$$"
   ]
  },
  {
   "cell_type": "code",
   "execution_count": 13,
   "id": "5d78ebfc",
   "metadata": {},
   "outputs": [],
   "source": [
    "# from jaxsw._src.operators.functional import elliptical as F_elliptical\n",
    "from jaxsw._src.operators.functional.dst import helmholtz_dst, laplacian_dst, inverse_elliptic_dst"
   ]
  },
  {
   "cell_type": "code",
   "execution_count": 14,
   "id": "71bb64f4",
   "metadata": {},
   "outputs": [],
   "source": [
    "L_mat = laplacian_dst(xy_domain.Nx[0]-2, xy_domain.Nx[1]-2, xy_domain.dx[0], xy_domain.dx[1])\n",
    "check_field_shapes(L_mat, name=\"psi_i\")"
   ]
  },
  {
   "cell_type": "code",
   "execution_count": 15,
   "id": "82328a87-8c14-4ccb-ba37-684ebb33d8d8",
   "metadata": {},
   "outputs": [
    {
     "data": {
      "text/plain": [
       "(3, 95, 119)"
      ]
     },
     "execution_count": 15,
     "metadata": {},
     "output_type": "execute_result"
    }
   ],
   "source": [
    "lambda_sq = einops.rearrange(layer_domain.lambda_sq, \"Nz -> Nz 1 1\")\n",
    "beta = params.f0**2 * lambda_sq\n",
    "H_mat = L_mat - beta\n",
    "H_mat.shape"
   ]
  },
  {
   "cell_type": "code",
   "execution_count": 16,
   "id": "0b9202ad-c900-4434-9abe-be7bb2922914",
   "metadata": {},
   "outputs": [],
   "source": [
    "check_field_shapes(H_mat, name=\"psi_i\")"
   ]
  },
  {
   "cell_type": "code",
   "execution_count": 17,
   "id": "3e9b7b6b-d04a-4797-941d-d63882f4dc49",
   "metadata": {},
   "outputs": [
    {
     "data": {
      "image/png": "[encoded data removed]",
      "text/plain": [
       "<Figure size 800x200 with 6 Axes>"
      ]
     },
     "metadata": {},
     "output_type": "display_data"
    }
   ],
   "source": [
    "plot_field(H_mat)"
   ]
  },
  {
   "cell_type": "markdown",
   "id": "fd8555c2",
   "metadata": {},
   "source": [
    "### Inversion"
   ]
  },
  {
   "cell_type": "markdown",
   "id": "74516cae",
   "metadata": {},
   "source": [
    "We are interested in solving for the Helmholtz equation which is given by\n",
    "\n",
    "$$\n",
    "(\\boldsymbol{\\alpha\\nabla}_H^2 - \\boldsymbol{\\beta})p = q\n",
    "$$"
   ]
  },
  {
   "cell_type": "markdown",
   "id": "17329add",
   "metadata": {},
   "source": [
    "#### Homogeneous Solution"
   ]
  },
  {
   "cell_type": "markdown",
   "id": "12036ef3",
   "metadata": {},
   "source": [
    "First, we need to use the scheme to solve the homogeneous Helmholtz equation for the baroclinic nodes.\n",
    "The homoegeneous equation is given by:\n",
    "\n",
    "$$\n",
    "(\\boldsymbol{\\nabla}_H^2 - \\boldsymbol{\\beta})p = 0\n",
    "$$\n",
    "\n",
    "Let's reformulate the pressure to be:\n",
    "\n",
    "$$\n",
    "p = \\mathbf{L} + \\beta s\n",
    "$$\n",
    "\n",
    "where $\\mathbf{L}$ is a known solution of the Laplace's equation with non-zero boundaries.\n",
    "\n",
    "$$\n",
    "\\begin{aligned}\n",
    "\\boldsymbol{\\nabla}_H^2\\mathbf{L} &= 0 && && x\\in\\Omega\\\\\n",
    "\\boldsymbol{F}_{BC}(\\mathbf{L}) &= b && && x\\in\\partial\\Omega\\\\\n",
    "\\end{aligned}\n",
    "$$\n",
    "\n",
    " which is non\n"
   ]
  },
  {
   "cell_type": "code",
   "execution_count": 18,
   "id": "4cdd9096-f891-488d-ab66-d5e118cdefe8",
   "metadata": {},
   "outputs": [],
   "source": [
    "# def helmholtz_homogeneous_sol_multilayer(helmoltz_dst_mat, heights, domain):\n",
    "#     num_layers = len(heights)\n",
    "#     assert len(helmoltz_dst_mat.shape) == 3\n",
    "\n",
    "#     # inversion scheme (interior points)\n",
    "#     # (nabla_H - beta) s = L\n",
    "#     # constant field (where did we get this???)\n",
    "#     constant_field = jnp.ones((num_layers, domain.Nx[0], domain.Nx[1])) / (\n",
    "#         domain.Nx[0] * domain.Nx[1]\n",
    "#     )\n",
    "\n",
    "#     out = jax.vmap(F_elliptical.inverse_elliptic_dst, in_axes=(0, 0))(\n",
    "#         constant_field[:, 1:-1, 1:-1], helmoltz_dst_mat\n",
    "#     )\n",
    "\n",
    "#     # construct s (interior points)\n",
    "#     s_solutions = jnp.zeros_like(constant_field)\n",
    "#     s_solutions = s_solutions.at[:, 1:-1, 1:-1].set(out)\n",
    "\n",
    "#     # add the boundary: p = L + beta * s\n",
    "#     beta = einops.repeat(heights, \"Nz -> Nz 1 1\")\n",
    "#     homogeneous_sol = constant_field + beta * s_solutions\n",
    "\n",
    "#     # ignore last solution correponding to lambd = 0, i.e. Laplace equation\n",
    "#     return homogeneous_sol[:-1]"
   ]
  },
  {
   "cell_type": "code",
   "execution_count": 19,
   "id": "9c93efb2-7120-423e-848a-3f9668231f34",
   "metadata": {},
   "outputs": [],
   "source": [
    "psi0 = jnp.zeros(shape=(layer_domain.Nz,) +xy_domain.Nx)"
   ]
  },
  {
   "cell_type": "code",
   "execution_count": 20,
   "id": "169567ea-86df-43a1-ae1c-2700c04f8ac7",
   "metadata": {},
   "outputs": [
    {
     "data": {
      "text/plain": [
       "((3, 97, 121), (95, 119), (3, 95, 119))"
      ]
     },
     "execution_count": 20,
     "metadata": {},
     "output_type": "execute_result"
    }
   ],
   "source": [
    "constant_field = jnp.ones_like(psi0)\n",
    "\n",
    "sol = jax.vmap(inverse_elliptic_dst, in_axes=(0,0))(constant_field[:, 1:-1,1:-1], H_mat)\n",
    "sol.shape, constant_field[0, 1:-1,1:-1].shape, H_mat.shape"
   ]
  },
  {
   "cell_type": "code",
   "execution_count": 21,
   "id": "c3a5dff7-e974-4f9a-879e-bbf5de698f8e",
   "metadata": {},
   "outputs": [],
   "source": [
    "homsol = constant_field + sol * lambda_sq\n",
    "# # NOTE!!!! multiply by masks of Q!!!"
   ]
  },
  {
   "cell_type": "code",
   "execution_count": 22,
   "id": "867e98da-c53b-4319-ad25-0de3cb4622d1",
   "metadata": {},
   "outputs": [],
   "source": [
    "check_field_shapes(homsol, name=\"psi\")"
   ]
  },
  {
   "cell_type": "code",
   "execution_count": 23,
   "id": "80b5db43-2027-4b8f-9581-07f5d78058c8",
   "metadata": {},
   "outputs": [
    {
     "data": {
      "image/png": "[encoded data removed]",
      "text/plain": [
       "<Figure size 800x200 with 6 Axes>"
      ]
     },
     "metadata": {},
     "output_type": "display_data"
    }
   ],
   "source": [
    "plot_field(homsol)"
   ]
  },
  {
   "cell_type": "code",
   "execution_count": 24,
   "id": "7af67b6f-5c68-4367-a110-c557f91e0c66",
   "metadata": {},
   "outputs": [],
   "source": [
    "from jaxsw._src.operators.functional.finitevol.interp import x_average_2D, y_average_2D, center_average_2D"
   ]
  },
  {
   "cell_type": "code",
   "execution_count": 25,
   "id": "71614af7-dae8-40dd-b721-7593fdf14cc5",
   "metadata": {},
   "outputs": [],
   "source": [
    "homsol_mean = einops.reduce(center_average_2D(homsol), \"Nz Nx Ny -> Nz 1 1\", reduction=\"mean\")\n"
   ]
  },
  {
   "cell_type": "markdown",
   "id": "26928fc8",
   "metadata": {},
   "source": [
    "## Forcing"
   ]
  },
  {
   "cell_type": "markdown",
   "id": "5c9db5b5",
   "metadata": {},
   "source": [
    "## RHS"
   ]
  },
  {
   "cell_type": "markdown",
   "id": "16d4fe45",
   "metadata": {},
   "source": [
    "$$\n",
    "\\begin{aligned}\n",
    "\\text{Advection}: && \n",
    "\\boldsymbol{D_1} &= \n",
    "-\\frac{1}{f_0}\\boldsymbol{J}(q,p)\\\\\n",
    "\\text{Diffusion}: && \n",
    "\\boldsymbol{D_2} &= \n",
    "\\frac{a_2}{f_0}\\boldsymbol{\\nabla}_H^4\\psi\\\\\n",
    "\\text{HyperDiffusion}: && \n",
    "\\boldsymbol{D_2} &= \n",
    "-\\frac{a_4}{f_0}\\boldsymbol{\\nabla}_H^6\\psi\\\\\n",
    "\\text{Wind Forcing}: && \n",
    "\\boldsymbol{F} &= \n",
    "\\frac{\\tau_0}{\\rho_0H_1}\\left[\\partial_x\\tau_y - \\partial_y\\tau_x, 0\\cdots,0\\right]\\\\\n",
    "\\text{Bottom Drag}: && \n",
    "\\boldsymbol{D_2} &= \n",
    "\\frac{\\delta_{ek}}{2H_{N_Z}}\n",
    "\\left[0,\\cdots,0,\\Delta\\psi_N\\right]\n",
    "\\end{aligned}\n",
    "$$"
   ]
  },
  {
   "cell_type": "markdown",
   "id": "4de8cfb6",
   "metadata": {},
   "source": [
    "#### Advection Term\n",
    "\n",
    "$$\n",
    "\\boldsymbol{D_1} = \n",
    "-\\frac{1}{f_0}\\boldsymbol{J}(q,p)\n",
    "$$\n",
    "\n",
    "Here, we will use the (determinant) Jacobian to calculate this."
   ]
  },
  {
   "cell_type": "code",
   "execution_count": null,
   "id": "1d67677a-43ff-4bd2-8ed6-78eeb2d22872",
   "metadata": {},
   "outputs": [],
   "source": []
  },
  {
   "cell_type": "code",
   "execution_count": 26,
   "id": "47b2f37a-9c1b-4083-9e86-2c8670880d47",
   "metadata": {},
   "outputs": [],
   "source": [
    "from jaxsw._src.operators.functional.finitevol.difference import gradient_perpendicular, laplacian"
   ]
  },
  {
   "cell_type": "code",
   "execution_count": 27,
   "id": "fb37bcab-f6cd-45df-a106-ce03f3386171",
   "metadata": {},
   "outputs": [],
   "source": [
    "u, v = jax.vmap(gradient_perpendicular, in_axes=(0,None,None), out_axes=(0,0))(psi0, *xy_domain.dx)\n",
    "check_field_shapes(u, name=\"u\")\n",
    "check_field_shapes(v, name=\"v\")"
   ]
  },
  {
   "cell_type": "markdown",
   "id": "623c918f-17ab-41c7-bd6a-71a7cab7e163",
   "metadata": {},
   "source": [
    "### Potential Vorticity"
   ]
  },
  {
   "cell_type": "markdown",
   "id": "02fefa4f-b4d3-45a5-b348-1a979019767b",
   "metadata": {},
   "source": [
    "$$\n",
    "q = \\nabla^2\\psi - f_0^2 A\\psi + \\beta (y-y_0)\n",
    "$$"
   ]
  },
  {
   "cell_type": "code",
   "execution_count": 28,
   "id": "c12195c4-2e3c-4351-8fa7-6d1cde19f709",
   "metadata": {},
   "outputs": [],
   "source": [
    "# calculate laplacian [Nx,Ny] --> [Nx-2, Ny-2]\n",
    "psi_lap = jax.vmap(laplacian, in_axes=(0,None))(psi0, xy_domain.dx)\n",
    "#padding\n",
    "check_field_shapes(psi_lap, name=\"psi_i\")\n",
    "\n",
    "psi_lap = jnp.pad(psi_lap, pad_width=((0,0),(1,1),(1,1)), mode=\"constant\", constant_values=0.0)\n",
    "\n",
    "\n",
    "check_field_shapes(psi_lap, name=\"psi\")"
   ]
  },
  {
   "cell_type": "code",
   "execution_count": 29,
   "id": "51e8fb7f-b470-4fae-8720-aa68c9d4e023",
   "metadata": {},
   "outputs": [],
   "source": [
    "beta_lap = params.f0**2 * jnp.einsum(\"lm,...mxy->...lxy\", layer_domain.A, psi0)\n",
    "\n",
    "check_field_shapes(beta_lap, name=\"psi\")"
   ]
  },
  {
   "cell_type": "code",
   "execution_count": 30,
   "id": "2527f797-06fa-45f7-a500-afc9308e26d9",
   "metadata": {},
   "outputs": [],
   "source": [
    "from jaxsw._src.operators.functional.interp.flux import tracer_flux"
   ]
  },
  {
   "cell_type": "code",
   "execution_count": 31,
   "id": "75b58ec1-e501-402c-a9c1-fffee13872a3",
   "metadata": {},
   "outputs": [],
   "source": [
    "f_y = params.beta * (xy_domain.grid_axis[1] - params.y0)"
   ]
  },
  {
   "cell_type": "code",
   "execution_count": 32,
   "id": "4ec7f3ed-61a0-4e3a-80e9-0cf89f5b3dcf",
   "metadata": {},
   "outputs": [],
   "source": [
    "q = center_average_2D(psi_lap - beta_lap + f_y)\n",
    "# # NOTE!!!! multiply by masks of Q!!!\n",
    "check_field_shapes(q, name=\"q\")"
   ]
  },
  {
   "cell_type": "markdown",
   "id": "72aa0d1d-b156-4a81-bac2-f91e03d3769a",
   "metadata": {},
   "source": [
    "## Fluxes"
   ]
  },
  {
   "cell_type": "markdown",
   "id": "1064f771-7111-4426-901d-448ab30ae983",
   "metadata": {},
   "source": [
    "$$\n",
    "\\nabla \\cdot (\\vec{u}q) = \\partial_x (uq) + \\partial_y (vq)\n",
    "$$"
   ]
  },
  {
   "cell_type": "code",
   "execution_count": 33,
   "id": "201870a2-41cb-4dd0-945f-0cedfb024e3d",
   "metadata": {},
   "outputs": [
    {
     "data": {
      "text/plain": [
       "((3, 97, 120), (3, 95, 120), (3, 96, 120))"
      ]
     },
     "execution_count": 33,
     "metadata": {},
     "output_type": "execute_result"
    }
   ],
   "source": [
    "u.shape, u[:, 1:-1].shape, q.shape"
   ]
  },
  {
   "cell_type": "markdown",
   "id": "5f762e99-cc69-4859-90ff-fcedf996618d",
   "metadata": {},
   "source": [
    "**Tracer Flux**\n",
    "\n",
    "$$\n",
    "(uq) && | && (vq)\n",
    "$$"
   ]
  },
  {
   "cell_type": "code",
   "execution_count": 34,
   "id": "125fdea6-cd46-423a-ac51-741d81504ae2",
   "metadata": {},
   "outputs": [],
   "source": [
    "q_flux_on_u = tracer_flux(q, u[:, 1:-1], dim=1, num_pts=1)\n",
    "\n",
    "q_flux_on_u = jnp.pad(q_flux_on_u, pad_width=((0,0),(1,1),(0,0)))\n",
    "\n",
    "check_field_shapes(q_flux_on_u, name=\"u\")"
   ]
  },
  {
   "cell_type": "code",
   "execution_count": 35,
   "id": "2d6c2596-7ddc-47a8-9b1e-0c136e51a541",
   "metadata": {},
   "outputs": [],
   "source": [
    "q_flux_on_v = tracer_flux(q, v[..., 1:-1], dim=2, num_pts=1)\n",
    "\n",
    "q_flux_on_v = jnp.pad(q_flux_on_v, pad_width=((0,0),(0,0),(1,1)))\n",
    "\n",
    "check_field_shapes(q_flux_on_v, name=\"v\")"
   ]
  },
  {
   "cell_type": "markdown",
   "id": "ef4655a5-f307-4141-bac9-4ceede882fd9",
   "metadata": {},
   "source": [
    "**Differentiation**\n",
    "\n",
    "$$\n",
    "\\partial_x (uq) && | && \\partial_y (vq)\n",
    "$$"
   ]
  },
  {
   "cell_type": "code",
   "execution_count": 36,
   "id": "665aa923-6a31-4f8f-8d25-6461f94666e1",
   "metadata": {},
   "outputs": [],
   "source": [
    "dq_flux_dx = jnp.diff(q_flux_on_u, n=1, axis=-2) / xy_domain.dx[0]\n",
    "dq_flux_dy = jnp.diff(q_flux_on_v, n=1, axis=-1) / xy_domain.dx[1]\n",
    "\n",
    "\n",
    "check_field_shapes(dq_flux_dx, name=\"q\")\n",
    "check_field_shapes(dq_flux_dy, name=\"q\")"
   ]
  },
  {
   "cell_type": "code",
   "execution_count": 37,
   "id": "655cd52e-2553-4790-a0dd-cb22fbe5ae83",
   "metadata": {},
   "outputs": [],
   "source": [
    "div_flux = dq_flux_dx + dq_flux_dy\n",
    "check_field_shapes(div_flux, name=\"q\")"
   ]
  },
  {
   "cell_type": "markdown",
   "id": "eb9ab644-ce5e-4fe3-a5d4-4a612246dcc0",
   "metadata": {},
   "source": [
    "* Flux 3 point Stencil\n",
    "* Bottom Drag\n",
    "* Solve Helmholtz\n",
    "* Add Homogeneous Sol\n",
    "* Boundaries"
   ]
  },
  {
   "cell_type": "markdown",
   "id": "ba797a35-bfb7-4b3c-b675-b56e373407c9",
   "metadata": {},
   "source": [
    "### Forcings"
   ]
  },
  {
   "cell_type": "markdown",
   "id": "6a3b6c16-22ec-491b-9ba9-eb1b535dd70b",
   "metadata": {},
   "source": [
    "#### Bottom Drag"
   ]
  },
  {
   "cell_type": "markdown",
   "id": "a1662bef-54c4-4878-b1d8-9fc061ee6fd0",
   "metadata": {},
   "source": [
    "$$\n",
    "\\begin{aligned}\n",
    "\\text{Bottom Drag}: && \n",
    "\\boldsymbol{D_2} &= \n",
    "\\frac{\\delta_{ek}}{2H_{N_Z}}\n",
    "\\left[0,\\cdots,0,\\Delta\\psi_N\\right]\n",
    "\\end{aligned}\n",
    "$$"
   ]
  },
  {
   "cell_type": "code",
   "execution_count": 38,
   "id": "bb03ccb1-0a52-4691-91fe-8306910f2280",
   "metadata": {},
   "outputs": [],
   "source": [
    "# interior, vertex points on psi\n",
    "omega = jax.vmap(laplacian, in_axes=(0,None))(psi0, xy_domain.dx)\n",
    "\n",
    "check_field_shapes(omega, name=\"psi_i\")\n",
    "\n",
    "# interior, center points on q\n",
    "omega = center_average_2D(omega)\n",
    "\n",
    "# center points on q\n",
    "# NOTE!!!! multiply by masks of PSI!!!\n",
    "omega = jnp.pad(omega, pad_width=((0,0),(1,1),(1,1)), mode=\"constant\", constant_values=0.0)\n",
    "\n",
    "check_field_shapes(omega, name=\"q\")\n",
    "\n",
    "# bottom drag\n",
    "bottom_drag_coeff = params.delta_ek / layer_domain.heights[-1] * params.f0 / 2\n",
    "bottom_drag = - bottom_drag_coeff * omega[-1]\n",
    "\n",
    "check_field_shapes(bottom_drag, name=\"q\")"
   ]
  },
  {
   "cell_type": "markdown",
   "id": "c528a755-6f04-4ebe-a420-be943ba2d396",
   "metadata": {},
   "source": [
    "#### Forcing\n",
    "\n",
    "\n",
    "$$\n",
    "\\begin{aligned}\n",
    "\\text{Wind Forcing}: && \n",
    "\\boldsymbol{F} &= \n",
    "\\frac{\\tau_0}{\\rho_0H_1}\\left[\\partial_x\\tau_y - \\partial_y\\tau_x, 0\\cdots,0\\right]\n",
    "\\end{aligned}\n",
    "$$"
   ]
  },
  {
   "cell_type": "code",
   "execution_count": 39,
   "id": "520a3e55-0e49-44cc-b763-20147fb07094",
   "metadata": {},
   "outputs": [],
   "source": [
    "# y_coords = xy_domain.grid_axis[1]\n",
    "# tau0 = 0.08 / 1_000\n",
    "# curl_tau = - tau0 * 2. * jnp.pi/xy_domain.Lx[1] * jnp.sin(2.0 * jnp.pi * y_coords/xy_domain.Lx[1])\n",
    "\n",
    "# curl_tau = center_average_2D(curl_tau)\n",
    "# wind_forcing = curl_tau / layer_domain.heights[0]\n",
    "# check_field_shapes(wind_forcing, name=\"q\")"
   ]
  },
  {
   "cell_type": "code",
   "execution_count": 40,
   "id": "498e297f-ac0e-473b-acf3-2205d742c6c6",
   "metadata": {},
   "outputs": [],
   "source": [
    "y_coords = xy_domain.grid_axis[1]\n",
    "y_coords_center = center_average_2D(y_coords)\n",
    "tau0 = 0.08 / 1_000\n",
    "curl_tau = - tau0 * 2. * jnp.pi/xy_domain.Lx[1] * jnp.sin(2.0 * jnp.pi * y_coords_center/xy_domain.Lx[1])\n",
    "\n",
    "wind_forcing = curl_tau / layer_domain.heights[0]\n",
    "check_field_shapes(wind_forcing, name=\"q\")"
   ]
  },
  {
   "cell_type": "code",
   "execution_count": 41,
   "id": "960419aa-fad8-4e87-9fe7-e8d4b83cbe79",
   "metadata": {},
   "outputs": [
    {
     "data": {
      "image/png": "[encoded data removed]",
      "text/plain": [
       "<Figure size 640x480 with 2 Axes>"
      ]
     },
     "metadata": {},
     "output_type": "display_data"
    }
   ],
   "source": [
    "fig, ax = plt.subplots()\n",
    "\n",
    "pts = ax.pcolormesh(wind_forcing)\n",
    "plt.colorbar(pts)\n",
    "\n",
    "plt.tight_layout()\n",
    "plt.show()"
   ]
  },
  {
   "cell_type": "markdown",
   "id": "df017077-1d5d-44c1-9671-0108e8a295a2",
   "metadata": {},
   "source": [
    "#### Total Forces"
   ]
  },
  {
   "cell_type": "code",
   "execution_count": 42,
   "id": "cbe25e83-c99f-4760-89db-104c9d0e0048",
   "metadata": {},
   "outputs": [],
   "source": [
    "forces = jnp.zeros_like(q)"
   ]
  },
  {
   "cell_type": "code",
   "execution_count": 43,
   "id": "4c181bd1-1c8c-4dbb-b4f6-9bfb2ded7447",
   "metadata": {},
   "outputs": [],
   "source": [
    "forces = forces.at[0].set(forces[0] + wind_forcing)\n",
    "forces = forces.at[-1].set(forces[-1] + bottom_drag)\n",
    "\n",
    "check_field_shapes(forces, name=\"q\")"
   ]
  },
  {
   "cell_type": "code",
   "execution_count": 44,
   "id": "042fbb7a-9490-46b2-9ba5-280dec7ace29",
   "metadata": {},
   "outputs": [
    {
     "data": {
      "image/png": "[encoded data removed]",
      "text/plain": [
       "<Figure size 640x480 with 2 Axes>"
      ]
     },
     "metadata": {},
     "output_type": "display_data"
    }
   ],
   "source": [
    "fig, ax = plt.subplots()\n",
    "\n",
    "pts = ax.pcolormesh(forces[-1])\n",
    "plt.colorbar(pts)\n",
    "\n",
    "plt.tight_layout()\n",
    "plt.show()"
   ]
  },
  {
   "cell_type": "markdown",
   "id": "e6bf2286-3cfb-4382-ad12-018441f57999",
   "metadata": {},
   "source": [
    "### Equation of Motion (RHS)"
   ]
  },
  {
   "cell_type": "code",
   "execution_count": 45,
   "id": "d6afa58e-6875-4b29-9d62-87f2ec81b1e0",
   "metadata": {},
   "outputs": [],
   "source": [
    "# NOTE!!!! multiply by masks of Q!!!\n",
    "adv_rhs = - div_flux + forces\n",
    "\n",
    "check_field_shapes(adv_rhs, name=\"q\")"
   ]
  },
  {
   "cell_type": "markdown",
   "id": "8085d59b-a1d4-40d4-bb42-ae8e5aab7af6",
   "metadata": {},
   "source": [
    "## Time Derivatives"
   ]
  },
  {
   "cell_type": "code",
   "execution_count": 46,
   "id": "97d92554-304c-44d5-8481-68f5dd92c12d",
   "metadata": {},
   "outputs": [],
   "source": [
    "# advection RHS --> q\n",
    "# q interior\n",
    "# CL2m stuffs\n",
    "# solve helmholtz elliptical stuffs\n",
    "# mass convservation Stuff"
   ]
  },
  {
   "cell_type": "code",
   "execution_count": 47,
   "id": "001f6d33-ed8c-478b-8cee-1dc6a21f295a",
   "metadata": {},
   "outputs": [],
   "source": [
    "dq = adv_rhs.copy()"
   ]
  },
  {
   "cell_type": "code",
   "execution_count": 48,
   "id": "19758f7e-1169-46c4-898a-e190f6d252c1",
   "metadata": {},
   "outputs": [],
   "source": [
    "dq_i = center_average_2D(dq)"
   ]
  },
  {
   "cell_type": "code",
   "execution_count": 49,
   "id": "18d1125e-65a0-4182-976a-0129fe2d8b43",
   "metadata": {},
   "outputs": [],
   "source": [
    "helmholtz_rhs = jnp.einsum(\"lm,...mxy->...lxy\", layer_domain.A_layer_2_mode, dq_i)\n",
    "\n",
    "check_field_shapes(helmholtz_rhs, name=\"psi_i\")"
   ]
  },
  {
   "cell_type": "markdown",
   "id": "7d94f3a1-f6a9-40ca-8762-484988af2503",
   "metadata": {},
   "source": [
    "**Inverse Solve Elliptical**"
   ]
  },
  {
   "cell_type": "code",
   "execution_count": 50,
   "id": "86ff04d9-cb42-4007-8895-8269bd3a8f30",
   "metadata": {},
   "outputs": [],
   "source": [
    "check_field_shapes(H_mat, name=\"psi_i\")"
   ]
  },
  {
   "cell_type": "code",
   "execution_count": 51,
   "id": "d21e7e7a-5150-42c3-82de-c58f7aa9d35e",
   "metadata": {},
   "outputs": [
    {
     "data": {
      "text/plain": [
       "((3, 96, 120), (3, 95, 119), (3, 95, 119), (3, 95, 119))"
      ]
     },
     "execution_count": 51,
     "metadata": {},
     "output_type": "execute_result"
    }
   ],
   "source": [
    "dq.shape, dq_i.shape, H_mat.shape, helmholtz_rhs.shape"
   ]
  },
  {
   "cell_type": "code",
   "execution_count": 52,
   "id": "5223c748-9412-4cdc-8ac1-0d132bdc4150",
   "metadata": {},
   "outputs": [],
   "source": [
    "dpsi_modes = jax.vmap(inverse_elliptic_dst, in_axes=(0,0))(helmholtz_rhs, H_mat)\n",
    "check_field_shapes(dpsi_modes, name=\"psi\")"
   ]
  },
  {
   "cell_type": "code",
   "execution_count": 53,
   "id": "1439902b-15c2-4ab1-9dbc-b17a423f59b0",
   "metadata": {},
   "outputs": [],
   "source": [
    "# Add homogeneous solutions to ensure mass conservation"
   ]
  },
  {
   "cell_type": "code",
   "execution_count": 54,
   "id": "e05378b4-6f50-474a-ae81-165eaaafe13e",
   "metadata": {},
   "outputs": [],
   "source": [
    "dpsi_modes_i = center_average_2D(dpsi_modes)\n",
    "\n",
    "alpha = - einops.reduce(dpsi_modes_i, \"... Nx Ny -> ... 1 1\", reduction=\"mean\") / homsol_mean\n",
    "\n",
    "dpsi_modes += alpha * homsol\n",
    "\n",
    "check_field_shapes(dpsi_modes, name=\"psi\")"
   ]
  },
  {
   "cell_type": "code",
   "execution_count": 55,
   "id": "212a1719-901a-4086-a7e0-d185615cd8ef",
   "metadata": {},
   "outputs": [],
   "source": [
    "dpsi = jnp.einsum(\"LM,...MXY->LXY\",layer_domain.A_mode_2_layer, dpsi_modes)\n",
    "check_field_shapes(dpsi, name=\"psi\")"
   ]
  },
  {
   "cell_type": "code",
   "execution_count": null,
   "id": "02ae574b-3264-450a-9585-a26ec0d908aa",
   "metadata": {},
   "outputs": [],
   "source": []
  },
  {
   "cell_type": "code",
   "execution_count": null,
   "id": "0a67d490-ab0a-41da-98e1-ba4b2975fc75",
   "metadata": {},
   "outputs": [],
   "source": []
  },
  {
   "cell_type": "code",
   "execution_count": null,
   "id": "c33db2e1-e32e-4000-8c55-fd12b98dec34",
   "metadata": {},
   "outputs": [],
   "source": []
  }
 ],
 "metadata": {
  "kernelspec": {
   "display_name": "Python [conda env:jax_eo_py311]",
   "language": "python",
   "name": "conda-env-jax_eo_py311-py"
  },
  "language_info": {
   "codemirror_mode": {
    "name": "ipython",
    "version": 3
   },
   "file_extension": ".py",
   "mimetype": "text/x-python",
   "name": "python",
   "nbconvert_exporter": "python",
   "pygments_lexer": "ipython3",
   "version": "3.11.5"
  }
 },
 "nbformat": 4,
 "nbformat_minor": 5
}
