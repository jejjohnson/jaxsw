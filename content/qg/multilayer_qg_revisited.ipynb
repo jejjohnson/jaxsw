{
 "cells": [
  {
   "cell_type": "markdown",
   "id": "663302d1",
   "metadata": {
    "tags": []
   },
   "source": [
    "---\n",
    "title: 3 Layer Stacked QG Model\n",
    "subject: Jax Approximate Ocean Models\n",
    "# subtitle: How can I estimate the state AND the parameters?\n",
    "short_title: Stacked QG\n",
    "authors:\n",
    "  - name: J. Emmanuel Johnson\n",
    "    affiliations:\n",
    "      - CNRS\n",
    "      - MEOM\n",
    "    orcid: 0000-0002-6739-0053\n",
    "    email: jemanjohnson34@gmail.com\n",
    "  - name: Takaya Uchida\n",
    "    affiliations:\n",
    "      - FSU\n",
    "    orcid: https://orcid.org/0000-0002-8654-6009\n",
    "    email: tuchida@fsu.edu\n",
    "license: CC-BY-4.0\n",
    "keywords: jax, shallow water model, differentiable\n",
    "abbreviations:\n",
    "    SW: Shallow Water\n",
    "    QG: Quasi-Geostrophic\n",
    "    PDE: Partial Differential Equation\n",
    "    RHS: Right Hand Side\n",
    "---"
   ]
  },
  {
   "cell_type": "code",
   "execution_count": 1,
   "id": "1f10932d",
   "metadata": {
    "tags": []
   },
   "outputs": [],
   "source": [
    "import autoroot\n",
    "import jax\n",
    "import jax.numpy as jnp\n",
    "import jax.scipy as jsp\n",
    "from jax.config import config\n",
    "import numpy as np\n",
    "import numba as nb\n",
    "import pandas as pd\n",
    "import equinox as eqx\n",
    "import finitediffx as fdx\n",
    "import diffrax as dfx\n",
    "import xarray as xr\n",
    "import einops\n",
    "import matplotlib.pyplot as plt\n",
    "import seaborn as sns\n",
    "from einops import rearrange, repeat, reduce\n",
    "from tqdm.notebook import tqdm, trange\n",
    "from jaxtyping import Array, Float\n",
    "import typing as tp\n",
    "import einops\n",
    "\n",
    "from jaxsw._src.domain.base import Domain\n",
    "from jaxsw._src.operators.functional import advection as F_adv\n",
    "from jaxsw._src.operators.functional import geostrophic as F_geos\n",
    "from jaxsw._src.operators.functional import cgrid as F_cgrid\n",
    "from jaxsw._src.operators.functional import grid as F_grid\n",
    "from jaxsw._src.boundaries.helmholtz import enforce_boundaries_helmholtz\n",
    "from jaxsw._src.models import qg_louis as F_louis\n",
    "from jaxsw._src.models import qg_ml as F_qgml\n",
    "\n",
    "sns.reset_defaults()\n",
    "sns.set_context(context=\"talk\", font_scale=0.7)\n",
    "config.update(\"jax_enable_x64\", True)\n",
    "\n",
    "\n",
    "%matplotlib inline\n",
    "%load_ext autoreload\n",
    "%autoreload 2"
   ]
  },
  {
   "cell_type": "code",
   "execution_count": 2,
   "id": "5653fb69-469c-4d1c-a17c-68f7538f9277",
   "metadata": {},
   "outputs": [],
   "source": [
    "from jaxsw._src.operators.functional import interp as F_interp"
   ]
  },
  {
   "cell_type": "code",
   "execution_count": 3,
   "id": "473d9e9e",
   "metadata": {},
   "outputs": [],
   "source": [
    "from loguru import logger\n",
    "\n",
    "\n",
    "def plot_field(field):\n",
    "    num_axis = len(field)\n",
    "    fig, ax = plt.subplots(ncols=num_axis, figsize=(8, 2))\n",
    "\n",
    "    for i in range(num_axis):\n",
    "        pts = ax[i].pcolormesh(field[i], cmap=\"coolwarm\")\n",
    "        plt.colorbar(pts)\n",
    "\n",
    "    plt.tight_layout()\n",
    "    plt.show()\n",
    "\n",
    "\n",
    "def print_debug_quantity(quantity, name=\"\"):\n",
    "    size = quantity.shape\n",
    "    min_ = np.min(quantity)\n",
    "    max_ = np.max(quantity)\n",
    "    mean_ = np.mean(quantity)\n",
    "    median_ = np.mean(quantity)\n",
    "    logger.debug(\n",
    "        f\"{name}: {size} | {min_:.6e} | {mean_:.6e} | {median_:.6e} | {max_:.6e}\"\n",
    "    )"
   ]
  },
  {
   "cell_type": "markdown",
   "id": "78dd852c",
   "metadata": {},
   "source": [
    "In this problem, we are looking at sea surface height (SSH) in relation to the Quasi-Geostrophic (QG) equations. These equations are a simplified form for the Navier-Stokes equations with approximations like *hydrostatic approximation*, *small aspect ratio*, and a *small Rossby number*. Ideally, these equations might be a decent approximation at mesoscale (100km - 10,000km). In this application, we will see how SSH propagates with the QG equations."
   ]
  },
  {
   "cell_type": "markdown",
   "id": "9ad5e2a9",
   "metadata": {
    "tags": []
   },
   "source": [
    "## Equations\n",
    "\n",
    "\n",
    "$$\n",
    "\\partial_t q_k + (u_kq_k)_x + (v_kq_k)_y = F_k + D_k\n",
    "$$ (eq:qg_form_adv)\n",
    "\n",
    "The term that links each of the layers together, $\\mathbf{A}$, is a tri-diagonal matrix that can be written as\n",
    "\n",
    "$$\n",
    "\\mathbf{A} =\n",
    "\\begin{bmatrix}\n",
    "\\frac{1}{H_1 g_1'} & \\frac{-1}{H_1 g_1'} & \\ldots & \\ldots & \\ldots  \\\\\n",
    "\\frac{-1}{H_2 g_1'} & \\frac{1}{H_1}\\left(\\frac{1}{g_1'} + \\frac{1}{g_2'} \\right) & \\frac{-1}{H_2 g_2'} & \\ldots & \\ldots  \\\\\n",
    "\\ldots & \\ldots & \\ldots & \\ldots & \\ldots \\\\\n",
    "\\ldots & \\ldots & \\frac{-1}{H_{n-1} g_{n-2}'} & \\frac{1}{H_{n-1}}\\left(\\frac{1}{g_{n-2}'} + \\frac{1}{g_{n-1}'} \\right) & \\frac{-1}{H_{n-1} g_{n-2}'}  \\\\\n",
    "\\ldots & \\ldots& \\ldots & \\frac{-1}{H_n g_{n-1}'} & \\frac{1}{H_n g_{n-1}'}   \\\\\n",
    "\\end{bmatrix}\n",
    "$$ (eq:qg_A)\n",
    "\n",
    "In the paper [[Thiry et al., 2023](https://doi.org/10.22541/essoar.167397445.54992823/v1),[Thiry et al., 2023](https://egusphere.copernicus.org/preprints/2023/egusphere-2023-1715/)], they use the following method\n",
    "\n",
    "$$\n",
    "\\begin{aligned}\n",
    "\\text{Hyperviscosity}: && \n",
    "\\boldsymbol{D_1} &= \n",
    "-a_4\\boldsymbol{\\nabla}_H^6\\psi\\\\\n",
    "\\text{Wind Forcing}: && \n",
    "\\boldsymbol{F} &= \n",
    "\\frac{\\tau_0}{\\rho_0H_1}\\left[\\partial_x\\tau_y - \\partial_y\\tau_x, 0\\cdots,0\\right]\\\\\n",
    "\\text{Bottom Drag}: && \n",
    "\\boldsymbol{D_2} &= \n",
    "\\frac{\\delta_{ek}}{2H_{N_Z}}\n",
    "\\left[0,\\cdots,0,\\Delta\\psi_N\\right]\n",
    "\\end{aligned}\n",
    "$$\n",
    "\n",
    "Source:\n",
    "* [Geophysical Fluid Dynamcis - Pedlosky](https://doi.org/10.1007/978-1-4612-4650-3)\n",
    "* [Atmosphere and Oceanic Fluid Dynamics - Vallis](https://doi.org/10.1017/9781107588417)"
   ]
  },
  {
   "cell_type": "markdown",
   "id": "67df1e64-a52e-4721-b2d3-b233c60599af",
   "metadata": {},
   "source": [
    "$$\n",
    "\\begin{aligned}\n",
    "\\Omega_\\psi &\\in[N_x,N_y] && && [x_0,y_0] && && [x_1,y_1] \\\\ \n",
    "\\Omega_u &\\in[N_x,N_y+1] && && [x_0,y_0-\\frac{1}{2}dy] && && [x_1,y_1+\\frac{1}{2}dy]  \\\\ \n",
    "\\Omega_v &\\in[N_x+1,N_y] && && [x_0-\\frac{1}{2}dx,y_0] && && [x_1+\\frac{1}{2}dx,y_1]  \\\\ \n",
    "\\Omega_q &\\in[N_x-1,N_y-1] && && [x_0+\\frac{1}{2}dx,y_0+\\frac{1}{2}dy] && && [x_1-\\frac{1}{2}dx,y_1-\\frac{1}{2}dy] \n",
    "\\end{aligned}\n",
    "$$"
   ]
  },
  {
   "cell_type": "markdown",
   "id": "545da4be",
   "metadata": {},
   "source": [
    "## Parameters"
   ]
  },
  {
   "cell_type": "code",
   "execution_count": 4,
   "id": "1d74c648-35cf-4c86-ab9a-04a0661ee161",
   "metadata": {},
   "outputs": [
    {
     "data": {
      "text/plain": [
       "\u001b[0;31mInit signature:\u001b[0m \u001b[0mF_qgml\u001b[0m\u001b[0;34m.\u001b[0m\u001b[0mPDEParams\u001b[0m\u001b[0;34m(\u001b[0m\u001b[0;34m*\u001b[0m\u001b[0margs\u001b[0m\u001b[0;34m,\u001b[0m \u001b[0;34m**\u001b[0m\u001b[0mkwargs\u001b[0m\u001b[0;34m)\u001b[0m\u001b[0;34m\u001b[0m\u001b[0;34m\u001b[0m\u001b[0m\n",
       "\u001b[0;31mDocstring:\u001b[0m      PDEParams(*args, **kwargs)\n",
       "\u001b[0;31mSource:\u001b[0m        \n",
       "\u001b[0;32mclass\u001b[0m \u001b[0mPDEParams\u001b[0m\u001b[0;34m(\u001b[0m\u001b[0meqx\u001b[0m\u001b[0;34m.\u001b[0m\u001b[0mModule\u001b[0m\u001b[0;34m)\u001b[0m\u001b[0;34m:\u001b[0m\u001b[0;34m\u001b[0m\n",
       "\u001b[0;34m\u001b[0m    \u001b[0mf0\u001b[0m\u001b[0;34m:\u001b[0m \u001b[0mfloat\u001b[0m \u001b[0;34m=\u001b[0m \u001b[0;36m9.375e-5\u001b[0m  \u001b[0;31m# coriolis [s^-1]\u001b[0m\u001b[0;34m\u001b[0m\n",
       "\u001b[0;34m\u001b[0m    \u001b[0mbeta\u001b[0m\u001b[0;34m:\u001b[0m \u001b[0mfloat\u001b[0m \u001b[0;34m=\u001b[0m \u001b[0;36m1.754e-11\u001b[0m  \u001b[0;31m# coriolis gradient [m^-1 s^-1]\u001b[0m\u001b[0;34m\u001b[0m\n",
       "\u001b[0;34m\u001b[0m    \u001b[0mtau0\u001b[0m\u001b[0;34m:\u001b[0m \u001b[0mfloat\u001b[0m \u001b[0;34m=\u001b[0m \u001b[0;36m2.0e-5\u001b[0m  \u001b[0;31m# wind stress magnitude m/s^2\u001b[0m\u001b[0;34m\u001b[0m\n",
       "\u001b[0;34m\u001b[0m    \u001b[0my0\u001b[0m\u001b[0;34m:\u001b[0m \u001b[0mfloat\u001b[0m \u001b[0;34m=\u001b[0m \u001b[0;36m2_400_000.0\u001b[0m  \u001b[0;31m# [m]\u001b[0m\u001b[0;34m\u001b[0m\n",
       "\u001b[0;34m\u001b[0m    \u001b[0ma_2\u001b[0m\u001b[0;34m:\u001b[0m \u001b[0mfloat\u001b[0m \u001b[0;34m=\u001b[0m \u001b[0;36m0.0\u001b[0m  \u001b[0;31m# laplacian diffusion coef (m^2/s)\u001b[0m\u001b[0;34m\u001b[0m\n",
       "\u001b[0;34m\u001b[0m    \u001b[0ma_4\u001b[0m\u001b[0;34m:\u001b[0m \u001b[0mfloat\u001b[0m \u001b[0;34m=\u001b[0m \u001b[0;36m5.0e11\u001b[0m  \u001b[0;31m# LR # 2.0e9 # HR\u001b[0m\u001b[0;34m\u001b[0m\n",
       "\u001b[0;34m\u001b[0m    \u001b[0mbcco\u001b[0m\u001b[0;34m:\u001b[0m \u001b[0mfloat\u001b[0m \u001b[0;34m=\u001b[0m \u001b[0;36m0.2\u001b[0m  \u001b[0;31m# boundary condition coef. (non-dim.)\u001b[0m\u001b[0;34m\u001b[0m\n",
       "\u001b[0;34m\u001b[0m    \u001b[0mdelta_ek\u001b[0m\u001b[0;34m:\u001b[0m \u001b[0mfloat\u001b[0m \u001b[0;34m=\u001b[0m \u001b[0;36m2.0\u001b[0m  \u001b[0;31m# eckman height [m]\u001b[0m\u001b[0;34m\u001b[0m\n",
       "\u001b[0;34m\u001b[0m\u001b[0;34m\u001b[0m\n",
       "\u001b[0;34m\u001b[0m    \u001b[0;34m@\u001b[0m\u001b[0mproperty\u001b[0m\u001b[0;34m\u001b[0m\n",
       "\u001b[0;34m\u001b[0m    \u001b[0;32mdef\u001b[0m \u001b[0mzfbc\u001b[0m\u001b[0;34m(\u001b[0m\u001b[0mself\u001b[0m\u001b[0;34m)\u001b[0m\u001b[0;34m:\u001b[0m\u001b[0;34m\u001b[0m\n",
       "\u001b[0;34m\u001b[0m        \u001b[0;32mreturn\u001b[0m \u001b[0mself\u001b[0m\u001b[0;34m.\u001b[0m\u001b[0mbcco\u001b[0m \u001b[0;34m/\u001b[0m \u001b[0;34m(\u001b[0m\u001b[0;36m1.0\u001b[0m \u001b[0;34m+\u001b[0m \u001b[0;36m0.5\u001b[0m \u001b[0;34m*\u001b[0m \u001b[0mself\u001b[0m\u001b[0;34m.\u001b[0m\u001b[0mbcco\u001b[0m\u001b[0;34m)\u001b[0m\u001b[0;34m\u001b[0m\u001b[0;34m\u001b[0m\u001b[0m\n",
       "\u001b[0;31mFile:\u001b[0m           ~/code_projects/jaxsw/jaxsw/_src/models/qg_ml.py\n",
       "\u001b[0;31mType:\u001b[0m           _ModuleMeta\n",
       "\u001b[0;31mSubclasses:\u001b[0m     "
      ]
     },
     "metadata": {},
     "output_type": "display_data"
    }
   ],
   "source": [
    "F_qgml.PDEParams??"
   ]
  },
  {
   "cell_type": "code",
   "execution_count": 5,
   "id": "11f406a9",
   "metadata": {},
   "outputs": [],
   "source": [
    "a_4 = 5.0e11  # 2.0e9 #\n",
    "params = F_qgml.PDEParams()"
   ]
  },
  {
   "cell_type": "markdown",
   "id": "aff2ae6c",
   "metadata": {},
   "source": [
    "## Domain"
   ]
  },
  {
   "cell_type": "code",
   "execution_count": 6,
   "id": "6c25307f-be31-4ba0-ab99-5cbe8ee0b854",
   "metadata": {},
   "outputs": [],
   "source": [
    "import jaxsw._src.domain.base_v2 as Domain"
   ]
  },
  {
   "cell_type": "code",
   "execution_count": 7,
   "id": "f3b6e380-cce2-4147-81eb-9a873165c219",
   "metadata": {},
   "outputs": [],
   "source": [
    "# Low Resolution\n",
    "Nx, Ny = 97, 121\n",
    "# High Resolution\n",
    "# Nx, Ny = 769, 961\n",
    "\n",
    "# Lx, Ly = 3840.0e3, 4800.0e3\n",
    "Lx, Ly = 5_120.0e3, 5_120.0e3\n",
    "\n",
    "x_domain = Domain.init_domain_1d(Lx, Nx)\n",
    "y_domain = Domain.init_domain_1d(Ly, Ny)\n",
    "x_domain, y_domain\n",
    "xy_domain = x_domain * y_domain\n"
   ]
  },
  {
   "cell_type": "code",
   "execution_count": 8,
   "id": "0bea7c77-6ca0-416c-a7b1-748e45082c1b",
   "metadata": {},
   "outputs": [],
   "source": [
    "def check_field_shapes(u: Array, name: str=\"psi\"):\n",
    "\n",
    "    shape = np.array(u).shape[-2:]\n",
    "    if name == \"psi\":\n",
    "        assert shape == (Nx, Ny)\n",
    "    elif name == \"psi_i\":\n",
    "        assert shape == (Nx-2,Ny-2)\n",
    "    elif name == \"u\":\n",
    "        assert shape == (Nx,Ny-1)\n",
    "    elif name == \"v\":\n",
    "        assert shape == (Nx-1,Ny)\n",
    "    elif name == \"q\":\n",
    "        assert shape == (Nx-1,Ny-1)\n",
    "    else:\n",
    "        raise ValueError(f\"Unreocngized field: {name}\")\n",
    "        "
   ]
  },
  {
   "cell_type": "code",
   "execution_count": 9,
   "id": "17e4671c-fc56-4e56-a644-136ff5a962c7",
   "metadata": {},
   "outputs": [],
   "source": [
    "check_field_shapes(xy_domain.grid_axis[0], name=\"psi\")\n",
    "check_field_shapes(xy_domain.grid_axis[1], name=\"psi\")"
   ]
  },
  {
   "cell_type": "code",
   "execution_count": 10,
   "id": "ac34c01e-45c8-4abb-a55f-4a5513d4f7e0",
   "metadata": {},
   "outputs": [
    {
     "data": {
      "text/plain": [
       "((0.010416666666666666, 0.008333333333333333),\n",
       " (97, 121),\n",
       " (5120000.0, 5120000.0),\n",
       " 8.680555555555555e-05,\n",
       " 2)"
      ]
     },
     "execution_count": 10,
     "metadata": {},
     "output_type": "execute_result"
    }
   ],
   "source": [
    "xy_domain.dx, xy_domain.Nx, xy_domain.Lx, xy_domain.cell_volume, xy_domain.ndim"
   ]
  },
  {
   "cell_type": "markdown",
   "id": "1e301074",
   "metadata": {},
   "source": [
    "### Heights\n"
   ]
  },
  {
   "cell_type": "markdown",
   "id": "46238bb8",
   "metadata": {},
   "source": [
    "Remember equation [](#eq:qg_A)"
   ]
  },
  {
   "cell_type": "code",
   "execution_count": 11,
   "id": "9a6e8f2f-f0cd-40cd-942b-a27fe34a65f2",
   "metadata": {},
   "outputs": [
    {
     "data": {
      "text/plain": [
       "\u001b[0;31mSignature:\u001b[0m\n",
       "\u001b[0mcreate_qg_multilayer_mat\u001b[0m\u001b[0;34m(\u001b[0m\u001b[0;34m\u001b[0m\n",
       "\u001b[0;34m\u001b[0m    \u001b[0mheights\u001b[0m\u001b[0;34m:\u001b[0m \u001b[0mList\u001b[0m\u001b[0;34m[\u001b[0m\u001b[0mfloat\u001b[0m\u001b[0;34m]\u001b[0m\u001b[0;34m,\u001b[0m\u001b[0;34m\u001b[0m\n",
       "\u001b[0;34m\u001b[0m    \u001b[0mreduced_gravities\u001b[0m\u001b[0;34m:\u001b[0m \u001b[0mList\u001b[0m\u001b[0;34m[\u001b[0m\u001b[0mfloat\u001b[0m\u001b[0;34m]\u001b[0m\u001b[0;34m,\u001b[0m\u001b[0;34m\u001b[0m\n",
       "\u001b[0;34m\u001b[0m\u001b[0;34m)\u001b[0m \u001b[0;34m->\u001b[0m \u001b[0mnumpy\u001b[0m\u001b[0;34m.\u001b[0m\u001b[0mndarray\u001b[0m\u001b[0;34m\u001b[0m\u001b[0;34m\u001b[0m\u001b[0m\n",
       "\u001b[0;31mSource:\u001b[0m   \n",
       "\u001b[0;32mdef\u001b[0m \u001b[0mcreate_qg_multilayer_mat\u001b[0m\u001b[0;34m(\u001b[0m\u001b[0;34m\u001b[0m\n",
       "\u001b[0;34m\u001b[0m    \u001b[0mheights\u001b[0m\u001b[0;34m:\u001b[0m \u001b[0mtp\u001b[0m\u001b[0;34m.\u001b[0m\u001b[0mList\u001b[0m\u001b[0;34m[\u001b[0m\u001b[0mfloat\u001b[0m\u001b[0;34m]\u001b[0m\u001b[0;34m,\u001b[0m \u001b[0mreduced_gravities\u001b[0m\u001b[0;34m:\u001b[0m \u001b[0mtp\u001b[0m\u001b[0;34m.\u001b[0m\u001b[0mList\u001b[0m\u001b[0;34m[\u001b[0m\u001b[0mfloat\u001b[0m\u001b[0;34m]\u001b[0m\u001b[0;34m\u001b[0m\n",
       "\u001b[0;34m\u001b[0m\u001b[0;34m)\u001b[0m \u001b[0;34m->\u001b[0m \u001b[0mnp\u001b[0m\u001b[0;34m.\u001b[0m\u001b[0mndarray\u001b[0m\u001b[0;34m:\u001b[0m\u001b[0;34m\u001b[0m\n",
       "\u001b[0;34m\u001b[0m    \u001b[0;34m\"\"\"Computes the Matrix that is used to connected a stacked\u001b[0m\n",
       "\u001b[0;34m    isopycnal Quasi-Geostrophic model.\u001b[0m\n",
       "\u001b[0;34m\u001b[0m\n",
       "\u001b[0;34m    Args:\u001b[0m\n",
       "\u001b[0;34m        heights (tp.List[float]): the height for each layer\u001b[0m\n",
       "\u001b[0;34m            Size = [Nx]\u001b[0m\n",
       "\u001b[0;34m        reduced_gravities (tp.List[float]): the reduced gravities\u001b[0m\n",
       "\u001b[0;34m            for each layer, Size = [Nx-1]\u001b[0m\n",
       "\u001b[0;34m\u001b[0m\n",
       "\u001b[0;34m    Returns:\u001b[0m\n",
       "\u001b[0;34m        np.ndarray: The Matrix connecting the layers, Size = [Nz, Nx]\u001b[0m\n",
       "\u001b[0;34m    \"\"\"\u001b[0m\u001b[0;34m\u001b[0m\n",
       "\u001b[0;34m\u001b[0m    \u001b[0mnum_heights\u001b[0m \u001b[0;34m=\u001b[0m \u001b[0mlen\u001b[0m\u001b[0;34m(\u001b[0m\u001b[0mheights\u001b[0m\u001b[0;34m)\u001b[0m\u001b[0;34m\u001b[0m\n",
       "\u001b[0;34m\u001b[0m\u001b[0;34m\u001b[0m\n",
       "\u001b[0;34m\u001b[0m    \u001b[0;31m# initialize matrix\u001b[0m\u001b[0;34m\u001b[0m\n",
       "\u001b[0;34m\u001b[0m    \u001b[0mA\u001b[0m \u001b[0;34m=\u001b[0m \u001b[0mnp\u001b[0m\u001b[0;34m.\u001b[0m\u001b[0mzeros\u001b[0m\u001b[0;34m(\u001b[0m\u001b[0;34m(\u001b[0m\u001b[0mnum_heights\u001b[0m\u001b[0;34m,\u001b[0m \u001b[0mnum_heights\u001b[0m\u001b[0;34m)\u001b[0m\u001b[0;34m)\u001b[0m\u001b[0;34m\u001b[0m\n",
       "\u001b[0;34m\u001b[0m\u001b[0;34m\u001b[0m\n",
       "\u001b[0;34m\u001b[0m    \u001b[0;32mif\u001b[0m \u001b[0mnum_heights\u001b[0m \u001b[0;34m==\u001b[0m \u001b[0;36m1\u001b[0m\u001b[0;34m:\u001b[0m\u001b[0;34m\u001b[0m\n",
       "\u001b[0;34m\u001b[0m        \u001b[0mA\u001b[0m\u001b[0;34m[\u001b[0m\u001b[0;36m0\u001b[0m\u001b[0;34m,\u001b[0m \u001b[0;36m0\u001b[0m\u001b[0;34m]\u001b[0m \u001b[0;34m=\u001b[0m \u001b[0;36m1.\u001b[0m \u001b[0;34m/\u001b[0m \u001b[0;34m(\u001b[0m\u001b[0mheights\u001b[0m\u001b[0;34m[\u001b[0m\u001b[0;36m0\u001b[0m\u001b[0;34m]\u001b[0m \u001b[0;34m*\u001b[0m \u001b[0mreduced_gravities\u001b[0m\u001b[0;34m[\u001b[0m\u001b[0;36m0\u001b[0m\u001b[0;34m]\u001b[0m\u001b[0;34m)\u001b[0m\u001b[0;34m\u001b[0m\n",
       "\u001b[0;34m\u001b[0m    \u001b[0;32melse\u001b[0m\u001b[0;34m:\u001b[0m\u001b[0;34m\u001b[0m\n",
       "\u001b[0;34m\u001b[0m        \u001b[0;31m# top rows\u001b[0m\u001b[0;34m\u001b[0m\n",
       "\u001b[0;34m\u001b[0m        \u001b[0mA\u001b[0m\u001b[0;34m[\u001b[0m\u001b[0;36m0\u001b[0m\u001b[0;34m,\u001b[0m \u001b[0;36m0\u001b[0m\u001b[0;34m]\u001b[0m \u001b[0;34m=\u001b[0m \u001b[0;36m1.0\u001b[0m \u001b[0;34m/\u001b[0m \u001b[0;34m(\u001b[0m\u001b[0mheights\u001b[0m\u001b[0;34m[\u001b[0m\u001b[0;36m0\u001b[0m\u001b[0;34m]\u001b[0m \u001b[0;34m*\u001b[0m \u001b[0mreduced_gravities\u001b[0m\u001b[0;34m[\u001b[0m\u001b[0;36m0\u001b[0m\u001b[0;34m]\u001b[0m\u001b[0;34m)\u001b[0m\u001b[0;34m\u001b[0m\n",
       "\u001b[0;34m\u001b[0m        \u001b[0mA\u001b[0m\u001b[0;34m[\u001b[0m\u001b[0;36m0\u001b[0m\u001b[0;34m,\u001b[0m \u001b[0;36m1\u001b[0m\u001b[0;34m]\u001b[0m \u001b[0;34m=\u001b[0m \u001b[0;34m-\u001b[0m\u001b[0;36m1.0\u001b[0m \u001b[0;34m/\u001b[0m \u001b[0;34m(\u001b[0m\u001b[0mheights\u001b[0m\u001b[0;34m[\u001b[0m\u001b[0;36m0\u001b[0m\u001b[0;34m]\u001b[0m \u001b[0;34m*\u001b[0m \u001b[0mreduced_gravities\u001b[0m\u001b[0;34m[\u001b[0m\u001b[0;36m0\u001b[0m\u001b[0;34m]\u001b[0m\u001b[0;34m)\u001b[0m\u001b[0;34m\u001b[0m\n",
       "\u001b[0;34m\u001b[0m    \u001b[0;34m\u001b[0m\n",
       "\u001b[0;34m\u001b[0m        \u001b[0;31m# interior rows\u001b[0m\u001b[0;34m\u001b[0m\n",
       "\u001b[0;34m\u001b[0m        \u001b[0;32mfor\u001b[0m \u001b[0mi\u001b[0m \u001b[0;32min\u001b[0m \u001b[0mrange\u001b[0m\u001b[0;34m(\u001b[0m\u001b[0;36m1\u001b[0m\u001b[0;34m,\u001b[0m \u001b[0mnum_heights\u001b[0m \u001b[0;34m-\u001b[0m \u001b[0;36m1\u001b[0m\u001b[0;34m)\u001b[0m\u001b[0;34m:\u001b[0m\u001b[0;34m\u001b[0m\n",
       "\u001b[0;34m\u001b[0m            \u001b[0mA\u001b[0m\u001b[0;34m[\u001b[0m\u001b[0mi\u001b[0m\u001b[0;34m,\u001b[0m \u001b[0mi\u001b[0m \u001b[0;34m-\u001b[0m \u001b[0;36m1\u001b[0m\u001b[0;34m]\u001b[0m \u001b[0;34m=\u001b[0m \u001b[0;34m-\u001b[0m\u001b[0;36m1.0\u001b[0m \u001b[0;34m/\u001b[0m \u001b[0;34m(\u001b[0m\u001b[0mheights\u001b[0m\u001b[0;34m[\u001b[0m\u001b[0mi\u001b[0m\u001b[0;34m]\u001b[0m \u001b[0;34m*\u001b[0m \u001b[0mreduced_gravities\u001b[0m\u001b[0;34m[\u001b[0m\u001b[0mi\u001b[0m \u001b[0;34m-\u001b[0m \u001b[0;36m1\u001b[0m\u001b[0;34m]\u001b[0m\u001b[0;34m)\u001b[0m\u001b[0;34m\u001b[0m\n",
       "\u001b[0;34m\u001b[0m            \u001b[0mA\u001b[0m\u001b[0;34m[\u001b[0m\u001b[0mi\u001b[0m\u001b[0;34m,\u001b[0m \u001b[0mi\u001b[0m\u001b[0;34m]\u001b[0m \u001b[0;34m=\u001b[0m \u001b[0;34m(\u001b[0m\u001b[0;34m\u001b[0m\n",
       "\u001b[0;34m\u001b[0m                \u001b[0;36m1.0\u001b[0m \u001b[0;34m/\u001b[0m \u001b[0mheights\u001b[0m\u001b[0;34m[\u001b[0m\u001b[0mi\u001b[0m\u001b[0;34m]\u001b[0m \u001b[0;34m*\u001b[0m \u001b[0;34m(\u001b[0m\u001b[0;36m1\u001b[0m \u001b[0;34m/\u001b[0m \u001b[0mreduced_gravities\u001b[0m\u001b[0;34m[\u001b[0m\u001b[0mi\u001b[0m\u001b[0;34m]\u001b[0m \u001b[0;34m+\u001b[0m \u001b[0;36m1\u001b[0m \u001b[0;34m/\u001b[0m \u001b[0mreduced_gravities\u001b[0m\u001b[0;34m[\u001b[0m\u001b[0mi\u001b[0m \u001b[0;34m-\u001b[0m \u001b[0;36m1\u001b[0m\u001b[0;34m]\u001b[0m\u001b[0;34m)\u001b[0m\u001b[0;34m\u001b[0m\n",
       "\u001b[0;34m\u001b[0m            \u001b[0;34m)\u001b[0m\u001b[0;34m\u001b[0m\n",
       "\u001b[0;34m\u001b[0m            \u001b[0mA\u001b[0m\u001b[0;34m[\u001b[0m\u001b[0mi\u001b[0m\u001b[0;34m,\u001b[0m \u001b[0mi\u001b[0m \u001b[0;34m+\u001b[0m \u001b[0;36m1\u001b[0m\u001b[0;34m]\u001b[0m \u001b[0;34m=\u001b[0m \u001b[0;34m-\u001b[0m\u001b[0;36m1.0\u001b[0m \u001b[0;34m/\u001b[0m \u001b[0;34m(\u001b[0m\u001b[0mheights\u001b[0m\u001b[0;34m[\u001b[0m\u001b[0mi\u001b[0m\u001b[0;34m]\u001b[0m \u001b[0;34m*\u001b[0m \u001b[0mreduced_gravities\u001b[0m\u001b[0;34m[\u001b[0m\u001b[0mnum_heights\u001b[0m \u001b[0;34m-\u001b[0m \u001b[0;36m2\u001b[0m\u001b[0;34m]\u001b[0m\u001b[0;34m)\u001b[0m\u001b[0;34m\u001b[0m\n",
       "\u001b[0;34m\u001b[0m    \u001b[0;34m\u001b[0m\n",
       "\u001b[0;34m\u001b[0m        \u001b[0;31m# bottom rows\u001b[0m\u001b[0;34m\u001b[0m\n",
       "\u001b[0;34m\u001b[0m        \u001b[0mA\u001b[0m\u001b[0;34m[\u001b[0m\u001b[0;34m-\u001b[0m\u001b[0;36m1\u001b[0m\u001b[0;34m,\u001b[0m \u001b[0;34m-\u001b[0m\u001b[0;36m1\u001b[0m\u001b[0;34m]\u001b[0m \u001b[0;34m=\u001b[0m \u001b[0;36m1.0\u001b[0m \u001b[0;34m/\u001b[0m \u001b[0;34m(\u001b[0m\u001b[0mheights\u001b[0m\u001b[0;34m[\u001b[0m\u001b[0mnum_heights\u001b[0m \u001b[0;34m-\u001b[0m \u001b[0;36m1\u001b[0m\u001b[0;34m]\u001b[0m \u001b[0;34m*\u001b[0m \u001b[0mreduced_gravities\u001b[0m\u001b[0;34m[\u001b[0m\u001b[0mnum_heights\u001b[0m \u001b[0;34m-\u001b[0m \u001b[0;36m2\u001b[0m\u001b[0;34m]\u001b[0m\u001b[0;34m)\u001b[0m\u001b[0;34m\u001b[0m\n",
       "\u001b[0;34m\u001b[0m        \u001b[0mA\u001b[0m\u001b[0;34m[\u001b[0m\u001b[0;34m-\u001b[0m\u001b[0;36m1\u001b[0m\u001b[0;34m,\u001b[0m \u001b[0;34m-\u001b[0m\u001b[0;36m2\u001b[0m\u001b[0;34m]\u001b[0m \u001b[0;34m=\u001b[0m \u001b[0;34m-\u001b[0m\u001b[0;36m1.0\u001b[0m \u001b[0;34m/\u001b[0m \u001b[0;34m(\u001b[0m\u001b[0mheights\u001b[0m\u001b[0;34m[\u001b[0m\u001b[0mnum_heights\u001b[0m \u001b[0;34m-\u001b[0m \u001b[0;36m1\u001b[0m\u001b[0;34m]\u001b[0m \u001b[0;34m*\u001b[0m \u001b[0mreduced_gravities\u001b[0m\u001b[0;34m[\u001b[0m\u001b[0mnum_heights\u001b[0m \u001b[0;34m-\u001b[0m \u001b[0;36m2\u001b[0m\u001b[0;34m]\u001b[0m\u001b[0;34m)\u001b[0m\u001b[0;34m\u001b[0m\n",
       "\u001b[0;34m\u001b[0m    \u001b[0;32mreturn\u001b[0m \u001b[0mA\u001b[0m\u001b[0;34m\u001b[0m\u001b[0;34m\u001b[0m\u001b[0m\n",
       "\u001b[0;31mFile:\u001b[0m      ~/code_projects/jaxsw/jaxsw/_src/domain/qg.py\n",
       "\u001b[0;31mType:\u001b[0m      function"
      ]
     },
     "metadata": {},
     "output_type": "display_data"
    }
   ],
   "source": [
    "from jaxsw._src.domain.qg import create_qg_multilayer_mat, LayerDomain\n",
    "# LayerDomain??\n",
    "create_qg_multilayer_mat??"
   ]
  },
  {
   "cell_type": "code",
   "execution_count": 12,
   "id": "ec3a4ea9",
   "metadata": {},
   "outputs": [
    {
     "data": {
      "text/plain": [
       "LayerDomain(\n",
       "  heights=f64[3],\n",
       "  reduced_gravities=f64[2],\n",
       "  Nz=3,\n",
       "  A=f64[3,3],\n",
       "  A_layer_2_mode=f64[3,3],\n",
       "  A_mode_2_layer=f64[3,3],\n",
       "  lambda_sq=f64[3]\n",
       ")"
      ]
     },
     "execution_count": 12,
     "metadata": {},
     "output_type": "execute_result"
    }
   ],
   "source": [
    "\n",
    "# heights\n",
    "heights = [350.0, 750.0, 2900.0]\n",
    "\n",
    "# reduced gravities\n",
    "reduced_gravities = [0.025, 0.0125]\n",
    "\n",
    "layer_domain = LayerDomain(heights, reduced_gravities)\n",
    "layer_domain"
   ]
  },
  {
   "cell_type": "markdown",
   "id": "198a84d5",
   "metadata": {},
   "source": [
    "### Helmholtz Matrices"
   ]
  },
  {
   "cell_type": "markdown",
   "id": "100ada83",
   "metadata": {},
   "source": [
    "We can precompute the Helmoltz matrices\n",
    "\n",
    "$$\n",
    "\\text{Helmholtz Operator}:=\\left(\\alpha\\boldsymbol{\\nabla}^2-\\beta\\right)u\n",
    "$$\n",
    "\n",
    "where\n",
    "\n",
    "$$\n",
    "\\begin{aligned}\n",
    "u &= \\psi \\\\\n",
    "\\alpha &= 1.0 \\\\\n",
    "\\beta &= f_0^2\\lambda^2\n",
    "\\end{aligned}\n",
    "$$"
   ]
  },
  {
   "cell_type": "code",
   "execution_count": 13,
   "id": "dc7ab9c6-4e0d-47de-a80f-bd596da7d9a9",
   "metadata": {
    "tags": []
   },
   "outputs": [],
   "source": [
    "from jaxsw._src.operators.functional.dst import helmholtz_dst, laplacian_dst, inverse_elliptic_dst\n",
    "\n",
    "def calculate_helmholtz_dst(domain: Domain, layer_domain: LayerDomain) -> Array:\n",
    "    \n",
    "    # get Laplacian dst transform\n",
    "    L_mat = laplacian_dst(domain.Nx[0]-2, domain.Nx[1]-2, domain.dx[0], domain.dx[1])\n",
    "    \n",
    "    # get beta term\n",
    "    lambda_sq = einops.rearrange(layer_domain.lambda_sq, \"Nz -> Nz 1 1\")\n",
    "    beta = params.f0**2 * lambda_sq\n",
    "    \n",
    "    # calculate helmholtz dst\n",
    "    H_mat = L_mat - beta\n",
    "    \n",
    "    return H_mat"
   ]
  },
  {
   "cell_type": "code",
   "execution_count": 14,
   "id": "5d78ebfc",
   "metadata": {},
   "outputs": [],
   "source": [
    "# from jaxsw._src.operators.functional import elliptical as F_elliptical\n",
    "H_mat = calculate_helmholtz_dst(xy_domain, layer_domain)"
   ]
  },
  {
   "cell_type": "code",
   "execution_count": 15,
   "id": "0b9202ad-c900-4434-9abe-be7bb2922914",
   "metadata": {},
   "outputs": [],
   "source": [
    "check_field_shapes(H_mat, name=\"psi_i\")"
   ]
  },
  {
   "cell_type": "code",
   "execution_count": 16,
   "id": "3e9b7b6b-d04a-4797-941d-d63882f4dc49",
   "metadata": {},
   "outputs": [
    {
     "data": {
      "image/png": "[encoded data removed]",
      "text/plain": [
       "<Figure size 800x200 with 6 Axes>"
      ]
     },
     "metadata": {},
     "output_type": "display_data"
    }
   ],
   "source": [
    "plot_field(H_mat)"
   ]
  },
  {
   "cell_type": "markdown",
   "id": "fd8555c2",
   "metadata": {},
   "source": [
    "### Inversion"
   ]
  },
  {
   "cell_type": "markdown",
   "id": "74516cae",
   "metadata": {},
   "source": [
    "We are interested in solving for the Helmholtz equation which is given by\n",
    "\n",
    "$$\n",
    "(\\boldsymbol{\\alpha\\nabla}_H^2 - \\boldsymbol{\\beta})p = q\n",
    "$$"
   ]
  },
  {
   "cell_type": "markdown",
   "id": "17329add",
   "metadata": {},
   "source": [
    "#### Homogeneous Solution"
   ]
  },
  {
   "cell_type": "markdown",
   "id": "12036ef3",
   "metadata": {},
   "source": [
    "First, we need to use the scheme to solve the homogeneous Helmholtz equation for the baroclinic nodes.\n",
    "The homoegeneous equation is given by:\n",
    "\n",
    "$$\n",
    "(\\boldsymbol{\\nabla}_H^2 - \\boldsymbol{\\beta})p = 0\n",
    "$$\n",
    "\n",
    "Let's reformulate the pressure to be:\n",
    "\n",
    "$$\n",
    "p = \\mathbf{L} + \\beta s\n",
    "$$\n",
    "\n",
    "where $\\mathbf{L}$ is a known solution of the Laplace's equation with non-zero boundaries.\n",
    "\n",
    "$$\n",
    "\\begin{aligned}\n",
    "\\boldsymbol{\\nabla}_H^2\\mathbf{L} &= 0 && && x\\in\\Omega\\\\\n",
    "\\boldsymbol{F}_{BC}(\\mathbf{L}) &= b && && x\\in\\partial\\Omega\\\\\n",
    "\\end{aligned}\n",
    "$$\n",
    "\n",
    " which is non\n"
   ]
  },
  {
   "cell_type": "code",
   "execution_count": 17,
   "id": "9d159750-6f44-459c-8c33-143382cb4fd0",
   "metadata": {
    "tags": []
   },
   "outputs": [],
   "source": [
    "class DSTSolution(eqx.Module):\n",
    "    homsol: Array = eqx.static_field()\n",
    "    homsol_mean: Array = eqx.static_field()\n",
    "    H_mat: Array = eqx.static_field()\n"
   ]
  },
  {
   "cell_type": "code",
   "execution_count": 18,
   "id": "47767328-853e-49f6-b2db-f925959d49ac",
   "metadata": {
    "tags": []
   },
   "outputs": [],
   "source": [
    "def compute_homogeneous_solution(\n",
    "    u: Array, \n",
    "    lambda_sq: Array,\n",
    "    mask: Array=None\n",
    "):\n",
    "    \n",
    "    # create constant field\n",
    "    constant_field = jnp.ones_like(u)\n",
    "    \n",
    "    # get homogeneous solution\n",
    "    sol = jax.vmap(inverse_elliptic_dst, in_axes=(0,0))(constant_field[:, 1:-1,1:-1], H_mat)\n",
    "    \n",
    "    # calculate the homogeneous solution\n",
    "    homsol = constant_field + sol * lambda_sq\n",
    "    \n",
    "    return homsol"
   ]
  },
  {
   "cell_type": "code",
   "execution_count": 19,
   "id": "9c93efb2-7120-423e-848a-3f9668231f34",
   "metadata": {},
   "outputs": [],
   "source": [
    "psi0 = jnp.zeros(shape=(layer_domain.Nz,) +xy_domain.Nx)\n",
    "\n",
    "homsol = compute_homogeneous_solution(\n",
    "    psi0, \n",
    "    lambda_sq=einops.rearrange(layer_domain.lambda_sq, \"Nz -> Nz 1 1\")\n",
    ")\n",
    "\n",
    "check_field_shapes(homsol, name=\"psi\")"
   ]
  },
  {
   "cell_type": "code",
   "execution_count": 20,
   "id": "80b5db43-2027-4b8f-9581-07f5d78058c8",
   "metadata": {},
   "outputs": [
    {
     "data": {
      "image/png": "[encoded data removed]",
      "text/plain": [
       "<Figure size 800x200 with 6 Axes>"
      ]
     },
     "metadata": {},
     "output_type": "display_data"
    }
   ],
   "source": [
    "plot_field(homsol)"
   ]
  },
  {
   "cell_type": "code",
   "execution_count": 21,
   "id": "7af67b6f-5c68-4367-a110-c557f91e0c66",
   "metadata": {},
   "outputs": [],
   "source": [
    "from jaxsw._src.operators.functional.finitevol.interp import x_average_2D, y_average_2D, center_average_2D"
   ]
  },
  {
   "cell_type": "code",
   "execution_count": 22,
   "id": "71614af7-dae8-40dd-b721-7593fdf14cc5",
   "metadata": {},
   "outputs": [],
   "source": [
    "homsol_i = center_average_2D(homsol) # * masks.q\n",
    "homsol_mean = einops.reduce(homsol_i, \"Nz Nx Ny -> Nz 1 1\", reduction=\"mean\")\n"
   ]
  },
  {
   "cell_type": "code",
   "execution_count": 23,
   "id": "f7901567-e3f7-4a40-87d9-902c2457ea43",
   "metadata": {
    "tags": []
   },
   "outputs": [],
   "source": [
    "dst_sol = DSTSolution(homsol=homsol, homsol_mean=homsol_mean, H_mat=H_mat)"
   ]
  },
  {
   "cell_type": "markdown",
   "id": "26928fc8",
   "metadata": {},
   "source": [
    "## Forcing"
   ]
  },
  {
   "cell_type": "markdown",
   "id": "5c9db5b5",
   "metadata": {},
   "source": [
    "## RHS"
   ]
  },
  {
   "cell_type": "markdown",
   "id": "16d4fe45",
   "metadata": {},
   "source": [
    "$$\n",
    "\\begin{aligned}\n",
    "\\text{Advection}: && \n",
    "\\boldsymbol{D_1} &= \n",
    "-\\frac{1}{f_0}\\boldsymbol{J}(q,p)\\\\\n",
    "\\text{Diffusion}: && \n",
    "\\boldsymbol{D_2} &= \n",
    "\\frac{a_2}{f_0}\\boldsymbol{\\nabla}_H^4\\psi\\\\\n",
    "\\text{HyperDiffusion}: && \n",
    "\\boldsymbol{D_2} &= \n",
    "-\\frac{a_4}{f_0}\\boldsymbol{\\nabla}_H^6\\psi\\\\\n",
    "\\text{Wind Forcing}: && \n",
    "\\boldsymbol{F} &= \n",
    "\\frac{\\tau_0}{\\rho_0H_1}\\left[\\partial_x\\tau_y - \\partial_y\\tau_x, 0\\cdots,0\\right]\\\\\n",
    "\\text{Bottom Drag}: && \n",
    "\\boldsymbol{D_2} &= \n",
    "\\frac{\\delta_{ek}}{2H_{N_Z}}\n",
    "\\left[0,\\cdots,0,\\Delta\\psi_N\\right]\n",
    "\\end{aligned}\n",
    "$$"
   ]
  },
  {
   "cell_type": "markdown",
   "id": "4de8cfb6",
   "metadata": {},
   "source": [
    "#### Advection Term\n",
    "\n",
    "$$\n",
    "\\boldsymbol{D_1} = \n",
    "-\\frac{1}{f_0}\\boldsymbol{J}(q,p)\n",
    "$$\n",
    "\n",
    "Here, we will use the (determinant) Jacobian to calculate this."
   ]
  },
  {
   "cell_type": "markdown",
   "id": "623c918f-17ab-41c7-bd6a-71a7cab7e163",
   "metadata": {},
   "source": [
    "### Potential Vorticity"
   ]
  },
  {
   "cell_type": "markdown",
   "id": "02fefa4f-b4d3-45a5-b348-1a979019767b",
   "metadata": {},
   "source": [
    "$$\n",
    "q = \\nabla^2\\psi - f_0^2 A\\psi + \\beta (y-y_0)\n",
    "$$"
   ]
  },
  {
   "cell_type": "code",
   "execution_count": 24,
   "id": "545f30c9-4679-411f-b822-9cff1198aa83",
   "metadata": {
    "tags": []
   },
   "outputs": [],
   "source": [
    "from jaxsw._src.operators.functional.finitevol.difference import gradient_perpendicular, laplacian\n",
    "from jaxsw._src.operators.functional.interp.flux import tracer_flux\n",
    "\n",
    "def calculate_potential_vorticity(\n",
    "    psi: Array, \n",
    "    domain: Domain, \n",
    "    layer_domain: LayerDomain, \n",
    "    masks=None\n",
    ") -> Array:\n",
    "    \n",
    "    # calculate velocities\n",
    "    # [Nx,Ny] --> [Nx,Ny-1],[Nx-1,Ny]\n",
    "    u, v = jax.vmap(\n",
    "        gradient_perpendicular, in_axes=(0,None,None), out_axes=(0,0)\n",
    "    )(\n",
    "        psi, *domain.dx\n",
    "    )\n",
    "    \n",
    "    check_field_shapes(u, name=\"u\")\n",
    "    check_field_shapes(v, name=\"v\")\n",
    "    \n",
    "    # calculate laplacian [Nx,Ny] --> [Nx-2, Ny-2]\n",
    "    psi_lap = jax.vmap(laplacian, in_axes=(0,None))(psi, domain.dx)\n",
    "    check_field_shapes(psi_lap, name=\"psi_i\")\n",
    "    \n",
    "    # pad \n",
    "    # [Nx-2,Ny-2] --> [Nx,Ny]\n",
    "    psi_lap = jnp.pad(psi_lap, pad_width=((0,0),(1,1),(1,1)), mode=\"constant\", constant_values=0.0)\n",
    "    \n",
    "    # apply boundary conditions on psi\n",
    "    if masks:\n",
    "        psi_lap *= masks.psi\n",
    "\n",
    "    check_field_shapes(psi_lap, name=\"psi\")\n",
    "    \n",
    "    # calculate beta term in helmholtz decomposition\n",
    "    beta_lap = params.f0**2 * jnp.einsum(\"lm,...mxy->...lxy\", layer_domain.A, psi)\n",
    "    check_field_shapes(beta_lap, name=\"psi\")\n",
    "    \n",
    "    # calculate beta-plane\n",
    "    f_y = params.beta * (xy_domain.grid_axis[1] - params.y0)\n",
    "    \n",
    "    q = psi_lap - beta_lap + f_y\n",
    "    check_field_shapes(q, name=\"psi\")\n",
    "    \n",
    "    \n",
    "    # [Nx,Ny] --> [Nx-1,Ny-1]\n",
    "    q = center_average_2D(q)\n",
    "    check_field_shapes(q, name=\"q\")\n",
    "    \n",
    "    # apply boundary conditions on q\n",
    "    if masks:\n",
    "        q *= masks.q\n",
    "    \n",
    "    return q, u, v"
   ]
  },
  {
   "cell_type": "code",
   "execution_count": 28,
   "id": "2527f797-06fa-45f7-a500-afc9308e26d9",
   "metadata": {},
   "outputs": [],
   "source": [
    "q, u, v = calculate_potential_vorticity(psi0, xy_domain, layer_domain)"
   ]
  },
  {
   "cell_type": "markdown",
   "id": "72aa0d1d-b156-4a81-bac2-f91e03d3769a",
   "metadata": {},
   "source": [
    "## Fluxes"
   ]
  },
  {
   "cell_type": "markdown",
   "id": "1064f771-7111-4426-901d-448ab30ae983",
   "metadata": {},
   "source": [
    "$$\n",
    "\\nabla \\cdot (\\vec{u}q) = \\partial_x (uq) + \\partial_y (vq)\n",
    "$$"
   ]
  },
  {
   "cell_type": "markdown",
   "id": "5f762e99-cc69-4859-90ff-fcedf996618d",
   "metadata": {},
   "source": [
    "**Tracer Flux**\n",
    "\n",
    "$$\n",
    "(uq) && | && (vq)\n",
    "$$"
   ]
  },
  {
   "cell_type": "markdown",
   "id": "ef4655a5-f307-4141-bac9-4ceede882fd9",
   "metadata": {},
   "source": [
    "**Differentiation**\n",
    "\n",
    "$$\n",
    "\\partial_x (uq) && | && \\partial_y (vq)\n",
    "$$"
   ]
  },
  {
   "cell_type": "code",
   "execution_count": 29,
   "id": "9bac7167-e5fb-4dca-b5d3-5700a9b37b21",
   "metadata": {
    "tags": []
   },
   "outputs": [],
   "source": [
    "# tracer_flux??"
   ]
  },
  {
   "cell_type": "code",
   "execution_count": 30,
   "id": "bad2c842-e764-4a65-b67f-a4073c5c3f93",
   "metadata": {
    "tags": []
   },
   "outputs": [],
   "source": [
    "def advection_rhs(\n",
    "    q: Array, \n",
    "    u: Array, \n",
    "    v: Array, \n",
    "    dx: float, dy: float,\n",
    "    num_pts: int=1\n",
    "):\n",
    "    \"\"\"Calculates the advection term on the RHS of the Multilayer QG\n",
    "    PDE. It assumes we use an arakawa C-grid whereby the potential \n",
    "    vorticity term is on the cell centers, the zonal velocity is on the\n",
    "    east-west cell faces, and the meridional velocity is on the \n",
    "    north-south cell faces.\n",
    "        \n",
    "    Equation:\n",
    "        u̅⋅∇ q = ∂x(uq) + ∂y(vq)\n",
    "        \n",
    "    This uses the conservative method which calculates the flux terms\n",
    "    independently, (uq, vq) and then we calculate the partial \n",
    "    derivatives.\n",
    "    \n",
    "    Args:\n",
    "        q (Array): the potential vorticity term on the cell centers\n",
    "            Size = [Nx-1, Ny-1]\n",
    "        u (Array): the zonal velocity term on the cell east-west face.\n",
    "            Size = [Nx, Ny-1]\n",
    "        v (Array): the meridional velocity term on the cell north-south\n",
    "            face, Size = [Nx-1, Ny]\n",
    "    Returns:\n",
    "        div_flux (Array): the flux divergence on the cell centers\n",
    "            Size = [Nx-1,Ny-1]\n",
    "    \n",
    "    \"\"\"\n",
    "    \n",
    "    # take interior points of velocities\n",
    "    # [Nx,Ny-1] --> [Nx-2,Ny-1]\n",
    "    u_i = u[..., 1:-1, :]\n",
    "    # [Nx-1,Ny] --> [Nx-1,Ny-2]\n",
    "    v_i = v[..., 1:-1]\n",
    "    \n",
    "    # calculate flux terms\n",
    "    # [Nx-1,Ny-1],[Nx-2,Ny-1] --> [Nx-2,Ny-1]\n",
    "    q_flux_on_u = tracer_flux(q, u_i, dim=-2, num_pts=num_pts)\n",
    "    # [Nx-1,Ny-1],[Nx-2,Ny-1] --> [Nx-2,Ny-1]\n",
    "    q_flux_on_v = tracer_flux(q, v_i, dim=-1, num_pts=num_pts)\n",
    "    \n",
    "    # pad arrays to comply with velocities (cell faces)\n",
    "    # [Nx-2,Ny-1] --> [Nx,Ny-1]\n",
    "    q_flux_on_u = jnp.pad(q_flux_on_u, pad_width=((0,0),(1,1),(0,0)))\n",
    "    # [Nx-1,Ny-2] --> [Nx-1,Ny-2]\n",
    "    q_flux_on_v = jnp.pad(q_flux_on_v, pad_width=((0,0),(0,0),(1,1)))\n",
    "    \n",
    "    check_field_shapes(q_flux_on_u, name=\"u\")\n",
    "    check_field_shapes(q_flux_on_v, name=\"v\")\n",
    "    \n",
    "    \n",
    "    # calculate partial derivatives\n",
    "    # ∂x(uq), ∂y(vq)\n",
    "    # [Nx,Ny-1] --> [Nx-1,Ny-1]\n",
    "    dq_flux_dx = jnp.diff(q_flux_on_u, n=1, axis=-2) / dx\n",
    "    # [Nx-1,Ny] --> [Nx-1,Ny-1]\n",
    "    dq_flux_dy = jnp.diff(q_flux_on_v, n=1, axis=-1) / dy\n",
    "    \n",
    "    check_field_shapes(dq_flux_dx, name=\"q\")\n",
    "    check_field_shapes(dq_flux_dy, name=\"q\")\n",
    "    \n",
    "    # calculate the divergence\n",
    "    # ∂x(uq) + ∂y(vq)\n",
    "    div_flux = dq_flux_dx + dq_flux_dy\n",
    "    check_field_shapes(div_flux, name=\"q\")\n",
    "    \n",
    "    return div_flux"
   ]
  },
  {
   "cell_type": "code",
   "execution_count": 31,
   "id": "665aa923-6a31-4f8f-8d25-6461f94666e1",
   "metadata": {},
   "outputs": [],
   "source": [
    "div_flux = advection_rhs(\n",
    "    q=q, u=u, v=v, \n",
    "    dx=xy_domain.dx[-2],\n",
    "    dy=xy_domain.dx[-1]\n",
    ")"
   ]
  },
  {
   "cell_type": "markdown",
   "id": "ba797a35-bfb7-4b3c-b675-b56e373407c9",
   "metadata": {},
   "source": [
    "### Forcings"
   ]
  },
  {
   "cell_type": "markdown",
   "id": "6a3b6c16-22ec-491b-9ba9-eb1b535dd70b",
   "metadata": {},
   "source": [
    "#### Bottom Drag"
   ]
  },
  {
   "cell_type": "markdown",
   "id": "a1662bef-54c4-4878-b1d8-9fc061ee6fd0",
   "metadata": {},
   "source": [
    "$$\n",
    "\\begin{aligned}\n",
    "\\text{Bottom Drag}: && \n",
    "\\boldsymbol{D_2} &= \n",
    "\\frac{\\delta_{ek}f_0^2}{2H_{N_Z}}\n",
    "\\left[0,\\cdots,0,\\Delta\\psi_N\\right]\n",
    "\\end{aligned}\n",
    "$$"
   ]
  },
  {
   "cell_type": "code",
   "execution_count": 32,
   "id": "3fce4d02-35a4-405b-8d1a-2144b92d7a6b",
   "metadata": {
    "tags": []
   },
   "outputs": [],
   "source": [
    "def calculate_bottom_drag(\n",
    "    u: Array, \n",
    "    domain: Domain,\n",
    "    H_z: float,\n",
    "    delta_ek: float=2.0,\n",
    "    f0: float=9.375e-05,\n",
    "    masks=None\n",
    ") -> Array:\n",
    "    \"\"\"\n",
    "    Equation:\n",
    "        F_drag: (δₑf₀² / 2Hz)∇²ψN\n",
    "    \"\"\"\n",
    "    \n",
    "    # interior, vertex points on psi\n",
    "    # [Nx,Ny] --> [Nx-2,Ny-2]\n",
    "    omega = jax.vmap(laplacian, in_axes=(0,None))(u, domain.dx)\n",
    "    check_field_shapes(omega, name=\"psi_i\")\n",
    "    \n",
    "    if masks is not None:\n",
    "        omega *= masks.q\n",
    "    \n",
    "    # pad interior, center points on q\n",
    "    # [Nx-2,Ny-2] --> [Nx-3,Ny-3]\n",
    "    omega = center_average_2D(omega)\n",
    "    \n",
    "    # pad interior q points\n",
    "    # [Nx-3,Ny-3] --> [Nx-1,Ny-1]\n",
    "    omega = jnp.pad(omega, pad_width=((0,0),(1,1),(1,1)), mode=\"constant\", constant_values=0.0)\n",
    "    check_field_shapes(omega, name=\"q\")\n",
    "    \n",
    "    # calculate bottom drag coefficient\n",
    "    bottom_drag_coeff = (delta_ek / H_z) * (f0 / 2.0)\n",
    "    \n",
    "    # calculate bottom drag\n",
    "    bottom_drag = - bottom_drag_coeff * omega[-1]\n",
    "    check_field_shapes(bottom_drag, name=\"q\")\n",
    "    \n",
    "    return bottom_drag"
   ]
  },
  {
   "cell_type": "code",
   "execution_count": 33,
   "id": "97127268-1a99-4bb1-afd9-6603a24994c8",
   "metadata": {
    "tags": []
   },
   "outputs": [],
   "source": [
    "bottom_drag = calculate_bottom_drag(\n",
    "    u=psi0, \n",
    "    domain=xy_domain, \n",
    "    H_z=layer_domain.heights[-1],\n",
    "    f0=params.f0, \n",
    "    masks=None\n",
    ")"
   ]
  },
  {
   "cell_type": "markdown",
   "id": "c528a755-6f04-4ebe-a420-be943ba2d396",
   "metadata": {},
   "source": [
    "#### Forcing\n",
    "\n",
    "\n",
    "$$\n",
    "\\begin{aligned}\n",
    "\\text{Wind Forcing}: && \n",
    "\\boldsymbol{F} &= \n",
    "\\frac{\\tau_0}{H_1}\\left[\\partial_x\\tau_y - \\partial_y\\tau_x, 0\\cdots,0\\right]\n",
    "\\end{aligned}\n",
    "$$"
   ]
  },
  {
   "cell_type": "code",
   "execution_count": 34,
   "id": "520a3e55-0e49-44cc-b763-20147fb07094",
   "metadata": {},
   "outputs": [],
   "source": [
    "# y_coords = xy_domain.grid_axis[1]\n",
    "# tau0 = 0.08 / 1_000\n",
    "# curl_tau = - tau0 * 2. * jnp.pi/xy_domain.Lx[1] * jnp.sin(2.0 * jnp.pi * y_coords/xy_domain.Lx[1])\n",
    "\n",
    "# curl_tau = center_average_2D(curl_tau)\n",
    "# wind_forcing = curl_tau / layer_domain.heights[0]\n",
    "# check_field_shapes(wind_forcing, name=\"q\")"
   ]
  },
  {
   "cell_type": "code",
   "execution_count": 35,
   "id": "e23ab1a7-1957-4c18-a827-5febf66caec2",
   "metadata": {
    "tags": []
   },
   "outputs": [],
   "source": [
    "def calculate_wind_forcing(\n",
    "    domain: Domain, \n",
    "    H_0: float,\n",
    "    tau0: float=0.08/1_000.0,\n",
    ") -> Array:\n",
    "    \"\"\"\n",
    "    Equation:\n",
    "        F_wind: (τ₀ /H₀)(∂xτ−∂yτ)\n",
    "    \"\"\"\n",
    "    \n",
    "    Ly = domain.Lx[-1]\n",
    "    \n",
    "    # [Nx,Ny]\n",
    "    y_coords = xy_domain.grid_axis[-1]\n",
    "    \n",
    "    # center coordinates, cell centers\n",
    "    # [Nx,Ny] --> [Nx-1,Ny-1]\n",
    "    y_coords_center = center_average_2D(y_coords)\n",
    "    \n",
    "    # calculate tau\n",
    "    curl_tau = - tau0 * 2. * jnp.pi/Ly * jnp.sin(2.0 * jnp.pi * y_coords_center/Ly)\n",
    "    \n",
    "    wind_forcing = curl_tau / H_0\n",
    "    check_field_shapes(wind_forcing, name=\"q\")\n",
    "    return wind_forcing"
   ]
  },
  {
   "cell_type": "code",
   "execution_count": 36,
   "id": "98734b7a-1f7f-45d5-83b3-16247569af98",
   "metadata": {
    "tags": []
   },
   "outputs": [],
   "source": [
    "wind_forcing = calculate_wind_forcing(\n",
    "    domain=xy_domain,\n",
    "    H_0=layer_domain.heights[0],\n",
    "    tau0=0.08/1_000.0,\n",
    ")"
   ]
  },
  {
   "cell_type": "code",
   "execution_count": 37,
   "id": "960419aa-fad8-4e87-9fe7-e8d4b83cbe79",
   "metadata": {},
   "outputs": [
    {
     "data": {
      "image/png": "[encoded data removed]",
      "text/plain": [
       "<Figure size 640x480 with 2 Axes>"
      ]
     },
     "metadata": {},
     "output_type": "display_data"
    }
   ],
   "source": [
    "fig, ax = plt.subplots()\n",
    "\n",
    "pts = ax.pcolormesh(wind_forcing)\n",
    "plt.colorbar(pts)\n",
    "\n",
    "plt.tight_layout()\n",
    "plt.show()"
   ]
  },
  {
   "cell_type": "markdown",
   "id": "df017077-1d5d-44c1-9671-0108e8a295a2",
   "metadata": {},
   "source": [
    "#### Total Forces"
   ]
  },
  {
   "cell_type": "code",
   "execution_count": 38,
   "id": "cbe25e83-c99f-4760-89db-104c9d0e0048",
   "metadata": {},
   "outputs": [],
   "source": [
    "forces = jnp.zeros_like(q)"
   ]
  },
  {
   "cell_type": "code",
   "execution_count": 39,
   "id": "4c181bd1-1c8c-4dbb-b4f6-9bfb2ded7447",
   "metadata": {},
   "outputs": [],
   "source": [
    "forces = forces.at[0].set(forces[0] + wind_forcing)\n",
    "forces = forces.at[-1].set(forces[-1] + bottom_drag)\n",
    "\n",
    "check_field_shapes(forces, name=\"q\")"
   ]
  },
  {
   "cell_type": "code",
   "execution_count": 40,
   "id": "042fbb7a-9490-46b2-9ba5-280dec7ace29",
   "metadata": {},
   "outputs": [
    {
     "data": {
      "image/png": "[encoded data removed]",
      "text/plain": [
       "<Figure size 640x480 with 2 Axes>"
      ]
     },
     "metadata": {},
     "output_type": "display_data"
    }
   ],
   "source": [
    "fig, ax = plt.subplots()\n",
    "\n",
    "pts = ax.pcolormesh(forces[-1])\n",
    "plt.colorbar(pts)\n",
    "\n",
    "plt.tight_layout()\n",
    "plt.show()"
   ]
  },
  {
   "cell_type": "markdown",
   "id": "e6bf2286-3cfb-4382-ad12-018441f57999",
   "metadata": {},
   "source": [
    "### Equation of Motion (RHS)"
   ]
  },
  {
   "cell_type": "code",
   "execution_count": 41,
   "id": "d6afa58e-6875-4b29-9d62-87f2ec81b1e0",
   "metadata": {},
   "outputs": [],
   "source": [
    "# NOTE!!!! multiply by masks of Q!!!\n",
    "adv_rhs = - div_flux + forces # * masks.q\n",
    "\n",
    "check_field_shapes(adv_rhs, name=\"q\")"
   ]
  },
  {
   "cell_type": "markdown",
   "id": "8085d59b-a1d4-40d4-bb42-ae8e5aab7af6",
   "metadata": {},
   "source": [
    "## Time Derivatives"
   ]
  },
  {
   "cell_type": "code",
   "execution_count": 42,
   "id": "97d92554-304c-44d5-8481-68f5dd92c12d",
   "metadata": {},
   "outputs": [],
   "source": [
    "# advection RHS --> q\n",
    "# q interior\n",
    "# CL2m stuffs\n",
    "# solve helmholtz elliptical stuffs\n",
    "# mass convservation Stuff"
   ]
  },
  {
   "cell_type": "code",
   "execution_count": 43,
   "id": "fb1c23df-2429-45dc-858f-ced7e9f60a31",
   "metadata": {
    "tags": []
   },
   "outputs": [],
   "source": [
    "def qg_rhs(\n",
    "    q: Array, \n",
    "    psi: Array, \n",
    "    domain: Domain,\n",
    "    layer_domain: LayerDomain,\n",
    "    dst_sol: DSTSolution,\n",
    "    mask=None,\n",
    ") -> Array:\n",
    "    \n",
    "    # use psi for the boundary conditions\n",
    "    # TODO\n",
    "    \n",
    "    # calculate potential vorticity\n",
    "    q, u, v = calculate_potential_vorticity(\n",
    "        psi, domain, layer_domain, None\n",
    "    )\n",
    "    \n",
    "    # calculate advection\n",
    "    dq = advection_rhs(\n",
    "        q, u=u, v=v, \n",
    "        dx=domain.dx[-2], dy=domain.dx[-1], \n",
    "        num_pts=1\n",
    "    )\n",
    "    \n",
    "    # get interior points (cell verticies interior)\n",
    "    # [Nx-1,Ny-1] --> [Nx-2,Ny-2]\n",
    "    dq_i = center_average_2D(dq)\n",
    "    check_field_shapes(dq_i, name=\"psi_i\")\n",
    "    \n",
    "    # calculate helmholtz rhs\n",
    "    # [Nx-2,Ny-2]\n",
    "    helmholtz_rhs = jnp.einsum(\"lm,...mxy->...lxy\", layer_domain.A_layer_2_mode, dq_i)\n",
    "    check_field_shapes(helmholtz_rhs, name=\"psi_i\")\n",
    "    \n",
    "    # solve elliptical inversion problem\n",
    "    # [Nx-2,Ny-2] --> [Nx,Ny]\n",
    "    dpsi_modes = jax.vmap(inverse_elliptic_dst, in_axes=(0,0))(helmholtz_rhs, dst_sol.H_mat)\n",
    "    check_field_shapes(dpsi_modes, name=\"psi\")\n",
    "    \n",
    "    # Add homogeneous solutions to ensure mass conservation\n",
    "    # [Nx,Ny] --> [Nx-1,Ny-1]\n",
    "    dpsi_modes_i = center_average_2D(dpsi_modes)\n",
    "    check_field_shapes(dpsi_modes_i, name=\"q\")\n",
    "    \n",
    "    alpha = - einops.reduce(dpsi_modes_i, \"... Nx Ny -> ... 1 1\", reduction=\"mean\") / dst_sol.homsol_mean\n",
    "\n",
    "    dpsi_modes += alpha * homsol\n",
    "    check_field_shapes(dpsi_modes, name=\"psi\")\n",
    "    \n",
    "    dpsi = jnp.einsum(\"LM,...MXY->LXY\",layer_domain.A_mode_2_layer, dpsi_modes)\n",
    "    check_field_shapes(dpsi, name=\"psi\")\n",
    "    \n",
    "    \n",
    "    return dq, dpsi"
   ]
  },
  {
   "cell_type": "code",
   "execution_count": 44,
   "id": "c0be673c-deef-4d53-8be7-f44a1ed93907",
   "metadata": {
    "tags": []
   },
   "outputs": [],
   "source": [
    "dq, dpsi = qg_rhs(q, psi0, xy_domain, layer_domain, dst_sol)"
   ]
  },
  {
   "cell_type": "markdown",
   "id": "7d94f3a1-f6a9-40ca-8762-484988af2503",
   "metadata": {},
   "source": [
    "**Inverse Solve Elliptical**"
   ]
  }
 ],
 "metadata": {
  "kernelspec": {
   "display_name": "Python [conda env:jax_eo_py311]",
   "language": "python",
   "name": "conda-env-jax_eo_py311-py"
  },
  "language_info": {
   "codemirror_mode": {
    "name": "ipython",
    "version": 3
   },
   "file_extension": ".py",
   "mimetype": "text/x-python",
   "name": "python",
   "nbconvert_exporter": "python",
   "pygments_lexer": "ipython3",
   "version": "3.11.5"
  }
 },
 "nbformat": 4,
 "nbformat_minor": 5
}
