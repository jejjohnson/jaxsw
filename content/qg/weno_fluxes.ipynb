{
 "cells": [
  {
   "cell_type": "markdown",
   "id": "5454db43-eaf5-4b0a-9392-3c50c3545ea3",
   "metadata": {},
   "source": [
    "# Calculating Fluxes"
   ]
  },
  {
   "cell_type": "code",
   "execution_count": 1,
   "id": "9c210296-80a2-4cd4-bcca-1c4251fa171f",
   "metadata": {},
   "outputs": [],
   "source": [
    "import autoroot\n",
    "import matplotlib.pyplot as plt\n",
    "import numpy as np\n",
    "import jax\n",
    "import jax.numpy as jnp\n",
    "import equinox as eqx\n",
    "import finitediffx as fdx\n",
    "from jaxtyping import Array, Float\n",
    "# from jaxsw._src.domain.base import Domain\n",
    "from jaxsw._src.domain.base_v2 import Domain, init_domain_1d\n",
    "import math\n",
    "import torch\n",
    "import torch.nn.functional as F\n",
    "import einops\n",
    "import seaborn as sns\n",
    "\n",
    "jax.config.update(\"jax_enable_x64\", True)\n",
    "sns.reset_defaults()\n",
    "sns.set_context(context=\"talk\", font_scale=0.7)\n",
    "\n",
    "%load_ext autoreload\n",
    "%autoreload 2"
   ]
  },
  {
   "cell_type": "code",
   "execution_count": 2,
   "id": "bb73a960-a620-4a9d-81e4-bde5b2266932",
   "metadata": {},
   "outputs": [],
   "source": [
    "from jaxsw._src.operators.functional.interp.flux import tracer_flux"
   ]
  },
  {
   "cell_type": "markdown",
   "id": "bcb54d84-e015-4208-80c9-a057cd007dde",
   "metadata": {},
   "source": [
    "Let's look at the typical material derivative\n",
    "\n",
    "$$\n",
    "\\frac{Dq}{Dt} := \\partial_t q + \\vec{u}\\cdot\\nabla q\n",
    "$$\n"
   ]
  },
  {
   "cell_type": "markdown",
   "id": "e8ad4af0-b90d-405d-aaf6-27ede1443e9e",
   "metadata": {},
   "source": [
    "\n",
    "where the velocity vector is given by\n",
    "\n",
    "$$\n",
    "\\vec{u} = \n",
    "\\left[ u, v \\right]^\\top\n",
    "$$"
   ]
  },
  {
   "cell_type": "markdown",
   "id": "580f735a-374d-42f9-83ba-e0f3b14693dd",
   "metadata": {},
   "source": [
    "In particular, we are interested in the advection term which is defined as:\n",
    "\n",
    "$$\n",
    "\\begin{aligned}\n",
    "\\text{Advection}: &= \\vec{u} \\cdot \\nabla q = u\\partial_x q + v\\partial_y q \\\\\n",
    "&= \\nabla \\cdot (\\vec{u}q) = \\partial_x (uq) + \\partial_y (vq) \n",
    "\\end{aligned}\n",
    "$$\n",
    "\n",
    "where the second equation is the conservative form."
   ]
  },
  {
   "cell_type": "markdown",
   "id": "72f184b5-d8fe-4e97-9f45-1da92514ecf2",
   "metadata": {},
   "source": [
    "The problem comes into play when we are on a staggered grid. The velocities are on one grid and the tracer is on a difference grid. The velocity\n",
    "\n",
    "$$\n",
    "\\begin{aligned}\n",
    "\\text{Variable}: \\psi &\\in\\Omega_\\psi \\\\\n",
    "\\text{Zonal Velocity}: u &\\in\\Omega_u \\\\\n",
    "\\text{Meridional Velocity}: v &\\in\\Omega_v \\\\\n",
    "\\text{Tracer}: q &\\in\\Omega_q \\\\\n",
    "\\end{aligned}\n",
    "$$\n",
    "\n"
   ]
  },
  {
   "cell_type": "markdown",
   "id": "41dc5f40-0e48-4031-b7a2-02791cc5c60d",
   "metadata": {},
   "source": [
    "$$\n",
    "\\begin{aligned}\n",
    "\\Omega_\\psi &\\in[N_x,N_y] && && [x_0,y_0] && && [x_1,y_1] \\\\ \n",
    "\\Omega_u &\\in[N_x,N_y-1] && && [x_0,y_0+\\frac{1}{2}dy] && && [x_1,y_1-\\frac{1}{2}dy]  \\\\ \n",
    "\\Omega_v &\\in[N_x-1,N_y] && && [x_0+\\frac{1}{2}dx,y_0] && && [x_1-\\frac{1}{2}dx,y_1]  \\\\ \n",
    "\\Omega_q &\\in[N_x-1,N_y-1] && && [x_0+\\frac{1}{2}dx,y_0+\\frac{1}{2}dy] && && [x_1-\\frac{1}{2}dx,y_1-\\frac{1}{2}dy] \n",
    "\\end{aligned}\n",
    "$$"
   ]
  },
  {
   "cell_type": "markdown",
   "id": "9a467f52-45d1-43e2-9f6d-c5499c13c2b0",
   "metadata": {},
   "source": [
    "\n",
    "\n",
    "\n",
    "\n",
    "\n",
    "\n",
    "So if $q$ is on a staggered domain."
   ]
  },
  {
   "cell_type": "code",
   "execution_count": null,
   "id": "c056c477-0002-4382-bd02-9d9020095ca6",
   "metadata": {},
   "outputs": [],
   "source": []
  },
  {
   "cell_type": "code",
   "execution_count": 4,
   "id": "cc520ec1-a727-4788-8d8b-c0f71f8b05e1",
   "metadata": {},
   "outputs": [
    {
     "name": "stdout",
     "output_type": "stream",
     "text": [
      "torch.Size([25]) 5.0\n"
     ]
    }
   ],
   "source": [
    "\n",
    "# x = torch.arange(1, 36+1)\n",
    "num = 25\n",
    "num_sqrt = math.sqrt(num)\n",
    "assert num_sqrt.is_integer(), num_sqrt\n",
    "\n",
    "# x = torch.randn(size=(num,))\n",
    "u = torch.randn(size=(num,))\n",
    "x = torch.arange(0, num)\n",
    "print(x.shape, num_sqrt)\n",
    "x = einops.rearrange(x, \"(Nx Ny) -> Nx Ny\", Nx=int(num_sqrt), Ny=int(num_sqrt))\n",
    "u = einops.rearrange(u, \"(Nx Ny) -> Nx Ny\", Nx=int(num_sqrt), Ny=int(num_sqrt))\n",
    "\n",
    "dim = 0\n",
    "u = u[1:]\n",
    "N = x.shape[dim]\n",
    "assert u.shape[dim] == N - 1"
   ]
  },
  {
   "cell_type": "code",
   "execution_count": 5,
   "id": "c7f1626d-0d24-49a9-9e6a-f3dc83cfbad8",
   "metadata": {},
   "outputs": [
    {
     "data": {
      "text/plain": [
       "(tensor([[ 0,  1,  2,  3,  4],\n",
       "         [ 5,  6,  7,  8,  9],\n",
       "         [10, 11, 12, 13, 14],\n",
       "         [15, 16, 17, 18, 19],\n",
       "         [20, 21, 22, 23, 24]]),\n",
       " tensor([[ 0.6527,  1.8054, -0.0150,  0.1841, -1.6945],\n",
       "         [-0.9101, -0.0365,  0.4091, -1.2957,  1.5384],\n",
       "         [-1.8070, -1.5308,  0.5493,  0.7109, -0.5754],\n",
       "         [-1.0096, -0.8631,  0.9273, -0.4084,  0.9295]]))"
      ]
     },
     "execution_count": 5,
     "metadata": {},
     "output_type": "execute_result"
    }
   ],
   "source": [
    "x, u"
   ]
  },
  {
   "cell_type": "code",
   "execution_count": 8,
   "id": "163edb22-1b81-4c2d-a2b8-a72706f5d333",
   "metadata": {},
   "outputs": [],
   "source": [
    "def linear2(qm, qp):\n",
    "    \"\"\"\n",
    "    2-points linear reconstruction:\n",
    "\n",
    "    qm--x--qp\n",
    "\n",
    "    \"\"\"\n",
    "    return 0.5 * (qm + qp)\n",
    "    \n",
    "def linear3_left(qm, q0, qp):\n",
    "    \"\"\"\n",
    "    3-points linear left-biased stencil reconstruction:\n",
    "\n",
    "    qm-----q0--x--qp\n",
    "\n",
    "    \"\"\"\n",
    "    return -1./6.*qm + 5./6.*q0 + 1./3.*qp\n",
    "\n",
    "def linear3_right(qm, q0, qp):\n",
    "    \"\"\"\n",
    "    3-points linear left-biased stencil reconstruction:\n",
    "\n",
    "    qp--x--q0-----qm\n",
    "\n",
    "    \"\"\"\n",
    "    return linear3_left(qp, q0, qm)\n",
    "\n",
    "def linear4(qmm, qm, qp, qpp):\n",
    "    \"\"\"\n",
    "    4-points linear reconstruction:\n",
    "\n",
    "    qmm-----qm--x--qp-----qpp\n",
    "\n",
    "    \"\"\"\n",
    "    return -1./12.*qmm + 7./12.*qm + 7./12.*qp - 1./12.*qpp"
   ]
  },
  {
   "cell_type": "markdown",
   "id": "d8d58f74-6e3d-4acd-91df-bcfc184874a0",
   "metadata": {},
   "source": [
    "[0, 1, 2, 3, 4, 5, 6]\n",
    "Interior\n",
    "- [0, 1, 2, 3, 4]\n",
    "- [1, 2, 3, 4, 5]\n",
    "- [2, 3, 4, 5, 6]\n",
    "--> [1 2 3 4 5]\n",
    "Left Bd\n",
    "- [0 1]\n",
    "- [1 2]\n",
    "--> [0.5 1.5]\n",
    "right bd\n",
    "- [5 6]\n",
    "- [4 5]\n",
    "--> [4.5, 5.5]\n",
    "\n"
   ]
  },
  {
   "cell_type": "code",
   "execution_count": 9,
   "id": "e1425bbd-5572-4c99-9462-fd13ea94d356",
   "metadata": {},
   "outputs": [],
   "source": [
    "def flux_3pts(x, u, dim: int=0):\n",
    "\n",
    "    N = x.shape[dim]\n",
    "\n",
    "    print(x.shape)\n",
    "    print(x)\n",
    "    print(\"-\"*40)\n",
    "    qm = x.narrow(dim, 0, N-2)\n",
    "    q0 = x.narrow(dim, 1, N-2)\n",
    "    qp = x.narrow(dim, 2, N-2)\n",
    "\n",
    "    qi_left_interior = linear3_left(qm, q0, qp)\n",
    "    qi_right_interior = linear3_left(qp, q0, qm)\n",
    "\n",
    "    print(qi_left_interior)\n",
    "    print(qi_right_interior)\n",
    "\n",
    "    # left boundaries\n",
    "    qm = x.narrow(dim, 0, 1)\n",
    "    qp = x.narrow(dim, 1, 1)\n",
    "    qi_left_bd = linear2(qm, qp)\n",
    "    print(qi_left_bd)\n",
    "\n",
    "    # right boundaries\n",
    "    qm = x.narrow(dim, -2, 1)\n",
    "    qp = x.narrow(dim, -1, 1)\n",
    "    qi_right_bd = linear2(qm, qp)\n",
    "\n",
    "    print(qi_right_bd)\n",
    "\n",
    "    print(\"-\"*40)\n",
    "    print(qi_left_interior.narrow(dim,0,N-3).shape)\n",
    "    print(qi_left_interior.narrow(dim,0,N-3))\n",
    "    print(qi_left_bd.shape, qi_right_bd.shape)\n",
    "    qi_left = torch.cat([\n",
    "        qi_left_bd, qi_left_interior.narrow(dim, 0, N-3), qi_right_bd], dim=dim)\n",
    "\n",
    "    qi_right = torch.cat([\n",
    "        qi_left_bd, qi_right_interior.narrow(dim, 1, N-3), qi_right_bd], dim=dim)\n",
    "    \n",
    "    # positive and negative parts of velocity\n",
    "    u_pos = F.relu(u)\n",
    "    u_neg = u - u_pos\n",
    "\n",
    "    # upwind flux computation\n",
    "    flux = u_pos * qi_left + u_neg * qi_right\n",
    "    return qi_left, qi_right, flux"
   ]
  },
  {
   "cell_type": "code",
   "execution_count": 10,
   "id": "493728cf-b9b6-4a40-bfd1-a35db6194d3e",
   "metadata": {},
   "outputs": [
    {
     "name": "stdout",
     "output_type": "stream",
     "text": [
      "torch.Size([5, 5])\n",
      "tensor([[ 0,  1,  2,  3,  4],\n",
      "        [ 5,  6,  7,  8,  9],\n",
      "        [10, 11, 12, 13, 14],\n",
      "        [15, 16, 17, 18, 19],\n",
      "        [20, 21, 22, 23, 24]])\n",
      "----------------------------------------\n",
      "tensor([[ 7.5000,  8.5000,  9.5000, 10.5000, 11.5000],\n",
      "        [12.5000, 13.5000, 14.5000, 15.5000, 16.5000],\n",
      "        [17.5000, 18.5000, 19.5000, 20.5000, 21.5000]])\n",
      "tensor([[ 2.5000,  3.5000,  4.5000,  5.5000,  6.5000],\n",
      "        [ 7.5000,  8.5000,  9.5000, 10.5000, 11.5000],\n",
      "        [12.5000, 13.5000, 14.5000, 15.5000, 16.5000]])\n",
      "tensor([[2.5000, 3.5000, 4.5000, 5.5000, 6.5000]])\n",
      "tensor([[17.5000, 18.5000, 19.5000, 20.5000, 21.5000]])\n",
      "----------------------------------------\n",
      "torch.Size([2, 5])\n",
      "tensor([[ 7.5000,  8.5000,  9.5000, 10.5000, 11.5000],\n",
      "        [12.5000, 13.5000, 14.5000, 15.5000, 16.5000]])\n",
      "torch.Size([1, 5]) torch.Size([1, 5])\n"
     ]
    }
   ],
   "source": [
    "qi_left_torch, qi_right_torch, flux = flux_3pts(x, u, 0)"
   ]
  },
  {
   "cell_type": "code",
   "execution_count": 11,
   "id": "77d9f071-acfa-4ab3-8b72-8f723b9ab8f2",
   "metadata": {},
   "outputs": [],
   "source": [
    "import jax.numpy as jnp\n",
    "import kernex as kex\n",
    "import jax\n",
    "import numpy as np"
   ]
  },
  {
   "cell_type": "code",
   "execution_count": 12,
   "id": "11c28e95-f811-4822-bca9-32e59cd33042",
   "metadata": {},
   "outputs": [],
   "source": [
    "x_ = x.numpy()\n",
    "u_ = u.numpy()"
   ]
  },
  {
   "cell_type": "code",
   "execution_count": 13,
   "id": "c003101c-d622-496d-8158-c900402e1c25",
   "metadata": {},
   "outputs": [],
   "source": [
    "\n",
    "\n",
    "\n",
    "@kex.kmap(kernel_size=(N-2,N),padding='valid')\n",
    "def get_3x3_patches(x):\n",
    "    # returns 5x5x3x3 array\n",
    "    return x"
   ]
  },
  {
   "cell_type": "code",
   "execution_count": 14,
   "id": "21ee4d3f-2a5c-4f49-a37b-949697cd519b",
   "metadata": {},
   "outputs": [],
   "source": [
    "@kex.kmap(kernel_size=(2,1),padding='valid')\n",
    "def x_linear_interp_2pt(x):\n",
    "    # returns 5x5x3x3 array\n",
    "    return 0.5 * (x[0] + x[1])\n",
    "\n",
    "@kex.kmap(kernel_size=(3,1),padding='valid')\n",
    "def get_linear_3_stencil_forward(x):\n",
    "    # returns 5x5x3x3 array\n",
    "    return -1./6.*x[0] + 5./6.*x[1] + 1./3.*x[2]\n",
    "\n",
    "\n",
    "@kex.kmap(kernel_size=(3,1),padding='valid')\n",
    "def get_linear_3_stencil_backward(x):\n",
    "    # returns 5x5x3x3 array\n",
    "    return -1./6.*x[2] + 5./6.*x[1] + 1./3.*x[0]"
   ]
  },
  {
   "cell_type": "code",
   "execution_count": 15,
   "id": "baf8db76-eb77-4c13-8a15-529ae7b48f9e",
   "metadata": {},
   "outputs": [],
   "source": [
    "import typing as tp\n",
    "from jaxtyping import Array\n",
    "import functools as ft\n",
    "from jax.nn import relu\n",
    "\n",
    "def plusminus(u: Array, way: int=1) -> tp.Union[Array]:\n",
    "    u_pos = relu(float(way) * u)\n",
    "    u_neg = u - u_pos\n",
    "    return u_pos, u_neg\n",
    "\n",
    "def interp_1pt(q: Array, dim: int) -> tp.Union[Array]:\n",
    "    \"\"\"creates the stencils for the upwind scheme\n",
    "    - 1 pts inside domain & boundary\n",
    "    \"\"\"\n",
    "    # get number of points\n",
    "    num_pts = q.shape[dim]\n",
    "\n",
    "    # define slicers\n",
    "    dyn_slicer = ft.partial(jax.lax.dynamic_slice_in_dim, axis=dim)\n",
    "\n",
    "    qi_left = dyn_slicer(q, 0, num_pts-1)\n",
    "    qi_right = dyn_slicer(q, 1, num_pts-1)\n",
    "    \n",
    "\n",
    "    return qi_left, qi_right\n",
    "\n",
    "def interp_3pt(q: Array, dim: int) -> tp.Union[Array]:\n",
    "    \"\"\"creates the stencils for the upwind scheme\n",
    "    - 3 pts inside domain\n",
    "    - 1 pt near boundaries\n",
    "    \"\"\"\n",
    "\n",
    "    # get number of points\n",
    "    num_pts = q.shape[dim]\n",
    "\n",
    "    # define slicers\n",
    "    dyn_slicer = ft.partial(jax.lax.dynamic_slice_in_dim, axis=dim)\n",
    "\n",
    "    # interior slices\n",
    "    q0 = dyn_slicer(q, 0, num_pts-2)\n",
    "    q1 = dyn_slicer(q, 1, num_pts-2)\n",
    "    q2 = dyn_slicer(q, 2, num_pts-2)\n",
    "\n",
    "    qi_left_interior = linear3_left(q0, q1, q2)\n",
    "    qi_right_interior = linear3_right(q0, q1, q2)\n",
    "\n",
    "    # left boundary slices\n",
    "    q0 = dyn_slicer(q, 0, 1)\n",
    "    q1 = dyn_slicer(q, 1, 1)\n",
    "    qi_left_bd = linear2(q0, q1)\n",
    "\n",
    "    # right boundary slices\n",
    "    q0 = dyn_slicer(q, -1, 1)\n",
    "    q1 = dyn_slicer(q, -2, 1)\n",
    "    qi_right_bd = linear2(q0, q1)\n",
    "\n",
    "    # concatenate each\n",
    "    qi_left = jnp.concatenate([\n",
    "        qi_left_bd,\n",
    "        dyn_slicer(qi_left_interior, 0, num_pts-3),\n",
    "        qi_right_bd\n",
    "    ])\n",
    "\n",
    "    qi_right = jnp.concatenate([\n",
    "        qi_left_bd,\n",
    "        dyn_slicer(qi_right_interior, 1, num_pts-3),\n",
    "        qi_right_bd\n",
    "    ])\n",
    "\n",
    "    return qi_left, qi_right\n",
    "\n",
    "\n",
    "def tracer_flux(u: Array, a: Array, dim: int, num_pts: int=1) -> Array:\n",
    "    \"\"\"Flux computation for staggered variables q and u with\n",
    "    solid boundaries. Typically used for calculating the flux\n",
    "    Advection Scheme:\n",
    "        ∇ ⋅ (uq)        \n",
    "    \n",
    "    Args:\n",
    "        q (Array): tracer field to interpolate\n",
    "            shape[dim] = N\n",
    "        u (Array): transport velocity\n",
    "            shape[dim] = N-1\n",
    "        dim (int): dimension along which computations are done\n",
    "        num_pts (int): the number of points for the flux computation\n",
    "            options = (1, 3, 5)\n",
    "    \n",
    "    Returns:\n",
    "        flux (Array): tracer flux computed on u points\n",
    "            shape[dim] = N -1\n",
    "            \n",
    "    \"\"\"\n",
    "    \n",
    "    # calculate flux\n",
    "    if num_pts == 1:\n",
    "        ui_left, ui_right = interp_1pt(u, dim=dim)\n",
    "    elif num_pts == 3:\n",
    "        ui_left, ui_right = interp_3pt(u, dim=dim)\n",
    "    elif num_pts == 5:\n",
    "        msg = \"5pt method is not implemented yet\"\n",
    "        raise NotImplementedError(msg)\n",
    "    else:\n",
    "        msg = \"Unrecognized method: {num_pts}\"\n",
    "        msg +=\"\\nMust be 1, 3, or 5\"\n",
    "        raise ValueError(msg)\n",
    "    \n",
    "    # calculate +ve and -ve points\n",
    "    a_pos, a_neg = plusminus(a)\n",
    "    \n",
    "    # calculate upwind flux\n",
    "    flux = a_pos * ui_left + a_neg * ui_right\n",
    "    \n",
    "    return flux"
   ]
  },
  {
   "cell_type": "code",
   "execution_count": 17,
   "id": "899bd5e7-6c47-409a-8920-874acb002092",
   "metadata": {},
   "outputs": [],
   "source": [
    "qi_left_jax, qi_right_jax = interp_3pt(x_, 0)\n",
    "flux_ = tracer_flux(x_, u_, 0)\n",
    "# x_.shape, qi_left.shape, qi_right.shape"
   ]
  },
  {
   "cell_type": "code",
   "execution_count": 19,
   "id": "0479ef46-70be-4966-86c0-89fce1dd04b2",
   "metadata": {},
   "outputs": [],
   "source": [
    "out = tracer_flux(x_, u_, 0, num_pts=1)\n",
    "out_ = tracer_flux(x_, u_, 0, num_pts=3)\n",
    "# tracer_flux(x_, u_, 0, num_pts=5)"
   ]
  },
  {
   "cell_type": "code",
   "execution_count": 20,
   "id": "b5a29529-c2e0-4a28-a08a-e29ee8ea66e5",
   "metadata": {},
   "outputs": [
    {
     "data": {
      "text/plain": [
       "Array([[  0.        ,   1.805351  ,  -0.10503372,   0.552448  ,\n",
       "        -15.2502165 ],\n",
       "       [ -9.10059   ,  -0.40109357,   2.8634002 , -16.844027  ,\n",
       "         13.845664  ],\n",
       "       [-27.104927  , -24.492468  ,   6.591754  ,   9.242194  ,\n",
       "        -10.933088  ],\n",
       "       [-20.192703  , -18.125383  ,  15.764215  ,  -9.392781  ,\n",
       "         17.66041   ]], dtype=float32)"
      ]
     },
     "execution_count": 20,
     "metadata": {},
     "output_type": "execute_result"
    }
   ],
   "source": [
    "out"
   ]
  },
  {
   "cell_type": "code",
   "execution_count": 82,
   "id": "631eca51-e31a-4019-bb41-c6ea0dfddeff",
   "metadata": {},
   "outputs": [
    {
     "data": {
      "text/plain": [
       "Array([[ -1.6798853 ,  -2.191656  ,  -0.62947637,  -3.63754   ,\n",
       "         -2.3527443 ],\n",
       "       [ -9.007757  ,  -7.7067084 ,   4.294481  , -14.842717  ,\n",
       "          7.8252954 ],\n",
       "       [ -8.781178  , -16.217318  ,  -2.7002711 , -12.441315  ,\n",
       "         27.955723  ],\n",
       "       [-10.226277  ,  12.631437  ,  31.171684  , -23.959835  ,\n",
       "         -9.450634  ]], dtype=float32)"
      ]
     },
     "execution_count": 82,
     "metadata": {},
     "output_type": "execute_result"
    }
   ],
   "source": [
    "out_"
   ]
  },
  {
   "cell_type": "code",
   "execution_count": 72,
   "id": "9ac9f2ff-d780-45c8-b186-03f35a93071a",
   "metadata": {},
   "outputs": [],
   "source": [
    "np.testing.assert_array_almost_equal(qi_left_jax, qi_left_torch.numpy())\n",
    "np.testing.assert_array_almost_equal(qi_right_jax, qi_right_torch.numpy())\n",
    "np.testing.assert_array_almost_equal(flux_, flux.numpy())"
   ]
  },
  {
   "cell_type": "code",
   "execution_count": null,
   "id": "72ef3719-8255-4d6f-b877-2fc1ef05edb7",
   "metadata": {},
   "outputs": [],
   "source": []
  },
  {
   "cell_type": "code",
   "execution_count": 169,
   "id": "2186ef78-373c-4c97-aa27-98ef336ac614",
   "metadata": {},
   "outputs": [],
   "source": [
    "def flux_3pt_jax(q, dim: int):\n",
    "    \n",
    "    qi_left_interior = get_linear_3_stencil_forward(q)[...,0]\n",
    "    qi_right_interior = get_linear_3_stencil_backward(q)[...,0]\n",
    "\n",
    "    print(qi_left_interior)\n",
    "    print(qi_right_interior)\n",
    "    \n",
    "    front = jax.lax.slice_in_dim(x_, None, 2, axis=dim)\n",
    "    back = jax.lax.slice_in_dim(x_, -2, None, axis=dim)\n",
    "    qi_left_bd = x_linear_interp_2pt(front)\n",
    "    qi_right_bd = x_linear_interp_2pt(back)\n",
    "\n",
    "    print(qi_left_bd)\n",
    "    print(qi_right_bd)\n",
    "\n",
    "    qi_left = jnp.concatenate([\n",
    "        qi_left_bd[...,0], \n",
    "        jax.lax.slice_in_dim(qi_left_interior, None, -1, axis=dim),\n",
    "        qi_right_bd[...,0]\n",
    "    ])\n",
    "\n",
    "    qi_right = jnp.concatenate([\n",
    "        qi_left_bd[...,0],\n",
    "        jax.lax.slice_in_dim(qi_left_interior, 1, None, axis=dim),\n",
    "        qi_right_bd[...,0]\n",
    "    ])\n",
    "\n",
    "    print(qi_left)\n",
    "    print(qi_right)\n",
    "\n",
    "    return None"
   ]
  },
  {
   "cell_type": "code",
   "execution_count": 170,
   "id": "3aa68caf-c10d-479f-9078-b41d98bbdf3e",
   "metadata": {},
   "outputs": [
    {
     "name": "stdout",
     "output_type": "stream",
     "text": [
      "[[10. 11. 12. 13. 14. 15.]\n",
      " [16. 17. 18. 19. 20. 21.]\n",
      " [22. 23. 24. 25. 26. 27.]\n",
      " [28. 29. 30. 31. 32. 33.]]\n",
      "[[ 3.9999995  4.9999995  6.         6.9999995  7.999999   9.       ]\n",
      " [10.        10.999999  12.        13.        13.999999  15.       ]\n",
      " [16.        17.        18.        18.999998  20.        21.       ]\n",
      " [21.999998  23.        24.        24.999998  26.        27.       ]]\n",
      "[[[4.]\n",
      "  [5.]\n",
      "  [6.]\n",
      "  [7.]\n",
      "  [8.]\n",
      "  [9.]]]\n",
      "[[[28.]\n",
      "  [29.]\n",
      "  [30.]\n",
      "  [31.]\n",
      "  [32.]\n",
      "  [33.]]]\n",
      "[[ 4.  5.  6.  7.  8.  9.]\n",
      " [10. 11. 12. 13. 14. 15.]\n",
      " [16. 17. 18. 19. 20. 21.]\n",
      " [22. 23. 24. 25. 26. 27.]\n",
      " [28. 29. 30. 31. 32. 33.]]\n",
      "[[ 4.  5.  6.  7.  8.  9.]\n",
      " [16. 17. 18. 19. 20. 21.]\n",
      " [22. 23. 24. 25. 26. 27.]\n",
      " [28. 29. 30. 31. 32. 33.]\n",
      " [28. 29. 30. 31. 32. 33.]]\n"
     ]
    }
   ],
   "source": [
    "flux_3pt_jax(x_, 0)"
   ]
  },
  {
   "cell_type": "code",
   "execution_count": 30,
   "id": "b654b2e8-e9ea-487d-9f54-fef18dd0c2ab",
   "metadata": {},
   "outputs": [
    {
     "data": {
      "text/plain": [
       "(4, 6, 1)"
      ]
     },
     "execution_count": 30,
     "metadata": {},
     "output_type": "execute_result"
    }
   ],
   "source": [
    "get_linear_3_stencil(x_).shape"
   ]
  },
  {
   "cell_type": "code",
   "execution_count": 24,
   "id": "7e8ae21b-3d53-4330-a0d2-da0f15d51fe8",
   "metadata": {},
   "outputs": [],
   "source": [
    "qm, q0, qp = get_3x3_patches(x_).squeeze()"
   ]
  },
  {
   "cell_type": "code",
   "execution_count": 25,
   "id": "9633b917-1f9d-46c4-99b1-e6c67c28dd95",
   "metadata": {},
   "outputs": [
    {
     "data": {
      "text/plain": [
       "Array([[10., 11., 12., 13., 14., 15.],\n",
       "       [16., 17., 18., 19., 20., 21.],\n",
       "       [22., 23., 24., 25., 26., 27.],\n",
       "       [28., 29., 30., 31., 32., 33.]], dtype=float32, weak_type=True)"
      ]
     },
     "execution_count": 25,
     "metadata": {},
     "output_type": "execute_result"
    }
   ],
   "source": [
    "linear3_left(qm, q0, qp)"
   ]
  },
  {
   "cell_type": "code",
   "execution_count": 46,
   "id": "dbd46ded-b838-4f12-9052-38659621c84b",
   "metadata": {},
   "outputs": [
    {
     "data": {
      "text/plain": [
       "(Array([[ 1,  2,  3,  4,  5],\n",
       "        [ 6,  7,  8,  9, 10],\n",
       "        [11, 12, 13, 14, 15]], dtype=int32),\n",
       " Array([[ 6,  7,  8,  9, 10],\n",
       "        [11, 12, 13, 14, 15],\n",
       "        [16, 17, 18, 19, 20]], dtype=int32),\n",
       " Array([[11, 12, 13, 14, 15],\n",
       "        [16, 17, 18, 19, 20],\n",
       "        [21, 22, 23, 24, 25]], dtype=int32))"
      ]
     },
     "execution_count": 46,
     "metadata": {},
     "output_type": "execute_result"
    }
   ],
   "source": [
    "get_3x3_patches(x_)[0,0], get_3x3_patches(x_)[1,0], get_3x3_patches(x_)[2,0]"
   ]
  },
  {
   "cell_type": "code",
   "execution_count": null,
   "id": "0876b985-5deb-4899-9ced-3515eb91bb6a",
   "metadata": {},
   "outputs": [],
   "source": []
  },
  {
   "cell_type": "code",
   "execution_count": 13,
   "id": "43c271b5-30eb-4183-9dd6-3a4d716ea886",
   "metadata": {},
   "outputs": [
    {
     "data": {
      "text/plain": [
       "(torch.Size([2, 5]), torch.Size([2, 5]), torch.Size([2, 5]))"
      ]
     },
     "execution_count": 13,
     "metadata": {},
     "output_type": "execute_result"
    }
   ],
   "source": [
    "x.narrow(0, 0, 3-1).shape, x.narrow(0, 1, 3-1).shape, x.narrow(0, 2, 3-1).shape"
   ]
  },
  {
   "cell_type": "code",
   "execution_count": null,
   "id": "cee784fe-a36e-466c-930c-7378da6057fe",
   "metadata": {},
   "outputs": [],
   "source": []
  }
 ],
 "metadata": {
  "kernelspec": {
   "display_name": "Python [conda env:jax_eo_py311]",
   "language": "python",
   "name": "conda-env-jax_eo_py311-py"
  },
  "language_info": {
   "codemirror_mode": {
    "name": "ipython",
    "version": 3
   },
   "file_extension": ".py",
   "mimetype": "text/x-python",
   "name": "python",
   "nbconvert_exporter": "python",
   "pygments_lexer": "ipython3",
   "version": "3.11.5"
  }
 },
 "nbformat": 4,
 "nbformat_minor": 5
}
