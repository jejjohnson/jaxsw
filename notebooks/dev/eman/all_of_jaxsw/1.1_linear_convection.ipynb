{
 "cells": [
  {
   "cell_type": "markdown",
   "metadata": {
    "tags": [],
    "user_expressions": []
   },
   "source": [
    "---\n",
    "title: Linear Convection with JAX - Part I\n",
    "short_title: Linear Convection\n",
    "date: 2023-02-21\n",
    "authors:\n",
    "  - name: J. Emmanuel Johnson\n",
    "    affiliations:\n",
    "      - MEOM Lab\n",
    "    roles:\n",
    "      - Primary Programmer\n",
    "    email: jemanjohnson34@gmail.com\n",
    "license: CC-BY-4.0\n",
    "keywords: PDE, ODE, TimeStepper, Diffrax\n",
    "---"
   ]
  },
  {
   "cell_type": "markdown",
   "metadata": {
    "user_expressions": []
   },
   "source": [
    "In this tutorial, we will go over the simple 1D Linear Convection scheme. We will break down how we solve the PDE into abstractions. For each of these abstractions so that we can see how we can think in the Jax context. At the end of the tutorial, we will have an implementation within the JAX context.\n",
    "\n",
    "\n",
    "Summary of Steps:\n",
    "\n",
    "* 1D Linear Convection PDE\n",
    "* Forward-Time-Backwards-Space (FTBS)\n",
    "* Simple Time Stepper - Euler\n",
    "* Break Problem into chunks\n",
    "* Jax-ified Version\n",
    "    * Functional\n",
    "    * Explicit Types"
   ]
  },
  {
   "cell_type": "code",
   "execution_count": 23,
   "metadata": {
    "jupyter": {
     "source_hidden": true
    },
    "tags": []
   },
   "outputs": [],
   "source": [
    "import sys\n",
    "\n",
    "from pyprojroot import here\n",
    "\n",
    "\n",
    "# spyder up to find the root\n",
    "root = here(project_files=[\".home\"])\n",
    "\n",
    "# append to path\n",
    "sys.path.append(str(root))"
   ]
  },
  {
   "cell_type": "code",
   "execution_count": 24,
   "metadata": {},
   "outputs": [
    {
     "name": "stdout",
     "output_type": "stream",
     "text": [
      "The autoreload extension is already loaded. To reload it, use:\n",
      "  %reload_ext autoreload\n"
     ]
    }
   ],
   "source": [
    "import jax\n",
    "import jax.numpy as jnp\n",
    "import kernex as kex\n",
    "import matplotlib.pyplot as plt\n",
    "import numpy as np\n",
    "import seaborn as sns\n",
    "from jaxtyping import Array, Float, PyTree\n",
    "from tqdm.notebook import tqdm\n",
    "\n",
    "\n",
    "sns.reset_defaults()\n",
    "sns.set_context(context=\"talk\", font_scale=0.7)\n",
    "jax.config.update(\"jax_enable_x64\", True)\n",
    "\n",
    "%matplotlib inline\n",
    "%load_ext autoreload\n",
    "%autoreload 2"
   ]
  },
  {
   "cell_type": "markdown",
   "metadata": {
    "user_expressions": []
   },
   "source": [
    "## PDE: 1D Linear Convection"
   ]
  },
  {
   "cell_type": "markdown",
   "metadata": {
    "user_expressions": []
   },
   "source": [
    "Let's start with a simple 2D Linear Advection scheme. This PDE is defined as:\n",
    "\n",
    "$$\n",
    "\\frac{\\partial u}{\\partial t} + c \\frac{\\partial u}{\\partial x} = 0\n",
    "$$ (pde)"
   ]
  },
  {
   "cell_type": "markdown",
   "metadata": {
    "user_expressions": []
   },
   "source": [
    "For the PDE {eq}`pde`, we are going to do a backwards difference discretization in space and a forwards in time. It is given by:\n",
    "\n",
    "$$\n",
    "u_{i}^{n+1} = u_{i}^{n} - c \\frac{\\Delta t}{\\Delta x}\\left( u_{i}-u_{i-1}^n \\right)\n",
    "$$ (discretization_full)"
   ]
  },
  {
   "cell_type": "code",
   "execution_count": 25,
   "metadata": {},
   "outputs": [],
   "source": [
    "# PDE params\n",
    "c = 1.0\n",
    "sigma = 1.0\n",
    "\n",
    "# spatial discretization\n",
    "xmin = 0.0\n",
    "xmax = 2.0\n",
    "nx = 50\n",
    "dx = xmax / (nx - 1)\n",
    "x_grid = np.linspace(xmin, xmax, nx)\n",
    "\n",
    "# temporal discretization\n",
    "t0 = 0.0\n",
    "tmax = 0.5"
   ]
  },
  {
   "cell_type": "markdown",
   "metadata": {
    "user_expressions": []
   },
   "source": [
    "### CFL Condition\n",
    "\n",
    "This is necessary for convergence.\n",
    "\n",
    "$$\n",
    "\\sigma = \\frac{c\\Delta t}{\\Delta x} \\leq 1\n",
    "$$ (cfl_advection)\n",
    "\n",
    "So rearranging, we can find the correct time step given the CFL condition.\n",
    "\n",
    "$$\n",
    "\\Delta t = \\frac{\\sigma\\Delta x}{c} \\leq 1\n",
    "$$ (cfl_advection_dt)"
   ]
  },
  {
   "cell_type": "code",
   "execution_count": 26,
   "metadata": {},
   "outputs": [
    {
     "name": "stdout",
     "output_type": "stream",
     "text": [
      "Δt = 0.0082\n"
     ]
    }
   ],
   "source": [
    "def cfl_cond(dx, c, sigma):\n",
    "    assert sigma <= 1.0\n",
    "    return (sigma * dx) / c\n",
    "\n",
    "\n",
    "sigma = 0.2\n",
    "dt = cfl_cond(dx=dx, c=c, sigma=sigma)\n",
    "\n",
    "time_steps = np.arange(t0, tmax, dt)\n",
    "\n",
    "print(f\"Δt = {dt:.4f}\")"
   ]
  },
  {
   "cell_type": "code",
   "execution_count": 27,
   "metadata": {},
   "outputs": [],
   "source": [
    "solns = dict()"
   ]
  },
  {
   "cell_type": "markdown",
   "metadata": {
    "user_expressions": []
   },
   "source": [
    "\n",
    "Steps:\n",
    "\n",
    "1. Calculate the RHS\n",
    "2. Apply the Boundary Conditions\n"
   ]
  },
  {
   "cell_type": "code",
   "execution_count": 28,
   "metadata": {},
   "outputs": [
    {
     "data": {
      "application/vnd.jupyter.widget-view+json": {
       "model_id": "b9896bd68057455cbdc3a02d4b32d96b",
       "version_major": 2,
       "version_minor": 0
      },
      "text/plain": [
       "  0%|          | 0/62 [00:00<?, ?it/s]"
      ]
     },
     "metadata": {},
     "output_type": "display_data"
    }
   ],
   "source": [
    "# initialize field to be zero\n",
    "u_init = np.ones((nx,))\n",
    "u_init[int(0.5 / dx) : int(1 / dx + 1)] = 2.0\n",
    "\n",
    "u = u_init.copy()\n",
    "\n",
    "\n",
    "for t in tqdm(time_steps):\n",
    "    # copy to avoid overwriting\n",
    "\n",
    "    # calculate the terms\n",
    "    u[1:] = u[1:] - c * (dt / dx) * (u[1:] - u[:-1])\n",
    "\n",
    "    # boundaries\n",
    "    u[0] = 1.0\n",
    "    u[-1] = 1.0\n",
    "\n",
    "\n",
    "# small sanity check\n",
    "# assert (u[45:55, 45:55] > 1.8).all()\n",
    "solns[\"numpy\"] = u"
   ]
  },
  {
   "cell_type": "code",
   "execution_count": 29,
   "metadata": {},
   "outputs": [
    {
     "data": {
      "image/png": "[encoded data removed]",
      "text/plain": [
       "<Figure size 640x480 with 1 Axes>"
      ]
     },
     "metadata": {},
     "output_type": "display_data"
    }
   ],
   "source": [
    "fig, ax = plt.subplots()\n",
    "ax.plot(x_grid, u_init, label=r\"$u_0$\")\n",
    "ax.plot(x_grid, solns[\"numpy\"], label=\"$u_T$ (numpy)\")\n",
    "ax.set(\n",
    "    xlabel=\"x\",\n",
    "    ylabel=\"u(x)\",\n",
    ")\n",
    "plt.legend()\n",
    "plt.tight_layout()\n",
    "plt.show()"
   ]
  },
  {
   "cell_type": "code",
   "execution_count": 30,
   "metadata": {},
   "outputs": [
    {
     "data": {
      "application/vnd.jupyter.widget-view+json": {
       "model_id": "1c47d754ca464354a7c6e4c9fc24094a",
       "version_major": 2,
       "version_minor": 0
      },
      "text/plain": [
       "  0%|          | 0/62 [00:00<?, ?it/s]"
      ]
     },
     "metadata": {},
     "output_type": "display_data"
    }
   ],
   "source": [
    "# initialize field to be zero\n",
    "u_init = jnp.ones((nx,), dtype=jnp.float32)\n",
    "u_init = u_init.at[int(0.5 / dx) : int(1 / dx + 1)].set(2.0)\n",
    "u = u_init.copy()\n",
    "\n",
    "for t in tqdm(time_steps):\n",
    "    # # loops (BUG!)\n",
    "    # for i in range(1, u.shape[0]-1):\n",
    "    #     u = u.at[i].set(u[i] - c * (dt/dx) * (u[i] - u[i-1]))\n",
    "\n",
    "    # numpy-like\n",
    "    u = u.at[1:].set(u[1:] - c * (dt / dx) * (u[1:] - u[:-1]))\n",
    "\n",
    "    u = u.at[0].set(1.0)\n",
    "    u = u.at[-1].set(1.0)\n",
    "\n",
    "\n",
    "# small sanity check\n",
    "# assert (u[45:55, 45:55] > 1.8).all()\n",
    "solns[\"jax\"] = u"
   ]
  },
  {
   "cell_type": "code",
   "execution_count": 31,
   "metadata": {},
   "outputs": [
    {
     "data": {
      "image/png": "[encoded data removed]",
      "text/plain": [
       "<Figure size 640x480 with 1 Axes>"
      ]
     },
     "metadata": {},
     "output_type": "display_data"
    }
   ],
   "source": [
    "fig, ax = plt.subplots()\n",
    "ax.plot(x_grid, u_init, label=\"Init\")\n",
    "ax.plot(x_grid, solns[\"numpy\"], label=\"$u_T$ (numpy)\", linestyle=\"-\")\n",
    "ax.plot(x_grid, solns[\"jax\"], label=\"$u_T$ (jax)\", linestyle=\"--\")\n",
    "ax.set(\n",
    "    xlabel=\"x\",\n",
    "    ylabel=\"u(x)\",\n",
    ")\n",
    "plt.legend()\n",
    "plt.tight_layout()\n",
    "plt.show()"
   ]
  },
  {
   "cell_type": "markdown",
   "metadata": {
    "user_expressions": []
   },
   "source": [
    "## Jax-ify\n",
    "\n",
    "Now, we should jax-ify all of the things. The biggest thing is that everything should be *somewhat* funtional.\n",
    "\n",
    "---\n",
    "**Components**\n",
    "\n",
    "There are definitely some components here that I can identify from the above code.\n",
    "\n",
    "* Initialization Function\n",
    "* RHS Function (including FD Operator)\n",
    "* Boundary Conditions\n",
    "* Step Function"
   ]
  },
  {
   "cell_type": "markdown",
   "metadata": {
    "user_expressions": []
   },
   "source": [
    "## Discretization"
   ]
  },
  {
   "cell_type": "markdown",
   "metadata": {
    "user_expressions": []
   },
   "source": [
    "### Spatial\n",
    "\n",
    "So all spatial discretizations are like so:\n",
    "\n",
    "$$\n",
    "x \\in \\Omega \\sub \\mathbb{R}^{D}\n",
    "$$ (spatial_d)\n",
    "\n",
    "Where:\n",
    "\n",
    "* $\\mathbb{R}^D$ - the space of coordinates, e.g. Euclidean, Spherical, and the size, e.g. scalar, vector, etc\n",
    "* $\\Omega$ - the domain and discretization (if any)\n",
    "\n",
    "Let's define it first intuitively, and then we will revisit the notation."
   ]
  },
  {
   "cell_type": "code",
   "execution_count": 32,
   "metadata": {},
   "outputs": [
    {
     "name": "stdout",
     "output_type": "stream",
     "text": [
      "Δx: 0.0408\n"
     ]
    }
   ],
   "source": [
    "# spatial discretization\n",
    "xmin = 0.0\n",
    "xmax = 2.0\n",
    "nx = 50\n",
    "dx = xmax / (nx - 1)\n",
    "\n",
    "# spatial grid\n",
    "x_grid = np.linspace(xmin, xmax, nx)\n",
    "\n",
    "# check dx\n",
    "assert x_grid[1] - x_grid[0] == dx\n",
    "print(f\"Δx: {dx:.4f}\")"
   ]
  },
  {
   "cell_type": "markdown",
   "metadata": {
    "user_expressions": []
   },
   "source": [
    "So the space, $\\mathbb{R}^D$, is actually $\\mathbb{R}$ because we are on a 1D line. \n",
    "\n",
    "The domain, $\\Omega$, is bounded between 0 and 2 (by our choosing). The discretization, $\\Delta x$, is the interval of points on the bounded number line. So ours is $\\Delta x\\approx0.04$."
   ]
  },
  {
   "cell_type": "markdown",
   "metadata": {
    "tags": [],
    "user_expressions": []
   },
   "source": [
    "### Temporal\n",
    "\n",
    "All temporal discretizations are like so\n",
    "\n",
    "$$\n",
    "t \\in \\mathcal{T} \\sub \\mathbb{R}^+\n",
    "$$ (time_d)\n",
    "\n",
    "The space of time coordinates live on a linearly increasing line of integers. But we're interested in a bounded domain, $\\mathcal{T}$. Usually, this is defined as $\\mathcal{T}=[0,T]$ and this is actually what we do here. "
   ]
  },
  {
   "cell_type": "code",
   "execution_count": 33,
   "metadata": {},
   "outputs": [],
   "source": [
    "# temporal discretization\n",
    "t0 = 0.0\n",
    "tmax = 0.5\n",
    "\n",
    "# CFL Conditions\n",
    "c = 1.0\n",
    "sigma = 0.2\n",
    "dt = cfl_cond(dx=dx, c=c, sigma=sigma)\n",
    "\n",
    "\n",
    "# Temporal Grid\n",
    "time_steps = np.arange(t0, tmax, dt)"
   ]
  },
  {
   "cell_type": "markdown",
   "metadata": {
    "user_expressions": []
   },
   "source": [
    "### Initialization Function\n",
    "\n",
    "In functional terms, we can define the initialization as:\n",
    "\n",
    "$$\n",
    "\\mathcal{IC}[u](x,0) = \n",
    "\\begin{cases}\n",
    "2 & \\text{where } 0.5 \\leq x \\leq 1,\\\\\n",
    "1 & \\text{everywhere else in } (0,2) \\\\\n",
    "\\end{cases}\n",
    "$$ (ic)\n",
    "\n",
    "In practical terms, we need to initialize our state, $u$, based on the domain and discretization, $\\Omega$.\n",
    "\n",
    "$$\n",
    "\\mathcal{IC}[u](x,0):= \\boldsymbol{IC}(\\Omega, x)\n",
    "$$ (ic_practical)"
   ]
  },
  {
   "cell_type": "code",
   "execution_count": 34,
   "metadata": {},
   "outputs": [],
   "source": [
    "# initialize field to be zero\n",
    "\n",
    "\n",
    "def init_u_fn(grid: Float[Array, \"D\"]) -> Float[Array, \"D\"]:\n",
    "    \"\"\"Initial condition from grid\"\"\"\n",
    "    u = jnp.ones_like(grid, dtype=jnp.float64)\n",
    "\n",
    "    u = u.at[int(0.5 / dx) : int(1 / dx + 1)].set(2.0)\n",
    "\n",
    "    return u"
   ]
  },
  {
   "cell_type": "markdown",
   "metadata": {
    "user_expressions": []
   },
   "source": [
    "### Boundary Conditions"
   ]
  },
  {
   "cell_type": "markdown",
   "metadata": {
    "user_expressions": []
   },
   "source": [
    "For the boundary conditions, this is another function that is dependent upon the domain and discretization. It can be defined as:\n",
    "\n",
    "$$\n",
    "\\mathcal{BC}[u](x, t) = 1.0, \\hspace{10mm} x\\in\\partial\\Omega \\hspace{3mm} t\\in\\mathcal{T}\n",
    "$$ (bc)\n",
    "\n",
    "In practical terms, we want to apply some function, $\\boldsymbol{b}$, which modifies our state, $u$, at the coordinates along the boundaries of the domain, i.e. $x \\in \\partial\\Omega$. In our case it is constant. But we can easily think of strategies where it is an actual function."
   ]
  },
  {
   "cell_type": "code",
   "execution_count": 35,
   "metadata": {},
   "outputs": [],
   "source": [
    "def bc_fn(u: Float[Array, \"D\"]) -> Float[Array, \"D\"]:\n",
    "    u = u.at[0].set(1.0)\n",
    "\n",
    "    u = u.at[-1].set(1.0)\n",
    "\n",
    "    # TODO: can use where based on points\n",
    "    return u"
   ]
  },
  {
   "cell_type": "markdown",
   "metadata": {
    "user_expressions": []
   },
   "source": [
    "### RHS\n",
    "\n",
    "So for this, the right-hand side is the following\n",
    "\n",
    "$$\n",
    "\\mathcal{RHS}[u]:=\\mathcal{F}[u;\\theta](x) = - c \\frac{1}{\\Delta x}\\left( u_{i}-u_{i-1}^n \\right)\n",
    "$$ (rhs)\n",
    "\n",
    "We also can see that we can abstract the backwards finite difference operator as well.\n",
    "\n",
    "$$\n",
    "\\begin{aligned}\n",
    "\\mathcal{F}[u] &= - c \\cdot \\mathcal{N}[u](x) \\hspace{10mm} x\\in\\Omega \\\\\n",
    "\\mathcal{N}[u]:=\\mathcal{N}_{BD}[u] &= \\frac{1}{\\Delta x}\\left( u_{i}-u_{i-1}^n \\right) \\\\\n",
    "\\end{aligned}\n",
    "$$ (rhs_complete)"
   ]
  },
  {
   "cell_type": "markdown",
   "metadata": {
    "tags": [],
    "user_expressions": []
   },
   "source": [
    "#### Finite Difference Operator\n",
    "\n",
    "$$\n",
    "\\mathcal{N}_{BD}[u] = \\frac{1}{\\Delta x}\\left( u_{i}-u_{i-1}^n \\right)\n",
    "$$ (bd)"
   ]
  },
  {
   "cell_type": "code",
   "execution_count": null,
   "metadata": {},
   "outputs": [],
   "source": []
  },
  {
   "cell_type": "code",
   "execution_count": 36,
   "metadata": {},
   "outputs": [],
   "source": [
    "# 1st order backwards finite difference operator\n",
    "\n",
    "\n",
    "@kex.kmap(kernel_size=(2,), padding=\"valid\", relative=True, named_axis={0: \"i\"})\n",
    "def fd_back(u: Float[Array, \"2\"], dx: PyTree[float]) -> Float[Array, \"\"]:\n",
    "    return (u[\"i+1\"] - u[\"i\"]) / dx"
   ]
  },
  {
   "cell_type": "markdown",
   "metadata": {
    "user_expressions": []
   },
   "source": [
    "Notice for the named axis, I use the \"i+1\" and \"i\". It's equivalent to \"i\" and \"i-1\". It just depends on the starting point.\n",
    "\n",
    "$$\n",
    "u_i - u_{i-1} = u_{i+1} - u_i\n",
    "$$"
   ]
  },
  {
   "cell_type": "markdown",
   "metadata": {
    "tags": [],
    "user_expressions": []
   },
   "source": [
    "#### Final RHS"
   ]
  },
  {
   "cell_type": "code",
   "execution_count": 37,
   "metadata": {},
   "outputs": [],
   "source": [
    "from jaxsw._src.operators.functional.fd import difference\n",
    "\n",
    "\n",
    "# RHS function\n",
    "def rhs_fn(\n",
    "    u: Float[Array, \"D\"], dx: PyTree[float], c: PyTree[float]\n",
    ") -> Float[Array, \"D\"]:\n",
    "    \"\"\"RHS for 1D Advection.\n",
    "    Uses a Backwards FD scheme\n",
    "    \"\"\"\n",
    "    #     # removes artefact from stencil operation\n",
    "    #     u = jnp.pad(u, pad_width=((1,0)), mode=\"edge\")\n",
    "\n",
    "    #     # FD\n",
    "    #     u = fd_back(u, dx)\n",
    "\n",
    "    u = difference(u, axis=0, accuracy=1, step_size=dx, derivative=1, method=\"backward\")\n",
    "\n",
    "    # constant\n",
    "    u = -c * u\n",
    "\n",
    "    return u\n",
    "\n",
    "\n",
    "out = rhs_fn(u_init, dx=dx, c=c)"
   ]
  },
  {
   "cell_type": "markdown",
   "metadata": {
    "user_expressions": []
   },
   "source": [
    "### Step Function\n",
    "\n",
    "Now, we want to put all of this together. So we're going to create a step function that will allow us to take a state, $u$, apply the FD operator, apply the boundary conditions, return the RHS, and step forward one iteration in time. \n",
    "\n",
    "The most general form of this step function is\n",
    "\n",
    "$$\n",
    "u_{t+1} = u_t + \\boldsymbol{g}(u_t, t)\n",
    "$$ (step_fn_general)\n",
    "which basically says that \"the next state is the current state plus something\". There are many such time-steppers in the literature ranging from Taylor-based schemes (e.g. Euler) to quadrature schemes (e.g. Runga-Kutta). All have pros and cons and we can spend a long time trying to look at all of them. For this example, we will use a simple Euler time stepper.\n",
    "\n",
    "$$\n",
    "u_{t+1} = u_t + \\Delta t \\boldsymbol{f}(u_t)\n",
    "$$ (step)\n",
    "\n",
    "It's not the best, but it is fine for a simple problem. "
   ]
  },
  {
   "cell_type": "markdown",
   "metadata": {
    "user_expressions": []
   },
   "source": [
    "\n",
    "So we can write a general step of operations for the Stepper as well.\n",
    "\n",
    "$$\n",
    "\n",
    "\\mathcal{RHS}[u]:= \n",
    "\\begin{cases}\n",
    "\\mathcal{F}[u] & x\\in\\Omega\\\\\n",
    "\\mathcal{B}[u] & x\\in\\partial\\Omega \\\\\n",
    "\\end{cases}\n",
    "$$ (stepper)"
   ]
  },
  {
   "cell_type": "code",
   "execution_count": 38,
   "metadata": {},
   "outputs": [],
   "source": [
    "def step_fn(u: Float[Array, \"D\"]) -> Float[Array, \"D\"]:\n",
    "    # apply bcs for current state\n",
    "    u = bc_fn(u)\n",
    "\n",
    "    # calculate RHS\n",
    "    rhs = rhs_fn(u, dx, c)\n",
    "\n",
    "    # time step\n",
    "    u = u + dt * rhs\n",
    "\n",
    "    return u\n",
    "\n",
    "\n",
    "# small sanity check\n",
    "# assert (u[45:55, 45:55] > 1.8).all()"
   ]
  },
  {
   "cell_type": "markdown",
   "metadata": {
    "user_expressions": []
   },
   "source": [
    "### Jax Bonus: Jitting\n",
    "\n",
    "To make all things go *brrrr*, we can compile the function using the `jax.jit` command, aka just-in-time (JIT). Because we have written this in such a way that everything is functional, we should have no problem in fusing all of the operations and compiling it down to XLA code. This will make things go much faster.\n",
    "\n",
    "**Note 1**: I recommend undoing the `jit` compilations when you are debugging. \n",
    "\n",
    "**Note 2**: There is some debate but in general, try to only `jit` the **final** operation you wish to use. It often doesn't always achieve any more speedups when you `jit` every individual function. Plus when debugging, you can simply undo the final *jitted* function instead of all of the underlying *jitted* functions in your code."
   ]
  },
  {
   "cell_type": "code",
   "execution_count": 39,
   "metadata": {},
   "outputs": [],
   "source": [
    "step_fn_jitted = jax.jit(step_fn)"
   ]
  },
  {
   "cell_type": "markdown",
   "metadata": {
    "user_expressions": []
   },
   "source": [
    "We can even time it."
   ]
  },
  {
   "cell_type": "code",
   "execution_count": 40,
   "metadata": {},
   "outputs": [
    {
     "name": "stdout",
     "output_type": "stream",
     "text": [
      "2.21 ms ± 59.9 µs per loop (mean ± std. dev. of 7 runs, 100 loops each)\n",
      "3.56 µs ± 133 ns per loop (mean ± std. dev. of 7 runs, 100,000 loops each)\n"
     ]
    }
   ],
   "source": [
    "u = init_u_fn(x_grid)\n",
    "\n",
    "n_step = %timeit -o step_fn(u).block_until_ready()\n",
    "j_step = %timeit -o step_fn_jitted(u).block_until_ready()"
   ]
  },
  {
   "cell_type": "code",
   "execution_count": 41,
   "metadata": {},
   "outputs": [
    {
     "name": "stdout",
     "output_type": "stream",
     "text": [
      "Time: 2.2093e-03 secs\n",
      "Time (Jitted): 3.5598e-06 secs\n",
      "Speedup: x621\n"
     ]
    }
   ],
   "source": [
    "print(f\"Time: {n_step.average:.4e} secs\")\n",
    "print(f\"Time (Jitted): {j_step.average:.4e} secs\")\n",
    "speedup = n_step.average / j_step.average\n",
    "print(f\"Speedup: x{speedup:_.0f}\")"
   ]
  },
  {
   "cell_type": "code",
   "execution_count": 42,
   "metadata": {},
   "outputs": [
    {
     "data": {
      "application/vnd.jupyter.widget-view+json": {
       "model_id": "865780e1b3ef4d2e9e7790c9309fbac0",
       "version_major": 2,
       "version_minor": 0
      },
      "text/plain": [
       "  0%|          | 0/62 [00:00<?, ?it/s]"
      ]
     },
     "metadata": {},
     "output_type": "display_data"
    }
   ],
   "source": [
    "# initialize u from grid\n",
    "u = init_u_fn(x_grid)\n",
    "\n",
    "# loop through time steps\n",
    "for t in tqdm(time_steps):\n",
    "    # # normal step\n",
    "    # u = step_fn(u)\n",
    "\n",
    "    # Jitted step\n",
    "    u = step_fn_jitted(u)\n",
    "\n",
    "solns[\"jaxify\"] = u"
   ]
  },
  {
   "cell_type": "code",
   "execution_count": 43,
   "metadata": {},
   "outputs": [
    {
     "data": {
      "image/png": "[encoded data removed]",
      "text/plain": [
       "<Figure size 640x480 with 1 Axes>"
      ]
     },
     "metadata": {},
     "output_type": "display_data"
    }
   ],
   "source": [
    "fig, ax = plt.subplots()\n",
    "ax.plot(x_grid, u_init, label=\"Init\")\n",
    "ax.plot(x_grid, solns[\"numpy\"], label=\"$u_T$ (numpy)\", linestyle=\"-\")\n",
    "ax.plot(x_grid, solns[\"jax\"], label=\"$u_T$ (jax)\", linestyle=\"--\")\n",
    "ax.plot(x_grid, solns[\"jaxify\"], label=\"$u_T$ (jax-ified)\", linestyle=\"-.\")\n",
    "ax.set(\n",
    "    xlabel=\"x\",\n",
    "    ylabel=\"u(x)\",\n",
    ")\n",
    "plt.legend()\n",
    "plt.tight_layout()\n",
    "plt.show()"
   ]
  },
  {
   "cell_type": "code",
   "execution_count": null,
   "metadata": {},
   "outputs": [],
   "source": []
  },
  {
   "cell_type": "code",
   "execution_count": null,
   "metadata": {},
   "outputs": [],
   "source": []
  },
  {
   "cell_type": "code",
   "execution_count": null,
   "metadata": {},
   "outputs": [],
   "source": []
  }
 ],
 "metadata": {
  "kernelspec": {
   "display_name": "Python [conda env:jax_eo_py310]",
   "language": "python",
   "name": "conda-env-jax_eo_py310-py"
  },
  "language_info": {
   "codemirror_mode": {
    "name": "ipython",
    "version": 3
   },
   "file_extension": ".py",
   "mimetype": "text/x-python",
   "name": "python",
   "nbconvert_exporter": "python",
   "pygments_lexer": "ipython3",
   "version": "3.10.9"
  },
  "vscode": {
   "interpreter": {
    "hash": "0413e8c03f7ddb3373a2170669dfe9b537dbce6eabc17890668e4d351ed49188"
   }
  }
 },
 "nbformat": 4,
 "nbformat_minor": 4
}
