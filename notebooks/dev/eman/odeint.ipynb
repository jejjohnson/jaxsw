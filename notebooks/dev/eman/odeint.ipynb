{
 "cells": [
  {
   "cell_type": "markdown",
   "source": [
    "# Tutorial: ODE Integration\n",
    "\n",
    "This notebook looks at how one can do ODE integration in JAX from scratch."
   ],
   "metadata": {
    "collapsed": false
   }
  },
  {
   "cell_type": "code",
   "execution_count": 1,
   "outputs": [],
   "source": [
    "import sys, os\n",
    "from pyprojroot import here\n",
    "\n",
    "# spyder up to find the root\n",
    "root = here(project_files=[\".home\"])\n",
    "\n",
    "# append to path\n",
    "sys.path.append(str(root))"
   ],
   "metadata": {
    "collapsed": false
   }
  },
  {
   "cell_type": "code",
   "execution_count": null,
   "outputs": [],
   "source": [],
   "metadata": {
    "collapsed": false
   }
  },
  {
   "cell_type": "markdown",
   "source": [
    "\n",
    "Let's take an initial value problem (IVP) of the form:\n",
    "\n",
    "$$\n",
    "\\dot{x}(t) = \\boldsymbol{f}(x(t),t), \\hspace{4mm} x(0)=x_0\n",
    "$$\n",
    "\n",
    "where the solution to this differential equation is:\n",
    "\n",
    "$$\n",
    "x(t) = x_0 + \\int_{t_0}^{t_1}\\boldsymbol{f}(x(\\tau))\\tau\n",
    "$$\n",
    "\n",
    "Almost all problems involve some sort of dicretization\n",
    "\n",
    "$$\n",
    "u_{t+1} = u_{t} + \\boldsymbol{g}(u_{t}, c)\n",
    "$$"
   ],
   "metadata": {
    "collapsed": false
   }
  },
  {
   "cell_type": "code",
   "execution_count": 2,
   "outputs": [],
   "source": [],
   "metadata": {
    "collapsed": false
   }
  },
  {
   "cell_type": "markdown",
   "source": [
    "## Euler Integration Method\n",
    "\n",
    "$$\n",
    "u_{t+1} = u_{t} + \\alpha \\boldsymbol{f}(u_t, \\delta_t)\n",
    "$$"
   ],
   "metadata": {
    "collapsed": false
   }
  },
  {
   "cell_type": "code",
   "execution_count": null,
   "outputs": [],
   "source": [],
   "metadata": {
    "collapsed": false
   }
  },
  {
   "cell_type": "code",
   "execution_count": null,
   "outputs": [],
   "source": [
    "def odeint_euler(f, y0, t, *args):\n",
    "  def step(state, t):\n",
    "    y_prev, t_prev = state\n",
    "    dt = t - t_prev\n",
    "    y = y_prev + dt * f(y_prev, t_prev, *args)\n",
    "    return (y, t), y\n",
    "  _, ys = lax.scan(step, (y0, t[0]), t[1:])\n",
    "  return ys"
   ],
   "metadata": {
    "collapsed": false
   }
  },
  {
   "cell_type": "code",
   "execution_count": null,
   "outputs": [],
   "source": [],
   "metadata": {
    "collapsed": false
   }
  },
  {
   "cell_type": "markdown",
   "source": [
    "# Runga-Kutta, 4th Order"
   ],
   "metadata": {
    "collapsed": false
   }
  },
  {
   "cell_type": "code",
   "execution_count": null,
   "outputs": [],
   "source": [
    "def odeint_rk4(f, y0, t, *args):\n",
    "  def step(state, t):\n",
    "    y_prev, t_prev = state\n",
    "    h = t - t_prev\n",
    "    k1 = h * f(y_prev, t_prev, *args)\n",
    "    k2 = h * f(y_prev + k1/2., t_prev + h/2., *args)\n",
    "    k3 = h * f(y_prev + k2/2., t_prev + h/2., *args)\n",
    "    k4 = h * f(y_prev + k3, t + h, *args)\n",
    "    y = y_prev + 1./6 * (k1 + 2 * k2 + 2 * k3 + k4)\n",
    "    return (y, t), y\n",
    "  _, ys = lax.scan(step, (y0, t[0]), t[1:])\n",
    "  return ys"
   ],
   "metadata": {
    "collapsed": false
   }
  },
  {
   "cell_type": "markdown",
   "source": [
    "# Diffrax"
   ],
   "metadata": {
    "collapsed": false
   }
  },
  {
   "cell_type": "code",
   "execution_count": 2,
   "outputs": [],
   "source": [
    "from diffrax import diffeqsolve, ODETerm, Dopri5\n",
    "import jax.numpy as jnp\n",
    "\n",
    "def f(t, y, args):\n",
    "    return -y\n",
    "\n",
    "term = ODETerm(f)\n",
    "solver = Dopri5()\n",
    "y0 = jnp.array([2., 3.])\n",
    "solution = diffeqsolve(term, solver, t0=0, t1=1, dt0=0.1, y0=y0)\n",
    "\n"
   ],
   "metadata": {
    "collapsed": false
   }
  },
  {
   "cell_type": "code",
   "execution_count": null,
   "outputs": [],
   "source": [],
   "metadata": {
    "collapsed": false
   }
  }
 ],
 "metadata": {
  "kernelspec": {
   "name": "conda-env-jaxsw-py",
   "language": "python",
   "display_name": "Python [conda env:jaxsw]"
  },
  "language_info": {
   "codemirror_mode": {
    "name": "ipython",
    "version": 2
   },
   "file_extension": ".py",
   "mimetype": "text/x-python",
   "name": "python",
   "nbconvert_exporter": "python",
   "pygments_lexer": "ipython2",
   "version": "2.7.6"
  }
 },
 "nbformat": 4,
 "nbformat_minor": 0
}
