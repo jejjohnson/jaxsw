{
 "cells": [
  {
   "cell_type": "markdown",
   "id": "663302d1",
   "metadata": {
    "tags": []
   },
   "source": [
    "---\n",
    "title: 3 Layer Stacked QG Model\n",
    "subject: Jax Approximate Ocean Models\n",
    "# subtitle: How can I estimate the state AND the parameters?\n",
    "short_title: Stacked QG\n",
    "authors:\n",
    "  - name: J. Emmanuel Johnson\n",
    "    affiliations:\n",
    "      - CNRS\n",
    "      - MEOM\n",
    "    orcid: 0000-0002-6739-0053\n",
    "    email: jemanjohnson34@gmail.com\n",
    "  - name: Takaya Uchida\n",
    "    affiliations:\n",
    "      - FSU\n",
    "    orcid: https://orcid.org/0000-0002-8654-6009\n",
    "    email: roxyboy.guppy@gmail.com\n",
    "license: CC-BY-4.0\n",
    "keywords: jax, shallow water model, differentiable\n",
    "abbreviations:\n",
    "    SW: Shallow Water\n",
    "    QG: Quasi-Geostrophic\n",
    "    PDE: Partial Differential Equation\n",
    "    RHS: Right Hand Side\n",
    "---"
   ]
  },
  {
   "cell_type": "code",
   "execution_count": 1,
   "id": "1f10932d",
   "metadata": {
    "tags": []
   },
   "outputs": [],
   "source": [
    "import autoroot\n",
    "import jax\n",
    "import jax.numpy as jnp\n",
    "import jax.scipy as jsp\n",
    "from jax.config import config\n",
    "import numpy as np\n",
    "import numba as nb\n",
    "import pandas as pd\n",
    "import equinox as eqx\n",
    "import finitediffx as fdx\n",
    "import diffrax as dfx\n",
    "import xarray as xr\n",
    "import einops\n",
    "import matplotlib.pyplot as plt\n",
    "import seaborn as sns\n",
    "from einops import rearrange, repeat, reduce\n",
    "from tqdm.notebook import tqdm, trange\n",
    "from jaxtyping import Array, Float\n",
    "import typing as tp\n",
    "import einops\n",
    "\n",
    "from jaxsw._src.operators.functional import advection as F_adv\n",
    "from jaxsw._src.operators.functional import geostrophic as F_geos\n",
    "from jaxsw._src.operators.functional import cgrid as F_cgrid\n",
    "from jaxsw._src.operators.functional import grid as F_grid\n",
    "from jaxsw._src.operators.functional import interp as F_interp\n",
    "from jaxsw._src.boundaries.helmholtz import enforce_boundaries_helmholtz\n",
    "from jaxsw._src.models import qg as F_qg\n",
    "import jaxsw._src.domain.base_v2 as Domain\n",
    "from jaxsw._src.domain.qg import create_qg_multilayer_mat, LayerDomain\n",
    "from jaxsw._src.masks import Mask\n",
    "from jaxsw._src.operators.functional.finitevol.interp import x_average_2D, y_average_2D, center_average_2D\n",
    "from jaxsw._src.operators.functional.interp import flux as F_flux\n",
    "\n",
    "sns.reset_defaults()\n",
    "sns.set_context(context=\"talk\", font_scale=0.7)\n",
    "config.update(\"jax_enable_x64\", True)\n",
    "\n",
    "\n",
    "%matplotlib inline\n",
    "%load_ext autoreload\n",
    "%autoreload 2"
   ]
  },
  {
   "cell_type": "code",
   "execution_count": 2,
   "id": "473d9e9e",
   "metadata": {
    "tags": []
   },
   "outputs": [],
   "source": [
    "from loguru import logger\n",
    "\n",
    "\n",
    "def plot_field(field):\n",
    "    num_axis = len(field)\n",
    "    fig, ax = plt.subplots(ncols=num_axis, figsize=(8, 2))\n",
    "\n",
    "    for i in range(num_axis):\n",
    "        pts = ax[i].pcolormesh(field[i], cmap=\"coolwarm\")\n",
    "        plt.colorbar(pts)\n",
    "\n",
    "    plt.tight_layout()\n",
    "    plt.show()\n",
    "\n",
    "\n",
    "def print_debug_quantity(quantity, name=\"\"):\n",
    "    size = quantity.shape\n",
    "    min_ = np.min(quantity)\n",
    "    max_ = np.max(quantity)\n",
    "    mean_ = np.mean(quantity)\n",
    "    median_ = np.mean(quantity)\n",
    "    logger.debug(\n",
    "        f\"{name}: {size} | {min_:.6e} | {mean_:.6e} | {median_:.6e} | {max_:.6e}\"\n",
    "    )"
   ]
  },
  {
   "cell_type": "code",
   "execution_count": 3,
   "id": "3bf277ba-ac53-4fe4-a434-37bd431b1c3d",
   "metadata": {
    "tags": []
   },
   "outputs": [
    {
     "data": {
      "text/plain": [
       "\u001b[0;31mInit signature:\u001b[0m \u001b[0mF_qg\u001b[0m\u001b[0;34m.\u001b[0m\u001b[0mPDEParams\u001b[0m\u001b[0;34m(\u001b[0m\u001b[0;34m*\u001b[0m\u001b[0margs\u001b[0m\u001b[0;34m,\u001b[0m \u001b[0;34m**\u001b[0m\u001b[0mkwargs\u001b[0m\u001b[0;34m)\u001b[0m\u001b[0;34m\u001b[0m\u001b[0;34m\u001b[0m\u001b[0m\n",
       "\u001b[0;31mDocstring:\u001b[0m      PDEParams(*args, **kwargs)\n",
       "\u001b[0;31mSource:\u001b[0m        \n",
       "\u001b[0;32mclass\u001b[0m \u001b[0mPDEParams\u001b[0m\u001b[0;34m(\u001b[0m\u001b[0meqx\u001b[0m\u001b[0;34m.\u001b[0m\u001b[0mModule\u001b[0m\u001b[0;34m)\u001b[0m\u001b[0;34m:\u001b[0m\u001b[0;34m\u001b[0m\n",
       "\u001b[0;34m\u001b[0m    \u001b[0mf0\u001b[0m\u001b[0;34m:\u001b[0m \u001b[0mfloat\u001b[0m \u001b[0;34m=\u001b[0m \u001b[0;36m9.375e-5\u001b[0m  \u001b[0;31m# coriolis [s^-1]\u001b[0m\u001b[0;34m\u001b[0m\n",
       "\u001b[0;34m\u001b[0m    \u001b[0mbeta\u001b[0m\u001b[0;34m:\u001b[0m \u001b[0mfloat\u001b[0m \u001b[0;34m=\u001b[0m \u001b[0;36m1.754e-11\u001b[0m  \u001b[0;31m# coriolis gradient [m^-1 s^-1]\u001b[0m\u001b[0;34m\u001b[0m\n",
       "\u001b[0;34m\u001b[0m    \u001b[0mtau0\u001b[0m\u001b[0;34m:\u001b[0m \u001b[0mfloat\u001b[0m \u001b[0;34m=\u001b[0m \u001b[0;36m2.0e-5\u001b[0m  \u001b[0;31m# wind stress magnitude m/s^2\u001b[0m\u001b[0;34m\u001b[0m\n",
       "\u001b[0;34m\u001b[0m    \u001b[0my0\u001b[0m\u001b[0;34m:\u001b[0m \u001b[0mfloat\u001b[0m \u001b[0;34m=\u001b[0m \u001b[0;36m2_400_000.0\u001b[0m  \u001b[0;31m# [m]\u001b[0m\u001b[0;34m\u001b[0m\n",
       "\u001b[0;34m\u001b[0m    \u001b[0ma_2\u001b[0m\u001b[0;34m:\u001b[0m \u001b[0mfloat\u001b[0m \u001b[0;34m=\u001b[0m \u001b[0;36m0.0\u001b[0m  \u001b[0;31m# laplacian diffusion coef (m^2/s)\u001b[0m\u001b[0;34m\u001b[0m\n",
       "\u001b[0;34m\u001b[0m    \u001b[0ma_4\u001b[0m\u001b[0;34m:\u001b[0m \u001b[0mfloat\u001b[0m \u001b[0;34m=\u001b[0m \u001b[0;36m5.0e11\u001b[0m  \u001b[0;31m# LR # 2.0e9 # HR\u001b[0m\u001b[0;34m\u001b[0m\n",
       "\u001b[0;34m\u001b[0m    \u001b[0mbcco\u001b[0m\u001b[0;34m:\u001b[0m \u001b[0mfloat\u001b[0m \u001b[0;34m=\u001b[0m \u001b[0;36m0.2\u001b[0m  \u001b[0;31m# boundary condition coef. (non-dim.)\u001b[0m\u001b[0;34m\u001b[0m\n",
       "\u001b[0;34m\u001b[0m    \u001b[0mdelta_ek\u001b[0m\u001b[0;34m:\u001b[0m \u001b[0mfloat\u001b[0m \u001b[0;34m=\u001b[0m \u001b[0;36m2.0\u001b[0m  \u001b[0;31m# eckman height [m]\u001b[0m\u001b[0;34m\u001b[0m\n",
       "\u001b[0;34m\u001b[0m\u001b[0;34m\u001b[0m\n",
       "\u001b[0;34m\u001b[0m    \u001b[0;34m@\u001b[0m\u001b[0mproperty\u001b[0m\u001b[0;34m\u001b[0m\n",
       "\u001b[0;34m\u001b[0m    \u001b[0;32mdef\u001b[0m \u001b[0mzfbc\u001b[0m\u001b[0;34m(\u001b[0m\u001b[0mself\u001b[0m\u001b[0;34m)\u001b[0m\u001b[0;34m:\u001b[0m\u001b[0;34m\u001b[0m\n",
       "\u001b[0;34m\u001b[0m        \u001b[0;32mreturn\u001b[0m \u001b[0mself\u001b[0m\u001b[0;34m.\u001b[0m\u001b[0mbcco\u001b[0m \u001b[0;34m/\u001b[0m \u001b[0;34m(\u001b[0m\u001b[0;36m1.0\u001b[0m \u001b[0;34m+\u001b[0m \u001b[0;36m0.5\u001b[0m \u001b[0;34m*\u001b[0m \u001b[0mself\u001b[0m\u001b[0;34m.\u001b[0m\u001b[0mbcco\u001b[0m\u001b[0;34m)\u001b[0m\u001b[0;34m\u001b[0m\u001b[0;34m\u001b[0m\u001b[0m\n",
       "\u001b[0;31mFile:\u001b[0m           ~/code_projects/jaxsw/jaxsw/_src/models/qg/__init__.py\n",
       "\u001b[0;31mType:\u001b[0m           _ModuleMeta\n",
       "\u001b[0;31mSubclasses:\u001b[0m     "
      ]
     },
     "metadata": {},
     "output_type": "display_data"
    }
   ],
   "source": [
    "F_qg.PDEParams??"
   ]
  },
  {
   "cell_type": "code",
   "execution_count": 4,
   "id": "bed24a1c-5182-4bce-a771-2803dc7c3440",
   "metadata": {
    "tags": []
   },
   "outputs": [],
   "source": [
    "from jaxsw._src.operators.functional.dst import (\n",
    "    helmholtz_dst, \n",
    "    laplacian_dst, \n",
    "    inverse_elliptic_dst, \n",
    "    dstI2D, dstI1D,\n",
    "    inverse_elliptic_dst_cmm,\n",
    "    helmholtz_fn,\n",
    "    compute_capacitance_matrices\n",
    ")"
   ]
  },
  {
   "cell_type": "code",
   "execution_count": 5,
   "id": "1afb183e-a119-40b4-b1a7-6b83c4de4087",
   "metadata": {
    "tags": []
   },
   "outputs": [],
   "source": [
    "\n",
    "a_4 = 5.0e11  # 2.0e9 #\n",
    "params = F_qg.PDEParams()\n",
    "\n",
    "\n",
    "\n",
    "# Low Resolution\n",
    "Nx, Ny = 128, 128\n",
    "# High Resolution\n",
    "# Nx, Ny = 769, 961\n",
    "\n",
    "# Lx, Ly = 3840.0e3, 4800.0e3\n",
    "Lx, Ly = 5_120.0e3, 5_120.0e3\n",
    "\n",
    "x_domain = Domain.init_domain_1d(Lx, Nx)\n",
    "y_domain = Domain.init_domain_1d(Ly, Ny)\n",
    "x_domain, y_domain\n",
    "xy_domain = x_domain * y_domain\n",
    "\n"
   ]
  },
  {
   "cell_type": "code",
   "execution_count": 6,
   "id": "391754a0-47c4-430b-981d-4d3b6ddc17f1",
   "metadata": {
    "tags": []
   },
   "outputs": [
    {
     "data": {
      "text/plain": [
       "Domain(\n",
       "  xmin=(0.0, 0.0),\n",
       "  xmax=(5120000.0, 5120000.0),\n",
       "  dx=(40314.96062992126, 40314.96062992126),\n",
       "  Nx=(128, 128),\n",
       "  Lx=(5120000.0, 5120000.0),\n",
       "  ndim=2\n",
       ")"
      ]
     },
     "execution_count": 6,
     "metadata": {},
     "output_type": "execute_result"
    }
   ],
   "source": [
    "xy_domain"
   ]
  },
  {
   "cell_type": "code",
   "execution_count": 20,
   "id": "2a5e5848-cb4c-41b7-bc8e-2546ccbfaeae",
   "metadata": {
    "tags": []
   },
   "outputs": [],
   "source": [
    "# octogonal domain\n",
    "mask = np.ones((Nx-1,Ny-1))\n",
    "for i in range(Nx//4):\n",
    "    for j in range(Ny//4):\n",
    "        if i+j < min(Nx//4, Ny//4):\n",
    "            mask[i,j] = 0.\n",
    "            mask[i,-1-j] = 0.\n",
    "            mask[-1-i,j] = 0.\n",
    "            mask[-1-i,-1-j] = 0.\n",
    "            \n",
    "masks = Mask.init_mask(mask, variable=\"q\")\n",
    "\n",
    "\n",
    "# mask = jnp.ones((Nx,Ny))\n",
    "# mask = mask.at[0].set(0.0)\n",
    "# mask = mask.at[-1].set(0.0)\n",
    "# mask = mask.at[:,0].set(0.0)\n",
    "# mask = mask.at[:,-1].set(0.0)\n",
    "\n",
    "# masks = Mask.init_mask(mask, variable=\"psi\")"
   ]
  },
  {
   "cell_type": "code",
   "execution_count": null,
   "id": "0637645c-04e2-40a4-852a-196a7a11aa96",
   "metadata": {},
   "outputs": [],
   "source": []
  },
  {
   "cell_type": "code",
   "execution_count": null,
   "id": "80f49501-fcb6-42db-9658-4e12ebe987cf",
   "metadata": {},
   "outputs": [],
   "source": []
  },
  {
   "cell_type": "code",
   "execution_count": 21,
   "id": "9ee3a8d0-335d-4cfe-9b96-49de4b76cba2",
   "metadata": {
    "tags": []
   },
   "outputs": [
    {
     "name": "stderr",
     "output_type": "stream",
     "text": [
      "\u001b[32m2023-10-10 17:20:13.279\u001b[0m | \u001b[34m\u001b[1mDEBUG   \u001b[0m | \u001b[36mjaxsw._src.models.qg\u001b[0m:\u001b[36mprint_debug_quantity\u001b[0m:\u001b[36m37\u001b[0m - \u001b[34m\u001b[1mL_MAT: (126, 126) | -4.921427e-09 | -2.461090e-09 | -2.461090e-09 | -7.529527e-13\u001b[0m\n"
     ]
    }
   ],
   "source": [
    "\n",
    "\n",
    "\n",
    "\n",
    "\n",
    "\n",
    "# heights\n",
    "# heights = [350.0, 750.0, 2900.0]\n",
    "heights = [400.0, 1_100.0, 2_600.0]\n",
    "\n",
    "# reduced gravities\n",
    "reduced_gravities = [0.025, 0.0125]\n",
    "\n",
    "# initialize layer domain\n",
    "layer_domain = LayerDomain(heights, reduced_gravities, correction=True)\n",
    "\n",
    "# from jaxsw._src.operators.functional import elliptical as F_elliptical\n",
    "H_mat = F_qg.calculate_helmholtz_dst(xy_domain, layer_domain, params)\n",
    "\n",
    "\n",
    "psi0 = jnp.zeros(shape=(layer_domain.Nz,) + xy_domain.Nx)\n",
    "\n",
    "homsol = F_qg.compute_homogeneous_solution(\n",
    "    psi0, \n",
    "    lambda_sq=einops.rearrange(layer_domain.lambda_sq, \"Nz -> Nz 1 1\"),\n",
    "    H_mat=H_mat\n",
    ")\n",
    "# CALCULATE CAPCITANCE MATRIX\n",
    "cap_matrices = compute_capacitance_matrices(\n",
    "    H_mat, \n",
    "    masks.psi.irrbound_xids,\n",
    "    masks.psi.irrbound_yids\n",
    ")\n",
    "\n",
    "\n",
    "# calculate homogeneous solution\n",
    "homsol_i = center_average_2D(homsol) * masks.q.values\n",
    "\n",
    "homsol_mean = einops.reduce(homsol_i, \"Nz Nx Ny -> Nz 1 1\", reduction=\"mean\")\n",
    "\n",
    "dst_sol = F_qg.DSTSolution(\n",
    "    homsol=homsol, \n",
    "    homsol_mean=homsol_mean, \n",
    "    H_mat=H_mat,\n",
    "    capacitance_matrix=cap_matrices\n",
    ")\n",
    "\n",
    "# PV\n",
    "q = F_qg.calculate_potential_vorticity(\n",
    "    psi0, xy_domain, layer_domain, \n",
    "    params=params,\n",
    "    masks_psi=masks.psi, \n",
    "    masks_q=masks.q\n",
    ")\n",
    "\n",
    "fn = jax.vmap(F_qg.advection_rhs, in_axes=(0,0,None,None,None,None,None))\n",
    "\n",
    "div_flux = fn(\n",
    "    q, psi0, xy_domain.dx[-2],xy_domain.dx[-1], 1, masks.u, masks.v\n",
    "    # q, psi0, xy_domain.dx[-2],xy_domain.dx[-1], 1, None, None,\n",
    ")\n",
    "\n",
    "bottom_drag = F_qg.calculate_bottom_drag(\n",
    "    psi=psi0, \n",
    "    domain=xy_domain, \n",
    "    H_z=layer_domain.heights[-1],\n",
    "    f0=params.f0, \n",
    "    masks_psi=masks.psi\n",
    ")\n",
    "\n",
    "wind_forcing = F_qg.calculate_wind_forcing(\n",
    "    domain=xy_domain,\n",
    "    H_0=layer_domain.heights[0],\n",
    "    tau0=0.08/1_000.0,\n",
    ")\n",
    "\n",
    "\n",
    "\n",
    "\n",
    "dq, dpsi = F_qg.qg_rhs(\n",
    "    q=q, \n",
    "    psi=psi0, \n",
    "    domain=xy_domain,\n",
    "    params=params, \n",
    "    layer_domain=layer_domain,\n",
    "    dst_sol=dst_sol, \n",
    "    wind_forcing=wind_forcing,\n",
    "    bottom_drag=bottom_drag,\n",
    "    masks=masks\n",
    ")\n",
    "\n"
   ]
  },
  {
   "cell_type": "code",
   "execution_count": 22,
   "id": "070037dd-a9aa-4d06-93ec-85056407b896",
   "metadata": {
    "tags": []
   },
   "outputs": [
    {
     "data": {
      "text/plain": [
       "dtype('int32')"
      ]
     },
     "execution_count": 22,
     "metadata": {},
     "output_type": "execute_result"
    }
   ],
   "source": [
    "masks.psi.irrbound_xids.dtype"
   ]
  },
  {
   "cell_type": "code",
   "execution_count": 23,
   "id": "74e74bfd-4ad6-495c-a9a6-2ab88b40c36f",
   "metadata": {
    "tags": []
   },
   "outputs": [],
   "source": [
    "class State(eqx.Module):\n",
    "    q: Array\n",
    "    psi: Array"
   ]
  },
  {
   "cell_type": "code",
   "execution_count": 10,
   "id": "efd6ff6e-a29e-463f-af46-2681ab85a1a1",
   "metadata": {
    "tags": []
   },
   "outputs": [],
   "source": [
    "def vector_field(t: float, state: State, args) -> State:\n",
    "    \n",
    "    dq, dpsi = F_qg.qg_rhs(\n",
    "        q=state.q, psi=state.psi,\n",
    "        domain=xy_domain, params=params,\n",
    "        layer_domain=layer_domain,\n",
    "        dst_sol=dst_sol,\n",
    "        wind_forcing=wind_forcing,\n",
    "        bottom_drag=bottom_drag,\n",
    "        masks=masks\n",
    "    )\n",
    "    \n",
    "    state = eqx.tree_at(lambda x: x.q, state, dq)\n",
    "    state = eqx.tree_at(lambda x: x.psi, state, dpsi)\n",
    "    \n",
    "    return state"
   ]
  },
  {
   "cell_type": "code",
   "execution_count": 11,
   "id": "8bccffa6-2920-480f-a345-23258fe1336d",
   "metadata": {
    "tags": []
   },
   "outputs": [],
   "source": [
    "def time_step(state: State, dt: float) -> State:\n",
    "    \n",
    "    \n",
    "    \n",
    "    # 1st order time derivative (Euler)\n",
    "    state_new = vector_field(0, state, None)\n",
    "    \n",
    "    \n",
    "    # extract new state\n",
    "    dq0 = state_new.q\n",
    "    dpsi0 = state_new.psi\n",
    "    \n",
    "    # do time step\n",
    "    q = state.q + dt * dq0\n",
    "    psi = state.psi + dt * dpsi0\n",
    "    \n",
    "    # update state\n",
    "    state = eqx.tree_at(lambda x: x.q, state, q)\n",
    "    state = eqx.tree_at(lambda x: x.psi, state, psi)\n",
    "    \n",
    "    # ===============\n",
    "    # 2nd order?\n",
    "    # ===============\n",
    "    state_new = vector_field(0, state, None)\n",
    "    \n",
    "    \n",
    "    # extract new state\n",
    "    dq1 = state_new.q\n",
    "    dpsi1 = state_new.psi\n",
    "    \n",
    "    # do time step\n",
    "    q = state.q + (dt/4.0) * (dq1 - 3.0*dq0)\n",
    "    psi = state.psi + (dt/4.0) * (dpsi1 - 3.0*dpsi0)\n",
    "    \n",
    "    # update state\n",
    "    state = eqx.tree_at(lambda x: x.q, state, q)\n",
    "    state = eqx.tree_at(lambda x: x.psi, state, psi)\n",
    "    \n",
    "    \n",
    "#     # ===============\n",
    "#     # 3rd order?\n",
    "#     # ===============\n",
    "#     state_new = vector_field(0, state, None)\n",
    "    \n",
    "#     # extract new state\n",
    "#     dq2 = state_new.q\n",
    "#     dpsi2 = state_new.psi\n",
    "    \n",
    "#     # do time step\n",
    "#     q = state.q + (dt/12.0) * (8.0 * dq2 - dq1 - dq0)\n",
    "#     psi = state.psi + (dt/12.0) * (8.0* dpsi2 - dpsi1 - dpsi0)\n",
    "    \n",
    "#     # update state\n",
    "#     state = eqx.tree_at(lambda x: x.q, state, q)\n",
    "#     state = eqx.tree_at(lambda x: x.psi, state, psi)\n",
    "    \n",
    "    \n",
    "    \n",
    "    return state"
   ]
  },
  {
   "cell_type": "code",
   "execution_count": 12,
   "id": "a3abc17d-15d8-4627-b111-f83c73f4950f",
   "metadata": {
    "tags": []
   },
   "outputs": [],
   "source": [
    "state_t0 = State(q=q, psi=psi0)\n",
    "\n",
    "dt = 1_000\n",
    "state_t1 = time_step(state_t0, dt)\n",
    "\n",
    "# jitted_time_step = jax.jit(time_step)\n",
    "\n",
    "state_t1_ = time_step(state_t0, dt)"
   ]
  },
  {
   "cell_type": "code",
   "execution_count": null,
   "id": "e8f523dd-a167-4ee3-9832-e7ecc324c1d1",
   "metadata": {},
   "outputs": [],
   "source": []
  },
  {
   "cell_type": "code",
   "execution_count": 13,
   "id": "87940184-fa51-463d-9fb9-2ab54f5bb6f5",
   "metadata": {
    "tags": []
   },
   "outputs": [
    {
     "data": {
      "text/plain": [
       "<matplotlib.colorbar.Colorbar at 0x29a7be190>"
      ]
     },
     "execution_count": 13,
     "metadata": {},
     "output_type": "execute_result"
    },
    {
     "data": {
      "image/png": "[encoded data removed]",
      "text/plain": [
       "<Figure size 640x480 with 2 Axes>"
      ]
     },
     "metadata": {},
     "output_type": "display_data"
    }
   ],
   "source": [
    "pts = plt.imshow(wind_forcing)\n",
    "plt.colorbar(pts)"
   ]
  },
  {
   "cell_type": "code",
   "execution_count": 14,
   "id": "238befb1-6830-4d0e-b278-f35f8d6e59e3",
   "metadata": {
    "tags": []
   },
   "outputs": [
    {
     "name": "stderr",
     "output_type": "stream",
     "text": [
      "\u001b[32m2023-10-10 16:57:22.235\u001b[0m | \u001b[34m\u001b[1mDEBUG   \u001b[0m | \u001b[36m__main__\u001b[0m:\u001b[36mprint_debug_quantity\u001b[0m:\u001b[36m22\u001b[0m - \u001b[34m\u001b[1m: (127, 127) | -2.454182e-13 | -6.410663e-30 | -6.410663e-30 | 2.454182e-13\u001b[0m\n"
     ]
    }
   ],
   "source": [
    "print_debug_quantity(wind_forcing)"
   ]
  },
  {
   "cell_type": "code",
   "execution_count": 15,
   "id": "131899e2-74fb-488b-b97f-279ffd98a1a3",
   "metadata": {
    "tags": []
   },
   "outputs": [],
   "source": [
    "psi0 = jnp.zeros(shape=(layer_domain.Nz,) + xy_domain.Nx)\n",
    "\n",
    "q = F_qg.calculate_potential_vorticity(\n",
    "    psi0, xy_domain, layer_domain, \n",
    "    params=params,\n",
    "    masks_psi=masks.psi, \n",
    "    masks_q=masks.q\n",
    ")\n",
    "\n",
    "state_init = State(q=q, psi=psi0)\n",
    "\n",
    "state_out = vector_field(0, state_init, None)"
   ]
  },
  {
   "cell_type": "code",
   "execution_count": null,
   "id": "0277adac-5224-4a2d-b9bc-95a2c37077f9",
   "metadata": {
    "tags": []
   },
   "outputs": [],
   "source": []
  },
  {
   "cell_type": "code",
   "execution_count": 49,
   "id": "2a302db1-9f3b-41ff-be95-b0f984d94de9",
   "metadata": {
    "tags": []
   },
   "outputs": [],
   "source": [
    "dt = 4_000\n",
    "\n",
    "tmin = 0.0\n",
    "tmax = pd.to_timedelta(360, unit=\"days\").total_seconds()\n",
    "num_save = 20"
   ]
  },
  {
   "cell_type": "code",
   "execution_count": 50,
   "id": "7d22b7e1-a37c-449e-9a24-6e0795badb7c",
   "metadata": {
    "tags": []
   },
   "outputs": [],
   "source": [
    "from jaxsw._src.domain.time import TimeDomain\n",
    "\n",
    "t_domain = TimeDomain(tmin=tmin, tmax=tmax, dt=dt)\n",
    "ts = jnp.linspace(tmin, tmax, num_save)\n",
    "saveat = dfx.SaveAt(ts=ts)"
   ]
  },
  {
   "cell_type": "code",
   "execution_count": 51,
   "id": "c960d31e-1c36-4e2d-9646-b02eb767f00b",
   "metadata": {
    "tags": []
   },
   "outputs": [],
   "source": [
    "# Euler, Constant StepSize\n",
    "solver = dfx.Dopri5()\n",
    "\n",
    "# Tolerances\n",
    "stepsize_controller = dfx.PIDController(rtol=1e-5, atol=1e-5)\n",
    "# stepsize_controller = dfx.ConstantStepSize()"
   ]
  },
  {
   "cell_type": "code",
   "execution_count": 52,
   "id": "32c6d436-2c4e-4ced-b163-d41dfd2c4d8c",
   "metadata": {
    "tags": []
   },
   "outputs": [],
   "source": [
    "psi0 = jnp.zeros(shape=(layer_domain.Nz,) + xy_domain.Nx)\n",
    "\n",
    "q = F_qg.calculate_potential_vorticity(\n",
    "    psi0, xy_domain, layer_domain, \n",
    "    params=params,\n",
    "    masks_psi=masks.psi, \n",
    "    masks_q=masks.q\n",
    ")\n",
    "\n",
    "state_init = State(q=q, psi=psi0)"
   ]
  },
  {
   "cell_type": "code",
   "execution_count": null,
   "id": "e65b3409-c638-44c9-88ed-f1ba10e30a89",
   "metadata": {
    "tags": []
   },
   "outputs": [],
   "source": [
    "# integration\n",
    "sol = dfx.diffeqsolve(\n",
    "    terms=dfx.ODETerm(vector_field),\n",
    "    solver=solver,\n",
    "    t0=tmin,\n",
    "    t1=tmax,\n",
    "    dt0=dt,\n",
    "    y0=state_init,\n",
    "    saveat=saveat,\n",
    "    args=None,\n",
    "    stepsize_controller=stepsize_controller,\n",
    "    max_steps=None,\n",
    ")"
   ]
  },
  {
   "cell_type": "code",
   "execution_count": null,
   "id": "f1136e05-b442-4a50-9e85-e89bb3f3cf6f",
   "metadata": {
    "tags": []
   },
   "outputs": [],
   "source": [
    "plot_field(sol.ys.psi[-1])"
   ]
  },
  {
   "cell_type": "code",
   "execution_count": 25,
   "id": "c0553462-19bc-406e-8b67-d24ca447cff0",
   "metadata": {
    "tags": []
   },
   "outputs": [],
   "source": [
    "# integration\n",
    "sol = dfx.diffeqsolve(\n",
    "    terms=dfx.ODETerm(vector_field),\n",
    "    solver=solver,\n",
    "    t0=tmin,\n",
    "    t1=tmax,\n",
    "    dt0=dt,\n",
    "    y0=State(sol.ys.q[-1], sol.ys.psi[-1]),\n",
    "    saveat=saveat,\n",
    "    args=None,\n",
    "    stepsize_controller=stepsize_controller,\n",
    "    max_steps=None,\n",
    ")"
   ]
  },
  {
   "cell_type": "code",
   "execution_count": 28,
   "id": "55532fba-17ff-48d6-a5a6-1540f56b0edc",
   "metadata": {
    "tags": []
   },
   "outputs": [
    {
     "data": {
      "image/png": "[encoded data removed]",
      "text/plain": [
       "<Figure size 800x200 with 6 Axes>"
      ]
     },
     "metadata": {},
     "output_type": "display_data"
    }
   ],
   "source": [
    "plot_field(sol.ys.psi[-1])"
   ]
  },
  {
   "cell_type": "code",
   "execution_count": null,
   "id": "22f847c3-c4f2-4c05-8fc3-9731b6ee7053",
   "metadata": {},
   "outputs": [],
   "source": []
  },
  {
   "cell_type": "code",
   "execution_count": null,
   "id": "8ee392e4-57cc-47ac-a6ba-6199cd91ba1b",
   "metadata": {},
   "outputs": [],
   "source": []
  },
  {
   "cell_type": "code",
   "execution_count": null,
   "id": "818794b7-ddde-4964-a537-f05e0ab7198a",
   "metadata": {},
   "outputs": [],
   "source": []
  },
  {
   "cell_type": "code",
   "execution_count": 8,
   "id": "239c9082-e78d-470b-9e49-94cbfaed9903",
   "metadata": {
    "tags": []
   },
   "outputs": [],
   "source": [
    "vector_field_jitted = jax.jit(vector_field)"
   ]
  },
  {
   "cell_type": "code",
   "execution_count": 9,
   "id": "aac901b9-0ecb-446f-be4c-eaa2f8572712",
   "metadata": {
    "tags": []
   },
   "outputs": [],
   "source": [
    "state__ = vector_field_jitted(state)\n",
    "\n",
    "np.testing.assert_array_almost_equal(state__.q, state_.q)\n",
    "np.testing.assert_array_almost_equal(state__.psi, state_.psi)"
   ]
  },
  {
   "cell_type": "code",
   "execution_count": 10,
   "id": "f4c18e5e-fddd-4e1d-906c-b2e5a258903d",
   "metadata": {
    "tags": []
   },
   "outputs": [],
   "source": [
    "def time_step(state: State, dt: float) -> State:\n",
    "    \n",
    "    \n",
    "    \n",
    "    # 1st order time derivative (Euler)\n",
    "    state_new = vector_field(state)\n",
    "    \n",
    "    plot_field(state_new.q)\n",
    "    plot_field(state_new.psi)\n",
    "    \n",
    "    # extract new state\n",
    "    dq0 = state_new.q\n",
    "    dpsi0 = state_new.psi\n",
    "    \n",
    "    # do time step\n",
    "    q = state.q + dt * dq0\n",
    "    psi = state.psi + dt * dpsi0\n",
    "    \n",
    "    # update state\n",
    "    state = eqx.tree_at(lambda x: x.q, state, q)\n",
    "    state = eqx.tree_at(lambda x: x.psi, state, psi)\n",
    "    \n",
    "    # ===============\n",
    "    # 2nd order?\n",
    "    # ===============\n",
    "    state_new = vector_field(state)\n",
    "    \n",
    "    plot_field(state_new.q)\n",
    "    plot_field(state_new.psi)\n",
    "    \n",
    "    # extract new state\n",
    "    dq1 = state_new.q\n",
    "    dpsi1 = state_new.psi\n",
    "    \n",
    "    # do time step\n",
    "    q = state.q + (dt/4.0) * (dq1 - 3.0*dq0)\n",
    "    psi = state.psi + (dt/4.0) * (dpsi1 - 3.0*dpsi0)\n",
    "    \n",
    "    # update state\n",
    "    state = eqx.tree_at(lambda x: x.q, state, q)\n",
    "    state = eqx.tree_at(lambda x: x.psi, state, psi)\n",
    "    \n",
    "    \n",
    "    # ===============\n",
    "    # 3rd order?\n",
    "    # ===============\n",
    "    state_new = vector_field(state)\n",
    "    \n",
    "    # extract new state\n",
    "    dq2 = state_new.q\n",
    "    dpsi2 = state_new.psi\n",
    "    \n",
    "    # do time step\n",
    "    q = state.q + (dt/12.0) * (8.0 * dq2 - dq1 - dq0)\n",
    "    psi = state.psi + (dt/12.0) * (8.0* dpsi2 - dpsi1 - dpsi0)\n",
    "    \n",
    "    # update state\n",
    "    state = eqx.tree_at(lambda x: x.q, state, q)\n",
    "    state = eqx.tree_at(lambda x: x.psi, state, psi)\n",
    "    \n",
    "    plot_field(state.q)\n",
    "    plot_field(state.psi)\n",
    "    \n",
    "    \n",
    "    return state"
   ]
  },
  {
   "cell_type": "code",
   "execution_count": 11,
   "id": "5d5faf98-bf9b-4faf-8230-93807f295701",
   "metadata": {
    "tags": []
   },
   "outputs": [],
   "source": [
    "state_t0 = State(q=q, psi=psi0)\n",
    "\n",
    "dt = 1_000\n",
    "state_t1 = time_step(state_t0, dt)\n",
    "\n",
    "jitted_time_step = jax.jit(time_step)\n",
    "\n",
    "state_t1_ = jitted_time_step(state_t0, dt)"
   ]
  },
  {
   "cell_type": "code",
   "execution_count": 12,
   "id": "bb119239-9e19-4e94-b5a7-af100630bc3d",
   "metadata": {
    "tags": []
   },
   "outputs": [],
   "source": [
    "t = 0\n",
    "\n",
    "num_years = 0.1 #50\n",
    "n_steps = int(num_years*365*24*3600 / dt) + 1\n",
    "freq_log = 1000\n",
    "\n",
    "num_years_save = num_years / 5\n",
    "n_steps_save = int(num_years_save*365*24*3600 / dt) + 1\n",
    "freq_save = int(num_years_save*24*3600 / dt)"
   ]
  },
  {
   "cell_type": "code",
   "execution_count": 13,
   "id": "569b7649-d91b-4297-a40a-b9d6a4c413f5",
   "metadata": {
    "tags": []
   },
   "outputs": [],
   "source": [
    "sols = []"
   ]
  },
  {
   "cell_type": "code",
   "execution_count": 14,
   "id": "3ad2cee8-786a-42bf-b3e4-72f56b537ec5",
   "metadata": {
    "tags": []
   },
   "outputs": [],
   "source": [
    "state = State(q=q, psi=psi0)"
   ]
  },
  {
   "cell_type": "code",
   "execution_count": 15,
   "id": "b81c4625-7b75-476c-89a6-a5ace4b0c9c8",
   "metadata": {
    "tags": []
   },
   "outputs": [],
   "source": [
    "# state_t = state"
   ]
  },
  {
   "cell_type": "code",
   "execution_count": 16,
   "id": "1f46087a-f7d0-4efc-90c5-72ed33aa31ec",
   "metadata": {
    "tags": []
   },
   "outputs": [
    {
     "data": {
      "application/vnd.jupyter.widget-view+json": {
       "model_id": "c5587410c5f34f5188ca69a1bbdfbdde",
       "version_major": 2,
       "version_minor": 0
      },
      "text/plain": [
       "  0%|          | 0/3154 [00:00<?, ?it/s]"
      ]
     },
     "metadata": {},
     "output_type": "display_data"
    }
   ],
   "source": [
    "from tqdm.notebook import trange\n",
    "\n",
    "\n",
    "\n",
    "for n in trange(1, n_steps+1):\n",
    "    state = jitted_time_step(state, dt)"
   ]
  },
  {
   "cell_type": "code",
   "execution_count": 17,
   "id": "0f894b56-abc2-4044-a4d4-d3ee472a170c",
   "metadata": {
    "tags": []
   },
   "outputs": [
    {
     "data": {
      "image/png": "[encoded data removed]",
      "text/plain": [
       "<Figure size 800x200 with 6 Axes>"
      ]
     },
     "metadata": {},
     "output_type": "display_data"
    }
   ],
   "source": [
    "plot_field(state.psi)"
   ]
  },
  {
   "cell_type": "code",
   "execution_count": 18,
   "id": "83aad2be-2a34-4959-a441-3dbe14309603",
   "metadata": {
    "tags": []
   },
   "outputs": [
    {
     "data": {
      "application/vnd.jupyter.widget-view+json": {
       "model_id": "3ce1b6f1fca841eb90c135b871424eba",
       "version_major": 2,
       "version_minor": 0
      },
      "text/plain": [
       "  0%|          | 0/3154 [00:00<?, ?it/s]"
      ]
     },
     "metadata": {},
     "output_type": "display_data"
    }
   ],
   "source": [
    "from tqdm.notebook import trange\n",
    "\n",
    "\n",
    "\n",
    "for n in trange(1, n_steps+1):\n",
    "    state = jitted_time_step(state, dt)"
   ]
  },
  {
   "cell_type": "code",
   "execution_count": 19,
   "id": "339d412c-830c-4f7f-8e8e-67245ec406c2",
   "metadata": {
    "tags": []
   },
   "outputs": [
    {
     "data": {
      "image/png": "[encoded data removed]",
      "text/plain": [
       "<Figure size 800x200 with 6 Axes>"
      ]
     },
     "metadata": {},
     "output_type": "display_data"
    }
   ],
   "source": [
    "plot_field(state.psi)"
   ]
  },
  {
   "cell_type": "code",
   "execution_count": null,
   "id": "e7aeff86-d809-46d7-85c0-ffe8226a76f3",
   "metadata": {},
   "outputs": [],
   "source": []
  }
 ],
 "metadata": {
  "kernelspec": {
   "display_name": "Python [conda env:jax_eo_py311]",
   "language": "python",
   "name": "conda-env-jax_eo_py311-py"
  },
  "language_info": {
   "codemirror_mode": {
    "name": "ipython",
    "version": 3
   },
   "file_extension": ".py",
   "mimetype": "text/x-python",
   "name": "python",
   "nbconvert_exporter": "python",
   "pygments_lexer": "ipython3",
   "version": "3.11.5"
  }
 },
 "nbformat": 4,
 "nbformat_minor": 5
}
