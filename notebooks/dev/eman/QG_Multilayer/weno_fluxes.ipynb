{
 "cells": [
  {
   "cell_type": "markdown",
   "id": "5454db43-eaf5-4b0a-9392-3c50c3545ea3",
   "metadata": {},
   "source": [
    "# Calculating Fluxes"
   ]
  },
  {
   "cell_type": "code",
   "execution_count": 1,
   "id": "9c210296-80a2-4cd4-bcca-1c4251fa171f",
   "metadata": {},
   "outputs": [],
   "source": [
    "import autoroot\n",
    "import matplotlib.pyplot as plt\n",
    "import numpy as np\n",
    "import jax\n",
    "import jax.numpy as jnp\n",
    "import equinox as eqx\n",
    "import finitediffx as fdx\n",
    "from jaxtyping import Array, Float\n",
    "# from jaxsw._src.domain.base import Domain\n",
    "from jaxsw._src.domain.base_v2 import Domain, init_domain_1d\n",
    "import math\n",
    "import torch\n",
    "import torch.nn.functional as F\n",
    "import einops\n",
    "import seaborn as sns\n",
    "\n",
    "jax.config.update(\"jax_enable_x64\", True)\n",
    "sns.reset_defaults()\n",
    "sns.set_context(context=\"talk\", font_scale=0.7)\n",
    "\n",
    "%load_ext autoreload\n",
    "%autoreload 2"
   ]
  },
  {
   "cell_type": "markdown",
   "id": "bcb54d84-e015-4208-80c9-a057cd007dde",
   "metadata": {},
   "source": [
    "Let's look at the typical material derivative\n",
    "\n",
    "$$\n",
    "\\frac{Dq}{Dt} := \\partial_t q + \\vec{u}\\cdot\\nabla q\n",
    "$$\n"
   ]
  },
  {
   "cell_type": "markdown",
   "id": "e8ad4af0-b90d-405d-aaf6-27ede1443e9e",
   "metadata": {},
   "source": [
    "\n",
    "where the velocity vector is given by\n",
    "\n",
    "$$\n",
    "\\vec{u} = \n",
    "\\left[ u, v \\right]^\\top\n",
    "$$"
   ]
  },
  {
   "cell_type": "markdown",
   "id": "580f735a-374d-42f9-83ba-e0f3b14693dd",
   "metadata": {},
   "source": [
    "In particular, we are interested in the advection term which is defined as:\n",
    "\n",
    "$$\n",
    "\\begin{aligned}\n",
    "\\text{Advection}: &= \\vec{u} \\cdot \\nabla q = u\\partial_x q + v\\partial_y q \\\\\n",
    "&= \\nabla \\cdot (\\vec{u}q) = \\partial_x (uq) + \\partial_y (vq) \n",
    "\\end{aligned}\n",
    "$$\n",
    "\n",
    "where the second equation is the conservative form."
   ]
  },
  {
   "cell_type": "markdown",
   "id": "72f184b5-d8fe-4e97-9f45-1da92514ecf2",
   "metadata": {},
   "source": [
    "The problem comes into play when we are on a staggered grid. The velocities are on one grid and the tracer is on a difference grid. The velocity\n",
    "\n",
    "$$\n",
    "\\begin{aligned}\n",
    "\\text{Variable}: \\psi &\\in\\Omega_\\psi \\\\\n",
    "\\text{Zonal Velocity}: u &\\in\\Omega_u \\\\\n",
    "\\text{Meridional Velocity}: v &\\in\\Omega_v \\\\\n",
    "\\text{Tracer}: q &\\in\\Omega_q \\\\\n",
    "\\end{aligned}\n",
    "$$\n",
    "\n"
   ]
  },
  {
   "cell_type": "markdown",
   "id": "41dc5f40-0e48-4031-b7a2-02791cc5c60d",
   "metadata": {},
   "source": [
    "$$\n",
    "\\begin{aligned}\n",
    "\\Omega_\\psi &\\in[N_x,N_y] && && [x_0,y_0] && && [x_1,y_1] \\\\ \n",
    "\\Omega_u &\\in[N_x,N_y-1] && && [x_0,y_0+\\frac{1}{2}dy] && && [x_1,y_1-\\frac{1}{2}dy]  \\\\ \n",
    "\\Omega_v &\\in[N_x-1,N_y] && && [x_0+\\frac{1}{2}dx,y_0] && && [x_1-\\frac{1}{2}dx,y_1]  \\\\ \n",
    "\\Omega_q &\\in[N_x-1,N_y-1] && && [x_0+\\frac{1}{2}dx,y_0+\\frac{1}{2}dy] && && [x_1-\\frac{1}{2}dx,y_1-\\frac{1}{2}dy] \n",
    "\\end{aligned}\n",
    "$$"
   ]
  },
  {
   "cell_type": "markdown",
   "id": "9a467f52-45d1-43e2-9f6d-c5499c13c2b0",
   "metadata": {},
   "source": [
    "\n",
    "\n",
    "\n",
    "\n",
    "\n",
    "\n",
    "So if $q$ is on a staggered domain."
   ]
  },
  {
   "cell_type": "code",
   "execution_count": 2,
   "id": "cc520ec1-a727-4788-8d8b-c0f71f8b05e1",
   "metadata": {},
   "outputs": [
    {
     "name": "stdout",
     "output_type": "stream",
     "text": [
      "torch.Size([25]) 5.0\n"
     ]
    }
   ],
   "source": [
    "\n",
    "# x = torch.arange(1, 36+1)\n",
    "num = 25\n",
    "num_sqrt = math.sqrt(num)\n",
    "assert num_sqrt.is_integer(), num_sqrt\n",
    "\n",
    "# x = torch.randn(size=(num,))\n",
    "u = torch.randn(size=(num,))\n",
    "x = torch.arange(0, num)\n",
    "print(x.shape, num_sqrt)\n",
    "x = einops.rearrange(x, \"(Nx Ny) -> Nx Ny\", Nx=int(num_sqrt), Ny=int(num_sqrt))\n",
    "u = einops.rearrange(u, \"(Nx Ny) -> Nx Ny\", Nx=int(num_sqrt), Ny=int(num_sqrt))\n",
    "\n",
    "dim = 0\n",
    "u = u[1:]\n",
    "N = x.shape[dim]\n",
    "assert u.shape[dim] == N - 1"
   ]
  },
  {
   "cell_type": "code",
   "execution_count": 3,
   "id": "3c82f72e-02dc-4b2d-8424-3f94b33a534a",
   "metadata": {
    "tags": []
   },
   "outputs": [
    {
     "data": {
      "text/plain": [
       "tensor([[ 0,  1,  2,  3,  4],\n",
       "        [ 5,  6,  7,  8,  9],\n",
       "        [10, 11, 12, 13, 14],\n",
       "        [15, 16, 17, 18, 19],\n",
       "        [20, 21, 22, 23, 24]])"
      ]
     },
     "execution_count": 3,
     "metadata": {},
     "output_type": "execute_result"
    }
   ],
   "source": [
    "x"
   ]
  },
  {
   "cell_type": "code",
   "execution_count": 4,
   "id": "253a65f2-2cf0-4d92-9a7d-c548d4e3af46",
   "metadata": {
    "tags": []
   },
   "outputs": [],
   "source": [
    "from jaxsw._src.masks import Mask"
   ]
  },
  {
   "cell_type": "code",
   "execution_count": 5,
   "id": "cfc97569-6d59-46e2-bd92-05288d903c85",
   "metadata": {
    "tags": []
   },
   "outputs": [],
   "source": [
    "mask = jnp.ones(x.shape)\n",
    "mask = mask.at[0].set(0.0)\n",
    "mask = mask.at[-1].set(0.0)\n",
    "mask = mask.at[:, 0].set(0.0)\n",
    "mask = mask.at[:, -1].set(0.0)\n",
    "\n",
    "masks = Mask.init_mask(mask, variable=\"q\")"
   ]
  },
  {
   "cell_type": "code",
   "execution_count": 6,
   "id": "163edb22-1b81-4c2d-a2b8-a72706f5d333",
   "metadata": {
    "jupyter": {
     "source_hidden": true
    },
    "tags": []
   },
   "outputs": [],
   "source": [
    "def linear2(qm, qp):\n",
    "    \"\"\"\n",
    "    2-points linear reconstruction:\n",
    "\n",
    "    qm--x--qp\n",
    "\n",
    "    \"\"\"\n",
    "    return 0.5 * (qm + qp)\n",
    "    \n",
    "def linear3_left(qm, q0, qp):\n",
    "    \"\"\"\n",
    "    3-points linear left-biased stencil reconstruction:\n",
    "\n",
    "    qm-----q0--x--qp\n",
    "\n",
    "    \"\"\"\n",
    "    return -1./6.*qm + 5./6.*q0 + 1./3.*qp\n",
    "\n",
    "def linear3_right(qm, q0, qp):\n",
    "    \"\"\"\n",
    "    3-points linear left-biased stencil reconstruction:\n",
    "\n",
    "    qp--x--q0-----qm\n",
    "\n",
    "    \"\"\"\n",
    "    return linear3_left(qp, q0, qm)\n",
    "\n",
    "def linear4(qmm, qm, qp, qpp):\n",
    "    \"\"\"\n",
    "    4-points linear reconstruction:\n",
    "\n",
    "    qmm-----qm--x--qp-----qpp\n",
    "\n",
    "    \"\"\"\n",
    "    return -1./12.*qmm + 7./12.*qm + 7./12.*qp - 1./12.*qpp\n",
    "\n",
    "def weno3z(qm, q0, qp):\n",
    "    \"\"\"\n",
    "    3-points non-linear left-biased stencil reconstruction:\n",
    "\n",
    "    qm-----q0--x--qp\n",
    "\n",
    "    An improved weighted essentially non-oscillatory scheme for hyperbolic\n",
    "    conservation laws, Borges et al, Journal of Computational Physics 227 (2008).\n",
    "    \"\"\"\n",
    "    eps = 1e-14\n",
    "\n",
    "    qi1 = -1./2.*qm + 3./2.*q0\n",
    "    qi2 = 1./2.*(q0 + qp)\n",
    "\n",
    "    beta1 = (q0-qm)**2\n",
    "    beta2 = (qp-q0)**2\n",
    "    tau = torch.abs(beta2-beta1)\n",
    "\n",
    "    g1, g2 = 1./3., 2./3.\n",
    "    w1 = g1 * (1. + tau / (beta1 + eps))\n",
    "    w2 = g2 * (1. + tau / (beta2 + eps))\n",
    "\n",
    "    qi_weno3 = (w1*qi1 + w2*qi2) / (w1 + w2)\n",
    "\n",
    "    return qi_weno3\n",
    "\n",
    "\n",
    "def flux_3pts(q, u, dim):\n",
    "    \"\"\"\n",
    "    Flux computation for staggerded variables q and u, with solid boundaries.\n",
    "    Upwind-biased stencil:\n",
    "      - 3 points inside domain.\n",
    "      - 1 point near boundaries.\n",
    "\n",
    "    Args:\n",
    "        q: tracer field to interpolate, torch.Tensor, shape[dim] = n\n",
    "        u: transport velocity, torch.Tensor, shape[dim] = n-1\n",
    "        dim: dimension along which computations are done\n",
    "\n",
    "    Returns:\n",
    "        flux: tracer flux computed on u points, torch.Tensor, shape[dim] = n-1\n",
    "    \"\"\"\n",
    "    n = q.shape[dim]\n",
    "\n",
    "    # q-interpolation: 3-points inside domain\n",
    "\n",
    "    qm, q0, qp = q.narrow(dim, 0, n-2), q.narrow(dim, 1, n-2), q.narrow(dim, 2, n-2)\n",
    "\n",
    "    qi_left_in = linear3_left(qm, q0, qp)\n",
    "    qi_right_in = linear3_left(qp, q0, qm)\n",
    "\n",
    "    # q-interpolation: 2-points on boundaries\n",
    "    qi_0 = linear2(q.narrow(dim, 0, 1), q.narrow(dim, 1, 1))\n",
    "    qi_m1 = linear2(q.narrow(dim, -2, 1), q.narrow(dim, -1, 1))\n",
    "\n",
    "    qi_left = torch.cat([\n",
    "        qi_0, qi_left_in.narrow(dim, 0, n-3), qi_m1], dim=dim)\n",
    "    qi_right = torch.cat([\n",
    "        qi_0, qi_right_in.narrow(dim, 1, n-3), qi_m1], dim=dim)\n",
    "\n",
    "    # positive and negative parts of velocity\n",
    "    u_pos = F.relu(u)\n",
    "    u_neg = u - u_pos\n",
    "\n",
    "    # upwind flux computation\n",
    "    flux = u_pos * qi_left + u_neg * qi_right\n",
    "    return qi_left, qi_right, flux\n"
   ]
  },
  {
   "cell_type": "markdown",
   "id": "d8d58f74-6e3d-4acd-91df-bcfc184874a0",
   "metadata": {},
   "source": [
    "[0, 1, 2, 3, 4, 5, 6]\n",
    "Interior\n",
    "- [0, 1, 2, 3, 4]\n",
    "- [1, 2, 3, 4, 5]\n",
    "- [2, 3, 4, 5, 6]\n",
    "--> [1 2 3 4 5]\n",
    "Left Bd\n",
    "- [0 1]\n",
    "- [1 2]\n",
    "--> [0.5 1.5]\n",
    "right bd\n",
    "- [5 6]\n",
    "- [4 5]\n",
    "--> [4.5, 5.5]\n",
    "\n"
   ]
  },
  {
   "cell_type": "code",
   "execution_count": 7,
   "id": "e1425bbd-5572-4c99-9462-fd13ea94d356",
   "metadata": {
    "tags": []
   },
   "outputs": [],
   "source": [
    "\n",
    "\n",
    "def flux_3pts_mask(q, u, dim, mask_u_d1, mask_u_d2plus):\n",
    "    n = q.shape[dim]\n",
    "    pad1 = () if dim == -1 else (0,0)\n",
    "    pad2 = (0,0) if dim == -1 else ()\n",
    "    print(pad1, pad2)\n",
    "    \n",
    "    qm, q0, qp = q.narrow(dim, 0, n-2), q.narrow(dim, 1, n-2), \\\n",
    "                 q.narrow(dim, 2, n-2)\n",
    "    \n",
    "    print(\"LEFT!\")\n",
    "    qi3_left = weno3z(qm, q0, qp)\n",
    "    print(qi3_left.shape)\n",
    "    print(pad1+(1,0)+pad2)\n",
    "    qi3_left = F.pad(qi3_left, pad1+(1,0)+pad2)\n",
    "    print(qi3_left)\n",
    "    print(qi3_left.shape)\n",
    "    # ===============\n",
    "    print(\"RIGHT!\")\n",
    "    qi3_right = weno3z(qp, q0, qm)\n",
    "    print(qi3_right.shape)\n",
    "    print(pad1+(0,1)+pad2)\n",
    "    qi3_right = F.pad(qi3_right, pad1+(0,1)+pad2)\n",
    "    print(qi3_right.shape)\n",
    "    # qi2 = linear2(q.narrow(dim, 0, n-1), q.narrow(dim, 1, n-1))\n",
    "    \n",
    "    \n",
    "\n",
    "    u_pos = F.relu(u)\n",
    "    u_neg = u - u_pos\n",
    "    # NORMAL FLUX\n",
    "    a = (u_pos*q.narrow(dim, 0, n-1) + u_neg*q.narrow(dim, 1, n-1))\n",
    "    \n",
    "    print(a)\n",
    "          \n",
    "    # FANCY FLUX\n",
    "    b = (u_pos*qi3_left + u_neg*qi3_right)\n",
    "    \n",
    "    print(b)\n",
    "    \n",
    "    print(\"FLUXXX!\")\n",
    "    print(a.shape)\n",
    "    print(b.shape)\n",
    "    flux = mask_u_d1 * a + mask_u_d2plus * b\n",
    "\n",
    "    return qi3_left, qi3_right, flux"
   ]
  },
  {
   "cell_type": "code",
   "execution_count": 8,
   "id": "1701e184-7659-4d90-8d2b-91b572222167",
   "metadata": {
    "tags": []
   },
   "outputs": [
    {
     "data": {
      "text/plain": [
       "(torch.Size([5, 5]), torch.Size([4, 5]), (5, 5), (4, 5))"
      ]
     },
     "execution_count": 8,
     "metadata": {},
     "output_type": "execute_result"
    }
   ],
   "source": [
    "x.shape, u.shape, mask.shape, masks.u.distbound1[1:-1].shape"
   ]
  },
  {
   "cell_type": "code",
   "execution_count": 9,
   "id": "493728cf-b9b6-4a40-bfd1-a35db6194d3e",
   "metadata": {},
   "outputs": [
    {
     "name": "stdout",
     "output_type": "stream",
     "text": [
      "(0, 0) ()\n",
      "LEFT!\n",
      "torch.Size([1, 1, 3, 5])\n",
      "(0, 0, 1, 0)\n",
      "tensor([[[[ 0.0000,  0.0000,  0.0000,  0.0000,  0.0000],\n",
      "          [ 7.5000,  8.5000,  9.5000, 10.5000, 11.5000],\n",
      "          [12.5000, 13.5000, 14.5000, 15.5000, 16.5000],\n",
      "          [17.5000, 18.5000, 19.5000, 20.5000, 21.5000]]]])\n",
      "torch.Size([1, 1, 4, 5])\n",
      "RIGHT!\n",
      "torch.Size([1, 1, 3, 5])\n",
      "(0, 0, 0, 1)\n",
      "torch.Size([1, 1, 4, 5])\n",
      "tensor([[[[ -0.9822,  -6.4643,   0.3690,  -1.1223,  -0.5799],\n",
      "          [ -1.2434,   1.2616, -22.5542, -14.2985, -26.7411],\n",
      "          [ -4.0552, -14.7635,   6.7217,  17.5426,   8.9709],\n",
      "          [  8.8488,  -1.2903,  -7.1756, -10.1598,  -5.8775]]]])\n",
      "tensor([[[[ -0.4911,  -3.7708,   0.0000,  -0.7716,  -0.4188],\n",
      "          [ -0.9326,   1.7872, -17.8554, -11.5488, -21.9659],\n",
      "          [ -3.3793, -12.4567,   8.1220,  20.9161,  10.5728],\n",
      "          [ 10.3236,   0.0000,   0.0000,   0.0000,   0.0000]]]])\n",
      "FLUXXX!\n",
      "torch.Size([1, 1, 4, 5])\n",
      "torch.Size([1, 1, 4, 5])\n"
     ]
    },
    {
     "name": "stderr",
     "output_type": "stream",
     "text": [
      "/var/folders/k9/_v6ywhvj0nq36tpttd3j4mq80000gn/T/ipykernel_80467/1714991504.py:4: UserWarning: The given NumPy array is not writable, and PyTorch does not support non-writable tensors. This means writing to this tensor will result in undefined behavior. You may want to copy the array to protect its data or make it writable before converting it to a tensor. This type of warning will be suppressed for the rest of this program. (Triggered internally at /Users/runner/work/_temp/anaconda/conda-bld/pytorch_1682343668887/work/torch/csrc/utils/tensor_numpy.cpp:212.)\n",
      "  torch.Tensor(np.asarray(masks.u.distbound1[1:-1][None, None, ...])),\n"
     ]
    }
   ],
   "source": [
    "# qi_left_torch, qi_right_torch, flux = flux_3pts(x, u, 0)\n",
    "qi_left_torch, qi_right_torch, flux = flux_3pts_mask(\n",
    "    x[None, None, ...], u[None, None, ...], -2, \n",
    "    torch.Tensor(np.asarray(masks.u.distbound1[1:-1][None, None, ...])),\n",
    "    torch.Tensor(np.asarray(masks.u.distbound2plus[1:-1][None, None, ...]))\n",
    ")"
   ]
  },
  {
   "cell_type": "code",
   "execution_count": 10,
   "id": "88ed7d12-fab3-4f9b-beb9-d2fdf75c25cd",
   "metadata": {
    "tags": []
   },
   "outputs": [
    {
     "data": {
      "text/plain": [
       "tensor([[[[ -0.0000,  -0.0000,   0.0000,  -0.0000,  -0.0000],\n",
       "          [ -0.0000,   1.2616, -22.5542, -14.2985,  -0.0000],\n",
       "          [ -0.0000, -14.7635,   6.7217,  17.5426,   0.0000],\n",
       "          [  0.0000,   0.0000,   0.0000,   0.0000,   0.0000]]]])"
      ]
     },
     "execution_count": 10,
     "metadata": {},
     "output_type": "execute_result"
    }
   ],
   "source": [
    "flux"
   ]
  },
  {
   "cell_type": "code",
   "execution_count": 11,
   "id": "84651163-9750-4347-afb3-c2d8b825ffb7",
   "metadata": {
    "tags": []
   },
   "outputs": [
    {
     "data": {
      "text/plain": [
       "(torch.Size([5, 5]), torch.Size([5, 4]), (5, 5), (5, 4))"
      ]
     },
     "execution_count": 11,
     "metadata": {},
     "output_type": "execute_result"
    }
   ],
   "source": [
    "x.shape, u.T.shape, mask.shape, masks.v.distbound1[:, 1:-1].shape"
   ]
  },
  {
   "cell_type": "code",
   "execution_count": 12,
   "id": "0774e1eb-e7fb-4202-a806-f8eddd685b1a",
   "metadata": {
    "tags": []
   },
   "outputs": [
    {
     "name": "stdout",
     "output_type": "stream",
     "text": [
      "() (0, 0)\n",
      "LEFT!\n",
      "torch.Size([1, 1, 5, 3])\n",
      "(1, 0, 0, 0)\n",
      "tensor([[[[ 0.0000,  1.5000,  2.5000,  3.5000],\n",
      "          [ 0.0000,  6.5000,  7.5000,  8.5000],\n",
      "          [ 0.0000, 11.5000, 12.5000, 13.5000],\n",
      "          [ 0.0000, 16.5000, 17.5000, 18.5000],\n",
      "          [ 0.0000, 21.5000, 22.5000, 23.5000]]]])\n",
      "torch.Size([1, 1, 5, 4])\n",
      "RIGHT!\n",
      "torch.Size([1, 1, 5, 3])\n",
      "(0, 1, 0, 0)\n",
      "torch.Size([1, 1, 5, 4])\n",
      "tensor([[[[ -0.1964,  -0.2487,  -0.8110,   1.7698],\n",
      "          [ -6.4643,   1.2616,  -7.3817,  -0.5530],\n",
      "          [  1.8452, -22.5542,   6.7217,  -4.5663],\n",
      "          [ -2.2447, -18.6980,  22.9403,  -8.3929],\n",
      "          [ -1.3532, -42.0217,  14.0971,  -5.8775]]]])\n",
      "tensor([[[[ -0.0982,  -0.1865,  -0.6759,   2.0647],\n",
      "          [ -5.9256,   1.3667,  -6.9204,   0.0000],\n",
      "          [  0.0000, -21.6144,   7.0018,   0.0000],\n",
      "          [ -2.1745, -18.1481,  23.6150,   0.0000],\n",
      "          [ -1.3210, -41.0667,  14.4175,   0.0000]]]])\n",
      "FLUXXX!\n",
      "torch.Size([1, 1, 5, 4])\n",
      "torch.Size([1, 1, 5, 4])\n"
     ]
    }
   ],
   "source": [
    "# qi_left_torch, qi_right_torch, flux = flux_3pts(x, u, 0)\n",
    "qi_left_torch, qi_right_torch, flux = flux_3pts_mask(\n",
    "    x[None, None, ...], u.T[None, None, ...], -1, \n",
    "    torch.Tensor(np.asarray(masks.v.distbound1[None, None, :, 1:-1])),\n",
    "    torch.Tensor(np.asarray(masks.v.distbound2plus[None, None, :, 1:-1]))\n",
    ")"
   ]
  },
  {
   "cell_type": "code",
   "execution_count": 13,
   "id": "eba9328b-34ff-4ef0-94fc-5811b1158a1e",
   "metadata": {
    "tags": []
   },
   "outputs": [
    {
     "data": {
      "text/plain": [
       "tensor([[[[ -0.0000,  -0.0000,  -0.0000,   0.0000],\n",
       "          [ -0.0000,   1.2616,  -7.3817,   0.0000],\n",
       "          [  0.0000, -22.5542,   6.7217,   0.0000],\n",
       "          [ -0.0000, -18.6980,  22.9403,   0.0000],\n",
       "          [ -0.0000,  -0.0000,   0.0000,   0.0000]]]])"
      ]
     },
     "execution_count": 13,
     "metadata": {},
     "output_type": "execute_result"
    }
   ],
   "source": [
    "flux"
   ]
  },
  {
   "cell_type": "code",
   "execution_count": 14,
   "id": "77d9f071-acfa-4ab3-8b72-8f723b9ab8f2",
   "metadata": {},
   "outputs": [],
   "source": [
    "import jax.numpy as jnp\n",
    "import kernex as kex\n",
    "import jax\n",
    "import numpy as np"
   ]
  },
  {
   "cell_type": "code",
   "execution_count": 15,
   "id": "cee784fe-a36e-466c-930c-7378da6057fe",
   "metadata": {},
   "outputs": [],
   "source": [
    "from jaxsw._src.operators.functional.interp import weno as interp_weno\n",
    "from jaxsw._src.operators.functional.interp import linear as interp_linear\n",
    "from jaxsw._src.operators.functional.interp import flux as F_flux"
   ]
  },
  {
   "cell_type": "markdown",
   "id": "e2387168-b53c-44b3-a80b-8a5ba12cca49",
   "metadata": {},
   "source": [
    "* interp_3pt_weno\n",
    "* interp_1pt\n",
    "* u plusmins\n",
    "* flux + interp_1pt + mask\n",
    "* flux + interp3pt\n",
    "* sum fluxes\n",
    "\n",
    "---\n",
    "\n",
    "**Methods**:\n",
    "\n",
    "* `dim`: 0 (x-axis), 1 (y-axis)\n",
    "* `num_pts`: 1, 3, 5\n",
    "* `method`: linear, weno, wenoz\n",
    "* `mask` (depends): `u_mask1`, `u_mask2`, `umask_2plus`, `umask_3plus`"
   ]
  },
  {
   "cell_type": "markdown",
   "id": "9a3973f1-7be4-4701-82ea-acf85a05f5df",
   "metadata": {},
   "source": [
    "### 1pt"
   ]
  },
  {
   "cell_type": "code",
   "execution_count": 34,
   "id": "6eed8147-23cc-4dd6-960a-efb05b3fea66",
   "metadata": {
    "tags": []
   },
   "outputs": [],
   "source": [
    "x_ = x.numpy()\n",
    "\n",
    "flux_methods = {}\n",
    "\n",
    "flux_methods[\"1pt_linear\"] = F_flux.tracer_flux_1pt(\n",
    "    x_,\n",
    "    u=u.numpy(),\n",
    "    dim=0,\n",
    ")"
   ]
  },
  {
   "cell_type": "code",
   "execution_count": 38,
   "id": "8192f6b6-d5ec-457a-8108-3ac644a74c62",
   "metadata": {
    "tags": []
   },
   "outputs": [
    {
     "data": {
      "text/plain": [
       "Array([[ -0.9821613 ,  -6.4642696 ,   0.36903504,  -1.1223415 ,\n",
       "         -0.57993454],\n",
       "       [ -1.2434431 ,   1.2615503 , -22.554178  , -14.298466  ,\n",
       "        -26.741076  ],\n",
       "       [ -4.055218  , -14.763467  ,   6.721692  ,  17.542566  ,\n",
       "          8.970864  ],\n",
       "       [  8.848809  ,  -1.2902595 ,  -7.175615  , -10.159798  ,\n",
       "         -5.877451  ]], dtype=float32)"
      ]
     },
     "execution_count": 38,
     "metadata": {},
     "output_type": "execute_result"
    }
   ],
   "source": [
    "flux_methods[\"1pt_linear\"]"
   ]
  },
  {
   "cell_type": "markdown",
   "id": "fa229e0e-71c1-47ea-8830-0972a978ee73",
   "metadata": {},
   "source": [
    "### 3pts"
   ]
  },
  {
   "cell_type": "code",
   "execution_count": 36,
   "id": "29532404-68bd-4d88-9c3b-38f89116a577",
   "metadata": {
    "tags": []
   },
   "outputs": [],
   "source": [
    "x_ = x.numpy()\n",
    "\n",
    "\n",
    "\n",
    "method = \"linear\"\n",
    "flux_methods[f\"3pt_{method}\"] = F_flux.tracer_flux_3pt(\n",
    "    x_, \n",
    "    u=u.numpy(),\n",
    "    dim=0, \n",
    "    method=method\n",
    ")\n",
    "\n",
    "method = \"weno\"\n",
    "flux_methods[f\"3pt_{method}\"] = F_flux.tracer_flux_3pt(\n",
    "    x_, \n",
    "    u=u.numpy(),\n",
    "    dim=0, \n",
    "    method=method\n",
    ")\n",
    "\n",
    "method = \"wenoz\"\n",
    "flux_methods[f\"3pt_{method}\"] = F_flux.tracer_flux_3pt(\n",
    "    x_, \n",
    "    u=u.numpy(),\n",
    "    dim=0, \n",
    "    method=method\n",
    ")"
   ]
  },
  {
   "cell_type": "code",
   "execution_count": 40,
   "id": "9f1c0524-3162-4616-ace5-1f2e235d22ce",
   "metadata": {
    "tags": []
   },
   "outputs": [],
   "source": [
    "np.testing.assert_array_almost_equal(flux_methods[\"3pt_linear\"], flux_methods[\"3pt_weno\"])\n",
    "np.testing.assert_array_almost_equal(flux_methods[\"3pt_linear\"], flux_methods[\"3pt_wenoz\"])"
   ]
  },
  {
   "cell_type": "code",
   "execution_count": 47,
   "id": "9f3a1a38-1255-4244-8ad6-99f758adcd5d",
   "metadata": {
    "tags": []
   },
   "outputs": [
    {
     "data": {
      "text/plain": [
       "Array([[ -0.49108064,  -3.770824  ,   0.8303288 ,  -0.7716098 ,\n",
       "         -0.41884163],\n",
       "       [ -0.9325823 ,   1.7871963 , -17.85539   , -11.548761  ,\n",
       "        -21.965883  ],\n",
       "       [ -3.3793488 , -12.456676  ,   8.122045  ,  20.916138  ,\n",
       "         10.572804  ],\n",
       "       [ 10.323611  ,  -1.1366571 ,  -6.3602037 ,  -9.055471  ,\n",
       "         -5.2652164 ]], dtype=float32)"
      ]
     },
     "execution_count": 47,
     "metadata": {},
     "output_type": "execute_result"
    }
   ],
   "source": [
    "flux_methods[\"3pt_linear\"]"
   ]
  },
  {
   "cell_type": "markdown",
   "id": "9ed7f221-ad8d-4c90-9820-7047c9284adc",
   "metadata": {},
   "source": [
    "### 5pts"
   ]
  },
  {
   "cell_type": "code",
   "execution_count": 41,
   "id": "b3c74be0-0d39-467f-98d9-f2386e6b7bb8",
   "metadata": {
    "tags": []
   },
   "outputs": [],
   "source": [
    "x_ = x.numpy()\n",
    "\n",
    "flux_methods_5pt = {}\n",
    "\n",
    "method = \"linear\"\n",
    "flux_methods[f\"5pt_{method}\"] = F_flux.tracer_flux_5pt(\n",
    "    x_, \n",
    "    u=u.numpy(),\n",
    "    dim=0, \n",
    "    method=method\n",
    ")\n",
    "\n",
    "method = \"weno\"\n",
    "flux_methods[f\"5pt_{method}\"] = F_flux.tracer_flux_5pt(\n",
    "    x_, \n",
    "    u=u.numpy(),\n",
    "    dim=0, \n",
    "    method=method\n",
    ")\n",
    "\n",
    "method = \"wenoz\"\n",
    "flux_methods[f\"5pt_{method}\"] = F_flux.tracer_flux_5pt(\n",
    "    x_, \n",
    "    u=u.numpy(),\n",
    "    dim=0, \n",
    "    method=method\n",
    ")"
   ]
  },
  {
   "cell_type": "code",
   "execution_count": 45,
   "id": "64fd2fd1-3de5-43e6-9841-4a82f1e9d3b2",
   "metadata": {
    "tags": []
   },
   "outputs": [],
   "source": [
    "# check if all the same\n",
    "np.testing.assert_array_almost_equal(flux_methods[\"3pt_linear\"], flux_methods[\"3pt_weno\"])\n",
    "np.testing.assert_array_almost_equal(flux_methods[\"3pt_linear\"], flux_methods[\"3pt_wenoz\"])"
   ]
  },
  {
   "cell_type": "code",
   "execution_count": 46,
   "id": "dd52b698-48db-4f12-b597-2d49f43a9b27",
   "metadata": {
    "tags": []
   },
   "outputs": [],
   "source": [
    "# check if same as 5pt method\n",
    "np.testing.assert_array_almost_equal(flux_methods[\"3pt_linear\"], flux_methods[\"5pt_linear\"])\n",
    "np.testing.assert_array_almost_equal(flux_methods[\"3pt_weno\"], flux_methods[\"5pt_weno\"])\n",
    "np.testing.assert_array_almost_equal(flux_methods[\"3pt_wenoz\"], flux_methods[\"5pt_wenoz\"])"
   ]
  },
  {
   "cell_type": "markdown",
   "id": "57bd75b9-4db4-4e24-867b-719592e624d2",
   "metadata": {},
   "source": [
    "### Masks"
   ]
  },
  {
   "cell_type": "markdown",
   "id": "47d1341e-ff61-4053-8fde-1b1dd8d950f5",
   "metadata": {},
   "source": [
    "### 1pt"
   ]
  },
  {
   "cell_type": "code",
   "execution_count": 49,
   "id": "68b16ccf-0d7a-406e-b142-c2cf06f3a957",
   "metadata": {
    "tags": []
   },
   "outputs": [],
   "source": [
    "x_ = x.numpy()\n",
    "\n",
    "flux_methods = {}\n",
    "\n",
    "flux_methods[\"1pt_linear\"] = F_flux.tracer_flux_1pt_mask(\n",
    "    x_,\n",
    "    u=u.numpy(),\n",
    "    dim=0,\n",
    "    u_mask1=masks.u.distbound1[1:-1]\n",
    ")"
   ]
  },
  {
   "cell_type": "code",
   "execution_count": 50,
   "id": "e592ab7d-4685-4ad1-ac1b-1dbac2cd859c",
   "metadata": {
    "tags": []
   },
   "outputs": [
    {
     "data": {
      "text/plain": [
       "Array([[ -0.        ,  -0.        ,   0.        ,  -0.        ,\n",
       "         -0.        ],\n",
       "       [ -0.        ,   1.26155031, -22.55417824, -14.29846573,\n",
       "         -0.        ],\n",
       "       [ -0.        , -14.76346684,   6.72169209,  17.5425663 ,\n",
       "          0.        ],\n",
       "       [  0.        ,  -0.        ,  -0.        ,  -0.        ,\n",
       "         -0.        ]], dtype=float64)"
      ]
     },
     "execution_count": 50,
     "metadata": {},
     "output_type": "execute_result"
    }
   ],
   "source": [
    "flux_methods[\"1pt_linear\"]"
   ]
  },
  {
   "cell_type": "markdown",
   "id": "25e8de9d-6655-4ce0-ad4d-6043e41143b6",
   "metadata": {},
   "source": [
    "### 3pts"
   ]
  },
  {
   "cell_type": "code",
   "execution_count": 53,
   "id": "fbcf6cf7-3b31-445e-89b6-0061dbf64fe2",
   "metadata": {
    "tags": []
   },
   "outputs": [],
   "source": [
    "x_ = x.numpy()\n",
    "\n",
    "\n",
    "\n",
    "method = \"linear\"\n",
    "flux_methods[f\"3pt_{method}\"] = F_flux.tracer_flux_3pt_mask(\n",
    "    x_, \n",
    "    u=u.numpy(),\n",
    "    dim=0, \n",
    "    method=method,\n",
    "    u_mask1=masks.u.distbound1[1:-1],\n",
    "    u_mask2plus=masks.u.distbound2plus[1:-1],\n",
    ")\n",
    "\n",
    "method = \"weno\"\n",
    "flux_methods[f\"3pt_{method}\"] = F_flux.tracer_flux_3pt_mask(\n",
    "    x_, \n",
    "    u=u.numpy(),\n",
    "    dim=0, \n",
    "    method=method,\n",
    "    u_mask1=masks.u.distbound1[1:-1],\n",
    "    u_mask2plus=masks.u.distbound2plus[1:-1],\n",
    ")\n",
    "\n",
    "method = \"wenoz\"\n",
    "flux_methods[f\"3pt_{method}\"] = F_flux.tracer_flux_3pt_mask(\n",
    "    x_, \n",
    "    u=u.numpy(),\n",
    "    dim=0, \n",
    "    method=method,\n",
    "    u_mask1=masks.u.distbound1[1:-1],\n",
    "    u_mask2plus=masks.u.distbound2plus[1:-1],\n",
    ")"
   ]
  },
  {
   "cell_type": "code",
   "execution_count": 54,
   "id": "236e1e13-e0d8-4b0d-9681-b622883c56a4",
   "metadata": {
    "tags": []
   },
   "outputs": [],
   "source": [
    "np.testing.assert_array_almost_equal(flux_methods[\"3pt_linear\"], flux_methods[\"3pt_weno\"])\n",
    "np.testing.assert_array_almost_equal(flux_methods[\"3pt_linear\"], flux_methods[\"3pt_wenoz\"])"
   ]
  },
  {
   "cell_type": "code",
   "execution_count": 55,
   "id": "83b3e07b-4d2e-432e-a829-0312c9847913",
   "metadata": {
    "tags": []
   },
   "outputs": [
    {
     "data": {
      "text/plain": [
       "Array([[ -0.        ,  -0.        ,   0.        ,  -0.        ,\n",
       "         -0.        ],\n",
       "       [ -0.        ,   1.26155031, -22.55417824, -14.29846573,\n",
       "         -0.        ],\n",
       "       [ -0.        , -14.76346684,   6.72169209,  17.5425663 ,\n",
       "          0.        ],\n",
       "       [  0.        ,   0.        ,   0.        ,   0.        ,\n",
       "          0.        ]], dtype=float64)"
      ]
     },
     "execution_count": 55,
     "metadata": {},
     "output_type": "execute_result"
    }
   ],
   "source": [
    "flux_methods[\"3pt_linear\"]"
   ]
  },
  {
   "cell_type": "markdown",
   "id": "a71a4862-80cb-40fb-bd40-933c9586cdca",
   "metadata": {},
   "source": [
    "### 5pts"
   ]
  },
  {
   "cell_type": "code",
   "execution_count": 56,
   "id": "d2e4f40a-8ecf-4cf5-ab54-085534acad38",
   "metadata": {
    "tags": []
   },
   "outputs": [],
   "source": [
    "x_ = x.numpy()\n",
    "\n",
    "flux_methods_5pt = {}\n",
    "\n",
    "method = \"linear\"\n",
    "flux_methods[f\"5pt_{method}\"] = F_flux.tracer_flux_5pt_mask(\n",
    "    x_, \n",
    "    u=u.numpy(),\n",
    "    dim=0, \n",
    "    method=method,\n",
    "    u_mask1=masks.u.distbound1[1:-1],\n",
    "    u_mask2=masks.u.distbound2[1:-1],\n",
    "    u_mask3plus=masks.u.distbound3plus[1:-1],\n",
    ")\n",
    "\n",
    "method = \"weno\"\n",
    "flux_methods[f\"5pt_{method}\"] = F_flux.tracer_flux_5pt_mask(\n",
    "    x_, \n",
    "    u=u.numpy(),\n",
    "    dim=0, \n",
    "    method=method,\n",
    "    u_mask1=masks.u.distbound1[1:-1],\n",
    "    u_mask2=masks.u.distbound2[1:-1],\n",
    "    u_mask3plus=masks.u.distbound3plus[1:-1],\n",
    ")\n",
    "\n",
    "method = \"wenoz\"\n",
    "flux_methods[f\"5pt_{method}\"] = F_flux.tracer_flux_5pt_mask(\n",
    "    x_, \n",
    "    u=u.numpy(),\n",
    "    dim=0, \n",
    "    method=method,\n",
    "    u_mask1=masks.u.distbound1[1:-1],\n",
    "    u_mask2=masks.u.distbound2[1:-1],\n",
    "    u_mask3plus=masks.u.distbound3plus[1:-1],\n",
    ")"
   ]
  },
  {
   "cell_type": "code",
   "execution_count": 57,
   "id": "66e354b4-d641-4ab1-8c39-89916eee968c",
   "metadata": {
    "tags": []
   },
   "outputs": [],
   "source": [
    "# check if all the same\n",
    "np.testing.assert_array_almost_equal(flux_methods[\"3pt_linear\"], flux_methods[\"3pt_weno\"])\n",
    "np.testing.assert_array_almost_equal(flux_methods[\"3pt_linear\"], flux_methods[\"3pt_wenoz\"])"
   ]
  },
  {
   "cell_type": "code",
   "execution_count": 58,
   "id": "d6c70e9c-c88f-41a3-9d35-da24a68b2240",
   "metadata": {
    "tags": []
   },
   "outputs": [],
   "source": [
    "# check if same as 5pt method\n",
    "np.testing.assert_array_almost_equal(flux_methods[\"3pt_linear\"], flux_methods[\"5pt_linear\"])\n",
    "np.testing.assert_array_almost_equal(flux_methods[\"3pt_weno\"], flux_methods[\"5pt_weno\"])\n",
    "np.testing.assert_array_almost_equal(flux_methods[\"3pt_wenoz\"], flux_methods[\"5pt_wenoz\"])"
   ]
  },
  {
   "cell_type": "code",
   "execution_count": null,
   "id": "9c37fe7f-87a6-4bbe-b136-49724f1e9e9f",
   "metadata": {},
   "outputs": [],
   "source": []
  }
 ],
 "metadata": {
  "kernelspec": {
   "display_name": "Python [conda env:jax_eo_py311]",
   "language": "python",
   "name": "conda-env-jax_eo_py311-py"
  },
  "language_info": {
   "codemirror_mode": {
    "name": "ipython",
    "version": 3
   },
   "file_extension": ".py",
   "mimetype": "text/x-python",
   "name": "python",
   "nbconvert_exporter": "python",
   "pygments_lexer": "ipython3",
   "version": "3.11.5"
  }
 },
 "nbformat": 4,
 "nbformat_minor": 5
}
