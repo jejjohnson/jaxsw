{
 "cells": [
  {
   "cell_type": "markdown",
   "id": "5454db43-eaf5-4b0a-9392-3c50c3545ea3",
   "metadata": {},
   "source": [
    "# Calculating Fluxes"
   ]
  },
  {
   "cell_type": "code",
   "execution_count": 279,
   "id": "9c210296-80a2-4cd4-bcca-1c4251fa171f",
   "metadata": {
    "tags": []
   },
   "outputs": [
    {
     "name": "stdout",
     "output_type": "stream",
     "text": [
      "The autoreload extension is already loaded. To reload it, use:\n",
      "  %reload_ext autoreload\n"
     ]
    }
   ],
   "source": [
    "import autoroot\n",
    "import matplotlib.pyplot as plt\n",
    "import numpy as np\n",
    "import jax\n",
    "import jax.numpy as jnp\n",
    "import equinox as eqx\n",
    "import finitediffx as fdx\n",
    "from jaxtyping import Array, Float\n",
    "# from jaxsw._src.domain.base import Domain\n",
    "from jaxsw._src.domain.base_v2 import Domain, init_domain_1d\n",
    "import math\n",
    "import torch\n",
    "import torch.nn.functional as F\n",
    "import einops\n",
    "import seaborn as sns\n",
    "\n",
    "jax.config.update(\"jax_enable_x64\", True)\n",
    "sns.reset_defaults()\n",
    "sns.set_context(context=\"talk\", font_scale=0.7)\n",
    "\n",
    "%load_ext autoreload\n",
    "%autoreload 2"
   ]
  },
  {
   "cell_type": "markdown",
   "id": "bcb54d84-e015-4208-80c9-a057cd007dde",
   "metadata": {},
   "source": [
    "Let's look at the typical material derivative\n",
    "\n",
    "$$\n",
    "\\frac{Dq}{Dt} := \\partial_t q + \\vec{u}\\cdot\\nabla q\n",
    "$$\n"
   ]
  },
  {
   "cell_type": "markdown",
   "id": "e8ad4af0-b90d-405d-aaf6-27ede1443e9e",
   "metadata": {},
   "source": [
    "\n",
    "where the velocity vector is given by\n",
    "\n",
    "$$\n",
    "\\vec{u} = \n",
    "\\left[ u, v \\right]^\\top\n",
    "$$"
   ]
  },
  {
   "cell_type": "markdown",
   "id": "580f735a-374d-42f9-83ba-e0f3b14693dd",
   "metadata": {},
   "source": [
    "In particular, we are interested in the advection term which is defined as:\n",
    "\n",
    "$$\n",
    "\\begin{aligned}\n",
    "\\text{Advection}: &= \\vec{u} \\cdot \\nabla q = u\\partial_x q + v\\partial_y q \\\\\n",
    "&= \\nabla \\cdot (\\vec{u}q) = \\partial_x (uq) + \\partial_y (vq) \n",
    "\\end{aligned}\n",
    "$$\n",
    "\n",
    "where the second equation is the conservative form."
   ]
  },
  {
   "cell_type": "markdown",
   "id": "72f184b5-d8fe-4e97-9f45-1da92514ecf2",
   "metadata": {},
   "source": [
    "The problem comes into play when we are on a staggered grid. The velocities are on one grid and the tracer is on a difference grid. The velocity\n",
    "\n",
    "$$\n",
    "\\begin{aligned}\n",
    "\\text{Variable}: \\psi &\\in\\Omega_\\psi \\\\\n",
    "\\text{Zonal Velocity}: u &\\in\\Omega_u \\\\\n",
    "\\text{Meridional Velocity}: v &\\in\\Omega_v \\\\\n",
    "\\text{Tracer}: q &\\in\\Omega_q \\\\\n",
    "\\end{aligned}\n",
    "$$\n",
    "\n"
   ]
  },
  {
   "cell_type": "markdown",
   "id": "41dc5f40-0e48-4031-b7a2-02791cc5c60d",
   "metadata": {},
   "source": [
    "$$\n",
    "\\begin{aligned}\n",
    "\\Omega_\\psi &\\in[N_x,N_y] && && [x_0,y_0] && && [x_1,y_1] \\\\ \n",
    "\\Omega_u &\\in[N_x,N_y-1] && && [x_0,y_0+\\frac{1}{2}dy] && && [x_1,y_1-\\frac{1}{2}dy]  \\\\ \n",
    "\\Omega_v &\\in[N_x-1,N_y] && && [x_0+\\frac{1}{2}dx,y_0] && && [x_1-\\frac{1}{2}dx,y_1]  \\\\ \n",
    "\\Omega_q &\\in[N_x-1,N_y-1] && && [x_0+\\frac{1}{2}dx,y_0+\\frac{1}{2}dy] && && [x_1-\\frac{1}{2}dx,y_1-\\frac{1}{2}dy] \n",
    "\\end{aligned}\n",
    "$$"
   ]
  },
  {
   "cell_type": "markdown",
   "id": "9a467f52-45d1-43e2-9f6d-c5499c13c2b0",
   "metadata": {},
   "source": [
    "\n",
    "\n",
    "\n",
    "\n",
    "\n",
    "\n",
    "So if $q$ is on a staggered domain."
   ]
  },
  {
   "cell_type": "code",
   "execution_count": 280,
   "id": "257f7abc-f821-4fe9-be09-f90cdef4bee9",
   "metadata": {
    "tags": []
   },
   "outputs": [],
   "source": [
    "from loguru import logger\n",
    "\n",
    "\n",
    "def plot_field(field):\n",
    "    num_axis = len(field)\n",
    "    fig, ax = plt.subplots(ncols=num_axis, figsize=(8, 2))\n",
    "\n",
    "    for i in range(num_axis):\n",
    "        pts = ax[i].imshow(field[i].T, origin=\"lower\", cmap=\"coolwarm\")\n",
    "        plt.colorbar(pts)\n",
    "\n",
    "    plt.tight_layout()\n",
    "    plt.show()\n",
    "\n",
    "\n",
    "def print_debug_quantity(quantity, name=\"\"):\n",
    "    size = quantity.shape\n",
    "    min_ = np.min(quantity)\n",
    "    max_ = np.max(quantity)\n",
    "    mean_ = np.mean(quantity)\n",
    "    median_ = np.mean(quantity)\n",
    "    jax.debug.print(\n",
    "        f\"{name}: {size} | {min_:.6e} | {mean_:.6e} | {median_:.6e} | {max_:.6e}\"\n",
    "    )"
   ]
  },
  {
   "cell_type": "code",
   "execution_count": 281,
   "id": "d12d8ae2-01e0-44e0-8f0a-0b2c51bda158",
   "metadata": {
    "tags": []
   },
   "outputs": [],
   "source": [
    "from jaxsw._src.models import qg as F_qg\n",
    "import jaxsw._src.domain.base_v2 as Domain\n",
    "from jaxsw._src.domain.qg import create_qg_multilayer_mat, LayerDomain\n",
    "from jaxsw._src.masks import Mask\n",
    "from jaxsw._src.operators.functional.finitevol.geostrophic import gradient_perpendicular"
   ]
  },
  {
   "cell_type": "code",
   "execution_count": 282,
   "id": "13dd1aa7-7557-4599-b3cd-069b81fca1e8",
   "metadata": {
    "tags": []
   },
   "outputs": [],
   "source": [
    "# Low Resolution\n",
    "# Nx, Ny = 128, 128\n",
    "Nx, Ny = 256+1, 256+1\n",
    "# High Resolution\n",
    "# Nx, Ny = 769, 961\n",
    "\n",
    "# Lx, Ly = 3840.0e3, 4800.0e3\n",
    "Lx, Ly = 5_120.0e3, 5_120.0e3\n",
    "\n",
    "dx, dy = Lx / Nx, Ly / Ny\n",
    "\n",
    "xy_domain = Domain.Domain(\n",
    "    xmin=(0.0,0.0), \n",
    "    xmax=(Lx,Ly),\n",
    "    Lx=(Lx,Ly),\n",
    "    Nx=(Nx, Ny), dx=(dx, dy)\n",
    ")\n",
    "\n",
    "params = F_qg.PDEParams(y0=0.5 * Ly)\n",
    "\n",
    "\n",
    "\n",
    "# heights\n",
    "# heights = [350.0, 750.0, 2900.0]\n",
    "heights = [400.0, 1_100.0, 2_600.0]\n",
    "\n",
    "# reduced gravities\n",
    "reduced_gravities = [0.025, 0.0125]\n",
    "\n",
    "# initialize layer domain\n",
    "layer_domain = LayerDomain(heights, reduced_gravities, correction=False)"
   ]
  },
  {
   "cell_type": "code",
   "execution_count": 283,
   "id": "119a4980-5f1d-428d-b541-79d1b7267d1f",
   "metadata": {
    "tags": []
   },
   "outputs": [],
   "source": [
    "# octogonal domain\n",
    "domain_type = \"octogonal\"\n",
    "mask = np.ones((Nx-1,Ny-1))\n",
    "for i in range(Nx//4):\n",
    "    for j in range(Ny//4):\n",
    "        if i+j < min(Nx//4, Ny//4):\n",
    "            mask[i,j] = 0.\n",
    "            mask[i,-1-j] = 0.\n",
    "            mask[-1-i,j] = 0.\n",
    "            mask[-1-i,-1-j] = 0.\n",
    "            \n",
    "masks = Mask.init_mask(mask, variable=\"q\")\n",
    "\n",
    "# domain_type = \"rectangular\"\n",
    "\n",
    "# mask = jnp.ones((Nx,Ny))\n",
    "# mask = mask.at[0].set(0.0)\n",
    "# mask = mask.at[-1].set(0.0)\n",
    "# mask = mask.at[:,0].set(0.0)\n",
    "# mask = mask.at[:,-1].set(0.0)\n",
    "\n",
    "# masks = Mask.init_mask(mask, variable=\"psi\")"
   ]
  },
  {
   "cell_type": "code",
   "execution_count": 284,
   "id": "7ab9c3e5-a879-4b8f-9ca4-f53da0a8119b",
   "metadata": {
    "tags": []
   },
   "outputs": [
    {
     "data": {
      "text/plain": [
       "(3, 257, 257)"
      ]
     },
     "execution_count": 284,
     "metadata": {},
     "output_type": "execute_result"
    }
   ],
   "source": [
    "psi.shape"
   ]
  },
  {
   "cell_type": "code",
   "execution_count": 285,
   "id": "b5320dcf-cfbc-4093-a618-88088498f674",
   "metadata": {
    "tags": []
   },
   "outputs": [],
   "source": [
    "# open psi\n",
    "psi = np.load(\"/Users/eman/code_projects/data/qg_runs/psi_000y_360d.npy\")[0]\n",
    "psi *= masks.psi.values\n",
    "# calculate potential vorticity\n",
    "q = F_qg.calculate_potential_vorticity(psi, domain=xy_domain, layer_domain=layer_domain, params=params, masks_psi=masks.psi, masks_q=masks.q)\n",
    "# calculate velocities\n",
    "u, v = gradient_perpendicular(u=psi, dx=xy_domain.dx[0], dy=xy_domain.dx[1])"
   ]
  },
  {
   "cell_type": "code",
   "execution_count": 286,
   "id": "aec394e8-9eca-436a-98ca-1cbe7457d715",
   "metadata": {
    "tags": []
   },
   "outputs": [
    {
     "data": {
      "image/png": "[encoded data removed]",
      "text/plain": [
       "<Figure size 800x200 with 6 Axes>"
      ]
     },
     "metadata": {},
     "output_type": "display_data"
    },
    {
     "data": {
      "image/png": "[encoded data removed]",
      "text/plain": [
       "<Figure size 800x200 with 6 Axes>"
      ]
     },
     "metadata": {},
     "output_type": "display_data"
    },
    {
     "data": {
      "image/png": "[encoded data removed]",
      "text/plain": [
       "<Figure size 800x200 with 6 Axes>"
      ]
     },
     "metadata": {},
     "output_type": "display_data"
    },
    {
     "data": {
      "image/png": "[encoded data removed]",
      "text/plain": [
       "<Figure size 800x200 with 6 Axes>"
      ]
     },
     "metadata": {},
     "output_type": "display_data"
    }
   ],
   "source": [
    "plot_field(psi)\n",
    "plot_field(q)\n",
    "plot_field(u)\n",
    "plot_field(v)"
   ]
  },
  {
   "cell_type": "code",
   "execution_count": 287,
   "id": "e1425bbd-5572-4c99-9462-fd13ea94d356",
   "metadata": {
    "tags": []
   },
   "outputs": [],
   "source": [
    "def weno3z(qm, q0, qp):\n",
    "    \"\"\"\n",
    "    3-points non-linear left-biased stencil reconstruction:\n",
    "\n",
    "    qm-----q0--x--qp\n",
    "\n",
    "    An improved weighted essentially non-oscillatory scheme for hyperbolic\n",
    "    conservation laws, Borges et al, Journal of Computational Physics 227 (2008).\n",
    "    \"\"\"\n",
    "    eps = 1e-14\n",
    "\n",
    "    qi1 = -1./2.*qm + 3./2.*q0\n",
    "    qi2 = 1./2.*(q0 + qp)\n",
    "\n",
    "    beta1 = (q0-qm)**2\n",
    "    beta2 = (qp-q0)**2\n",
    "    tau = torch.abs(beta2-beta1)\n",
    "\n",
    "    g1, g2 = 1./3., 2./3.\n",
    "    w1 = g1 * (1. + tau / (beta1 + eps))\n",
    "    w2 = g2 * (1. + tau / (beta2 + eps))\n",
    "\n",
    "    qi_weno3 = (w1*qi1 + w2*qi2) / (w1 + w2)\n",
    "\n",
    "    return qi_weno3\n",
    "\n",
    "def flux_3pts_mask(q, u, dim, mask_u_d1, mask_u_d2plus):\n",
    "    print_debug_quantity(q.numpy(), \"Q\")\n",
    "    print_debug_quantity(u.numpy(), \"U\")\n",
    "    print(\"----\")\n",
    "    n = q.shape[dim]\n",
    "    pad1 = () if dim == -1 else (0,0)\n",
    "    pad2 = (0,0) if dim == -1 else ()\n",
    "    print(pad1, pad2)\n",
    "    \n",
    "    \n",
    "    # 3 Point Flux\n",
    "    qm, q0, qp = q.narrow(dim, 0, n-2), q.narrow(dim, 1, n-2), \\\n",
    "                 q.narrow(dim, 2, n-2)\n",
    "    \n",
    "#     print_debug_quantity(qm.numpy(), \"QM\")\n",
    "#     print_debug_quantity(q0.numpy(), \"Q0\")\n",
    "#     print_debug_quantity(qp.numpy(), \"QP\")\n",
    "    \n",
    "#     print(\"----\")\n",
    "    \n",
    "\n",
    "    qi_left_i_3pt = weno3z(qm, q0, qp)\n",
    "    qi_left_i_3pt = F.pad(qi_left_i_3pt, pad1+(1,0)+pad2)\n",
    "    print_debug_quantity(qi_left_i_3pt.numpy(), \"Q LEFT 3PT\")\n",
    "    \n",
    "    qi_right_i_3pt = weno3z(qp, q0, qm)\n",
    "    qi_right_i_3pt = F.pad(qi_right_i_3pt, pad1+(0,1)+pad2)\n",
    "    print_debug_quantity(qi_right_i_3pt.numpy(), \"Q RIGHT 3PT\")\n",
    "    \n",
    "    print(\"----\")\n",
    "\n",
    "    # 1 Point Flux\n",
    "    qi_left_i_1pt = q.narrow(dim, 0, n-1)\n",
    "    qi_right_i_1pt = q.narrow(dim, 1, n-1)\n",
    "    \n",
    "    \n",
    "    print_debug_quantity(qi_left_i_1pt.numpy(), \"Q LEFT 1PT\")\n",
    "    print_debug_quantity(qi_right_i_1pt.numpy(), \"Q RIGHT 1PT\")\n",
    "    \n",
    "    \n",
    "    print(\"----\")\n",
    "    \n",
    "    # calculate plus minus\n",
    "    u_pos = F.relu(u)\n",
    "    u_neg = u - u_pos\n",
    "    # NORMAL FLUX\n",
    "    \n",
    "    flux_1pt = u_pos * qi_left_i_1pt + u_neg * qi_right_i_1pt\n",
    "    \n",
    "    print_debug_quantity(flux_1pt.numpy(), \"FLUX 1PT\")\n",
    "    \n",
    "    \n",
    "    flux_3pt = u_pos * qi_left_i_3pt + u_neg * qi_right_i_3pt\n",
    "    print_debug_quantity(flux_3pt.numpy(), \"FLUX 3PT\")\n",
    "    print(\"----\")\n",
    "    \n",
    "    \n",
    "\n",
    "    flux = mask_u_d1 * flux_1pt + mask_u_d2plus * flux_3pt\n",
    "    \n",
    "    print_debug_quantity(flux.numpy(), \"TOTAL FLUX\")\n",
    "\n",
    "    return qi_left_i_3pt, qi_right_i_3pt, flux"
   ]
  },
  {
   "cell_type": "code",
   "execution_count": 288,
   "id": "493728cf-b9b6-4a40-bfd1-a35db6194d3e",
   "metadata": {
    "jupyter": {
     "source_hidden": true
    },
    "tags": []
   },
   "outputs": [],
   "source": [
    "# # qi_left_torch, qi_right_torch, flux = flux_3pts(x, u, 0)\n",
    "# qi_left_torch, qi_right_torch, flux = flux_3pts_mask(\n",
    "#     torch.Tensor(np.asarray(q[None, None, ...])), \n",
    "#     torch.Tensor(np.asarray(u[None, None, :, 1:-1, :])), -2, \n",
    "#     torch.Tensor(np.asarray(masks.u.distbound1[1:-1][None, None, ...])),\n",
    "#     torch.Tensor(np.asarray(masks.u.distbound2plus[1:-1][None, None, ...]))\n",
    "# )"
   ]
  },
  {
   "cell_type": "code",
   "execution_count": 289,
   "id": "0774e1eb-e7fb-4202-a806-f8eddd685b1a",
   "metadata": {
    "jupyter": {
     "source_hidden": true
    },
    "tags": []
   },
   "outputs": [],
   "source": [
    "# # qi_left_torch, qi_right_torch, flux = flux_3pts(x, u, 0)\n",
    "# qi_left_torch, qi_right_torch, flux = flux_3pts_mask(\n",
    "#     torch.Tensor(np.asarray(q[None, None, ...])), \n",
    "#     torch.Tensor(np.asarray(v[None, None, ..., 1:-1])), -1, \n",
    "#     torch.Tensor(np.asarray(masks.v.distbound1[:, 1:-1][None, None, ...])),\n",
    "#     torch.Tensor(np.asarray(masks.v.distbound2plus[:, 1:-1][None, None, ...]))\n",
    "# )"
   ]
  },
  {
   "cell_type": "code",
   "execution_count": 290,
   "id": "a9d24eda-6235-448b-b320-4e98c2184e83",
   "metadata": {
    "tags": []
   },
   "outputs": [],
   "source": [
    "\n",
    "def linear2(qm, qp):\n",
    "    \"\"\"\n",
    "    2-points linear reconstruction:\n",
    "\n",
    "    qm--x--qp\n",
    "\n",
    "    \"\"\"\n",
    "    return 0.5 * (qm + qp)\n",
    "def linear3_left(qm, q0, qp):\n",
    "    \"\"\"\n",
    "    3-points linear left-biased stencil reconstruction:\n",
    "\n",
    "    qm-----q0--x--qp\n",
    "\n",
    "    \"\"\"\n",
    "    return -1./6.*qm + 5./6.*q0 + 1./3.*qp\n",
    "\n",
    "def linear5_left(qmm, qm, q0, qp, qpp):\n",
    "    \"\"\"\n",
    "    5-points linear left-biased stencil reconstruction\n",
    "\n",
    "    qmm----qm-----q0--x--qp----qpp\n",
    "\n",
    "    \"\"\"\n",
    "    return 1./30.*qmm - 13./60.*qm + 47./60.*q0 + 9./20.*qp - 1/20 *qpp\n",
    "\n",
    "def flux_5pts_mask(\n",
    "        q, u, dim, mask_u_d1,\n",
    "        mask_u_d2, mask_u_d3plus):\n",
    "    \n",
    "    print_debug_quantity(q.numpy(), \"Q\")\n",
    "    print_debug_quantity(u.numpy(), \"U\")\n",
    "    print(\"----\")\n",
    "    n = q.shape[dim]\n",
    "    pad1 = () if dim == -1 else (0,0)\n",
    "    pad2 = (0,0) if dim == -1 else ()\n",
    "    \n",
    "    # 5 PTS FLUX (LINEAR)\n",
    "    qmm, qm, q0, qp, qpp = q.narrow(dim, 0, n-4), q.narrow(dim, 1, n-4), \\\n",
    "                           q.narrow(dim, 2, n-4), q.narrow(dim, 3, n-4), \\\n",
    "                           q.narrow(dim, 4, n-4)\n",
    "    # qi5_left = F.pad(weno5z(qmm, qm, q0, qp, qpp), pad1+(2,1)+pad2)\n",
    "    # qi5_right = F.pad(weno5z(qpp, qp, q0, qm, qmm), pad1+(1,2)+pad2)\n",
    "    qi5_left = F.pad(linear5_left(qmm, qm, q0, qp, qpp), pad1+(2,1)+pad2)\n",
    "    qi5_right = F.pad(linear5_left(qpp, qp, q0, qm, qmm), pad1+(1,2)+pad2)\n",
    "    print_debug_quantity(qi5_left.numpy(), \"Q LEFT 5PT\")\n",
    "    print_debug_quantity(qi5_right.numpy(), \"Q RIGHT 5PT\")\n",
    "    print(\"PADDING\")\n",
    "    # print(qi5_right[0,0,0,-2])\n",
    "    print(\"----\")\n",
    "    \n",
    "    # 3 PTS FLUX (LINEAR)\n",
    "\n",
    "    # qi4 = F.pad(\n",
    "        # linear4(q.narrow(dim, 0, n-3), q.narrow(dim, 1, n-3),\n",
    "                # q.narrow(dim, 2, n-3), q.narrow(dim, 3, n-3)),\n",
    "        # pad1+(1,1)+pad2)\n",
    "\n",
    "    qm, q0, qp = q.narrow(dim, 0, n-2), q.narrow(dim, 1, n-2), \\\n",
    "                 q.narrow(dim, 2, n-2)\n",
    "    qi3_left = F.pad(linear3_left(qm, q0, qp), pad1+(1,0)+pad2)\n",
    "\n",
    "    qi3_right = F.pad(linear3_left(qp, q0, qm), pad1+(0,1)+pad2)\n",
    "    \n",
    "    print_debug_quantity(qi3_left.numpy(), \"Q LEFT 3PT\")\n",
    "    print_debug_quantity(qi3_right.numpy(), \"Q RIGHT 3PT\")\n",
    "    print(\"----\")\n",
    "    \n",
    "    \n",
    "    # 1 PTS FLUX (LINEAR)\n",
    "\n",
    "    qi2 = linear2(q.narrow(dim, 0, n-1), q.narrow(dim, 1, n-1))\n",
    "    \n",
    "    print_debug_quantity(qi2.numpy(), \"Q 1PT\")\n",
    "    print(\"----\")\n",
    "\n",
    "    u_pos = F.relu(u)\n",
    "    u_neg = u - u_pos\n",
    "    print_debug_quantity(u_pos.numpy(), \"U POST\")\n",
    "    print_debug_quantity(u_neg.numpy(), \"U NEG\")\n",
    "    print(\"----\")\n",
    "    \n",
    "    flux_1pt = u * qi2\n",
    "    flux_3pt = u_pos*qi3_left + u_neg*qi3_right\n",
    "    flux_5pt = u_pos*qi5_left + u_neg*qi5_right\n",
    "    \n",
    "    print_debug_quantity(flux_1pt.numpy(), \"FLUX 1PT\")\n",
    "    print_debug_quantity(flux_3pt.numpy(), \"FLUX 3PT\")\n",
    "    print_debug_quantity(flux_5pt.numpy(), \"FLUX 5PT\")\n",
    "    print(\"----\")\n",
    "    \n",
    "    flux = mask_u_d1 * flux_1pt + mask_u_d2 * flux_3pt + mask_u_d3plus * flux_5pt\n",
    "    print_debug_quantity(flux.numpy(), \"TOTAL FLUX\")\n",
    "\n",
    "    return flux"
   ]
  },
  {
   "cell_type": "code",
   "execution_count": 291,
   "id": "72ea719e-13ac-4786-a733-e396419b660c",
   "metadata": {
    "tags": []
   },
   "outputs": [
    {
     "name": "stdout",
     "output_type": "stream",
     "text": [
      "Q: (1, 1, 3, 256, 256) | -7.109572e-05 | -7.978994e-09 | -7.978994e-09 | 7.058449e-05\n",
      "U: (1, 1, 3, 255, 256) | -7.937311e-01 | -4.743639e-13 | -4.743639e-13 | 8.212052e-01\n",
      "----\n",
      "Q LEFT 5PT: (1, 1, 3, 255, 256) | -6.866989e-05 | -5.783516e-09 | -5.783516e-09 | 6.684787e-05\n",
      "Q RIGHT 5PT: (1, 1, 3, 255, 256) | -6.721713e-05 | -6.300173e-09 | -6.300173e-09 | 6.615402e-05\n",
      "PADDING\n",
      "----\n",
      "Q LEFT 3PT: (1, 1, 3, 255, 256) | -6.898878e-05 | -7.137487e-09 | -7.137487e-09 | 6.824612e-05\n",
      "Q RIGHT 3PT: (1, 1, 3, 255, 256) | -6.624290e-05 | -7.151980e-09 | -7.151980e-09 | 6.577937e-05\n",
      "----\n",
      "Q 1PT: (1, 1, 3, 255, 256) | -6.243898e-05 | -7.590101e-09 | -7.590101e-09 | 6.121465e-05\n",
      "----\n",
      "U POST: (1, 1, 3, 255, 256) | 0.000000e+00 | 5.506792e-03 | 5.506792e-03 | 8.212052e-01\n",
      "U NEG: (1, 1, 3, 255, 256) | -7.937311e-01 | -5.506792e-03 | -5.506792e-03 | 0.000000e+00\n",
      "----\n",
      "FLUX 1PT: (1, 1, 3, 255, 256) | -4.778925e-05 | -1.071482e-09 | -1.071482e-09 | 4.815209e-05\n",
      "FLUX 3PT: (1, 1, 3, 255, 256) | -5.110379e-05 | -1.231000e-09 | -1.231000e-09 | 5.127131e-05\n",
      "FLUX 5PT: (1, 1, 3, 255, 256) | -5.373752e-05 | -1.186189e-09 | -1.186189e-09 | 5.399727e-05\n",
      "----\n",
      "TOTAL FLUX: (1, 1, 3, 255, 256) | -4.778925e-05 | -1.072354e-09 | -1.072354e-09 | 4.815209e-05\n"
     ]
    }
   ],
   "source": [
    "# qi_left_torch, qi_right_torch, flux = flux_3pts(x, u, 0)\n",
    "flux = flux_5pts_mask(\n",
    "    torch.Tensor(np.asarray(q[None, None, ...])), \n",
    "    torch.Tensor(np.asarray(u[None, None, :, 1:-1, :])), -2, \n",
    "    torch.Tensor(np.asarray(masks.u.distbound1[1:-1][None, None, ...])),\n",
    "    torch.Tensor(np.asarray(masks.u.distbound2[1:-1][None, None, ...])),\n",
    "    torch.Tensor(np.asarray(masks.u.distbound3plus[1:-1][None, None, ...]))\n",
    ")"
   ]
  },
  {
   "cell_type": "code",
   "execution_count": 292,
   "id": "e53456d0-0bfe-4b30-84c1-4e530092f6ee",
   "metadata": {
    "tags": []
   },
   "outputs": [
    {
     "name": "stdout",
     "output_type": "stream",
     "text": [
      "Q: (1, 3, 256, 256) | -7.109572e-05 | -7.978994e-09 | -7.978994e-09 | 7.058449e-05\n",
      "U: (1, 3, 256, 255) | -8.212052e-01 | 0.000000e+00 | 0.000000e+00 | 9.066958e-01\n",
      "----\n",
      "Q LEFT 5PT: (1, 3, 256, 255) | -6.870866e-05 | 8.267326e-08 | 8.267326e-08 | 6.614746e-05\n",
      "Q RIGHT 5PT: (1, 3, 256, 255) | -6.728567e-05 | -9.520487e-08 | -9.520487e-08 | 6.693673e-05\n",
      "PADDING\n",
      "----\n",
      "Q LEFT 3PT: (1, 3, 256, 255) | -6.876664e-05 | 8.105346e-08 | 8.105346e-08 | 6.577809e-05\n",
      "Q RIGHT 3PT: (1, 3, 256, 255) | -6.641335e-05 | -9.524484e-08 | -9.524484e-08 | 6.830379e-05\n",
      "----\n",
      "Q 1PT: (1, 3, 256, 255) | -6.241132e-05 | -7.553300e-09 | -7.553300e-09 | 6.121669e-05\n",
      "----\n",
      "U POST: (1, 3, 256, 255) | 0.000000e+00 | 7.499299e-03 | 7.499299e-03 | 9.066958e-01\n",
      "U NEG: (1, 3, 256, 255) | -8.212052e-01 | -7.499299e-03 | -7.499299e-03 | 0.000000e+00\n",
      "----\n",
      "FLUX 1PT: (1, 3, 256, 255) | -4.796279e-05 | -1.705010e-08 | -1.705010e-08 | 1.509687e-05\n",
      "FLUX 3PT: (1, 3, 256, 255) | -5.119268e-05 | -1.982446e-08 | -1.982446e-08 | 1.598919e-05\n",
      "FLUX 5PT: (1, 3, 256, 255) | -5.386063e-05 | -2.067877e-08 | -2.067877e-08 | 1.640945e-05\n",
      "----\n",
      "TOTAL FLUX: (1, 3, 256, 255) | -4.796279e-05 | -1.710046e-08 | -1.710046e-08 | 1.509687e-05\n"
     ]
    }
   ],
   "source": [
    "# qi_left_torch, qi_right_torch, flux = flux_3pts(x, u, 0)\n",
    "flux = flux_5pts_mask(\n",
    "    torch.Tensor(np.asarray(q[None, ...])), \n",
    "    torch.Tensor(np.asarray(v[None, :, :, 1:-1])), -1 ,\n",
    "    torch.Tensor(np.asarray(masks.v.distbound1[:, 1:-1][None, ...])),\n",
    "    torch.Tensor(np.asarray(masks.v.distbound2[:, 1:-1][None, ...])),\n",
    "    torch.Tensor(np.asarray(masks.v.distbound3plus[:, 1:-1][None, ...]))\n",
    ")"
   ]
  },
  {
   "cell_type": "code",
   "execution_count": null,
   "id": "1251f858-8bc2-4213-9976-fde017bf842e",
   "metadata": {},
   "outputs": [],
   "source": []
  },
  {
   "cell_type": "code",
   "execution_count": 293,
   "id": "77d9f071-acfa-4ab3-8b72-8f723b9ab8f2",
   "metadata": {
    "tags": []
   },
   "outputs": [],
   "source": [
    "import jax.numpy as jnp\n",
    "import kernex as kex\n",
    "import jax\n",
    "import numpy as np"
   ]
  },
  {
   "cell_type": "code",
   "execution_count": 294,
   "id": "cee784fe-a36e-466c-930c-7378da6057fe",
   "metadata": {
    "tags": []
   },
   "outputs": [],
   "source": [
    "from jaxsw._src.operators.functional.interp.upwind import (\n",
    "    upwind_1pt,\n",
    "    upwind_1pt_bnds,\n",
    "    upwind_2pt_bnds,\n",
    "    upwind_3pt,\n",
    "    upwind_3pt_bnds,\n",
    "    upwind_5pt,\n",
    "    plusminus,\n",
    ")\n",
    "from jaxsw._src.operators.functional.interp.linear import (\n",
    "    linear_3pts_left,\n",
    "    linear_3pts_right,\n",
    "    linear_2pts,\n",
    ")\n"
   ]
  },
  {
   "cell_type": "markdown",
   "id": "e2387168-b53c-44b3-a80b-8a5ba12cca49",
   "metadata": {},
   "source": [
    "* interp_3pt_weno\n",
    "* interp_1pt\n",
    "* u plusmins\n",
    "* flux + interp_1pt + mask\n",
    "* flux + interp3pt\n",
    "* sum fluxes\n",
    "\n",
    "---\n",
    "\n",
    "**Methods**:\n",
    "\n",
    "* `dim`: 0 (x-axis), 1 (y-axis)\n",
    "* `num_pts`: 1, 3, 5\n",
    "* `method`: linear, weno, wenoz\n",
    "* `mask` (depends): `u_mask1`, `u_mask2`, `umask_2plus`, `umask_3plus`"
   ]
  },
  {
   "cell_type": "code",
   "execution_count": 295,
   "id": "c15ae7aa-2653-4bcc-bb14-0d38dd603920",
   "metadata": {
    "tags": []
   },
   "outputs": [],
   "source": [
    "\n",
    "def tracer_flux_3pt_mask(\n",
    "    q: Array,\n",
    "    u: Array,\n",
    "    dim: int,\n",
    "    u_mask1: Array,\n",
    "    u_mask2plus: Array,\n",
    "    method: str = \"linear\",\n",
    "):\n",
    "    \n",
    "    print_debug_quantity(q, \"Q\")\n",
    "    print_debug_quantity(u, \"U\")\n",
    "    # get padding\n",
    "    if dim == 0:\n",
    "        pad_left = ((1, 0), (0, 0))\n",
    "        pad_right = ((0, 1), (0, 0))\n",
    "    elif dim == 1:\n",
    "        pad_left = ((0, 0), (1, 0))\n",
    "        pad_right = ((0, 0), (0, 1))\n",
    "    else:\n",
    "        msg = f\"Dims should be between 0 and 1!\"\n",
    "        msg += f\"\\nDims: {dim}\"\n",
    "        raise ValueError(msg)\n",
    "        \n",
    "    print(\"----\")\n",
    "    \n",
    "    # 3 point flux\n",
    "    qi_left_i_3pt, qi_right_i_3pt = jax.vmap(upwind_3pt, in_axes=(0,None,None))(q, dim, method)\n",
    "\n",
    "\n",
    "    # add padding\n",
    "    qi_left_i_3pt = jnp.pad(qi_left_i_3pt, pad_width=((0,0),) + pad_left)\n",
    "    qi_right_i_3pt = jnp.pad(qi_right_i_3pt, pad_width=((0,0),) + pad_right)\n",
    "    \n",
    "    print_debug_quantity(qi_left_i_3pt, \"Q LEFT 3PT\")\n",
    "    print_debug_quantity(qi_right_i_3pt, \"Q RIGHT 3PT\")\n",
    "    \n",
    "    print(\"----\")\n",
    "\n",
    "    # 1 point flux\n",
    "    qi_left_i_1pt, qi_right_i_1pt = jax.vmap(upwind_1pt, in_axes=(0,None))(q, dim)\n",
    "    print_debug_quantity(qi_left_i_1pt, \"Q LEFT 1PT\")\n",
    "    print_debug_quantity(qi_right_i_1pt, \"Q RIGHT 1PT\")\n",
    "    \n",
    "    print(\"----\")\n",
    "\n",
    "\n",
    "    \n",
    "\n",
    "    # calculate +ve and -ve points\n",
    "    u_pos, u_neg = plusminus(u)\n",
    "\n",
    "    # calculate upwind flux\n",
    "    flux_1pt = u_pos * qi_left_i_1pt + u_neg * qi_right_i_1pt\n",
    "    flux_3pt = u_pos * qi_left_i_3pt + u_neg * qi_right_i_3pt\n",
    "    \n",
    "    print_debug_quantity(flux_1pt, \"FLUX 1PT\")\n",
    "    print_debug_quantity(flux_3pt, \"FLUX 3PT\")\n",
    "    print(\"----\")\n",
    "\n",
    "    # calculate total flux\n",
    "    flux = flux_1pt * u_mask1 + flux_3pt * u_mask2plus\n",
    "    print_debug_quantity(flux, \"TOTAL FLUX\")\n",
    "\n",
    "    return flux"
   ]
  },
  {
   "cell_type": "code",
   "execution_count": 296,
   "id": "b729c198-1a16-41af-b1ba-90300a625b45",
   "metadata": {
    "tags": []
   },
   "outputs": [
    {
     "name": "stdout",
     "output_type": "stream",
     "text": [
      "Q: (3, 256, 256) | -7.109572e-05 | -7.978943e-09 | -7.978943e-09 | 7.058448e-05\n",
      "U: (3, 255, 256) | -7.937311e-01 | -5.680369e-19 | -5.680369e-19 | 8.212052e-01\n",
      "----\n",
      "Q LEFT 3PT: (3, 255, 256) | -6.813956e-05 | -7.060123e-09 | -7.060123e-09 | 6.756195e-05\n",
      "Q RIGHT 3PT: (3, 255, 256) | -6.710078e-05 | -6.895473e-09 | -6.895473e-09 | 6.649795e-05\n",
      "----\n",
      "Q LEFT 1PT: (3, 255, 256) | -7.109572e-05 | -7.536017e-09 | -7.536017e-09 | 7.058448e-05\n",
      "Q RIGHT 1PT: (3, 255, 256) | -7.109572e-05 | -7.644134e-09 | -7.644134e-09 | 7.058448e-05\n",
      "----\n",
      "FLUX 1PT: (3, 255, 256) | -3.848858e-05 | -6.595937e-10 | -6.595937e-10 | 3.833984e-05\n",
      "FLUX 3PT: (3, 255, 256) | -4.948978e-05 | -1.061778e-09 | -1.061778e-09 | 4.988751e-05\n",
      "----\n",
      "TOTAL FLUX: (3, 255, 256) | -3.848858e-05 | -8.736590e-10 | -8.736590e-10 | 3.833984e-05\n"
     ]
    }
   ],
   "source": [
    "# qi_left_torch, qi_right_torch, flux = flux_3pts(x, u, 0)\n",
    "qi_left_torch, qi_right_torch, flux = tracer_flux_3pt_mask(\n",
    "    q, u[:, 1:-1], 0, \n",
    "    masks.u.distbound1[1:-1],\n",
    "    masks.u.distbound2plus[1:-1],\n",
    "    method=\"wenoz\"\n",
    ")"
   ]
  },
  {
   "cell_type": "code",
   "execution_count": 300,
   "id": "898c9377-5966-4de3-a328-b8a9ca3a6a43",
   "metadata": {
    "tags": []
   },
   "outputs": [],
   "source": [
    "import typing as tp\n",
    "import functools as ft\n",
    "\n",
    "from jaxsw._src.operators.functional.interp.linear import (\n",
    "    linear_3pts_left,\n",
    "    linear_3pts_right,\n",
    "    linear_2pts, \n",
    "    linear_5pts_left\n",
    ")\n",
    "\n",
    "def upwind_5pt(q: Array, dim: int, method: str = \"weno\") -> tp.Tuple[Array, Array]:\n",
    "    \"\"\"creates the stencils for the upwind scheme\n",
    "    - 5 pts inside domain\n",
    "    Args:\n",
    "        q (Array): the input array to be spliced\n",
    "            shape[dim] = N\n",
    "    Returns:\n",
    "        qi_left (Array): the spliced array on the left side\n",
    "            shape[dim] = N-4\n",
    "        qi_right (Array): the spliced array on the left side\n",
    "            shape[dim] = N-4\n",
    "    \"\"\"\n",
    "    \n",
    "\n",
    "    # get number of points\n",
    "    num_pts = q.shape[dim]\n",
    "\n",
    "    # define slicers\n",
    "    dyn_slicer = ft.partial(jax.lax.dynamic_slice_in_dim, axis=dim)\n",
    "\n",
    "    # interior slices\n",
    "    q0 = dyn_slicer(q, 0, num_pts - 4)\n",
    "    q1 = dyn_slicer(q, 1, num_pts - 4)\n",
    "    q2 = dyn_slicer(q, 2, num_pts - 4)\n",
    "    q3 = dyn_slicer(q, 3, num_pts - 4)\n",
    "    q4 = dyn_slicer(q, 4, num_pts - 4)\n",
    "    \n",
    "    # np.testing.assert_array_almost_equal(qmm.numpy(), q0)\n",
    "\n",
    "    # DO WENO Interpolation\n",
    "    if method == \"linear\":\n",
    "        qi_left_interior = linear_5pts_left(q0, q1, q2, q3, q4)\n",
    "        qi_right_interior = linear_5pts_left(q4, q3, q2, q1, q0)\n",
    "    elif method == \"weno\":\n",
    "        qi_left_interior = weno_5pts(q0, q1, q2, q3, q4)\n",
    "        qi_right_interior = weno_5pts(q4, q3, q2, q1, q0)\n",
    "    elif method == \"wenoz\":\n",
    "        qi_left_interior = weno_5pts_improved(q0, q1, q2, q3, q4)\n",
    "        qi_right_interior = weno_5pts_improved(q4, q3, q2, q1, q0)\n",
    "    else:\n",
    "        msg = f\"Unrecognized method: {method}\"\n",
    "        msg += \"\\nNeeds to be 'linear', 'weno', or 'wenoz'.\"\n",
    "        raise ValueError(msg)\n",
    "\n",
    "    return qi_left_interior, qi_right_interior\n",
    "\n",
    "\n",
    "def tracer_flux_5pt_mask(\n",
    "    q: Array,\n",
    "    u: Array,\n",
    "    dim: int,\n",
    "    u_mask1: Array,\n",
    "    u_mask2: Array,\n",
    "    u_mask3plus: Array,\n",
    "    method: str = \"linear\",\n",
    "):\n",
    "    \"\"\"Tasks - ++\"\"\"\n",
    "    \n",
    "    \n",
    "    print_debug_quantity(q, \"Q\")\n",
    "    print_debug_quantity(u, \"U\")\n",
    "    print(\"----\")\n",
    "    \n",
    "    # get padding\n",
    "    if dim == 0:\n",
    "        pad_left_3pt = ((1, 0), (0, 0))\n",
    "        pad_right_3pt = ((0, 1), (0, 0))\n",
    "        pad_left_5pt = ((2, 1), (0, 0))\n",
    "        pad_right_5pt = ((1, 2), (0, 0))\n",
    "    elif dim == 1:\n",
    "        pad_left_3pt = ((0, 0), (1, 0))\n",
    "        pad_right_3pt = ((0, 0), (0, 1))\n",
    "        pad_left_5pt = ((0, 0), (2, 1))\n",
    "        pad_right_5pt = ((0, 0), (1, 2))\n",
    "    else:\n",
    "        msg = f\"Dims should be between 0 and 1!\"\n",
    "        msg += f\"\\nDims: {dim}\"\n",
    "        raise ValueError(msg)\n",
    "        \n",
    "        \n",
    "    # 5 point flux\n",
    "    # qi_left_i_5pt, qi_right_i_5pt = upwind_5pt(q=q, dim=dim, method=method)\n",
    "    qi_left_i_5pt, qi_right_i_5pt = jax.vmap(upwind_5pt, in_axes=(0,None,None))(q, dim, \"linear\")\n",
    "    # qi_left_i_5p\n",
    "    \n",
    "    \n",
    "\n",
    "    # pad1 = () if dim == -1 else (0,0)\n",
    "    # pad2 = (0,0) if dim == -1 else ()\n",
    "    # qi5_left = F.pad(linear5_left(\n",
    "    #     torch.tensor(np.asarray(qmm)), \n",
    "    #     torch.tensor(np.asarray(qm)), \n",
    "    #     torch.tensor(np.asarray(q0)), \n",
    "    #     torch.tensor(np.asarray(qp)), \n",
    "    #     torch.tensor(np.asarray(qpp)))\n",
    "    #     , pad1+(2,1)+pad2)\n",
    "    # np.testing.assert_array_almost_equal(qi_left_i_5pt, qi5_left.numpy())\n",
    "    # add padding\n",
    "    qi_left_i_5pt = jnp.pad(qi_left_i_5pt, pad_width=((0,0),) + pad_left_5pt)\n",
    "    qi_right_i_5pt = jnp.pad(qi_right_i_5pt, pad_width=((0,0),) + pad_right_5pt)\n",
    "    \n",
    "    print_debug_quantity(qi_left_i_5pt, \"Q LEFT 5PT\")\n",
    "    print_debug_quantity(qi_right_i_5pt, \"Q RIGHT 5PT\")\n",
    "    print(\"PADDING\")\n",
    "    # print(qi_left_i_5pt[0,-2])\n",
    "    \n",
    "    print(\"----\")\n",
    "\n",
    "\n",
    "    # 3 point flux\n",
    "    # qi_left_i_3pt, qi_right_i_3pt = upwind_3pt(q=q, dim=dim, method=method)\n",
    "    qi_left_i_3pt, qi_right_i_3pt = jax.vmap(upwind_3pt, in_axes=(0,None,None))(q, dim, \"linear\")\n",
    "\n",
    "    # add padding\n",
    "    qi_left_i_3pt = jnp.pad(qi_left_i_3pt, pad_width=((0,0),) + pad_left_3pt)\n",
    "    qi_right_i_3pt = jnp.pad(qi_right_i_3pt, pad_width=((0,0),) + pad_right_3pt)\n",
    "    \n",
    "    print_debug_quantity(qi_left_i_3pt, \"Q LEFT 3PT\")\n",
    "    print_debug_quantity(qi_right_i_3pt, \"Q RIGHT 3PT\")\n",
    "    \n",
    "    print(\"----\")\n",
    "\n",
    "    \n",
    "    # 1 point flux\n",
    "    # qi_left_i_1pt, qi_right_i_1pt = upwind_1pt(q=q, dim=dim)\n",
    "    qi_left_i_1pt, qi_right_i_1pt = jax.vmap(upwind_1pt, in_axes=(0,None))(q, dim)\n",
    "    \n",
    "    print_debug_quantity(qi_left_i_1pt, \"Q LEFT 1PT\")\n",
    "    print_debug_quantity(qi_right_i_1pt, \"Q RIGHT 1PT\")\n",
    "    qi2 = linear_2pts(qi_left_i_1pt, qi_right_i_1pt)\n",
    "    print_debug_quantity(qi2, \"Q 1PT\")\n",
    "    print(\"----\")\n",
    "    # calculate +ve and -ve points\n",
    "    u_pos, u_neg = plusminus(u)\n",
    "    \n",
    "    print_debug_quantity(u_pos, \"U POST\")\n",
    "    print_debug_quantity(u_neg, \"U NEG\")\n",
    "    print(\"----\")\n",
    "\n",
    "    # calculate upwind flux\n",
    "    flux_1pt = u_pos * qi_left_i_1pt + u_neg * qi_right_i_1pt\n",
    "    flux_3pt = u_pos * qi_left_i_3pt + u_neg * qi_right_i_3pt\n",
    "    flux_5pt = u_pos * qi_left_i_5pt + u_neg * qi_right_i_5pt\n",
    "    \n",
    "    print_debug_quantity(flux_1pt, \"FLUX 1PT\")\n",
    "    print_debug_quantity(flux_3pt, \"FLUX 3PT\")\n",
    "    print_debug_quantity(flux_5pt, \"FLUX 5PT\")\n",
    "    print(\"----\")\n",
    "\n",
    "    # calculate total flux\n",
    "    flux = flux_1pt * u_mask1 + flux_3pt * u_mask2 + flux_5pt * u_mask3plus\n",
    "    print_debug_quantity(flux, \"TOTAL FLUX\")\n",
    "\n",
    "    return flux"
   ]
  },
  {
   "cell_type": "code",
   "execution_count": 301,
   "id": "da665810-96c7-4c20-b272-620ff2f0b96c",
   "metadata": {
    "tags": []
   },
   "outputs": [
    {
     "name": "stdout",
     "output_type": "stream",
     "text": [
      "Q: (3, 256, 256) | -7.109572e-05 | -7.978943e-09 | -7.978943e-09 | 7.058448e-05\n",
      "U: (3, 255, 256) | -7.937311e-01 | -5.680369e-19 | -5.680369e-19 | 8.212052e-01\n",
      "----\n",
      "Q LEFT 5PT: (3, 255, 256) | -6.866989e-05 | -5.783531e-09 | -5.783531e-09 | 6.684786e-05\n",
      "Q RIGHT 5PT: (3, 255, 256) | -6.721714e-05 | -6.300166e-09 | -6.300166e-09 | 6.615402e-05\n",
      "PADDING\n",
      "----\n",
      "Q LEFT 3PT: (3, 255, 256) | -6.898879e-05 | -7.137484e-09 | -7.137484e-09 | 6.824612e-05\n",
      "Q RIGHT 3PT: (3, 255, 256) | -6.624291e-05 | -7.151987e-09 | -7.151987e-09 | 6.577937e-05\n",
      "----\n",
      "Q LEFT 1PT: (3, 255, 256) | -7.109572e-05 | -7.536017e-09 | -7.536017e-09 | 7.058448e-05\n",
      "Q RIGHT 1PT: (3, 255, 256) | -7.109572e-05 | -7.644134e-09 | -7.644134e-09 | 7.058448e-05\n",
      "Q 1PT: (3, 255, 256) | -6.243898e-05 | -7.590076e-09 | -7.590076e-09 | 6.121465e-05\n",
      "----\n",
      "U POST: (3, 255, 256) | 0.000000e+00 | 5.506792e-03 | 5.506792e-03 | 8.212052e-01\n",
      "U NEG: (3, 255, 256) | -7.937311e-01 | -5.506792e-03 | -5.506792e-03 | 0.000000e+00\n",
      "----\n",
      "FLUX 1PT: (3, 255, 256) | -3.848858e-05 | -6.595937e-10 | -6.595937e-10 | 3.833984e-05\n",
      "FLUX 3PT: (3, 255, 256) | -5.110379e-05 | -1.231001e-09 | -1.231001e-09 | 5.127131e-05\n",
      "FLUX 5PT: (3, 255, 256) | -5.373752e-05 | -1.186189e-09 | -1.186189e-09 | 5.399727e-05\n",
      "----\n",
      "TOTAL FLUX: (3, 255, 256) | -3.848858e-05 | -8.481741e-10 | -8.481741e-10 | 3.833984e-05\n"
     ]
    }
   ],
   "source": [
    "# qi_left_torch, qi_right_torch, flux = flux_3pts(x, u, 0)\n",
    "qi_left_torch, qi_right_torch, flux = tracer_flux_5pt_mask(\n",
    "    q, u[:, 1:-1], 0, \n",
    "    masks.u.distbound1[1:-1],\n",
    "    masks.u.distbound2[1:-1],\n",
    "    masks.u.distbound3plus[1:-1],\n",
    "    method=\"wenoz\"\n",
    ")"
   ]
  },
  {
   "cell_type": "code",
   "execution_count": 299,
   "id": "5d65c493-d1d3-4153-930a-d7c030cdf28e",
   "metadata": {
    "tags": []
   },
   "outputs": [
    {
     "name": "stdout",
     "output_type": "stream",
     "text": [
      "Q: (3, 256, 256) | -7.109572e-05 | -7.978943e-09 | -7.978943e-09 | 7.058448e-05\n",
      "U: (3, 256, 255) | -8.212052e-01 | 5.442270e-19 | 5.442270e-19 | 9.066959e-01\n",
      "----\n",
      "Q LEFT 5PT: (3, 256, 255) | -6.870866e-05 | 8.267327e-08 | 8.267327e-08 | 6.614745e-05\n",
      "Q RIGHT 5PT: (3, 256, 255) | -6.728567e-05 | -9.520485e-08 | -9.520485e-08 | 6.693673e-05\n",
      "PADDING\n",
      "----\n",
      "Q LEFT 3PT: (3, 256, 255) | -6.876664e-05 | 8.105347e-08 | 8.105347e-08 | 6.577808e-05\n",
      "Q RIGHT 3PT: (3, 256, 255) | -6.641335e-05 | -9.524482e-08 | -9.524482e-08 | 6.830379e-05\n",
      "----\n",
      "Q LEFT 1PT: (3, 256, 255) | -7.109572e-05 | -9.530684e-08 | -9.530684e-08 | 7.058448e-05\n",
      "Q RIGHT 1PT: (3, 256, 255) | -7.109572e-05 | 8.020025e-08 | 8.020025e-08 | 7.058448e-05\n",
      "Q 1PT: (3, 256, 255) | -6.241132e-05 | -7.553293e-09 | -7.553293e-09 | 6.121669e-05\n",
      "----\n",
      "U POST: (3, 256, 255) | 0.000000e+00 | 7.499299e-03 | 7.499299e-03 | 9.066959e-01\n",
      "U NEG: (3, 256, 255) | -8.212052e-01 | -7.499299e-03 | -7.499299e-03 | 0.000000e+00\n",
      "----\n",
      "FLUX 1PT: (3, 256, 255) | -4.796280e-05 | -1.705010e-08 | -1.705010e-08 | 1.509687e-05\n",
      "FLUX 3PT: (3, 256, 255) | -5.119269e-05 | -1.982445e-08 | -1.982445e-08 | 1.598919e-05\n",
      "FLUX 5PT: (3, 256, 255) | -5.386062e-05 | -2.067877e-08 | -2.067877e-08 | 1.640945e-05\n",
      "----\n",
      "TOTAL FLUX: (3, 256, 255) | -4.796280e-05 | -1.710047e-08 | -1.710047e-08 | 1.509687e-05\n"
     ]
    }
   ],
   "source": [
    "# qi_left_torch, qi_right_torch, flux = flux_3pts(x, u, 0)\n",
    "qi_left_torch, qi_right_torch, flux = tracer_flux_5pt_mask(\n",
    "    q, v[..., 1:-1], 1, \n",
    "    masks.v.distbound1[..., 1:-1],\n",
    "    masks.v.distbound2[..., 1:-1],\n",
    "    masks.v.distbound3plus[..., 1:-1],\n",
    "    method=\"wenoz\"\n",
    ")"
   ]
  },
  {
   "cell_type": "markdown",
   "id": "9a3973f1-7be4-4701-82ea-acf85a05f5df",
   "metadata": {},
   "source": [
    "### 1pt"
   ]
  },
  {
   "cell_type": "code",
   "execution_count": null,
   "id": "6eed8147-23cc-4dd6-960a-efb05b3fea66",
   "metadata": {
    "tags": []
   },
   "outputs": [],
   "source": [
    "x_ = x.numpy()\n",
    "\n",
    "flux_methods = {}\n",
    "\n",
    "flux_methods[\"1pt_linear\"] = F_flux.tracer_flux_1pt(\n",
    "    x_,\n",
    "    u=u.numpy(),\n",
    "    dim=0,\n",
    ")"
   ]
  },
  {
   "cell_type": "code",
   "execution_count": 38,
   "id": "8192f6b6-d5ec-457a-8108-3ac644a74c62",
   "metadata": {
    "tags": []
   },
   "outputs": [
    {
     "data": {
      "text/plain": [
       "Array([[ -0.9821613 ,  -6.4642696 ,   0.36903504,  -1.1223415 ,\n",
       "         -0.57993454],\n",
       "       [ -1.2434431 ,   1.2615503 , -22.554178  , -14.298466  ,\n",
       "        -26.741076  ],\n",
       "       [ -4.055218  , -14.763467  ,   6.721692  ,  17.542566  ,\n",
       "          8.970864  ],\n",
       "       [  8.848809  ,  -1.2902595 ,  -7.175615  , -10.159798  ,\n",
       "         -5.877451  ]], dtype=float32)"
      ]
     },
     "execution_count": 38,
     "metadata": {},
     "output_type": "execute_result"
    }
   ],
   "source": [
    "flux_methods[\"1pt_linear\"]"
   ]
  },
  {
   "cell_type": "markdown",
   "id": "fa229e0e-71c1-47ea-8830-0972a978ee73",
   "metadata": {},
   "source": [
    "### 3pts"
   ]
  },
  {
   "cell_type": "code",
   "execution_count": 36,
   "id": "29532404-68bd-4d88-9c3b-38f89116a577",
   "metadata": {
    "tags": []
   },
   "outputs": [],
   "source": [
    "x_ = x.numpy()\n",
    "\n",
    "\n",
    "\n",
    "method = \"linear\"\n",
    "flux_methods[f\"3pt_{method}\"] = F_flux.tracer_flux_3pt(\n",
    "    x_, \n",
    "    u=u.numpy(),\n",
    "    dim=0, \n",
    "    method=method\n",
    ")\n",
    "\n",
    "method = \"weno\"\n",
    "flux_methods[f\"3pt_{method}\"] = F_flux.tracer_flux_3pt(\n",
    "    x_, \n",
    "    u=u.numpy(),\n",
    "    dim=0, \n",
    "    method=method\n",
    ")\n",
    "\n",
    "method = \"wenoz\"\n",
    "flux_methods[f\"3pt_{method}\"] = F_flux.tracer_flux_3pt(\n",
    "    x_, \n",
    "    u=u.numpy(),\n",
    "    dim=0, \n",
    "    method=method\n",
    ")"
   ]
  },
  {
   "cell_type": "code",
   "execution_count": 40,
   "id": "9f1c0524-3162-4616-ace5-1f2e235d22ce",
   "metadata": {
    "tags": []
   },
   "outputs": [],
   "source": [
    "np.testing.assert_array_almost_equal(flux_methods[\"3pt_linear\"], flux_methods[\"3pt_weno\"])\n",
    "np.testing.assert_array_almost_equal(flux_methods[\"3pt_linear\"], flux_methods[\"3pt_wenoz\"])"
   ]
  },
  {
   "cell_type": "code",
   "execution_count": 47,
   "id": "9f3a1a38-1255-4244-8ad6-99f758adcd5d",
   "metadata": {
    "tags": []
   },
   "outputs": [
    {
     "data": {
      "text/plain": [
       "Array([[ -0.49108064,  -3.770824  ,   0.8303288 ,  -0.7716098 ,\n",
       "         -0.41884163],\n",
       "       [ -0.9325823 ,   1.7871963 , -17.85539   , -11.548761  ,\n",
       "        -21.965883  ],\n",
       "       [ -3.3793488 , -12.456676  ,   8.122045  ,  20.916138  ,\n",
       "         10.572804  ],\n",
       "       [ 10.323611  ,  -1.1366571 ,  -6.3602037 ,  -9.055471  ,\n",
       "         -5.2652164 ]], dtype=float32)"
      ]
     },
     "execution_count": 47,
     "metadata": {},
     "output_type": "execute_result"
    }
   ],
   "source": [
    "flux_methods[\"3pt_linear\"]"
   ]
  },
  {
   "cell_type": "markdown",
   "id": "9ed7f221-ad8d-4c90-9820-7047c9284adc",
   "metadata": {},
   "source": [
    "### 5pts"
   ]
  },
  {
   "cell_type": "code",
   "execution_count": 41,
   "id": "b3c74be0-0d39-467f-98d9-f2386e6b7bb8",
   "metadata": {
    "tags": []
   },
   "outputs": [],
   "source": [
    "x_ = x.numpy()\n",
    "\n",
    "flux_methods_5pt = {}\n",
    "\n",
    "method = \"linear\"\n",
    "flux_methods[f\"5pt_{method}\"] = F_flux.tracer_flux_5pt(\n",
    "    x_, \n",
    "    u=u.numpy(),\n",
    "    dim=0, \n",
    "    method=method\n",
    ")\n",
    "\n",
    "method = \"weno\"\n",
    "flux_methods[f\"5pt_{method}\"] = F_flux.tracer_flux_5pt(\n",
    "    x_, \n",
    "    u=u.numpy(),\n",
    "    dim=0, \n",
    "    method=method\n",
    ")\n",
    "\n",
    "method = \"wenoz\"\n",
    "flux_methods[f\"5pt_{method}\"] = F_flux.tracer_flux_5pt(\n",
    "    x_, \n",
    "    u=u.numpy(),\n",
    "    dim=0, \n",
    "    method=method\n",
    ")"
   ]
  },
  {
   "cell_type": "code",
   "execution_count": 45,
   "id": "64fd2fd1-3de5-43e6-9841-4a82f1e9d3b2",
   "metadata": {
    "tags": []
   },
   "outputs": [],
   "source": [
    "# check if all the same\n",
    "np.testing.assert_array_almost_equal(flux_methods[\"3pt_linear\"], flux_methods[\"3pt_weno\"])\n",
    "np.testing.assert_array_almost_equal(flux_methods[\"3pt_linear\"], flux_methods[\"3pt_wenoz\"])"
   ]
  },
  {
   "cell_type": "code",
   "execution_count": 46,
   "id": "dd52b698-48db-4f12-b597-2d49f43a9b27",
   "metadata": {
    "tags": []
   },
   "outputs": [],
   "source": [
    "# check if same as 5pt method\n",
    "np.testing.assert_array_almost_equal(flux_methods[\"3pt_linear\"], flux_methods[\"5pt_linear\"])\n",
    "np.testing.assert_array_almost_equal(flux_methods[\"3pt_weno\"], flux_methods[\"5pt_weno\"])\n",
    "np.testing.assert_array_almost_equal(flux_methods[\"3pt_wenoz\"], flux_methods[\"5pt_wenoz\"])"
   ]
  },
  {
   "cell_type": "markdown",
   "id": "57bd75b9-4db4-4e24-867b-719592e624d2",
   "metadata": {},
   "source": [
    "### Masks"
   ]
  },
  {
   "cell_type": "markdown",
   "id": "47d1341e-ff61-4053-8fde-1b1dd8d950f5",
   "metadata": {},
   "source": [
    "### 1pt"
   ]
  },
  {
   "cell_type": "code",
   "execution_count": 49,
   "id": "68b16ccf-0d7a-406e-b142-c2cf06f3a957",
   "metadata": {
    "tags": []
   },
   "outputs": [],
   "source": [
    "x_ = x.numpy()\n",
    "\n",
    "flux_methods = {}\n",
    "\n",
    "flux_methods[\"1pt_linear\"] = F_flux.tracer_flux_1pt_mask(\n",
    "    x_,\n",
    "    u=u.numpy(),\n",
    "    dim=0,\n",
    "    u_mask1=masks.u.distbound1[1:-1]\n",
    ")"
   ]
  },
  {
   "cell_type": "code",
   "execution_count": 50,
   "id": "e592ab7d-4685-4ad1-ac1b-1dbac2cd859c",
   "metadata": {
    "tags": []
   },
   "outputs": [
    {
     "data": {
      "text/plain": [
       "Array([[ -0.        ,  -0.        ,   0.        ,  -0.        ,\n",
       "         -0.        ],\n",
       "       [ -0.        ,   1.26155031, -22.55417824, -14.29846573,\n",
       "         -0.        ],\n",
       "       [ -0.        , -14.76346684,   6.72169209,  17.5425663 ,\n",
       "          0.        ],\n",
       "       [  0.        ,  -0.        ,  -0.        ,  -0.        ,\n",
       "         -0.        ]], dtype=float64)"
      ]
     },
     "execution_count": 50,
     "metadata": {},
     "output_type": "execute_result"
    }
   ],
   "source": [
    "flux_methods[\"1pt_linear\"]"
   ]
  },
  {
   "cell_type": "markdown",
   "id": "25e8de9d-6655-4ce0-ad4d-6043e41143b6",
   "metadata": {},
   "source": [
    "### 3pts"
   ]
  },
  {
   "cell_type": "code",
   "execution_count": 53,
   "id": "fbcf6cf7-3b31-445e-89b6-0061dbf64fe2",
   "metadata": {
    "tags": []
   },
   "outputs": [],
   "source": [
    "x_ = x.numpy()\n",
    "\n",
    "\n",
    "\n",
    "method = \"linear\"\n",
    "flux_methods[f\"3pt_{method}\"] = F_flux.tracer_flux_3pt_mask(\n",
    "    x_, \n",
    "    u=u.numpy(),\n",
    "    dim=0, \n",
    "    method=method,\n",
    "    u_mask1=masks.u.distbound1[1:-1],\n",
    "    u_mask2plus=masks.u.distbound2plus[1:-1],\n",
    ")\n",
    "\n",
    "method = \"weno\"\n",
    "flux_methods[f\"3pt_{method}\"] = F_flux.tracer_flux_3pt_mask(\n",
    "    x_, \n",
    "    u=u.numpy(),\n",
    "    dim=0, \n",
    "    method=method,\n",
    "    u_mask1=masks.u.distbound1[1:-1],\n",
    "    u_mask2plus=masks.u.distbound2plus[1:-1],\n",
    ")\n",
    "\n",
    "method = \"wenoz\"\n",
    "flux_methods[f\"3pt_{method}\"] = F_flux.tracer_flux_3pt_mask(\n",
    "    x_, \n",
    "    u=u.numpy(),\n",
    "    dim=0, \n",
    "    method=method,\n",
    "    u_mask1=masks.u.distbound1[1:-1],\n",
    "    u_mask2plus=masks.u.distbound2plus[1:-1],\n",
    ")"
   ]
  },
  {
   "cell_type": "code",
   "execution_count": 54,
   "id": "236e1e13-e0d8-4b0d-9681-b622883c56a4",
   "metadata": {
    "tags": []
   },
   "outputs": [],
   "source": [
    "np.testing.assert_array_almost_equal(flux_methods[\"3pt_linear\"], flux_methods[\"3pt_weno\"])\n",
    "np.testing.assert_array_almost_equal(flux_methods[\"3pt_linear\"], flux_methods[\"3pt_wenoz\"])"
   ]
  },
  {
   "cell_type": "code",
   "execution_count": 55,
   "id": "83b3e07b-4d2e-432e-a829-0312c9847913",
   "metadata": {
    "tags": []
   },
   "outputs": [
    {
     "data": {
      "text/plain": [
       "Array([[ -0.        ,  -0.        ,   0.        ,  -0.        ,\n",
       "         -0.        ],\n",
       "       [ -0.        ,   1.26155031, -22.55417824, -14.29846573,\n",
       "         -0.        ],\n",
       "       [ -0.        , -14.76346684,   6.72169209,  17.5425663 ,\n",
       "          0.        ],\n",
       "       [  0.        ,   0.        ,   0.        ,   0.        ,\n",
       "          0.        ]], dtype=float64)"
      ]
     },
     "execution_count": 55,
     "metadata": {},
     "output_type": "execute_result"
    }
   ],
   "source": [
    "flux_methods[\"3pt_linear\"]"
   ]
  },
  {
   "cell_type": "markdown",
   "id": "a71a4862-80cb-40fb-bd40-933c9586cdca",
   "metadata": {},
   "source": [
    "### 5pts"
   ]
  },
  {
   "cell_type": "code",
   "execution_count": 56,
   "id": "d2e4f40a-8ecf-4cf5-ab54-085534acad38",
   "metadata": {
    "tags": []
   },
   "outputs": [],
   "source": [
    "x_ = x.numpy()\n",
    "\n",
    "flux_methods_5pt = {}\n",
    "\n",
    "method = \"linear\"\n",
    "flux_methods[f\"5pt_{method}\"] = F_flux.tracer_flux_5pt_mask(\n",
    "    x_, \n",
    "    u=u.numpy(),\n",
    "    dim=0, \n",
    "    method=method,\n",
    "    u_mask1=masks.u.distbound1[1:-1],\n",
    "    u_mask2=masks.u.distbound2[1:-1],\n",
    "    u_mask3plus=masks.u.distbound3plus[1:-1],\n",
    ")\n",
    "\n",
    "method = \"weno\"\n",
    "flux_methods[f\"5pt_{method}\"] = F_flux.tracer_flux_5pt_mask(\n",
    "    x_, \n",
    "    u=u.numpy(),\n",
    "    dim=0, \n",
    "    method=method,\n",
    "    u_mask1=masks.u.distbound1[1:-1],\n",
    "    u_mask2=masks.u.distbound2[1:-1],\n",
    "    u_mask3plus=masks.u.distbound3plus[1:-1],\n",
    ")\n",
    "\n",
    "method = \"wenoz\"\n",
    "flux_methods[f\"5pt_{method}\"] = F_flux.tracer_flux_5pt_mask(\n",
    "    x_, \n",
    "    u=u.numpy(),\n",
    "    dim=0, \n",
    "    method=method,\n",
    "    u_mask1=masks.u.distbound1[1:-1],\n",
    "    u_mask2=masks.u.distbound2[1:-1],\n",
    "    u_mask3plus=masks.u.distbound3plus[1:-1],\n",
    ")"
   ]
  },
  {
   "cell_type": "code",
   "execution_count": 57,
   "id": "66e354b4-d641-4ab1-8c39-89916eee968c",
   "metadata": {
    "tags": []
   },
   "outputs": [],
   "source": [
    "# check if all the same\n",
    "np.testing.assert_array_almost_equal(flux_methods[\"3pt_linear\"], flux_methods[\"3pt_weno\"])\n",
    "np.testing.assert_array_almost_equal(flux_methods[\"3pt_linear\"], flux_methods[\"3pt_wenoz\"])"
   ]
  },
  {
   "cell_type": "code",
   "execution_count": 58,
   "id": "d6c70e9c-c88f-41a3-9d35-da24a68b2240",
   "metadata": {
    "tags": []
   },
   "outputs": [],
   "source": [
    "# check if same as 5pt method\n",
    "np.testing.assert_array_almost_equal(flux_methods[\"3pt_linear\"], flux_methods[\"5pt_linear\"])\n",
    "np.testing.assert_array_almost_equal(flux_methods[\"3pt_weno\"], flux_methods[\"5pt_weno\"])\n",
    "np.testing.assert_array_almost_equal(flux_methods[\"3pt_wenoz\"], flux_methods[\"5pt_wenoz\"])"
   ]
  },
  {
   "cell_type": "code",
   "execution_count": null,
   "id": "9c37fe7f-87a6-4bbe-b136-49724f1e9e9f",
   "metadata": {},
   "outputs": [],
   "source": []
  }
 ],
 "metadata": {
  "kernelspec": {
   "display_name": "Python [conda env:jax_eo_py311]",
   "language": "python",
   "name": "conda-env-jax_eo_py311-py"
  },
  "language_info": {
   "codemirror_mode": {
    "name": "ipython",
    "version": 3
   },
   "file_extension": ".py",
   "mimetype": "text/x-python",
   "name": "python",
   "nbconvert_exporter": "python",
   "pygments_lexer": "ipython3",
   "version": "3.11.5"
  }
 },
 "nbformat": 4,
 "nbformat_minor": 5
}
