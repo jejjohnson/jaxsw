{
 "cells": [
  {
   "cell_type": "markdown",
   "id": "5454db43-eaf5-4b0a-9392-3c50c3545ea3",
   "metadata": {},
   "source": [
    "# Calculating Fluxes"
   ]
  },
  {
   "cell_type": "code",
   "execution_count": 177,
   "id": "9c210296-80a2-4cd4-bcca-1c4251fa171f",
   "metadata": {},
   "outputs": [
    {
     "name": "stdout",
     "output_type": "stream",
     "text": [
      "The autoreload extension is already loaded. To reload it, use:\n",
      "  %reload_ext autoreload\n"
     ]
    }
   ],
   "source": [
    "import autoroot\n",
    "import matplotlib.pyplot as plt\n",
    "import numpy as np\n",
    "import jax\n",
    "import jax.numpy as jnp\n",
    "import equinox as eqx\n",
    "import finitediffx as fdx\n",
    "from jaxtyping import Array, Float\n",
    "# from jaxsw._src.domain.base import Domain\n",
    "from jaxsw._src.domain.base_v2 import Domain, init_domain_1d\n",
    "import math\n",
    "import torch\n",
    "import torch.nn.functional as F\n",
    "import einops\n",
    "import seaborn as sns\n",
    "\n",
    "jax.config.update(\"jax_enable_x64\", True)\n",
    "sns.reset_defaults()\n",
    "sns.set_context(context=\"talk\", font_scale=0.7)\n",
    "\n",
    "%load_ext autoreload\n",
    "%autoreload 2"
   ]
  },
  {
   "cell_type": "code",
   "execution_count": null,
   "id": "bb73a960-a620-4a9d-81e4-bde5b2266932",
   "metadata": {},
   "outputs": [],
   "source": []
  },
  {
   "cell_type": "markdown",
   "id": "bcb54d84-e015-4208-80c9-a057cd007dde",
   "metadata": {},
   "source": [
    "Let's look at the typical material derivative\n",
    "\n",
    "$$\n",
    "\\frac{Dq}{Dt} := \\partial_t q + \\vec{u}\\cdot\\nabla q\n",
    "$$\n"
   ]
  },
  {
   "cell_type": "markdown",
   "id": "e8ad4af0-b90d-405d-aaf6-27ede1443e9e",
   "metadata": {},
   "source": [
    "\n",
    "where the velocity vector is given by\n",
    "\n",
    "$$\n",
    "\\vec{u} = \n",
    "\\left[ u, v \\right]^\\top\n",
    "$$"
   ]
  },
  {
   "cell_type": "markdown",
   "id": "580f735a-374d-42f9-83ba-e0f3b14693dd",
   "metadata": {},
   "source": [
    "In particular, we are interested in the advection term which is defined as:\n",
    "\n",
    "$$\n",
    "\\begin{aligned}\n",
    "\\text{Advection}: &= \\vec{u} \\cdot \\nabla q = u\\partial_x q + v\\partial_y q \\\\\n",
    "&= \\nabla \\cdot (\\vec{u}q) = \\partial_x (uq) + \\partial_y (vq) \n",
    "\\end{aligned}\n",
    "$$\n",
    "\n",
    "where the second equation is the conservative form."
   ]
  },
  {
   "cell_type": "markdown",
   "id": "72f184b5-d8fe-4e97-9f45-1da92514ecf2",
   "metadata": {},
   "source": [
    "The problem comes into play when we are on a staggered grid. The velocities are on one grid and the tracer is on a difference grid. The velocity\n",
    "\n",
    "$$\n",
    "\\begin{aligned}\n",
    "\\text{Variable}: \\psi &\\in\\Omega_\\psi \\\\\n",
    "\\text{Zonal Velocity}: u &\\in\\Omega_u \\\\\n",
    "\\text{Meridional Velocity}: v &\\in\\Omega_v \\\\\n",
    "\\text{Tracer}: q &\\in\\Omega_q \\\\\n",
    "\\end{aligned}\n",
    "$$\n",
    "\n"
   ]
  },
  {
   "cell_type": "markdown",
   "id": "41dc5f40-0e48-4031-b7a2-02791cc5c60d",
   "metadata": {},
   "source": [
    "$$\n",
    "\\begin{aligned}\n",
    "\\Omega_\\psi &\\in[N_x,N_y] && && [x_0,y_0] && && [x_1,y_1] \\\\ \n",
    "\\Omega_u &\\in[N_x,N_y-1] && && [x_0,y_0+\\frac{1}{2}dy] && && [x_1,y_1-\\frac{1}{2}dy]  \\\\ \n",
    "\\Omega_v &\\in[N_x-1,N_y] && && [x_0+\\frac{1}{2}dx,y_0] && && [x_1-\\frac{1}{2}dx,y_1]  \\\\ \n",
    "\\Omega_q &\\in[N_x-1,N_y-1] && && [x_0+\\frac{1}{2}dx,y_0+\\frac{1}{2}dy] && && [x_1-\\frac{1}{2}dx,y_1-\\frac{1}{2}dy] \n",
    "\\end{aligned}\n",
    "$$"
   ]
  },
  {
   "cell_type": "markdown",
   "id": "9a467f52-45d1-43e2-9f6d-c5499c13c2b0",
   "metadata": {},
   "source": [
    "\n",
    "\n",
    "\n",
    "\n",
    "\n",
    "\n",
    "So if $q$ is on a staggered domain."
   ]
  },
  {
   "cell_type": "code",
   "execution_count": 178,
   "id": "cc520ec1-a727-4788-8d8b-c0f71f8b05e1",
   "metadata": {},
   "outputs": [
    {
     "name": "stdout",
     "output_type": "stream",
     "text": [
      "torch.Size([16]) 4.0\n"
     ]
    }
   ],
   "source": [
    "\n",
    "# x = torch.arange(1, 36+1)\n",
    "num = 16\n",
    "num_sqrt = math.sqrt(num)\n",
    "assert num_sqrt.is_integer(), num_sqrt\n",
    "\n",
    "# x = torch.randn(size=(num,))\n",
    "u = torch.randn(size=(num,))\n",
    "x = torch.arange(0, num)\n",
    "print(x.shape, num_sqrt)\n",
    "x = einops.rearrange(x, \"(Nx Ny) -> Nx Ny\", Nx=int(num_sqrt), Ny=int(num_sqrt))\n",
    "u = einops.rearrange(u, \"(Nx Ny) -> Nx Ny\", Nx=int(num_sqrt), Ny=int(num_sqrt))\n",
    "\n",
    "dim = 0\n",
    "u = u[1:]\n",
    "N = x.shape[dim]\n",
    "assert u.shape[dim] == N - 1"
   ]
  },
  {
   "cell_type": "code",
   "execution_count": 179,
   "id": "3c82f72e-02dc-4b2d-8424-3f94b33a534a",
   "metadata": {
    "tags": []
   },
   "outputs": [
    {
     "data": {
      "text/plain": [
       "tensor([[ 0,  1,  2,  3],\n",
       "        [ 4,  5,  6,  7],\n",
       "        [ 8,  9, 10, 11],\n",
       "        [12, 13, 14, 15]])"
      ]
     },
     "execution_count": 179,
     "metadata": {},
     "output_type": "execute_result"
    }
   ],
   "source": [
    "x"
   ]
  },
  {
   "cell_type": "code",
   "execution_count": 194,
   "id": "253a65f2-2cf0-4d92-9a7d-c548d4e3af46",
   "metadata": {
    "tags": []
   },
   "outputs": [],
   "source": [
    "from jaxsw._src.masks import Mask"
   ]
  },
  {
   "cell_type": "code",
   "execution_count": 195,
   "id": "cfc97569-6d59-46e2-bd92-05288d903c85",
   "metadata": {
    "tags": []
   },
   "outputs": [],
   "source": [
    "mask = jnp.ones(x.shape)\n",
    "mask = mask.at[0].set(0.0)\n",
    "mask = mask.at[-1].set(0.0)\n",
    "mask = mask.at[:, 0].set(0.0)\n",
    "mask = mask.at[:, -1].set(0.0)\n",
    "\n",
    "masks = Mask.init_mask(mask, variable=\"q\")"
   ]
  },
  {
   "cell_type": "code",
   "execution_count": 196,
   "id": "163edb22-1b81-4c2d-a2b8-a72706f5d333",
   "metadata": {
    "jupyter": {
     "source_hidden": true
    },
    "tags": []
   },
   "outputs": [],
   "source": [
    "def linear2(qm, qp):\n",
    "    \"\"\"\n",
    "    2-points linear reconstruction:\n",
    "\n",
    "    qm--x--qp\n",
    "\n",
    "    \"\"\"\n",
    "    return 0.5 * (qm + qp)\n",
    "    \n",
    "def linear3_left(qm, q0, qp):\n",
    "    \"\"\"\n",
    "    3-points linear left-biased stencil reconstruction:\n",
    "\n",
    "    qm-----q0--x--qp\n",
    "\n",
    "    \"\"\"\n",
    "    return -1./6.*qm + 5./6.*q0 + 1./3.*qp\n",
    "\n",
    "def linear3_right(qm, q0, qp):\n",
    "    \"\"\"\n",
    "    3-points linear left-biased stencil reconstruction:\n",
    "\n",
    "    qp--x--q0-----qm\n",
    "\n",
    "    \"\"\"\n",
    "    return linear3_left(qp, q0, qm)\n",
    "\n",
    "def linear4(qmm, qm, qp, qpp):\n",
    "    \"\"\"\n",
    "    4-points linear reconstruction:\n",
    "\n",
    "    qmm-----qm--x--qp-----qpp\n",
    "\n",
    "    \"\"\"\n",
    "    return -1./12.*qmm + 7./12.*qm + 7./12.*qp - 1./12.*qpp\n",
    "\n",
    "def weno3z(qm, q0, qp):\n",
    "    \"\"\"\n",
    "    3-points non-linear left-biased stencil reconstruction:\n",
    "\n",
    "    qm-----q0--x--qp\n",
    "\n",
    "    An improved weighted essentially non-oscillatory scheme for hyperbolic\n",
    "    conservation laws, Borges et al, Journal of Computational Physics 227 (2008).\n",
    "    \"\"\"\n",
    "    eps = 1e-14\n",
    "\n",
    "    qi1 = -1./2.*qm + 3./2.*q0\n",
    "    qi2 = 1./2.*(q0 + qp)\n",
    "\n",
    "    beta1 = (q0-qm)**2\n",
    "    beta2 = (qp-q0)**2\n",
    "    tau = torch.abs(beta2-beta1)\n",
    "\n",
    "    g1, g2 = 1./3., 2./3.\n",
    "    w1 = g1 * (1. + tau / (beta1 + eps))\n",
    "    w2 = g2 * (1. + tau / (beta2 + eps))\n",
    "\n",
    "    qi_weno3 = (w1*qi1 + w2*qi2) / (w1 + w2)\n",
    "\n",
    "    return qi_weno3\n",
    "\n",
    "\n",
    "def flux_3pts(q, u, dim):\n",
    "    \"\"\"\n",
    "    Flux computation for staggerded variables q and u, with solid boundaries.\n",
    "    Upwind-biased stencil:\n",
    "      - 3 points inside domain.\n",
    "      - 1 point near boundaries.\n",
    "\n",
    "    Args:\n",
    "        q: tracer field to interpolate, torch.Tensor, shape[dim] = n\n",
    "        u: transport velocity, torch.Tensor, shape[dim] = n-1\n",
    "        dim: dimension along which computations are done\n",
    "\n",
    "    Returns:\n",
    "        flux: tracer flux computed on u points, torch.Tensor, shape[dim] = n-1\n",
    "    \"\"\"\n",
    "    n = q.shape[dim]\n",
    "\n",
    "    # q-interpolation: 3-points inside domain\n",
    "\n",
    "    qm, q0, qp = q.narrow(dim, 0, n-2), q.narrow(dim, 1, n-2), q.narrow(dim, 2, n-2)\n",
    "\n",
    "    qi_left_in = linear3_left(qm, q0, qp)\n",
    "    qi_right_in = linear3_left(qp, q0, qm)\n",
    "\n",
    "    # q-interpolation: 2-points on boundaries\n",
    "    qi_0 = linear2(q.narrow(dim, 0, 1), q.narrow(dim, 1, 1))\n",
    "    qi_m1 = linear2(q.narrow(dim, -2, 1), q.narrow(dim, -1, 1))\n",
    "\n",
    "    qi_left = torch.cat([\n",
    "        qi_0, qi_left_in.narrow(dim, 0, n-3), qi_m1], dim=dim)\n",
    "    qi_right = torch.cat([\n",
    "        qi_0, qi_right_in.narrow(dim, 1, n-3), qi_m1], dim=dim)\n",
    "\n",
    "    # positive and negative parts of velocity\n",
    "    u_pos = F.relu(u)\n",
    "    u_neg = u - u_pos\n",
    "\n",
    "    # upwind flux computation\n",
    "    flux = u_pos * qi_left + u_neg * qi_right\n",
    "    return qi_left, qi_right, flux\n"
   ]
  },
  {
   "cell_type": "markdown",
   "id": "d8d58f74-6e3d-4acd-91df-bcfc184874a0",
   "metadata": {},
   "source": [
    "[0, 1, 2, 3, 4, 5, 6]\n",
    "Interior\n",
    "- [0, 1, 2, 3, 4]\n",
    "- [1, 2, 3, 4, 5]\n",
    "- [2, 3, 4, 5, 6]\n",
    "--> [1 2 3 4 5]\n",
    "Left Bd\n",
    "- [0 1]\n",
    "- [1 2]\n",
    "--> [0.5 1.5]\n",
    "right bd\n",
    "- [5 6]\n",
    "- [4 5]\n",
    "--> [4.5, 5.5]\n",
    "\n"
   ]
  },
  {
   "cell_type": "code",
   "execution_count": 197,
   "id": "e1425bbd-5572-4c99-9462-fd13ea94d356",
   "metadata": {
    "tags": []
   },
   "outputs": [],
   "source": [
    "\n",
    "\n",
    "def flux_3pts_mask(q, u, dim, mask_u_d1, mask_u_d2plus):\n",
    "    n = q.shape[dim]\n",
    "    pad1 = () if dim == -1 else (0,0)\n",
    "    pad2 = (0,0) if dim == -1 else ()\n",
    "    print(pad1, pad2)\n",
    "    \n",
    "    qm, q0, qp = q.narrow(dim, 0, n-2), q.narrow(dim, 1, n-2), \\\n",
    "                 q.narrow(dim, 2, n-2)\n",
    "    \n",
    "    print(\"LEFT!\")\n",
    "    qi3_left = weno3z(qm, q0, qp)\n",
    "    print(qi3_left.shape)\n",
    "    print(pad1+(1,0)+pad2)\n",
    "    qi3_left = F.pad(qi3_left, pad1+(1,0)+pad2)\n",
    "    print(qi3_left)\n",
    "    print(qi3_left.shape)\n",
    "    # ===============\n",
    "    print(\"RIGHT!\")\n",
    "    qi3_right = weno3z(qp, q0, qm)\n",
    "    print(qi3_right.shape)\n",
    "    print(pad1+(0,1)+pad2)\n",
    "    qi3_right = F.pad(qi3_right, pad1+(0,1)+pad2)\n",
    "    print(qi3_right.shape)\n",
    "    # qi2 = linear2(q.narrow(dim, 0, n-1), q.narrow(dim, 1, n-1))\n",
    "    \n",
    "    \n",
    "\n",
    "    u_pos = F.relu(u)\n",
    "    u_neg = u - u_pos\n",
    "    # NORMAL FLUX\n",
    "    a = (u_pos*q.narrow(dim, 0, n-1) + u_neg*q.narrow(dim, 1, n-1))\n",
    "    \n",
    "    print(a)\n",
    "          \n",
    "    # FANCY FLUX\n",
    "    b = (u_pos*qi3_left + u_neg*qi3_right)\n",
    "    \n",
    "    print(b)\n",
    "    \n",
    "    print(\"FLUXXX!\")\n",
    "    print(a.shape)\n",
    "    print(b.shape)\n",
    "    flux = mask_u_d1 * a + mask_u_d2plus * b\n",
    "\n",
    "    return qi3_left, qi3_right, flux"
   ]
  },
  {
   "cell_type": "code",
   "execution_count": 184,
   "id": "1701e184-7659-4d90-8d2b-91b572222167",
   "metadata": {
    "tags": []
   },
   "outputs": [
    {
     "data": {
      "text/plain": [
       "(torch.Size([4, 4]), torch.Size([3, 4]), (4, 4), (3, 4))"
      ]
     },
     "execution_count": 184,
     "metadata": {},
     "output_type": "execute_result"
    }
   ],
   "source": [
    "x.shape, u.shape, mask.shape, masks.u_distbound1[1:-1].shape"
   ]
  },
  {
   "cell_type": "code",
   "execution_count": 198,
   "id": "493728cf-b9b6-4a40-bfd1-a35db6194d3e",
   "metadata": {},
   "outputs": [
    {
     "name": "stdout",
     "output_type": "stream",
     "text": [
      "(0, 0) ()\n",
      "LEFT!\n",
      "torch.Size([1, 1, 2, 4])\n",
      "(0, 0, 1, 0)\n",
      "tensor([[[[ 0.0000,  0.0000,  0.0000,  0.0000],\n",
      "          [ 6.0000,  7.0000,  8.0000,  9.0000],\n",
      "          [10.0000, 11.0000, 12.0000, 13.0000]]]])\n",
      "torch.Size([1, 1, 3, 4])\n",
      "RIGHT!\n",
      "torch.Size([1, 1, 2, 4])\n",
      "(0, 0, 0, 1)\n",
      "torch.Size([1, 1, 3, 4])\n",
      "tensor([[[[ -1.1496,   1.5369,   0.9891,  -8.9034],\n",
      "          [ -2.2775,   0.1368,   0.6865,   1.4744],\n",
      "          [-23.3059,  -2.1430,  -7.2824, -22.2555]]]])\n",
      "tensor([[[[-0.5748,  0.0000,  0.0000, -6.3596],\n",
      "          [-1.7082,  0.1915,  0.9154,  1.8956],\n",
      "          [ 0.0000,  0.0000,  0.0000,  0.0000]]]])\n",
      "FLUXXX!\n",
      "torch.Size([1, 1, 3, 4])\n",
      "torch.Size([1, 1, 3, 4])\n"
     ]
    }
   ],
   "source": [
    "# qi_left_torch, qi_right_torch, flux = flux_3pts(x, u, 0)\n",
    "qi_left_torch, qi_right_torch, flux = flux_3pts_mask(\n",
    "    x[None, None, ...], u[None, None, ...], -2, \n",
    "    torch.Tensor(np.asarray(masks.u.distbound1[1:-1][None, None, ...])),\n",
    "    torch.Tensor(np.asarray(masks.u.distbound2plus[1:-1][None, None, ...]))\n",
    ")"
   ]
  },
  {
   "cell_type": "code",
   "execution_count": 199,
   "id": "88ed7d12-fab3-4f9b-beb9-d2fdf75c25cd",
   "metadata": {
    "tags": []
   },
   "outputs": [
    {
     "data": {
      "text/plain": [
       "tensor([[[[-0.0000, 0.0000, 0.0000, -0.0000],\n",
       "          [-0.0000, 0.1368, 0.6865, 0.0000],\n",
       "          [0.0000, 0.0000, 0.0000, 0.0000]]]])"
      ]
     },
     "execution_count": 199,
     "metadata": {},
     "output_type": "execute_result"
    }
   ],
   "source": [
    "flux"
   ]
  },
  {
   "cell_type": "code",
   "execution_count": 201,
   "id": "84651163-9750-4347-afb3-c2d8b825ffb7",
   "metadata": {
    "tags": []
   },
   "outputs": [
    {
     "data": {
      "text/plain": [
       "(torch.Size([4, 4]), torch.Size([4, 3]), (4, 4), (4, 3))"
      ]
     },
     "execution_count": 201,
     "metadata": {},
     "output_type": "execute_result"
    }
   ],
   "source": [
    "x.shape, u.T.shape, mask.shape, masks.v.distbound1[:, 1:-1].shape"
   ]
  },
  {
   "cell_type": "code",
   "execution_count": 218,
   "id": "0774e1eb-e7fb-4202-a806-f8eddd685b1a",
   "metadata": {
    "tags": []
   },
   "outputs": [
    {
     "name": "stdout",
     "output_type": "stream",
     "text": [
      "() (0, 0)\n",
      "LEFT!\n",
      "torch.Size([1, 1, 4, 2])\n",
      "(1, 0, 0, 0)\n",
      "tensor([[[[ 0.0000,  1.5000,  2.5000],\n",
      "          [ 0.0000,  5.5000,  6.5000],\n",
      "          [ 0.0000,  9.5000, 10.5000],\n",
      "          [ 0.0000, 13.5000, 14.5000]]]])\n",
      "torch.Size([1, 1, 4, 3])\n",
      "RIGHT!\n",
      "torch.Size([1, 1, 4, 2])\n",
      "(0, 1, 0, 0)\n",
      "torch.Size([1, 1, 4, 3])\n",
      "tensor([[[[ -0.2874,  -0.5694,  -5.8265],\n",
      "          [  6.1476,   0.1368,  -1.1539],\n",
      "          [  3.9564,   1.0298,  -5.7219],\n",
      "          [-16.5349,   2.7381, -22.2555]]]])\n",
      "tensor([[[[ -0.1437,  -0.4270,   0.0000],\n",
      "          [  0.0000,   0.1505,   0.0000],\n",
      "          [  0.0000,   1.0870,   0.0000],\n",
      "          [-15.8990,   2.8434,   0.0000]]]])\n",
      "FLUXXX!\n",
      "torch.Size([1, 1, 4, 3])\n",
      "torch.Size([1, 1, 4, 3])\n"
     ]
    }
   ],
   "source": [
    "# qi_left_torch, qi_right_torch, flux = flux_3pts(x, u, 0)\n",
    "qi_left_torch, qi_right_torch, flux = flux_3pts_mask(\n",
    "    x[None, None, ...], u.T[None, None, ...], -1, \n",
    "    torch.Tensor(np.asarray(masks.v.distbound1[None, None, :, 1:-1])),\n",
    "    torch.Tensor(np.asarray(masks.v.distbound2plus[None, None, :, 1:-1]))\n",
    ")"
   ]
  },
  {
   "cell_type": "code",
   "execution_count": 219,
   "id": "eba9328b-34ff-4ef0-94fc-5811b1158a1e",
   "metadata": {
    "tags": []
   },
   "outputs": [
    {
     "data": {
      "text/plain": [
       "tensor([[[[-0.0000, -0.0000, 0.0000],\n",
       "          [0.0000, 0.1368, 0.0000],\n",
       "          [0.0000, 1.0298, 0.0000],\n",
       "          [-0.0000, 0.0000, 0.0000]]]])"
      ]
     },
     "execution_count": 219,
     "metadata": {},
     "output_type": "execute_result"
    }
   ],
   "source": [
    "flux"
   ]
  },
  {
   "cell_type": "code",
   "execution_count": 204,
   "id": "77d9f071-acfa-4ab3-8b72-8f723b9ab8f2",
   "metadata": {},
   "outputs": [],
   "source": [
    "import jax.numpy as jnp\n",
    "import kernex as kex\n",
    "import jax\n",
    "import numpy as np"
   ]
  },
  {
   "cell_type": "code",
   "execution_count": 205,
   "id": "cee784fe-a36e-466c-930c-7378da6057fe",
   "metadata": {},
   "outputs": [],
   "source": [
    "from jaxsw._src.operators.functional.interp import weno as interp_weno\n",
    "from jaxsw._src.operators.functional.interp import linear as interp_linear\n",
    "from jaxsw._src.operators.functional.interp import flux as F_flux\n",
    "\n"
   ]
  },
  {
   "cell_type": "markdown",
   "id": "e2387168-b53c-44b3-a80b-8a5ba12cca49",
   "metadata": {},
   "source": [
    "* interp_3pt_weno\n",
    "* interp_1pt\n",
    "* u plusmins\n",
    "* flux + interp_1pt + mask\n",
    "* flux + interp3pt\n",
    "* sum fluxes"
   ]
  },
  {
   "cell_type": "code",
   "execution_count": 207,
   "id": "5fb684fb-084a-40da-9c5d-27ba7e723259",
   "metadata": {
    "tags": []
   },
   "outputs": [
    {
     "data": {
      "text/plain": [
       "Array([[-0.        ,  0.        ,  0.        , -0.        ],\n",
       "       [-0.        ,  0.13679956,  0.68652427,  0.        ],\n",
       "       [ 0.        ,  0.        ,  0.        ,  0.        ]],      dtype=float64)"
      ]
     },
     "execution_count": 207,
     "metadata": {},
     "output_type": "execute_result"
    }
   ],
   "source": [
    "x_ = x.numpy()\n",
    "\n",
    "q_flux_on_u = F_flux.tracer_flux_3pt_mask(\n",
    "    x_, \n",
    "    u=u.numpy(),\n",
    "    dim=0, \n",
    "    u_mask1=masks.u.distbound1[1:-1],\n",
    "    u_mask2plus=masks.u.distbound2plus[1:-1]\n",
    ")\n",
    "q_flux_on_u"
   ]
  },
  {
   "cell_type": "code",
   "execution_count": 220,
   "id": "3a95d2b7-680d-4d12-aa7b-7d5e623ac2d3",
   "metadata": {
    "tags": []
   },
   "outputs": [
    {
     "data": {
      "text/plain": [
       "Array([[-0.        , -0.        ,  0.        ],\n",
       "       [ 0.        ,  0.13679956,  0.        ],\n",
       "       [ 0.        ,  1.02978635,  0.        ],\n",
       "       [-0.        ,  0.        ,  0.        ]], dtype=float64)"
      ]
     },
     "execution_count": 220,
     "metadata": {},
     "output_type": "execute_result"
    }
   ],
   "source": [
    "q_flux_on_v = F_flux.tracer_flux_3pt_mask(\n",
    "    x_, \n",
    "    u=u.numpy().T,\n",
    "    dim=1, \n",
    "    u_mask1=masks.v.distbound1[:, 1:-1],\n",
    "    u_mask2plus=masks.v.distbound2plus[:, 1:-1], \n",
    "    method=\"linear\"\n",
    ")\n",
    "q_flux_on_v"
   ]
  },
  {
   "cell_type": "code",
   "execution_count": null,
   "id": "630e9529-a838-4c4e-8cca-3234bbb6424c",
   "metadata": {},
   "outputs": [],
   "source": []
  }
 ],
 "metadata": {
  "kernelspec": {
   "display_name": "Python [conda env:jax_eo_py311]",
   "language": "python",
   "name": "conda-env-jax_eo_py311-py"
  },
  "language_info": {
   "codemirror_mode": {
    "name": "ipython",
    "version": 3
   },
   "file_extension": ".py",
   "mimetype": "text/x-python",
   "name": "python",
   "nbconvert_exporter": "python",
   "pygments_lexer": "ipython3",
   "version": "3.11.5"
  }
 },
 "nbformat": 4,
 "nbformat_minor": 5
}
