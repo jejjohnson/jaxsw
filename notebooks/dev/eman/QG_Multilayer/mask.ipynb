{
 "cells": [
  {
   "cell_type": "markdown",
   "id": "7c93a94f-0677-4676-a052-e9eaa5d048e4",
   "metadata": {},
   "source": [
    "# Masking"
   ]
  },
  {
   "cell_type": "code",
   "execution_count": 1,
   "id": "1f779b21-27c6-4e27-b6c5-c4ea5d07f3fd",
   "metadata": {
    "tags": []
   },
   "outputs": [],
   "source": [
    "import autoroot\n",
    "import typing as tp\n",
    "import jax\n",
    "import jax.numpy as jnp\n",
    "import numpy as np\n",
    "import equinox as eqx\n",
    "import kernex as kex\n",
    "import finitediffx as fdx\n",
    "import diffrax as dfx\n",
    "import xarray as xr\n",
    "import matplotlib.pyplot as plt\n",
    "import seaborn as sns\n",
    "from tqdm.notebook import tqdm, trange\n",
    "import jax.random as jrandom\n",
    "from jaxtyping import Float, Array, PyTree, ArrayLike\n",
    "import wandb\n",
    "import jaxsw._src.domain.base_v2 as Domain\n",
    "from jaxsw._src.models.pde import DynamicalSystem\n",
    "from jaxsw._src.domain.time import TimeDomain\n",
    "from loguru import logger\n",
    "import kernex as kex\n",
    "from jaxsw._src.masks import Mask\n",
    "\n",
    "sns.reset_defaults()\n",
    "sns.set_context(context=\"talk\", font_scale=0.7)\n",
    "jax.config.update(\"jax_enable_x64\", True)\n",
    "\n",
    "%matplotlib inline\n",
    "%load_ext autoreload\n",
    "%autoreload 2"
   ]
  },
  {
   "cell_type": "code",
   "execution_count": 2,
   "id": "6092ebca-e84e-4895-a48d-2759d4519b54",
   "metadata": {
    "tags": []
   },
   "outputs": [],
   "source": [
    "def print_debug_quantity(quantity, name=\"\"):\n",
    "    size = quantity.shape\n",
    "    min_ = np.min(quantity)\n",
    "    max_ = np.max(quantity)\n",
    "    mean_ = np.mean(quantity)\n",
    "    median_ = np.mean(quantity)\n",
    "    logger.debug(\n",
    "        f\"{name}: {size} | {min_:.6e} | {mean_:.6e} | {median_:.6e} | {max_:.6e}\" +\n",
    "        f\" {quantity.dtype}\"\n",
    "    )"
   ]
  },
  {
   "cell_type": "markdown",
   "id": "cb172210-a62f-4469-9aee-47f931d6b875",
   "metadata": {},
   "source": [
    "```python\n",
    "mask: GeoDataFrame = ...\n",
    "mask: Array = polygon_to_array(mask)\n",
    "\n",
    "mask_q\n",
    "\n",
    "```"
   ]
  },
  {
   "cell_type": "markdown",
   "id": "1930817d-db03-4dd6-a79b-c53a1e8d968b",
   "metadata": {},
   "source": [
    "psi --- q --- psi --- q --- psi --- q --- psi\n",
    "land          water         water        land\n",
    "false.        true.         true.        false\n",
    "       true          true.         true"
   ]
  },
  {
   "cell_type": "markdown",
   "id": "96b31f2b-bd1d-48ec-befd-d8722d447ee8",
   "metadata": {},
   "source": [
    "psi --- q --- psi --- q --- psi --- q --- psi\n",
    "land          water         water        land\n",
    "false.        true.         true.        false\n",
    "       true          true.         true"
   ]
  },
  {
   "cell_type": "markdown",
   "id": "5c1a695b-7878-4ff2-b9ce-b538fc2d22bb",
   "metadata": {},
   "source": [
    "## Initialization From Psi"
   ]
  },
  {
   "cell_type": "markdown",
   "id": "25fd0441-a4fd-4a6b-b588-f3ae1115e70e",
   "metadata": {},
   "source": [
    "**Examples**:\n",
    "\n",
    "* Rectangular Domain\n",
    "* Channel Flow\n",
    "* Island\n",
    "* Mediterranean\n",
    "\n",
    "\n",
    "**Caveats**:\n",
    "\n",
    "* Single Pixel Island..."
   ]
  },
  {
   "cell_type": "code",
   "execution_count": 14,
   "id": "b1d5caad-8bd8-4dbd-afcb-563bc8c475ab",
   "metadata": {
    "tags": []
   },
   "outputs": [],
   "source": [
    "\n",
    "\n",
    "def init_mask_psi_rect(n: int=10):\n",
    "    mask = jnp.ones((n,n))\n",
    "    mask = mask.at[0].set(0.0)\n",
    "    mask = mask.at[-1].set(0.0)\n",
    "    mask = mask.at[:,0].set(0.0)\n",
    "    mask = mask.at[:,-1].set(0.0)\n",
    "    masks = Mask.init_mask(mask, \"psi\")\n",
    "    return masks\n",
    "\n",
    "def init_mask_psi_island(n: int=10):\n",
    "    mask = jnp.ones((n,n))\n",
    "    mask = mask.at[0].set(0.0)\n",
    "    mask = mask.at[-1].set(0.0)\n",
    "    mask = mask.at[:,0].set(0.0)\n",
    "    mask = mask.at[:,-1].set(0.0)\n",
    "    mask = mask.at[4:-4,4:-4].set(0.0)\n",
    "    masks = Mask.init_mask(mask, \"psi\")\n",
    "    return masks\n",
    "\n",
    "def init_mask_psi_channel(n: int=10):\n",
    "    mask = jnp.ones((n,3*n//4))\n",
    "    mask = mask.at[:,0].set(0.0)\n",
    "    mask = mask.at[:,-1].set(0.0)\n",
    "    masks = Mask.init_mask(mask, \"psi\")\n",
    "    return masks\n",
    "\n",
    "def init_mask_q_realish(n: int=10):\n",
    "    mask = jnp.ones((n,n))\n",
    "    mask = mask.at[1,0].set(0.0)\n",
    "    mask = mask.at[n-1,2].set(0.0)\n",
    "    mask = mask.at[0,n-2].set(0.0)\n",
    "    mask = mask.at[1,n-2].set(0.0)\n",
    "    mask = mask.at[0,n-1].set(0.0)\n",
    "    mask = mask.at[1,n-1].set(0.0)\n",
    "    mask = mask.at[2,n-1].set(0.0)\n",
    "    masks = Mask.init_mask(mask, \"q\")\n",
    "    return masks"
   ]
  },
  {
   "cell_type": "code",
   "execution_count": 15,
   "id": "c19bb559-f88c-4d8a-b8fe-49e99a2e7fb4",
   "metadata": {
    "tags": []
   },
   "outputs": [],
   "source": [
    "n = 6\n",
    "masks = init_mask_q_realish(n)\n",
    "\n",
    "# n = 10\n",
    "# masks = init_mask_psi_island(n)\n",
    "\n",
    "\n",
    "\n"
   ]
  },
  {
   "cell_type": "code",
   "execution_count": 16,
   "id": "e3d6d8fa-f80c-4d4b-b3a0-f64477100273",
   "metadata": {
    "tags": []
   },
   "outputs": [
    {
     "data": {
      "text/plain": [
       "Array([[0., 0., 0., 0., 0., 0., 0.],\n",
       "       [0., 0., 1., 1., 0., 0., 0.],\n",
       "       [0., 0., 1., 1., 0., 0., 0.],\n",
       "       [0., 1., 1., 1., 1., 0., 0.],\n",
       "       [0., 1., 1., 1., 1., 1., 0.],\n",
       "       [0., 1., 0., 0., 1., 1., 0.],\n",
       "       [0., 0., 0., 0., 0., 0., 0.]], dtype=float64)"
      ]
     },
     "execution_count": 16,
     "metadata": {},
     "output_type": "execute_result"
    }
   ],
   "source": [
    "masks.psi.values"
   ]
  },
  {
   "cell_type": "markdown",
   "id": "d106d355-02af-4ebe-bdd5-9dbe9435d3ad",
   "metadata": {},
   "source": [
    "## Visualization"
   ]
  },
  {
   "cell_type": "markdown",
   "id": "b3333bd4-a6f5-4197-87b3-64db24eb516f",
   "metadata": {},
   "source": [
    "### StreamFunction"
   ]
  },
  {
   "cell_type": "code",
   "execution_count": 17,
   "id": "f2d37281-e1a7-4a34-aea4-43fce985033b",
   "metadata": {
    "tags": []
   },
   "outputs": [
    {
     "data": {
      "image/png": "[encoded data removed]",
      "text/plain": [
       "<Figure size 700x700 with 1 Axes>"
      ]
     },
     "metadata": {},
     "output_type": "display_data"
    }
   ],
   "source": [
    "plt.ion()\n",
    "fig,ax =plt.subplots(figsize=(7,7))\n",
    "ax.imshow(masks.q.values.T, origin='lower', cmap='Greys_r', interpolation=None, vmin=-1, label=\"mask\")\n",
    "ax.set_xticks(np.arange(-0.5,n+0.5)), ax.set_yticks(np.arange(-0.5,n+0.5))\n",
    "\n",
    "s = 90\n",
    "s2 = 130\n",
    "\n",
    "# PLOT STREAM FUNCTION\n",
    "psi_xmin, psi_ymin = -.5, -.5\n",
    "mask_psi_ids = jnp.argwhere(masks.psi.values.squeeze())\n",
    "ax.scatter(psi_xmin+mask_psi_ids[:,0], psi_ymin+mask_psi_ids[:,1],\n",
    "          s=s, marker='s', label='$\\\\psi$', color='black')\n",
    "\n",
    "# PLOT BOUNDARIES\n",
    "ax.scatter(psi_xmin+1+masks.psi.irrbound_xids,psi_ymin+1+masks.psi.irrbound_yids,\n",
    "           s=s, marker='x', label='$\\mathcal{I}$', color='purple')\n",
    "\n",
    "\n",
    "\n",
    "ax.grid()\n",
    "plt.legend(loc='upper left')\n",
    "plt.setp(ax.get_xticklabels(), visible=False)\n",
    "plt.setp(ax.get_yticklabels(), visible=False)\n",
    "plt.tight_layout()\n",
    "plt.show()"
   ]
  },
  {
   "cell_type": "markdown",
   "id": "77900d6b-5ef9-45b8-aa9a-9f806163dcf9",
   "metadata": {},
   "source": [
    "### Potential Vorticity"
   ]
  },
  {
   "cell_type": "code",
   "execution_count": 18,
   "id": "f9af66ea-271f-4c5f-ad2b-e493fd13e5c5",
   "metadata": {
    "tags": []
   },
   "outputs": [
    {
     "data": {
      "image/png": "[encoded data removed]",
      "text/plain": [
       "<Figure size 700x700 with 1 Axes>"
      ]
     },
     "metadata": {},
     "output_type": "display_data"
    }
   ],
   "source": [
    "plt.ion()\n",
    "fig,ax =plt.subplots(figsize=(7,7))\n",
    "ax.imshow(masks.q.values.T, origin='lower', cmap='Greys_r', interpolation=None, vmin=-1, label=\"mask\")\n",
    "ax.set_xticks(np.arange(-.5,n+.5)), ax.set_yticks(np.arange(-.5,n+.5))\n",
    "\n",
    "s = 90\n",
    "s2 = 130\n",
    "\n",
    "# # PLOT STREAM FUNCTION\n",
    "# psi_xmin, psi_ymin = -.5, -.5\n",
    "# mask_psi_ids = jnp.argwhere(masks.psi.squeeze())\n",
    "# ax.scatter(psi_xmin+mask_psi_ids[:,0], psi_ymin+mask_psi_ids[:,1],\n",
    "#           s=s, marker='s', label='$\\\\psi$', color='black')\n",
    "\n",
    "# PLOT BOUNDARIES\n",
    "ax.scatter(psi_xmin+1+masks.psi.irrbound_xids,psi_ymin+1+masks.psi.irrbound_yids,\n",
    "           s=s, marker='x', label='$\\mathcal{I}$', color='purple')\n",
    "\n",
    "# PLOT POTENTIAL VORTICITY\n",
    "s = 90\n",
    "s2 = 130\n",
    "q_xmin, q_ymin = 0, 0\n",
    "mask_q_ids = jnp.argwhere(masks.q.values.squeeze())\n",
    "ax.scatter(q_xmin+mask_q_ids[:,0], q_ymin+mask_q_ids[:,1],\n",
    "            s=s, marker='o', label='q', color='mediumseagreen')\n",
    "\n",
    "\n",
    "ax.grid()\n",
    "plt.legend(loc='upper left')\n",
    "plt.setp(ax.get_xticklabels(), visible=False)\n",
    "plt.setp(ax.get_yticklabels(), visible=False)\n",
    "plt.tight_layout()\n",
    "plt.show()"
   ]
  },
  {
   "cell_type": "markdown",
   "id": "94777fd7-fa8e-4944-8b63-14bd21c0ba96",
   "metadata": {},
   "source": [
    "### Zonal Velocity"
   ]
  },
  {
   "cell_type": "code",
   "execution_count": 19,
   "id": "49cfa9c2-0c2c-49c5-9c57-03d414c184e8",
   "metadata": {
    "tags": []
   },
   "outputs": [
    {
     "data": {
      "image/png": "[encoded data removed]",
      "text/plain": [
       "<Figure size 700x700 with 1 Axes>"
      ]
     },
     "metadata": {},
     "output_type": "display_data"
    }
   ],
   "source": [
    "plt.ion()\n",
    "fig,ax =plt.subplots(figsize=(7,7))\n",
    "ax.imshow(masks.q.values.T, origin='lower', cmap='Greys_r', interpolation=None, vmin=-1, label=\"mask\")\n",
    "ax.set_xticks(np.arange(-.5,n+.5)), ax.set_yticks(np.arange(-.5,n+.5))\n",
    "\n",
    "s = 90\n",
    "s2 = 130\n",
    "\n",
    "\n",
    "# PLOT BOUNDARIES\n",
    "ax.scatter(psi_xmin+1+masks.psi.irrbound_xids,psi_ymin+1+masks.psi.irrbound_yids,\n",
    "           s=s, marker='x', label='$\\mathcal{I}$', color='purple')\n",
    "\n",
    "# # PLOT STREAM FUNCTION\n",
    "# psi_xmin, psi_ymin = -.5, -.5\n",
    "# mask_psi_ids = jnp.argwhere(masks.psi.squeeze())\n",
    "# ax.scatter(psi_xmin+mask_psi_ids[:,0], psi_ymin+mask_psi_ids[:,1],\n",
    "#           s=s, marker='s', label='$\\\\psi$', color='black')\n",
    "\n",
    "# # PLOT POTENTIAL VORTICITY\n",
    "# s = 90\n",
    "# s2 = 130\n",
    "# q_xmin, q_ymin = 0, 0\n",
    "# mask_q_ids = jnp.argwhere(masks.q.squeeze())\n",
    "# ax.scatter(q_xmin+mask_q_ids[:,0], q_ymin+mask_q_ids[:,1],\n",
    "#             s=s, marker='o', label='q', color='tab:red')\n",
    "\n",
    "# # PLOT POTENTIAL VORTICITY\n",
    "# s = 90\n",
    "# s2 = 130\n",
    "# q_xmin, q_ymin = 0, 0\n",
    "# mask_q_ids = jnp.argwhere(masks.q.squeeze())\n",
    "# ax.scatter(q_xmin+mask_q_ids[:,0], q_ymin+mask_q_ids[:,1],\n",
    "#             s=s, marker='o', label='q', color='tab:red')\n",
    "\n",
    "\n",
    "# PLOT ZONAL VELOCITY\n",
    "u_xmin, u_ymin = -.5, 0\n",
    "mask_u_ids = jnp.argwhere(masks.u.distbound1.squeeze())\n",
    "ax.scatter(u_xmin+mask_u_ids[:,0], u_ymin+mask_u_ids[:,1],\n",
    "            s=s2, marker='>', label='u ic2', color='lightblue')\n",
    "mask_u_ids = jnp.argwhere(masks.u.distbound2.squeeze())\n",
    "ax.scatter(u_xmin+mask_u_ids[:,0], u_ymin+mask_u_ids[:,1],\n",
    "            s=s2, marker='>', label='u iup3', color='cornflowerblue')\n",
    "mask_u_ids = jnp.argwhere(masks.u.distbound3plus.squeeze())\n",
    "ax.scatter(u_xmin+mask_u_ids[:,0], u_ymin+mask_u_ids[:,1],\n",
    "            s=s2, marker='>', label='u iup5', color='navy')\n",
    "\n",
    "\n",
    "ax.grid()\n",
    "plt.legend(loc='upper left')\n",
    "plt.setp(ax.get_xticklabels(), visible=False)\n",
    "plt.setp(ax.get_yticklabels(), visible=False)\n",
    "plt.tight_layout()\n",
    "plt.show()"
   ]
  },
  {
   "cell_type": "markdown",
   "id": "89e1c401-6e32-4b8a-be24-993c631aedee",
   "metadata": {},
   "source": [
    "### Meridional Velocity"
   ]
  },
  {
   "cell_type": "code",
   "execution_count": 20,
   "id": "d9008aeb-28ba-48e9-8235-2ef86b98878e",
   "metadata": {
    "tags": []
   },
   "outputs": [
    {
     "data": {
      "image/png": "[encoded data removed]",
      "text/plain": [
       "<Figure size 700x700 with 1 Axes>"
      ]
     },
     "metadata": {},
     "output_type": "display_data"
    }
   ],
   "source": [
    "plt.ion()\n",
    "fig,ax =plt.subplots(figsize=(7,7))\n",
    "ax.imshow(masks.q.values.T, origin='lower', cmap='Greys_r', interpolation=None, vmin=-1, label=\"mask\")\n",
    "ax.set_xticks(np.arange(-.5,n+.5)), ax.set_yticks(np.arange(-.5,n+.5))\n",
    "\n",
    "s = 90\n",
    "s2 = 130\n",
    "\n",
    "\n",
    "# PLOT BOUNDARIES\n",
    "ax.scatter(psi_xmin+1+masks.psi.irrbound_xids,psi_ymin+1+masks.psi.irrbound_yids,\n",
    "           s=s, marker='x', label='$\\mathcal{I}$', color='purple')\n",
    "\n",
    "# # PLOT STREAM FUNCTION\n",
    "# psi_xmin, psi_ymin = -.5, -.5\n",
    "# mask_psi_ids = jnp.argwhere(masks.psi.squeeze())\n",
    "# ax.scatter(psi_xmin+mask_psi_ids[:,0], psi_ymin+mask_psi_ids[:,1],\n",
    "#           s=s, marker='s', label='$\\\\psi$', color='black')\n",
    "\n",
    "\n",
    "# # PLOT POTENTIAL VORTICITY\n",
    "# s = 90\n",
    "# s2 = 130\n",
    "# q_xmin, q_ymin = 0, 0\n",
    "# mask_q_ids = jnp.argwhere(masks.q.squeeze())\n",
    "# ax.scatter(q_xmin+mask_q_ids[:,0], q_ymin+mask_q_ids[:,1],\n",
    "#             s=s, marker='o', label='q', color='tab:red')\n",
    "\n",
    "# # PLOT ZONAL VELOCITY\n",
    "# u_xmin, u_ymin = .5, 0\n",
    "# mask_u_ids = jnp.argwhere(masks.u_distbound1.squeeze())\n",
    "# ax.scatter(u_xmin+mask_u_ids[:,0], u_ymin+mask_u_ids[:,1],\n",
    "#             s=s2, marker='>', label='u ic2', color='lightblue')\n",
    "# mask_u_ids = jnp.argwhere(masks.u_distbound2.squeeze())\n",
    "# ax.scatter(u_xmin+mask_u_ids[:,0], u_ymin+mask_u_ids[:,1],\n",
    "#             s=s2, marker='>', label='u iup3', color='cornflowerblue')\n",
    "# mask_u_ids = jnp.argwhere(masks.u_distbound3plus.squeeze())\n",
    "# ax.scatter(u_xmin+mask_u_ids[:,0], u_ymin+mask_u_ids[:,1],\n",
    "#             s=s2, marker='>', label='u iup5', color='navy')\n",
    "\n",
    "# PLOT MERIDIONAL VELOCITY\n",
    "v_xmin, v_ymin = 0, -.5\n",
    "mask_v_ids = jnp.argwhere(masks.v.distbound1.squeeze())\n",
    "ax.scatter(v_xmin+mask_v_ids[:,0], v_ymin+mask_v_ids[:,1],\n",
    "            s=s2, marker='^', label='v ic2', color='gold')\n",
    "mask_v_ids = jnp.argwhere(masks.v.distbound2plus.squeeze())\n",
    "ax.scatter(v_xmin+mask_v_ids[:,0], v_ymin+mask_v_ids[:,1],\n",
    "            s=s2, marker='^', label='v iup3', color='darkorange')\n",
    "mask_v_ids = jnp.argwhere(masks.v.distbound3plus.squeeze())\n",
    "ax.scatter(v_xmin+mask_v_ids[:,0], v_ymin+mask_v_ids[:,1],\n",
    "            s=s2, marker='^', label='v iup5', color='firebrick')\n",
    "\n",
    "\n",
    "ax.grid()\n",
    "plt.legend(loc='upper left')\n",
    "plt.setp(ax.get_xticklabels(), visible=False)\n",
    "plt.setp(ax.get_yticklabels(), visible=False)\n",
    "plt.tight_layout()\n",
    "plt.show()"
   ]
  },
  {
   "cell_type": "markdown",
   "id": "dc63b6ee-65c7-4b8f-8ed8-9e798a8b59d2",
   "metadata": {},
   "source": [
    "### Arakawa C-Grid"
   ]
  },
  {
   "cell_type": "code",
   "execution_count": 22,
   "id": "4116be37-2003-42d6-b599-c220e53f0895",
   "metadata": {
    "tags": []
   },
   "outputs": [
    {
     "data": {
      "image/png": "[encoded data removed]",
      "text/plain": [
       "<Figure size 700x700 with 1 Axes>"
      ]
     },
     "metadata": {},
     "output_type": "display_data"
    }
   ],
   "source": [
    "plt.ion()\n",
    "fig,ax =plt.subplots(figsize=(7,7))\n",
    "ax.imshow(masks.q.values.T, origin='lower', cmap='Greys_r', interpolation=None, vmin=-1, label=\"mask\")\n",
    "ax.set_xticks(np.arange(-.5,n+.5)), ax.set_yticks(np.arange(-.5,n+.5))\n",
    "\n",
    "s = 90\n",
    "s2 = 130\n",
    "\n",
    "\n",
    "# PLOT BOUNDARIES\n",
    "ax.scatter(psi_xmin+1+masks.psi.irrbound_xids,psi_ymin+1+masks.psi.irrbound_yids,\n",
    "           s=s, marker='x', label='$\\mathcal{I}$', color='purple')\n",
    "\n",
    "# PLOT STREAM FUNCTION\n",
    "psi_xmin, psi_ymin = -.5, -.5\n",
    "mask_psi_ids = jnp.argwhere(masks.psi.values.squeeze())\n",
    "ax.scatter(psi_xmin+mask_psi_ids[:,0], psi_ymin+mask_psi_ids[:,1],\n",
    "          s=s, marker='s', label='$\\\\psi$', color='black')\n",
    "\n",
    "\n",
    "# PLOT POTENTIAL VORTICITY\n",
    "s = 90\n",
    "s2 = 130\n",
    "q_xmin, q_ymin = 0, 0\n",
    "mask_q_ids = jnp.argwhere(masks.q.values.squeeze())\n",
    "ax.scatter(q_xmin+mask_q_ids[:,0], q_ymin+mask_q_ids[:,1],\n",
    "            s=s, marker='o', label='q', color='tab:red')\n",
    "\n",
    "# PLOT ZONAL VELOCITY\n",
    "u_xmin, u_ymin = -.5, 0\n",
    "mask_u_ids = jnp.argwhere(masks.u.distbound1.squeeze())\n",
    "ax.scatter(u_xmin+mask_u_ids[:,0], u_ymin+mask_u_ids[:,1],\n",
    "            s=s2, marker='>', label='u ic2', color='lightblue')\n",
    "mask_u_ids = jnp.argwhere(masks.u.distbound2.squeeze())\n",
    "ax.scatter(u_xmin+mask_u_ids[:,0], u_ymin+mask_u_ids[:,1],\n",
    "            s=s2, marker='>', label='u iup3', color='cornflowerblue')\n",
    "mask_u_ids = jnp.argwhere(masks.u.distbound3plus.squeeze())\n",
    "ax.scatter(u_xmin+mask_u_ids[:,0], u_ymin+mask_u_ids[:,1],\n",
    "            s=s2, marker='>', label='u iup5', color='navy')\n",
    "\n",
    "# PLOT MERIDIONAL VELOCITY\n",
    "v_xmin, v_ymin = 0, -.5\n",
    "mask_v_ids = jnp.argwhere(masks.v.distbound1.squeeze())\n",
    "ax.scatter(v_xmin+mask_v_ids[:,0], v_ymin+mask_v_ids[:,1],\n",
    "            s=s2, marker='^', label='v ic2', color='gold')\n",
    "mask_v_ids = jnp.argwhere(masks.v.distbound2plus.squeeze())\n",
    "ax.scatter(v_xmin+mask_v_ids[:,0], v_ymin+mask_v_ids[:,1],\n",
    "            s=s2, marker='^', label='v iup3', color='darkorange')\n",
    "mask_v_ids = jnp.argwhere(masks.v.distbound3plus.squeeze())\n",
    "ax.scatter(v_xmin+mask_v_ids[:,0], v_ymin+mask_v_ids[:,1],\n",
    "            s=s2, marker='^', label='v iup5', color='firebrick')\n",
    "\n",
    "\n",
    "ax.grid()\n",
    "plt.legend(loc='upper left')\n",
    "plt.setp(ax.get_xticklabels(), visible=False)\n",
    "plt.setp(ax.get_yticklabels(), visible=False)\n",
    "plt.tight_layout()\n",
    "plt.show()"
   ]
  },
  {
   "cell_type": "code",
   "execution_count": null,
   "id": "a102189d-2190-43af-80f3-97611ad53cc3",
   "metadata": {},
   "outputs": [],
   "source": []
  },
  {
   "cell_type": "code",
   "execution_count": null,
   "id": "a3b20b49-72fa-4315-b911-d75397043ee5",
   "metadata": {},
   "outputs": [],
   "source": []
  }
 ],
 "metadata": {
  "kernelspec": {
   "display_name": "Python [conda env:jax_eo_py311]",
   "language": "python",
   "name": "conda-env-jax_eo_py311-py"
  },
  "language_info": {
   "codemirror_mode": {
    "name": "ipython",
    "version": 3
   },
   "file_extension": ".py",
   "mimetype": "text/x-python",
   "name": "python",
   "nbconvert_exporter": "python",
   "pygments_lexer": "ipython3",
   "version": "3.11.5"
  }
 },
 "nbformat": 4,
 "nbformat_minor": 5
}
