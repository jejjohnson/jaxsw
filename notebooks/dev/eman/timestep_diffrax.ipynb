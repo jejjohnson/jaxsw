{
 "cells": [
  {
   "cell_type": "markdown",
   "id": "26dd8419-2b08-4e4b-94b3-6c19f3dcc400",
   "metadata": {},
   "source": [
    "---\n",
    "title: Time Steppers with Diffrax\n",
    "suptitle: Diffraxing\n",
    "short_title: Time Step\n",
    "date: 2023-02-21\n",
    "authors:\n",
    "  - name: J. Emmanuel Johnson\n",
    "    affiliations:\n",
    "      - MEOM Lab\n",
    "    email: jemanjohnson34@gmail.com\n",
    "license: CC-BY-4.0\n",
    "keywords: PDE, ODE, TimeStepper, Diffrax\n",
    "---"
   ]
  },
  {
   "cell_type": "markdown",
   "id": "5ceebbf0-7f63-48bb-8f08-536944252a4b",
   "metadata": {},
   "source": [
    "+++ {\"part\": \"abstract\"}\n",
    "\n",
    "We introduce....\n",
    "\n",
    "+++"
   ]
  },
  {
   "cell_type": "markdown",
   "id": "558cceef-764e-403a-bce2-63cde3d710a5",
   "metadata": {},
   "source": [
    "**Citation**\n",
    "\n",
    "follow the FORCE11 recommendations [hi](doi:10.4230/DAGMAN.1.1.41). Specifically:"
   ]
  },
  {
   "cell_type": "code",
   "execution_count": null,
   "id": "28c113a4-daa9-46b1-a4b6-7e5a95bc8fc8",
   "metadata": {},
   "outputs": [],
   "source": []
  }
 ],
 "metadata": {
  "kernelspec": {
   "display_name": "Python [conda env:jax_eo_py39]",
   "language": "python",
   "name": "conda-env-jax_eo_py39-py"
  },
  "language_info": {
   "codemirror_mode": {
    "name": "ipython",
    "version": 3
   },
   "file_extension": ".py",
   "mimetype": "text/x-python",
   "name": "python",
   "nbconvert_exporter": "python",
   "pygments_lexer": "ipython3",
   "version": "3.9.13"
  }
 },
 "nbformat": 4,
 "nbformat_minor": 5
}
