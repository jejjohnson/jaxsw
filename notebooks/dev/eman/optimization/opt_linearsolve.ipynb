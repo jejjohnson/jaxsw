{
 "cells": [
  {
   "cell_type": "markdown",
   "id": "e6d662da-2a94-46e5-acde-5d2d7301b6c9",
   "metadata": {
    "user_expressions": []
   },
   "source": [
    "# Optimization: Linear Solve"
   ]
  },
  {
   "cell_type": "markdown",
   "id": "b56538f9-8734-4ec7-bfa2-ba8e4c46e5b3",
   "metadata": {
    "user_expressions": []
   },
   "source": [
    "**Useful For**:\n",
    "\n",
    "* Loss Functions\n",
    "* Ellipical PDEs"
   ]
  },
  {
   "cell_type": "code",
   "execution_count": null,
   "id": "ee0d6c7b-4cd0-4926-b384-959f3a42f4f0",
   "metadata": {},
   "outputs": [],
   "source": []
  },
  {
   "cell_type": "code",
   "execution_count": null,
   "id": "8b30feee-f549-426d-a3ad-d2edee0221a7",
   "metadata": {},
   "outputs": [],
   "source": []
  },
  {
   "cell_type": "code",
   "execution_count": null,
   "id": "9bc0423b-bf73-4455-bcb2-169e38aae695",
   "metadata": {},
   "outputs": [],
   "source": []
  },
  {
   "cell_type": "code",
   "execution_count": null,
   "id": "de30671c-4c34-4bd5-8207-1a76b2b2e08a",
   "metadata": {},
   "outputs": [],
   "source": []
  },
  {
   "cell_type": "markdown",
   "id": "6f5848df-3a81-401e-b135-38ab95c055e5",
   "metadata": {
    "user_expressions": []
   },
   "source": [
    "### Iterative Methods\n",
    "\n",
    "\n",
    "**Conditions**:\n",
    "\n",
    "1) Max Iterations are completed\n",
    "2) Our criteria is met!"
   ]
  },
  {
   "cell_type": "markdown",
   "id": "ac55294e-86ca-4c86-80e0-b33f73517937",
   "metadata": {
    "user_expressions": []
   },
   "source": [
    "\n",
    "#### Criteria\n",
    "\n",
    "**L1-Norm**\n",
    "\n",
    "$$\n",
    "||u||_1 = \\frac{\\sum_{i=0,j=0}^k|u_{i,j}^{k+1}-u_{i,j}^k|^2}{\\sum_{i=0,j=0}^k|u_{i,j}^k|^2}\n",
    "$$\n",
    "\n",
    "\n",
    "**L2-Norm**\n",
    "\n",
    "$$\n",
    "||u||_2 = \\frac{\\sqrt{\\sum_{i=0,j=0}^k|u_{i,j}^{k+1}-u_{i,j}^k|^2}}{\\sqrt{\\sum_{i=0,j=0}^k|u_{i,j}^k|^2}}\n",
    "$$"
   ]
  }
 ],
 "metadata": {
  "kernelspec": {
   "display_name": "Python [conda env:jax_eo_py310]",
   "language": "python",
   "name": "conda-env-jax_eo_py310-py"
  },
  "language_info": {
   "codemirror_mode": {
    "name": "ipython",
    "version": 3
   },
   "file_extension": ".py",
   "mimetype": "text/x-python",
   "name": "python",
   "nbconvert_exporter": "python",
   "pygments_lexer": "ipython3",
   "version": "3.9.16"
  }
 },
 "nbformat": 4,
 "nbformat_minor": 5
}
