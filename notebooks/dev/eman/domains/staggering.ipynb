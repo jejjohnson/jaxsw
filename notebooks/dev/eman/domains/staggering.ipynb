{
 "cells": [
  {
   "cell_type": "markdown",
   "metadata": {},
   "source": [
    "# Staggered Grids"
   ]
  },
  {
   "cell_type": "code",
   "execution_count": 14,
   "metadata": {
    "tags": []
   },
   "outputs": [
    {
     "name": "stdout",
     "output_type": "stream",
     "text": [
      "The autoreload extension is already loaded. To reload it, use:\n",
      "  %reload_ext autoreload\n"
     ]
    }
   ],
   "source": [
    "import autoroot\n",
    "import jax\n",
    "import jax.numpy as jnp\n",
    "import numpy as np\n",
    "import kernex as kex\n",
    "import matplotlib.pyplot as plt\n",
    "import seaborn as sns\n",
    "import xarray as xr\n",
    "from jaxtyping import Array\n",
    "import einops\n",
    "import finitediffx as fdx\n",
    "from jaxsw._src.operators.functional import grid as F_grid\n",
    "from jaxsw._src.operators.functional import cgrid as C_grid\n",
    "from jaxsw._src.boundaries import functional as F_bc\n",
    "from jaxsw._src.domain.base import Domain\n",
    "from jaxsw._src.fields.base import Field\n",
    "from matplotlib.ticker import MultipleLocator, AutoMinorLocator\n",
    "\n",
    "sns.reset_defaults()\n",
    "sns.set_context(context=\"talk\", font_scale=0.7)\n",
    "jax.config.update(\"jax_enable_x64\", True)\n",
    "\n",
    "%matplotlib inline\n",
    "%load_ext autoreload\n",
    "%autoreload 2"
   ]
  },
  {
   "cell_type": "markdown",
   "metadata": {},
   "source": [
    "## 1-Dimensional"
   ]
  },
  {
   "cell_type": "markdown",
   "metadata": {},
   "source": [
    "```python\n",
    "+ -- ⋅ -- +\n",
    "u -- u̅ -- u\n",
    "+ -- ⋅ -- +\n",
    "```\n",
    "\n",
    "\n",
    "```python\n",
    "# QOI\n",
    "q: Array[\"Nx\"] = ...\n",
    "# U-Velocity\n",
    "u: Array[\"Nx\"] = ...\n",
    "```"
   ]
  },
  {
   "cell_type": "code",
   "execution_count": 33,
   "metadata": {
    "tags": []
   },
   "outputs": [],
   "source": [
    "import typing as tp"
   ]
  },
  {
   "cell_type": "code",
   "execution_count": 34,
   "metadata": {
    "tags": []
   },
   "outputs": [
    {
     "data": {
      "text/plain": [
       "((6,), (6,))"
      ]
     },
     "execution_count": 34,
     "metadata": {},
     "output_type": "execute_result"
    }
   ],
   "source": [
    "ncols = 5\n",
    "\n",
    "# initialize the Q domain\n",
    "q_domain = Domain(xmin=(0,), xmax=(ncols,), dx=(1,))\n",
    "values = q_domain.grid[..., 0]\n",
    "q = Field(values, q_domain)\n",
    "\n",
    "\n",
    "# initialize the u-velocity domain\n",
    "u_domain = Domain(xmin=(0,), xmax=(ncols,), dx=(1,), stagger=(\"right\",))\n",
    "values = u_domain.grid[..., 0]\n",
    "u = Field(values, u_domain)\n",
    "\n",
    "q.values.shape, u.values.shape"
   ]
  },
  {
   "cell_type": "code",
   "execution_count": 35,
   "metadata": {
    "tags": []
   },
   "outputs": [
    {
     "name": "stderr",
     "output_type": "stream",
     "text": [
      "No artists with labels found to put in legend.  Note that artists whose label start with an underscore are ignored when legend() is called with no argument.\n"
     ]
    },
    {
     "data": {
      "image/png": "[encoded data removed]",
      "text/plain": [
       "<Figure size 400x200 with 1 Axes>"
      ]
     },
     "metadata": {},
     "output_type": "display_data"
    }
   ],
   "source": [
    "from matplotlib.ticker import MultipleLocator, AutoMinorLocator\n",
    "\n",
    "fig, ax = plt.subplots(figsize=(4, 2))\n",
    "\n",
    "ax.scatter(q.values, jnp.ones_like(q.values), marker=\"x\", color=\"black\", zorder=2)\n",
    "ax.scatter(u.values, jnp.ones_like(u.values), marker=\">\", color=\"tab:blue\", zorder=2)\n",
    "ax.xaxis.set_major_locator(MultipleLocator(1))\n",
    "\n",
    "ax.set(xlim=[-0.5, ncols + 0.5])\n",
    "ax.grid(which=\"major\", zorder=1)\n",
    "plt.legend()\n",
    "plt.tight_layout()\n",
    "plt.show()"
   ]
  },
  {
   "cell_type": "code",
   "execution_count": 36,
   "metadata": {
    "tags": []
   },
   "outputs": [
    {
     "data": {
      "text/plain": [
       "Array([2., 1., 0., 1., 2., 3., 4., 5., 4., 3.], dtype=float64)"
      ]
     },
     "execution_count": 36,
     "metadata": {},
     "output_type": "execute_result"
    }
   ],
   "source": [
    "jnp.pad(q.values.squeeze(), pad_width=((2, 2)), mode=\"reflect\")"
   ]
  },
  {
   "cell_type": "code",
   "execution_count": 37,
   "metadata": {
    "tags": []
   },
   "outputs": [
    {
     "data": {
      "text/plain": [
       "(6, 1)"
      ]
     },
     "execution_count": 37,
     "metadata": {},
     "output_type": "execute_result"
    }
   ],
   "source": [
    "u.domain.grid.shape"
   ]
  },
  {
   "cell_type": "code",
   "execution_count": 42,
   "metadata": {
    "tags": []
   },
   "outputs": [
    {
     "name": "stdout",
     "output_type": "stream",
     "text": [
      "[0. 1. 2. 3. 4. 5.] (6,)\n",
      "(6,)\n"
     ]
    },
    {
     "data": {
      "text/plain": [
       "(Array([0.5, 1.5, 2.5, 3.5, 4.5, 5. ], dtype=float64),\n",
       " Array([0.5, 1.5, 2.5, 3.5, 4.5, 5.5], dtype=float64))"
      ]
     },
     "execution_count": 42,
     "metadata": {},
     "output_type": "execute_result"
    }
   ],
   "source": [
    "print(q.values.squeeze(), q.values.shape)\n",
    "q_on_u = F_grid.grid_operator(q, (\"right\",))\n",
    "q_on_u.values, u.values"
   ]
  },
  {
   "cell_type": "code",
   "execution_count": 43,
   "metadata": {
    "tags": []
   },
   "outputs": [
    {
     "data": {
      "text/plain": [
       "(6, 1)"
      ]
     },
     "execution_count": 43,
     "metadata": {},
     "output_type": "execute_result"
    }
   ],
   "source": [
    "q.domain.grid.shape"
   ]
  },
  {
   "cell_type": "code",
   "execution_count": 45,
   "metadata": {
    "tags": []
   },
   "outputs": [
    {
     "name": "stdout",
     "output_type": "stream",
     "text": [
      "(6,)\n"
     ]
    },
    {
     "data": {
      "text/plain": [
       "(Array([0.5, 1. , 2. , 3. , 4. , 5. ], dtype=float64),\n",
       " Array([0., 1., 2., 3., 4., 5.], dtype=float64))"
      ]
     },
     "execution_count": 45,
     "metadata": {},
     "output_type": "execute_result"
    }
   ],
   "source": [
    "u_on_q = F_grid.grid_operator(u, (\"left\",))\n",
    "u_on_q.values, q.values"
   ]
  },
  {
   "cell_type": "code",
   "execution_count": 46,
   "metadata": {
    "tags": []
   },
   "outputs": [
    {
     "name": "stderr",
     "output_type": "stream",
     "text": [
      "No artists with labels found to put in legend.  Note that artists whose label start with an underscore are ignored when legend() is called with no argument.\n"
     ]
    },
    {
     "data": {
      "image/png": "[encoded data removed]",
      "text/plain": [
       "<Figure size 400x200 with 1 Axes>"
      ]
     },
     "metadata": {},
     "output_type": "display_data"
    }
   ],
   "source": [
    "from matplotlib.ticker import MultipleLocator, AutoMinorLocator\n",
    "\n",
    "fig, ax = plt.subplots(figsize=(4, 2))\n",
    "\n",
    "ax.scatter(q.values, jnp.ones_like(q.values), marker=\"x\", color=\"black\", zorder=2)\n",
    "ax.scatter(\n",
    "    u_on_q.values, np.ones_like(u_on_q.values), marker=\">\", color=\"tab:blue\", zorder=2\n",
    ")\n",
    "ax.xaxis.set_major_locator(MultipleLocator(1))\n",
    "\n",
    "ax.set(xlim=[-0.5, ncols + 0.5])\n",
    "ax.grid(which=\"major\", zorder=1)\n",
    "plt.legend()\n",
    "plt.tight_layout()\n",
    "plt.show()"
   ]
  },
  {
   "cell_type": "markdown",
   "metadata": {},
   "source": [
    "### Nodes to Edges\n",
    "\n",
    "This happens when we want to move the field defined on the field to the top-down edges.\n",
    "For example, we may want to use the quantity of interest defined on the nodes to estimate the velocities defined on the top-down edges."
   ]
  },
  {
   "cell_type": "markdown",
   "metadata": {},
   "source": [
    "```python\n",
    "# QOI\n",
    "q: Array[\"Nx\"] = ...\n",
    "# U-Velocity\n",
    "u: Array[\"Nx-1\"] = ...\n",
    "```"
   ]
  },
  {
   "cell_type": "code",
   "execution_count": 47,
   "metadata": {
    "tags": []
   },
   "outputs": [
    {
     "name": "stderr",
     "output_type": "stream",
     "text": [
      "No artists with labels found to put in legend.  Note that artists whose label start with an underscore are ignored when legend() is called with no argument.\n"
     ]
    },
    {
     "data": {
      "image/png": "[encoded data removed]",
      "text/plain": [
       "<Figure size 400x200 with 1 Axes>"
      ]
     },
     "metadata": {},
     "output_type": "display_data"
    }
   ],
   "source": [
    "fig, ax = plt.subplots(figsize=(4, 2))\n",
    "\n",
    "ax.scatter(\n",
    "    q_on_u.values, np.ones_like(q_on_u.values), marker=\"x\", color=\"black\", zorder=2\n",
    ")\n",
    "ax.scatter(u.values, np.ones_like(u.values), marker=\">\", color=\"tab:blue\", zorder=2)\n",
    "ax.xaxis.set_major_locator(MultipleLocator(1))\n",
    "\n",
    "ax.set(xlim=[-0.5, ncols + 0.5])\n",
    "ax.grid(which=\"major\", zorder=1)\n",
    "plt.legend()\n",
    "plt.tight_layout()\n",
    "plt.show()"
   ]
  },
  {
   "cell_type": "markdown",
   "metadata": {},
   "source": [
    "## Arakawa C-Grid"
   ]
  },
  {
   "cell_type": "markdown",
   "metadata": {},
   "source": [
    "In this example, we will look at the classic Arakawa C-Grid.\n",
    "This seems to be the standard for using standard finite difference methods on gridded domains.\n",
    "All of the variables are on staggered domains which means that we will have to do some small transformations to put each variable on other domains."
   ]
  },
  {
   "cell_type": "markdown",
   "metadata": {},
   "source": [
    "In this example, we'll look at two variables along with their corresponding velocities.\n",
    "The inspiration comes from the QG equation where we have\n",
    "\n",
    "$$\n",
    "\\begin{aligned}\n",
    "\\partial_t q + \\vec{u}\\cdot q &= 0 \\\\\n",
    "q = \\boldsymbol{\\nabla}_H \\psi\n",
    "\\end{aligned}\n",
    "$$\n",
    "\n",
    "where we have four variables we need to handle in total:\n",
    "\n",
    "* $q$ - potential vorticity on the cell faces\n",
    "* $u$ - zonal velocity on the Top-Bottom cell edges\n",
    "* $v$ - meridional velocity on the East-West cell edges\n",
    "* $\\psi$ - stream function on the cell nodes."
   ]
  },
  {
   "cell_type": "code",
   "execution_count": 22,
   "metadata": {
    "tags": []
   },
   "outputs": [
    {
     "data": {
      "text/plain": [
       "(4, 6)"
      ]
     },
     "execution_count": 22,
     "metadata": {},
     "output_type": "execute_result"
    }
   ],
   "source": [
    "n_rows = 3\n",
    "n_cols = 5\n",
    "\n",
    "# Stream Function Domain - Cell Corners\n",
    "psi_domain = Domain(xmin=(0, 0), xmax=(n_rows, n_cols), dx=(1, 1))\n",
    "psi_x = Field(psi_domain.grid[..., 0], psi_domain)\n",
    "psi_y = Field(psi_domain.grid[..., 1], psi_domain)\n",
    "\n",
    "# Q Domain - cell faces\n",
    "q_domain = Domain(\n",
    "    xmin=(0.0, 0.0), xmax=(n_rows, n_cols), dx=(1, 1), stagger=(\"right\", \"right\")\n",
    ")\n",
    "q_x = Field(q_domain.grid[..., 0], q_domain)\n",
    "q_y = Field(q_domain.grid[..., 1], q_domain)\n",
    "\n",
    "# U Velocity -\n",
    "u_domain = Domain(\n",
    "    xmin=(0, 0), xmax=(n_rows, n_cols), dx=(1, 1), stagger=(\"right\", None)\n",
    ")\n",
    "u_x = Field(u_domain.grid[..., 0], u_domain)\n",
    "u_y = Field(u_domain.grid[..., 1], u_domain)\n",
    "\n",
    "# V Velocity\n",
    "v_domain = Domain(\n",
    "    xmin=(0, 0), xmax=(n_rows, n_cols), dx=(1, 1), stagger=(None, \"right\")\n",
    ")\n",
    "v_x = Field(v_domain.grid[..., 0], v_domain)\n",
    "v_y = Field(v_domain.grid[..., 1], v_domain)\n",
    "\n",
    "\n",
    "# # initialize the Q domain\n",
    "# q_domain = Domain(xmin=(0,), xmax=(ncols,), dx=(1,))\n",
    "# values = q_domain.grid\n",
    "# q = Field(values, q_domain)\n",
    "\n",
    "\n",
    "# # initialize the u-velocity domain\n",
    "# u_domain = Domain(xmin=(0,), xmax=(ncols,), dx=(1,), stagger=(\"right\",))\n",
    "# values = u_domain.grid\n",
    "# u = Field(values, u_domain)\n",
    "psi_x.values.shape"
   ]
  },
  {
   "cell_type": "code",
   "execution_count": 23,
   "metadata": {
    "tags": []
   },
   "outputs": [
    {
     "data": {
      "image/png": "[encoded data removed]",
      "text/plain": [
       "<Figure size 500x400 with 1 Axes>"
      ]
     },
     "metadata": {},
     "output_type": "display_data"
    }
   ],
   "source": [
    "fig, ax = plt.subplots(figsize=(5, 4))\n",
    "\n",
    "ax.scatter(\n",
    "    psi_x.values.ravel(),\n",
    "    psi_y.values.ravel(),\n",
    "    marker=\"x\",\n",
    "    color=\"black\",\n",
    "    zorder=2,\n",
    "    label=\"Stream Function\",\n",
    ")\n",
    "ax.scatter(\n",
    "    q_x.values.ravel(),\n",
    "    q_y.values.ravel(),\n",
    "    marker=\".\",\n",
    "    color=\"tab:red\",\n",
    "    zorder=2,\n",
    "    label=\"Vorticity\",\n",
    ")\n",
    "ax.scatter(\n",
    "    u_x.values.ravel(),\n",
    "    u_y.values.ravel(),\n",
    "    marker=\">\",\n",
    "    color=\"tab:blue\",\n",
    "    zorder=2,\n",
    "    label=\"Zonal Velocity\",\n",
    ")\n",
    "ax.scatter(\n",
    "    v_x.values.ravel(),\n",
    "    v_y.values.ravel(),\n",
    "    marker=\"^\",\n",
    "    color=\"tab:green\",\n",
    "    zorder=2,\n",
    "    label=\"Meridional Velocity\",\n",
    ")\n",
    "\n",
    "ax.xaxis.set_major_locator(MultipleLocator(1))\n",
    "ax.xaxis.set_minor_locator(MultipleLocator(0.5))\n",
    "ax.yaxis.set_major_locator(MultipleLocator(1))\n",
    "ax.yaxis.set_minor_locator(MultipleLocator(0.5))\n",
    "\n",
    "ax.set(xlim=[-1.5, n_rows + 1.5], ylim=[-1.5, n_cols + 1.5])\n",
    "ax.grid(\n",
    "    which=\"major\",\n",
    "    zorder=1,\n",
    ")\n",
    "plt.legend(fontsize=10, edgecolor=\"black\", framealpha=1.0, facecolor=\"lightgray\")\n",
    "plt.tight_layout()\n",
    "plt.show()"
   ]
  },
  {
   "cell_type": "markdown",
   "metadata": {},
   "source": [
    "This example seems quite complicated and possibly unnecessary because we have two variables and the velocities.\n",
    "This can occur in the contrived example but in many cases, we may only have 1 variable and the velocities, e.g. Shallow Water equations.\n",
    "In this case, we have some options, we can use the cell faces as the main variable or the cell nodes.\n",
    "It's up to us. "
   ]
  },
  {
   "cell_type": "markdown",
   "metadata": {},
   "source": [
    "### Transformations to Variable"
   ]
  },
  {
   "cell_type": "markdown",
   "metadata": {},
   "source": [
    "In this first case, we will look at all transformations that can get us to the vorticity from any other variable on this grid.\n",
    "\n",
    "$$\n",
    "\\begin{aligned}\n",
    "\\psi &\\rightarrow q \\\\\n",
    "u &\\rightarrow q \\\\\n",
    "v &\\rightarrow q\n",
    "\\end{aligned}\n",
    "$$"
   ]
  },
  {
   "cell_type": "code",
   "execution_count": 24,
   "metadata": {
    "tags": []
   },
   "outputs": [],
   "source": [
    "# def get_axis_operation(u, operation: str, padding):\n",
    "\n",
    "#     opperation = list(operation)\n",
    "\n",
    "#     if len(operation) == 1:\n",
    "#         operation.append(None)\n",
    "\n",
    "#     elif len(operation) == 2:\n",
    "#         return F_grid.x_average_2D\n",
    "\n",
    "#     elif len(operation) == 3:\n",
    "#         return\n",
    "\n",
    "#     elif operation.lower() == \"left\":\n",
    "#         return F_grid.\n",
    "\n",
    "\n",
    "#     return fn\n",
    "\n",
    "\n",
    "def get_kernel_size(operations):\n",
    "    msg = \"too few/many operations. Need [1,3]\"\n",
    "    msg += f\"\\n{operations}\"\n",
    "    assert len(operations) <= 3 and len(operations) >= 1, msg\n",
    "\n",
    "    if len(operations) == 1:\n",
    "        if operations[0] is None:\n",
    "            kernel_size = (1,)\n",
    "        else:\n",
    "            kernel_size = (2,)\n",
    "\n",
    "    elif len(operations) == 2:\n",
    "        x_op, y_op = operations\n",
    "        do_something = [\"right\", \"left\", \"inner\", \"outer\"]\n",
    "        case1 = x_op in do_something and y_op in do_something\n",
    "        case2 = x_op is None and y_op in do_something\n",
    "        case3 = x_op in do_something and y_op is None\n",
    "        case4 = x_op is None and y_op is None\n",
    "\n",
    "        if case1:\n",
    "            kernel_size = (2, 2)\n",
    "        elif case2:\n",
    "            kernel_size = (1, 2)\n",
    "        elif case3:\n",
    "            kernel_size = (2, 1)\n",
    "        elif case4:\n",
    "            kernel_size = (1, 1)\n",
    "        else:\n",
    "            msg = \"Unrecognized operations\"\n",
    "            msg += f\"\\nx - {x_op}\"\n",
    "            msg += f\"\\ny - {y_op}\"\n",
    "            raise ValueError(msg)\n",
    "\n",
    "    elif len(operations) == 3:\n",
    "        raise ValueError(\"Not Implemented\")\n",
    "\n",
    "    return kernel_size\n",
    "\n",
    "\n",
    "def _field_operation_1D(u, operations, padding):\n",
    "    kernel_size = get_kernel_size(operations)\n",
    "    # print(kernel_size)\n",
    "    # print(operations, padding, kernel_size)\n",
    "\n",
    "    # pad values\n",
    "    # print(u)\n",
    "    u = jnp.pad(u, pad_width=padding, mode=\"edge\")\n",
    "    # print(u)\n",
    "\n",
    "    # change values via the averaging\n",
    "    u = F_grid.kernel_average(u, kernel_size=kernel_size, padding=\"valid\")\n",
    "\n",
    "    return u\n",
    "\n",
    "\n",
    "def _domain_operation_1D(xmin, xmax, dx, operation):\n",
    "    if operation is None:\n",
    "        pass\n",
    "    elif operation == \"right\":\n",
    "        xmin += dx * 0.5\n",
    "        xmax += dx * 0.5\n",
    "    elif operation == \"left\":\n",
    "        xmin -= dx * 0.5\n",
    "        xmax -= dx * 0.5\n",
    "    elif operation == \"inner\":\n",
    "        xmin += dx * 0.5\n",
    "        xmax -= dx * 0.5\n",
    "    elif operation == \"outer\":\n",
    "        xmin -= dx * 0.5\n",
    "        xmax += dx * 0.5\n",
    "    else:\n",
    "        msg = f\"Unrecognized argument for operation\"\n",
    "        msg += f\"\\noperation: {operation}\"\n",
    "        raise ValueError(msg)\n",
    "\n",
    "    return xmin, xmax\n",
    "\n",
    "\n",
    "def _axis_operation_2D(u, operation, padding):\n",
    "    raise NotImplementedError()\n",
    "\n",
    "\n",
    "#     # x operation\n",
    "#     x_pad = padding[0] + (0,0)\n",
    "#     print(x_pad)\n",
    "#     values = jnp.pad(u.values.squeeze(), pad_width=padding[0], mode=\"constant\")\n",
    "\n",
    "\n",
    "#     return u\n",
    "\n",
    "\n",
    "def _axis_operation_3D(u, operation, padding):\n",
    "    raise NotImplementedError()"
   ]
  },
  {
   "cell_type": "code",
   "execution_count": 161,
   "metadata": {
    "tags": []
   },
   "outputs": [],
   "source": [
    "def grid_operator(u: Field, operations: tp.Iterable = None):\n",
    "    assert len(u.domain.dx) == len(operations)\n",
    "\n",
    "    pads = list()\n",
    "\n",
    "    pads = [\n",
    "        DEFAULT_PADDING[iop] if iop in list(DEFAULT_PADDING.keys()) else (0, 0)\n",
    "        for iop in operations\n",
    "    ]\n",
    "    print(operations, pads)\n",
    "\n",
    "    if len(u.domain.dx) == 1:\n",
    "        # operate on field values\n",
    "        u_values = _field_operation_1D(u.values.squeeze(), operations, pads)\n",
    "        # operate on domain\n",
    "        xmin, xmax = _domain_operation_1D(\n",
    "            u.domain.xmin[0], u.domain.xmax[0], u.domain.dx[0], operations[0]\n",
    "        )\n",
    "        # create field\n",
    "        # print(u_values.shape)\n",
    "        return Field(\n",
    "            u_values[..., None], Domain(xmin=(xmin,), xmax=(xmax,), dx=u.domain.dx)\n",
    "        )\n",
    "\n",
    "    elif len(u.domain.dx) == 2:\n",
    "        # operate on field values\n",
    "        u_values = _field_operation_1D(u.values.squeeze(), operations, pads)\n",
    "        # operate on domain\n",
    "        # print(u.domain.xmin, u.domain.xmax, u.domain.dx, operations)\n",
    "        out = [\n",
    "            _domain_operation_1D(xmin, xmax, dx, iop)\n",
    "            for xmin, xmax, dx, iop in zip(\n",
    "                u.domain.xmin, u.domain.xmax, u.domain.dx, operations\n",
    "            )\n",
    "        ]\n",
    "        xmin, xmax = zip(*out)\n",
    "        #         vmap_fn = jax.vmap(_domain_operation_1D, in_axes=(0,0,0,0))\n",
    "\n",
    "        #         xmin, xmax = vmap_fn(\n",
    "        #             jnp.asarray(u.domain.xmin),\n",
    "        #             jnp.asarray(u.domain.xmax),\n",
    "        #             jnp.asarray(u.domain.dx),\n",
    "        #             jnp.asarray(operations))\n",
    "        # print(xmin,xmax)\n",
    "        return Field(u_values, Domain(xmin=xmin, xmax=xmax, dx=u.domain.dx))\n",
    "        # # create field\n",
    "        # # print(u_values.shape)\n",
    "        # return Field(u_values[..., None], Domain(xmin=(xmin,), xmax=(xmax,), dx=u.domain.dx))\n",
    "\n",
    "    elif len(u.domain.dx) == 3:\n",
    "        raise NotImplementedError()\n",
    "\n",
    "    # loop through operation to get padding based on semantics\n",
    "\n",
    "    # get number of axis\n",
    "    # check len(axis) == len(pad)\n",
    "\n",
    "    # do operation on values\n",
    "    # - pad (with method)\n",
    "    # - move values around\n",
    "    # update xmin/xmax on domain\n",
    "    # - change xmin, xmax (not dx)\n",
    "    # create new field\n",
    "\n",
    "    return None"
   ]
  },
  {
   "cell_type": "code",
   "execution_count": 162,
   "metadata": {
    "tags": []
   },
   "outputs": [
    {
     "data": {
      "text/plain": [
       "(4, 6, 2)"
      ]
     },
     "execution_count": 162,
     "metadata": {},
     "output_type": "execute_result"
    }
   ],
   "source": [
    "u.values.shape"
   ]
  },
  {
   "cell_type": "code",
   "execution_count": 25,
   "metadata": {
    "tags": []
   },
   "outputs": [],
   "source": [
    "u_x_on_q = F_grid.grid_operator(u_x, (None, \"right\"))\n",
    "u_y_on_q = F_grid.grid_operator(u_y, (None, \"right\"))\n",
    "\n",
    "v_x_on_q = F_grid.grid_operator(v_x, (\"right\", None))\n",
    "v_y_on_q = F_grid.grid_operator(v_y, (\"right\", None))\n",
    "\n",
    "psi_x_on_q = F_grid.grid_operator(psi_x, (\"right\", \"right\"))\n",
    "psi_y_on_q = F_grid.grid_operator(psi_y, (\"right\", \"right\"))"
   ]
  },
  {
   "cell_type": "code",
   "execution_count": 26,
   "metadata": {
    "tags": []
   },
   "outputs": [
    {
     "data": {
      "image/png": "[encoded data removed]",
      "text/plain": [
       "<Figure size 500x400 with 1 Axes>"
      ]
     },
     "metadata": {},
     "output_type": "display_data"
    }
   ],
   "source": [
    "fig, ax = plt.subplots(figsize=(5, 4))\n",
    "\n",
    "ax.scatter(\n",
    "    psi_x_on_q.values.ravel(),\n",
    "    psi_y_on_q.values.ravel(),\n",
    "    marker=\"x\",\n",
    "    color=\"black\",\n",
    "    zorder=2,\n",
    "    label=\"Stream Function\",\n",
    ")\n",
    "ax.scatter(\n",
    "    q_x.values.ravel(),\n",
    "    q_y.values.ravel(),\n",
    "    marker=\".\",\n",
    "    color=\"tab:red\",\n",
    "    zorder=3,\n",
    "    label=\"Vorticity\",\n",
    ")\n",
    "ax.scatter(\n",
    "    u_x_on_q.values.ravel(),\n",
    "    u_y_on_q.values.ravel(),\n",
    "    marker=\">\",\n",
    "    color=\"tab:blue\",\n",
    "    zorder=2,\n",
    "    label=\"Zonal Velocity\",\n",
    ")\n",
    "ax.scatter(\n",
    "    v_x_on_q.values.ravel(),\n",
    "    v_y_on_q.values.ravel(),\n",
    "    marker=\"^\",\n",
    "    color=\"tab:green\",\n",
    "    zorder=2,\n",
    "    label=\"Meridional Velocity\",\n",
    ")\n",
    "\n",
    "ax.xaxis.set_major_locator(MultipleLocator(1))\n",
    "ax.xaxis.set_minor_locator(MultipleLocator(0.5))\n",
    "ax.yaxis.set_major_locator(MultipleLocator(1))\n",
    "ax.yaxis.set_minor_locator(MultipleLocator(0.5))\n",
    "\n",
    "ax.set(xlim=[-1.5, n_rows + 1.5], ylim=[-1.5, n_cols + 1.5])\n",
    "ax.grid(\n",
    "    which=\"major\",\n",
    "    zorder=1,\n",
    ")\n",
    "plt.legend(fontsize=10, edgecolor=\"black\", framealpha=1.0, facecolor=\"lightgray\")\n",
    "plt.tight_layout()\n",
    "plt.show()"
   ]
  },
  {
   "cell_type": "markdown",
   "metadata": {},
   "source": [
    "### Transforms to PSI Variable"
   ]
  },
  {
   "cell_type": "markdown",
   "metadata": {},
   "source": [
    "In this first case, we will look at all transformations that can get us to the vorticity from any other variable on this grid.\n",
    "\n",
    "$$\n",
    "\\begin{aligned}\n",
    "q &\\rightarrow \\psi \\\\\n",
    "u &\\rightarrow \\psi \\\\\n",
    "v &\\rightarrow \\psi\n",
    "\\end{aligned}\n",
    "$$"
   ]
  },
  {
   "cell_type": "code",
   "execution_count": 27,
   "metadata": {
    "tags": []
   },
   "outputs": [],
   "source": [
    "u_x_on_psi = F_grid.grid_operator(u_x, (\"left\", None))\n",
    "u_y_on_psi = F_grid.grid_operator(u_y, (\"left\", None))\n",
    "\n",
    "v_x_on_psi = F_grid.grid_operator(v_x, (None, \"left\"))\n",
    "v_y_on_psi = F_grid.grid_operator(v_y, (None, \"left\"))\n",
    "\n",
    "q_x_on_psi = F_grid.grid_operator(q_x, (\"left\", \"left\"))\n",
    "q_y_on_psi = F_grid.grid_operator(q_y, (\"left\", \"left\"))"
   ]
  },
  {
   "cell_type": "code",
   "execution_count": 28,
   "metadata": {
    "tags": []
   },
   "outputs": [
    {
     "data": {
      "image/png": "[encoded data removed]",
      "text/plain": [
       "<Figure size 500x400 with 1 Axes>"
      ]
     },
     "metadata": {},
     "output_type": "display_data"
    }
   ],
   "source": [
    "fig, ax = plt.subplots(figsize=(5, 4))\n",
    "\n",
    "ax.scatter(\n",
    "    psi_x.values.ravel(),\n",
    "    psi_y.values.ravel(),\n",
    "    marker=\"x\",\n",
    "    color=\"black\",\n",
    "    zorder=2,\n",
    "    label=\"Stream Function\",\n",
    ")\n",
    "ax.scatter(\n",
    "    q_x_on_psi.values.ravel(),\n",
    "    q_y_on_psi.values.ravel(),\n",
    "    marker=\".\",\n",
    "    color=\"tab:red\",\n",
    "    zorder=3,\n",
    "    label=\"Vorticity\",\n",
    ")\n",
    "ax.scatter(\n",
    "    u_x_on_psi.values.ravel(),\n",
    "    u_y_on_psi.values.ravel(),\n",
    "    marker=\">\",\n",
    "    color=\"tab:blue\",\n",
    "    zorder=2,\n",
    "    label=\"Zonal Velocity\",\n",
    ")\n",
    "ax.scatter(\n",
    "    v_x_on_psi.values.ravel(),\n",
    "    v_y_on_psi.values.ravel(),\n",
    "    marker=\"^\",\n",
    "    color=\"tab:green\",\n",
    "    zorder=2,\n",
    "    label=\"Meridional Velocity\",\n",
    ")\n",
    "\n",
    "ax.xaxis.set_major_locator(MultipleLocator(1))\n",
    "ax.xaxis.set_minor_locator(MultipleLocator(0.5))\n",
    "ax.yaxis.set_major_locator(MultipleLocator(1))\n",
    "ax.yaxis.set_minor_locator(MultipleLocator(0.5))\n",
    "\n",
    "ax.set(xlim=[-1.5, n_rows + 1.5], ylim=[-1.5, n_cols + 1.5])\n",
    "ax.grid(\n",
    "    which=\"major\",\n",
    "    zorder=1,\n",
    ")\n",
    "plt.legend(fontsize=10, edgecolor=\"black\", framealpha=1.0, facecolor=\"lightgray\")\n",
    "plt.tight_layout()\n",
    "plt.show()"
   ]
  },
  {
   "cell_type": "markdown",
   "metadata": {},
   "source": [
    "### Transforms to U-Velocity"
   ]
  },
  {
   "cell_type": "markdown",
   "metadata": {},
   "source": [
    "In this first case, we will look at all transformations that can get us to the u-velocity from any other variable on this grid.\n",
    "\n",
    "$$\n",
    "\\begin{aligned}\n",
    "q &\\rightarrow u \\\\\n",
    "\\psi &\\rightarrow u \\\\\n",
    "v &\\rightarrow u\n",
    "\\end{aligned}\n",
    "$$"
   ]
  },
  {
   "cell_type": "code",
   "execution_count": 29,
   "metadata": {
    "tags": []
   },
   "outputs": [],
   "source": [
    "psi_x_on_u = F_grid.grid_operator(psi_x, (\"right\", None))\n",
    "psi_y_on_u = F_grid.grid_operator(psi_y, (\"right\", None))\n",
    "\n",
    "v_x_on_u = F_grid.grid_operator(v_x, (\"right\", \"left\"))\n",
    "v_y_on_u = F_grid.grid_operator(v_y, (\"right\", \"left\"))\n",
    "\n",
    "q_x_on_u = F_grid.grid_operator(q_x, (None, \"left\"))\n",
    "q_y_on_u = F_grid.grid_operator(q_y, (None, \"left\"))"
   ]
  },
  {
   "cell_type": "code",
   "execution_count": 30,
   "metadata": {
    "tags": []
   },
   "outputs": [
    {
     "data": {
      "image/png": "[encoded data removed]",
      "text/plain": [
       "<Figure size 500x400 with 1 Axes>"
      ]
     },
     "metadata": {},
     "output_type": "display_data"
    }
   ],
   "source": [
    "fig, ax = plt.subplots(figsize=(5, 4))\n",
    "\n",
    "ax.scatter(\n",
    "    psi_x_on_u.values.ravel(),\n",
    "    psi_y_on_u.values.ravel(),\n",
    "    marker=\"x\",\n",
    "    color=\"black\",\n",
    "    zorder=2,\n",
    "    label=\"Stream Function\",\n",
    ")\n",
    "ax.scatter(\n",
    "    q_x_on_u.values.ravel(),\n",
    "    q_y_on_u.values.ravel(),\n",
    "    marker=\".\",\n",
    "    color=\"tab:red\",\n",
    "    zorder=3,\n",
    "    label=\"Vorticity\",\n",
    ")\n",
    "ax.scatter(\n",
    "    u_x.values.ravel(),\n",
    "    u_y.values.ravel(),\n",
    "    marker=\">\",\n",
    "    color=\"tab:blue\",\n",
    "    zorder=2,\n",
    "    label=\"Zonal Velocity\",\n",
    ")\n",
    "ax.scatter(\n",
    "    v_x_on_u.values.ravel(),\n",
    "    v_y_on_u.values.ravel(),\n",
    "    marker=\"^\",\n",
    "    color=\"tab:green\",\n",
    "    zorder=2,\n",
    "    label=\"Meridional Velocity\",\n",
    ")\n",
    "\n",
    "ax.xaxis.set_major_locator(MultipleLocator(1))\n",
    "ax.xaxis.set_minor_locator(MultipleLocator(0.5))\n",
    "ax.yaxis.set_major_locator(MultipleLocator(1))\n",
    "ax.yaxis.set_minor_locator(MultipleLocator(0.5))\n",
    "\n",
    "ax.set(xlim=[-1.5, n_rows + 1.5], ylim=[-1.5, n_cols + 1.5])\n",
    "ax.grid(\n",
    "    which=\"major\",\n",
    "    zorder=1,\n",
    ")\n",
    "plt.legend(fontsize=10, edgecolor=\"black\", framealpha=1.0, facecolor=\"lightgray\")\n",
    "plt.tight_layout()\n",
    "plt.show()"
   ]
  },
  {
   "cell_type": "markdown",
   "metadata": {},
   "source": [
    "### Transforms to V-Velocity"
   ]
  },
  {
   "cell_type": "markdown",
   "metadata": {},
   "source": [
    "In this first case, we will look at all transformations that can get us to the v-velocity from any other variable on this grid.\n",
    "\n",
    "$$\n",
    "\\begin{aligned}\n",
    "q &\\rightarrow v \\\\\n",
    "\\psi &\\rightarrow v \\\\\n",
    "u &\\rightarrow v\n",
    "\\end{aligned}\n",
    "$$"
   ]
  },
  {
   "cell_type": "code",
   "execution_count": 31,
   "metadata": {
    "tags": []
   },
   "outputs": [],
   "source": [
    "psi_x_on_v = F_grid.grid_operator(psi_x, (None, \"right\"))\n",
    "psi_y_on_v = F_grid.grid_operator(psi_y, (None, \"right\"))\n",
    "\n",
    "u_x_on_v = F_grid.grid_operator(u_x, (\"left\", \"right\"))\n",
    "u_y_on_v = F_grid.grid_operator(u_y, (\"left\", \"right\"))\n",
    "\n",
    "q_x_on_v = F_grid.grid_operator(q_x, (\"left\", None))\n",
    "q_y_on_v = F_grid.grid_operator(q_y, (\"left\", None))"
   ]
  },
  {
   "cell_type": "code",
   "execution_count": 32,
   "metadata": {
    "tags": []
   },
   "outputs": [
    {
     "data": {
      "image/png": "[encoded data removed]",
      "text/plain": [
       "<Figure size 500x400 with 1 Axes>"
      ]
     },
     "metadata": {},
     "output_type": "display_data"
    }
   ],
   "source": [
    "fig, ax = plt.subplots(figsize=(5, 4))\n",
    "\n",
    "ax.scatter(\n",
    "    psi_x_on_v.values.ravel(),\n",
    "    psi_y_on_v.values.ravel(),\n",
    "    marker=\"x\",\n",
    "    color=\"black\",\n",
    "    zorder=2,\n",
    "    label=\"Stream Function\",\n",
    ")\n",
    "ax.scatter(\n",
    "    q_x_on_v.values.ravel(),\n",
    "    q_y_on_v.values.ravel(),\n",
    "    marker=\".\",\n",
    "    color=\"tab:red\",\n",
    "    zorder=3,\n",
    "    label=\"Vorticity\",\n",
    ")\n",
    "ax.scatter(\n",
    "    u_x_on_v.values.ravel(),\n",
    "    u_y_on_v.values.ravel(),\n",
    "    marker=\">\",\n",
    "    color=\"tab:blue\",\n",
    "    zorder=2,\n",
    "    label=\"Zonal Velocity\",\n",
    ")\n",
    "ax.scatter(\n",
    "    v_x.values.ravel(),\n",
    "    v_y.values.ravel(),\n",
    "    marker=\"^\",\n",
    "    color=\"tab:green\",\n",
    "    zorder=2,\n",
    "    label=\"Meridional Velocity\",\n",
    ")\n",
    "\n",
    "ax.xaxis.set_major_locator(MultipleLocator(1))\n",
    "ax.xaxis.set_minor_locator(MultipleLocator(0.5))\n",
    "ax.yaxis.set_major_locator(MultipleLocator(1))\n",
    "ax.yaxis.set_minor_locator(MultipleLocator(0.5))\n",
    "\n",
    "ax.set(xlim=[-1.5, n_rows + 1.5], ylim=[-1.5, n_cols + 1.5])\n",
    "ax.grid(\n",
    "    which=\"major\",\n",
    "    zorder=1,\n",
    ")\n",
    "plt.legend(fontsize=10, edgecolor=\"black\", framealpha=1.0, facecolor=\"lightgray\")\n",
    "plt.tight_layout()\n",
    "plt.show()"
   ]
  },
  {
   "cell_type": "code",
   "execution_count": null,
   "metadata": {},
   "outputs": [],
   "source": []
  }
 ],
 "metadata": {
  "kernelspec": {
   "display_name": "Python [conda env:jax_eo_py310]",
   "language": "python",
   "name": "conda-env-jax_eo_py310-py"
  },
  "language_info": {
   "codemirror_mode": {
    "name": "ipython",
    "version": 3
   },
   "file_extension": ".py",
   "mimetype": "text/x-python",
   "name": "python",
   "nbconvert_exporter": "python",
   "pygments_lexer": "ipython3",
   "version": "3.9.16"
  }
 },
 "nbformat": 4,
 "nbformat_minor": 4
}
