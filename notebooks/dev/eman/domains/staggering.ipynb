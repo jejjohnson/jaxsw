{
 "cells": [
  {
   "cell_type": "markdown",
   "metadata": {},
   "source": [
    "# Staggered Grids"
   ]
  },
  {
   "cell_type": "code",
   "execution_count": 1,
   "metadata": {
    "tags": []
   },
   "outputs": [],
   "source": [
    "import autoroot\n",
    "import jax\n",
    "import jax.numpy as jnp\n",
    "import numpy as np\n",
    "import kernex as kex\n",
    "import matplotlib.pyplot as plt\n",
    "import seaborn as sns\n",
    "import xarray as xr\n",
    "from jaxtyping import Array\n",
    "import einops\n",
    "import finitediffx as fdx\n",
    "from jaxsw._src.operators.functional import grid as F_grid\n",
    "from jaxsw._src.operators.functional import cgrid as C_grid\n",
    "from jaxsw._src.boundaries import functional as F_bc\n",
    "from jaxsw._src.domain.base import Domain\n",
    "from jaxsw._src.fields.base import Field\n",
    "from matplotlib.ticker import MultipleLocator, AutoMinorLocator\n",
    "\n",
    "sns.reset_defaults()\n",
    "sns.set_context(context=\"talk\", font_scale=0.7)\n",
    "jax.config.update(\"jax_enable_x64\", True)\n",
    "\n",
    "%matplotlib inline\n",
    "%load_ext autoreload\n",
    "%autoreload 2"
   ]
  },
  {
   "cell_type": "markdown",
   "metadata": {},
   "source": [
    "## 1-Dimensional"
   ]
  },
  {
   "cell_type": "markdown",
   "metadata": {},
   "source": [
    "```python\n",
    "+ -- ⋅ -- +\n",
    "u -- u̅ -- u\n",
    "+ -- ⋅ -- +\n",
    "```\n",
    "\n",
    "\n",
    "```python\n",
    "# QOI\n",
    "q: Array[\"Nx\"] = ...\n",
    "# U-Velocity\n",
    "u: Array[\"Nx\"] = ...\n",
    "```"
   ]
  },
  {
   "cell_type": "code",
   "execution_count": 2,
   "metadata": {
    "tags": []
   },
   "outputs": [],
   "source": [
    "import typing as tp"
   ]
  },
  {
   "cell_type": "code",
   "execution_count": 3,
   "metadata": {
    "tags": []
   },
   "outputs": [
    {
     "data": {
      "text/plain": [
       "((6,), (6,))"
      ]
     },
     "execution_count": 3,
     "metadata": {},
     "output_type": "execute_result"
    }
   ],
   "source": [
    "ncols = 5\n",
    "\n",
    "# initialize the Q domain\n",
    "q_domain = Domain(xmin=(0,), xmax=(ncols,), dx=(1,))\n",
    "values = q_domain.grid[..., 0]\n",
    "q = Field(values, q_domain)\n",
    "\n",
    "\n",
    "# initialize the u-velocity domain\n",
    "u_domain = Domain(xmin=(0,), xmax=(ncols,), dx=(1,), stagger=(\"right\",))\n",
    "values = u_domain.grid[..., 0]\n",
    "u = Field(values, u_domain)\n",
    "\n",
    "q.values.shape, u.values.shape"
   ]
  },
  {
   "cell_type": "code",
   "execution_count": 4,
   "metadata": {
    "tags": []
   },
   "outputs": [
    {
     "name": "stderr",
     "output_type": "stream",
     "text": [
      "No artists with labels found to put in legend.  Note that artists whose label start with an underscore are ignored when legend() is called with no argument.\n"
     ]
    },
    {
     "data": {
      "image/png": "[encoded data removed]",
      "text/plain": [
       "<Figure size 400x200 with 1 Axes>"
      ]
     },
     "metadata": {},
     "output_type": "display_data"
    }
   ],
   "source": [
    "from matplotlib.ticker import MultipleLocator, AutoMinorLocator\n",
    "\n",
    "fig, ax = plt.subplots(figsize=(4, 2))\n",
    "\n",
    "ax.scatter(q.values, jnp.ones_like(q.values), marker=\"x\", color=\"black\", zorder=2)\n",
    "ax.scatter(u.values, jnp.ones_like(u.values), marker=\">\", color=\"tab:blue\", zorder=2)\n",
    "ax.xaxis.set_major_locator(MultipleLocator(1))\n",
    "\n",
    "ax.set(xlim=[-0.5, ncols + 0.5])\n",
    "ax.grid(which=\"major\", zorder=1)\n",
    "plt.legend()\n",
    "plt.tight_layout()\n",
    "plt.show()"
   ]
  },
  {
   "cell_type": "code",
   "execution_count": 5,
   "metadata": {
    "tags": []
   },
   "outputs": [
    {
     "data": {
      "text/plain": [
       "Array([2., 1., 0., 1., 2., 3., 4., 5., 4., 3.], dtype=float64)"
      ]
     },
     "execution_count": 5,
     "metadata": {},
     "output_type": "execute_result"
    }
   ],
   "source": [
    "jnp.pad(q.values.squeeze(), pad_width=((2, 2)), mode=\"reflect\")"
   ]
  },
  {
   "cell_type": "code",
   "execution_count": 6,
   "metadata": {
    "tags": []
   },
   "outputs": [
    {
     "data": {
      "text/plain": [
       "(6, 1)"
      ]
     },
     "execution_count": 6,
     "metadata": {},
     "output_type": "execute_result"
    }
   ],
   "source": [
    "u.domain.grid.shape"
   ]
  },
  {
   "cell_type": "code",
   "execution_count": 7,
   "metadata": {
    "tags": []
   },
   "outputs": [
    {
     "name": "stdout",
     "output_type": "stream",
     "text": [
      "[0. 1. 2. 3. 4. 5.] (6,)\n",
      "(6,)\n"
     ]
    },
    {
     "data": {
      "text/plain": [
       "(Array([0.5, 1.5, 2.5, 3.5, 4.5, 5. ], dtype=float64),\n",
       " Array([0.5, 1.5, 2.5, 3.5, 4.5, 5.5], dtype=float64))"
      ]
     },
     "execution_count": 7,
     "metadata": {},
     "output_type": "execute_result"
    }
   ],
   "source": [
    "print(q.values.squeeze(), q.values.shape)\n",
    "q_on_u = F_grid.grid_operator(q, (\"right\",))\n",
    "q_on_u.values, u.values"
   ]
  },
  {
   "cell_type": "code",
   "execution_count": 8,
   "metadata": {
    "tags": []
   },
   "outputs": [
    {
     "data": {
      "text/plain": [
       "(6, 1)"
      ]
     },
     "execution_count": 8,
     "metadata": {},
     "output_type": "execute_result"
    }
   ],
   "source": [
    "q.domain.grid.shape"
   ]
  },
  {
   "cell_type": "code",
   "execution_count": 9,
   "metadata": {
    "tags": []
   },
   "outputs": [
    {
     "name": "stdout",
     "output_type": "stream",
     "text": [
      "(6,)\n"
     ]
    },
    {
     "data": {
      "text/plain": [
       "(Array([0.5, 1. , 2. , 3. , 4. , 5. ], dtype=float64),\n",
       " Array([0., 1., 2., 3., 4., 5.], dtype=float64))"
      ]
     },
     "execution_count": 9,
     "metadata": {},
     "output_type": "execute_result"
    }
   ],
   "source": [
    "u_on_q = F_grid.grid_operator(u, (\"left\",))\n",
    "u_on_q.values, q.values"
   ]
  },
  {
   "cell_type": "code",
   "execution_count": 10,
   "metadata": {
    "tags": []
   },
   "outputs": [
    {
     "name": "stderr",
     "output_type": "stream",
     "text": [
      "No artists with labels found to put in legend.  Note that artists whose label start with an underscore are ignored when legend() is called with no argument.\n"
     ]
    },
    {
     "data": {
      "image/png": "[encoded data removed]",
      "text/plain": [
       "<Figure size 400x200 with 1 Axes>"
      ]
     },
     "metadata": {},
     "output_type": "display_data"
    }
   ],
   "source": [
    "from matplotlib.ticker import MultipleLocator, AutoMinorLocator\n",
    "\n",
    "fig, ax = plt.subplots(figsize=(4, 2))\n",
    "\n",
    "ax.scatter(q.values, jnp.ones_like(q.values), marker=\"x\", color=\"black\", zorder=2)\n",
    "ax.scatter(\n",
    "    u_on_q.values, np.ones_like(u_on_q.values), marker=\">\", color=\"tab:blue\", zorder=2\n",
    ")\n",
    "ax.xaxis.set_major_locator(MultipleLocator(1))\n",
    "\n",
    "ax.set(xlim=[-0.5, ncols + 0.5])\n",
    "ax.grid(which=\"major\", zorder=1)\n",
    "plt.legend()\n",
    "plt.tight_layout()\n",
    "plt.show()"
   ]
  },
  {
   "cell_type": "markdown",
   "metadata": {},
   "source": [
    "### Nodes to Edges\n",
    "\n",
    "This happens when we want to move the field defined on the field to the top-down edges.\n",
    "For example, we may want to use the quantity of interest defined on the nodes to estimate the velocities defined on the top-down edges."
   ]
  },
  {
   "cell_type": "markdown",
   "metadata": {},
   "source": [
    "```python\n",
    "# QOI\n",
    "q: Array[\"Nx\"] = ...\n",
    "# U-Velocity\n",
    "u: Array[\"Nx-1\"] = ...\n",
    "```"
   ]
  },
  {
   "cell_type": "code",
   "execution_count": 11,
   "metadata": {
    "tags": []
   },
   "outputs": [
    {
     "name": "stderr",
     "output_type": "stream",
     "text": [
      "No artists with labels found to put in legend.  Note that artists whose label start with an underscore are ignored when legend() is called with no argument.\n"
     ]
    },
    {
     "data": {
      "image/png": "[encoded data removed]",
      "text/plain": [
       "<Figure size 400x200 with 1 Axes>"
      ]
     },
     "metadata": {},
     "output_type": "display_data"
    }
   ],
   "source": [
    "fig, ax = plt.subplots(figsize=(4, 2))\n",
    "\n",
    "ax.scatter(\n",
    "    q_on_u.values, np.ones_like(q_on_u.values), marker=\"x\", color=\"black\", zorder=2\n",
    ")\n",
    "ax.scatter(u.values, np.ones_like(u.values), marker=\">\", color=\"tab:blue\", zorder=2)\n",
    "ax.xaxis.set_major_locator(MultipleLocator(1))\n",
    "\n",
    "ax.set(xlim=[-0.5, ncols + 0.5])\n",
    "ax.grid(which=\"major\", zorder=1)\n",
    "plt.legend()\n",
    "plt.tight_layout()\n",
    "plt.show()"
   ]
  },
  {
   "cell_type": "markdown",
   "metadata": {},
   "source": [
    "## Arakawa C-Grid"
   ]
  },
  {
   "cell_type": "markdown",
   "metadata": {},
   "source": [
    "In this example, we will look at the classic Arakawa C-Grid.\n",
    "This seems to be the standard for using standard finite difference methods on gridded domains.\n",
    "All of the variables are on staggered domains which means that we will have to do some small transformations to put each variable on other domains."
   ]
  },
  {
   "cell_type": "markdown",
   "metadata": {},
   "source": [
    "In this example, we'll look at two variables along with their corresponding velocities.\n",
    "The inspiration comes from the QG equation where we have\n",
    "\n",
    "$$\n",
    "\\begin{aligned}\n",
    "\\partial_t q + \\vec{u}\\cdot q &= 0 \\\\\n",
    "q = \\boldsymbol{\\nabla}_H \\psi\n",
    "\\end{aligned}\n",
    "$$\n",
    "\n",
    "where we have four variables we need to handle in total:\n",
    "\n",
    "* $q$ - potential vorticity on the cell faces\n",
    "* $u$ - zonal velocity on the Top-Bottom cell edges\n",
    "* $v$ - meridional velocity on the East-West cell edges\n",
    "* $\\psi$ - stream function on the cell nodes."
   ]
  },
  {
   "cell_type": "code",
   "execution_count": 2,
   "metadata": {},
   "outputs": [],
   "source": [
    "n_rows = 3\n",
    "n_cols = 5\n",
    "\n",
    "# Stream Function Domain - Cell Corners\n",
    "psi_domain = Domain(xmin=(0, 0), xmax=(n_rows, n_cols), dx=(1, 1))\n",
    "psi = psi_domain.grid[..., 0]\n",
    "\n",
    "# Q Domain - cell faces\n",
    "q_domain = Domain(\n",
    "    xmin=(0.0, 0.0), xmax=(n_rows, n_cols), dx=(1, 1), stagger=(\"right\", \"right\")\n",
    ")\n",
    "q = q_domain.grid[..., 0]"
   ]
  },
  {
   "cell_type": "code",
   "execution_count": 3,
   "metadata": {},
   "outputs": [
    {
     "data": {
      "text/plain": [
       "Array([[0., 0., 0., 0., 0., 0.],\n",
       "       [1., 1., 1., 1., 1., 1.],\n",
       "       [2., 2., 2., 2., 2., 2.],\n",
       "       [3., 3., 3., 3., 3., 3.]], dtype=float64)"
      ]
     },
     "execution_count": 3,
     "metadata": {},
     "output_type": "execute_result"
    }
   ],
   "source": [
    "psi"
   ]
  },
  {
   "cell_type": "code",
   "execution_count": 4,
   "metadata": {},
   "outputs": [
    {
     "data": {
      "text/plain": [
       "Array([[0.5, 0.5, 0.5, 0.5, 0.5, 0.5],\n",
       "       [1.5, 1.5, 1.5, 1.5, 1.5, 1.5],\n",
       "       [2.5, 2.5, 2.5, 2.5, 2.5, 2.5],\n",
       "       [3.5, 3.5, 3.5, 3.5, 3.5, 3.5]], dtype=float64)"
      ]
     },
     "execution_count": 4,
     "metadata": {},
     "output_type": "execute_result"
    }
   ],
   "source": [
    "q"
   ]
  },
  {
   "cell_type": "code",
   "execution_count": null,
   "metadata": {},
   "outputs": [],
   "source": []
  },
  {
   "cell_type": "code",
   "execution_count": 113,
   "metadata": {},
   "outputs": [],
   "source": [
    "import einops\n",
    "import jax.scipy as jsp\n",
    "\n",
    "\n",
    "def create_meshgrid_coordinates(shape):\n",
    "    meshgrid = jnp.meshgrid(*[jnp.arange(size) for size in shape], indexing=\"ij\")\n",
    "    # create indices\n",
    "    indices = jnp.concatenate([jnp.expand_dims(x, axis=-1) for x in meshgrid], axis=-1)\n",
    "\n",
    "    return indices\n",
    "\n",
    "\n",
    "def domain_transformation_1D(\n",
    "    values: Array, domain: Domain, new_domain: Domain, **kwargs\n",
    ") -> Array:\n",
    "    # check domains\n",
    "    assert len(domain.xmin) == len(new_domain.xmin) == 1\n",
    "\n",
    "    # pad array\n",
    "    values = jnp.pad(values, pad_width=((1, 1)), mode=\"reflect\")\n",
    "\n",
    "    # get offsets\n",
    "    offset = [new_domain.xmin - domain.xmin]\n",
    "\n",
    "    # create meshgrid\n",
    "    indices = create_meshgrid_coordinates(values.shape)\n",
    "\n",
    "    # add offsets\n",
    "    indices += jnp.asarray(offset)\n",
    "\n",
    "    # get indices for new domain\n",
    "    values_new = jsp.ndimage.map_coordinates(\n",
    "        values,\n",
    "        indices,\n",
    "        **kwargs,\n",
    "    )\n",
    "\n",
    "    return values_new[1:-1]\n",
    "\n",
    "\n",
    "def domain_transformation_2D(\n",
    "    values: Array, domain: Domain, new_domain: Domain, **kwargs\n",
    ") -> Array:\n",
    "    # check domains\n",
    "    assert len(domain.xmin) == len(new_domain.xmin) == 2\n",
    "\n",
    "    # pad array\n",
    "    values = jnp.pad(values, pad_width=((1, 1), (1, 1)), mode=\"reflect\")\n",
    "\n",
    "    # get offsets\n",
    "    offset = [\n",
    "        d2_xmin - d1_xmin for d1_xmin, d2_xmin in zip(domain.xmin, new_domain.xmin)\n",
    "    ]\n",
    "\n",
    "    # create meshgrid\n",
    "    meshgrid = jnp.meshgrid(*[jnp.arange(size) for size in values.shape], indexing=\"ij\")\n",
    "    # create indices\n",
    "    indices = jnp.concatenate([jnp.expand_dims(x, axis=-1) for x in meshgrid], axis=-1)\n",
    "    # rearrange indices\n",
    "    indices = einops.rearrange(indices, \"Nx Ny c -> c (Nx Ny)\", c=2)\n",
    "\n",
    "    # add offsets\n",
    "    indices += jnp.asarray(offset)[..., jnp.newaxis]\n",
    "\n",
    "    # get indices for new domain\n",
    "    values_new = jsp.ndimage.map_coordinates(\n",
    "        values,\n",
    "        indices,\n",
    "        **kwargs,\n",
    "    )\n",
    "\n",
    "    # rearrange to fit domain\n",
    "    values_new = einops.rearrange(\n",
    "        values_new, \"(Nx Ny) -> Nx Ny\", Nx=domain.size[0] + 2, Ny=domain.size[1] + 2\n",
    "    )\n",
    "    return values_new[1:-1, 1:-1]\n",
    "\n",
    "\n",
    "def domain_transformation_3D(\n",
    "    values: Array, domain: Domain, new_domain: Domain, **kwargs\n",
    ") -> Array:\n",
    "    # check domains\n",
    "    assert len(domain.xmin) == len(new_domain.xmin) == 3\n",
    "\n",
    "    # pad array\n",
    "    values = jnp.pad(values, pad_width=((1, 1), (1, 1), (1, 1)), mode=\"reflect\")\n",
    "\n",
    "    # get offsets\n",
    "    offset = [\n",
    "        d2_xmin - d1_xmin for d1_xmin, d2_xmin in zip(domain.xmin, new_domain.xmin)\n",
    "    ]\n",
    "\n",
    "    # create meshgrid\n",
    "    meshgrid = jnp.meshgrid(*[jnp.arange(size) for size in values.shape], indexing=\"ij\")\n",
    "    # create indices\n",
    "    indices = jnp.concatenate([jnp.expand_dims(x, axis=-1) for x in meshgrid], axis=-1)\n",
    "    # rearrange indices\n",
    "    indices = einops.rearrange(indices, \"Nx Ny Nz c -> c (Nx Ny Nz)\", c=3)\n",
    "\n",
    "    # add offsets\n",
    "    indices += jnp.asarray(offset)[..., jnp.newaxis]\n",
    "\n",
    "    # get indices for new domain\n",
    "    values_new = jsp.ndimage.map_coordinates(\n",
    "        values,\n",
    "        indices,\n",
    "        **kwargs,\n",
    "    )\n",
    "\n",
    "    # rearrange to fit domain\n",
    "    values_new = einops.rearrange(\n",
    "        values_new,\n",
    "        \"(Nx Ny Nz) -> Nx Ny Nz\",\n",
    "        Nx=domain.size[0] + 2,\n",
    "        Ny=domain.size[1] + 2,\n",
    "        Nz=domain.size[2] + 2,\n",
    "    )\n",
    "\n",
    "    return values_new[1:-1, 1:-1, 1:-1]"
   ]
  },
  {
   "cell_type": "code",
   "execution_count": 116,
   "metadata": {},
   "outputs": [
    {
     "data": {
      "text/plain": [
       "(Array([[0.5, 0.5, 0.5, 0.5, 0.5, 0.5],\n",
       "        [1.5, 1.5, 1.5, 1.5, 1.5, 1.5],\n",
       "        [2.5, 2.5, 2.5, 2.5, 2.5, 2.5],\n",
       "        [2.5, 2.5, 2.5, 2.5, 2.5, 2.5]], dtype=float64),\n",
       " Array([[0.5, 0.5, 0.5, 0.5, 0.5, 0.5],\n",
       "        [1.5, 1.5, 1.5, 1.5, 1.5, 1.5],\n",
       "        [2.5, 2.5, 2.5, 2.5, 2.5, 2.5],\n",
       "        [3.5, 3.5, 3.5, 3.5, 3.5, 3.5]], dtype=float64))"
      ]
     },
     "execution_count": 116,
     "metadata": {},
     "output_type": "execute_result"
    }
   ],
   "source": [
    "psi_on_q = domain_transfer_2D(psi, psi_domain, q_domain, order=1, mode=\"reflect\")\n",
    "psi_on_q, q"
   ]
  },
  {
   "cell_type": "code",
   "execution_count": 117,
   "metadata": {},
   "outputs": [
    {
     "data": {
      "text/plain": [
       "(Array([[1., 1., 1., 1., 1., 1.],\n",
       "        [1., 1., 1., 1., 1., 1.],\n",
       "        [2., 2., 2., 2., 2., 2.],\n",
       "        [3., 3., 3., 3., 3., 3.]], dtype=float64),\n",
       " Array([[0., 0., 0., 0., 0., 0.],\n",
       "        [1., 1., 1., 1., 1., 1.],\n",
       "        [2., 2., 2., 2., 2., 2.],\n",
       "        [3., 3., 3., 3., 3., 3.]], dtype=float64))"
      ]
     },
     "execution_count": 117,
     "metadata": {},
     "output_type": "execute_result"
    }
   ],
   "source": [
    "q_on_psi = domain_transfer_2D(q, q_domain, psi_domain, order=1, mode=\"reflect\")\n",
    "q_on_psi, psi"
   ]
  },
  {
   "cell_type": "code",
   "execution_count": null,
   "metadata": {},
   "outputs": [],
   "source": []
  },
  {
   "cell_type": "code",
   "execution_count": null,
   "metadata": {},
   "outputs": [],
   "source": []
  },
  {
   "cell_type": "code",
   "execution_count": 24,
   "metadata": {},
   "outputs": [
    {
     "data": {
      "text/plain": [
       "((0.5, 0.5), (0.0, 0.0))"
      ]
     },
     "execution_count": 24,
     "metadata": {},
     "output_type": "execute_result"
    }
   ],
   "source": [
    "q_domain.xmin, psi_domain.xmin"
   ]
  },
  {
   "cell_type": "code",
   "execution_count": 32,
   "metadata": {},
   "outputs": [
    {
     "data": {
      "text/plain": [
       "[-0.5, -0.5]"
      ]
     },
     "execution_count": 32,
     "metadata": {},
     "output_type": "execute_result"
    }
   ],
   "source": [
    "offset = [d1_xmin - d2_xmin for d1_xmin, d2_xmin in zip(psi_domain.xmin, q_domain.xmin)]\n",
    "offset"
   ]
  },
  {
   "cell_type": "code",
   "execution_count": 33,
   "metadata": {},
   "outputs": [
    {
     "data": {
      "text/plain": [
       "Array([[0.5, 0.5, 0.5, 0.5, 0.5, 0.5, 1.5, 1.5, 1.5, 1.5, 1.5, 1.5, 2.5,\n",
       "        2.5, 2.5, 2.5, 2.5, 2.5, 3.5, 3.5, 3.5, 3.5, 3.5, 3.5],\n",
       "       [0.5, 1.5, 2.5, 3.5, 4.5, 5.5, 0.5, 1.5, 2.5, 3.5, 4.5, 5.5, 0.5,\n",
       "        1.5, 2.5, 3.5, 4.5, 5.5, 0.5, 1.5, 2.5, 3.5, 4.5, 5.5]],      dtype=float64)"
      ]
     },
     "execution_count": 33,
     "metadata": {},
     "output_type": "execute_result"
    }
   ],
   "source": [
    "indices = einops.rearrange(q_domain.grid, \"Nx Ny c -> c (Nx Ny)\", c=2)\n",
    "indices"
   ]
  },
  {
   "cell_type": "code",
   "execution_count": 42,
   "metadata": {},
   "outputs": [
    {
     "data": {
      "text/plain": [
       "Array([[0., 0., 0., 0., 0., 0., 1., 1., 1., 1., 1., 1., 2., 2., 2., 2.,\n",
       "        2., 2., 3., 3., 3., 3., 3., 3.],\n",
       "       [0., 1., 2., 3., 4., 5., 0., 1., 2., 3., 4., 5., 0., 1., 2., 3.,\n",
       "        4., 5., 0., 1., 2., 3., 4., 5.]], dtype=float64)"
      ]
     },
     "execution_count": 42,
     "metadata": {},
     "output_type": "execute_result"
    }
   ],
   "source": []
  },
  {
   "cell_type": "code",
   "execution_count": null,
   "metadata": {},
   "outputs": [],
   "source": []
  },
  {
   "cell_type": "code",
   "execution_count": null,
   "metadata": {},
   "outputs": [],
   "source": []
  },
  {
   "cell_type": "code",
   "execution_count": null,
   "metadata": {},
   "outputs": [],
   "source": []
  },
  {
   "cell_type": "code",
   "execution_count": null,
   "metadata": {},
   "outputs": [],
   "source": []
  },
  {
   "cell_type": "code",
   "execution_count": null,
   "metadata": {},
   "outputs": [],
   "source": []
  },
  {
   "cell_type": "code",
   "execution_count": null,
   "metadata": {},
   "outputs": [],
   "source": []
  },
  {
   "cell_type": "code",
   "execution_count": null,
   "metadata": {},
   "outputs": [],
   "source": []
  },
  {
   "cell_type": "code",
   "execution_count": null,
   "metadata": {},
   "outputs": [],
   "source": []
  },
  {
   "cell_type": "code",
   "execution_count": null,
   "metadata": {},
   "outputs": [],
   "source": []
  },
  {
   "cell_type": "code",
   "execution_count": null,
   "metadata": {},
   "outputs": [],
   "source": []
  },
  {
   "cell_type": "code",
   "execution_count": null,
   "metadata": {},
   "outputs": [],
   "source": []
  },
  {
   "cell_type": "code",
   "execution_count": 29,
   "metadata": {},
   "outputs": [
    {
     "data": {
      "text/plain": [
       "(0.0, 0.5)"
      ]
     },
     "execution_count": 29,
     "metadata": {},
     "output_type": "execute_result"
    }
   ],
   "source": [
    "psi_domain.xmin[0], q_domain.xmin[0]"
   ]
  },
  {
   "cell_type": "code",
   "execution_count": null,
   "metadata": {},
   "outputs": [],
   "source": []
  },
  {
   "cell_type": "code",
   "execution_count": 12,
   "metadata": {},
   "outputs": [
    {
     "data": {
      "text/plain": [
       "(Array([[0.5, 0.5, 0.5, 0.5, 0.5, 0.5],\n",
       "        [1.5, 1.5, 1.5, 1.5, 1.5, 1.5],\n",
       "        [2.5, 2.5, 2.5, 2.5, 2.5, 2.5],\n",
       "        [3.5, 3.5, 3.5, 3.5, 3.5, 3.5]], dtype=float64),\n",
       " Array([[0., 0., 0., 0., 0., 0.],\n",
       "        [1., 1., 1., 1., 1., 1.],\n",
       "        [2., 2., 2., 2., 2., 2.],\n",
       "        [3., 3., 3., 3., 3., 3.]], dtype=float64))"
      ]
     },
     "execution_count": 12,
     "metadata": {},
     "output_type": "execute_result"
    }
   ],
   "source": [
    "q_on_psi = domain_transfer_2D(q, psi_domain, order=1, mode=\"constant\")\n",
    "q_on_psi, psi"
   ]
  },
  {
   "cell_type": "code",
   "execution_count": null,
   "metadata": {},
   "outputs": [],
   "source": []
  },
  {
   "cell_type": "code",
   "execution_count": null,
   "metadata": {},
   "outputs": [],
   "source": []
  },
  {
   "cell_type": "code",
   "execution_count": null,
   "metadata": {},
   "outputs": [],
   "source": [
    "n_rows = 3\n",
    "n_cols = 5\n",
    "\n",
    "# Stream Function Domain - Cell Corners\n",
    "psi_domain = Domain(xmin=(0, 0), xmax=(n_rows, n_cols), dx=(1, 1))\n",
    "psi_x = Field(psi_domain.grid[..., 0], psi_domain)\n",
    "psi_y = Field(psi_domain.grid[..., 1], psi_domain)\n",
    "\n",
    "# Q Domain - cell faces\n",
    "q_domain = Domain(\n",
    "    xmin=(0.0, 0.0), xmax=(n_rows, n_cols), dx=(1, 1), stagger=(\"right\", \"right\")\n",
    ")\n",
    "q_x = Field(q_domain.grid[..., 0], q_domain)\n",
    "q_y = Field(q_domain.grid[..., 1], q_domain)"
   ]
  },
  {
   "cell_type": "code",
   "execution_count": 148,
   "metadata": {},
   "outputs": [
    {
     "data": {
      "text/plain": [
       "Array([[0., 0., 0., 0., 0., 0.],\n",
       "       [1., 1., 1., 1., 1., 1.],\n",
       "       [2., 2., 2., 2., 2., 2.],\n",
       "       [3., 3., 3., 3., 3., 3.]], dtype=float64)"
      ]
     },
     "execution_count": 148,
     "metadata": {},
     "output_type": "execute_result"
    }
   ],
   "source": [
    "grid = psi_domain.grid\n",
    "values = psi_domain.grid[..., 0]\n",
    "values"
   ]
  },
  {
   "cell_type": "code",
   "execution_count": 141,
   "metadata": {},
   "outputs": [],
   "source": [
    "import einops"
   ]
  },
  {
   "cell_type": "code",
   "execution_count": 143,
   "metadata": {},
   "outputs": [
    {
     "data": {
      "text/plain": [
       "Array([[0., 0., 0., 0., 0., 0., 1., 1., 1., 1., 1., 1., 2., 2., 2., 2.,\n",
       "        2., 2., 3., 3., 3., 3., 3., 3.],\n",
       "       [0., 1., 2., 3., 4., 5., 0., 1., 2., 3., 4., 5., 0., 1., 2., 3.,\n",
       "        4., 5., 0., 1., 2., 3., 4., 5.]], dtype=float64)"
      ]
     },
     "execution_count": 143,
     "metadata": {},
     "output_type": "execute_result"
    }
   ],
   "source": [
    "indices"
   ]
  },
  {
   "cell_type": "code",
   "execution_count": 144,
   "metadata": {},
   "outputs": [
    {
     "data": {
      "text/plain": [
       "(24,)"
      ]
     },
     "execution_count": 144,
     "metadata": {},
     "output_type": "execute_result"
    }
   ],
   "source": [
    "values_new.shape"
   ]
  },
  {
   "cell_type": "code",
   "execution_count": 149,
   "metadata": {},
   "outputs": [
    {
     "data": {
      "text/plain": [
       "(24,)"
      ]
     },
     "execution_count": 149,
     "metadata": {},
     "output_type": "execute_result"
    }
   ],
   "source": [
    "values_new = jsp.ndimage.map_coordinates(values, indices, order=1)\n",
    "values_new.shape"
   ]
  },
  {
   "cell_type": "code",
   "execution_count": 150,
   "metadata": {},
   "outputs": [
    {
     "data": {
      "text/plain": [
       "Array([[0., 0., 0., 0., 0., 0.],\n",
       "       [1., 1., 1., 1., 1., 1.],\n",
       "       [2., 2., 2., 2., 2., 2.],\n",
       "       [3., 3., 3., 3., 3., 3.]], dtype=float64)"
      ]
     },
     "execution_count": 150,
     "metadata": {},
     "output_type": "execute_result"
    }
   ],
   "source": [
    "values_new = einops.rearrange(\n",
    "    values_new, \"(Nx Ny) -> Nx Ny\", Nx=domain.size[0], Ny=domain.size[1]\n",
    ")\n",
    "values_new"
   ]
  },
  {
   "cell_type": "code",
   "execution_count": null,
   "metadata": {},
   "outputs": [],
   "source": []
  },
  {
   "cell_type": "code",
   "execution_count": 105,
   "metadata": {},
   "outputs": [],
   "source": [
    "# get indices\n",
    "indices = jnp.concatenate([jnp.expand_dims(x, axis=-1) for x in meshgrid], axis=-1)"
   ]
  },
  {
   "cell_type": "code",
   "execution_count": null,
   "metadata": {},
   "outputs": [],
   "source": [
    "X_new = jsp.ndimage.map_coordinates(X, grid_coords, order=0)\n",
    "X_new = X_new.reshape(shape[0], shape[1])\n",
    "X_new"
   ]
  },
  {
   "cell_type": "code",
   "execution_count": 57,
   "metadata": {},
   "outputs": [
    {
     "data": {
      "text/plain": [
       "(2, 24)"
      ]
     },
     "execution_count": 57,
     "metadata": {},
     "output_type": "execute_result"
    }
   ],
   "source": [
    "original_shape = grid.shape\n",
    "grid_coords = grid.reshape(shape[2], shape[1] * shape[0], -1)\n",
    "grid_coords.shape"
   ]
  },
  {
   "cell_type": "code",
   "execution_count": 104,
   "metadata": {},
   "outputs": [
    {
     "data": {
      "text/plain": [
       "Array([[0., 0., 0., 1., 0., 2., 0., 3., 0., 4., 0., 5., 1., 0., 1., 1.,\n",
       "        1., 2., 1., 3., 1., 4., 1., 5.],\n",
       "       [2., 0., 2., 1., 2., 2., 2., 3., 2., 4., 2., 5., 3., 0., 3., 1.,\n",
       "        3., 2., 3., 3., 3., 4., 3., 5.]], dtype=float64)"
      ]
     },
     "execution_count": 104,
     "metadata": {},
     "output_type": "execute_result"
    }
   ],
   "source": [
    "grid_coords"
   ]
  },
  {
   "cell_type": "code",
   "execution_count": null,
   "metadata": {},
   "outputs": [],
   "source": []
  },
  {
   "cell_type": "markdown",
   "metadata": {},
   "source": [
    "```python\n",
    "def jax_map_coordinates(values, coords, order=None, mode=None, cval=None):\n",
    "    original_shape = coords[0].shape\n",
    "    coords = coords.reshape(len(values.shape), -1)\n",
    "    output = map_coordinates(values, coords, order, mode, cval)\n",
    "    return output.reshape(original_shape)\n",
    "```"
   ]
  },
  {
   "cell_type": "code",
   "execution_count": 58,
   "metadata": {},
   "outputs": [],
   "source": [
    "import jax.scipy as jsp"
   ]
  },
  {
   "cell_type": "code",
   "execution_count": 67,
   "metadata": {},
   "outputs": [
    {
     "data": {
      "text/plain": [
       "Array([[0., 0., 0., 1., 0., 2., 0., 3., 0., 4., 0., 5., 1., 0., 1., 1.,\n",
       "        1., 2., 1., 3., 1., 4., 1., 5.],\n",
       "       [2., 0., 2., 1., 2., 2., 2., 3., 2., 4., 2., 5., 3., 0., 3., 1.,\n",
       "        3., 2., 3., 3., 3., 4., 3., 5.]], dtype=float64)"
      ]
     },
     "execution_count": 67,
     "metadata": {},
     "output_type": "execute_result"
    }
   ],
   "source": [
    "grid_coords"
   ]
  },
  {
   "cell_type": "code",
   "execution_count": 66,
   "metadata": {},
   "outputs": [
    {
     "data": {
      "text/plain": [
       "Array([[0., 0., 0., 1., 0., 2.],\n",
       "       [0., 3., 0., 0., 0., 0.],\n",
       "       [1., 0., 1., 1., 1., 2.],\n",
       "       [1., 3., 1., 0., 1., 0.]], dtype=float64)"
      ]
     },
     "execution_count": 66,
     "metadata": {},
     "output_type": "execute_result"
    }
   ],
   "source": [
    "X_new = jsp.ndimage.map_coordinates(X, grid_coords, order=0)\n",
    "X_new = X_new.reshape(shape[0], shape[1])\n",
    "X_new"
   ]
  },
  {
   "cell_type": "code",
   "execution_count": 72,
   "metadata": {},
   "outputs": [
    {
     "data": {
      "text/plain": [
       "array([[ 0.,  1.,  2.],\n",
       "       [ 3.,  4.,  5.],\n",
       "       [ 6.,  7.,  8.],\n",
       "       [ 9., 10., 11.]])"
      ]
     },
     "execution_count": 72,
     "metadata": {},
     "output_type": "execute_result"
    }
   ],
   "source": [
    "a = np.arange(12.0).reshape((4, 3))\n",
    "a"
   ]
  },
  {
   "cell_type": "code",
   "execution_count": 84,
   "metadata": {},
   "outputs": [
    {
     "data": {
      "text/plain": [
       "(4, 3, 2)"
      ]
     },
     "execution_count": 84,
     "metadata": {},
     "output_type": "execute_result"
    }
   ],
   "source": [
    "indices.shape"
   ]
  },
  {
   "cell_type": "code",
   "execution_count": 87,
   "metadata": {},
   "outputs": [
    {
     "data": {
      "text/plain": [
       "(4, 3, 2)"
      ]
     },
     "execution_count": 87,
     "metadata": {},
     "output_type": "execute_result"
    }
   ],
   "source": [
    "meshgrid = jnp.meshgrid(*[jnp.arange(size) for size in a.shape], indexing=\"ij\")\n",
    "indices = jnp.concatenate([jnp.expand_dims(x, axis=-1) for x in meshgrid], axis=-1)\n",
    "indices.shape"
   ]
  },
  {
   "cell_type": "code",
   "execution_count": 93,
   "metadata": {},
   "outputs": [
    {
     "data": {
      "text/plain": [
       "Array([0.5, 1.5], dtype=float64)"
      ]
     },
     "execution_count": 93,
     "metadata": {},
     "output_type": "execute_result"
    }
   ],
   "source": [
    "indices = [[0.0, 0.0], [0.5, 1.5]]\n",
    "\n",
    "jsp.ndimage.map_coordinates(a, indices, order=1)"
   ]
  },
  {
   "cell_type": "code",
   "execution_count": null,
   "metadata": {},
   "outputs": [],
   "source": []
  },
  {
   "cell_type": "code",
   "execution_count": null,
   "metadata": {},
   "outputs": [],
   "source": []
  },
  {
   "cell_type": "code",
   "execution_count": 29,
   "metadata": {},
   "outputs": [
    {
     "ename": "TypeError",
     "evalue": "and got incompatible shapes for broadcasting: (4,), (6,).",
     "output_type": "error",
     "traceback": [
      "\u001b[0;31m---------------------------------------------------------------------------\u001b[0m",
      "\u001b[0;31mTypeError\u001b[0m                                 Traceback (most recent call last)",
      "Cell \u001b[0;32mIn[29], line 1\u001b[0m\n\u001b[0;32m----> 1\u001b[0m out \u001b[38;5;241m=\u001b[39m jsp\u001b[38;5;241m.\u001b[39mndimage\u001b[38;5;241m.\u001b[39mmap_coordinates(X, (x,y), order\u001b[38;5;241m=\u001b[39m\u001b[38;5;241m1\u001b[39m)\n",
      "File \u001b[0;32m~/miniconda3/envs/jax_eo_py311/lib/python3.11/site-packages/jax/_src/scipy/ndimage.py:141\u001b[0m, in \u001b[0;36mmap_coordinates\u001b[0;34m(input, coordinates, order, mode, cval)\u001b[0m\n\u001b[1;32m    130\u001b[0m \u001b[38;5;129m@_wraps\u001b[39m(scipy\u001b[38;5;241m.\u001b[39mndimage\u001b[38;5;241m.\u001b[39mmap_coordinates, lax_description\u001b[38;5;241m=\u001b[39mtextwrap\u001b[38;5;241m.\u001b[39mdedent(\u001b[38;5;124m\"\"\"\u001b[39m\u001b[38;5;130;01m\\\u001b[39;00m\n\u001b[1;32m    131\u001b[0m \u001b[38;5;124m    Only nearest neighbor (``order=0``), linear interpolation (``order=1``) and\u001b[39m\n\u001b[1;32m    132\u001b[0m \u001b[38;5;124m    modes ``\u001b[39m\u001b[38;5;124m'\u001b[39m\u001b[38;5;124mconstant\u001b[39m\u001b[38;5;124m'\u001b[39m\u001b[38;5;124m``, ``\u001b[39m\u001b[38;5;124m'\u001b[39m\u001b[38;5;124mnearest\u001b[39m\u001b[38;5;124m'\u001b[39m\u001b[38;5;124m``, ``\u001b[39m\u001b[38;5;124m'\u001b[39m\u001b[38;5;124mwrap\u001b[39m\u001b[38;5;124m'\u001b[39m\u001b[38;5;124m`` ``\u001b[39m\u001b[38;5;124m'\u001b[39m\u001b[38;5;124mmirror\u001b[39m\u001b[38;5;124m'\u001b[39m\u001b[38;5;124m`` and ``\u001b[39m\u001b[38;5;124m'\u001b[39m\u001b[38;5;124mreflect\u001b[39m\u001b[38;5;124m'\u001b[39m\u001b[38;5;124m`` are currently supported.\u001b[39m\n\u001b[0;32m   (...)\u001b[0m\n\u001b[1;32m    139\u001b[0m     \u001b[38;5;28minput\u001b[39m: ArrayLike, coordinates: Sequence[ArrayLike], order: \u001b[38;5;28mint\u001b[39m, mode: \u001b[38;5;28mstr\u001b[39m \u001b[38;5;241m=\u001b[39m \u001b[38;5;124m'\u001b[39m\u001b[38;5;124mconstant\u001b[39m\u001b[38;5;124m'\u001b[39m, cval: ArrayLike \u001b[38;5;241m=\u001b[39m \u001b[38;5;241m0.0\u001b[39m,\n\u001b[1;32m    140\u001b[0m ):\n\u001b[0;32m--> 141\u001b[0m   \u001b[38;5;28;01mreturn\u001b[39;00m _map_coordinates(\u001b[38;5;28minput\u001b[39m, coordinates, order, mode, cval)\n",
      "    \u001b[0;31m[... skipping hidden 12 frame]\u001b[0m\n",
      "File \u001b[0;32m~/miniconda3/envs/jax_eo_py311/lib/python3.11/site-packages/jax/_src/scipy/ndimage.py:121\u001b[0m, in \u001b[0;36m_map_coordinates\u001b[0;34m(input, coordinates, order, mode, cval)\u001b[0m\n\u001b[1;32m    119\u001b[0m   contribution \u001b[38;5;241m=\u001b[39m input_arr[indices]\n\u001b[1;32m    120\u001b[0m \u001b[38;5;28;01melse\u001b[39;00m:\n\u001b[0;32m--> 121\u001b[0m   all_valid \u001b[38;5;241m=\u001b[39m functools\u001b[38;5;241m.\u001b[39mreduce(operator\u001b[38;5;241m.\u001b[39mand_, validities)\n\u001b[1;32m    122\u001b[0m   contribution \u001b[38;5;241m=\u001b[39m jnp\u001b[38;5;241m.\u001b[39mwhere(all_valid, input_arr[indices], cval)\n\u001b[1;32m    123\u001b[0m outputs\u001b[38;5;241m.\u001b[39mappend(_nonempty_prod(weights) \u001b[38;5;241m*\u001b[39m contribution)\n",
      "File \u001b[0;32m~/miniconda3/envs/jax_eo_py311/lib/python3.11/site-packages/jax/_src/numpy/array_methods.py:723\u001b[0m, in \u001b[0;36m_forward_operator_to_aval.<locals>.op\u001b[0;34m(self, *args)\u001b[0m\n\u001b[1;32m    722\u001b[0m \u001b[38;5;28;01mdef\u001b[39;00m \u001b[38;5;21mop\u001b[39m(\u001b[38;5;28mself\u001b[39m, \u001b[38;5;241m*\u001b[39margs):\n\u001b[0;32m--> 723\u001b[0m   \u001b[38;5;28;01mreturn\u001b[39;00m \u001b[38;5;28mgetattr\u001b[39m(\u001b[38;5;28mself\u001b[39m\u001b[38;5;241m.\u001b[39maval, \u001b[38;5;124mf\u001b[39m\u001b[38;5;124m\"\u001b[39m\u001b[38;5;124m_\u001b[39m\u001b[38;5;132;01m{\u001b[39;00mname\u001b[38;5;132;01m}\u001b[39;00m\u001b[38;5;124m\"\u001b[39m)(\u001b[38;5;28mself\u001b[39m, \u001b[38;5;241m*\u001b[39margs)\n",
      "File \u001b[0;32m~/miniconda3/envs/jax_eo_py311/lib/python3.11/site-packages/jax/_src/numpy/array_methods.py:256\u001b[0m, in \u001b[0;36m_defer_to_unrecognized_arg.<locals>.deferring_binary_op\u001b[0;34m(self, other)\u001b[0m\n\u001b[1;32m    254\u001b[0m args \u001b[38;5;241m=\u001b[39m (other, \u001b[38;5;28mself\u001b[39m) \u001b[38;5;28;01mif\u001b[39;00m swap \u001b[38;5;28;01melse\u001b[39;00m (\u001b[38;5;28mself\u001b[39m, other)\n\u001b[1;32m    255\u001b[0m \u001b[38;5;28;01mif\u001b[39;00m \u001b[38;5;28misinstance\u001b[39m(other, _accepted_binop_types):\n\u001b[0;32m--> 256\u001b[0m   \u001b[38;5;28;01mreturn\u001b[39;00m binary_op(\u001b[38;5;241m*\u001b[39margs)\n\u001b[1;32m    257\u001b[0m \u001b[38;5;28;01mif\u001b[39;00m \u001b[38;5;28misinstance\u001b[39m(other, _rejected_binop_types):\n\u001b[1;32m    258\u001b[0m   \u001b[38;5;28;01mraise\u001b[39;00m \u001b[38;5;167;01mTypeError\u001b[39;00m(\u001b[38;5;124mf\u001b[39m\u001b[38;5;124m\"\u001b[39m\u001b[38;5;124munsupported operand type(s) for \u001b[39m\u001b[38;5;132;01m{\u001b[39;00mopchar\u001b[38;5;132;01m}\u001b[39;00m\u001b[38;5;124m: \u001b[39m\u001b[38;5;124m\"\u001b[39m\n\u001b[1;32m    259\u001b[0m                   \u001b[38;5;124mf\u001b[39m\u001b[38;5;124m\"\u001b[39m\u001b[38;5;132;01m{\u001b[39;00m\u001b[38;5;28mtype\u001b[39m(args[\u001b[38;5;241m0\u001b[39m])\u001b[38;5;241m.\u001b[39m\u001b[38;5;18m__name__\u001b[39m\u001b[38;5;132;01m!r}\u001b[39;00m\u001b[38;5;124m and \u001b[39m\u001b[38;5;132;01m{\u001b[39;00m\u001b[38;5;28mtype\u001b[39m(args[\u001b[38;5;241m1\u001b[39m])\u001b[38;5;241m.\u001b[39m\u001b[38;5;18m__name__\u001b[39m\u001b[38;5;132;01m!r}\u001b[39;00m\u001b[38;5;124m\"\u001b[39m)\n",
      "    \u001b[0;31m[... skipping hidden 12 frame]\u001b[0m\n",
      "File \u001b[0;32m~/miniconda3/envs/jax_eo_py311/lib/python3.11/site-packages/jax/_src/numpy/ufuncs.py:82\u001b[0m, in \u001b[0;36m_one_to_one_binop.<locals>.<lambda>\u001b[0;34m(x1, x2)\u001b[0m\n\u001b[1;32m     80\u001b[0m   fn \u001b[38;5;241m=\u001b[39m \u001b[38;5;28;01mlambda\u001b[39;00m x1, x2, \u001b[38;5;241m/\u001b[39m: lax_fn(\u001b[38;5;241m*\u001b[39mpromote_args_numeric(numpy_fn\u001b[38;5;241m.\u001b[39m\u001b[38;5;18m__name__\u001b[39m, x1, x2))\n\u001b[1;32m     81\u001b[0m \u001b[38;5;28;01melse\u001b[39;00m:\n\u001b[0;32m---> 82\u001b[0m   fn \u001b[38;5;241m=\u001b[39m \u001b[38;5;28;01mlambda\u001b[39;00m x1, x2, \u001b[38;5;241m/\u001b[39m: lax_fn(\u001b[38;5;241m*\u001b[39mpromote_args(numpy_fn\u001b[38;5;241m.\u001b[39m\u001b[38;5;18m__name__\u001b[39m, x1, x2))\n\u001b[1;32m     83\u001b[0m fn\u001b[38;5;241m.\u001b[39m\u001b[38;5;18m__qualname__\u001b[39m \u001b[38;5;241m=\u001b[39m \u001b[38;5;124mf\u001b[39m\u001b[38;5;124m\"\u001b[39m\u001b[38;5;124mjax.numpy.\u001b[39m\u001b[38;5;132;01m{\u001b[39;00mnumpy_fn\u001b[38;5;241m.\u001b[39m\u001b[38;5;18m__name__\u001b[39m\u001b[38;5;132;01m}\u001b[39;00m\u001b[38;5;124m\"\u001b[39m\n\u001b[1;32m     84\u001b[0m fn \u001b[38;5;241m=\u001b[39m jit(fn, inline\u001b[38;5;241m=\u001b[39m\u001b[38;5;28;01mTrue\u001b[39;00m)\n",
      "    \u001b[0;31m[... skipping hidden 7 frame]\u001b[0m\n",
      "File \u001b[0;32m~/miniconda3/envs/jax_eo_py311/lib/python3.11/site-packages/jax/_src/lax/lax.py:1587\u001b[0m, in \u001b[0;36mbroadcasting_shape_rule\u001b[0;34m(name, *avals)\u001b[0m\n\u001b[1;32m   1585\u001b[0m       result_shape\u001b[38;5;241m.\u001b[39mappend(non_1s[\u001b[38;5;241m0\u001b[39m])\n\u001b[1;32m   1586\u001b[0m     \u001b[38;5;28;01melse\u001b[39;00m:\n\u001b[0;32m-> 1587\u001b[0m       \u001b[38;5;28;01mraise\u001b[39;00m \u001b[38;5;167;01mTypeError\u001b[39;00m(\u001b[38;5;124mf\u001b[39m\u001b[38;5;124m'\u001b[39m\u001b[38;5;132;01m{\u001b[39;00mname\u001b[38;5;132;01m}\u001b[39;00m\u001b[38;5;124m got incompatible shapes for broadcasting: \u001b[39m\u001b[38;5;124m'\u001b[39m\n\u001b[1;32m   1588\u001b[0m                       \u001b[38;5;124mf\u001b[39m\u001b[38;5;124m'\u001b[39m\u001b[38;5;132;01m{\u001b[39;00m\u001b[38;5;124m\"\u001b[39m\u001b[38;5;124m, \u001b[39m\u001b[38;5;124m\"\u001b[39m\u001b[38;5;241m.\u001b[39mjoin(\u001b[38;5;28mmap\u001b[39m(\u001b[38;5;28mstr\u001b[39m,\u001b[38;5;250m \u001b[39m\u001b[38;5;28mmap\u001b[39m(\u001b[38;5;28mtuple\u001b[39m,\u001b[38;5;250m \u001b[39mshapes)))\u001b[38;5;132;01m}\u001b[39;00m\u001b[38;5;124m.\u001b[39m\u001b[38;5;124m'\u001b[39m)\n\u001b[1;32m   1590\u001b[0m \u001b[38;5;28;01mreturn\u001b[39;00m \u001b[38;5;28mtuple\u001b[39m(result_shape)\n",
      "\u001b[0;31mTypeError\u001b[0m: and got incompatible shapes for broadcasting: (4,), (6,)."
     ]
    }
   ],
   "source": [
    "out = jsp.ndimage.map_coordinates(X, (x, y), order=1)"
   ]
  },
  {
   "cell_type": "code",
   "execution_count": null,
   "metadata": {},
   "outputs": [],
   "source": []
  },
  {
   "cell_type": "code",
   "execution_count": 22,
   "metadata": {
    "tags": []
   },
   "outputs": [
    {
     "data": {
      "text/plain": [
       "(4, 6)"
      ]
     },
     "execution_count": 22,
     "metadata": {},
     "output_type": "execute_result"
    }
   ],
   "source": [
    "n_rows = 3\n",
    "n_cols = 5\n",
    "\n",
    "# Stream Function Domain - Cell Corners\n",
    "psi_domain = Domain(xmin=(0, 0), xmax=(n_rows, n_cols), dx=(1, 1))\n",
    "psi_x = Field(psi_domain.grid[..., 0], psi_domain)\n",
    "psi_y = Field(psi_domain.grid[..., 1], psi_domain)\n",
    "\n",
    "# Q Domain - cell faces\n",
    "q_domain = Domain(\n",
    "    xmin=(0.0, 0.0), xmax=(n_rows, n_cols), dx=(1, 1), stagger=(\"right\", \"right\")\n",
    ")\n",
    "q_x = Field(q_domain.grid[..., 0], q_domain)\n",
    "q_y = Field(q_domain.grid[..., 1], q_domain)\n",
    "\n",
    "# U Velocity -\n",
    "u_domain = Domain(\n",
    "    xmin=(0, 0), xmax=(n_rows, n_cols), dx=(1, 1), stagger=(\"right\", None)\n",
    ")\n",
    "u_x = Field(u_domain.grid[..., 0], u_domain)\n",
    "u_y = Field(u_domain.grid[..., 1], u_domain)\n",
    "\n",
    "# V Velocity\n",
    "v_domain = Domain(\n",
    "    xmin=(0, 0), xmax=(n_rows, n_cols), dx=(1, 1), stagger=(None, \"right\")\n",
    ")\n",
    "v_x = Field(v_domain.grid[..., 0], v_domain)\n",
    "v_y = Field(v_domain.grid[..., 1], v_domain)\n",
    "\n",
    "\n",
    "# # initialize the Q domain\n",
    "# q_domain = Domain(xmin=(0,), xmax=(ncols,), dx=(1,))\n",
    "# values = q_domain.grid\n",
    "# q = Field(values, q_domain)\n",
    "\n",
    "\n",
    "# # initialize the u-velocity domain\n",
    "# u_domain = Domain(xmin=(0,), xmax=(ncols,), dx=(1,), stagger=(\"right\",))\n",
    "# values = u_domain.grid\n",
    "# u = Field(values, u_domain)\n",
    "psi_x.values.shape"
   ]
  },
  {
   "cell_type": "code",
   "execution_count": 23,
   "metadata": {
    "tags": []
   },
   "outputs": [
    {
     "data": {
      "image/png": "[encoded data removed]",
      "text/plain": [
       "<Figure size 500x400 with 1 Axes>"
      ]
     },
     "metadata": {},
     "output_type": "display_data"
    }
   ],
   "source": [
    "fig, ax = plt.subplots(figsize=(5, 4))\n",
    "\n",
    "ax.scatter(\n",
    "    psi_x.values.ravel(),\n",
    "    psi_y.values.ravel(),\n",
    "    marker=\"x\",\n",
    "    color=\"black\",\n",
    "    zorder=2,\n",
    "    label=\"Stream Function\",\n",
    ")\n",
    "ax.scatter(\n",
    "    q_x.values.ravel(),\n",
    "    q_y.values.ravel(),\n",
    "    marker=\".\",\n",
    "    color=\"tab:red\",\n",
    "    zorder=2,\n",
    "    label=\"Vorticity\",\n",
    ")\n",
    "ax.scatter(\n",
    "    u_x.values.ravel(),\n",
    "    u_y.values.ravel(),\n",
    "    marker=\">\",\n",
    "    color=\"tab:blue\",\n",
    "    zorder=2,\n",
    "    label=\"Zonal Velocity\",\n",
    ")\n",
    "ax.scatter(\n",
    "    v_x.values.ravel(),\n",
    "    v_y.values.ravel(),\n",
    "    marker=\"^\",\n",
    "    color=\"tab:green\",\n",
    "    zorder=2,\n",
    "    label=\"Meridional Velocity\",\n",
    ")\n",
    "\n",
    "ax.xaxis.set_major_locator(MultipleLocator(1))\n",
    "ax.xaxis.set_minor_locator(MultipleLocator(0.5))\n",
    "ax.yaxis.set_major_locator(MultipleLocator(1))\n",
    "ax.yaxis.set_minor_locator(MultipleLocator(0.5))\n",
    "\n",
    "ax.set(xlim=[-1.5, n_rows + 1.5], ylim=[-1.5, n_cols + 1.5])\n",
    "ax.grid(\n",
    "    which=\"major\",\n",
    "    zorder=1,\n",
    ")\n",
    "plt.legend(fontsize=10, edgecolor=\"black\", framealpha=1.0, facecolor=\"lightgray\")\n",
    "plt.tight_layout()\n",
    "plt.show()"
   ]
  },
  {
   "cell_type": "markdown",
   "metadata": {},
   "source": [
    "This example seems quite complicated and possibly unnecessary because we have two variables and the velocities.\n",
    "This can occur in the contrived example but in many cases, we may only have 1 variable and the velocities, e.g. Shallow Water equations.\n",
    "In this case, we have some options, we can use the cell faces as the main variable or the cell nodes.\n",
    "It's up to us. "
   ]
  },
  {
   "cell_type": "markdown",
   "metadata": {},
   "source": [
    "### Transformations to Variable"
   ]
  },
  {
   "cell_type": "markdown",
   "metadata": {},
   "source": [
    "In this first case, we will look at all transformations that can get us to the vorticity from any other variable on this grid.\n",
    "\n",
    "$$\n",
    "\\begin{aligned}\n",
    "\\psi &\\rightarrow q \\\\\n",
    "u &\\rightarrow q \\\\\n",
    "v &\\rightarrow q\n",
    "\\end{aligned}\n",
    "$$"
   ]
  },
  {
   "cell_type": "code",
   "execution_count": 24,
   "metadata": {
    "tags": []
   },
   "outputs": [],
   "source": [
    "# def get_axis_operation(u, operation: str, padding):\n",
    "\n",
    "#     opperation = list(operation)\n",
    "\n",
    "#     if len(operation) == 1:\n",
    "#         operation.append(None)\n",
    "\n",
    "#     elif len(operation) == 2:\n",
    "#         return F_grid.x_average_2D\n",
    "\n",
    "#     elif len(operation) == 3:\n",
    "#         return\n",
    "\n",
    "#     elif operation.lower() == \"left\":\n",
    "#         return F_grid.\n",
    "\n",
    "\n",
    "#     return fn\n",
    "\n",
    "\n",
    "def get_kernel_size(operations):\n",
    "    msg = \"too few/many operations. Need [1,3]\"\n",
    "    msg += f\"\\n{operations}\"\n",
    "    assert len(operations) <= 3 and len(operations) >= 1, msg\n",
    "\n",
    "    if len(operations) == 1:\n",
    "        if operations[0] is None:\n",
    "            kernel_size = (1,)\n",
    "        else:\n",
    "            kernel_size = (2,)\n",
    "\n",
    "    elif len(operations) == 2:\n",
    "        x_op, y_op = operations\n",
    "        do_something = [\"right\", \"left\", \"inner\", \"outer\"]\n",
    "        case1 = x_op in do_something and y_op in do_something\n",
    "        case2 = x_op is None and y_op in do_something\n",
    "        case3 = x_op in do_something and y_op is None\n",
    "        case4 = x_op is None and y_op is None\n",
    "\n",
    "        if case1:\n",
    "            kernel_size = (2, 2)\n",
    "        elif case2:\n",
    "            kernel_size = (1, 2)\n",
    "        elif case3:\n",
    "            kernel_size = (2, 1)\n",
    "        elif case4:\n",
    "            kernel_size = (1, 1)\n",
    "        else:\n",
    "            msg = \"Unrecognized operations\"\n",
    "            msg += f\"\\nx - {x_op}\"\n",
    "            msg += f\"\\ny - {y_op}\"\n",
    "            raise ValueError(msg)\n",
    "\n",
    "    elif len(operations) == 3:\n",
    "        raise ValueError(\"Not Implemented\")\n",
    "\n",
    "    return kernel_size\n",
    "\n",
    "\n",
    "def _field_operation_1D(u, operations, padding):\n",
    "    kernel_size = get_kernel_size(operations)\n",
    "    # print(kernel_size)\n",
    "    # print(operations, padding, kernel_size)\n",
    "\n",
    "    # pad values\n",
    "    # print(u)\n",
    "    u = jnp.pad(u, pad_width=padding, mode=\"edge\")\n",
    "    # print(u)\n",
    "\n",
    "    # change values via the averaging\n",
    "    u = F_grid.kernel_average(u, kernel_size=kernel_size, padding=\"valid\")\n",
    "\n",
    "    return u\n",
    "\n",
    "\n",
    "def _domain_operation_1D(xmin, xmax, dx, operation):\n",
    "    if operation is None:\n",
    "        pass\n",
    "    elif operation == \"right\":\n",
    "        xmin += dx * 0.5\n",
    "        xmax += dx * 0.5\n",
    "    elif operation == \"left\":\n",
    "        xmin -= dx * 0.5\n",
    "        xmax -= dx * 0.5\n",
    "    elif operation == \"inner\":\n",
    "        xmin += dx * 0.5\n",
    "        xmax -= dx * 0.5\n",
    "    elif operation == \"outer\":\n",
    "        xmin -= dx * 0.5\n",
    "        xmax += dx * 0.5\n",
    "    else:\n",
    "        msg = f\"Unrecognized argument for operation\"\n",
    "        msg += f\"\\noperation: {operation}\"\n",
    "        raise ValueError(msg)\n",
    "\n",
    "    return xmin, xmax\n",
    "\n",
    "\n",
    "def _axis_operation_2D(u, operation, padding):\n",
    "    raise NotImplementedError()\n",
    "\n",
    "\n",
    "#     # x operation\n",
    "#     x_pad = padding[0] + (0,0)\n",
    "#     print(x_pad)\n",
    "#     values = jnp.pad(u.values.squeeze(), pad_width=padding[0], mode=\"constant\")\n",
    "\n",
    "\n",
    "#     return u\n",
    "\n",
    "\n",
    "def _axis_operation_3D(u, operation, padding):\n",
    "    raise NotImplementedError()"
   ]
  },
  {
   "cell_type": "code",
   "execution_count": 161,
   "metadata": {
    "tags": []
   },
   "outputs": [],
   "source": [
    "def grid_operator(u: Field, operations: tp.Iterable = None):\n",
    "    assert len(u.domain.dx) == len(operations)\n",
    "\n",
    "    pads = list()\n",
    "\n",
    "    pads = [\n",
    "        DEFAULT_PADDING[iop] if iop in list(DEFAULT_PADDING.keys()) else (0, 0)\n",
    "        for iop in operations\n",
    "    ]\n",
    "    print(operations, pads)\n",
    "\n",
    "    if len(u.domain.dx) == 1:\n",
    "        # operate on field values\n",
    "        u_values = _field_operation_1D(u.values.squeeze(), operations, pads)\n",
    "        # operate on domain\n",
    "        xmin, xmax = _domain_operation_1D(\n",
    "            u.domain.xmin[0], u.domain.xmax[0], u.domain.dx[0], operations[0]\n",
    "        )\n",
    "        # create field\n",
    "        # print(u_values.shape)\n",
    "        return Field(\n",
    "            u_values[..., None], Domain(xmin=(xmin,), xmax=(xmax,), dx=u.domain.dx)\n",
    "        )\n",
    "\n",
    "    elif len(u.domain.dx) == 2:\n",
    "        # operate on field values\n",
    "        u_values = _field_operation_1D(u.values.squeeze(), operations, pads)\n",
    "        # operate on domain\n",
    "        # print(u.domain.xmin, u.domain.xmax, u.domain.dx, operations)\n",
    "        out = [\n",
    "            _domain_operation_1D(xmin, xmax, dx, iop)\n",
    "            for xmin, xmax, dx, iop in zip(\n",
    "                u.domain.xmin, u.domain.xmax, u.domain.dx, operations\n",
    "            )\n",
    "        ]\n",
    "        xmin, xmax = zip(*out)\n",
    "        #         vmap_fn = jax.vmap(_domain_operation_1D, in_axes=(0,0,0,0))\n",
    "\n",
    "        #         xmin, xmax = vmap_fn(\n",
    "        #             jnp.asarray(u.domain.xmin),\n",
    "        #             jnp.asarray(u.domain.xmax),\n",
    "        #             jnp.asarray(u.domain.dx),\n",
    "        #             jnp.asarray(operations))\n",
    "        # print(xmin,xmax)\n",
    "        return Field(u_values, Domain(xmin=xmin, xmax=xmax, dx=u.domain.dx))\n",
    "        # # create field\n",
    "        # # print(u_values.shape)\n",
    "        # return Field(u_values[..., None], Domain(xmin=(xmin,), xmax=(xmax,), dx=u.domain.dx))\n",
    "\n",
    "    elif len(u.domain.dx) == 3:\n",
    "        raise NotImplementedError()\n",
    "\n",
    "    # loop through operation to get padding based on semantics\n",
    "\n",
    "    # get number of axis\n",
    "    # check len(axis) == len(pad)\n",
    "\n",
    "    # do operation on values\n",
    "    # - pad (with method)\n",
    "    # - move values around\n",
    "    # update xmin/xmax on domain\n",
    "    # - change xmin, xmax (not dx)\n",
    "    # create new field\n",
    "\n",
    "    return None"
   ]
  },
  {
   "cell_type": "code",
   "execution_count": 162,
   "metadata": {
    "tags": []
   },
   "outputs": [
    {
     "data": {
      "text/plain": [
       "(4, 6, 2)"
      ]
     },
     "execution_count": 162,
     "metadata": {},
     "output_type": "execute_result"
    }
   ],
   "source": [
    "u.values.shape"
   ]
  },
  {
   "cell_type": "code",
   "execution_count": 25,
   "metadata": {
    "tags": []
   },
   "outputs": [],
   "source": [
    "u_x_on_q = F_grid.grid_operator(u_x, (None, \"right\"))\n",
    "u_y_on_q = F_grid.grid_operator(u_y, (None, \"right\"))\n",
    "\n",
    "v_x_on_q = F_grid.grid_operator(v_x, (\"right\", None))\n",
    "v_y_on_q = F_grid.grid_operator(v_y, (\"right\", None))\n",
    "\n",
    "psi_x_on_q = F_grid.grid_operator(psi_x, (\"right\", \"right\"))\n",
    "psi_y_on_q = F_grid.grid_operator(psi_y, (\"right\", \"right\"))"
   ]
  },
  {
   "cell_type": "code",
   "execution_count": 26,
   "metadata": {
    "tags": []
   },
   "outputs": [
    {
     "data": {
      "image/png": "[encoded data removed]",
      "text/plain": [
       "<Figure size 500x400 with 1 Axes>"
      ]
     },
     "metadata": {},
     "output_type": "display_data"
    }
   ],
   "source": [
    "fig, ax = plt.subplots(figsize=(5, 4))\n",
    "\n",
    "ax.scatter(\n",
    "    psi_x_on_q.values.ravel(),\n",
    "    psi_y_on_q.values.ravel(),\n",
    "    marker=\"x\",\n",
    "    color=\"black\",\n",
    "    zorder=2,\n",
    "    label=\"Stream Function\",\n",
    ")\n",
    "ax.scatter(\n",
    "    q_x.values.ravel(),\n",
    "    q_y.values.ravel(),\n",
    "    marker=\".\",\n",
    "    color=\"tab:red\",\n",
    "    zorder=3,\n",
    "    label=\"Vorticity\",\n",
    ")\n",
    "ax.scatter(\n",
    "    u_x_on_q.values.ravel(),\n",
    "    u_y_on_q.values.ravel(),\n",
    "    marker=\">\",\n",
    "    color=\"tab:blue\",\n",
    "    zorder=2,\n",
    "    label=\"Zonal Velocity\",\n",
    ")\n",
    "ax.scatter(\n",
    "    v_x_on_q.values.ravel(),\n",
    "    v_y_on_q.values.ravel(),\n",
    "    marker=\"^\",\n",
    "    color=\"tab:green\",\n",
    "    zorder=2,\n",
    "    label=\"Meridional Velocity\",\n",
    ")\n",
    "\n",
    "ax.xaxis.set_major_locator(MultipleLocator(1))\n",
    "ax.xaxis.set_minor_locator(MultipleLocator(0.5))\n",
    "ax.yaxis.set_major_locator(MultipleLocator(1))\n",
    "ax.yaxis.set_minor_locator(MultipleLocator(0.5))\n",
    "\n",
    "ax.set(xlim=[-1.5, n_rows + 1.5], ylim=[-1.5, n_cols + 1.5])\n",
    "ax.grid(\n",
    "    which=\"major\",\n",
    "    zorder=1,\n",
    ")\n",
    "plt.legend(fontsize=10, edgecolor=\"black\", framealpha=1.0, facecolor=\"lightgray\")\n",
    "plt.tight_layout()\n",
    "plt.show()"
   ]
  },
  {
   "cell_type": "markdown",
   "metadata": {},
   "source": [
    "### Transforms to PSI Variable"
   ]
  },
  {
   "cell_type": "markdown",
   "metadata": {},
   "source": [
    "In this first case, we will look at all transformations that can get us to the vorticity from any other variable on this grid.\n",
    "\n",
    "$$\n",
    "\\begin{aligned}\n",
    "q &\\rightarrow \\psi \\\\\n",
    "u &\\rightarrow \\psi \\\\\n",
    "v &\\rightarrow \\psi\n",
    "\\end{aligned}\n",
    "$$"
   ]
  },
  {
   "cell_type": "code",
   "execution_count": 27,
   "metadata": {
    "tags": []
   },
   "outputs": [],
   "source": [
    "u_x_on_psi = F_grid.grid_operator(u_x, (\"left\", None))\n",
    "u_y_on_psi = F_grid.grid_operator(u_y, (\"left\", None))\n",
    "\n",
    "v_x_on_psi = F_grid.grid_operator(v_x, (None, \"left\"))\n",
    "v_y_on_psi = F_grid.grid_operator(v_y, (None, \"left\"))\n",
    "\n",
    "q_x_on_psi = F_grid.grid_operator(q_x, (\"left\", \"left\"))\n",
    "q_y_on_psi = F_grid.grid_operator(q_y, (\"left\", \"left\"))"
   ]
  },
  {
   "cell_type": "code",
   "execution_count": 28,
   "metadata": {
    "tags": []
   },
   "outputs": [
    {
     "data": {
      "image/png": "[encoded data removed]",
      "text/plain": [
       "<Figure size 500x400 with 1 Axes>"
      ]
     },
     "metadata": {},
     "output_type": "display_data"
    }
   ],
   "source": [
    "fig, ax = plt.subplots(figsize=(5, 4))\n",
    "\n",
    "ax.scatter(\n",
    "    psi_x.values.ravel(),\n",
    "    psi_y.values.ravel(),\n",
    "    marker=\"x\",\n",
    "    color=\"black\",\n",
    "    zorder=2,\n",
    "    label=\"Stream Function\",\n",
    ")\n",
    "ax.scatter(\n",
    "    q_x_on_psi.values.ravel(),\n",
    "    q_y_on_psi.values.ravel(),\n",
    "    marker=\".\",\n",
    "    color=\"tab:red\",\n",
    "    zorder=3,\n",
    "    label=\"Vorticity\",\n",
    ")\n",
    "ax.scatter(\n",
    "    u_x_on_psi.values.ravel(),\n",
    "    u_y_on_psi.values.ravel(),\n",
    "    marker=\">\",\n",
    "    color=\"tab:blue\",\n",
    "    zorder=2,\n",
    "    label=\"Zonal Velocity\",\n",
    ")\n",
    "ax.scatter(\n",
    "    v_x_on_psi.values.ravel(),\n",
    "    v_y_on_psi.values.ravel(),\n",
    "    marker=\"^\",\n",
    "    color=\"tab:green\",\n",
    "    zorder=2,\n",
    "    label=\"Meridional Velocity\",\n",
    ")\n",
    "\n",
    "ax.xaxis.set_major_locator(MultipleLocator(1))\n",
    "ax.xaxis.set_minor_locator(MultipleLocator(0.5))\n",
    "ax.yaxis.set_major_locator(MultipleLocator(1))\n",
    "ax.yaxis.set_minor_locator(MultipleLocator(0.5))\n",
    "\n",
    "ax.set(xlim=[-1.5, n_rows + 1.5], ylim=[-1.5, n_cols + 1.5])\n",
    "ax.grid(\n",
    "    which=\"major\",\n",
    "    zorder=1,\n",
    ")\n",
    "plt.legend(fontsize=10, edgecolor=\"black\", framealpha=1.0, facecolor=\"lightgray\")\n",
    "plt.tight_layout()\n",
    "plt.show()"
   ]
  },
  {
   "cell_type": "markdown",
   "metadata": {},
   "source": [
    "### Transforms to U-Velocity"
   ]
  },
  {
   "cell_type": "markdown",
   "metadata": {},
   "source": [
    "In this first case, we will look at all transformations that can get us to the u-velocity from any other variable on this grid.\n",
    "\n",
    "$$\n",
    "\\begin{aligned}\n",
    "q &\\rightarrow u \\\\\n",
    "\\psi &\\rightarrow u \\\\\n",
    "v &\\rightarrow u\n",
    "\\end{aligned}\n",
    "$$"
   ]
  },
  {
   "cell_type": "code",
   "execution_count": 29,
   "metadata": {
    "tags": []
   },
   "outputs": [],
   "source": [
    "psi_x_on_u = F_grid.grid_operator(psi_x, (\"right\", None))\n",
    "psi_y_on_u = F_grid.grid_operator(psi_y, (\"right\", None))\n",
    "\n",
    "v_x_on_u = F_grid.grid_operator(v_x, (\"right\", \"left\"))\n",
    "v_y_on_u = F_grid.grid_operator(v_y, (\"right\", \"left\"))\n",
    "\n",
    "q_x_on_u = F_grid.grid_operator(q_x, (None, \"left\"))\n",
    "q_y_on_u = F_grid.grid_operator(q_y, (None, \"left\"))"
   ]
  },
  {
   "cell_type": "code",
   "execution_count": 30,
   "metadata": {
    "tags": []
   },
   "outputs": [
    {
     "data": {
      "image/png": "[encoded data removed]",
      "text/plain": [
       "<Figure size 500x400 with 1 Axes>"
      ]
     },
     "metadata": {},
     "output_type": "display_data"
    }
   ],
   "source": [
    "fig, ax = plt.subplots(figsize=(5, 4))\n",
    "\n",
    "ax.scatter(\n",
    "    psi_x_on_u.values.ravel(),\n",
    "    psi_y_on_u.values.ravel(),\n",
    "    marker=\"x\",\n",
    "    color=\"black\",\n",
    "    zorder=2,\n",
    "    label=\"Stream Function\",\n",
    ")\n",
    "ax.scatter(\n",
    "    q_x_on_u.values.ravel(),\n",
    "    q_y_on_u.values.ravel(),\n",
    "    marker=\".\",\n",
    "    color=\"tab:red\",\n",
    "    zorder=3,\n",
    "    label=\"Vorticity\",\n",
    ")\n",
    "ax.scatter(\n",
    "    u_x.values.ravel(),\n",
    "    u_y.values.ravel(),\n",
    "    marker=\">\",\n",
    "    color=\"tab:blue\",\n",
    "    zorder=2,\n",
    "    label=\"Zonal Velocity\",\n",
    ")\n",
    "ax.scatter(\n",
    "    v_x_on_u.values.ravel(),\n",
    "    v_y_on_u.values.ravel(),\n",
    "    marker=\"^\",\n",
    "    color=\"tab:green\",\n",
    "    zorder=2,\n",
    "    label=\"Meridional Velocity\",\n",
    ")\n",
    "\n",
    "ax.xaxis.set_major_locator(MultipleLocator(1))\n",
    "ax.xaxis.set_minor_locator(MultipleLocator(0.5))\n",
    "ax.yaxis.set_major_locator(MultipleLocator(1))\n",
    "ax.yaxis.set_minor_locator(MultipleLocator(0.5))\n",
    "\n",
    "ax.set(xlim=[-1.5, n_rows + 1.5], ylim=[-1.5, n_cols + 1.5])\n",
    "ax.grid(\n",
    "    which=\"major\",\n",
    "    zorder=1,\n",
    ")\n",
    "plt.legend(fontsize=10, edgecolor=\"black\", framealpha=1.0, facecolor=\"lightgray\")\n",
    "plt.tight_layout()\n",
    "plt.show()"
   ]
  },
  {
   "cell_type": "markdown",
   "metadata": {},
   "source": [
    "### Transforms to V-Velocity"
   ]
  },
  {
   "cell_type": "markdown",
   "metadata": {},
   "source": [
    "In this first case, we will look at all transformations that can get us to the v-velocity from any other variable on this grid.\n",
    "\n",
    "$$\n",
    "\\begin{aligned}\n",
    "q &\\rightarrow v \\\\\n",
    "\\psi &\\rightarrow v \\\\\n",
    "u &\\rightarrow v\n",
    "\\end{aligned}\n",
    "$$"
   ]
  },
  {
   "cell_type": "code",
   "execution_count": 31,
   "metadata": {
    "tags": []
   },
   "outputs": [],
   "source": [
    "psi_x_on_v = F_grid.grid_operator(psi_x, (None, \"right\"))\n",
    "psi_y_on_v = F_grid.grid_operator(psi_y, (None, \"right\"))\n",
    "\n",
    "u_x_on_v = F_grid.grid_operator(u_x, (\"left\", \"right\"))\n",
    "u_y_on_v = F_grid.grid_operator(u_y, (\"left\", \"right\"))\n",
    "\n",
    "q_x_on_v = F_grid.grid_operator(q_x, (\"left\", None))\n",
    "q_y_on_v = F_grid.grid_operator(q_y, (\"left\", None))"
   ]
  },
  {
   "cell_type": "code",
   "execution_count": 32,
   "metadata": {
    "tags": []
   },
   "outputs": [
    {
     "data": {
      "image/png": "[encoded data removed]",
      "text/plain": [
       "<Figure size 500x400 with 1 Axes>"
      ]
     },
     "metadata": {},
     "output_type": "display_data"
    }
   ],
   "source": [
    "fig, ax = plt.subplots(figsize=(5, 4))\n",
    "\n",
    "ax.scatter(\n",
    "    psi_x_on_v.values.ravel(),\n",
    "    psi_y_on_v.values.ravel(),\n",
    "    marker=\"x\",\n",
    "    color=\"black\",\n",
    "    zorder=2,\n",
    "    label=\"Stream Function\",\n",
    ")\n",
    "ax.scatter(\n",
    "    q_x_on_v.values.ravel(),\n",
    "    q_y_on_v.values.ravel(),\n",
    "    marker=\".\",\n",
    "    color=\"tab:red\",\n",
    "    zorder=3,\n",
    "    label=\"Vorticity\",\n",
    ")\n",
    "ax.scatter(\n",
    "    u_x_on_v.values.ravel(),\n",
    "    u_y_on_v.values.ravel(),\n",
    "    marker=\">\",\n",
    "    color=\"tab:blue\",\n",
    "    zorder=2,\n",
    "    label=\"Zonal Velocity\",\n",
    ")\n",
    "ax.scatter(\n",
    "    v_x.values.ravel(),\n",
    "    v_y.values.ravel(),\n",
    "    marker=\"^\",\n",
    "    color=\"tab:green\",\n",
    "    zorder=2,\n",
    "    label=\"Meridional Velocity\",\n",
    ")\n",
    "\n",
    "ax.xaxis.set_major_locator(MultipleLocator(1))\n",
    "ax.xaxis.set_minor_locator(MultipleLocator(0.5))\n",
    "ax.yaxis.set_major_locator(MultipleLocator(1))\n",
    "ax.yaxis.set_minor_locator(MultipleLocator(0.5))\n",
    "\n",
    "ax.set(xlim=[-1.5, n_rows + 1.5], ylim=[-1.5, n_cols + 1.5])\n",
    "ax.grid(\n",
    "    which=\"major\",\n",
    "    zorder=1,\n",
    ")\n",
    "plt.legend(fontsize=10, edgecolor=\"black\", framealpha=1.0, facecolor=\"lightgray\")\n",
    "plt.tight_layout()\n",
    "plt.show()"
   ]
  },
  {
   "cell_type": "code",
   "execution_count": null,
   "metadata": {},
   "outputs": [],
   "source": []
  }
 ],
 "metadata": {
  "kernelspec": {
   "display_name": "Python [conda env:jax_eo_py311]",
   "language": "python",
   "name": "conda-env-jax_eo_py311-py"
  },
  "language_info": {
   "codemirror_mode": {
    "name": "ipython",
    "version": 3
   },
   "file_extension": ".py",
   "mimetype": "text/x-python",
   "name": "python",
   "nbconvert_exporter": "python",
   "pygments_lexer": "ipython3",
   "version": "3.11.5"
  }
 },
 "nbformat": 4,
 "nbformat_minor": 4
}
