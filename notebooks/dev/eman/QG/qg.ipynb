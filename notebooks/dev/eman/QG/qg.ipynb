{
 "cells": [
  {
   "cell_type": "markdown",
   "id": "14d230ce-ba96-40d2-b6d1-1e9b0d654996",
   "metadata": {},
   "source": [
    "---\n",
    "title: Quasi-Geostrophic Equations\n",
    "---"
   ]
  },
  {
   "cell_type": "code",
   "execution_count": 1,
   "id": "bb0a4b8f-6d19-4cd3-bc48-cf04bb4a9e89",
   "metadata": {},
   "outputs": [],
   "source": [
    "import sys, os\n",
    "from pyprojroot import here\n",
    "\n",
    "# spyder up to find the root\n",
    "root = here(project_files=[\".home\"])\n",
    "\n",
    "# append to path\n",
    "sys.path.append(str(root))"
   ]
  },
  {
   "cell_type": "code",
   "execution_count": 2,
   "id": "3491a1c9-e5cd-4005-bb11-b7154b9ad9f3",
   "metadata": {},
   "outputs": [],
   "source": [
    "import pytreeclass as pytc\n",
    "import jax.numpy as jnp\n",
    "import jax\n",
    "from jax.experimental.ode import odeint\n",
    "\n",
    "import numpy as np\n",
    "import matplotlib.pyplot as plt\n",
    "import seaborn as sns\n",
    "import wandb\n",
    "\n",
    "from lib._src.dynamical.base import DynamicalSystem\n",
    "from lib._src.dynamical.qg import Qgm\n",
    "\n",
    "sns.reset_defaults()\n",
    "sns.set_context(context=\"talk\", font_scale=0.7)\n",
    "\n",
    "%load_ext autoreload\n",
    "%autoreload 2"
   ]
  },
  {
   "cell_type": "markdown",
   "id": "d3074aca-4d9a-44da-931a-5bc9cb7a235b",
   "metadata": {},
   "source": [
    "## Dynamical System\n",
    "\n",
    "* Equation of Motion\n",
    "* Observation Operator\n",
    "* Integrate"
   ]
  },
  {
   "cell_type": "markdown",
   "id": "b39f0260-bed5-4766-bde3-175d0f8d947c",
   "metadata": {},
   "source": [
    ":::{note}\n",
    "\n",
    ":::"
   ]
  },
  {
   "cell_type": "markdown",
   "id": "5ba06c46-5ad9-473a-af63-edcd6dda6331",
   "metadata": {},
   "source": [
    "```{figure} https://source.unsplash.com/random/400x200?beach,ocean\n",
    ":name: myFigure\n",
    ":alt: Random image of the beach or ocean!\n",
    ":align: center\n",
    "\n",
    "Relaxing at the beach 🏝 🌊 😎\n",
    "```"
   ]
  },
  {
   "cell_type": "markdown",
   "id": "896da52e-5754-4d42-9df6-98844bae2e39",
   "metadata": {},
   "source": [
    "```{math}\n",
    ":label: my-equation\n",
    "w_{t+1} = (1 + r_{t+1}) s(w_t) + y_{t+1}\n",
    "```"
   ]
  },
  {
   "cell_type": "markdown",
   "id": "21ac66ed-4f04-40cd-acd7-e219dcc51d1a",
   "metadata": {},
   "source": [
    "### Equation of Motion\n",
    "\n",
    "$$\n",
    "\\frac{dx}{dt} = (x_{i+1} - x_{i-2})x_{i-1}-x_i+F\n",
    "$$\n",
    "\n",
    "where $F$ is normally 8 to cause some chaotic behaviour."
   ]
  },
  {
   "cell_type": "markdown",
   "id": "0f4cbff3-869e-41d8-aa95-e2527f86f2e5",
   "metadata": {},
   "source": [
    "$$\n",
    "\\begin{aligned}\n",
    "\\nabla \\times \\vec{e}+\\frac{\\partial \\vec{b}}{\\partial t}&=0 \\\\\n",
    "\\nabla \\times \\vec{h}-\\vec{j}&=\\vec{s}\\_{e}\n",
    "\\end{aligned}\n",
    "$$ (maxwell)\n",
    "\n",
    "$$ Ax=b $$ (one-liner)\n",
    "\n",
    "See [](#maxwell) for enlightenment and [](#one-liner) to do things on one line!"
   ]
  },
  {
   "cell_type": "code",
   "execution_count": 3,
   "id": "8f49913e-f298-466e-a3c3-aa234bd7a897",
   "metadata": {},
   "outputs": [
    {
     "name": "stderr",
     "output_type": "stream",
     "text": [
      "/Users/eman/miniconda3/envs/jaxsw/lib/python3.9/site-packages/jax/_src/api_util.py:183: SyntaxWarning: Jitted function has static_argnums=(3, 4), but only accepts 4 positional arguments. This warning will be replaced by an error after 2022-08-20 at the earliest.\n",
      "  warnings.warn(f\"Jitted function has {argnums_name}={argnums}, \"\n",
      "/Users/eman/miniconda3/envs/jaxsw/lib/python3.9/site-packages/jax/_src/api_util.py:183: SyntaxWarning: Jitted function has static_argnums=(4, 5), but only accepts 5 positional arguments. This warning will be replaced by an error after 2022-08-20 at the earliest.\n",
      "  warnings.warn(f\"Jitted function has {argnums_name}={argnums}, \"\n"
     ]
    },
    {
     "name": "stdout",
     "output_type": "stream",
     "text": [
      "Tangent test:\n",
      "1E+00 1E-02\n",
      "1E-01 5E-04\n",
      "1E-02 3E-06\n",
      "1E-03 3E-07\n",
      "1E-04 3E-08\n",
      "1E-05 3E-09\n",
      "1E-06 5E-10\n",
      "1E-07 5E-09\n",
      "1E-08 4E-08\n",
      "1E-09 4E-07\n",
      "\n",
      "Adjoint test: 0.7405060898978333\n"
     ]
    }
   ],
   "source": [
    "ny, nx = 10, 10\n",
    "dx = 10e3 * jnp.ones((ny, nx))\n",
    "dy = 12e3 * jnp.ones((ny, nx))\n",
    "dt = 300\n",
    "\n",
    "SSH0 = np.random.random((ny, nx))  # random.uniform(key,shape=(ny,nx))\n",
    "MDT = np.random.random((ny, nx))\n",
    "c = 2.5\n",
    "\n",
    "qgm = Qgm(dx=dx, dy=dy, dt=dt, c=c, SSH=SSH0, qgiter=1, mdt=None)  # MDT\n",
    "\n",
    "# Current trajectory\n",
    "SSH0 = jnp.array(1e-2 * np.random.random((ny, nx)))\n",
    "\n",
    "# Perturbation\n",
    "dSSH = jnp.array(1e-2 * np.random.random((ny, nx)))\n",
    "\n",
    "# Adjoint\n",
    "adSSH0 = jnp.array(1e-2 * np.random.random((ny, nx)))\n",
    "\n",
    "# Tangent test\n",
    "SSH2 = qgm.step_jit(SSH0, dSSH)\n",
    "print(\"Tangent test:\")\n",
    "for p in range(10):\n",
    "    lambd = 10 ** (-p)\n",
    "\n",
    "    SSH1 = qgm.step_jit(SSH0 + lambd * dSSH, dSSH)\n",
    "\n",
    "    dSSH1 = qgm.step_tgl_jit(dh0=lambd * dSSH, h0=SSH0)\n",
    "\n",
    "    mask = jnp.isnan(SSH1 - SSH2 - dSSH1)\n",
    "    ps = jnp.linalg.norm((SSH1 - SSH2 - dSSH1)[~mask].flatten()) / jnp.linalg.norm(\n",
    "        dSSH1[~mask]\n",
    "    )\n",
    "\n",
    "    print(\"%.E\" % lambd, \"%.E\" % ps)\n",
    "\n",
    "# Adjoint test\n",
    "dSSH1 = qgm.step_tgl_jit(dh0=dSSH, h0=SSH0)\n",
    "adSSH1 = qgm.step_adj_jit(adSSH0, SSH0)\n",
    "mask = jnp.isnan(dSSH1 + adSSH1 + SSH0 + dSSH)\n",
    "\n",
    "ps1 = jnp.inner(dSSH1[~mask].flatten(), adSSH0[~mask].flatten())\n",
    "ps2 = jnp.inner(dSSH[~mask].flatten(), adSSH1[~mask].flatten())\n",
    "\n",
    "print(\"\\nAdjoint test:\", ps1 / ps2)"
   ]
  },
  {
   "cell_type": "code",
   "execution_count": null,
   "id": "aa148984-ad9b-4156-8097-f5328b705fe7",
   "metadata": {},
   "outputs": [],
   "source": []
  }
 ],
 "metadata": {
  "kernelspec": {
   "display_name": "Python [conda env:jaxsw]",
   "language": "python",
   "name": "conda-env-jaxsw-py"
  },
  "language_info": {
   "codemirror_mode": {
    "name": "ipython",
    "version": 3
   },
   "file_extension": ".py",
   "mimetype": "text/x-python",
   "name": "python",
   "nbconvert_exporter": "python",
   "pygments_lexer": "ipython3",
   "version": "3.9.16"
  }
 },
 "nbformat": 4,
 "nbformat_minor": 5
}
