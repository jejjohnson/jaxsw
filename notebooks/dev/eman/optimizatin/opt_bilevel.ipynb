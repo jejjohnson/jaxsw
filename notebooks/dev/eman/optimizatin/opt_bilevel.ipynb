{
 "cells": [
  {
   "cell_type": "code",
   "execution_count": null,
   "metadata": {
    "collapsed": true
   },
   "outputs": [],
   "source": []
  },
  {
   "cell_type": "markdown",
   "source": [
    "\n",
    "$$\n",
    "\\begin{aligned}\n",
    "\\boldsymbol{\\theta}^* &= \\underset{\\theta}{\\text{ argmin }} \\mathcal{L}(\\mathbf{x}_{gt}, \\boldsymbol{f_\\theta}) \\\\\n",
    "\\mathbf{x}^*(\\boldsymbol{\\theta}) &= \\underset{\\mathbf{x}}{\\text{ argmin }} \\mathcal{\\phi}(\\mathbf{x}, \\boldsymbol{\\theta})\n",
    "\\end{aligned}\n",
    "$$"
   ],
   "metadata": {
    "collapsed": false
   }
  },
  {
   "cell_type": "code",
   "execution_count": 1,
   "outputs": [
    {
     "ename": "SyntaxError",
     "evalue": "incomplete input (3477860531.py, line 1)",
     "output_type": "error",
     "traceback": [
      "\u001B[0;36m  File \u001B[0;32m\"/var/folders/k9/_v6ywhvj0nq36tpttd3j4mq80000gn/T/ipykernel_792/3477860531.py\"\u001B[0;36m, line \u001B[0;32m1\u001B[0m\n\u001B[0;31m    \\\u001B[0m\n\u001B[0m     ^\u001B[0m\n\u001B[0;31mSyntaxError\u001B[0m\u001B[0;31m:\u001B[0m incomplete input\n"
     ]
    }
   ],
   "source": [
    "\\"
   ],
   "metadata": {
    "collapsed": false
   }
  },
  {
   "cell_type": "code",
   "execution_count": null,
   "outputs": [],
   "source": [],
   "metadata": {
    "collapsed": false
   }
  }
 ],
 "metadata": {
  "kernelspec": {
   "display_name": "Python 3",
   "language": "python",
   "name": "python3"
  },
  "language_info": {
   "codemirror_mode": {
    "name": "ipython",
    "version": 2
   },
   "file_extension": ".py",
   "mimetype": "text/x-python",
   "name": "python",
   "nbconvert_exporter": "python",
   "pygments_lexer": "ipython2",
   "version": "2.7.6"
  }
 },
 "nbformat": 4,
 "nbformat_minor": 0
}
