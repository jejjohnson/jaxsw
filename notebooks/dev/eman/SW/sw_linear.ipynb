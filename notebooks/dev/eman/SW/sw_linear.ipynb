{
 "cells": [
  {
   "cell_type": "markdown",
   "id": "d5bca1fd-b90e-43b2-90ba-4cf6ea2a6884",
   "metadata": {
    "tags": [],
    "user_expressions": []
   },
   "source": [
    "# Naive Linear Shallow Water"
   ]
  },
  {
   "cell_type": "code",
   "execution_count": 1,
   "id": "f43b9f27-e893-4446-9349-a6b080079330",
   "metadata": {
    "tags": []
   },
   "outputs": [],
   "source": [
    "import autoroot\n",
    "import jax\n",
    "import jax.numpy as jnp\n",
    "import numpy as np\n",
    "import numba as nb\n",
    "import equinox as eqx\n",
    "import kernex as kex\n",
    "import finitediffx as fdx\n",
    "import diffrax as dfx\n",
    "import xarray as xr\n",
    "import matplotlib.pyplot as plt\n",
    "import seaborn as sns\n",
    "from tqdm.notebook import tqdm, trange\n",
    "from jaxtyping import Float, Array, PyTree, ArrayLike\n",
    "import wandb\n",
    "from jaxsw._src.domain.base import Domain\n",
    "from jaxsw._src.models.pde import DynamicalSystem\n",
    "from jaxsw._src.domain.time import TimeDomain\n",
    "\n",
    "sns.reset_defaults()\n",
    "sns.set_context(context=\"talk\", font_scale=0.7)\n",
    "jax.config.update(\"jax_enable_x64\", True)\n",
    "\n",
    "%matplotlib inline\n",
    "%load_ext autoreload\n",
    "%autoreload 2"
   ]
  },
  {
   "cell_type": "markdown",
   "id": "aef6668f-88b9-47b7-a478-e98196f6f9c4",
   "metadata": {
    "user_expressions": []
   },
   "source": [
    "## Equations\n",
    "\n",
    "Taking the equation from [wikipedia](https://en.wikipedia.org/wiki/Shallow_water_equations#Non-conservative_form).\n",
    "\n",
    "**Non-Conservative Form**\n",
    "\n",
    "$$\n",
    "\\begin{aligned}\n",
    "\\frac{\\partial h}{\\partial t} &+ \n",
    "\\frac{\\partial}{\\partial x}\\left((H+h)u\\right) +\n",
    "\\frac{\\partial}{\\partial y}\\left((H+h)v\\right)= 0 \\\\\n",
    "\\frac{\\partial u}{\\partial t} &+ u\\frac{\\partial u}{\\partial x} + v\\frac{\\partial u}{\\partial y} - fv =\n",
    "-g\\frac{\\partial h}{\\partial x} -ku + \\nu \\left( \\frac{\\partial^2 u}{\\partial x^2} + \n",
    "\\frac{\\partial^2 u}{\\partial y^2} \\right)\\\\\n",
    "\\frac{\\partial v}{\\partial t} &+ u\\frac{\\partial v}{\\partial x} + v\\frac{\\partial v}{\\partial y} + fu =\n",
    "-g\\frac{\\partial h}{\\partial y} -kv + \n",
    "\\nu \\left( \\frac{\\partial^2 v}{\\partial x^2} + \\frac{\\partial^2 v}{\\partial y^2} \\right)\\\\\n",
    "\\end{aligned}\n",
    "$$ (eq:sw)\n"
   ]
  },
  {
   "cell_type": "markdown",
   "id": "465a8336-d793-44eb-928f-e90feb47e321",
   "metadata": {
    "user_expressions": []
   },
   "source": [
    "| Symbol | Variable | Unit | \n",
    "|:---------:|:------|:----:|\n",
    "| $u$ | Zonal Velocity |  $m/s^2$ |\n",
    "| $v$ | Meridial Velocity |   $m/s^2$ |\n",
    "| $H$ |Mean Height |   $m$ |\n",
    "| $h$ |Height Deviation |$m$ |\n",
    "|$b$ | Topographical height \n",
    "\n",
    "\n",
    "**Velocities**. The $u,v$ represent the zonal and meridional velocities in the x,y directions respectively.\n",
    "\n",
    "**Heights** ($H,h,b$). \n",
    "The $H$ represents the mean hight of the horizontal pressure surface. \n",
    "The $h$ represents the height deviation of the horizontal pressure surface from its mean height.\n",
    "$b$ represents the topographical height from a reference $D$.\n",
    "\n",
    "$$\n",
    "\\begin{aligned}\n",
    "\\eta(x,y,t) &= H(x,y) + h(x,y,t) \\\\\n",
    "H(x,y) &= D + b(x,y)\n",
    "\\end{aligned}\n",
    "$$\n",
    "\n",
    "**Constants** ($f,k,\\nu$). $g$ is the acceleration due to gravity, $k$ is the viscous drag coefficient, and $\\nu$ is the kinematic viscosity."
   ]
  },
  {
   "cell_type": "markdown",
   "id": "ce2265f8-0603-4ce6-a0f5-22fa35e98720",
   "metadata": {
    "user_expressions": []
   },
   "source": [
    "**Linear Version**\n",
    "\n",
    "$$\n",
    "\\begin{aligned}\n",
    "\\frac{\\partial h}{\\partial t} &+  H\\left(\\frac{\\partial u}{\\partial x} +\n",
    "\\frac{\\partial v}{\\partial y}\\right)= 0 \\\\\n",
    "\\frac{\\partial u}{\\partial t} &- fv = -g\\frac{\\partial h}{\\partial x} -ku \\\\\n",
    "\\frac{\\partial v}{\\partial t} &+ fu = -g\\frac{\\partial h}{\\partial y} -kv\\\\\n",
    "\\end{aligned}\n",
    "$$"
   ]
  },
  {
   "cell_type": "markdown",
   "id": "50fe3901-c324-4397-a11b-c4f502785ea4",
   "metadata": {
    "user_expressions": []
   },
   "source": [
    "**Advection Term**\n",
    "\n",
    "$$\n",
    "\\begin{aligned}\n",
    "u\\frac{\\partial u}{\\partial x} + v\\frac{\\partial u}{\\partial y} \\\\\n",
    "u\\frac{\\partial v}{\\partial x} + v\\frac{\\partial v}{\\partial y}\n",
    "\\end{aligned}\n",
    "$$\n"
   ]
  },
  {
   "cell_type": "markdown",
   "id": "85b9dfe4-9b04-42ba-a45c-7ae4cea035c3",
   "metadata": {
    "user_expressions": []
   },
   "source": [
    "**Diffusion Term**\n",
    "\n",
    "$$\n",
    "\\begin{aligned}\n",
    "\\nu \\left( \\frac{\\partial^2 u}{\\partial x^2} + \n",
    "\\frac{\\partial^2 u}{\\partial y^2} \\right) \\\\\n",
    "\\nu \\left( \\frac{\\partial^2 v}{\\partial x^2} + \\frac{\\partial^2 v}{\\partial y^2} \\right)\n",
    "\\end{aligned}\n",
    "$$"
   ]
  },
  {
   "cell_type": "markdown",
   "id": "488cdf1a-8ad7-4b6f-8113-649eb1ba1c27",
   "metadata": {
    "user_expressions": []
   },
   "source": [
    "## Equations\n",
    "\n",
    "$$\n",
    "\n",
    "$$\n",
    "\n",
    "$$\n",
    "\\begin{aligned}\n",
    "\\partial_t q &= - \\det\\boldsymbol{J}(\\psi,q) - \\beta\\partial_y\\psi \\\\\n",
    "q &= \\nabla^2 \\psi - \\frac{1}{L_R^2}\\psi \\\\\n",
    "\\psi &= \\frac{f}{g} \\\\\n",
    "u &= -\\partial_y\\psi \\\\\n",
    "v &= \\partial_x\\psi \\\\\n",
    "f &= 2\\Omega\\sin\\theta_0 + \\frac{1}{R}2\\Omega\\cos\\theta_0 y\n",
    "\\end{aligned}\n",
    "$$\n",
    "\n",
    "where:\n",
    "* $f_0=2\\Omega\\sin\\theta_0$ is the Coriolis parameter at latitude $\\theta_0$\n",
    "* $\\beta=\\frac{1}{R}2\\Omega\\cos\\theta_0 y$ is the $\\beta$-plane approximation\n",
    "* $L_R$ is the Rossby wave coefficient\n",
    "* $\\Omega$ is the angular frequency of rotation\n",
    "\n",
    "Source:\n",
    "* [Geophysical Fluid Dynamcis - Pedlosky](https://doi.org/10.1007/978-1-4612-4650-3)\n",
    "* [Atmosphere and Oceanic Fluid Dynamics - Vallis](https://doi.org/10.1017/9781107588417)"
   ]
  },
  {
   "cell_type": "code",
   "execution_count": 100,
   "id": "5dd4f6d8-9abe-4483-97ed-13f9a68643ad",
   "metadata": {},
   "outputs": [],
   "source": [
    "def plot_quiver(state, params, t=0, max_quivers=2, plot_range=0.5):\n",
    "    eta = state.u - params.depth\n",
    "\n",
    "    n_x, n_y = params.domain.size\n",
    "    XY = params.domain.grid\n",
    "    x, y = params.domain.coords\n",
    "\n",
    "    quiver_stride = (\n",
    "        slice(1, -1, n_x // max_quivers),\n",
    "        slice(1, -1, n_y // max_quivers),\n",
    "    )\n",
    "\n",
    "    fig, ax = plt.subplots(figsize=(8, 6))\n",
    "\n",
    "    # print(x.shape, y.shape, eta.shape)\n",
    "\n",
    "    if np.any((state.u[quiver_stride] != 0) | (state.v[quiver_stride] != 0)):\n",
    "        ax.quiver(\n",
    "            x[quiver_stride[0]] / 1e3,\n",
    "            y[quiver_stride[1]] / 1e3,\n",
    "            state.u[quiver_stride],\n",
    "            state.v[quiver_stride],\n",
    "            clip_on=True,\n",
    "        )\n",
    "\n",
    "    pts = ax.pcolormesh(\n",
    "        XY[1:-1, 1:-1, 0] / 1e3,\n",
    "        XY[1:-1, 1:-1, 1] / 1e3,\n",
    "        eta[1:-1, 1:-1],\n",
    "        vmin=-plot_range,\n",
    "        vmax=-plot_range,\n",
    "        cmap=\"RdBu_r\",\n",
    "    )\n",
    "    plt.colorbar(pts, label=r\"$\\eta$ [m]\")\n",
    "\n",
    "    ax.set(\n",
    "        # aspect=\"equal\",\n",
    "        xlabel=r\"$x$ [km]\",\n",
    "        ylabel=r\"$y$ [km]\",\n",
    "        title=f\"T={t/86_400:5.2f} days\",\n",
    "    )\n",
    "\n",
    "    plt.tight_layout()\n",
    "    plt.show()"
   ]
  },
  {
   "cell_type": "markdown",
   "id": "f589e7b9-e033-41e7-b122-6d0a9ca6e8c8",
   "metadata": {
    "user_expressions": []
   },
   "source": [
    "## Domain"
   ]
  },
  {
   "cell_type": "code",
   "execution_count": 101,
   "id": "63531d9f-0c54-419a-98f7-23bbb0389b45",
   "metadata": {},
   "outputs": [
    {
     "name": "stdout",
     "output_type": "stream",
     "text": [
      "Nx: 2_000_000 [m]\n",
      "dx: 20_000 [m]\n",
      "Ny: 2_020_000 [m]\n",
      "dy: 20_000 [m]\n"
     ]
    }
   ],
   "source": [
    "n_x = 100\n",
    "dx = 20e3\n",
    "\n",
    "n_y = 101\n",
    "dy = 20e3\n",
    "\n",
    "print(f\"Nx: {n_x*dx:_.0f} [m]\")\n",
    "print(f\"dx: {dx:_.0f} [m]\")\n",
    "\n",
    "print(f\"Ny: {n_y*dy:_.0f} [m]\")\n",
    "print(f\"dy: {dy:_.0f} [m]\")"
   ]
  },
  {
   "cell_type": "code",
   "execution_count": 102,
   "id": "6322c3a1-a46b-46be-8375-747c33c41c50",
   "metadata": {},
   "outputs": [
    {
     "data": {
      "text/plain": [
       "(2, (100, 101))"
      ]
     },
     "execution_count": 102,
     "metadata": {},
     "output_type": "execute_result"
    }
   ],
   "source": [
    "domain = Domain(xmin=(0, 0), xmax=(n_x * dx, n_y * dy), dx=(dx, dy))\n",
    "domain.ndim, domain.size"
   ]
  },
  {
   "cell_type": "markdown",
   "id": "61e9cfc0-df3d-4351-a3a7-41158740b50f",
   "metadata": {
    "user_expressions": []
   },
   "source": [
    "### Parameters\n"
   ]
  },
  {
   "cell_type": "code",
   "execution_count": 103,
   "id": "22f17ed2-a7c5-45e0-8b81-252cf9d307c7",
   "metadata": {},
   "outputs": [],
   "source": [
    "import typing as tp\n",
    "\n",
    "\n",
    "class StateParams(tp.NamedTuple):\n",
    "    gravity: float\n",
    "    depth: float\n",
    "    coriolis_param: float\n",
    "    domain: Domain\n",
    "\n",
    "    @property\n",
    "    def phase_speed(self):\n",
    "        return jnp.sqrt(self.gravity * self.depth)\n",
    "\n",
    "    @property\n",
    "    def rossby_radius(self):\n",
    "        return jnp.sqrt(self.gravity * self.depth) / self.coriolis_param\n",
    "\n",
    "    @property\n",
    "    def dt(self):\n",
    "        return (\n",
    "            0.5\n",
    "            * min(self.domain.dx[0], self.domain.dx[1])\n",
    "            / jnp.sqrt(self.gravity * self.depth)\n",
    "        )"
   ]
  },
  {
   "cell_type": "code",
   "execution_count": 104,
   "id": "9a8e0d55-f36a-48c2-9d91-35c111398cfa",
   "metadata": {},
   "outputs": [
    {
     "name": "stdout",
     "output_type": "stream",
     "text": [
      "Phase Speed: 31.32 m/s\n",
      "Rossby Radius: 156,604.60 [m]\n",
      "dt: 319.28 [s]\n"
     ]
    }
   ],
   "source": [
    "state_params = StateParams(gravity=9.81, depth=100, coriolis_param=2e-4, domain=domain)\n",
    "\n",
    "print(f\"Phase Speed: {state_params.phase_speed:,.2f} m/s\")\n",
    "print(f\"Rossby Radius: {state_params.rossby_radius:,.2f} [m]\")\n",
    "print(f\"dt: {state_params.dt:,.2f} [s]\")"
   ]
  },
  {
   "cell_type": "markdown",
   "id": "59338aea-5288-4ea0-9214-8377222320e2",
   "metadata": {
    "user_expressions": []
   },
   "source": [
    "## Initial Conditions"
   ]
  },
  {
   "cell_type": "code",
   "execution_count": 105,
   "id": "6048e2b2-ee54-4e64-8d74-9ed4a3710979",
   "metadata": {},
   "outputs": [],
   "source": [
    "def init_h(params: StateParams) -> Array:\n",
    "    depth, rossby_radius = params.depth, params.rossby_radius\n",
    "\n",
    "    XY = params.domain.grid\n",
    "    X, Y = XY[..., 0], XY[..., 1]\n",
    "    x, y = params.domain.coords\n",
    "    n_x, n_y = params.domain.size\n",
    "\n",
    "    h = params.depth + 1.0 * jnp.exp(\n",
    "        -((X - x[n_x - 2]) ** 2) / rossby_radius**2\n",
    "        - (Y - y[n_y // 2]) ** 2 / rossby_radius**2\n",
    "    )\n",
    "    return h\n",
    "\n",
    "\n",
    "h0 = init_h(state_params)"
   ]
  },
  {
   "cell_type": "code",
   "execution_count": 106,
   "id": "190315cc-55a2-40d9-abd5-76cbc276959b",
   "metadata": {},
   "outputs": [
    {
     "data": {
      "image/png": "[encoded data removed]",
      "text/plain": [
       "<Figure size 640x480 with 2 Axes>"
      ]
     },
     "metadata": {},
     "output_type": "display_data"
    }
   ],
   "source": [
    "fig, ax = plt.subplots()\n",
    "\n",
    "pts = ax.imshow(h0, cmap=\"viridis\")\n",
    "plt.colorbar(pts)\n",
    "plt.show()"
   ]
  },
  {
   "cell_type": "markdown",
   "id": "b4d3aa01-f9b4-4546-95c3-7ef4077da1a5",
   "metadata": {
    "user_expressions": []
   },
   "source": [
    "### State"
   ]
  },
  {
   "cell_type": "code",
   "execution_count": 267,
   "id": "a6bb767e-a986-453f-86ff-63a416f8f845",
   "metadata": {},
   "outputs": [],
   "source": [
    "from jaxsw._src.boundaries.functional import neumann_2d\n",
    "\n",
    "\n",
    "class State(tp.NamedTuple):\n",
    "    h: Array\n",
    "    u: Array\n",
    "    v: Array\n",
    "\n",
    "    @classmethod\n",
    "    def init_state(cls, params: StateParams, init_fn: tp.Callable):\n",
    "        h = init_fn(params)\n",
    "        v = jnp.zeros_like(h)\n",
    "        u = jnp.zeros_like(h)\n",
    "\n",
    "        # h = neumann_2d(h)\n",
    "\n",
    "        # h = h.at[0,:].set(0.0)\n",
    "        # h = h.at[-1,:].set(0.0)\n",
    "        # h = h.at[:,0].set(0.0)\n",
    "        # h = h.at[:,-1].set(0.0)\n",
    "\n",
    "        h = h.at[0, :].set(jnp.nan)\n",
    "        h = h.at[-1, :].set(jnp.nan)\n",
    "        h = h.at[:, 0].set(jnp.nan)\n",
    "        h = h.at[:, -1].set(jnp.nan)\n",
    "\n",
    "        return cls(h=h, u=u, v=v)"
   ]
  },
  {
   "cell_type": "code",
   "execution_count": 268,
   "id": "d8605bae-9d9a-4035-8267-414804cb3b6b",
   "metadata": {},
   "outputs": [],
   "source": [
    "state_init = State.init_state(state_params, init_fn=init_h)"
   ]
  },
  {
   "cell_type": "code",
   "execution_count": 269,
   "id": "722f5293-98ad-45dd-a69e-12ae0a2d43dc",
   "metadata": {},
   "outputs": [
    {
     "data": {
      "image/png": "[encoded data removed]",
      "text/plain": [
       "<Figure size 800x600 with 2 Axes>"
      ]
     },
     "metadata": {},
     "output_type": "display_data"
    }
   ],
   "source": [
    "plot_quiver(state_init, state_params, t=0)"
   ]
  },
  {
   "cell_type": "markdown",
   "id": "37dc522b-6481-4bde-b90d-e836b911d8da",
   "metadata": {
    "user_expressions": []
   },
   "source": [
    "## Equation of Motion\n",
    "\n",
    "Let's rewrite the equation of motion.\n",
    "\n",
    "$$\n",
    "\\begin{aligned}\n",
    "\\frac{\\partial h}{\\partial t} &= -  H\\left(\\frac{\\partial u}{\\partial x} +\n",
    "\\frac{\\partial v}{\\partial y}\\right) \\\\\n",
    "\\frac{\\partial u}{\\partial t} &=  fv -g\\frac{\\partial h}{\\partial x} -ku \\\\\n",
    "\\frac{\\partial v}{\\partial t} &= fu -g\\frac{\\partial h}{\\partial y} -kv\\\\\n",
    "\\end{aligned}\n",
    "$$"
   ]
  },
  {
   "cell_type": "markdown",
   "id": "7ade6bae-454d-4156-bba3-099af2d9367e",
   "metadata": {
    "user_expressions": []
   },
   "source": [
    "### U-Term"
   ]
  },
  {
   "cell_type": "markdown",
   "id": "88381d39-da10-4599-a7c7-a1f5b3dfc34a",
   "metadata": {
    "user_expressions": []
   },
   "source": [
    "$$\n",
    "\\begin{aligned}\n",
    "\\frac{\\partial u}{\\partial t} &=  fv -g\\frac{\\partial h}{\\partial x}\n",
    "\\end{aligned}\n",
    "$$"
   ]
  },
  {
   "cell_type": "code",
   "execution_count": 271,
   "id": "4c78488f-d4c8-4f61-9f86-dd1ff932f510",
   "metadata": {},
   "outputs": [],
   "source": [
    "def u_equations(state, params):\n",
    "    # parse params\n",
    "    coriolis_param, gravity, dt = params.coriolis_param, params.gravity, params.dt\n",
    "    # parse domain\n",
    "    dx, dy = params.domain.dx[0], params.domain.dx[1]\n",
    "    # parse state\n",
    "    u, v, h = state.u, state.v, state.h\n",
    "\n",
    "    rhs = u.copy()\n",
    "\n",
    "    # linear coriolis term\n",
    "    v_avg = 0.25 * (v[1:-1, 1:-1] + v[1:-1, :-2] + v[2:, 1:-1] + v[2:, :-2])\n",
    "\n",
    "    t1 = coriolis_param * v_avg\n",
    "\n",
    "    # gravity term\n",
    "    # du_dx = fdx.difference(h, axis=0, derivative=1, step_size=dx, accuracy=1, method=\"central\")\n",
    "    du_dx = (h[2:, 1:-1] - h[1:-1, 1:-1]) / dx\n",
    "    t2 = -gravity * du_dx\n",
    "\n",
    "    rhs = rhs.at[1:-1, 1:-1].set(t1 + t2)\n",
    "\n",
    "    return rhs\n",
    "\n",
    "\n",
    "def enforce_boundaries_u(u: Array) -> Array:\n",
    "    u = u.at[-2, :].set(0.0)\n",
    "\n",
    "    return u"
   ]
  },
  {
   "cell_type": "code",
   "execution_count": 272,
   "id": "5bbff963-dc7c-409d-bb23-0558f289dc10",
   "metadata": {},
   "outputs": [
    {
     "data": {
      "text/plain": [
       "Array([[0., 0., 0., ..., 0., 0., 0.],\n",
       "       [0., 0., 0., ..., 0., 0., 0.],\n",
       "       [0., 0., 0., ..., 0., 0., 0.],\n",
       "       ...,\n",
       "       [0., 0., 0., ..., 0., 0., 0.],\n",
       "       [0., 0., 0., ..., 0., 0., 0.],\n",
       "       [0., 0., 0., ..., 0., 0., 0.]], dtype=float64)"
      ]
     },
     "execution_count": 272,
     "metadata": {},
     "output_type": "execute_result"
    }
   ],
   "source": [
    "u_ = u_equations(state_init, state_params)\n",
    "\n",
    "u_ = enforce_boundaries_u(u_)\n",
    "u_"
   ]
  },
  {
   "cell_type": "code",
   "execution_count": 273,
   "id": "514dd36d-0a22-40d8-9e09-aa5f8546578b",
   "metadata": {},
   "outputs": [
    {
     "data": {
      "image/png": "[encoded data removed]",
      "text/plain": [
       "<Figure size 640x480 with 1 Axes>"
      ]
     },
     "metadata": {},
     "output_type": "display_data"
    }
   ],
   "source": [
    "fig, ax = plt.subplots()\n",
    "\n",
    "ax.imshow(u_.T)\n",
    "\n",
    "plt.show()"
   ]
  },
  {
   "cell_type": "markdown",
   "id": "005a01a2-b639-40a3-9327-9a1b61d7e5d4",
   "metadata": {
    "user_expressions": []
   },
   "source": [
    "### V-Termz"
   ]
  },
  {
   "cell_type": "markdown",
   "id": "07c89bce-76c9-405c-a9d5-4457d6b82897",
   "metadata": {
    "user_expressions": []
   },
   "source": [
    "$$\n",
    "\\begin{aligned}\n",
    "\\frac{\\partial v}{\\partial t} &= fu -g\\frac{\\partial h}{\\partial y}\n",
    "\\end{aligned}\n",
    "$$"
   ]
  },
  {
   "cell_type": "code",
   "execution_count": 274,
   "id": "14d79358-1b7b-41df-a5c6-02532d576dd0",
   "metadata": {},
   "outputs": [],
   "source": [
    "def v_equations(state, params):\n",
    "    # parse params\n",
    "    coriolis_param, gravity, dt = params.coriolis_param, params.gravity, params.dt\n",
    "    # parse domain\n",
    "    dx, dy = params.domain.dx[0], params.domain.dx[1]\n",
    "    # parse state\n",
    "    u, v, h = state.u, state.v, state.h\n",
    "\n",
    "    rhs = v.copy()\n",
    "\n",
    "    # linear coriolis term\n",
    "    u_avg = 0.25 * (u[1:-1, 1:-1] + u[:-2, 1:-1] + u[1:-1, 2:] + u[:-2, 2:])\n",
    "\n",
    "    t1 = coriolis_param * u_avg\n",
    "\n",
    "    # gravity term\n",
    "    # dh_dy = fdx.difference(h, axis=1, derivative=1, step_size=dy, accuracy=1, method=\"central\")\n",
    "    dh_dy = (h[1:-1, 2:] - h[1:-1, 1:-1]) / dy\n",
    "    t2 = -gravity * dh_dy\n",
    "    # print(rhs[1:-1,1:-1].shape, t1.shape, t2.shape)\n",
    "    rhs = rhs.at[1:-1, 1:-1].set(t1 + t2)\n",
    "\n",
    "    return rhs\n",
    "\n",
    "\n",
    "def enforce_boundaries_v(v: Array) -> Array:\n",
    "    v = v.at[:, -2].set(0)\n",
    "\n",
    "    return v"
   ]
  },
  {
   "cell_type": "code",
   "execution_count": 275,
   "id": "0c41d6fa-8ace-45ce-b8f2-f09a38dc3b30",
   "metadata": {},
   "outputs": [
    {
     "data": {
      "text/plain": [
       "Array([[0., 0., 0., ..., 0., 0., 0.],\n",
       "       [0., 0., 0., ..., 0., 0., 0.],\n",
       "       [0., 0., 0., ..., 0., 0., 0.],\n",
       "       ...,\n",
       "       [0., 0., 0., ..., 0., 0., 0.],\n",
       "       [0., 0., 0., ..., 0., 0., 0.],\n",
       "       [0., 0., 0., ..., 0., 0., 0.]], dtype=float64)"
      ]
     },
     "execution_count": 275,
     "metadata": {},
     "output_type": "execute_result"
    }
   ],
   "source": [
    "v_ = v_equations(state_init, state_params)\n",
    "\n",
    "v_ = enforce_boundaries_v(v_)\n",
    "v_"
   ]
  },
  {
   "cell_type": "code",
   "execution_count": 276,
   "id": "1ab3d656-d1ea-4911-9ad4-019c57f0e46e",
   "metadata": {},
   "outputs": [
    {
     "data": {
      "image/png": "[encoded data removed]",
      "text/plain": [
       "<Figure size 640x480 with 1 Axes>"
      ]
     },
     "metadata": {},
     "output_type": "display_data"
    }
   ],
   "source": [
    "fig, ax = plt.subplots()\n",
    "\n",
    "ax.imshow(v_)\n",
    "\n",
    "plt.show()"
   ]
  },
  {
   "cell_type": "markdown",
   "id": "786e0d1c-e457-4fe9-9c8a-4e108089dd82",
   "metadata": {
    "user_expressions": []
   },
   "source": [
    "### H-Term"
   ]
  },
  {
   "cell_type": "markdown",
   "id": "bc905f23-f464-4d2f-98e7-29734aa39ab3",
   "metadata": {
    "user_expressions": []
   },
   "source": [
    "$$\n",
    "\\begin{aligned}\n",
    "\\frac{\\partial h}{\\partial t} &=  -H\\left(\\frac{\\partial u}{\\partial x} +\n",
    "\\frac{\\partial v}{\\partial y}\\right)\n",
    "\\end{aligned}\n",
    "$$"
   ]
  },
  {
   "cell_type": "code",
   "execution_count": 244,
   "id": "f1afc21c-b4f2-4492-a03e-e0665391fd6c",
   "metadata": {},
   "outputs": [],
   "source": [
    "from jaxsw._src.boundaries.functional import neumann_2d, dirichlet_face_2d\n",
    "\n",
    "\n",
    "def h_equations(state, params):\n",
    "    # parse params\n",
    "    depth, dt = params.depth, params.dt\n",
    "    # parse domain\n",
    "    dx, dy = params.domain.dx[0], params.domain.dx[1]\n",
    "    # parse state\n",
    "    u, v, h = state.u, state.v, state.h\n",
    "\n",
    "    rhs = h.copy()\n",
    "\n",
    "    # depth term\n",
    "    # du_dx = fdx.difference(u, axis=0, derivative=1, step_size=dx, accuracy=1, method=\"central\")\n",
    "    du_dx = (u[1:-1, 1:-1] - u[:-2, 1:-1]) / dx\n",
    "    # dv_dy = fdx.difference(v, axis=1, derivative=1, step_size=dy, accuracy=1, method=\"central\")\n",
    "    dv_dy = (v[1:-1, 1:-1] - v[1:-1, :-2]) / dy\n",
    "    rhs = rhs.at[1:-1, 1:-1].set(-depth * (du_dx + dv_dy))\n",
    "\n",
    "    return rhs\n",
    "\n",
    "\n",
    "def enforce_boundaries_h(h: Array) -> Array:\n",
    "    # v = v.at[:,-2].set(0)\n",
    "    h = neumann_2d(h)\n",
    "\n",
    "    return h"
   ]
  },
  {
   "cell_type": "code",
   "execution_count": 245,
   "id": "3be31249-be04-4322-91ce-c530f8438ba7",
   "metadata": {},
   "outputs": [
    {
     "data": {
      "text/plain": [
       "Array([[-0., -0., -0., ..., -0., -0., -0.],\n",
       "       [-0., -0., -0., ..., -0., -0., -0.],\n",
       "       [-0., -0., -0., ..., -0., -0., -0.],\n",
       "       ...,\n",
       "       [-0., -0., -0., ..., -0., -0., -0.],\n",
       "       [-0., -0., -0., ..., -0., -0., -0.],\n",
       "       [-0., -0., -0., ..., -0., -0., -0.]], dtype=float64)"
      ]
     },
     "execution_count": 245,
     "metadata": {},
     "output_type": "execute_result"
    }
   ],
   "source": [
    "h_ = h_equations(state_init, state_params)\n",
    "\n",
    "h_ = enforce_boundaries_h(h_)\n",
    "h_"
   ]
  },
  {
   "cell_type": "code",
   "execution_count": 246,
   "id": "73720fea-d398-4489-b755-516faa2107da",
   "metadata": {},
   "outputs": [
    {
     "data": {
      "image/png": "[encoded data removed]",
      "text/plain": [
       "<Figure size 640x480 with 1 Axes>"
      ]
     },
     "metadata": {},
     "output_type": "display_data"
    }
   ],
   "source": [
    "fig, ax = plt.subplots()\n",
    "\n",
    "ax.imshow(h_)\n",
    "\n",
    "plt.show()"
   ]
  },
  {
   "cell_type": "markdown",
   "id": "e90a9f75-77f3-4151-a582-df6b1337ddaa",
   "metadata": {
    "user_expressions": []
   },
   "source": [
    "### Combination"
   ]
  },
  {
   "cell_type": "code",
   "execution_count": 247,
   "id": "b1eca0d2-a36e-4973-b58d-495e4e451f1a",
   "metadata": {},
   "outputs": [],
   "source": [
    "from jaxsw._src.domain.base import Domain\n",
    "from jaxsw._src.models.pde import DynamicalSystem\n",
    "from jaxsw._src.domain.time import TimeDomain\n",
    "\n",
    "\n",
    "class LinearShallowWater(DynamicalSystem):\n",
    "    @staticmethod\n",
    "    def equation_of_motion(t: float, state: State, args):\n",
    "        \"\"\"Linear Shallow Water Equations\n",
    "\n",
    "        Equation:\n",
    "            ∂u/∂t + u ∂u/∂x + v ∂u/∂y = -ρ ∂p/∂x + ν (∂²u/∂x² + ∂²u/∂y²)\n",
    "            ∂v/∂t + u ∂v/∂x + v ∂v/∂y = -ρ ∂p/∂y + ν (∂²v/∂x² + ∂²v/∂y²)\n",
    "            ∂²p/∂x² + ∂²p/∂y² = -ρ(∂u/∂x ∂u/∂x + ∂u/∂y ∂v/∂x + ∂v/∂y ∂v/∂y)\n",
    "        \"\"\"\n",
    "        # parse params\n",
    "        params = args\n",
    "        # do all equations\n",
    "        u = enforce_boundaries_u(state.u)\n",
    "        v = enforce_boundaries_v(state.v)\n",
    "\n",
    "        state = state._replace(u=u, v=v)\n",
    "\n",
    "        u_rhs = u_equations(state, params)\n",
    "\n",
    "        v_rhs = v_equations(state, params)\n",
    "\n",
    "        h_rhs = h_equations(state, params)\n",
    "\n",
    "        # update state\n",
    "        state = state._replace(h=h_rhs, u=u_rhs, v=v_rhs)\n",
    "\n",
    "        return state"
   ]
  },
  {
   "cell_type": "code",
   "execution_count": 248,
   "id": "721f6a49-a1af-4d60-8275-eb1e8c4f1543",
   "metadata": {},
   "outputs": [],
   "source": [
    "# SPATIAL DISCRETIZATION\n",
    "# initialize state\n",
    "state_init = State.init_state(state_params, init_fn=init_h)\n",
    "\n",
    "# right hand side\n",
    "state_out = LinearShallowWater.equation_of_motion(0, state_init, state_params)"
   ]
  },
  {
   "cell_type": "code",
   "execution_count": 249,
   "id": "c8f8fcf1-d0c5-4731-9353-1561ec7beffd",
   "metadata": {},
   "outputs": [
    {
     "data": {
      "text/plain": [
       "Array([[0., 0., 0., ..., 0., 0., 0.],\n",
       "       [0., 0., 0., ..., 0., 0., 0.],\n",
       "       [0., 0., 0., ..., 0., 0., 0.],\n",
       "       ...,\n",
       "       [0., 0., 0., ..., 0., 0., 0.],\n",
       "       [0., 0., 0., ..., 0., 0., 0.],\n",
       "       [0., 0., 0., ..., 0., 0., 0.]], dtype=float64)"
      ]
     },
     "execution_count": 249,
     "metadata": {},
     "output_type": "execute_result"
    }
   ],
   "source": [
    "# plot_state_2D(state_out)\n",
    "# plot_state_3D(state_out)\n",
    "# plot_vectorfield_2D(state_out)\n",
    "state_out.u"
   ]
  },
  {
   "cell_type": "code",
   "execution_count": 250,
   "id": "7d26696c-d6ad-4487-9332-7eb8a16e9d3a",
   "metadata": {},
   "outputs": [
    {
     "data": {
      "image/png": "[encoded data removed]",
      "text/plain": [
       "<Figure size 800x600 with 2 Axes>"
      ]
     },
     "metadata": {},
     "output_type": "display_data"
    }
   ],
   "source": [
    "plot_quiver(state_out, state_params, t=1)"
   ]
  },
  {
   "cell_type": "code",
   "execution_count": 251,
   "id": "e23076d0-6969-406d-8406-6bc7125911fe",
   "metadata": {},
   "outputs": [
    {
     "data": {
      "image/png": "[encoded data removed]",
      "text/plain": [
       "<Figure size 640x480 with 2 Axes>"
      ]
     },
     "metadata": {},
     "output_type": "display_data"
    }
   ],
   "source": [
    "fig, ax = plt.subplots()\n",
    "\n",
    "pts = ax.imshow(state_out.h)\n",
    "plt.colorbar(pts)\n",
    "\n",
    "plt.show()"
   ]
  },
  {
   "cell_type": "markdown",
   "id": "365d2ca0-3bdb-475a-871c-3cb0cec085c0",
   "metadata": {
    "user_expressions": []
   },
   "source": [
    "## Time Stepping"
   ]
  },
  {
   "cell_type": "code",
   "execution_count": 252,
   "id": "4c9888b1-541d-490e-b62e-de089ee908f9",
   "metadata": {},
   "outputs": [
    {
     "data": {
      "text/plain": [
       "Array(319.27542841, dtype=float64, weak_type=True)"
      ]
     },
     "execution_count": 252,
     "metadata": {},
     "output_type": "execute_result"
    }
   ],
   "source": [
    "state_params.dt"
   ]
  },
  {
   "cell_type": "code",
   "execution_count": 253,
   "id": "8cfad2c2-48a8-4ac0-902a-066df3999fe6",
   "metadata": {},
   "outputs": [
    {
     "name": "stdout",
     "output_type": "stream",
     "text": [
      "Step Size (dt): 5 minutes\n",
      "Tmax: 100 hours\n",
      "Tmax: 6,000.0 seconds | 1 hours(s)\n"
     ]
    }
   ],
   "source": [
    "import pandas as pd\n",
    "import functools as ft\n",
    "\n",
    "# TEMPORAL DISCRETIZATION\n",
    "# initialize temporal domain\n",
    "\n",
    "\n",
    "dt = state_params.dt\n",
    "debug = False\n",
    "num_minutes = 10 * 10\n",
    "tmin = 0.0\n",
    "tmax = pd.to_timedelta(num_minutes, unit=\"minutes\").total_seconds()\n",
    "\n",
    "num_hours_save = 1\n",
    "dt_save = pd.to_timedelta(num_hours_save, unit=\"hours\").total_seconds()\n",
    "\n",
    "print(f\"Step Size (dt): {int(dt/60)} minutes\")\n",
    "print(f\"Tmax: {num_minutes} hours\")\n",
    "print(f\"Tmax: {tmax:,} seconds | {int(tmax/60/60)} hours(s)\")"
   ]
  },
  {
   "cell_type": "markdown",
   "id": "433c8485-ab85-42c3-bece-1f4801698f43",
   "metadata": {
    "user_expressions": []
   },
   "source": [
    "### From Scratch"
   ]
  },
  {
   "cell_type": "code",
   "execution_count": 261,
   "id": "bcd44f96-f594-42ca-a36e-01c05e552e53",
   "metadata": {},
   "outputs": [],
   "source": [
    "ts = jnp.arange(tmin, tmax + dt, dt)"
   ]
  },
  {
   "cell_type": "code",
   "execution_count": 262,
   "id": "5a1b4b92-5fa5-44e9-8361-ddea415c3ff6",
   "metadata": {},
   "outputs": [],
   "source": [
    "step = ft.partial(LinearShallowWater.equation_of_motion, args=state_params)\n",
    "\n",
    "if not debug:\n",
    "    step = jax.jit(step)"
   ]
  },
  {
   "cell_type": "code",
   "execution_count": 263,
   "id": "b4f5c9de-638b-420a-a176-4c8ef739e1d3",
   "metadata": {},
   "outputs": [
    {
     "data": {
      "application/vnd.jupyter.widget-view+json": {
       "model_id": "ab1195ef5a5840f7b3af2b8abdfe0752",
       "version_major": 2,
       "version_minor": 0
      },
      "text/plain": [
       "  0%|          | 0/20 [00:00<?, ?it/s]"
      ]
     },
     "metadata": {},
     "output_type": "display_data"
    }
   ],
   "source": [
    "state = State.init_state(state_params, init_fn=init_h)\n",
    "\n",
    "u, v, h = state.u, state.v, state.h\n",
    "\n",
    "# state = step(t=0, state=state)\n",
    "\n",
    "# state = state._replace(v=v)\n",
    "\n",
    "# state = step(t=0, state=state)\n",
    "\n",
    "# state = state._replace(h=h)\n",
    "\n",
    "for iteration in tqdm(ts):\n",
    "    # SPATIAL DISCRETIZATION\n",
    "\n",
    "    # right hand side\n",
    "    state = step(t=iteration, state=state)\n",
    "\n",
    "    u = u + state_params.dt * state.u\n",
    "    v = v + state_params.dt * state.v\n",
    "    h = h + state_params.dt * state.h\n",
    "    # u = u.at[1:-1,1:-1].set(u[1:-1,1:-1] + state_params.dt * state.u[1:-1,1:-1])\n",
    "    # v = v.at[1:-1,1:-1].set(v[1:-1,1:-1] + state_params.dt * state.v[1:-1,1:-1])\n",
    "    # h = h.at[1:-1,1:-1].set(h[1:-1,1:-1] + state_params.dt * state.h[1:-1,1:-1])\n",
    "\n",
    "    state = state._replace(u=u, v=v, h=h)"
   ]
  },
  {
   "cell_type": "code",
   "execution_count": 264,
   "id": "4f5222a6-544e-46af-accf-b159b2157769",
   "metadata": {},
   "outputs": [
    {
     "data": {
      "text/plain": [
       "(Array(99.31529071, dtype=float64), Array(100.48553298, dtype=float64))"
      ]
     },
     "execution_count": 264,
     "metadata": {},
     "output_type": "execute_result"
    }
   ],
   "source": [
    "state.h[1:-1, 1:-1].min(), state.h[1:-1, 1:-1].max()"
   ]
  },
  {
   "cell_type": "code",
   "execution_count": 265,
   "id": "95706a1b-51bf-4c34-b77f-322a22007768",
   "metadata": {},
   "outputs": [
    {
     "data": {
      "text/plain": [
       "100"
      ]
     },
     "execution_count": 265,
     "metadata": {},
     "output_type": "execute_result"
    }
   ],
   "source": [
    "state_params.depth"
   ]
  },
  {
   "cell_type": "code",
   "execution_count": 266,
   "id": "3ea02991-af87-4cb0-b569-e5e0b8f3c890",
   "metadata": {
    "jupyter": {
     "source_hidden": true
    },
    "tags": []
   },
   "outputs": [
    {
     "data": {
      "image/png": "[encoded data removed]",
      "text/plain": [
       "<Figure size 800x600 with 2 Axes>"
      ]
     },
     "metadata": {},
     "output_type": "display_data"
    }
   ],
   "source": [
    "max_quivers = 20\n",
    "plot_range = 0.5\n",
    "t = iteration\n",
    "eta = state.u - state_params.depth\n",
    "\n",
    "n_x, n_y = state_params.domain.size\n",
    "XY = state_params.domain.grid\n",
    "x, y = state_params.domain.coords\n",
    "\n",
    "\n",
    "quiver_stride = (\n",
    "    slice(1, -1, n_x // max_quivers),\n",
    "    slice(1, -1, n_y // max_quivers),\n",
    ")\n",
    "\n",
    "fig, ax = plt.subplots(figsize=(8, 6))\n",
    "\n",
    "pts = ax.pcolormesh(\n",
    "    XY[1:-1, 1:-1, 0].T / 1e3,\n",
    "    XY[1:-1, 1:-1, 1].T / 1e3,\n",
    "    eta[1:-1, 1:-1].T,\n",
    "    # vmin=-plot_range, vmax=plot_range,\n",
    "    cmap=\"RdBu_r\",\n",
    ")\n",
    "plt.colorbar(pts, label=r\"$\\eta$ [m]\")\n",
    "\n",
    "if np.any((state.u[quiver_stride] != 0) | (state.v[quiver_stride] != 0)):\n",
    "    ax.quiver(\n",
    "        x[quiver_stride[0]] / 1e3,\n",
    "        y[quiver_stride[1]] / 1e3,\n",
    "        state.u[quiver_stride].T,\n",
    "        state.v[quiver_stride].T,\n",
    "        clip_on=True,\n",
    "    )\n",
    "\n",
    "ax.set(\n",
    "    # aspect=\"equal\",\n",
    "    xlabel=r\"$x$ [km]\",\n",
    "    ylabel=r\"$y$ [km]\",\n",
    "    title=f\"T={t/86_400:5.2f} days\",\n",
    ")\n",
    "\n",
    "plt.tight_layout()\n",
    "plt.show()"
   ]
  },
  {
   "cell_type": "code",
   "execution_count": 229,
   "id": "a0c2f7a2-4493-44fc-bfcd-f233fedd2540",
   "metadata": {
    "jupyter": {
     "source_hidden": true
    },
    "tags": []
   },
   "outputs": [],
   "source": [
    "def plot_quiver(state, params, t=0, max_quivers=2, plot_range=0.5):\n",
    "    eta = state.u - params.depth\n",
    "\n",
    "    n_x, n_y = params.domain.size\n",
    "    XY = params.domain.grid\n",
    "    x, y = params.domain.coords\n",
    "\n",
    "    quiver_stride = (\n",
    "        slice(1, -1, n_x // max_quivers),\n",
    "        slice(1, -1, n_y // max_quivers),\n",
    "    )\n",
    "\n",
    "    fig, ax = plt.subplots(figsize=(8, 6))\n",
    "\n",
    "    # print(x.shape, y.shape, eta.shape)\n",
    "\n",
    "    if np.any((state.u[quiver_stride] != 0) | (state.v[quiver_stride] != 0)):\n",
    "        ax.quiver(\n",
    "            x[quiver_stride[0]] / 1e3,\n",
    "            y[quiver_stride[1]] / 1e3,\n",
    "            state.u[quiver_stride],\n",
    "            state.v[quiver_stride],\n",
    "            clip_on=False,\n",
    "        )\n",
    "\n",
    "    pts = ax.pcolormesh(\n",
    "        XY[1:-1, 1:-1, 0] / 1e3,\n",
    "        XY[1:-1, 1:-1, 1] / 1e3,\n",
    "        eta[1:-1, 1:-1],\n",
    "        vmin=-plot_range,\n",
    "        vmax=-plot_range,\n",
    "        cmap=\"RdBu_r\",\n",
    "    )\n",
    "    plt.colorbar(pts, label=r\"$\\eta$ [m]\")\n",
    "\n",
    "    ax.set(\n",
    "        # aspect=\"equal\",\n",
    "        xlabel=r\"$x$ [km]\",\n",
    "        ylabel=r\"$y$ [km]\",\n",
    "        title=f\"T={t/86_400:5.2f} days\",\n",
    "    )\n",
    "\n",
    "    plt.tight_layout()\n",
    "    plt.show()"
   ]
  },
  {
   "cell_type": "code",
   "execution_count": 230,
   "id": "0e444880-af54-4c90-a491-7a85eb311234",
   "metadata": {
    "tags": []
   },
   "outputs": [
    {
     "ename": "ValueError",
     "evalue": "Image size of 141641x129680 pixels is too large. It must be less than 2^16 in each direction.",
     "output_type": "error",
     "traceback": [
      "\u001b[0;31m---------------------------------------------------------------------------\u001b[0m",
      "\u001b[0;31mValueError\u001b[0m                                Traceback (most recent call last)",
      "File \u001b[0;32m~/miniconda3/envs/jax_eo_py310/lib/python3.9/site-packages/IPython/core/formatters.py:338\u001b[0m, in \u001b[0;36mBaseFormatter.__call__\u001b[0;34m(self, obj)\u001b[0m\n\u001b[1;32m    336\u001b[0m     \u001b[38;5;28;01mpass\u001b[39;00m\n\u001b[1;32m    337\u001b[0m \u001b[38;5;28;01melse\u001b[39;00m:\n\u001b[0;32m--> 338\u001b[0m     \u001b[38;5;28;01mreturn\u001b[39;00m \u001b[43mprinter\u001b[49m\u001b[43m(\u001b[49m\u001b[43mobj\u001b[49m\u001b[43m)\u001b[49m\n\u001b[1;32m    339\u001b[0m \u001b[38;5;66;03m# Finally look for special method names\u001b[39;00m\n\u001b[1;32m    340\u001b[0m method \u001b[38;5;241m=\u001b[39m get_real_method(obj, \u001b[38;5;28mself\u001b[39m\u001b[38;5;241m.\u001b[39mprint_method)\n",
      "File \u001b[0;32m~/miniconda3/envs/jax_eo_py310/lib/python3.9/site-packages/IPython/core/pylabtools.py:152\u001b[0m, in \u001b[0;36mprint_figure\u001b[0;34m(fig, fmt, bbox_inches, base64, **kwargs)\u001b[0m\n\u001b[1;32m    149\u001b[0m     \u001b[38;5;28;01mfrom\u001b[39;00m \u001b[38;5;21;01mmatplotlib\u001b[39;00m\u001b[38;5;21;01m.\u001b[39;00m\u001b[38;5;21;01mbackend_bases\u001b[39;00m \u001b[38;5;28;01mimport\u001b[39;00m FigureCanvasBase\n\u001b[1;32m    150\u001b[0m     FigureCanvasBase(fig)\n\u001b[0;32m--> 152\u001b[0m \u001b[43mfig\u001b[49m\u001b[38;5;241;43m.\u001b[39;49m\u001b[43mcanvas\u001b[49m\u001b[38;5;241;43m.\u001b[39;49m\u001b[43mprint_figure\u001b[49m\u001b[43m(\u001b[49m\u001b[43mbytes_io\u001b[49m\u001b[43m,\u001b[49m\u001b[43m \u001b[49m\u001b[38;5;241;43m*\u001b[39;49m\u001b[38;5;241;43m*\u001b[39;49m\u001b[43mkw\u001b[49m\u001b[43m)\u001b[49m\n\u001b[1;32m    153\u001b[0m data \u001b[38;5;241m=\u001b[39m bytes_io\u001b[38;5;241m.\u001b[39mgetvalue()\n\u001b[1;32m    154\u001b[0m \u001b[38;5;28;01mif\u001b[39;00m fmt \u001b[38;5;241m==\u001b[39m \u001b[38;5;124m'\u001b[39m\u001b[38;5;124msvg\u001b[39m\u001b[38;5;124m'\u001b[39m:\n",
      "File \u001b[0;32m~/miniconda3/envs/jax_eo_py310/lib/python3.9/site-packages/matplotlib/backend_bases.py:2366\u001b[0m, in \u001b[0;36mFigureCanvasBase.print_figure\u001b[0;34m(self, filename, dpi, facecolor, edgecolor, orientation, format, bbox_inches, pad_inches, bbox_extra_artists, backend, **kwargs)\u001b[0m\n\u001b[1;32m   2362\u001b[0m \u001b[38;5;28;01mtry\u001b[39;00m:\n\u001b[1;32m   2363\u001b[0m     \u001b[38;5;66;03m# _get_renderer may change the figure dpi (as vector formats\u001b[39;00m\n\u001b[1;32m   2364\u001b[0m     \u001b[38;5;66;03m# force the figure dpi to 72), so we need to set it again here.\u001b[39;00m\n\u001b[1;32m   2365\u001b[0m     \u001b[38;5;28;01mwith\u001b[39;00m cbook\u001b[38;5;241m.\u001b[39m_setattr_cm(\u001b[38;5;28mself\u001b[39m\u001b[38;5;241m.\u001b[39mfigure, dpi\u001b[38;5;241m=\u001b[39mdpi):\n\u001b[0;32m-> 2366\u001b[0m         result \u001b[38;5;241m=\u001b[39m \u001b[43mprint_method\u001b[49m\u001b[43m(\u001b[49m\n\u001b[1;32m   2367\u001b[0m \u001b[43m            \u001b[49m\u001b[43mfilename\u001b[49m\u001b[43m,\u001b[49m\n\u001b[1;32m   2368\u001b[0m \u001b[43m            \u001b[49m\u001b[43mfacecolor\u001b[49m\u001b[38;5;241;43m=\u001b[39;49m\u001b[43mfacecolor\u001b[49m\u001b[43m,\u001b[49m\n\u001b[1;32m   2369\u001b[0m \u001b[43m            \u001b[49m\u001b[43medgecolor\u001b[49m\u001b[38;5;241;43m=\u001b[39;49m\u001b[43medgecolor\u001b[49m\u001b[43m,\u001b[49m\n\u001b[1;32m   2370\u001b[0m \u001b[43m            \u001b[49m\u001b[43morientation\u001b[49m\u001b[38;5;241;43m=\u001b[39;49m\u001b[43morientation\u001b[49m\u001b[43m,\u001b[49m\n\u001b[1;32m   2371\u001b[0m \u001b[43m            \u001b[49m\u001b[43mbbox_inches_restore\u001b[49m\u001b[38;5;241;43m=\u001b[39;49m\u001b[43m_bbox_inches_restore\u001b[49m\u001b[43m,\u001b[49m\n\u001b[1;32m   2372\u001b[0m \u001b[43m            \u001b[49m\u001b[38;5;241;43m*\u001b[39;49m\u001b[38;5;241;43m*\u001b[39;49m\u001b[43mkwargs\u001b[49m\u001b[43m)\u001b[49m\n\u001b[1;32m   2373\u001b[0m \u001b[38;5;28;01mfinally\u001b[39;00m:\n\u001b[1;32m   2374\u001b[0m     \u001b[38;5;28;01mif\u001b[39;00m bbox_inches \u001b[38;5;129;01mand\u001b[39;00m restore_bbox:\n",
      "File \u001b[0;32m~/miniconda3/envs/jax_eo_py310/lib/python3.9/site-packages/matplotlib/backend_bases.py:2232\u001b[0m, in \u001b[0;36mFigureCanvasBase._switch_canvas_and_return_print_method.<locals>.<lambda>\u001b[0;34m(*args, **kwargs)\u001b[0m\n\u001b[1;32m   2228\u001b[0m     optional_kws \u001b[38;5;241m=\u001b[39m {  \u001b[38;5;66;03m# Passed by print_figure for other renderers.\u001b[39;00m\n\u001b[1;32m   2229\u001b[0m         \u001b[38;5;124m\"\u001b[39m\u001b[38;5;124mdpi\u001b[39m\u001b[38;5;124m\"\u001b[39m, \u001b[38;5;124m\"\u001b[39m\u001b[38;5;124mfacecolor\u001b[39m\u001b[38;5;124m\"\u001b[39m, \u001b[38;5;124m\"\u001b[39m\u001b[38;5;124medgecolor\u001b[39m\u001b[38;5;124m\"\u001b[39m, \u001b[38;5;124m\"\u001b[39m\u001b[38;5;124morientation\u001b[39m\u001b[38;5;124m\"\u001b[39m,\n\u001b[1;32m   2230\u001b[0m         \u001b[38;5;124m\"\u001b[39m\u001b[38;5;124mbbox_inches_restore\u001b[39m\u001b[38;5;124m\"\u001b[39m}\n\u001b[1;32m   2231\u001b[0m     skip \u001b[38;5;241m=\u001b[39m optional_kws \u001b[38;5;241m-\u001b[39m {\u001b[38;5;241m*\u001b[39minspect\u001b[38;5;241m.\u001b[39msignature(meth)\u001b[38;5;241m.\u001b[39mparameters}\n\u001b[0;32m-> 2232\u001b[0m     print_method \u001b[38;5;241m=\u001b[39m functools\u001b[38;5;241m.\u001b[39mwraps(meth)(\u001b[38;5;28;01mlambda\u001b[39;00m \u001b[38;5;241m*\u001b[39margs, \u001b[38;5;241m*\u001b[39m\u001b[38;5;241m*\u001b[39mkwargs: \u001b[43mmeth\u001b[49m\u001b[43m(\u001b[49m\n\u001b[1;32m   2233\u001b[0m \u001b[43m        \u001b[49m\u001b[38;5;241;43m*\u001b[39;49m\u001b[43margs\u001b[49m\u001b[43m,\u001b[49m\u001b[43m \u001b[49m\u001b[38;5;241;43m*\u001b[39;49m\u001b[38;5;241;43m*\u001b[39;49m\u001b[43m{\u001b[49m\u001b[43mk\u001b[49m\u001b[43m:\u001b[49m\u001b[43m \u001b[49m\u001b[43mv\u001b[49m\u001b[43m \u001b[49m\u001b[38;5;28;43;01mfor\u001b[39;49;00m\u001b[43m \u001b[49m\u001b[43mk\u001b[49m\u001b[43m,\u001b[49m\u001b[43m \u001b[49m\u001b[43mv\u001b[49m\u001b[43m \u001b[49m\u001b[38;5;129;43;01min\u001b[39;49;00m\u001b[43m \u001b[49m\u001b[43mkwargs\u001b[49m\u001b[38;5;241;43m.\u001b[39;49m\u001b[43mitems\u001b[49m\u001b[43m(\u001b[49m\u001b[43m)\u001b[49m\u001b[43m \u001b[49m\u001b[38;5;28;43;01mif\u001b[39;49;00m\u001b[43m \u001b[49m\u001b[43mk\u001b[49m\u001b[43m \u001b[49m\u001b[38;5;129;43;01mnot\u001b[39;49;00m\u001b[43m \u001b[49m\u001b[38;5;129;43;01min\u001b[39;49;00m\u001b[43m \u001b[49m\u001b[43mskip\u001b[49m\u001b[43m}\u001b[49m\u001b[43m)\u001b[49m)\n\u001b[1;32m   2234\u001b[0m \u001b[38;5;28;01melse\u001b[39;00m:  \u001b[38;5;66;03m# Let third-parties do as they see fit.\u001b[39;00m\n\u001b[1;32m   2235\u001b[0m     print_method \u001b[38;5;241m=\u001b[39m meth\n",
      "File \u001b[0;32m~/miniconda3/envs/jax_eo_py310/lib/python3.9/site-packages/matplotlib/backends/backend_agg.py:509\u001b[0m, in \u001b[0;36mFigureCanvasAgg.print_png\u001b[0;34m(self, filename_or_obj, metadata, pil_kwargs)\u001b[0m\n\u001b[1;32m    462\u001b[0m \u001b[38;5;28;01mdef\u001b[39;00m \u001b[38;5;21mprint_png\u001b[39m(\u001b[38;5;28mself\u001b[39m, filename_or_obj, \u001b[38;5;241m*\u001b[39m, metadata\u001b[38;5;241m=\u001b[39m\u001b[38;5;28;01mNone\u001b[39;00m, pil_kwargs\u001b[38;5;241m=\u001b[39m\u001b[38;5;28;01mNone\u001b[39;00m):\n\u001b[1;32m    463\u001b[0m \u001b[38;5;250m    \u001b[39m\u001b[38;5;124;03m\"\"\"\u001b[39;00m\n\u001b[1;32m    464\u001b[0m \u001b[38;5;124;03m    Write the figure to a PNG file.\u001b[39;00m\n\u001b[1;32m    465\u001b[0m \n\u001b[0;32m   (...)\u001b[0m\n\u001b[1;32m    507\u001b[0m \u001b[38;5;124;03m        *metadata*, including the default 'Software' key.\u001b[39;00m\n\u001b[1;32m    508\u001b[0m \u001b[38;5;124;03m    \"\"\"\u001b[39;00m\n\u001b[0;32m--> 509\u001b[0m     \u001b[38;5;28;43mself\u001b[39;49m\u001b[38;5;241;43m.\u001b[39;49m\u001b[43m_print_pil\u001b[49m\u001b[43m(\u001b[49m\u001b[43mfilename_or_obj\u001b[49m\u001b[43m,\u001b[49m\u001b[43m \u001b[49m\u001b[38;5;124;43m\"\u001b[39;49m\u001b[38;5;124;43mpng\u001b[39;49m\u001b[38;5;124;43m\"\u001b[39;49m\u001b[43m,\u001b[49m\u001b[43m \u001b[49m\u001b[43mpil_kwargs\u001b[49m\u001b[43m,\u001b[49m\u001b[43m \u001b[49m\u001b[43mmetadata\u001b[49m\u001b[43m)\u001b[49m\n",
      "File \u001b[0;32m~/miniconda3/envs/jax_eo_py310/lib/python3.9/site-packages/matplotlib/backends/backend_agg.py:457\u001b[0m, in \u001b[0;36mFigureCanvasAgg._print_pil\u001b[0;34m(self, filename_or_obj, fmt, pil_kwargs, metadata)\u001b[0m\n\u001b[1;32m    452\u001b[0m \u001b[38;5;28;01mdef\u001b[39;00m \u001b[38;5;21m_print_pil\u001b[39m(\u001b[38;5;28mself\u001b[39m, filename_or_obj, fmt, pil_kwargs, metadata\u001b[38;5;241m=\u001b[39m\u001b[38;5;28;01mNone\u001b[39;00m):\n\u001b[1;32m    453\u001b[0m \u001b[38;5;250m    \u001b[39m\u001b[38;5;124;03m\"\"\"\u001b[39;00m\n\u001b[1;32m    454\u001b[0m \u001b[38;5;124;03m    Draw the canvas, then save it using `.image.imsave` (to which\u001b[39;00m\n\u001b[1;32m    455\u001b[0m \u001b[38;5;124;03m    *pil_kwargs* and *metadata* are forwarded).\u001b[39;00m\n\u001b[1;32m    456\u001b[0m \u001b[38;5;124;03m    \"\"\"\u001b[39;00m\n\u001b[0;32m--> 457\u001b[0m     \u001b[43mFigureCanvasAgg\u001b[49m\u001b[38;5;241;43m.\u001b[39;49m\u001b[43mdraw\u001b[49m\u001b[43m(\u001b[49m\u001b[38;5;28;43mself\u001b[39;49m\u001b[43m)\u001b[49m\n\u001b[1;32m    458\u001b[0m     mpl\u001b[38;5;241m.\u001b[39mimage\u001b[38;5;241m.\u001b[39mimsave(\n\u001b[1;32m    459\u001b[0m         filename_or_obj, \u001b[38;5;28mself\u001b[39m\u001b[38;5;241m.\u001b[39mbuffer_rgba(), \u001b[38;5;28mformat\u001b[39m\u001b[38;5;241m=\u001b[39mfmt, origin\u001b[38;5;241m=\u001b[39m\u001b[38;5;124m\"\u001b[39m\u001b[38;5;124mupper\u001b[39m\u001b[38;5;124m\"\u001b[39m,\n\u001b[1;32m    460\u001b[0m         dpi\u001b[38;5;241m=\u001b[39m\u001b[38;5;28mself\u001b[39m\u001b[38;5;241m.\u001b[39mfigure\u001b[38;5;241m.\u001b[39mdpi, metadata\u001b[38;5;241m=\u001b[39mmetadata, pil_kwargs\u001b[38;5;241m=\u001b[39mpil_kwargs)\n",
      "File \u001b[0;32m~/miniconda3/envs/jax_eo_py310/lib/python3.9/site-packages/matplotlib/backends/backend_agg.py:394\u001b[0m, in \u001b[0;36mFigureCanvasAgg.draw\u001b[0;34m(self)\u001b[0m\n\u001b[1;32m    392\u001b[0m \u001b[38;5;28;01mdef\u001b[39;00m \u001b[38;5;21mdraw\u001b[39m(\u001b[38;5;28mself\u001b[39m):\n\u001b[1;32m    393\u001b[0m     \u001b[38;5;66;03m# docstring inherited\u001b[39;00m\n\u001b[0;32m--> 394\u001b[0m     \u001b[38;5;28mself\u001b[39m\u001b[38;5;241m.\u001b[39mrenderer \u001b[38;5;241m=\u001b[39m \u001b[38;5;28;43mself\u001b[39;49m\u001b[38;5;241;43m.\u001b[39;49m\u001b[43mget_renderer\u001b[49m\u001b[43m(\u001b[49m\u001b[43m)\u001b[49m\n\u001b[1;32m    395\u001b[0m     \u001b[38;5;28mself\u001b[39m\u001b[38;5;241m.\u001b[39mrenderer\u001b[38;5;241m.\u001b[39mclear()\n\u001b[1;32m    396\u001b[0m     \u001b[38;5;66;03m# Acquire a lock on the shared font cache.\u001b[39;00m\n",
      "File \u001b[0;32m~/miniconda3/envs/jax_eo_py310/lib/python3.9/site-packages/matplotlib/_api/deprecation.py:384\u001b[0m, in \u001b[0;36mdelete_parameter.<locals>.wrapper\u001b[0;34m(*inner_args, **inner_kwargs)\u001b[0m\n\u001b[1;32m    379\u001b[0m \u001b[38;5;129m@functools\u001b[39m\u001b[38;5;241m.\u001b[39mwraps(func)\n\u001b[1;32m    380\u001b[0m \u001b[38;5;28;01mdef\u001b[39;00m \u001b[38;5;21mwrapper\u001b[39m(\u001b[38;5;241m*\u001b[39minner_args, \u001b[38;5;241m*\u001b[39m\u001b[38;5;241m*\u001b[39minner_kwargs):\n\u001b[1;32m    381\u001b[0m     \u001b[38;5;28;01mif\u001b[39;00m \u001b[38;5;28mlen\u001b[39m(inner_args) \u001b[38;5;241m<\u001b[39m\u001b[38;5;241m=\u001b[39m name_idx \u001b[38;5;129;01mand\u001b[39;00m name \u001b[38;5;129;01mnot\u001b[39;00m \u001b[38;5;129;01min\u001b[39;00m inner_kwargs:\n\u001b[1;32m    382\u001b[0m         \u001b[38;5;66;03m# Early return in the simple, non-deprecated case (much faster than\u001b[39;00m\n\u001b[1;32m    383\u001b[0m         \u001b[38;5;66;03m# calling bind()).\u001b[39;00m\n\u001b[0;32m--> 384\u001b[0m         \u001b[38;5;28;01mreturn\u001b[39;00m \u001b[43mfunc\u001b[49m\u001b[43m(\u001b[49m\u001b[38;5;241;43m*\u001b[39;49m\u001b[43minner_args\u001b[49m\u001b[43m,\u001b[49m\u001b[43m \u001b[49m\u001b[38;5;241;43m*\u001b[39;49m\u001b[38;5;241;43m*\u001b[39;49m\u001b[43minner_kwargs\u001b[49m\u001b[43m)\u001b[49m\n\u001b[1;32m    385\u001b[0m     arguments \u001b[38;5;241m=\u001b[39m signature\u001b[38;5;241m.\u001b[39mbind(\u001b[38;5;241m*\u001b[39minner_args, \u001b[38;5;241m*\u001b[39m\u001b[38;5;241m*\u001b[39minner_kwargs)\u001b[38;5;241m.\u001b[39marguments\n\u001b[1;32m    386\u001b[0m     \u001b[38;5;28;01mif\u001b[39;00m is_varargs \u001b[38;5;129;01mand\u001b[39;00m arguments\u001b[38;5;241m.\u001b[39mget(name):\n",
      "File \u001b[0;32m~/miniconda3/envs/jax_eo_py310/lib/python3.9/site-packages/matplotlib/backends/backend_agg.py:411\u001b[0m, in \u001b[0;36mFigureCanvasAgg.get_renderer\u001b[0;34m(self, cleared)\u001b[0m\n\u001b[1;32m    409\u001b[0m reuse_renderer \u001b[38;5;241m=\u001b[39m (\u001b[38;5;28mself\u001b[39m\u001b[38;5;241m.\u001b[39m_lastKey \u001b[38;5;241m==\u001b[39m key)\n\u001b[1;32m    410\u001b[0m \u001b[38;5;28;01mif\u001b[39;00m \u001b[38;5;129;01mnot\u001b[39;00m reuse_renderer:\n\u001b[0;32m--> 411\u001b[0m     \u001b[38;5;28mself\u001b[39m\u001b[38;5;241m.\u001b[39mrenderer \u001b[38;5;241m=\u001b[39m \u001b[43mRendererAgg\u001b[49m\u001b[43m(\u001b[49m\u001b[43mw\u001b[49m\u001b[43m,\u001b[49m\u001b[43m \u001b[49m\u001b[43mh\u001b[49m\u001b[43m,\u001b[49m\u001b[43m \u001b[49m\u001b[38;5;28;43mself\u001b[39;49m\u001b[38;5;241;43m.\u001b[39;49m\u001b[43mfigure\u001b[49m\u001b[38;5;241;43m.\u001b[39;49m\u001b[43mdpi\u001b[49m\u001b[43m)\u001b[49m\n\u001b[1;32m    412\u001b[0m     \u001b[38;5;28mself\u001b[39m\u001b[38;5;241m.\u001b[39m_lastKey \u001b[38;5;241m=\u001b[39m key\n\u001b[1;32m    413\u001b[0m \u001b[38;5;28;01melif\u001b[39;00m cleared:\n",
      "File \u001b[0;32m~/miniconda3/envs/jax_eo_py310/lib/python3.9/site-packages/matplotlib/backends/backend_agg.py:84\u001b[0m, in \u001b[0;36mRendererAgg.__init__\u001b[0;34m(self, width, height, dpi)\u001b[0m\n\u001b[1;32m     82\u001b[0m \u001b[38;5;28mself\u001b[39m\u001b[38;5;241m.\u001b[39mwidth \u001b[38;5;241m=\u001b[39m width\n\u001b[1;32m     83\u001b[0m \u001b[38;5;28mself\u001b[39m\u001b[38;5;241m.\u001b[39mheight \u001b[38;5;241m=\u001b[39m height\n\u001b[0;32m---> 84\u001b[0m \u001b[38;5;28mself\u001b[39m\u001b[38;5;241m.\u001b[39m_renderer \u001b[38;5;241m=\u001b[39m \u001b[43m_RendererAgg\u001b[49m\u001b[43m(\u001b[49m\u001b[38;5;28;43mint\u001b[39;49m\u001b[43m(\u001b[49m\u001b[43mwidth\u001b[49m\u001b[43m)\u001b[49m\u001b[43m,\u001b[49m\u001b[43m \u001b[49m\u001b[38;5;28;43mint\u001b[39;49m\u001b[43m(\u001b[49m\u001b[43mheight\u001b[49m\u001b[43m)\u001b[49m\u001b[43m,\u001b[49m\u001b[43m \u001b[49m\u001b[43mdpi\u001b[49m\u001b[43m)\u001b[49m\n\u001b[1;32m     85\u001b[0m \u001b[38;5;28mself\u001b[39m\u001b[38;5;241m.\u001b[39m_filter_renderers \u001b[38;5;241m=\u001b[39m []\n\u001b[1;32m     87\u001b[0m \u001b[38;5;28mself\u001b[39m\u001b[38;5;241m.\u001b[39m_update_methods()\n",
      "\u001b[0;31mValueError\u001b[0m: Image size of 141641x129680 pixels is too large. It must be less than 2^16 in each direction."
     ]
    },
    {
     "data": {
      "text/plain": [
       "<Figure size 800x600 with 2 Axes>"
      ]
     },
     "metadata": {},
     "output_type": "display_data"
    }
   ],
   "source": [
    "plot_quiver(state, state_params, t=1)"
   ]
  },
  {
   "cell_type": "code",
   "execution_count": 231,
   "id": "c75cbf2e-c278-470b-85a8-696976e13f25",
   "metadata": {},
   "outputs": [
    {
     "data": {
      "image/png": "[encoded data removed]",
      "text/plain": [
       "<Figure size 1200x300 with 3 Axes>"
      ]
     },
     "metadata": {},
     "output_type": "display_data"
    }
   ],
   "source": [
    "fig, ax = plt.subplots(ncols=3, figsize=(12, 3))\n",
    "\n",
    "ax[0].imshow(state.h, cmap=\"coolwarm\")\n",
    "ax[1].imshow(state.u, cmap=\"coolwarm\")\n",
    "ax[2].imshow(state.v, cmap=\"coolwarm\")\n",
    "\n",
    "plt.show()"
   ]
  },
  {
   "cell_type": "markdown",
   "id": "1a52f8d6-a5e5-4174-976b-2b22294ad3af",
   "metadata": {
    "user_expressions": []
   },
   "source": [
    "### Grid Setup"
   ]
  },
  {
   "cell_type": "code",
   "execution_count": 232,
   "id": "c0be1af3-1bdb-48b3-8913-1dfca10d5f99",
   "metadata": {},
   "outputs": [],
   "source": [
    "x = jnp.arange(n_x) * dx\n",
    "y = jnp.arange(n_y) * dy\n",
    "\n",
    "X, Y = jnp.meshgrid(y, x, indexing=\"ij\")"
   ]
  },
  {
   "cell_type": "markdown",
   "id": "cfb99b5c-ea6c-49e5-9aba-49ae51e91076",
   "metadata": {
    "user_expressions": []
   },
   "source": [
    "### Initial Conditions\n"
   ]
  },
  {
   "cell_type": "code",
   "execution_count": 26,
   "id": "0ee9c1fe-a83b-4877-bd7d-3670d7b24167",
   "metadata": {},
   "outputs": [],
   "source": [
    "h0 = depth + 1.0 * jnp.exp(\n",
    "    -((X - x[n_x // 2]) ** 2) / rossby_radius**2\n",
    "    - (Y - y[n_y - 2]) ** 2 / rossby_radius**2\n",
    ")\n",
    "u0 = np.zeros_like(h0)\n",
    "v0 = np.zeros_like(h0)"
   ]
  },
  {
   "cell_type": "code",
   "execution_count": 35,
   "id": "a15022ee-c3c7-45d3-860a-ab4ff9ec5b38",
   "metadata": {},
   "outputs": [],
   "source": [
    "u = jnp.empty((n_y, n_x))\n",
    "v = jnp.empty((n_y, n_x))\n",
    "h = jnp.empty((n_y, n_x))\n",
    "\n",
    "u = u.at[...].set(u0)\n",
    "v = v.at[...].set(v0)\n",
    "h = h.at[...].set(h0)"
   ]
  },
  {
   "cell_type": "markdown",
   "id": "67c46020-d87c-407e-abbe-c805e7030dc3",
   "metadata": {
    "user_expressions": []
   },
   "source": [
    "### Boundaries\n",
    "\n",
    "we should not use the boundary values at $h$."
   ]
  },
  {
   "cell_type": "code",
   "execution_count": 38,
   "id": "4a2bb335-dd7c-4d9e-8b79-7bdab9229878",
   "metadata": {},
   "outputs": [],
   "source": [
    "h = h.at[0, :].set(jnp.nan)\n",
    "h = h.at[-1, :].set(jnp.nan)\n",
    "h = h.at[:, 0].set(jnp.nan)\n",
    "h = h.at[:, -1].set(jnp.nan)"
   ]
  },
  {
   "cell_type": "code",
   "execution_count": null,
   "id": "77141393-0c70-4eaf-b570-810618f494d8",
   "metadata": {},
   "outputs": [],
   "source": []
  },
  {
   "cell_type": "markdown",
   "id": "70235aca-94fe-4e56-996d-28c9908752f6",
   "metadata": {
    "user_expressions": []
   },
   "source": [
    "## Timings"
   ]
  },
  {
   "cell_type": "code",
   "execution_count": 43,
   "id": "123556ad-9a2c-4fc7-ad28-87c3d619f1d6",
   "metadata": {},
   "outputs": [],
   "source": [
    "n_t = 100\n",
    "ts = jnp.arange(n_t) * dt"
   ]
  },
  {
   "cell_type": "code",
   "execution_count": 44,
   "id": "264727d2-252a-484d-87e4-93f1bf11c882",
   "metadata": {},
   "outputs": [
    {
     "name": "stderr",
     "output_type": "stream",
     "text": [
      "/var/folders/k9/_v6ywhvj0nq36tpttd3j4mq80000gn/T/ipykernel_36910/987820437.py:1: TqdmExperimentalWarning: Using `tqdm.autonotebook.tqdm` in notebook mode. Use `tqdm.tqdm` instead to force console mode (e.g. in jupyter console)\n",
      "  from tqdm.autonotebook import tqdm\n"
     ]
    }
   ],
   "source": [
    "from tqdm.autonotebook import tqdm"
   ]
  },
  {
   "cell_type": "markdown",
   "id": "77ce26c1-1853-4851-b05a-40ed89cdc6f0",
   "metadata": {
    "user_expressions": []
   },
   "source": [
    "$$\n",
    "\\begin{aligned}\n",
    "\\partial_t u &- f\\bar{v} = - g\\partial_x h  \\\\\n",
    "\\partial_t v  &+  f\\bar{u} = - g\\partial_y h\\\\\n",
    "\\partial_t h& + H\\left(\\partial_x u + \\partial_y v\\right) = 0\n",
    "\\end{aligned}\n",
    "$$"
   ]
  },
  {
   "cell_type": "code",
   "execution_count": null,
   "id": "de172123-acf8-4fc4-9e8b-37b49c70cd93",
   "metadata": {},
   "outputs": [],
   "source": [
    "def update_u()"
   ]
  },
  {
   "cell_type": "code",
   "execution_count": null,
   "id": "e9899103-dceb-4ad9-ac3d-43ead9df612b",
   "metadata": {},
   "outputs": [],
   "source": [
    "v_avg = 0.25 * "
   ]
  },
  {
   "cell_type": "code",
   "execution_count": 45,
   "id": "22e267e7-4f07-46ab-94b1-b8300c6e8283",
   "metadata": {},
   "outputs": [
    {
     "data": {
      "application/vnd.jupyter.widget-view+json": {
       "model_id": "fa119ea9d6b94a30b28db52226de7365",
       "version_major": 2,
       "version_minor": 0
      },
      "text/plain": [
       "  0%|          | 0/100 [00:00<?, ?it/s]"
      ]
     },
     "metadata": {},
     "output_type": "display_data"
    }
   ],
   "source": [
    "for t in tqdm(ts):\n",
    "    continue"
   ]
  },
  {
   "cell_type": "markdown",
   "id": "e409500f-a7de-4f00-95a6-cfd8aeca3098",
   "metadata": {
    "user_expressions": []
   },
   "source": [
    "### Plots"
   ]
  },
  {
   "cell_type": "code",
   "execution_count": 28,
   "id": "062e2226-d873-4cab-9d1a-f948f6c75d07",
   "metadata": {},
   "outputs": [],
   "source": [
    "plot_range = 0.5\n",
    "plot_every = 2\n",
    "max_quivers = 21"
   ]
  },
  {
   "cell_type": "code",
   "execution_count": 29,
   "id": "5421827b-a159-4bae-851f-496449936ecd",
   "metadata": {},
   "outputs": [],
   "source": [
    "def prepare_plot():\n",
    "    fig, ax = plt.subplots(1, 1, figsize=(8, 6))\n",
    "    cs = update_plot(0, h0, u0, v0, ax)\n",
    "    plt.colorbar(cs, label=r\"$\\eta$ [m]\")\n",
    "    return fig, ax"
   ]
  },
  {
   "cell_type": "code",
   "execution_count": 30,
   "id": "718a7e64-db05-4f6f-86e2-57288f3cdbc7",
   "metadata": {},
   "outputs": [],
   "source": [
    "def update_plot(t, h, u, v, ax):\n",
    "    eta = h - depth\n",
    "\n",
    "    quiver_stride = (\n",
    "        slice(1, -1, n_y // max_quivers),\n",
    "        slice(1, -1, n_x // max_quivers),\n",
    "    )\n",
    "\n",
    "    ax.clear()\n",
    "    cs = ax.pcolormesh(\n",
    "        x[1:-1] / 1e3,\n",
    "        y[1:-1] / 1e3,\n",
    "        eta[1:-1, 1:-1],\n",
    "        vmin=-plot_range,\n",
    "        vmax=plot_range,\n",
    "        cmap=\"RdBu_r\",\n",
    "    )\n",
    "\n",
    "    if np.any((u[quiver_stride] != 0) | (v[quiver_stride] != 0)):\n",
    "        ax.quiver(\n",
    "            x[quiver_stride[1]] / 1e3,\n",
    "            y[quiver_stride[0]] / 1e3,\n",
    "            u[quiver_stride],\n",
    "            v[quiver_stride],\n",
    "            clip_on=False,\n",
    "        )\n",
    "\n",
    "    ax.set_aspect(\"equal\")\n",
    "    ax.set_xlabel(r\"$x$ [km]\")\n",
    "    ax.set_ylabel(r\"$y$ [km]\")\n",
    "    ax.set_title(\n",
    "        f\"t={t/86_400:5.2f}, R={rossby_radius/1e3:5.1f}, c={phase_speed:5.1f} m/s\"\n",
    "    )\n",
    "    plt.pause(0.1)\n",
    "    return cs"
   ]
  }
 ],
 "metadata": {
  "kernelspec": {
   "display_name": "Python [conda env:jax_eo_py310]",
   "language": "python",
   "name": "conda-env-jax_eo_py310-py"
  },
  "language_info": {
   "codemirror_mode": {
    "name": "ipython",
    "version": 3
   },
   "file_extension": ".py",
   "mimetype": "text/x-python",
   "name": "python",
   "nbconvert_exporter": "python",
   "pygments_lexer": "ipython3",
   "version": "3.9.16"
  }
 },
 "nbformat": 4,
 "nbformat_minor": 5
}
