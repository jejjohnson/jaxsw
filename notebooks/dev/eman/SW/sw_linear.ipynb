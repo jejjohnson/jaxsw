{
 "cells": [
  {
   "cell_type": "markdown",
   "id": "d5bca1fd-b90e-43b2-90ba-4cf6ea2a6884",
   "metadata": {
    "tags": [],
    "user_expressions": []
   },
   "source": [
    "# Naive Linear Shallow Water"
   ]
  },
  {
   "cell_type": "code",
   "execution_count": 2,
   "id": "ef9b5897-79b7-41ac-8476-44ccc04243e1",
   "metadata": {
    "tags": []
   },
   "outputs": [],
   "source": [
    "import autoroot\n",
    "import jax\n",
    "import jax.numpy as jnp\n",
    "import jax.scipy as jsp\n",
    "from jax.config import config\n",
    "import numpy as np\n",
    "import numba as nb\n",
    "import pandas as pd\n",
    "import equinox as eqx\n",
    "import finitediffx as fdx\n",
    "import diffrax as dfx\n",
    "import xarray as xr\n",
    "import matplotlib.pyplot as plt\n",
    "import seaborn as sns\n",
    "from einops import rearrange, repeat, reduce\n",
    "from tqdm.notebook import tqdm, trange\n",
    "from jaxtyping import Array, Float\n",
    "import wandb\n",
    "\n",
    "sns.reset_defaults()\n",
    "sns.set_context(context=\"talk\", font_scale=0.7)\n",
    "config.update(\"jax_enable_x64\", True)\n",
    "\n",
    "\n",
    "%matplotlib inline\n",
    "%load_ext autoreload\n",
    "%autoreload 2"
   ]
  },
  {
   "cell_type": "markdown",
   "id": "aef6668f-88b9-47b7-a478-e98196f6f9c4",
   "metadata": {
    "user_expressions": []
   },
   "source": [
    "## Equations\n",
    "\n",
    "Taking the equation from [wikipedia](https://en.wikipedia.org/wiki/Shallow_water_equations#Non-conservative_form).\n",
    "\n",
    "**Non-Conservative Form**\n",
    "\n",
    "$$\n",
    "\\begin{aligned}\n",
    "\\frac{\\partial h}{\\partial t} &+ \n",
    "\\frac{\\partial}{\\partial x}\\left((H+h)u\\right) +\n",
    "\\frac{\\partial}{\\partial y}\\left((H+h)v\\right)= 0 \\\\\n",
    "\\frac{\\partial u}{\\partial t} &+ u\\frac{\\partial u}{\\partial x} + v\\frac{\\partial u}{\\partial y} - fv =\n",
    "-g\\frac{\\partial h}{\\partial x} -ku + \\nu \\left( \\frac{\\partial^2 u}{\\partial x^2} + \n",
    "\\frac{\\partial^2 u}{\\partial y^2} \\right)\\\\\n",
    "\\frac{\\partial v}{\\partial t} &+ u\\frac{\\partial v}{\\partial x} + v\\frac{\\partial v}{\\partial y} + fu =\n",
    "-g\\frac{\\partial h}{\\partial y} -kv + \n",
    "\\nu \\left( \\frac{\\partial^2 v}{\\partial x^2} + \\frac{\\partial^2 v}{\\partial y^2} \\right)\\\\\n",
    "\\end{aligned}\n",
    "$$ (eq:sw)\n"
   ]
  },
  {
   "cell_type": "markdown",
   "id": "465a8336-d793-44eb-928f-e90feb47e321",
   "metadata": {
    "user_expressions": []
   },
   "source": [
    "| Symbol | Variable | Unit | \n",
    "|:---------:|:------|:----:|\n",
    "| $u$ | Zonal Velocity |  $m/s^2$ |\n",
    "| $v$ | Meridial Velocity |   $m/s^2$ |\n",
    "| $H$ |Mean Height |   $m$ |\n",
    "| $h$ |Height Deviation |$m$ |\n",
    "|$b$ | Topographical height \n",
    "\n",
    "\n",
    "**Velocities**. The $u,v$ represent the zonal and meridional velocities in the x,y directions respectively.\n",
    "\n",
    "**Heights** ($H,h,b$). \n",
    "The $H$ represents the mean hight of the horizontal pressure surface. \n",
    "The $h$ represents the height deviation of the horizontal pressure surface from its mean height.\n",
    "$b$ represents the topographical height from a reference $D$.\n",
    "\n",
    "$$\n",
    "\\begin{aligned}\n",
    "\\eta(x,y,t) &= H(x,y) + h(x,y,t) \\\\\n",
    "H(x,y) &= D + b(x,y)\n",
    "\\end{aligned}\n",
    "$$\n",
    "\n",
    "**Constants** ($f,k,\\nu$). $g$ is the acceleration due to gravity, $k$ is the viscous drag coefficient, and $\\nu$ is the kinematic viscosity."
   ]
  },
  {
   "cell_type": "markdown",
   "id": "ce2265f8-0603-4ce6-a0f5-22fa35e98720",
   "metadata": {
    "user_expressions": []
   },
   "source": [
    "**Linear Version**\n",
    "\n",
    "$$\n",
    "\\begin{aligned}\n",
    "\\frac{\\partial h}{\\partial t} &+  H\\left(\\frac{\\partial u}{\\partial x} +\n",
    "\\frac{\\partial v}{\\partial y}\\right)= 0 \\\\\n",
    "\\frac{\\partial u}{\\partial t} &- fv = -g\\frac{\\partial h}{\\partial x} -ku \\\\\n",
    "\\frac{\\partial v}{\\partial t} &+ fu = -g\\frac{\\partial h}{\\partial y} -kv\\\\\n",
    "\\end{aligned}\n",
    "$$"
   ]
  },
  {
   "cell_type": "markdown",
   "id": "50fe3901-c324-4397-a11b-c4f502785ea4",
   "metadata": {
    "user_expressions": []
   },
   "source": [
    "**Advection Term**\n",
    "\n",
    "$$\n",
    "\\begin{aligned}\n",
    "u\\frac{\\partial u}{\\partial x} + v\\frac{\\partial u}{\\partial y} \\\\\n",
    "u\\frac{\\partial v}{\\partial x} + v\\frac{\\partial v}{\\partial y}\n",
    "\\end{aligned}\n",
    "$$\n"
   ]
  },
  {
   "cell_type": "markdown",
   "id": "85b9dfe4-9b04-42ba-a45c-7ae4cea035c3",
   "metadata": {
    "user_expressions": []
   },
   "source": [
    "**Diffusion Term**\n",
    "\n",
    "$$\n",
    "\\begin{aligned}\n",
    "\\nu \\left( \\frac{\\partial^2 u}{\\partial x^2} + \n",
    "\\frac{\\partial^2 u}{\\partial y^2} \\right) \\\\\n",
    "\\nu \\left( \\frac{\\partial^2 v}{\\partial x^2} + \\frac{\\partial^2 v}{\\partial y^2} \\right)\n",
    "\\end{aligned}\n",
    "$$"
   ]
  },
  {
   "cell_type": "markdown",
   "id": "488cdf1a-8ad7-4b6f-8113-649eb1ba1c27",
   "metadata": {
    "user_expressions": []
   },
   "source": [
    "## Equations\n",
    "\n",
    "$$\n",
    "\n",
    "$$\n",
    "\n",
    "$$\n",
    "\\begin{aligned}\n",
    "\\partial_t q &= - \\det\\boldsymbol{J}(\\psi,q) - \\beta\\partial_y\\psi \\\\\n",
    "q &= \\nabla^2 \\psi - \\frac{1}{L_R^2}\\psi \\\\\n",
    "\\psi &= \\frac{f}{g} \\\\\n",
    "u &= -\\partial_y\\psi \\\\\n",
    "v &= \\partial_x\\psi \\\\\n",
    "f &= 2\\Omega\\sin\\theta_0 + \\frac{1}{R}2\\Omega\\cos\\theta_0 y\n",
    "\\end{aligned}\n",
    "$$\n",
    "\n",
    "where:\n",
    "* $f_0=2\\Omega\\sin\\theta_0$ is the Coriolis parameter at latitude $\\theta_0$\n",
    "* $\\beta=\\frac{1}{R}2\\Omega\\cos\\theta_0 y$ is the $\\beta$-plane approximation\n",
    "* $L_R$ is the Rossby wave coefficient\n",
    "* $\\Omega$ is the angular frequency of rotation\n",
    "\n",
    "Source:\n",
    "* [Geophysical Fluid Dynamcis - Pedlosky](https://doi.org/10.1007/978-1-4612-4650-3)\n",
    "* [Atmosphere and Oceanic Fluid Dynamics - Vallis](https://doi.org/10.1017/9781107588417)"
   ]
  },
  {
   "cell_type": "markdown",
   "id": "f589e7b9-e033-41e7-b122-6d0a9ca6e8c8",
   "metadata": {
    "user_expressions": []
   },
   "source": [
    "## Read input SSH"
   ]
  },
  {
   "cell_type": "code",
   "execution_count": 24,
   "id": "4200c478-1f75-4722-ba1c-90a9d6972bf0",
   "metadata": {},
   "outputs": [
    {
     "name": "stdout",
     "output_type": "stream",
     "text": [
      "Nx: 2,000,000 [m]\n",
      "dx: 20,000 [m]\n",
      "Ny: 2,020,000 [m]\n",
      "dy: 20,000 [m]\n",
      "Phase Speed: 31.32 m/s\n",
      "Rossby Radius: 156,604.60 [m]\n"
     ]
    }
   ],
   "source": [
    "n_x = 100\n",
    "dx = 20e3\n",
    "\n",
    "n_y = 101\n",
    "dy = 20e3\n",
    "\n",
    "gravity = 9.81\n",
    "depth = 100.\n",
    "coriolis_param = 2e-4\n",
    "\n",
    "phase_speed = jnp.sqrt(gravity * depth)\n",
    "rossby_radius = jnp.sqrt(gravity * depth) / coriolis_param\n",
    "\n",
    "\n",
    "print(f\"Nx: {n_x*dx:,.0f} [m]\")\n",
    "print(f\"dx: {dx:,.0f} [m]\")\n",
    "\n",
    "print(f\"Ny: {n_y*dy:,.0f} [m]\")\n",
    "print(f\"dy: {dy:,.0f} [m]\")\n",
    "\n",
    "print(f\"Phase Speed: {phase_speed:,.2f} m/s\")\n",
    "print(f\"Rossby Radius: {rossby_radius:,.2f} [m]\")"
   ]
  },
  {
   "cell_type": "code",
   "execution_count": 8,
   "id": "5a1b4b92-5fa5-44e9-8361-ddea415c3ff6",
   "metadata": {},
   "outputs": [
    {
     "name": "stdout",
     "output_type": "stream",
     "text": [
      "dt: 319.28 secs\n"
     ]
    }
   ],
   "source": [
    "dt = 0.5 * min(dx,dy) / jnp.sqrt(gravity * depth)\n",
    "print(f\"dt: {dt:.2f} secs\")"
   ]
  },
  {
   "cell_type": "markdown",
   "id": "1a52f8d6-a5e5-4174-976b-2b22294ad3af",
   "metadata": {
    "user_expressions": []
   },
   "source": [
    "### Grid Setup"
   ]
  },
  {
   "cell_type": "code",
   "execution_count": 25,
   "id": "c0be1af3-1bdb-48b3-8913-1dfca10d5f99",
   "metadata": {},
   "outputs": [],
   "source": [
    "x = jnp.arange(n_x) * dx\n",
    "y = jnp.arange(n_y) * dy\n",
    "\n",
    "X, Y = jnp.meshgrid(y, x, indexing=\"ij\")"
   ]
  },
  {
   "cell_type": "markdown",
   "id": "cfb99b5c-ea6c-49e5-9aba-49ae51e91076",
   "metadata": {
    "user_expressions": []
   },
   "source": [
    "### Initial Conditions\n"
   ]
  },
  {
   "cell_type": "code",
   "execution_count": 26,
   "id": "0ee9c1fe-a83b-4877-bd7d-3670d7b24167",
   "metadata": {},
   "outputs": [],
   "source": [
    "h0 = depth + 1.0 * jnp.exp(\n",
    "    - (X - x[n_x//2]) ** 2 / rossby_radius ** 2\n",
    "    - (Y - y[n_y - 2]) ** 2 /rossby_radius ** 2\n",
    ")\n",
    "u0 = np.zeros_like(h0)\n",
    "v0 = np.zeros_like(h0)"
   ]
  },
  {
   "cell_type": "code",
   "execution_count": 35,
   "id": "a15022ee-c3c7-45d3-860a-ab4ff9ec5b38",
   "metadata": {},
   "outputs": [],
   "source": [
    "u = jnp.empty((n_y, n_x))\n",
    "v = jnp.empty((n_y, n_x))\n",
    "h = jnp.empty((n_y, n_x))\n",
    "\n",
    "u = u.at[...].set(u0)\n",
    "v = v.at[...].set(v0)\n",
    "h = h.at[...].set(h0)"
   ]
  },
  {
   "cell_type": "markdown",
   "id": "67c46020-d87c-407e-abbe-c805e7030dc3",
   "metadata": {
    "user_expressions": []
   },
   "source": [
    "### Boundaries\n",
    "\n",
    "we should not use the boundary values at $h$."
   ]
  },
  {
   "cell_type": "code",
   "execution_count": 38,
   "id": "4a2bb335-dd7c-4d9e-8b79-7bdab9229878",
   "metadata": {},
   "outputs": [],
   "source": [
    "h = h.at[0,:].set(jnp.nan)\n",
    "h = h.at[-1,:].set(jnp.nan)\n",
    "h = h.at[:,0].set(jnp.nan)\n",
    "h = h.at[:,-1].set(jnp.nan)"
   ]
  },
  {
   "cell_type": "code",
   "execution_count": null,
   "id": "77141393-0c70-4eaf-b570-810618f494d8",
   "metadata": {},
   "outputs": [],
   "source": []
  },
  {
   "cell_type": "markdown",
   "id": "70235aca-94fe-4e56-996d-28c9908752f6",
   "metadata": {
    "user_expressions": []
   },
   "source": [
    "## Timings"
   ]
  },
  {
   "cell_type": "code",
   "execution_count": 43,
   "id": "123556ad-9a2c-4fc7-ad28-87c3d619f1d6",
   "metadata": {},
   "outputs": [],
   "source": [
    "n_t = 100\n",
    "ts = jnp.arange(n_t) * dt"
   ]
  },
  {
   "cell_type": "code",
   "execution_count": 44,
   "id": "264727d2-252a-484d-87e4-93f1bf11c882",
   "metadata": {},
   "outputs": [
    {
     "name": "stderr",
     "output_type": "stream",
     "text": [
      "/var/folders/k9/_v6ywhvj0nq36tpttd3j4mq80000gn/T/ipykernel_36910/987820437.py:1: TqdmExperimentalWarning: Using `tqdm.autonotebook.tqdm` in notebook mode. Use `tqdm.tqdm` instead to force console mode (e.g. in jupyter console)\n",
      "  from tqdm.autonotebook import tqdm\n"
     ]
    }
   ],
   "source": [
    "from tqdm.autonotebook import tqdm"
   ]
  },
  {
   "cell_type": "markdown",
   "id": "77ce26c1-1853-4851-b05a-40ed89cdc6f0",
   "metadata": {
    "user_expressions": []
   },
   "source": [
    "$$\n",
    "\\begin{aligned}\n",
    "\\partial_t u &- f\\bar{v} = - g\\partial_x h  \\\\\n",
    "\\partial_t v  &+  f\\bar{u} = - g\\partial_y h\\\\\n",
    "\\partial_t h& + H\\left(\\partial_x u + \\partial_y v\\right) = 0\n",
    "\\end{aligned}\n",
    "$$"
   ]
  },
  {
   "cell_type": "code",
   "execution_count": null,
   "id": "de172123-acf8-4fc4-9e8b-37b49c70cd93",
   "metadata": {},
   "outputs": [],
   "source": [
    "def update_u()"
   ]
  },
  {
   "cell_type": "code",
   "execution_count": null,
   "id": "e9899103-dceb-4ad9-ac3d-43ead9df612b",
   "metadata": {},
   "outputs": [],
   "source": [
    "v_avg = 0.25 * "
   ]
  },
  {
   "cell_type": "code",
   "execution_count": 45,
   "id": "22e267e7-4f07-46ab-94b1-b8300c6e8283",
   "metadata": {},
   "outputs": [
    {
     "data": {
      "application/vnd.jupyter.widget-view+json": {
       "model_id": "fa119ea9d6b94a30b28db52226de7365",
       "version_major": 2,
       "version_minor": 0
      },
      "text/plain": [
       "  0%|          | 0/100 [00:00<?, ?it/s]"
      ]
     },
     "metadata": {},
     "output_type": "display_data"
    }
   ],
   "source": [
    "for t in tqdm(ts):\n",
    "    \n",
    "    continue"
   ]
  },
  {
   "cell_type": "markdown",
   "id": "e409500f-a7de-4f00-95a6-cfd8aeca3098",
   "metadata": {
    "user_expressions": []
   },
   "source": [
    "### Plots"
   ]
  },
  {
   "cell_type": "code",
   "execution_count": 28,
   "id": "062e2226-d873-4cab-9d1a-f948f6c75d07",
   "metadata": {},
   "outputs": [],
   "source": [
    "plot_range = 0.5\n",
    "plot_every = 2\n",
    "max_quivers = 21"
   ]
  },
  {
   "cell_type": "code",
   "execution_count": 29,
   "id": "5421827b-a159-4bae-851f-496449936ecd",
   "metadata": {},
   "outputs": [],
   "source": [
    "def prepare_plot():\n",
    "    fig, ax = plt.subplots(1,1,figsize=(8,6))\n",
    "    cs = update_plot(0, h0, u0, v0, ax)\n",
    "    plt.colorbar(cs, label=r\"$\\eta$ [m]\")\n",
    "    return fig, ax"
   ]
  },
  {
   "cell_type": "code",
   "execution_count": 30,
   "id": "718a7e64-db05-4f6f-86e2-57288f3cdbc7",
   "metadata": {},
   "outputs": [],
   "source": [
    "def update_plot(t, h, u, v, ax):\n",
    "    eta = h - depth\n",
    "    \n",
    "    quiver_stride = (\n",
    "        slice(1, -1, n_y // max_quivers),\n",
    "        slice(1, -1, n_x // max_quivers),\n",
    "    )\n",
    "    \n",
    "    ax.clear()\n",
    "    cs = ax.pcolormesh(\n",
    "        x[1:-1] / 1e3,\n",
    "        y[1:-1] / 1e3,\n",
    "        eta[1:-1,1:-1],\n",
    "        vmin=-plot_range, vmax=plot_range, cmap=\"RdBu_r\",\n",
    "    )\n",
    "    \n",
    "    if np.any((u[quiver_stride] != 0) | (v[quiver_stride] != 0)):\n",
    "        ax.quiver(\n",
    "            x[quiver_stride[1]] / 1e3,\n",
    "            y[quiver_stride[0]] / 1e3,\n",
    "            u[quiver_stride],\n",
    "            v[quiver_stride],\n",
    "            clip_on=False\n",
    "        )\n",
    "    \n",
    "    ax.set_aspect(\"equal\")\n",
    "    ax.set_xlabel(r\"$x$ [km]\")\n",
    "    ax.set_ylabel(r\"$y$ [km]\")\n",
    "    ax.set_title(\n",
    "        f\"t={t/86_400:5.2f}, R={rossby_radius/1e3:5.1f}, c={phase_speed:5.1f} m/s\"\n",
    "    )\n",
    "    plt.pause(0.1)\n",
    "    return cs"
   ]
  }
 ],
 "metadata": {
  "kernelspec": {
   "display_name": "Python [conda env:jax_eo_py310]",
   "language": "python",
   "name": "conda-env-jax_eo_py310-py"
  },
  "language_info": {
   "codemirror_mode": {
    "name": "ipython",
    "version": 3
   },
   "file_extension": ".py",
   "mimetype": "text/x-python",
   "name": "python",
   "nbconvert_exporter": "python",
   "pygments_lexer": "ipython3",
   "version": "3.9.16"
  }
 },
 "nbformat": 4,
 "nbformat_minor": 5
}
