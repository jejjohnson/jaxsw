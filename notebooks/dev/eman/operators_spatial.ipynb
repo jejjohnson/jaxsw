{
 "cells": [
  {
   "cell_type": "markdown",
   "id": "92162d20-90ae-43b8-86ad-66341541e6ba",
   "metadata": {},
   "source": [
    "# Spatial Operators"
   ]
  },
  {
   "cell_type": "code",
   "execution_count": null,
   "id": "fe36567e-b6e3-4be2-88fe-88a114223703",
   "metadata": {},
   "outputs": [],
   "source": []
  }
 ],
 "metadata": {
  "kernelspec": {
   "display_name": "Python [conda env:jax_eo_py39]",
   "language": "python",
   "name": "conda-env-jax_eo_py39-py"
  },
  "language_info": {
   "codemirror_mode": {
    "name": "ipython",
    "version": 3
   },
   "file_extension": ".py",
   "mimetype": "text/x-python",
   "name": "python",
   "nbconvert_exporter": "python",
   "pygments_lexer": "ipython3",
   "version": "3.9.13"
  }
 },
 "nbformat": 4,
 "nbformat_minor": 5
}
