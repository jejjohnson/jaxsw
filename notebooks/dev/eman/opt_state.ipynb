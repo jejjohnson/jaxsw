{
 "cells": [
  {
   "cell_type": "code",
   "execution_count": null,
   "metadata": {
    "collapsed": true
   },
   "outputs": [],
   "source": []
  },
  {
   "cell_type": "markdown",
   "source": [
    "$$\n",
    "\\mathbf{x}^* = \\underset{\\mathbf{x}}{\\text{ argmin }} \\mathcal{J}(\\mathbf{x})\n",
    "$$\n",
    "\n",
    "\n",
    "$$\n",
    "\\mathcal{J}(\\mathbf{x}) = ||\\mathbf{x} - \\boldsymbol{f_\\theta}(\\mathbf{x})||\n",
    "$$"
   ],
   "metadata": {
    "collapsed": false
   }
  },
  {
   "cell_type": "code",
   "execution_count": null,
   "outputs": [],
   "source": [],
   "metadata": {
    "collapsed": false
   }
  },
  {
   "cell_type": "markdown",
   "source": [
    "## Gradient Descent\n",
    "\n",
    "\n",
    "$$\n",
    "\\mathbf{x}^{(k+1)} = \\mathbf{x}^{(k)} + \\alpha \\mathcal{J}(\\mathbf{x}^{(k)})\n",
    "$$"
   ],
   "metadata": {
    "collapsed": false
   }
  },
  {
   "cell_type": "code",
   "execution_count": null,
   "outputs": [],
   "source": [
    "import jaxopt\n",
    "\n",
    "\n",
    "def objective_fn(params, x):\n",
    "    return None\n",
    "\n",
    "\n",
    "def solution(x):\n",
    "    gd = jaxopt.GradientDescent(fun=objective_fn, maxiter=500, implicit_diff=False)\n",
    "    return gd.run(init_params, x=x).params"
   ],
   "metadata": {
    "collapsed": false
   }
  }
 ],
 "metadata": {
  "kernelspec": {
   "display_name": "Python 3",
   "language": "python",
   "name": "python3"
  },
  "language_info": {
   "codemirror_mode": {
    "name": "ipython",
    "version": 2
   },
   "file_extension": ".py",
   "mimetype": "text/x-python",
   "name": "python",
   "nbconvert_exporter": "python",
   "pygments_lexer": "ipython2",
   "version": "2.7.6"
  }
 },
 "nbformat": 4,
 "nbformat_minor": 0
}
