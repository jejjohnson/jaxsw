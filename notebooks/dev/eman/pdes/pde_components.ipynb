{
 "cells": [
  {
   "cell_type": "markdown",
   "id": "bc5acd58-675f-4ec7-a133-c5e36706ccd2",
   "metadata": {},
   "source": [
    "---\n",
    "title: Partial Differential Equations\n",
    "---"
   ]
  },
  {
   "cell_type": "markdown",
   "id": "976ecc26-ebc2-4d98-a486-5921bc336c54",
   "metadata": {},
   "source": [
    "\n",
    "\n",
    "> In this notebook, we will outline all of the components of partial differential equations and their relationship with the components found within this package.\n",
    "\n",
    "The main components outlined will be:\n",
    "\n",
    "* Domain\n",
    "* Discretization\n",
    "* Operators\n",
    "* Time Stepping"
   ]
  },
  {
   "cell_type": "code",
   "execution_count": null,
   "id": "f7143814-794f-4522-9c1c-d27215896de0",
   "metadata": {},
   "outputs": [],
   "source": []
  }
 ],
 "metadata": {
  "kernelspec": {
   "display_name": "Python [conda env:jax_eo_py39]",
   "language": "python",
   "name": "conda-env-jax_eo_py39-py"
  },
  "language_info": {
   "codemirror_mode": {
    "name": "ipython",
    "version": 3
   },
   "file_extension": ".py",
   "mimetype": "text/x-python",
   "name": "python",
   "nbconvert_exporter": "python",
   "pygments_lexer": "ipython3",
   "version": "3.9.13"
  }
 },
 "nbformat": 4,
 "nbformat_minor": 5
}
