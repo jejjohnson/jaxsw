{
 "cells": [
  {
   "cell_type": "markdown",
   "metadata": {
    "tags": [],
    "user_expressions": []
   },
   "source": [
    "---\n",
    "title: Linear Convection\n",
    "suptitle: Linear Convection with JAX\n",
    "short_title: Linear Convection\n",
    "date: 2023-02-21\n",
    "authors:\n",
    "  - name: J. Emmanuel Johnson\n",
    "    affiliations:\n",
    "      - MEOM Lab\n",
    "    roles:\n",
    "      - Primary Programmer\n",
    "    email: jemanjohnson34@gmail.com\n",
    "license: CC-BY-4.0\n",
    "keywords: PDE, ODE, TimeStepper, Diffrax\n",
    "---"
   ]
  },
  {
   "cell_type": "markdown",
   "metadata": {
    "user_expressions": []
   },
   "source": [
    "* Jax-ify\n",
    "* Don't Reinvent the Wheel"
   ]
  },
  {
   "cell_type": "code",
   "execution_count": 1,
   "metadata": {
    "tags": []
   },
   "outputs": [],
   "source": [
    "import sys, os\n",
    "from pyprojroot import here\n",
    "\n",
    "# spyder up to find the root\n",
    "root = here(project_files=[\".home\"])\n",
    "\n",
    "# append to path\n",
    "sys.path.append(str(root))"
   ]
  },
  {
   "cell_type": "markdown",
   "metadata": {
    "user_expressions": []
   },
   "source": [
    "Let's start with a simple 2D Linear Advection scheme. This PDE is defined as:\n",
    "\n",
    "$$\n",
    "\\frac{\\partial u}{\\partial t} + c \\frac{\\partial u}{\\partial x} + c\\frac{\\partial u}{\\partial y} = 0\n",
    "$$ (eq:pde)"
   ]
  },
  {
   "cell_type": "markdown",
   "metadata": {
    "user_expressions": []
   },
   "source": [
    "For the PDE {eq}`eq:pde`, we are going to do a forward difference discretization in space and a backwards in time. It is given by:\n",
    "\n",
    "$$\n",
    "u_{i,j}^{n+1} = u_{i,j}^{n} - c \\frac{\\Delta t}{\\Delta x}\\left( u_{i,j}-u_{i-1,j}^n \\right)\n",
    "- c \\frac{\\Delta t}{\\Delta y}\\left( u_{i,j-1}-u_{i,j}^n \\right)\n",
    "$$ (eq:advection_discretize)\n",
    "\n",
    "Citation [cite](dot:10.1175/JTECH-D-20-0104.1)."
   ]
  },
  {
   "cell_type": "code",
   "execution_count": 2,
   "metadata": {},
   "outputs": [],
   "source": [
    "import jax\n",
    "import jax.numpy as jnp\n",
    "import numpy as np\n",
    "import numba as nb\n",
    "import equinox as eqx\n",
    "import serket as sk\n",
    "import xarray as xr\n",
    "import matplotlib.pyplot as plt\n",
    "import seaborn as sns\n",
    "from tqdm.notebook import tqdm, trange\n",
    "from jaxtyping import Array, Float\n",
    "import wandb\n",
    "import diffrax\n",
    "import kernex as kx\n",
    "import serket as sk\n",
    "\n",
    "sns.reset_defaults()\n",
    "sns.set_context(context=\"talk\", font_scale=0.7)\n",
    "\n",
    "\n",
    "%matplotlib inline\n",
    "%load_ext autoreload\n",
    "%autoreload 2"
   ]
  },
  {
   "cell_type": "code",
   "execution_count": 3,
   "metadata": {},
   "outputs": [],
   "source": [
    "# defime some variables\n",
    "# nx, ny = 51, 51\n",
    "# nt = 100\n",
    "# c = 1.0\n",
    "# dx, dy = 2/(nx-1), 2/(ny-1)\n",
    "\n",
    "# sigma = 0.2\n",
    "# dt = sigma * dx\n",
    "\n",
    "nx, ny = 81, 81\n",
    "nt = 100\n",
    "c = 1.0\n",
    "dx, dy = 2/(nx-1), 2/(ny-1)\n",
    "\n",
    "dt = 0.001\n",
    "t0 = 0\n",
    "tmax = 0.5\n",
    "ts = np.arange(t0, tmax, step=dt)\n",
    "\n",
    "x_grid = np.linspace(0, 2, nx)\n",
    "y_grid = np.linspace(0, 2, ny)"
   ]
  },
  {
   "cell_type": "code",
   "execution_count": 4,
   "metadata": {},
   "outputs": [],
   "source": [
    "def init_hat(nx, ny, dx, dy):\n",
    "    u = np.ones((nx,ny))\n",
    "    \n",
    "    u[int(.5 / dx):int(1 / dx + 1),\n",
    "          int(.5 / dy):int(1 / dy + 1)] = 2\n",
    "    \n",
    "    return u"
   ]
  },
  {
   "cell_type": "code",
   "execution_count": 5,
   "metadata": {},
   "outputs": [],
   "source": [
    "def fin_bump(x):\n",
    "    if x <= 0 or x >= 1:\n",
    "        return 0\n",
    "    else:\n",
    "        return 100*np.exp(-1./(x-np.power(x,2.)))\n",
    "\n",
    "def init_smooth(nx, ny, dx, dy):\n",
    "    \n",
    "    u = np.ones((nx, ny))\n",
    "    \n",
    "    for ix in range(nx):\n",
    "        for iy in range(ny):\n",
    "            x = ix * dx\n",
    "            y = iy * dy\n",
    "            u[ix, iy] = fin_bump(x/1.5) * fin_bump(y/1.5) + 1.\n",
    "                     \n",
    "    return u"
   ]
  },
  {
   "cell_type": "code",
   "execution_count": 6,
   "metadata": {},
   "outputs": [],
   "source": [
    "# initialize field to be zero\n",
    "# u_init = init_hat(nx, ny, dx, dy)\n",
    "u_init = init_smooth(nx, ny, dx, dy)\n",
    "\n",
    "u = u_init.copy()"
   ]
  },
  {
   "cell_type": "code",
   "execution_count": 7,
   "metadata": {},
   "outputs": [
    {
     "data": {
      "text/plain": [
       "(81, 81)"
      ]
     },
     "execution_count": 7,
     "metadata": {},
     "output_type": "execute_result"
    }
   ],
   "source": [
    "u.shape"
   ]
  },
  {
   "cell_type": "code",
   "execution_count": 8,
   "metadata": {},
   "outputs": [
    {
     "data": {
      "image/png": "[encoded data removed]",
      "text/plain": [
       "<Figure size 640x480 with 2 Axes>"
      ]
     },
     "metadata": {},
     "output_type": "display_data"
    }
   ],
   "source": [
    "fig, ax = plt.subplots()\n",
    "pts = ax.imshow(u, cmap=\"Reds\", vmin=1.0, vmax=2.0)\n",
    "plt.colorbar(pts)\n",
    "plt.tight_layout()\n",
    "plt.show()"
   ]
  },
  {
   "cell_type": "markdown",
   "metadata": {
    "user_expressions": []
   },
   "source": [
    "\n",
    "Steps:\n",
    "\n",
    "1. Calculate the RHS\n",
    "2. Apply the Boundary Conditions\n"
   ]
  },
  {
   "cell_type": "code",
   "execution_count": 9,
   "metadata": {},
   "outputs": [],
   "source": [
    "solns = dict()"
   ]
  },
  {
   "cell_type": "code",
   "execution_count": 10,
   "metadata": {},
   "outputs": [
    {
     "data": {
      "text/plain": [
       "(0.0, 0.499)"
      ]
     },
     "execution_count": 10,
     "metadata": {},
     "output_type": "execute_result"
    }
   ],
   "source": [
    "ts.min(), ts.max()"
   ]
  },
  {
   "cell_type": "code",
   "execution_count": 11,
   "metadata": {},
   "outputs": [
    {
     "data": {
      "application/vnd.jupyter.widget-view+json": {
       "model_id": "f29eed133f9d480eb4906c562f8d3ec5",
       "version_major": 2,
       "version_minor": 0
      },
      "text/plain": [
       "  0%|          | 0/500 [00:00<?, ?it/s]"
      ]
     },
     "metadata": {},
     "output_type": "display_data"
    }
   ],
   "source": [
    "# initialize field to be zero\n",
    "u_init = np.ones((nx,ny))\n",
    "u_init[int(.5 / dx):int(1 / dx + 1),\n",
    "      int(.5 / dy):int(1 / dy + 1)] = 2\n",
    "\n",
    "u = u_init.copy()\n",
    "\n",
    "for t in tqdm(ts):\n",
    "    \n",
    "    # copy to avoid overwriting\n",
    "    un = u.copy()\n",
    "    \n",
    "    \n",
    "    # calculate the terms\n",
    "    t1 = un[1:, 1:]\n",
    "    t2 = - c * (dt / dy) * (un[1:, 1:] - un[1:, :-1])\n",
    "    t3 = - c * (dt / dx) * (un[1:, 1:] - un[:-1, 1:])\n",
    "    \n",
    "    u[1:, 1:] =  t1 + t2 + t3    \n",
    "    \n",
    "    \n",
    "    # apply boundary conditions\n",
    "    u[0, :] = 1. # left\n",
    "    u[-1, :] = 1. # right\n",
    "    u[:, 0] = 1. # bottom\n",
    "    u[:, -1] = 1. # top\n",
    "\n",
    "\n",
    "# small sanity check\n",
    "# assert (u[45:55, 45:55] > 1.8).all()\n",
    "solns[\"numpy\"] = u"
   ]
  },
  {
   "cell_type": "code",
   "execution_count": 12,
   "metadata": {},
   "outputs": [
    {
     "data": {
      "image/png": "[encoded data removed]",
      "text/plain": [
       "<Figure size 640x480 with 2 Axes>"
      ]
     },
     "metadata": {},
     "output_type": "display_data"
    }
   ],
   "source": [
    "fig, ax = plt.subplots()\n",
    "pts = ax.imshow(u, cmap=\"Reds\", vmin=1.0, vmax=2.0)\n",
    "ax.set(\n",
    "    xlabel=\"x\", ylabel=\"y\"\n",
    ")\n",
    "plt.colorbar(pts)\n",
    "plt.tight_layout()\n",
    "plt.show()"
   ]
  },
  {
   "cell_type": "markdown",
   "metadata": {
    "user_expressions": []
   },
   "source": [
    "## New API"
   ]
  },
  {
   "cell_type": "markdown",
   "metadata": {
    "user_expressions": []
   },
   "source": [
    "### Domain"
   ]
  },
  {
   "cell_type": "code",
   "execution_count": 13,
   "metadata": {},
   "outputs": [],
   "source": [
    "from jaxsw._src.domain import Domain, TimeDomain\n",
    "from jaxsw._src.fields.base import Field\n",
    "from jaxsw._src.operators.fd import Difference\n",
    "from jaxsw._src.operators.custom import FuncOperator"
   ]
  },
  {
   "cell_type": "code",
   "execution_count": 14,
   "metadata": {},
   "outputs": [],
   "source": [
    "xmin, ymin = 0., 0.\n",
    "xmax, ymax = 2.0, 2.0\n",
    "nx, ny = 81, 81\n",
    "nt = 100\n",
    "c = 1.0\n",
    "\n",
    "# initialize spatial domain\n",
    "domain = Domain.from_numpoints(xmin=(xmin,ymin), xmax=(xmax,ymax), N=(nx, ny))\n",
    "\n",
    "\n"
   ]
  },
  {
   "cell_type": "code",
   "execution_count": 15,
   "metadata": {},
   "outputs": [
    {
     "data": {
      "text/plain": [
       "((81, 81), (0.025, 0.025))"
      ]
     },
     "execution_count": 15,
     "metadata": {},
     "output_type": "execute_result"
    }
   ],
   "source": [
    "domain.size, domain.dx"
   ]
  },
  {
   "cell_type": "markdown",
   "metadata": {
    "user_expressions": []
   },
   "source": [
    "### Initial Condition"
   ]
  },
  {
   "cell_type": "code",
   "execution_count": 16,
   "metadata": {},
   "outputs": [],
   "source": [
    "\n",
    "# initialize field to be zero\n",
    "def init_u_hat(domain):\n",
    "    dx, dy = domain.dx\n",
    "    \n",
    "    u_init = jnp.ones(domain.size)\n",
    "    u_init = u_init.at[\n",
    "        int(.5 / dx):int(1 / dx + 1),\n",
    "        int(.5 / dy):int(1 / dy + 1)\n",
    "    ].set(2.0)\n",
    "    \n",
    "    return Field(u_init, domain)\n",
    "\n",
    "def init_u_smooth(domain):\n",
    "    dx, dy = domain.dx\n",
    "    nx, ny = domain.size\n",
    "    \n",
    "    u_init = init_smooth(nx, ny, dx, dy)\n",
    "    \n",
    "    return Field(jnp.asarray(u_init), domain)"
   ]
  },
  {
   "cell_type": "code",
   "execution_count": 17,
   "metadata": {},
   "outputs": [
    {
     "data": {
      "text/plain": [
       "Field(\n",
       "  values=f32[81,81],\n",
       "  domain=Domain(xmin=(0.0, 0.0), xmax=(2.0, 2.0), dx=(0.025, 0.025))\n",
       ")"
      ]
     },
     "execution_count": 17,
     "metadata": {},
     "output_type": "execute_result"
    }
   ],
   "source": [
    "u = init_u_smooth(domain)\n",
    "# u = init_u_hat(domain)\n",
    "u"
   ]
  },
  {
   "cell_type": "markdown",
   "metadata": {
    "user_expressions": []
   },
   "source": [
    "### RHS"
   ]
  },
  {
   "cell_type": "code",
   "execution_count": 18,
   "metadata": {},
   "outputs": [],
   "source": [
    "\n",
    "# initialize difference\n",
    "f_du_dx = Difference(u.domain, axis=0, accuracy=1, method=\"backward\")\n",
    "f_du_dy = Difference(u.domain, axis=1, accuracy=1, method=\"backward\")"
   ]
  },
  {
   "cell_type": "code",
   "execution_count": null,
   "metadata": {},
   "outputs": [],
   "source": []
  },
  {
   "cell_type": "code",
   "execution_count": 19,
   "metadata": {},
   "outputs": [],
   "source": [
    "from jaxtyping import PyTree, Float\n",
    "# RHS function\n",
    "def rhs_fn(u: Field, c: PyTree[float]) -> Float[Array, \"D\"]:\n",
    "    \"\"\"RHS for 1D Advection. \n",
    "    Uses a Backwards FD scheme\n",
    "    \"\"\"\n",
    "    \n",
    "    # FD\n",
    "    du_dx = f_du_dx(u)\n",
    "    du_dy = f_du_dy(u)\n",
    "    \n",
    "    u = du_dx + du_dy\n",
    "    \n",
    "    # constant\n",
    "    u = eqx.tree_at(lambda x: x.values, u, - c * u.values)\n",
    "    \n",
    "    return u"
   ]
  },
  {
   "cell_type": "code",
   "execution_count": 20,
   "metadata": {},
   "outputs": [
    {
     "data": {
      "text/plain": [
       "Field(\n",
       "  values=f32[81,81],\n",
       "  domain=Domain(xmin=(0.0, 0.0), xmax=(2.0, 2.0), dx=(0.025, 0.025))\n",
       ")"
      ]
     },
     "execution_count": 20,
     "metadata": {},
     "output_type": "execute_result"
    }
   ],
   "source": [
    "u_ = rhs_fn(u, c)\n",
    "u_"
   ]
  },
  {
   "cell_type": "markdown",
   "metadata": {
    "user_expressions": []
   },
   "source": [
    "### Boundary Conditions"
   ]
  },
  {
   "cell_type": "code",
   "execution_count": 21,
   "metadata": {},
   "outputs": [],
   "source": [
    "def f(u: Float[Array, \"Dx Dy\"]) -> Float[Array, \"Dx Dy\"]:\n",
    "    u = u.at[0,:].set(1.0)\n",
    "    u = u.at[-1,:].set(1.0)\n",
    "    u = u.at[:,0].set(1.0)\n",
    "    u = u.at[:,-1].set(1.0)\n",
    "    return u\n"
   ]
  },
  {
   "cell_type": "code",
   "execution_count": 22,
   "metadata": {},
   "outputs": [],
   "source": [
    "from jaxsw._src.operators.custom import FuncOperator"
   ]
  },
  {
   "cell_type": "code",
   "execution_count": 23,
   "metadata": {},
   "outputs": [
    {
     "name": "stderr",
     "output_type": "stream",
     "text": [
      "2023-03-14 17:59:12.714177: E external/org_tensorflow/tensorflow/compiler/xla/python/pjit.cc:461] fastpath_data is none\n"
     ]
    }
   ],
   "source": [
    "bc_fn = FuncOperator(f)\n",
    "\n",
    "u_ = bc_fn(u)"
   ]
  },
  {
   "cell_type": "code",
   "execution_count": 24,
   "metadata": {},
   "outputs": [],
   "source": [
    "def vector_field(t, u, args):\n",
    "    u = bc_fn(u)\n",
    "    \n",
    "    u = rhs_fn(u, c)\n",
    "        \n",
    "    return u"
   ]
  },
  {
   "cell_type": "code",
   "execution_count": 25,
   "metadata": {},
   "outputs": [],
   "source": [
    "u = init_u_smooth(domain)\n",
    "# u = init_u_hat(domain)"
   ]
  },
  {
   "cell_type": "code",
   "execution_count": 26,
   "metadata": {},
   "outputs": [],
   "source": [
    "# # TOLERANCES\n",
    "# rtol = 1e-5\n",
    "# atol = 1e-5\n",
    "# pcoeff = 0.3\n",
    "# icoeff = 0.4\n",
    "# dtmax = 0.001\n",
    "# stepsize_controller = diffrax.PIDController(\n",
    "#     pcoeff=0.3, icoeff=0.4, rtol=rtol, atol=atol, dtmax=dtmax\n",
    "# )\n",
    "# type(stepsize_controller)"
   ]
  },
  {
   "cell_type": "code",
   "execution_count": 27,
   "metadata": {},
   "outputs": [],
   "source": [
    "from typing import Optional\n",
    "class DynamicalSystem(eqx.Module):\n",
    "    solver: diffrax.AbstractSolver\n",
    "    saveat: Optional[diffrax.SaveAt] = None\n",
    "    controller: Optional[diffrax.PIDController]=None\n",
    "    t_domain: TimeDomain\n",
    "    \n",
    "    def __init__(self, solver, t_domain, saveat=None, controller=None):\n",
    "        self.solver = solver\n",
    "        self.t_domain = t_domain\n",
    "        self.saveat = saveat\n",
    "        self.controller = controller\n",
    "    \n",
    "    def equation_of_motion(self, t: float, u: Field, args):\n",
    "        u = bc_fn(u)\n",
    "        u = rhs_fn(u, c)\n",
    "        return u\n",
    "    \n",
    "    def integrate(self, u: Field, dt: float) -> Field:\n",
    "        \n",
    "        # solver = diffrax.ImplicitEuler()\n",
    "        sol = diffrax.diffeqsolve(\n",
    "            terms=diffrax.ODETerm(self.equation_of_motion),\n",
    "            solver=self.solver,\n",
    "            t0=self.t_domain.tmin,\n",
    "            t1=self.t_domain.tmax,\n",
    "            dt0=dt,\n",
    "            y0=u,\n",
    "            saveat=self.saveat,\n",
    "            max_steps=None,\n",
    "        )\n",
    "        return sol.ys"
   ]
  },
  {
   "cell_type": "code",
   "execution_count": 28,
   "metadata": {},
   "outputs": [],
   "source": [
    "# TEMPORAL DISCRETIZATION\n",
    "t0 = 0.0\n",
    "tmax = 0.5\n",
    "\n",
    "# CFL condition\n",
    "def cfl_cond(dx, c, sigma):\n",
    "    assert sigma <= 1.0\n",
    "    return (sigma * dx) / c\n",
    "\n",
    "# temporal parameters\n",
    "c = 0.9\n",
    "sigma = 0.2\n",
    "# dt = cfl_cond(dx=dx, c=c, sigma=sigma)\n",
    "# dt = 0.0001\n",
    "dt = 0.001\n",
    "\n",
    "\n",
    "\n",
    "# TEMPORAL DISCRETIZATION\n",
    "# initialize temporal domain\n",
    "t_domain = TimeDomain(tmin=0.0, tmax=0.5, dt=dt)\n",
    "ts = jnp.linspace(t0, tmax, 50)\n",
    "saveat = diffrax.SaveAt(ts=ts)\n",
    "\n",
    "\n",
    "# TIME STEPPER\n",
    "solver = diffrax.Euler()\n",
    "\n",
    "# DYNAMICAL SYSTEM\n",
    "dyn_model = DynamicalSystem(solver, t_domain, saveat)\n",
    "\n",
    "# integration\n",
    "u_sol = dyn_model.integrate(u, dt)"
   ]
  },
  {
   "cell_type": "code",
   "execution_count": 29,
   "metadata": {},
   "outputs": [
    {
     "data": {
      "text/plain": [
       "(50, 81, 81)"
      ]
     },
     "execution_count": 29,
     "metadata": {},
     "output_type": "execute_result"
    }
   ],
   "source": [
    "u_sol.values.shape"
   ]
  },
  {
   "cell_type": "code",
   "execution_count": 33,
   "metadata": {},
   "outputs": [
    {
     "data": {
      "image/png": "[encoded data removed]",
      "text/plain": [
       "<Figure size 640x480 with 2 Axes>"
      ]
     },
     "metadata": {},
     "output_type": "display_data"
    }
   ],
   "source": [
    "fig, ax = plt.subplots()\n",
    "pts = ax.imshow(\n",
    "    u_sol.values[-1], vmin=1.0, vmax=2.0,\n",
    "    cmap=\"Reds\")\n",
    "ax.set(\n",
    "    xlabel=\"x\", ylabel=\"y\"\n",
    ")\n",
    "plt.colorbar(pts)\n",
    "plt.tight_layout()\n",
    "plt.show()"
   ]
  },
  {
   "cell_type": "code",
   "execution_count": null,
   "metadata": {},
   "outputs": [],
   "source": []
  }
 ],
 "metadata": {
  "kernelspec": {
   "display_name": "Python [conda env:jax_eo_py310]",
   "language": "python",
   "name": "conda-env-jax_eo_py310-py"
  },
  "language_info": {
   "codemirror_mode": {
    "name": "ipython",
    "version": 3
   },
   "file_extension": ".py",
   "mimetype": "text/x-python",
   "name": "python",
   "nbconvert_exporter": "python",
   "pygments_lexer": "ipython3",
   "version": "3.10.9"
  },
  "vscode": {
   "interpreter": {
    "hash": "0413e8c03f7ddb3373a2170669dfe9b537dbce6eabc17890668e4d351ed49188"
   }
  }
 },
 "nbformat": 4,
 "nbformat_minor": 4
}
