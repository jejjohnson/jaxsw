{
 "cells": [
  {
   "cell_type": "markdown",
   "metadata": {
    "tags": [],
    "user_expressions": []
   },
   "source": [
    "---\n",
    "title: Linear Convection with JAX - Part II\n",
    "suptitle: Time Steppers with JAX\n",
    "short_title: Linear Convection\n",
    "date: 2023-02-21\n",
    "authors:\n",
    "  - name: J. Emmanuel Johnson\n",
    "    affiliations:\n",
    "      - MEOM Lab\n",
    "    roles:\n",
    "      - Primary Programmer\n",
    "    email: jemanjohnson34@gmail.com\n",
    "license: CC-BY-4.0\n",
    "keywords: PDE, ODE, TimeStepper, Diffrax\n",
    "---"
   ]
  },
  {
   "cell_type": "markdown",
   "metadata": {
    "user_expressions": []
   },
   "source": [
    "> In the previous tutorial, we broke up all of the pieces into abstract concepts. We also looked at how to jax-ify all the things by creating functions for all of the bits and pieces; ranging from the domain definition to the stepper. In this tutorial, we will repeat the same procedure but we will look again at the stepper. We will break the stepper apart and offset this to a library called `diffrax`. This will open up a world of different schemes for solving PDEs where we don't have to reinvent the wheel. With appropriate abstractions, we can instead focus on more interesting projects instead trying to do everything from scratch."
   ]
  },
  {
   "cell_type": "code",
   "execution_count": 1,
   "metadata": {
    "jupyter": {
     "source_hidden": true
    },
    "tags": []
   },
   "outputs": [],
   "source": [
    "import sys, os\n",
    "from pyprojroot import here\n",
    "\n",
    "# spyder up to find the root\n",
    "root = here(project_files=[\".home\"])\n",
    "\n",
    "# append to path\n",
    "sys.path.append(str(root))"
   ]
  },
  {
   "cell_type": "code",
   "execution_count": 2,
   "metadata": {},
   "outputs": [],
   "source": [
    "import jax\n",
    "import jax.numpy as jnp\n",
    "import numpy as np\n",
    "import numba as nb\n",
    "import equinox as eqx\n",
    "import serket as sk\n",
    "import kernex as kex\n",
    "import xarray as xr\n",
    "import matplotlib.pyplot as plt\n",
    "import seaborn as sns\n",
    "from tqdm.notebook import tqdm, trange\n",
    "from jaxtyping import Float, Array, PyTree\n",
    "import wandb\n",
    "\n",
    "sns.reset_defaults()\n",
    "sns.set_context(context=\"talk\", font_scale=0.7)\n",
    "jax.config.update(\"jax_enable_x64\", True)\n",
    "\n",
    "%matplotlib inline\n",
    "%load_ext autoreload\n",
    "%autoreload 2"
   ]
  },
  {
   "cell_type": "markdown",
   "metadata": {
    "user_expressions": []
   },
   "source": [
    "## Recall: PDE - 1D Linear Convection"
   ]
  },
  {
   "cell_type": "markdown",
   "metadata": {
    "user_expressions": []
   },
   "source": [
    "Let's continue from the previous tutorial. Recall, we are working with a 1D Linear Convection scheme:\n",
    "\n",
    "$$\n",
    "\\frac{\\partial u}{\\partial t} + c \\frac{\\partial u}{\\partial x} = 0\n",
    "$$ (pde)\n",
    "\n",
    "For the PDE {eq}`pde`, we are going to do a backwards difference discretization in space and a forwards in time. It is given by:\n",
    "\n",
    "$$\n",
    "u_{i}^{n+1} = u_{i}^{n} - c \\frac{\\Delta t}{\\Delta x}\\left( u_{i}-u_{i-1}^n \\right)\n",
    "$$ (discretization_full)"
   ]
  },
  {
   "cell_type": "markdown",
   "metadata": {
    "user_expressions": []
   },
   "source": [
    "## Recall: Jaxified Implementation\n",
    "\n",
    "In the previous tutorial, we showed how to break this PDE into individual parts via *functions*. We identified the following parts and functions:\n",
    "\n",
    "* Spatial Domain Definitions\n",
    "* Temporal Domain Definitions\n",
    "* Initial Condition Function\n",
    "* Boundary Condition Function\n",
    "* Right Hand Side (RHS)\n",
    "* Step Function\n",
    "\n",
    "I will go through each of these functions along with the notation we will use throughout this tutorial."
   ]
  },
  {
   "cell_type": "markdown",
   "metadata": {
    "user_expressions": []
   },
   "source": [
    "### Spatial Domain\n",
    "\n",
    "We define our spatial discretization as:\n",
    "\n",
    "$$\n",
    "x \\in \\Omega \\sub \\mathbb{R}^{D}\n",
    "$$ (spatial_d)\n",
    "\n",
    "Where:\n",
    "\n",
    "* $\\mathbb{R}^D$ - the space of coordinates, e.g. Euclidean, Spherical, and the size, e.g. scalar, vector, etc\n",
    "* $\\Omega$ - the domain and discretization\n",
    "\n",
    "For this problem our domain bounds are $[0.0, 2.0]$ and our time step is $\\Delta x\\sim 0.04$.\n"
   ]
  },
  {
   "cell_type": "code",
   "execution_count": 3,
   "metadata": {},
   "outputs": [
    {
     "name": "stdout",
     "output_type": "stream",
     "text": [
      "Δx: 0.0408\n"
     ]
    }
   ],
   "source": [
    "# spatial discretization\n",
    "xmin = 0.0\n",
    "xmax = 2.0\n",
    "nx = 50\n",
    "dx = xmax / (nx - 1)\n",
    "\n",
    "# spatial grid\n",
    "x_grid = np.linspace(xmin, xmax, nx)\n",
    "\n",
    "# check dx\n",
    "assert x_grid[1] - x_grid[0] == dx\n",
    "print(f\"Δx: {dx:.4f}\")"
   ]
  },
  {
   "cell_type": "markdown",
   "metadata": {
    "user_expressions": []
   },
   "source": [
    "### Temporal Domain\n",
    "\n",
    "We define our temporal discretization as:\n",
    "\n",
    "$$\n",
    "t \\in \\mathcal{T} \\sub \\mathbb{R}^+\n",
    "$$ (time_d)\n",
    "\n",
    "where the space time coordinates are bounded by $\\mathcal{T}=[0,T]$. For our problem, it is bounded between $[0.0, 0.5]$. Recall, the time step was calculated from the CFL condition given by\n",
    "\n",
    "$$\n",
    "\\Delta t = \\frac{\\sigma\\Delta x}{c} \\leq 1\n",
    "$$ (cfl_advection_dt)\n",
    "\n"
   ]
  },
  {
   "cell_type": "code",
   "execution_count": 4,
   "metadata": {},
   "outputs": [],
   "source": [
    "# temporal discretization\n",
    "t0 = 0.0\n",
    "tmax = 0.5\n",
    "\n",
    "# CFL condition\n",
    "def cfl_cond(dx, c, sigma):\n",
    "    assert sigma <= 1.0\n",
    "    return (sigma * dx) / c\n",
    "\n",
    "# temporal parameters\n",
    "c = 1.0\n",
    "sigma = 0.2\n",
    "dt = cfl_cond(dx=dx, c=c, sigma=sigma)\n",
    "\n",
    "time_steps = np.arange(t0, tmax, dt)"
   ]
  },
  {
   "cell_type": "markdown",
   "metadata": {
    "user_expressions": []
   },
   "source": [
    "### Initial Condition\n",
    "\n",
    "We said that the initial condition is actually a function which operates on a discretized domain $\\Omega$.\n",
    "\n",
    "\n",
    "$$\n",
    "\\mathcal{IC}[u](x,0) = \n",
    "\\begin{cases}\n",
    "2 & \\text{where } 0.5 \\leq x \\leq 1,\\\\\n",
    "1 & \\text{everywhere else in } (0,2) \\\\\n",
    "\\end{cases}\n",
    "$$ (ic)\n",
    "\n",
    "In practical terms, we need to initialize our state, $u$, based on the domain and discretization, $\\Omega$.\n",
    "\n",
    "$$\n",
    "\\mathcal{IC}[u](x,0):= \\boldsymbol{IC}(\\Omega, x)\n",
    "$$ (ic_practical)"
   ]
  },
  {
   "cell_type": "code",
   "execution_count": 5,
   "metadata": {},
   "outputs": [],
   "source": [
    "# initialize field to be zero\n",
    "\n",
    "\n",
    "def init_u_fn(grid: Float[Array, \"D\"]) -> Float[Array, \"D\"]:\n",
    "    \"\"\"Initial condition from grid\"\"\"\n",
    "    u = jnp.ones_like(grid, dtype=jnp.float64)\n",
    "    \n",
    "    u = u.at[int(.5 / dx):int(1 / dx + 1)].set(2.0)\n",
    "    \n",
    "    return u"
   ]
  },
  {
   "cell_type": "markdown",
   "metadata": {
    "user_expressions": []
   },
   "source": [
    "### Boundary Conditions\n",
    "\n",
    "For the boundary conditions, this is another function that is dependent upon the domain and discretization. It can be defined as:\n",
    "\n",
    "$$\n",
    "\\mathcal{BC}[u](x, t) = 1.0, \\hspace{10mm} x\\in\\partial\\Omega \\hspace{3mm} t\\in\\mathcal{T}\n",
    "$$ (bc)\n",
    "\n",
    "\n",
    "In practical terms, we want to apply some function, $\\boldsymbol{b}$, which modifies our state, $u$, at the coordinates along the boundaries of the domain, i.e. $x \\in \\partial\\Omega$. In our case it is constant. But we can easily think of strategies where it is an actual function."
   ]
  },
  {
   "cell_type": "code",
   "execution_count": 6,
   "metadata": {},
   "outputs": [],
   "source": [
    "def bc_fn(u: Float[Array, \"D\"]) -> Float[Array, \"D\"]:\n",
    "    \n",
    "    u = u.at[0].set(1.0)\n",
    "    \n",
    "    u = u.at[-1].set(1.0)\n",
    "    \n",
    "    # TODO: can use where based on points\n",
    "    return u\n"
   ]
  },
  {
   "cell_type": "markdown",
   "metadata": {
    "tags": [],
    "user_expressions": []
   },
   "source": [
    "### Differential Operators\n",
    "\n",
    "We identified the differential operators, $\\mathcal{N}[\\cdot;\\boldsymbol{\\theta}]$ on the RHS of the equation. In this case, we used the backwards time finite difference method because this is a convection scheme. There are (hyper)-parameters, $\\boldsymbol{\\theta}$, in every differential operator because there are possibly (ad-hoc) decisions that one must make for all discretizations, e.g. finite difference schem (backwards, forwards, central) and stencil order. \n",
    "\n",
    "The 1st order backwards difference is defined as:\n",
    "\n",
    "$$\n",
    "\\mathcal{N}_{BD}[u] = \\frac{1}{\\Delta x}\\left( u_{i}-u_{i-1}^n \\right)\n",
    "$$ (bd)\n",
    "\n",
    "We showcased how we can use the stencil operator as a way to handle finite differences instead of the messy slicing operations. (Tutorial on this soon!)"
   ]
  },
  {
   "cell_type": "code",
   "execution_count": 7,
   "metadata": {},
   "outputs": [],
   "source": [
    "# stencil = jnp.ones(2) / dx\n",
    "# sol = jnp.convolve(u, stencil, mode=\"same\")"
   ]
  },
  {
   "cell_type": "code",
   "execution_count": 87,
   "metadata": {},
   "outputs": [],
   "source": [
    "# 1st order backwards finite difference operator\n",
    "\n",
    "# the kernel size - we only need two elements\n",
    "kernel_size = (2,)\n",
    "# tells us that the final array is the same size as the input array\n",
    "padding = \"valid\"\n",
    "# allows us to call the index based on stencil (not global array)\n",
    "relative = True\n",
    "# easier way to call the indices within the function\n",
    "named_axis = {0: \"i\"}\n",
    "\n",
    "# create function\n",
    "@kex.kmap(kernel_size=(2,), padding=(\"valid\"), relative=True, named_axis={0: \"i\"})\n",
    "def fd_back(u: Float[Array, \"2\"], dx: PyTree[float]) -> Float[Array, \"\"]:\n",
    "    return (u[\"i\"] - u[\"i+1\"]) / dx"
   ]
  },
  {
   "cell_type": "markdown",
   "metadata": {
    "user_expressions": []
   },
   "source": [
    "### Right Hand Side\n",
    "\n",
    "Now, this is the ultimate part that glues the differential operators and the boundary conditions together.\n",
    "\n",
    "$$\n",
    "\\begin{aligned}\n",
    "\\mathcal{F}[u] &= - c \\cdot \\mathcal{N}_\\text{BackDiff}[u;\\boldsymbol{\\theta}](x) \\hspace{10mm} x\\in\\Omega\n",
    "\\end{aligned}\n",
    "$$ (rhs_complete)\n",
    "\n",
    "We dump all of this within the function to define our RHS function."
   ]
  },
  {
   "cell_type": "code",
   "execution_count": 102,
   "metadata": {},
   "outputs": [],
   "source": [
    "import finitediffx as fdx\n",
    "\n",
    "def central_difference(array, axis:int=0, accuracy:int=1, step_size:float|jnp.ndarray=1, derivatie:int=1):\n",
    "    \n",
    "    size = array.shape[axis]\n",
    "    center_offsets = fdx._src.utils._generate_central_offsets(derivative, accuracy+1)\n",
    "    center_coeffs =  fdx._src.utils.generate_finitediff_coeffs(center_offsets, derivative)\n",
    "\n",
    "    left_offsets =  fdx._src.utils._generate_forward_offsets(derivative, accuracy)\n",
    "    left_coeffs =  fdx._src.utils.generate_finitediff_coeffs(left_offsets, derivative)\n",
    "\n",
    "    right_offsets =  fdx._src.utils._generate_backward_offsets(derivative, accuracy)\n",
    "    right_coeffs =  fdx._src.utils.generate_finitediff_coeffs(right_offsets, derivative)\n",
    "    \n",
    "    return fdx._src.finite_diff._central_difference(\n",
    "                    array,\n",
    "                    axis=axis,\n",
    "                    left_coeffs=left_coeffs,\n",
    "                    center_coeffs=center_coeffs,\n",
    "                    right_coeffs=right_coeffs,\n",
    "                    left_offsets=left_offsets,\n",
    "                    center_offsets=center_offsets,\n",
    "                    right_offsets=right_offsets,\n",
    "                ) / (step_size**derivative)\n"
   ]
  },
  {
   "cell_type": "code",
   "execution_count": 103,
   "metadata": {},
   "outputs": [],
   "source": [
    "# RHS function\n",
    "def rhs_fn(u: Float[Array, \"D\"], dx: PyTree[float], c: PyTree[float]) -> Float[Array, \"D\"]:\n",
    "    \"\"\"RHS for 1D Advection. \n",
    "    Uses a Backwards FD scheme\n",
    "    \"\"\"\n",
    "#     # removes artefact from stencil operation\n",
    "#     u = jnp.pad(u, pad_width=((1,0)), mode=\"edge\")\n",
    "    \n",
    "#     # FD\n",
    "#     u = fd_back(u, dx)\n",
    "    u = central_difference(u, axis=0, accuracy=8, step_size=dx, derivative=1)\n",
    "    \n",
    "    # constant\n",
    "    u = - c * u\n",
    "    \n",
    "    return u"
   ]
  },
  {
   "cell_type": "markdown",
   "metadata": {
    "user_expressions": []
   },
   "source": [
    "## Time Stepping\n",
    "\n",
    "So in the previous tutorial, we talked about the step function but let's pause for a moment and rethink. The step function is actually a combination of two things:\n",
    "\n",
    "1. The RHS which includes the spatial derivatives.\n",
    "2. The time stepping scheme\n",
    "\n",
    "We have already taken care of the spatial derivatives in the previous step. So looking again at equations {eq}`pde` and {eq}`discretization_full`, we write the half step in between them.\n",
    "\n",
    "$$\n",
    "\\partial_t u = - c \\frac{1}{\\Delta x}\\left( u_{i}-u_{i-1}^n \\right)\n",
    "$$ (pde_spatial_discretization)\n",
    "\n",
    "where we have the RHS as defined in equation {eq}`rhs_complete` but we *did not* write the time stepping scheme for Euler. Instead, we're going to offset this to another library called `diffrax`."
   ]
  },
  {
   "cell_type": "markdown",
   "metadata": {
    "user_expressions": []
   },
   "source": [
    "## Simple Example: ODEs\n",
    "\n",
    "\n",
    "Recall our favourite initial value problem (IVP) with the ODE formulation\n",
    "\n",
    "$$\n",
    "\\dot{y}(t) = f(y(t), t)\n",
    "$$ (ode)\n",
    "\n",
    "where the solution is given by the fundamental theorem of calculus as\n",
    "\n",
    "$$\n",
    "y(t) = y(0) + \\int_{t_0}^{t} f(y(\\tau),\\tau)d\\tau\n",
    "$$\n",
    "\n",
    "So as an example, let's say my function, $f$, is given by:\n",
    "\n",
    "$$\n",
    "f(t) = -y\n",
    "$$ (ode_fn)\n",
    "\n",
    "which is a very easy example."
   ]
  },
  {
   "cell_type": "code",
   "execution_count": 104,
   "metadata": {},
   "outputs": [],
   "source": [
    "from diffrax import diffeqsolve, ODETerm, Dopri5, Euler\n",
    "import jax.numpy as jnp\n",
    "\n",
    "def f(t, y, args):\n",
    "    return -y\n",
    "\n",
    "term = ODETerm(f)\n",
    "\n",
    "# define the initial condition\n",
    "y0 = jnp.array([2.,])"
   ]
  },
  {
   "cell_type": "markdown",
   "metadata": {
    "user_expressions": []
   },
   "source": [
    "### Time Stepper\n",
    "\n",
    "```python\n",
    "# define solver\n",
    "solver = Euler()\n",
    "\n",
    "# solve!\n",
    "solutions = Solver(f, time_domain, y_0) \n",
    "```\n",
    "\n",
    "We will use the same solver as they do in the `diffrax` package. The actual `diffeqsolve` takes in the standard arguments to do with the function, the solver, the time steps and the initial condition."
   ]
  },
  {
   "cell_type": "code",
   "execution_count": 105,
   "metadata": {},
   "outputs": [],
   "source": [
    "t0 = 0.0\n",
    "t1 = 10.0\n",
    "dt = 0.1\n",
    "\n",
    "solver = Euler()\n",
    "\n",
    "solution = diffeqsolve(term, solver, t0=t0, t1=t1, dt0=dt, y0=y0)"
   ]
  },
  {
   "cell_type": "code",
   "execution_count": 106,
   "metadata": {},
   "outputs": [
    {
     "data": {
      "text/plain": [
       "Array([[5.31227978e-05]], dtype=float64, weak_type=True)"
      ]
     },
     "execution_count": 106,
     "metadata": {},
     "output_type": "execute_result"
    }
   ],
   "source": [
    "solution.ys"
   ]
  },
  {
   "cell_type": "code",
   "execution_count": 107,
   "metadata": {},
   "outputs": [
    {
     "data": {
      "text/plain": [
       "Array(1., dtype=float64, weak_type=True)"
      ]
     },
     "execution_count": 107,
     "metadata": {},
     "output_type": "execute_result"
    }
   ],
   "source": [
    "jnp.exp(-t0)"
   ]
  },
  {
   "cell_type": "markdown",
   "metadata": {
    "user_expressions": []
   },
   "source": [
    "This library has an extensive list of [ODE solvers](https://docs.kidger.site/diffrax/api/solvers/ode_solvers/). Be sure to check out this [great guide](https://docs.kidger.site/diffrax/usage/how-to-choose-a-solver/) for how to choose and ODE solver. "
   ]
  },
  {
   "cell_type": "markdown",
   "metadata": {
    "user_expressions": []
   },
   "source": [
    "### Saving Intermediate Outputs\n",
    "\n",
    "The library also has a controller which allows us to save out time steps along the way."
   ]
  },
  {
   "cell_type": "code",
   "execution_count": 108,
   "metadata": {},
   "outputs": [],
   "source": [
    "from diffrax import diffeqsolve, Dopri5, ODETerm, SaveAt, PIDController\n",
    "\n",
    "t0, t1 = 0, 10\n",
    "dt = 0.1\n",
    "saveat = SaveAt(ts=np.arange(t0, t1, dt*5))\n",
    "solver = Euler()\n",
    "stepsize_controller = PIDController(rtol=1e-5, atol=1e-5)\n",
    "\n",
    "sol = diffeqsolve(\n",
    "    term, solver, \n",
    "    t0=t0, t1=t1, dt0=dt, y0=y0, \n",
    "    saveat=saveat,\n",
    ")"
   ]
  },
  {
   "cell_type": "code",
   "execution_count": 109,
   "metadata": {},
   "outputs": [
    {
     "data": {
      "image/png": "[encoded data removed]",
      "text/plain": [
       "<Figure size 640x480 with 1 Axes>"
      ]
     },
     "metadata": {},
     "output_type": "display_data"
    }
   ],
   "source": [
    "fig, ax = plt.subplots()\n",
    "\n",
    "ax.scatter(sol.ts, sol.ys, label=\"model\", marker=\"x\", color=\"red\")\n",
    "ax.plot(sol.ts, np.exp(-sol.ts), label=\"analytical\", color=\"black\", zorder=-1)\n",
    "ax.set(\n",
    "    xlabel=\"t\",\n",
    "    ylabel=\"$f(t)$\"\n",
    ")\n",
    "plt.legend()\n",
    "plt.tight_layout()\n",
    "plt.show()"
   ]
  },
  {
   "cell_type": "markdown",
   "metadata": {
    "user_expressions": []
   },
   "source": [
    "### Controller\n",
    "\n",
    "The library also has a controller which allows us to use solvers with adaptive step-sizes!\n",
    "\n",
    "For this tutorial, we use the `Dopri5` which is the *Dormand-Prince 5(4)* (an explicit Runga-Kutta method).\n",
    "\n",
    "For my MATLAB veterans, this is the equivalent of `ode45` that everyone used back in the day!"
   ]
  },
  {
   "cell_type": "code",
   "execution_count": 110,
   "metadata": {},
   "outputs": [],
   "source": [
    "from diffrax import diffeqsolve, Dopri5, ODETerm, SaveAt, PIDController\n",
    "\n",
    "t0, t1 = 0, 10\n",
    "dt = 0.1\n",
    "saveat = SaveAt(ts=np.arange(t0, t1, dt*5))\n",
    "solver = Dopri5()\n",
    "stepsize_controller = PIDController(rtol=1e-5, atol=1e-5)\n",
    "\n",
    "sol_ho = diffeqsolve(\n",
    "    term, solver, \n",
    "    t0=t0, t1=t1, dt0=dt, y0=y0, \n",
    "    saveat=saveat,\n",
    "    stepsize_controller=stepsize_controller\n",
    ")"
   ]
  },
  {
   "cell_type": "code",
   "execution_count": 111,
   "metadata": {},
   "outputs": [
    {
     "data": {
      "image/png": "[encoded data removed]",
      "text/plain": [
       "<Figure size 640x480 with 1 Axes>"
      ]
     },
     "metadata": {},
     "output_type": "display_data"
    }
   ],
   "source": [
    "fig, ax = plt.subplots()\n",
    "\n",
    "ax.scatter(sol.ts, sol.ys, label=\"model (Euler)\", marker=\"x\", color=\"red\")\n",
    "ax.scatter(sol_ho.ts, sol_ho.ys, label=\"model (Dopri5)\", marker=\"o\", color=\"green\")\n",
    "ax.plot(sol.ts, np.exp(-sol.ts), label=\"analytical\", color=\"black\", zorder=-1)\n",
    "ax.set(\n",
    "    xlabel=\"t\",\n",
    "    ylabel=\"$f(t)$\"\n",
    ")\n",
    "plt.legend()\n",
    "plt.tight_layout()\n",
    "plt.show()"
   ]
  },
  {
   "cell_type": "markdown",
   "metadata": {
    "user_expressions": []
   },
   "source": [
    "## Back to PDEs\n",
    "\n",
    "Our problem is a time-dependent PDE. We actually did the method of lines (MOL) to solve it. We broke down the spatial derivative and offsetted everything to the RHS without writing the derivative. Now if we use the fundamental theorem of calculus like the ODE problem, we get:\n",
    "\n",
    "$$\n",
    "\\begin{aligned}\n",
    "u_{t} &= u(0) + \\int_{0}^{t} f(u(\\tau),\\tau)d\\tau \\\\\n",
    "f(u(\\tau),\\tau) &:= \\mathcal{RHS}[u](x,\\tau) \n",
    "\\end{aligned}\n",
    "$$\n",
    "\n",
    "whereby we solve this using the MOL. Essentially we solve a series of ODEs.\n",
    "\n",
    "```{note}\n",
    "For elliptical PDEs, the MOL is not so straightforward because of the higher order derivatives. So I've heard names like the MOL for transient PDEs.\n",
    "```"
   ]
  },
  {
   "cell_type": "code",
   "execution_count": 112,
   "metadata": {},
   "outputs": [],
   "source": [
    "from tqdm.notebook import tqdm\n",
    "\n",
    "def vector_field(t, u, args):\n",
    "    \n",
    "    # apply bcs\n",
    "    u = bc_fn(u)\n",
    "    \n",
    "    # calculate RHS\n",
    "    rhs = rhs_fn(u, dx, c)\n",
    "    \n",
    "    # apply bcs\n",
    "    # rhs = bc_fn(rhs)\n",
    "    \n",
    "    return rhs\n"
   ]
  },
  {
   "cell_type": "code",
   "execution_count": 113,
   "metadata": {},
   "outputs": [
    {
     "name": "stderr",
     "output_type": "stream",
     "text": [
      "2023-03-11 16:49:24.779282: E external/org_tensorflow/tensorflow/compiler/xla/python/pjit.cc:331] cache miss fail: TypeError: central_difference() got an unexpected keyword argument 'derivative'\n",
      "\n",
      "At:\n",
      "  /var/folders/k9/_v6ywhvj0nq36tpttd3j4mq80000gn/T/ipykernel_96643/2151757535.py(11): rhs_fn\n",
      "  /var/folders/k9/_v6ywhvj0nq36tpttd3j4mq80000gn/T/ipykernel_96643/636784398.py(9): vector_field\n",
      "  /Users/eman/miniconda3/envs/jax_eo_py310/lib/python3.10/site-packages/diffrax/term.py(173): vf\n",
      "  /Users/eman/miniconda3/envs/jax_eo_py310/lib/python3.10/site-packages/diffrax/term.py(364): vf\n",
      "  /Users/eman/miniconda3/envs/jax_eo_py310/lib/python3.10/site-packages/diffrax/term.py(138): vf_prod\n",
      "  /Users/eman/miniconda3/envs/jax_eo_py310/lib/python3.10/site-packages/diffrax/solver/euler.py(45): step\n",
      "  /Users/eman/miniconda3/envs/jax_eo_py310/lib/python3.10/site-packages/diffrax/integrate.py(167): body_fun\n",
      "  /Users/eman/miniconda3/envs/jax_eo_py310/lib/python3.10/site-packages/equinox/internal/while_loop/common.py(146): new_body_fun\n",
      "  /Users/eman/miniconda3/envs/jax_eo_py310/lib/python3.10/site-packages/jax/_src/linear_util.py(174): call_wrapped\n",
      "  /Users/eman/miniconda3/envs/jax_eo_py310/lib/python3.10/site-packages/jax/interpreters/partial_eval.py(2002): trace_to_subjaxpr_dynamic\n",
      "  /Users/eman/miniconda3/envs/jax_eo_py310/lib/python3.10/site-packages/jax/interpreters/partial_eval.py(1985): trace_to_jaxpr_dynamic\n",
      "  /Users/eman/miniconda3/envs/jax_eo_py310/lib/python3.10/site-packages/jax/_src/profiler.py(314): wrapper\n",
      "  /Users/eman/miniconda3/envs/jax_eo_py310/lib/python3.10/site-packages/jax/_src/lax/control_flow/common.py(54): _initial_style_open_jaxpr\n",
      "  /Users/eman/miniconda3/envs/jax_eo_py310/lib/python3.10/site-packages/jax/_src/lax/control_flow/common.py(60): _initial_style_jaxpr\n",
      "  /Users/eman/miniconda3/envs/jax_eo_py310/lib/python3.10/site-packages/jax/_src/lax/control_flow/loops.py(1071): _create_jaxpr\n",
      "  /Users/eman/miniconda3/envs/jax_eo_py310/lib/python3.10/site-packages/jax/_src/lax/control_flow/loops.py(1088): while_loop\n",
      "  /Users/eman/miniconda3/envs/jax_eo_py310/lib/python3.10/site-packages/jax/_src/traceback_util.py(167): reraise_with_filtered_traceback\n",
      "  /Users/eman/miniconda3/envs/jax_eo_py310/lib/python3.10/site-packages/equinox/internal/while_loop/while_loop.py(81): while_loop\n",
      "  /Users/eman/miniconda3/envs/jax_eo_py310/lib/python3.10/contextlib.py(79): inner\n",
      "  /Users/eman/miniconda3/envs/jax_eo_py310/lib/python3.10/site-packages/diffrax/integrate.py(371): loop\n",
      "  /Users/eman/miniconda3/envs/jax_eo_py310/lib/python3.10/site-packages/diffrax/adjoint.py(286): loop\n",
      "  /Users/eman/miniconda3/envs/jax_eo_py310/lib/python3.10/site-packages/diffrax/integrate.py(752): diffeqsolve\n",
      "  /Users/eman/miniconda3/envs/jax_eo_py310/lib/python3.10/site-packages/equinox/jit.py(30): fun_wrapped\n",
      "  /Users/eman/miniconda3/envs/jax_eo_py310/lib/python3.10/site-packages/jax/_src/linear_util.py(174): call_wrapped\n",
      "  /Users/eman/miniconda3/envs/jax_eo_py310/lib/python3.10/site-packages/jax/interpreters/partial_eval.py(2002): trace_to_subjaxpr_dynamic\n",
      "  /Users/eman/miniconda3/envs/jax_eo_py310/lib/python3.10/site-packages/jax/interpreters/partial_eval.py(1985): trace_to_jaxpr_dynamic\n",
      "  /Users/eman/miniconda3/envs/jax_eo_py310/lib/python3.10/site-packages/jax/_src/profiler.py(314): wrapper\n",
      "  /Users/eman/miniconda3/envs/jax_eo_py310/lib/python3.10/site-packages/jax/_src/pjit.py(935): _pjit_jaxpr\n",
      "  /Users/eman/miniconda3/envs/jax_eo_py310/lib/python3.10/site-packages/jax/_src/linear_util.py(301): memoized_fun\n",
      "  /Users/eman/miniconda3/envs/jax_eo_py310/lib/python3.10/site-packages/jax/_src/pjit.py(520): common_infer_params\n",
      "  /Users/eman/miniconda3/envs/jax_eo_py310/lib/python3.10/site-packages/jax/_src/api.py(443): infer_params\n",
      "  /Users/eman/miniconda3/envs/jax_eo_py310/lib/python3.10/site-packages/jax/_src/pjit.py(180): _python_pjit_helper\n",
      "  /Users/eman/miniconda3/envs/jax_eo_py310/lib/python3.10/site-packages/jax/_src/pjit.py(237): cache_miss\n",
      "  /Users/eman/miniconda3/envs/jax_eo_py310/lib/python3.10/site-packages/jax/_src/traceback_util.py(170): reraise_with_filtered_traceback\n",
      "  /Users/eman/miniconda3/envs/jax_eo_py310/lib/python3.10/site-packages/equinox/jit.py(59): _fun_wrapper\n",
      "  /Users/eman/miniconda3/envs/jax_eo_py310/lib/python3.10/site-packages/equinox/jit.py(70): __call__\n",
      "  /var/folders/k9/_v6ywhvj0nq36tpttd3j4mq80000gn/T/ipykernel_96643/2334927157.py(38): <module>\n",
      "  /Users/eman/miniconda3/envs/jax_eo_py310/lib/python3.10/site-packages/IPython/core/interactiveshell.py(3442): run_code\n",
      "  /Users/eman/miniconda3/envs/jax_eo_py310/lib/python3.10/site-packages/IPython/core/interactiveshell.py(3382): run_ast_nodes\n",
      "  /Users/eman/miniconda3/envs/jax_eo_py310/lib/python3.10/site-packages/IPython/core/interactiveshell.py(3203): run_cell_async\n",
      "  /Users/eman/miniconda3/envs/jax_eo_py310/lib/python3.10/site-packages/IPython/core/async_helpers.py(129): _pseudo_sync_runner\n",
      "  /Users/eman/miniconda3/envs/jax_eo_py310/lib/python3.10/site-packages/IPython/core/interactiveshell.py(3000): _run_cell\n",
      "  /Users/eman/miniconda3/envs/jax_eo_py310/lib/python3.10/site-packages/IPython/core/interactiveshell.py(2945): run_cell\n",
      "  /Users/eman/miniconda3/envs/jax_eo_py310/lib/python3.10/site-packages/ipykernel/zmqshell.py(531): run_cell\n",
      "  /Users/eman/miniconda3/envs/jax_eo_py310/lib/python3.10/site-packages/ipykernel/ipkernel.py(411): do_execute\n",
      "  /Users/eman/miniconda3/envs/jax_eo_py310/lib/python3.10/site-packages/ipykernel/kernelbase.py(729): execute_request\n",
      "  /Users/eman/miniconda3/envs/jax_eo_py310/lib/python3.10/site-packages/ipykernel/kernelbase.py(406): dispatch_shell\n",
      "  /Users/eman/miniconda3/envs/jax_eo_py310/lib/python3.10/site-packages/ipykernel/kernelbase.py(499): process_one\n",
      "  /Users/eman/miniconda3/envs/jax_eo_py310/lib/python3.10/site-packages/ipykernel/kernelbase.py(510): dispatch_queue\n",
      "  /Users/eman/miniconda3/envs/jax_eo_py310/lib/python3.10/asyncio/events.py(80): _run\n",
      "  /Users/eman/miniconda3/envs/jax_eo_py310/lib/python3.10/asyncio/base_events.py(1906): _run_once\n",
      "  /Users/eman/miniconda3/envs/jax_eo_py310/lib/python3.10/asyncio/base_events.py(603): run_forever\n",
      "  /Users/eman/miniconda3/envs/jax_eo_py310/lib/python3.10/site-packages/tornado/platform/asyncio.py(199): start\n",
      "  /Users/eman/miniconda3/envs/jax_eo_py310/lib/python3.10/site-packages/ipykernel/kernelapp.py(711): start\n",
      "  /Users/eman/miniconda3/envs/jax_eo_py310/lib/python3.10/site-packages/traitlets/config/application.py(992): launch_instance\n",
      "  /Users/eman/miniconda3/envs/jax_eo_py310/lib/python3.10/site-packages/ipykernel_launcher.py(17): <module>\n",
      "  /Users/eman/miniconda3/envs/jax_eo_py310/lib/python3.10/runpy.py(86): _run_code\n",
      "  /Users/eman/miniconda3/envs/jax_eo_py310/lib/python3.10/runpy.py(196): _run_module_as_main\n",
      "\n"
     ]
    },
    {
     "ename": "TypeError",
     "evalue": "central_difference() got an unexpected keyword argument 'derivative'",
     "output_type": "error",
     "traceback": [
      "\u001b[0;31m---------------------------------------------------------------------------\u001b[0m",
      "\u001b[0;31mTypeError\u001b[0m                                 Traceback (most recent call last)",
      "Cell \u001b[0;32mIn[113], line 38\u001b[0m\n\u001b[1;32m     35\u001b[0m saveat \u001b[38;5;241m=\u001b[39m diffrax\u001b[38;5;241m.\u001b[39mSaveAt(ts\u001b[38;5;241m=\u001b[39mjnp\u001b[38;5;241m.\u001b[39mlinspace(t0, tmax, \u001b[38;5;241m10\u001b[39m))\n\u001b[1;32m     37\u001b[0m solver \u001b[38;5;241m=\u001b[39m diffrax\u001b[38;5;241m.\u001b[39mEuler()\n\u001b[0;32m---> 38\u001b[0m sol \u001b[38;5;241m=\u001b[39m \u001b[43mdiffrax\u001b[49m\u001b[38;5;241;43m.\u001b[39;49m\u001b[43mdiffeqsolve\u001b[49m\u001b[43m(\u001b[49m\n\u001b[1;32m     39\u001b[0m \u001b[43m    \u001b[49m\u001b[43mterm\u001b[49m\u001b[43m,\u001b[49m\n\u001b[1;32m     40\u001b[0m \u001b[43m    \u001b[49m\u001b[43msolver\u001b[49m\u001b[43m,\u001b[49m\n\u001b[1;32m     41\u001b[0m \u001b[43m    \u001b[49m\u001b[43mt0\u001b[49m\u001b[43m,\u001b[49m\n\u001b[1;32m     42\u001b[0m \u001b[43m    \u001b[49m\u001b[43mtmax\u001b[49m\u001b[43m,\u001b[49m\n\u001b[1;32m     43\u001b[0m \u001b[43m    \u001b[49m\u001b[43mdt\u001b[49m\u001b[43m,\u001b[49m\n\u001b[1;32m     44\u001b[0m \u001b[43m    \u001b[49m\u001b[43mu_init\u001b[49m\u001b[43m,\u001b[49m\n\u001b[1;32m     45\u001b[0m \u001b[43m    \u001b[49m\u001b[43msaveat\u001b[49m\u001b[38;5;241;43m=\u001b[39;49m\u001b[43msaveat\u001b[49m\u001b[43m,\u001b[49m\n\u001b[1;32m     46\u001b[0m \u001b[43m    \u001b[49m\u001b[43mmax_steps\u001b[49m\u001b[38;5;241;43m=\u001b[39;49m\u001b[38;5;28;43;01mNone\u001b[39;49;00m\u001b[43m,\u001b[49m\n\u001b[1;32m     47\u001b[0m \u001b[43m)\u001b[49m\n",
      "File \u001b[0;32m~/miniconda3/envs/jax_eo_py310/lib/python3.10/site-packages/equinox/jit.py:70\u001b[0m, in \u001b[0;36m_JitWrapper.__call__\u001b[0;34m(self, *args, **kwargs)\u001b[0m\n\u001b[1;32m     68\u001b[0m         \u001b[38;5;28;01mreturn\u001b[39;00m \u001b[38;5;28mself\u001b[39m\u001b[38;5;241m.\u001b[39m_fun_wrapper(\u001b[38;5;28;01mFalse\u001b[39;00m, args, kwargs)\n\u001b[1;32m     69\u001b[0m \u001b[38;5;28;01melse\u001b[39;00m:\n\u001b[0;32m---> 70\u001b[0m     \u001b[38;5;28;01mreturn\u001b[39;00m \u001b[38;5;28;43mself\u001b[39;49m\u001b[38;5;241;43m.\u001b[39;49m\u001b[43m_fun_wrapper\u001b[49m\u001b[43m(\u001b[49m\u001b[38;5;28;43;01mFalse\u001b[39;49;00m\u001b[43m,\u001b[49m\u001b[43m \u001b[49m\u001b[43margs\u001b[49m\u001b[43m,\u001b[49m\u001b[43m \u001b[49m\u001b[43mkwargs\u001b[49m\u001b[43m)\u001b[49m\n",
      "File \u001b[0;32m~/miniconda3/envs/jax_eo_py310/lib/python3.10/site-packages/equinox/jit.py:59\u001b[0m, in \u001b[0;36m_JitWrapper._fun_wrapper\u001b[0;34m(self, is_lower, args, kwargs)\u001b[0m\n\u001b[1;32m     57\u001b[0m     \u001b[38;5;28;01mreturn\u001b[39;00m \u001b[38;5;28mself\u001b[39m\u001b[38;5;241m.\u001b[39m_cached\u001b[38;5;241m.\u001b[39mlower(dynamic, static)\n\u001b[1;32m     58\u001b[0m \u001b[38;5;28;01melse\u001b[39;00m:\n\u001b[0;32m---> 59\u001b[0m     dynamic_out, static_out \u001b[38;5;241m=\u001b[39m \u001b[38;5;28;43mself\u001b[39;49m\u001b[38;5;241;43m.\u001b[39;49m\u001b[43m_cached\u001b[49m\u001b[43m(\u001b[49m\u001b[43mdynamic\u001b[49m\u001b[43m,\u001b[49m\u001b[43m \u001b[49m\u001b[43mstatic\u001b[49m\u001b[43m)\u001b[49m\n\u001b[1;32m     60\u001b[0m     \u001b[38;5;28;01mreturn\u001b[39;00m combine(dynamic_out, static_out\u001b[38;5;241m.\u001b[39mvalue)\n",
      "    \u001b[0;31m[... skipping hidden 11 frame]\u001b[0m\n",
      "File \u001b[0;32m~/miniconda3/envs/jax_eo_py310/lib/python3.10/site-packages/equinox/jit.py:30\u001b[0m, in \u001b[0;36m_filter_jit_cache.<locals>.fun_wrapped\u001b[0;34m(dynamic, static)\u001b[0m\n\u001b[1;32m     28\u001b[0m fun \u001b[38;5;241m=\u001b[39m hashable_combine(dynamic_fun, static_fun)\n\u001b[1;32m     29\u001b[0m args, kwargs \u001b[38;5;241m=\u001b[39m hashable_combine(dynamic_spec, static_spec)\n\u001b[0;32m---> 30\u001b[0m out \u001b[38;5;241m=\u001b[39m \u001b[43mfun\u001b[49m\u001b[43m(\u001b[49m\u001b[38;5;241;43m*\u001b[39;49m\u001b[43margs\u001b[49m\u001b[43m,\u001b[49m\u001b[43m \u001b[49m\u001b[38;5;241;43m*\u001b[39;49m\u001b[38;5;241;43m*\u001b[39;49m\u001b[43mkwargs\u001b[49m\u001b[43m)\u001b[49m\n\u001b[1;32m     31\u001b[0m dynamic_out, static_out \u001b[38;5;241m=\u001b[39m partition(out, is_array)\n\u001b[1;32m     32\u001b[0m \u001b[38;5;28;01mreturn\u001b[39;00m dynamic_out, Static(static_out)\n",
      "File \u001b[0;32m~/miniconda3/envs/jax_eo_py310/lib/python3.10/site-packages/diffrax/integrate.py:752\u001b[0m, in \u001b[0;36mdiffeqsolve\u001b[0;34m(terms, solver, t0, t1, dt0, y0, args, saveat, stepsize_controller, adjoint, discrete_terminating_event, max_steps, throw, solver_state, controller_state, made_jump)\u001b[0m\n\u001b[1;32m    731\u001b[0m init_state \u001b[38;5;241m=\u001b[39m State(\n\u001b[1;32m    732\u001b[0m     y\u001b[38;5;241m=\u001b[39my0,\n\u001b[1;32m    733\u001b[0m     tprev\u001b[38;5;241m=\u001b[39mtprev,\n\u001b[0;32m   (...)\u001b[0m\n\u001b[1;32m    745\u001b[0m     dense_save_index\u001b[38;5;241m=\u001b[39mdense_save_index,\n\u001b[1;32m    746\u001b[0m )\n\u001b[1;32m    748\u001b[0m \u001b[38;5;66;03m#\u001b[39;00m\n\u001b[1;32m    749\u001b[0m \u001b[38;5;66;03m# Main loop\u001b[39;00m\n\u001b[1;32m    750\u001b[0m \u001b[38;5;66;03m#\u001b[39;00m\n\u001b[0;32m--> 752\u001b[0m final_state, aux_stats \u001b[38;5;241m=\u001b[39m \u001b[43madjoint\u001b[49m\u001b[38;5;241;43m.\u001b[39;49m\u001b[43mloop\u001b[49m\u001b[43m(\u001b[49m\n\u001b[1;32m    753\u001b[0m \u001b[43m    \u001b[49m\u001b[43margs\u001b[49m\u001b[38;5;241;43m=\u001b[39;49m\u001b[43margs\u001b[49m\u001b[43m,\u001b[49m\n\u001b[1;32m    754\u001b[0m \u001b[43m    \u001b[49m\u001b[43mterms\u001b[49m\u001b[38;5;241;43m=\u001b[39;49m\u001b[43mterms\u001b[49m\u001b[43m,\u001b[49m\n\u001b[1;32m    755\u001b[0m \u001b[43m    \u001b[49m\u001b[43msolver\u001b[49m\u001b[38;5;241;43m=\u001b[39;49m\u001b[43msolver\u001b[49m\u001b[43m,\u001b[49m\n\u001b[1;32m    756\u001b[0m \u001b[43m    \u001b[49m\u001b[43mstepsize_controller\u001b[49m\u001b[38;5;241;43m=\u001b[39;49m\u001b[43mstepsize_controller\u001b[49m\u001b[43m,\u001b[49m\n\u001b[1;32m    757\u001b[0m \u001b[43m    \u001b[49m\u001b[43mdiscrete_terminating_event\u001b[49m\u001b[38;5;241;43m=\u001b[39;49m\u001b[43mdiscrete_terminating_event\u001b[49m\u001b[43m,\u001b[49m\n\u001b[1;32m    758\u001b[0m \u001b[43m    \u001b[49m\u001b[43msaveat\u001b[49m\u001b[38;5;241;43m=\u001b[39;49m\u001b[43msaveat\u001b[49m\u001b[43m,\u001b[49m\n\u001b[1;32m    759\u001b[0m \u001b[43m    \u001b[49m\u001b[43mt0\u001b[49m\u001b[38;5;241;43m=\u001b[39;49m\u001b[43mt0\u001b[49m\u001b[43m,\u001b[49m\n\u001b[1;32m    760\u001b[0m \u001b[43m    \u001b[49m\u001b[43mt1\u001b[49m\u001b[38;5;241;43m=\u001b[39;49m\u001b[43mt1\u001b[49m\u001b[43m,\u001b[49m\n\u001b[1;32m    761\u001b[0m \u001b[43m    \u001b[49m\u001b[43mdt0\u001b[49m\u001b[38;5;241;43m=\u001b[39;49m\u001b[43mdt0\u001b[49m\u001b[43m,\u001b[49m\n\u001b[1;32m    762\u001b[0m \u001b[43m    \u001b[49m\u001b[43mmax_steps\u001b[49m\u001b[38;5;241;43m=\u001b[39;49m\u001b[43mmax_steps\u001b[49m\u001b[43m,\u001b[49m\n\u001b[1;32m    763\u001b[0m \u001b[43m    \u001b[49m\u001b[43minit_state\u001b[49m\u001b[38;5;241;43m=\u001b[39;49m\u001b[43minit_state\u001b[49m\u001b[43m,\u001b[49m\n\u001b[1;32m    764\u001b[0m \u001b[43m    \u001b[49m\u001b[43mthrow\u001b[49m\u001b[38;5;241;43m=\u001b[39;49m\u001b[43mthrow\u001b[49m\u001b[43m,\u001b[49m\n\u001b[1;32m    765\u001b[0m \u001b[43m    \u001b[49m\u001b[43mpassed_solver_state\u001b[49m\u001b[38;5;241;43m=\u001b[39;49m\u001b[43mpassed_solver_state\u001b[49m\u001b[43m,\u001b[49m\n\u001b[1;32m    766\u001b[0m \u001b[43m    \u001b[49m\u001b[43mpassed_controller_state\u001b[49m\u001b[38;5;241;43m=\u001b[39;49m\u001b[43mpassed_controller_state\u001b[49m\u001b[43m,\u001b[49m\n\u001b[1;32m    767\u001b[0m \u001b[43m\u001b[49m\u001b[43m)\u001b[49m\n\u001b[1;32m    769\u001b[0m \u001b[38;5;66;03m#\u001b[39;00m\n\u001b[1;32m    770\u001b[0m \u001b[38;5;66;03m# Finish up\u001b[39;00m\n\u001b[1;32m    771\u001b[0m \u001b[38;5;66;03m#\u001b[39;00m\n\u001b[1;32m    773\u001b[0m is_save_state \u001b[38;5;241m=\u001b[39m \u001b[38;5;28;01mlambda\u001b[39;00m x: \u001b[38;5;28misinstance\u001b[39m(x, SaveState)\n",
      "File \u001b[0;32m~/miniconda3/envs/jax_eo_py310/lib/python3.10/site-packages/diffrax/adjoint.py:286\u001b[0m, in \u001b[0;36mRecursiveCheckpointAdjoint.loop\u001b[0;34m(***failed resolving arguments***)\u001b[0m\n\u001b[1;32m    282\u001b[0m     outer_while_loop \u001b[38;5;241m=\u001b[39m ft\u001b[38;5;241m.\u001b[39mpartial(\n\u001b[1;32m    283\u001b[0m         _outer_loop, kind\u001b[38;5;241m=\u001b[39m\u001b[38;5;124m\"\u001b[39m\u001b[38;5;124mcheckpointed\u001b[39m\u001b[38;5;124m\"\u001b[39m, checkpoints\u001b[38;5;241m=\u001b[39m\u001b[38;5;28mself\u001b[39m\u001b[38;5;241m.\u001b[39mcheckpoints\n\u001b[1;32m    284\u001b[0m     )\n\u001b[1;32m    285\u001b[0m     msg \u001b[38;5;241m=\u001b[39m \u001b[38;5;28;01mNone\u001b[39;00m\n\u001b[0;32m--> 286\u001b[0m final_state \u001b[38;5;241m=\u001b[39m \u001b[38;5;28;43mself\u001b[39;49m\u001b[38;5;241;43m.\u001b[39;49m\u001b[43m_loop\u001b[49m\u001b[43m(\u001b[49m\n\u001b[1;32m    287\u001b[0m \u001b[43m    \u001b[49m\u001b[43mterms\u001b[49m\u001b[38;5;241;43m=\u001b[39;49m\u001b[43mterms\u001b[49m\u001b[43m,\u001b[49m\n\u001b[1;32m    288\u001b[0m \u001b[43m    \u001b[49m\u001b[43msaveat\u001b[49m\u001b[38;5;241;43m=\u001b[39;49m\u001b[43msaveat\u001b[49m\u001b[43m,\u001b[49m\n\u001b[1;32m    289\u001b[0m \u001b[43m    \u001b[49m\u001b[43minit_state\u001b[49m\u001b[38;5;241;43m=\u001b[39;49m\u001b[43minit_state\u001b[49m\u001b[43m,\u001b[49m\n\u001b[1;32m    290\u001b[0m \u001b[43m    \u001b[49m\u001b[43mmax_steps\u001b[49m\u001b[38;5;241;43m=\u001b[39;49m\u001b[43mmax_steps\u001b[49m\u001b[43m,\u001b[49m\n\u001b[1;32m    291\u001b[0m \u001b[43m    \u001b[49m\u001b[43minner_while_loop\u001b[49m\u001b[38;5;241;43m=\u001b[39;49m\u001b[43minner_while_loop\u001b[49m\u001b[43m,\u001b[49m\n\u001b[1;32m    292\u001b[0m \u001b[43m    \u001b[49m\u001b[43mouter_while_loop\u001b[49m\u001b[38;5;241;43m=\u001b[39;49m\u001b[43mouter_while_loop\u001b[49m\u001b[43m,\u001b[49m\n\u001b[1;32m    293\u001b[0m \u001b[43m    \u001b[49m\u001b[38;5;241;43m*\u001b[39;49m\u001b[38;5;241;43m*\u001b[39;49m\u001b[43mkwargs\u001b[49m\u001b[43m,\u001b[49m\n\u001b[1;32m    294\u001b[0m \u001b[43m\u001b[49m\u001b[43m)\u001b[49m\n\u001b[1;32m    295\u001b[0m \u001b[38;5;28;01mif\u001b[39;00m msg \u001b[38;5;129;01mis\u001b[39;00m \u001b[38;5;129;01mnot\u001b[39;00m \u001b[38;5;28;01mNone\u001b[39;00m:\n\u001b[1;32m    296\u001b[0m     final_state \u001b[38;5;241m=\u001b[39m eqxi\u001b[38;5;241m.\u001b[39mnondifferentiable_backward(\n\u001b[1;32m    297\u001b[0m         final_state, msg\u001b[38;5;241m=\u001b[39mmsg, symbolic\u001b[38;5;241m=\u001b[39m\u001b[38;5;28;01mTrue\u001b[39;00m\n\u001b[1;32m    298\u001b[0m     )\n",
      "File \u001b[0;32m~/miniconda3/envs/jax_eo_py310/lib/python3.10/site-packages/diffrax/integrate.py:371\u001b[0m, in \u001b[0;36mloop\u001b[0;34m(solver, stepsize_controller, discrete_terminating_event, saveat, t0, t1, dt0, max_steps, terms, args, init_state, inner_while_loop, outer_while_loop)\u001b[0m\n\u001b[1;32m    367\u001b[0m         new_state \u001b[38;5;241m=\u001b[39m eqx\u001b[38;5;241m.\u001b[39mtree_at(\u001b[38;5;28;01mlambda\u001b[39;00m s: s\u001b[38;5;241m.\u001b[39mresult, new_state, result)\n\u001b[1;32m    369\u001b[0m     \u001b[38;5;28;01mreturn\u001b[39;00m new_state\n\u001b[0;32m--> 371\u001b[0m final_state \u001b[38;5;241m=\u001b[39m \u001b[43mouter_while_loop\u001b[49m\u001b[43m(\u001b[49m\n\u001b[1;32m    372\u001b[0m \u001b[43m    \u001b[49m\u001b[43mcond_fun\u001b[49m\u001b[43m,\u001b[49m\u001b[43m \u001b[49m\u001b[43mbody_fun\u001b[49m\u001b[43m,\u001b[49m\u001b[43m \u001b[49m\u001b[43minit_state\u001b[49m\u001b[43m,\u001b[49m\u001b[43m \u001b[49m\u001b[43mmax_steps\u001b[49m\u001b[38;5;241;43m=\u001b[39;49m\u001b[43mmax_steps\u001b[49m\u001b[43m,\u001b[49m\u001b[43m \u001b[49m\u001b[43mbuffers\u001b[49m\u001b[38;5;241;43m=\u001b[39;49m\u001b[43m_outer_buffers\u001b[49m\n\u001b[1;32m    373\u001b[0m \u001b[43m\u001b[49m\u001b[43m)\u001b[49m\n\u001b[1;32m    375\u001b[0m \u001b[38;5;28;01mdef\u001b[39;00m \u001b[38;5;21m_save_t1\u001b[39m(subsaveat, save_state):\n\u001b[1;32m    376\u001b[0m     \u001b[38;5;28;01mif\u001b[39;00m subsaveat\u001b[38;5;241m.\u001b[39mt1 \u001b[38;5;129;01mand\u001b[39;00m \u001b[38;5;129;01mnot\u001b[39;00m subsaveat\u001b[38;5;241m.\u001b[39msteps:\n\u001b[1;32m    377\u001b[0m         \u001b[38;5;66;03m# If subsaveat.steps then the final value is already saved.\u001b[39;00m\n\u001b[1;32m    378\u001b[0m         \u001b[38;5;66;03m#\u001b[39;00m\n\u001b[1;32m    379\u001b[0m         \u001b[38;5;66;03m# Use `tprev` instead of `t1` in case of an event terminating the solve\u001b[39;00m\n\u001b[1;32m    380\u001b[0m         \u001b[38;5;66;03m# early. (And absent such an event then `tprev == t1`.)\u001b[39;00m\n",
      "File \u001b[0;32m~/miniconda3/envs/jax_eo_py310/lib/python3.10/contextlib.py:79\u001b[0m, in \u001b[0;36mContextDecorator.__call__.<locals>.inner\u001b[0;34m(*args, **kwds)\u001b[0m\n\u001b[1;32m     76\u001b[0m \u001b[38;5;129m@wraps\u001b[39m(func)\n\u001b[1;32m     77\u001b[0m \u001b[38;5;28;01mdef\u001b[39;00m \u001b[38;5;21minner\u001b[39m(\u001b[38;5;241m*\u001b[39margs, \u001b[38;5;241m*\u001b[39m\u001b[38;5;241m*\u001b[39mkwds):\n\u001b[1;32m     78\u001b[0m     \u001b[38;5;28;01mwith\u001b[39;00m \u001b[38;5;28mself\u001b[39m\u001b[38;5;241m.\u001b[39m_recreate_cm():\n\u001b[0;32m---> 79\u001b[0m         \u001b[38;5;28;01mreturn\u001b[39;00m \u001b[43mfunc\u001b[49m\u001b[43m(\u001b[49m\u001b[38;5;241;43m*\u001b[39;49m\u001b[43margs\u001b[49m\u001b[43m,\u001b[49m\u001b[43m \u001b[49m\u001b[38;5;241;43m*\u001b[39;49m\u001b[38;5;241;43m*\u001b[39;49m\u001b[43mkwds\u001b[49m\u001b[43m)\u001b[49m\n",
      "File \u001b[0;32m~/miniconda3/envs/jax_eo_py310/lib/python3.10/site-packages/equinox/internal/while_loop/while_loop.py:81\u001b[0m, in \u001b[0;36mwhile_loop\u001b[0;34m(***failed resolving arguments***)\u001b[0m\n\u001b[1;32m     77\u001b[0m     \u001b[38;5;28;01mdel\u001b[39;00m kind, checkpoints, base\n\u001b[1;32m     78\u001b[0m     cond_fun, body_fun, init_val, _ \u001b[38;5;241m=\u001b[39m common_rewrite(\n\u001b[1;32m     79\u001b[0m         cond_fun, body_fun, init_val, max_steps, buffers, readable\u001b[38;5;241m=\u001b[39m\u001b[38;5;28;01mTrue\u001b[39;00m\n\u001b[1;32m     80\u001b[0m     )\n\u001b[0;32m---> 81\u001b[0m     _, _, final_val \u001b[38;5;241m=\u001b[39m \u001b[43mlax\u001b[49m\u001b[38;5;241;43m.\u001b[39;49m\u001b[43mwhile_loop\u001b[49m\u001b[43m(\u001b[49m\u001b[43mcond_fun\u001b[49m\u001b[43m,\u001b[49m\u001b[43m \u001b[49m\u001b[43mbody_fun\u001b[49m\u001b[43m,\u001b[49m\u001b[43m \u001b[49m\u001b[43minit_val\u001b[49m\u001b[43m)\u001b[49m\n\u001b[1;32m     82\u001b[0m     \u001b[38;5;28;01mreturn\u001b[39;00m final_val\n\u001b[1;32m     83\u001b[0m \u001b[38;5;28;01melif\u001b[39;00m kind \u001b[38;5;241m==\u001b[39m \u001b[38;5;124m\"\u001b[39m\u001b[38;5;124mcheckpointed\u001b[39m\u001b[38;5;124m\"\u001b[39m:\n",
      "    \u001b[0;31m[... skipping hidden 9 frame]\u001b[0m\n",
      "File \u001b[0;32m~/miniconda3/envs/jax_eo_py310/lib/python3.10/site-packages/equinox/internal/while_loop/common.py:146\u001b[0m, in \u001b[0;36mcommon_rewrite.<locals>.new_body_fun\u001b[0;34m(val)\u001b[0m\n\u001b[1;32m    142\u001b[0m step, pred, val \u001b[38;5;241m=\u001b[39m val\n\u001b[1;32m    143\u001b[0m _, _, buffer_val \u001b[38;5;241m=\u001b[39m tree_at(\n\u001b[1;32m    144\u001b[0m     new_buffers(\u001b[38;5;28;01mNone\u001b[39;00m), (\u001b[38;5;28;01mNone\u001b[39;00m, \u001b[38;5;28;01mNone\u001b[39;00m, val), replace_fn\u001b[38;5;241m=\u001b[39mwrap_buffer\n\u001b[1;32m    145\u001b[0m )\n\u001b[0;32m--> 146\u001b[0m buffer_val2 \u001b[38;5;241m=\u001b[39m \u001b[43mbody_fun\u001b[49m\u001b[43m(\u001b[49m\u001b[43mbuffer_val\u001b[49m\u001b[43m)\u001b[49m\n\u001b[1;32m    147\u001b[0m \u001b[38;5;28;01mif\u001b[39;00m \u001b[38;5;129;01mnot\u001b[39;00m tree_equal(\n\u001b[1;32m    148\u001b[0m     jax\u001b[38;5;241m.\u001b[39meval_shape(\u001b[38;5;28;01mlambda\u001b[39;00m: buffer_val), jax\u001b[38;5;241m.\u001b[39meval_shape(\u001b[38;5;28;01mlambda\u001b[39;00m: buffer_val2)\n\u001b[1;32m    149\u001b[0m ):\n\u001b[1;32m    150\u001b[0m     \u001b[38;5;28;01mraise\u001b[39;00m \u001b[38;5;167;01mValueError\u001b[39;00m(\u001b[38;5;124m\"\u001b[39m\u001b[38;5;124m`body_fun` must have the same input and output structure\u001b[39m\u001b[38;5;124m\"\u001b[39m)\n",
      "File \u001b[0;32m~/miniconda3/envs/jax_eo_py310/lib/python3.10/site-packages/diffrax/integrate.py:167\u001b[0m, in \u001b[0;36mloop.<locals>.body_fun\u001b[0;34m(state)\u001b[0m\n\u001b[1;32m    160\u001b[0m \u001b[38;5;28;01mdef\u001b[39;00m \u001b[38;5;21mbody_fun\u001b[39m(state):\n\u001b[1;32m    161\u001b[0m \n\u001b[1;32m    162\u001b[0m     \u001b[38;5;66;03m#\u001b[39;00m\n\u001b[1;32m    163\u001b[0m     \u001b[38;5;66;03m# Actually do some differential equation solving! Make numerical steps, adapt\u001b[39;00m\n\u001b[1;32m    164\u001b[0m     \u001b[38;5;66;03m# step sizes, all that jazz.\u001b[39;00m\n\u001b[1;32m    165\u001b[0m     \u001b[38;5;66;03m#\u001b[39;00m\n\u001b[0;32m--> 167\u001b[0m     (y, y_error, dense_info, solver_state, solver_result) \u001b[38;5;241m=\u001b[39m \u001b[43msolver\u001b[49m\u001b[38;5;241;43m.\u001b[39;49m\u001b[43mstep\u001b[49m\u001b[43m(\u001b[49m\n\u001b[1;32m    168\u001b[0m \u001b[43m        \u001b[49m\u001b[43mterms\u001b[49m\u001b[43m,\u001b[49m\n\u001b[1;32m    169\u001b[0m \u001b[43m        \u001b[49m\u001b[43mstate\u001b[49m\u001b[38;5;241;43m.\u001b[39;49m\u001b[43mtprev\u001b[49m\u001b[43m,\u001b[49m\n\u001b[1;32m    170\u001b[0m \u001b[43m        \u001b[49m\u001b[43mstate\u001b[49m\u001b[38;5;241;43m.\u001b[39;49m\u001b[43mtnext\u001b[49m\u001b[43m,\u001b[49m\n\u001b[1;32m    171\u001b[0m \u001b[43m        \u001b[49m\u001b[43mstate\u001b[49m\u001b[38;5;241;43m.\u001b[39;49m\u001b[43my\u001b[49m\u001b[43m,\u001b[49m\n\u001b[1;32m    172\u001b[0m \u001b[43m        \u001b[49m\u001b[43margs\u001b[49m\u001b[43m,\u001b[49m\n\u001b[1;32m    173\u001b[0m \u001b[43m        \u001b[49m\u001b[43mstate\u001b[49m\u001b[38;5;241;43m.\u001b[39;49m\u001b[43msolver_state\u001b[49m\u001b[43m,\u001b[49m\n\u001b[1;32m    174\u001b[0m \u001b[43m        \u001b[49m\u001b[38;5;28;43;01mFalse\u001b[39;49;00m\u001b[43m \u001b[49m\u001b[38;5;28;43;01mif\u001b[39;49;00m\u001b[43m \u001b[49m\u001b[43mcannot_make_jump\u001b[49m\u001b[43m \u001b[49m\u001b[38;5;28;43;01melse\u001b[39;49;00m\u001b[43m \u001b[49m\u001b[43mstate\u001b[49m\u001b[38;5;241;43m.\u001b[39;49m\u001b[43mmade_jump\u001b[49m\u001b[43m,\u001b[49m\n\u001b[1;32m    175\u001b[0m \u001b[43m    \u001b[49m\u001b[43m)\u001b[49m\n\u001b[1;32m    177\u001b[0m     \u001b[38;5;66;03m# e.g. if someone has a sqrt(y) in the vector field, and dt0 is so large that\u001b[39;00m\n\u001b[1;32m    178\u001b[0m     \u001b[38;5;66;03m# we get a negative value for y, and then get a NaN vector field. (And then\u001b[39;00m\n\u001b[1;32m    179\u001b[0m     \u001b[38;5;66;03m# everything breaks.) See #143.\u001b[39;00m\n\u001b[1;32m    180\u001b[0m     y_error \u001b[38;5;241m=\u001b[39m jtu\u001b[38;5;241m.\u001b[39mtree_map(\u001b[38;5;28;01mlambda\u001b[39;00m x: jnp\u001b[38;5;241m.\u001b[39mwhere(jnp\u001b[38;5;241m.\u001b[39misnan(x), jnp\u001b[38;5;241m.\u001b[39minf, x), y_error)\n",
      "File \u001b[0;32m~/miniconda3/envs/jax_eo_py310/lib/python3.10/site-packages/diffrax/solver/euler.py:45\u001b[0m, in \u001b[0;36mEuler.step\u001b[0;34m(***failed resolving arguments***)\u001b[0m\n\u001b[1;32m     43\u001b[0m \u001b[38;5;28;01mdel\u001b[39;00m solver_state, made_jump\n\u001b[1;32m     44\u001b[0m control \u001b[38;5;241m=\u001b[39m terms\u001b[38;5;241m.\u001b[39mcontr(t0, t1)\n\u001b[0;32m---> 45\u001b[0m y1 \u001b[38;5;241m=\u001b[39m (y0\u001b[38;5;241m*\u001b[39m\u001b[38;5;241m*\u001b[39mω \u001b[38;5;241m+\u001b[39m \u001b[43mterms\u001b[49m\u001b[38;5;241;43m.\u001b[39;49m\u001b[43mvf_prod\u001b[49m\u001b[43m(\u001b[49m\u001b[43mt0\u001b[49m\u001b[43m,\u001b[49m\u001b[43m \u001b[49m\u001b[43my0\u001b[49m\u001b[43m,\u001b[49m\u001b[43m \u001b[49m\u001b[43margs\u001b[49m\u001b[43m,\u001b[49m\u001b[43m \u001b[49m\u001b[43mcontrol\u001b[49m\u001b[43m)\u001b[49m \u001b[38;5;241m*\u001b[39m\u001b[38;5;241m*\u001b[39m ω)\u001b[38;5;241m.\u001b[39mω\n\u001b[1;32m     46\u001b[0m dense_info \u001b[38;5;241m=\u001b[39m \u001b[38;5;28mdict\u001b[39m(y0\u001b[38;5;241m=\u001b[39my0, y1\u001b[38;5;241m=\u001b[39my1)\n\u001b[1;32m     47\u001b[0m \u001b[38;5;28;01mreturn\u001b[39;00m y1, \u001b[38;5;28;01mNone\u001b[39;00m, dense_info, \u001b[38;5;28;01mNone\u001b[39;00m, RESULTS\u001b[38;5;241m.\u001b[39msuccessful\n",
      "File \u001b[0;32m~/miniconda3/envs/jax_eo_py310/lib/python3.10/site-packages/diffrax/term.py:138\u001b[0m, in \u001b[0;36mAbstractTerm.vf_prod\u001b[0;34m(self, t, y, args, control)\u001b[0m\n\u001b[1;32m     94\u001b[0m \u001b[38;5;28;01mdef\u001b[39;00m \u001b[38;5;21mvf_prod\u001b[39m(\u001b[38;5;28mself\u001b[39m, t: Scalar, y: PyTree, args: PyTree, control: PyTree) \u001b[38;5;241m-\u001b[39m\u001b[38;5;241m>\u001b[39m PyTree:\n\u001b[1;32m     95\u001b[0m \u001b[38;5;250m    \u001b[39m\u001b[38;5;124mr\u001b[39m\u001b[38;5;124;03m\"\"\"The composition of [`diffrax.AbstractTerm.vf`][] and\u001b[39;00m\n\u001b[1;32m     96\u001b[0m \u001b[38;5;124;03m    [`diffrax.AbstractTerm.prod`][].\u001b[39;00m\n\u001b[1;32m     97\u001b[0m \n\u001b[0;32m   (...)\u001b[0m\n\u001b[1;32m    136\u001b[0m \u001b[38;5;124;03m        This function must be linear in `control`.\u001b[39;00m\n\u001b[1;32m    137\u001b[0m \u001b[38;5;124;03m    \"\"\"\u001b[39;00m\n\u001b[0;32m--> 138\u001b[0m     \u001b[38;5;28;01mreturn\u001b[39;00m \u001b[38;5;28mself\u001b[39m\u001b[38;5;241m.\u001b[39mprod(\u001b[38;5;28;43mself\u001b[39;49m\u001b[38;5;241;43m.\u001b[39;49m\u001b[43mvf\u001b[49m\u001b[43m(\u001b[49m\u001b[43mt\u001b[49m\u001b[43m,\u001b[49m\u001b[43m \u001b[49m\u001b[43my\u001b[49m\u001b[43m,\u001b[49m\u001b[43m \u001b[49m\u001b[43margs\u001b[49m\u001b[43m)\u001b[49m, control)\n",
      "File \u001b[0;32m~/miniconda3/envs/jax_eo_py310/lib/python3.10/site-packages/diffrax/term.py:364\u001b[0m, in \u001b[0;36mWrapTerm.vf\u001b[0;34m(self, t, y, args)\u001b[0m\n\u001b[1;32m    362\u001b[0m \u001b[38;5;28;01mdef\u001b[39;00m \u001b[38;5;21mvf\u001b[39m(\u001b[38;5;28mself\u001b[39m, t: Scalar, y: PyTree, args: PyTree) \u001b[38;5;241m-\u001b[39m\u001b[38;5;241m>\u001b[39m PyTree:\n\u001b[1;32m    363\u001b[0m     t \u001b[38;5;241m=\u001b[39m t \u001b[38;5;241m*\u001b[39m \u001b[38;5;28mself\u001b[39m\u001b[38;5;241m.\u001b[39mdirection\n\u001b[0;32m--> 364\u001b[0m     \u001b[38;5;28;01mreturn\u001b[39;00m \u001b[38;5;28;43mself\u001b[39;49m\u001b[38;5;241;43m.\u001b[39;49m\u001b[43mterm\u001b[49m\u001b[38;5;241;43m.\u001b[39;49m\u001b[43mvf\u001b[49m\u001b[43m(\u001b[49m\u001b[43mt\u001b[49m\u001b[43m,\u001b[49m\u001b[43m \u001b[49m\u001b[43my\u001b[49m\u001b[43m,\u001b[49m\u001b[43m \u001b[49m\u001b[43margs\u001b[49m\u001b[43m)\u001b[49m\n",
      "File \u001b[0;32m~/miniconda3/envs/jax_eo_py310/lib/python3.10/site-packages/diffrax/term.py:173\u001b[0m, in \u001b[0;36mODETerm.vf\u001b[0;34m(self, t, y, args)\u001b[0m\n\u001b[1;32m    172\u001b[0m \u001b[38;5;28;01mdef\u001b[39;00m \u001b[38;5;21mvf\u001b[39m(\u001b[38;5;28mself\u001b[39m, t: Scalar, y: PyTree, args: PyTree) \u001b[38;5;241m-\u001b[39m\u001b[38;5;241m>\u001b[39m PyTree:\n\u001b[0;32m--> 173\u001b[0m     \u001b[38;5;28;01mreturn\u001b[39;00m \u001b[38;5;28;43mself\u001b[39;49m\u001b[38;5;241;43m.\u001b[39;49m\u001b[43mvector_field\u001b[49m\u001b[43m(\u001b[49m\u001b[43mt\u001b[49m\u001b[43m,\u001b[49m\u001b[43m \u001b[49m\u001b[43my\u001b[49m\u001b[43m,\u001b[49m\u001b[43m \u001b[49m\u001b[43margs\u001b[49m\u001b[43m)\u001b[49m\n",
      "Cell \u001b[0;32mIn[112], line 9\u001b[0m, in \u001b[0;36mvector_field\u001b[0;34m(t, u, args)\u001b[0m\n\u001b[1;32m      6\u001b[0m u \u001b[38;5;241m=\u001b[39m bc_fn(u)\n\u001b[1;32m      8\u001b[0m \u001b[38;5;66;03m# calculate RHS\u001b[39;00m\n\u001b[0;32m----> 9\u001b[0m rhs \u001b[38;5;241m=\u001b[39m \u001b[43mrhs_fn\u001b[49m\u001b[43m(\u001b[49m\u001b[43mu\u001b[49m\u001b[43m,\u001b[49m\u001b[43m \u001b[49m\u001b[43mdx\u001b[49m\u001b[43m,\u001b[49m\u001b[43m \u001b[49m\u001b[43mc\u001b[49m\u001b[43m)\u001b[49m\n\u001b[1;32m     11\u001b[0m \u001b[38;5;66;03m# apply bcs\u001b[39;00m\n\u001b[1;32m     12\u001b[0m \u001b[38;5;66;03m# rhs = bc_fn(rhs)\u001b[39;00m\n\u001b[1;32m     14\u001b[0m \u001b[38;5;28;01mreturn\u001b[39;00m rhs\n",
      "Cell \u001b[0;32mIn[103], line 11\u001b[0m, in \u001b[0;36mrhs_fn\u001b[0;34m(u, dx, c)\u001b[0m\n\u001b[1;32m      3\u001b[0m \u001b[38;5;250m    \u001b[39m\u001b[38;5;124;03m\"\"\"RHS for 1D Advection. \u001b[39;00m\n\u001b[1;32m      4\u001b[0m \u001b[38;5;124;03m    Uses a Backwards FD scheme\u001b[39;00m\n\u001b[1;32m      5\u001b[0m \u001b[38;5;124;03m    \"\"\"\u001b[39;00m\n\u001b[1;32m      6\u001b[0m \u001b[38;5;66;03m#     # removes artefact from stencil operation\u001b[39;00m\n\u001b[1;32m      7\u001b[0m \u001b[38;5;66;03m#     u = jnp.pad(u, pad_width=((1,0)), mode=\"edge\")\u001b[39;00m\n\u001b[1;32m      8\u001b[0m     \n\u001b[1;32m      9\u001b[0m \u001b[38;5;66;03m#     # FD\u001b[39;00m\n\u001b[1;32m     10\u001b[0m \u001b[38;5;66;03m#     u = fd_back(u, dx)\u001b[39;00m\n\u001b[0;32m---> 11\u001b[0m     u \u001b[38;5;241m=\u001b[39m \u001b[43mcentral_difference\u001b[49m\u001b[43m(\u001b[49m\u001b[43mu\u001b[49m\u001b[43m,\u001b[49m\u001b[43m \u001b[49m\u001b[43maxis\u001b[49m\u001b[38;5;241;43m=\u001b[39;49m\u001b[38;5;241;43m0\u001b[39;49m\u001b[43m,\u001b[49m\u001b[43m \u001b[49m\u001b[43maccuracy\u001b[49m\u001b[38;5;241;43m=\u001b[39;49m\u001b[38;5;241;43m8\u001b[39;49m\u001b[43m,\u001b[49m\u001b[43m \u001b[49m\u001b[43mstep_size\u001b[49m\u001b[38;5;241;43m=\u001b[39;49m\u001b[43mdx\u001b[49m\u001b[43m,\u001b[49m\u001b[43m \u001b[49m\u001b[43mderivative\u001b[49m\u001b[38;5;241;43m=\u001b[39;49m\u001b[38;5;241;43m1\u001b[39;49m\u001b[43m)\u001b[49m\n\u001b[1;32m     13\u001b[0m     \u001b[38;5;66;03m# constant\u001b[39;00m\n\u001b[1;32m     14\u001b[0m     u \u001b[38;5;241m=\u001b[39m \u001b[38;5;241m-\u001b[39m c \u001b[38;5;241m*\u001b[39m u\n",
      "\u001b[0;31mTypeError\u001b[0m: central_difference() got an unexpected keyword argument 'derivative'"
     ]
    }
   ],
   "source": [
    "import diffrax\n",
    "\n",
    "# SPATIAL DISCRETIZATION\n",
    "xmin = 0.0\n",
    "xmax = 2.0\n",
    "nx = 50\n",
    "dx = xmax / (nx - 1)\n",
    "\n",
    "# spatial grid\n",
    "x_grid = np.linspace(xmin, xmax, nx)\n",
    "\n",
    "# INITIAL CONDITION\n",
    "u_init = init_u_fn(x_grid)\n",
    "\n",
    "# TEMPORAL DISCRETIZATION\n",
    "t0 = 0.0\n",
    "tmax = 0.5\n",
    "\n",
    "# CFL condition\n",
    "def cfl_cond(dx, c, sigma):\n",
    "    assert sigma <= 1.0\n",
    "    return (sigma * dx) / c\n",
    "\n",
    "# temporal parameters\n",
    "c = 1.0\n",
    "sigma = 0.2\n",
    "dt = cfl_cond(dx=dx, c=c, sigma=sigma)\n",
    "\n",
    "\n",
    "\n",
    "# define ODE\n",
    "term = diffrax.ODETerm(vector_field)\n",
    "\n",
    "# TEMPORAL DISCRETIZATION\n",
    "saveat = diffrax.SaveAt(ts=jnp.linspace(t0, tmax, 10))\n",
    "\n",
    "solver = diffrax.Euler()\n",
    "sol = diffrax.diffeqsolve(\n",
    "    term,\n",
    "    solver,\n",
    "    t0,\n",
    "    tmax,\n",
    "    dt,\n",
    "    u_init,\n",
    "    saveat=saveat,\n",
    "    max_steps=None,\n",
    ")\n",
    "\n",
    "\n",
    "\n"
   ]
  },
  {
   "cell_type": "code",
   "execution_count": 114,
   "metadata": {},
   "outputs": [
    {
     "ename": "ValueError",
     "evalue": "x and y must have same first dimension, but have shapes (50,) and (1, 20)",
     "output_type": "error",
     "traceback": [
      "\u001b[0;31m---------------------------------------------------------------------------\u001b[0m",
      "\u001b[0;31mValueError\u001b[0m                                Traceback (most recent call last)",
      "Cell \u001b[0;32mIn[114], line 3\u001b[0m\n\u001b[1;32m      1\u001b[0m fig, ax \u001b[38;5;241m=\u001b[39m plt\u001b[38;5;241m.\u001b[39msubplots()\n\u001b[1;32m      2\u001b[0m ax\u001b[38;5;241m.\u001b[39mplot(x_grid, u_init)\n\u001b[0;32m----> 3\u001b[0m \u001b[43max\u001b[49m\u001b[38;5;241;43m.\u001b[39;49m\u001b[43mplot\u001b[49m\u001b[43m(\u001b[49m\u001b[43mx_grid\u001b[49m\u001b[43m,\u001b[49m\u001b[43m \u001b[49m\u001b[43msol\u001b[49m\u001b[38;5;241;43m.\u001b[39;49m\u001b[43mys\u001b[49m\u001b[38;5;241;43m.\u001b[39;49m\u001b[43mT\u001b[49m\u001b[43m,\u001b[49m\u001b[43m \u001b[49m\u001b[43mcolor\u001b[49m\u001b[38;5;241;43m=\u001b[39;49m\u001b[38;5;124;43m\"\u001b[39;49m\u001b[38;5;124;43mgray\u001b[39;49m\u001b[38;5;124;43m\"\u001b[39;49m\u001b[43m,\u001b[49m\u001b[43m \u001b[49m\u001b[43mlabel\u001b[49m\u001b[38;5;241;43m=\u001b[39;49m\u001b[38;5;124;43m\"\u001b[39;49m\u001b[38;5;124;43mEuler\u001b[39;49m\u001b[38;5;124;43m\"\u001b[39;49m\u001b[43m)\u001b[49m\n\u001b[1;32m      4\u001b[0m ax\u001b[38;5;241m.\u001b[39mset(\n\u001b[1;32m      5\u001b[0m     xlabel\u001b[38;5;241m=\u001b[39m\u001b[38;5;124m\"\u001b[39m\u001b[38;5;124m$x$\u001b[39m\u001b[38;5;124m\"\u001b[39m,\n\u001b[1;32m      6\u001b[0m     ylabel\u001b[38;5;241m=\u001b[39m\u001b[38;5;124m\"\u001b[39m\u001b[38;5;124m$u(x)$\u001b[39m\u001b[38;5;124m\"\u001b[39m,\n\u001b[1;32m      7\u001b[0m )\n\u001b[1;32m      8\u001b[0m plt\u001b[38;5;241m.\u001b[39mtight_layout()\n",
      "File \u001b[0;32m~/miniconda3/envs/jax_eo_py310/lib/python3.10/site-packages/matplotlib/axes/_axes.py:1662\u001b[0m, in \u001b[0;36mAxes.plot\u001b[0;34m(self, scalex, scaley, data, *args, **kwargs)\u001b[0m\n\u001b[1;32m   1419\u001b[0m \u001b[38;5;250m\u001b[39m\u001b[38;5;124;03m\"\"\"\u001b[39;00m\n\u001b[1;32m   1420\u001b[0m \u001b[38;5;124;03mPlot y versus x as lines and/or markers.\u001b[39;00m\n\u001b[1;32m   1421\u001b[0m \n\u001b[0;32m   (...)\u001b[0m\n\u001b[1;32m   1659\u001b[0m \u001b[38;5;124;03m(``'green'``) or hex strings (``'#008000'``).\u001b[39;00m\n\u001b[1;32m   1660\u001b[0m \u001b[38;5;124;03m\"\"\"\u001b[39;00m\n\u001b[1;32m   1661\u001b[0m kwargs \u001b[38;5;241m=\u001b[39m cbook\u001b[38;5;241m.\u001b[39mnormalize_kwargs(kwargs, mlines\u001b[38;5;241m.\u001b[39mLine2D)\n\u001b[0;32m-> 1662\u001b[0m lines \u001b[38;5;241m=\u001b[39m [\u001b[38;5;241m*\u001b[39m\u001b[38;5;28mself\u001b[39m\u001b[38;5;241m.\u001b[39m_get_lines(\u001b[38;5;241m*\u001b[39margs, data\u001b[38;5;241m=\u001b[39mdata, \u001b[38;5;241m*\u001b[39m\u001b[38;5;241m*\u001b[39mkwargs)]\n\u001b[1;32m   1663\u001b[0m \u001b[38;5;28;01mfor\u001b[39;00m line \u001b[38;5;129;01min\u001b[39;00m lines:\n\u001b[1;32m   1664\u001b[0m     \u001b[38;5;28mself\u001b[39m\u001b[38;5;241m.\u001b[39madd_line(line)\n",
      "File \u001b[0;32m~/miniconda3/envs/jax_eo_py310/lib/python3.10/site-packages/matplotlib/axes/_base.py:311\u001b[0m, in \u001b[0;36m_process_plot_var_args.__call__\u001b[0;34m(self, data, *args, **kwargs)\u001b[0m\n\u001b[1;32m    309\u001b[0m     this \u001b[38;5;241m+\u001b[39m\u001b[38;5;241m=\u001b[39m args[\u001b[38;5;241m0\u001b[39m],\n\u001b[1;32m    310\u001b[0m     args \u001b[38;5;241m=\u001b[39m args[\u001b[38;5;241m1\u001b[39m:]\n\u001b[0;32m--> 311\u001b[0m \u001b[38;5;28;01myield from\u001b[39;00m \u001b[38;5;28;43mself\u001b[39;49m\u001b[38;5;241;43m.\u001b[39;49m\u001b[43m_plot_args\u001b[49m\u001b[43m(\u001b[49m\n\u001b[1;32m    312\u001b[0m \u001b[43m    \u001b[49m\u001b[43mthis\u001b[49m\u001b[43m,\u001b[49m\u001b[43m \u001b[49m\u001b[43mkwargs\u001b[49m\u001b[43m,\u001b[49m\u001b[43m \u001b[49m\u001b[43mambiguous_fmt_datakey\u001b[49m\u001b[38;5;241;43m=\u001b[39;49m\u001b[43mambiguous_fmt_datakey\u001b[49m\u001b[43m)\u001b[49m\n",
      "File \u001b[0;32m~/miniconda3/envs/jax_eo_py310/lib/python3.10/site-packages/matplotlib/axes/_base.py:504\u001b[0m, in \u001b[0;36m_process_plot_var_args._plot_args\u001b[0;34m(self, tup, kwargs, return_kwargs, ambiguous_fmt_datakey)\u001b[0m\n\u001b[1;32m    501\u001b[0m     \u001b[38;5;28mself\u001b[39m\u001b[38;5;241m.\u001b[39maxes\u001b[38;5;241m.\u001b[39myaxis\u001b[38;5;241m.\u001b[39mupdate_units(y)\n\u001b[1;32m    503\u001b[0m \u001b[38;5;28;01mif\u001b[39;00m x\u001b[38;5;241m.\u001b[39mshape[\u001b[38;5;241m0\u001b[39m] \u001b[38;5;241m!=\u001b[39m y\u001b[38;5;241m.\u001b[39mshape[\u001b[38;5;241m0\u001b[39m]:\n\u001b[0;32m--> 504\u001b[0m     \u001b[38;5;28;01mraise\u001b[39;00m \u001b[38;5;167;01mValueError\u001b[39;00m(\u001b[38;5;124mf\u001b[39m\u001b[38;5;124m\"\u001b[39m\u001b[38;5;124mx and y must have same first dimension, but \u001b[39m\u001b[38;5;124m\"\u001b[39m\n\u001b[1;32m    505\u001b[0m                      \u001b[38;5;124mf\u001b[39m\u001b[38;5;124m\"\u001b[39m\u001b[38;5;124mhave shapes \u001b[39m\u001b[38;5;132;01m{\u001b[39;00mx\u001b[38;5;241m.\u001b[39mshape\u001b[38;5;132;01m}\u001b[39;00m\u001b[38;5;124m and \u001b[39m\u001b[38;5;132;01m{\u001b[39;00my\u001b[38;5;241m.\u001b[39mshape\u001b[38;5;132;01m}\u001b[39;00m\u001b[38;5;124m\"\u001b[39m)\n\u001b[1;32m    506\u001b[0m \u001b[38;5;28;01mif\u001b[39;00m x\u001b[38;5;241m.\u001b[39mndim \u001b[38;5;241m>\u001b[39m \u001b[38;5;241m2\u001b[39m \u001b[38;5;129;01mor\u001b[39;00m y\u001b[38;5;241m.\u001b[39mndim \u001b[38;5;241m>\u001b[39m \u001b[38;5;241m2\u001b[39m:\n\u001b[1;32m    507\u001b[0m     \u001b[38;5;28;01mraise\u001b[39;00m \u001b[38;5;167;01mValueError\u001b[39;00m(\u001b[38;5;124mf\u001b[39m\u001b[38;5;124m\"\u001b[39m\u001b[38;5;124mx and y can be no greater than 2D, but have \u001b[39m\u001b[38;5;124m\"\u001b[39m\n\u001b[1;32m    508\u001b[0m                      \u001b[38;5;124mf\u001b[39m\u001b[38;5;124m\"\u001b[39m\u001b[38;5;124mshapes \u001b[39m\u001b[38;5;132;01m{\u001b[39;00mx\u001b[38;5;241m.\u001b[39mshape\u001b[38;5;132;01m}\u001b[39;00m\u001b[38;5;124m and \u001b[39m\u001b[38;5;132;01m{\u001b[39;00my\u001b[38;5;241m.\u001b[39mshape\u001b[38;5;132;01m}\u001b[39;00m\u001b[38;5;124m\"\u001b[39m)\n",
      "\u001b[0;31mValueError\u001b[0m: x and y must have same first dimension, but have shapes (50,) and (1, 20)"
     ]
    },
    {
     "data": {
      "image/png": "[encoded data removed]",
      "text/plain": [
       "<Figure size 640x480 with 1 Axes>"
      ]
     },
     "metadata": {},
     "output_type": "display_data"
    }
   ],
   "source": [
    "fig, ax = plt.subplots()\n",
    "ax.plot(x_grid, u_init)\n",
    "ax.plot(x_grid, sol.ys.T, color=\"gray\", label=\"Euler\")\n",
    "ax.set(\n",
    "    xlabel=\"$x$\",\n",
    "    ylabel=\"$u(x)$\",\n",
    ")\n",
    "plt.tight_layout()\n",
    "plt.show()"
   ]
  },
  {
   "cell_type": "code",
   "execution_count": null,
   "metadata": {},
   "outputs": [],
   "source": [
    "# define ODE\n",
    "term = diffrax.ODETerm(vector_field)\n",
    "\n",
    "# TEMPORAL DISCRETIZATION\n",
    "saveat = diffrax.SaveAt(ts=jnp.linspace(t0, tmax, 10))\n",
    "\n",
    "# TOLERANCES\n",
    "rtol = 1e-10\n",
    "atol = 1e-10\n",
    "pcoeff = 0.3\n",
    "icoeff = 0.4\n",
    "dtmax = 0.001\n",
    "stepsize_controller = diffrax.PIDController(\n",
    "    pcoeff=0.3, icoeff=0.4, rtol=rtol, atol=atol, dtmax=dtmax\n",
    ")\n",
    "solver = diffrax.Dopri5()\n",
    "sol_2 = diffrax.diffeqsolve(\n",
    "    term,\n",
    "    solver,\n",
    "    t0,\n",
    "    tmax,\n",
    "    dt,\n",
    "    u_init,\n",
    "    saveat=saveat,\n",
    "    stepsize_controller=stepsize_controller,\n",
    "    max_steps=None,\n",
    ")"
   ]
  },
  {
   "cell_type": "code",
   "execution_count": 101,
   "metadata": {},
   "outputs": [
    {
     "data": {
      "image/png": "[encoded data removed]",
      "text/plain": [
       "<Figure size 640x480 with 1 Axes>"
      ]
     },
     "metadata": {},
     "output_type": "display_data"
    }
   ],
   "source": [
    "fig, ax = plt.subplots()\n",
    "ax.plot(x_grid, u_init)\n",
    "ax.plot(x_grid, sol.ys.T, color=\"gray\", label=\"Euler\")\n",
    "ax.plot(x_grid, sol_2.ys.T, color=\"blue\", label=\"Dopri5\")\n",
    "ax.set(\n",
    "    xlabel=\"$x$\",\n",
    "    ylabel=\"$u(x)$\",\n",
    ")\n",
    "plt.legend([\"Dopri\", \"Euler\"])\n",
    "plt.tight_layout()\n",
    "plt.show()"
   ]
  },
  {
   "cell_type": "markdown",
   "metadata": {},
   "source": [
    "As we can see, there seems to be some dissipation. Could be the solver? Something to think about. But I think the most important thing is the fact that it is so easy to just try things without getting bogged down by the coding details!!\n",
    "\n",
    "At least that is what I hope to convey!"
   ]
  },
  {
   "cell_type": "code",
   "execution_count": null,
   "metadata": {},
   "outputs": [],
   "source": []
  }
 ],
 "metadata": {
  "kernelspec": {
   "display_name": "Python [conda env:jax_eo_py310]",
   "language": "python",
   "name": "conda-env-jax_eo_py310-py"
  },
  "language_info": {
   "codemirror_mode": {
    "name": "ipython",
    "version": 3
   },
   "file_extension": ".py",
   "mimetype": "text/x-python",
   "name": "python",
   "nbconvert_exporter": "python",
   "pygments_lexer": "ipython3",
   "version": "3.10.9"
  }
 },
 "nbformat": 4,
 "nbformat_minor": 4
}
