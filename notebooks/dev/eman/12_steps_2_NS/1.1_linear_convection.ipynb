{
 "cells": [
  {
   "cell_type": "markdown",
   "metadata": {
    "tags": [],
    "user_expressions": []
   },
   "source": [
    "---\n",
    "title: 1D Linear Convection\n",
    "suptitle: Time Steppers with JAX\n",
    "short_title: Linear Convection\n",
    "date: 2023-02-21\n",
    "authors:\n",
    "  - name: J. Emmanuel Johnson\n",
    "    affiliations:\n",
    "      - MEOM Lab\n",
    "    roles:\n",
    "      - Primary Programmer\n",
    "    email: jemanjohnson34@gmail.com\n",
    "license: CC-BY-4.0\n",
    "keywords: PDE, ODE, TimeStepper, Diffrax\n",
    "---"
   ]
  },
  {
   "cell_type": "markdown",
   "metadata": {
    "user_expressions": []
   },
   "source": [
    "> In the previous tutorial, we broke up all of the pieces into abstract concepts. We also looked at how to jax-ify all the things by creating functions for all of the bits and pieces; ranging from the domain definition to the stepper. In this tutorial, we will repeat the same procedure but define some `pytree` objects which we will operator. Many times, we need more than just the array values. There is a lot of auxillary information including stuff about the domain.\n"
   ]
  },
  {
   "cell_type": "code",
   "execution_count": 1,
   "metadata": {
    "tags": []
   },
   "outputs": [],
   "source": [
    "import autoroot\n",
    "import jax\n",
    "import jax.numpy as jnp\n",
    "import numpy as np\n",
    "import numba as nb\n",
    "import equinox as eqx\n",
    "import kernex as kex\n",
    "import finitediffx as fdx\n",
    "import diffrax as dfx\n",
    "import xarray as xr\n",
    "import matplotlib.pyplot as plt\n",
    "import seaborn as sns\n",
    "from tqdm.notebook import tqdm, trange\n",
    "from jaxtyping import Float, Array, PyTree, ArrayLike\n",
    "import wandb\n",
    "\n",
    "sns.reset_defaults()\n",
    "sns.set_context(context=\"talk\", font_scale=0.7)\n",
    "jax.config.update(\"jax_enable_x64\", True)\n",
    "\n",
    "%matplotlib inline\n",
    "%load_ext autoreload\n",
    "%autoreload 2"
   ]
  },
  {
   "cell_type": "markdown",
   "metadata": {
    "user_expressions": []
   },
   "source": [
    "## Recall: PDE - 1D Linear Convection"
   ]
  },
  {
   "cell_type": "markdown",
   "metadata": {
    "user_expressions": []
   },
   "source": [
    "Let's continue from the previous tutorial. Recall, we are working with a 1D Linear Convection scheme:\n",
    "\n",
    "$$\n",
    "\\frac{\\partial u}{\\partial t} + c \\frac{\\partial u}{\\partial x} = 0\n",
    "$$ (pde)\n",
    "\n",
    "For the PDE {eq}`pde`, we are going to do a backwards difference discretization in space and a forwards in time."
   ]
  },
  {
   "cell_type": "markdown",
   "metadata": {
    "user_expressions": []
   },
   "source": [
    "### Spatial Domain\n",
    "\n",
    "We define our spatial discretization as:\n",
    "\n",
    "$$\n",
    "x \\in \\Omega \\sub \\mathbb{R}^{D}\n",
    "$$ (spatial_d)\n",
    "\n",
    "Where:\n",
    "\n",
    "* $\\mathbb{R}^D$ - the space of coordinates, e.g. Euclidean, Spherical, and the size, e.g. scalar, vector, etc\n",
    "* $\\Omega$ - the domain and discretization\n",
    "\n",
    "For this problem our domain bounds are $[0.0, 2.0]$ and our time step is $\\Delta x\\sim 0.04$.\n"
   ]
  },
  {
   "cell_type": "code",
   "execution_count": 2,
   "metadata": {},
   "outputs": [],
   "source": [
    "from jaxsw._src.domain.base import Domain"
   ]
  },
  {
   "cell_type": "markdown",
   "metadata": {
    "tags": [],
    "user_expressions": []
   },
   "source": [
    "There are a few ways to initialize the domain. Here are a few:\n",
    "\n",
    "* Define the number of values and the step\n",
    "* Define the start/end points and the number of values\n"
   ]
  },
  {
   "cell_type": "code",
   "execution_count": 6,
   "metadata": {},
   "outputs": [
    {
     "name": "stdout",
     "output_type": "stream",
     "text": [
      "Size: (50,)\n",
      "nDims: 1\n",
      "Grid Size: (50, 1)\n",
      "Cell Volume: 0.04081632653061224\n",
      "dx: (0.04081632653061224,)\n"
     ]
    }
   ],
   "source": [
    "xmin = 0.0\n",
    "xmax = 2.0\n",
    "nx = 50\n",
    "\n",
    "\n",
    "domain = Domain.from_numpoints(xmin=(xmin,), xmax=(xmax,), N=(nx,))\n",
    "print(f\"Size: {domain.size}\")\n",
    "print(f\"nDims: {domain.ndim}\")\n",
    "print(f\"Grid Size: {domain.grid.shape}\")\n",
    "print(f\"Cell Volume: {domain.cell_volume}\")\n",
    "print(f\"dx: {domain.dx}\")"
   ]
  },
  {
   "cell_type": "markdown",
   "metadata": {
    "tags": [],
    "user_expressions": []
   },
   "source": [
    "### Initial Condition\n",
    "\n",
    "We said that the initial condition is actually a function which operates on a discretized domain $\\Omega$.\n",
    "\n",
    "\n",
    "$$\n",
    "\\mathcal{IC}[u](x,0) = \n",
    "\\begin{cases}\n",
    "2 & \\text{where } 0.5 \\leq x \\leq 1,\\\\\n",
    "1 & \\text{everywhere else in } (0,2) \\\\\n",
    "\\end{cases}\n",
    "$$ (ic)\n",
    "\n",
    "In practical terms, we need to initialize our state, $u$, based on the domain and discretization, $\\Omega$.\n",
    "\n",
    "$$\n",
    "\\mathcal{IC}[u](x,0):= \\boldsymbol{IC}(\\Omega, x)\n",
    "$$ (ic_practical)"
   ]
  },
  {
   "cell_type": "code",
   "execution_count": 7,
   "metadata": {},
   "outputs": [],
   "source": [
    "from jaxsw._src.models.pde import DynamicalSystem\n",
    "from jaxsw._src.fields.base import Field"
   ]
  },
  {
   "cell_type": "code",
   "execution_count": 8,
   "metadata": {},
   "outputs": [],
   "source": [
    "def init_u0(domain):\n",
    "    \"\"\"Initial condition from grid\"\"\"\n",
    "    u = jnp.ones_like(domain.grid, dtype=jnp.float64)\n",
    "\n",
    "    u = u.at[int(0.5 / domain.dx[0]) : int(1 / domain.dx[0] + 1)].set(2.0)\n",
    "    return u"
   ]
  },
  {
   "cell_type": "code",
   "execution_count": 9,
   "metadata": {},
   "outputs": [],
   "source": [
    "u_init = init_u0(domain)"
   ]
  },
  {
   "cell_type": "markdown",
   "metadata": {
    "user_expressions": []
   },
   "source": [
    "### Boundary Conditions\n",
    "\n",
    "For the boundary conditions, this is another function that is dependent upon the domain and discretization. It can be defined as:\n",
    "\n",
    "$$\n",
    "\\mathcal{BC}[u](x, t) = 1.0, \\hspace{10mm} x\\in\\partial\\Omega \\hspace{3mm} t\\in\\mathcal{T}\n",
    "$$ (bc)\n",
    "\n",
    "\n",
    "In practical terms, we want to apply some function, $\\boldsymbol{b}$, which modifies our state, $u$, at the coordinates along the boundaries of the domain, i.e. $x \\in \\partial\\Omega$. In our case it is constant. But we can easily think of strategies where it is an actual function."
   ]
  },
  {
   "cell_type": "code",
   "execution_count": 10,
   "metadata": {},
   "outputs": [],
   "source": [
    "def bc_fn(u: Float[Array, \"D\"]) -> Float[Array, \"D\"]:\n",
    "    u = u.at[0].set(1.0)\n",
    "\n",
    "    u = u.at[-1].set(1.0)\n",
    "\n",
    "    return u"
   ]
  },
  {
   "cell_type": "code",
   "execution_count": 11,
   "metadata": {},
   "outputs": [],
   "source": [
    "u_out = bc_fn(u_init)"
   ]
  },
  {
   "cell_type": "markdown",
   "metadata": {
    "user_expressions": []
   },
   "source": [
    "### Differential Operators\n",
    "\n",
    "We identified the differential operators, $\\mathcal{N}[\\cdot;\\boldsymbol{\\theta}]$ on the RHS of the equation. In this case, we used the backwards time finite difference method because this is a convection scheme. There are (hyper)-parameters, $\\boldsymbol{\\theta}$, in every differential operator because there are possibly (ad-hoc) decisions that one must make for all discretizations, e.g. finite difference schem (backwards, forwards, central) and stencil order. \n",
    "\n",
    "The 1st order backwards difference is defined as:\n",
    "\n",
    "$$\n",
    "\\mathcal{N}[u](x) := D^-(x)=\\frac{1}{\\Delta x}\\left( u_{i}-u_{i-1}^n \\right)\n",
    "$$ (bd)\n",
    "\n",
    "We showcased how we can use the stencil operator as a way to handle finite differences instead of the messy slicing operations. (Tutorial on this soon!)"
   ]
  },
  {
   "cell_type": "code",
   "execution_count": 12,
   "metadata": {},
   "outputs": [],
   "source": [
    "from jaxsw._src.operators.fd import Difference\n",
    "from jaxsw._src.operators.constant import Constant"
   ]
  },
  {
   "cell_type": "code",
   "execution_count": 20,
   "metadata": {},
   "outputs": [],
   "source": [
    "du_dx = fdx.difference(\n",
    "    u_init, axis=0, step_size=domain.dx[0], method=\"backward\", accuracy=1\n",
    ")"
   ]
  },
  {
   "cell_type": "code",
   "execution_count": 23,
   "metadata": {},
   "outputs": [
    {
     "data": {
      "image/png": "[encoded data removed]",
      "text/plain": [
       "<Figure size 640x480 with 1 Axes>"
      ]
     },
     "metadata": {},
     "output_type": "display_data"
    }
   ],
   "source": [
    "fig, ax = plt.subplots()\n",
    "\n",
    "ax.plot(domain.coords[0], du_dx[..., 0])\n",
    "ax.plot(domain.coords[0], -du_dx[..., 0])\n",
    "plt.show()"
   ]
  },
  {
   "cell_type": "markdown",
   "metadata": {
    "user_expressions": []
   },
   "source": [
    "### Right Hand Side\n",
    "\n",
    "Now, this is the ultimate part that glues the differential operators and the boundary conditions together.\n",
    "\n",
    "$$\n",
    "\\begin{aligned}\n",
    "\\mathcal{F}[u] &= - c \\cdot \\mathcal{N}_\\text{BackDiff}[u;\\boldsymbol{\\theta}](x) \\hspace{10mm} x\\in\\Omega\n",
    "\\end{aligned}\n",
    "$$ (rhs_complete)\n",
    "\n",
    "We dump all of this within the function to define our RHS function."
   ]
  },
  {
   "cell_type": "code",
   "execution_count": 24,
   "metadata": {},
   "outputs": [],
   "source": [
    "from jaxsw._src.models.pde import DynamicalSystem\n",
    "from jaxsw._src.domain.time import TimeDomain"
   ]
  },
  {
   "cell_type": "code",
   "execution_count": 27,
   "metadata": {},
   "outputs": [],
   "source": [
    "c = 1.0\n",
    "\n",
    "\n",
    "class LinearAdvection1D(DynamicalSystem):\n",
    "    @staticmethod\n",
    "    def equation_of_motion(t: float, u: Array, args) -> Array:\n",
    "        u = bc_fn(u)\n",
    "\n",
    "        # FD\n",
    "        u = fdx.difference(\n",
    "            u,\n",
    "            axis=0,\n",
    "            method=\"backward\",\n",
    "            accuracy=1,\n",
    "            derivative=1,\n",
    "            step_size=domain.dx[0],\n",
    "        )\n",
    "\n",
    "        return -c * u"
   ]
  },
  {
   "cell_type": "code",
   "execution_count": 28,
   "metadata": {},
   "outputs": [],
   "source": [
    "out = LinearAdvection1D.equation_of_motion(0, u_init, None)"
   ]
  },
  {
   "cell_type": "code",
   "execution_count": 29,
   "metadata": {},
   "outputs": [
    {
     "data": {
      "image/png": "[encoded data removed]",
      "text/plain": [
       "<Figure size 640x480 with 1 Axes>"
      ]
     },
     "metadata": {},
     "output_type": "display_data"
    }
   ],
   "source": [
    "fig, ax = plt.subplots()\n",
    "\n",
    "ax.plot(u_init)\n",
    "ax.plot(-out[..., 0])\n",
    "plt.show()"
   ]
  },
  {
   "cell_type": "markdown",
   "metadata": {
    "user_expressions": []
   },
   "source": [
    "## Time Stepping\n",
    "\n",
    "So in the previous tutorial, we talked about the step function but let's pause for a moment and rethink. The step function is actually a combination of two things:\n",
    "\n",
    "1. The RHS which includes the spatial derivatives.\n",
    "2. The time stepping scheme\n",
    "\n",
    "We have already taken care of the spatial derivatives in the previous step. So looking again at equations {eq}`pde` and {eq}`discretization_full`, we write the half step in between them.\n",
    "\n",
    "$$\n",
    "\\partial_t u = - c \\frac{1}{\\Delta x}\\left( u_{i}-u_{i-1}^n \\right)\n",
    "$$ (pde_spatial_discretization)\n",
    "\n",
    "where we have the RHS as defined in equation {eq}`rhs_complete` but we *did not* write the time stepping scheme for Euler. Instead, we're going to offset this to another library called `diffrax`."
   ]
  },
  {
   "cell_type": "markdown",
   "metadata": {
    "user_expressions": []
   },
   "source": [
    "### Temporal Domain\n",
    "\n",
    "We define our temporal discretization as:\n",
    "\n",
    "$$\n",
    "t \\in \\mathcal{T} \\sub \\mathbb{R}^+\n",
    "$$ (time_d)\n",
    "\n",
    "where the space time coordinates are bounded by $\\mathcal{T}=[0,T]$. For our problem, it is bounded between $[0.0, 0.5]$. Recall, the time step was calculated from the CFL condition given by\n",
    "\n",
    "$$\n",
    "\\Delta t = \\frac{\\sigma\\Delta x}{c} \\leq 1\n",
    "$$ (cfl_advection_dt)\n",
    "\n"
   ]
  },
  {
   "cell_type": "code",
   "execution_count": 30,
   "metadata": {},
   "outputs": [
    {
     "data": {
      "text/plain": [
       "\u001b[0;31mSignature:\u001b[0m\n",
       "\u001b[0mLinearAdvection1D\u001b[0m\u001b[0;34m.\u001b[0m\u001b[0mintegrate\u001b[0m\u001b[0;34m(\u001b[0m\u001b[0;34m\u001b[0m\n",
       "\u001b[0;34m\u001b[0m    \u001b[0mself\u001b[0m\u001b[0;34m,\u001b[0m\u001b[0;34m\u001b[0m\n",
       "\u001b[0;34m\u001b[0m    \u001b[0mu\u001b[0m\u001b[0;34m:\u001b[0m \u001b[0mjaxtyping\u001b[0m\u001b[0;34m.\u001b[0m\u001b[0mPyTree\u001b[0m\u001b[0;34m,\u001b[0m\u001b[0;34m\u001b[0m\n",
       "\u001b[0;34m\u001b[0m    \u001b[0mdt\u001b[0m\u001b[0;34m:\u001b[0m \u001b[0mfloat\u001b[0m\u001b[0;34m,\u001b[0m\u001b[0;34m\u001b[0m\n",
       "\u001b[0;34m\u001b[0m    \u001b[0margs\u001b[0m\u001b[0;34m,\u001b[0m\u001b[0;34m\u001b[0m\n",
       "\u001b[0;34m\u001b[0m    \u001b[0;34m**\u001b[0m\u001b[0mkwargs\u001b[0m\u001b[0;34m,\u001b[0m\u001b[0;34m\u001b[0m\n",
       "\u001b[0;34m\u001b[0m\u001b[0;34m)\u001b[0m \u001b[0;34m->\u001b[0m \u001b[0mjaxtyping\u001b[0m\u001b[0;34m.\u001b[0m\u001b[0mPyTree\u001b[0m\u001b[0;34m\u001b[0m\u001b[0;34m\u001b[0m\u001b[0m\n",
       "\u001b[0;31mDocstring:\u001b[0m <no docstring>\n",
       "\u001b[0;31mSource:\u001b[0m   \n",
       "    \u001b[0;32mdef\u001b[0m \u001b[0mintegrate\u001b[0m\u001b[0;34m(\u001b[0m\u001b[0mself\u001b[0m\u001b[0;34m,\u001b[0m \u001b[0mu\u001b[0m\u001b[0;34m:\u001b[0m \u001b[0mPyTree\u001b[0m\u001b[0;34m,\u001b[0m \u001b[0mdt\u001b[0m\u001b[0;34m:\u001b[0m \u001b[0mfloat\u001b[0m\u001b[0;34m,\u001b[0m \u001b[0margs\u001b[0m\u001b[0;34m,\u001b[0m \u001b[0;34m**\u001b[0m\u001b[0mkwargs\u001b[0m\u001b[0;34m)\u001b[0m \u001b[0;34m->\u001b[0m \u001b[0mPyTree\u001b[0m\u001b[0;34m:\u001b[0m\u001b[0;34m\u001b[0m\n",
       "\u001b[0;34m\u001b[0m        \u001b[0;34m\u001b[0m\n",
       "\u001b[0;34m\u001b[0m        \u001b[0msol\u001b[0m \u001b[0;34m=\u001b[0m \u001b[0mdfx\u001b[0m\u001b[0;34m.\u001b[0m\u001b[0mdiffeqsolve\u001b[0m\u001b[0;34m(\u001b[0m\u001b[0;34m\u001b[0m\n",
       "\u001b[0;34m\u001b[0m            \u001b[0mterms\u001b[0m\u001b[0;34m=\u001b[0m\u001b[0mdfx\u001b[0m\u001b[0;34m.\u001b[0m\u001b[0mODETerm\u001b[0m\u001b[0;34m(\u001b[0m\u001b[0mself\u001b[0m\u001b[0;34m.\u001b[0m\u001b[0mequation_of_motion\u001b[0m\u001b[0;34m)\u001b[0m\u001b[0;34m,\u001b[0m\u001b[0;34m\u001b[0m\n",
       "\u001b[0;34m\u001b[0m            \u001b[0msolver\u001b[0m\u001b[0;34m=\u001b[0m\u001b[0mself\u001b[0m\u001b[0;34m.\u001b[0m\u001b[0msolver\u001b[0m\u001b[0;34m,\u001b[0m\u001b[0;34m\u001b[0m\n",
       "\u001b[0;34m\u001b[0m            \u001b[0mt0\u001b[0m\u001b[0;34m=\u001b[0m\u001b[0mself\u001b[0m\u001b[0;34m.\u001b[0m\u001b[0mt_domain\u001b[0m\u001b[0;34m.\u001b[0m\u001b[0mtmin\u001b[0m\u001b[0;34m,\u001b[0m\u001b[0;34m\u001b[0m\n",
       "\u001b[0;34m\u001b[0m            \u001b[0mt1\u001b[0m\u001b[0;34m=\u001b[0m\u001b[0mself\u001b[0m\u001b[0;34m.\u001b[0m\u001b[0mt_domain\u001b[0m\u001b[0;34m.\u001b[0m\u001b[0mtmax\u001b[0m\u001b[0;34m,\u001b[0m\u001b[0;34m\u001b[0m\n",
       "\u001b[0;34m\u001b[0m            \u001b[0mdt0\u001b[0m\u001b[0;34m=\u001b[0m\u001b[0mdt\u001b[0m\u001b[0;34m,\u001b[0m\u001b[0;34m\u001b[0m\n",
       "\u001b[0;34m\u001b[0m            \u001b[0my0\u001b[0m\u001b[0;34m=\u001b[0m\u001b[0mu\u001b[0m\u001b[0;34m,\u001b[0m\u001b[0;34m\u001b[0m\n",
       "\u001b[0;34m\u001b[0m            \u001b[0msaveat\u001b[0m\u001b[0;34m=\u001b[0m\u001b[0mself\u001b[0m\u001b[0;34m.\u001b[0m\u001b[0msaveat\u001b[0m\u001b[0;34m,\u001b[0m\u001b[0;34m\u001b[0m\n",
       "\u001b[0;34m\u001b[0m            \u001b[0margs\u001b[0m\u001b[0;34m=\u001b[0m\u001b[0margs\u001b[0m\u001b[0;34m,\u001b[0m\u001b[0;34m\u001b[0m\n",
       "\u001b[0;34m\u001b[0m            \u001b[0mstepsize_controller\u001b[0m\u001b[0;34m=\u001b[0m\u001b[0mself\u001b[0m\u001b[0;34m.\u001b[0m\u001b[0mstepsize_controller\u001b[0m\u001b[0;34m,\u001b[0m\u001b[0;34m\u001b[0m\n",
       "\u001b[0;34m\u001b[0m            \u001b[0;34m**\u001b[0m\u001b[0mkwargs\u001b[0m\u001b[0;34m\u001b[0m\n",
       "\u001b[0;34m\u001b[0m        \u001b[0;34m)\u001b[0m\u001b[0;34m\u001b[0m\n",
       "\u001b[0;34m\u001b[0m        \u001b[0;32mreturn\u001b[0m \u001b[0msol\u001b[0m\u001b[0;34m.\u001b[0m\u001b[0mys\u001b[0m\u001b[0;34m\u001b[0m\u001b[0;34m\u001b[0m\u001b[0m\n",
       "\u001b[0;31mFile:\u001b[0m      /gpfsdswork/projects/rech/cli/uvo53rl/projects/jaxsw/jaxsw/_src/models/pde.py\n",
       "\u001b[0;31mType:\u001b[0m      function\n"
      ]
     },
     "metadata": {},
     "output_type": "display_data"
    }
   ],
   "source": [
    "??LinearAdvection1D.integrate"
   ]
  },
  {
   "cell_type": "code",
   "execution_count": null,
   "metadata": {},
   "outputs": [],
   "source": []
  },
  {
   "cell_type": "code",
   "execution_count": 36,
   "metadata": {},
   "outputs": [],
   "source": [
    "# SPATIAL DISCRETIZATION\n",
    "u_init = init_u0(domain)\n",
    "\n",
    "# TEMPORAL DISCRETIZATION\n",
    "# initialize temporal domain\n",
    "t0 = 0.0\n",
    "tmax = 0.5\n",
    "\n",
    "\n",
    "# CFL condition\n",
    "def cfl_cond(dx, c, sigma):\n",
    "    assert sigma <= 1.0\n",
    "    return (sigma * dx) / c\n",
    "\n",
    "\n",
    "# temporal parameters\n",
    "c = 1.0\n",
    "sigma = 0.2\n",
    "dt = cfl_cond(dx=domain.dx[0], c=c, sigma=sigma)\n",
    "\n",
    "t_domain = TimeDomain(tmin=0.0, tmax=0.5, dt=dt)\n",
    "ts = jnp.linspace(t0, tmax, 25)\n",
    "saveat = dfx.SaveAt(ts=ts)\n",
    "\n",
    "# DYNAMICAL SYSTEM\n",
    "dyn_model = LinearAdvection1D(t_domain=t_domain, saveat=saveat)\n",
    "\n",
    "\n",
    "# integration\n",
    "u_sol = dyn_model.integrate(u_init, dt, None)"
   ]
  },
  {
   "cell_type": "code",
   "execution_count": 37,
   "metadata": {},
   "outputs": [
    {
     "data": {
      "text/plain": [
       "(25, 50, 1)"
      ]
     },
     "execution_count": 37,
     "metadata": {},
     "output_type": "execute_result"
    }
   ],
   "source": [
    "u_sol.shape"
   ]
  },
  {
   "cell_type": "markdown",
   "metadata": {
    "user_expressions": []
   },
   "source": [
    "## Time Stepping"
   ]
  },
  {
   "cell_type": "code",
   "execution_count": 38,
   "metadata": {},
   "outputs": [
    {
     "data": {
      "text/plain": [
       "((25, 50), (25, 50), (25, 50, 1))"
      ]
     },
     "execution_count": 38,
     "metadata": {},
     "output_type": "execute_result"
    }
   ],
   "source": [
    "X, Y = np.meshgrid(domain.grid, ts)\n",
    "X.shape, Y.shape, u_sol.shape"
   ]
  },
  {
   "cell_type": "code",
   "execution_count": 39,
   "metadata": {},
   "outputs": [
    {
     "data": {
      "image/png": "[encoded data removed]",
      "text/plain": [
       "<Figure size 640x480 with 2 Axes>"
      ]
     },
     "metadata": {},
     "output_type": "display_data"
    }
   ],
   "source": [
    "fig, ax = plt.subplots()\n",
    "\n",
    "pts = ax.pcolormesh(X, Y, u_sol.squeeze(), cmap=\"gray_r\")\n",
    "plt.colorbar(pts, label=r\"$u(x,t)$\")\n",
    "ax.set(xlabel=r\"$x$\", ylabel=r\"$t$ (s)\")\n",
    "\n",
    "plt.show()"
   ]
  },
  {
   "cell_type": "code",
   "execution_count": 40,
   "metadata": {},
   "outputs": [
    {
     "data": {
      "image/png": "[encoded data removed]",
      "text/plain": [
       "<Figure size 640x480 with 1 Axes>"
      ]
     },
     "metadata": {},
     "output_type": "display_data"
    }
   ],
   "source": [
    "fig, ax = plt.subplots()\n",
    "ax.plot(domain.grid.squeeze(), u_init.squeeze())\n",
    "ax.plot(domain.grid.squeeze(), u_sol.squeeze().T[..., ::5], color=\"gray\", label=\"Euler\")\n",
    "ax.set(\n",
    "    xlabel=\"$t$\",\n",
    "    ylabel=\"$f(t)$\",\n",
    ")\n",
    "plt.tight_layout()\n",
    "plt.show()"
   ]
  },
  {
   "cell_type": "markdown",
   "metadata": {},
   "source": [
    "As we can see, there seems to be some dissipation. Could be the solver? Something to think about. But I think the most important thing is the fact that it is so easy to just try things without getting bogged down by the coding details!!\n",
    "\n",
    "At least that is what I hope to convey!"
   ]
  },
  {
   "cell_type": "code",
   "execution_count": null,
   "metadata": {},
   "outputs": [],
   "source": []
  }
 ],
 "metadata": {
  "kernelspec": {
   "display_name": "Python [conda env:miniconda3-jejeqx]",
   "language": "python",
   "name": "conda-env-miniconda3-jejeqx-py"
  },
  "language_info": {
   "codemirror_mode": {
    "name": "ipython",
    "version": 3
   },
   "file_extension": ".py",
   "mimetype": "text/x-python",
   "name": "python",
   "nbconvert_exporter": "python",
   "pygments_lexer": "ipython3",
   "version": "3.10.10"
  }
 },
 "nbformat": 4,
 "nbformat_minor": 4
}
