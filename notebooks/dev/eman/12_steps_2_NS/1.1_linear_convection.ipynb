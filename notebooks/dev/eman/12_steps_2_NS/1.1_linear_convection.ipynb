{
 "cells": [
  {
   "cell_type": "markdown",
   "metadata": {
    "tags": []
   },
   "source": [
    "---\n",
    "title: Linear Convection with Jax\n",
    "short_title: Linear Convection\n",
    "date: 2023-02-21\n",
    "authors:\n",
    "  - name: J. Emmanuel Johnson\n",
    "    affiliations:\n",
    "      - MEOM Lab\n",
    "    roles:\n",
    "      - Primary Programmer\n",
    "    email: jemanjohnson34@gmail.com\n",
    "license: CC-BY-4.0\n",
    "keywords: PDE, ODE, TimeStepper, Diffrax\n",
    "---"
   ]
  },
  {
   "cell_type": "markdown",
   "metadata": {},
   "source": [
    "In this tutorial, we will go over the simple 1D Linear Convection scheme. We will break down how we solve the PDE into abstractions. For each of these abstractions so that we can see how we can think in the Jax context. At the end of the tutorial, we will have an implementation within the JAX context.\n",
    "\n",
    "\n",
    "Summary of Steps:\n",
    "\n",
    "* 1D Linear Convection PDE\n",
    "* Forward-Time-Backwards-Space (FTBS)\n",
    "* Simple Time Stepper - Euler\n",
    "* Break Problem into chunks\n",
    "* Jax-ified Version\n",
    "    * Functional\n",
    "    * Explicit Types"
   ]
  },
  {
   "cell_type": "code",
   "execution_count": 1,
   "metadata": {
    "jupyter": {
     "source_hidden": true
    },
    "tags": []
   },
   "outputs": [],
   "source": [
    "import sys, os\n",
    "from pyprojroot import here\n",
    "\n",
    "# spyder up to find the root\n",
    "root = here(project_files=[\".home\"])\n",
    "\n",
    "# append to path\n",
    "sys.path.append(str(root))"
   ]
  },
  {
   "cell_type": "code",
   "execution_count": 2,
   "metadata": {},
   "outputs": [],
   "source": [
    "import jax\n",
    "import jax.numpy as jnp\n",
    "import numpy as np\n",
    "import numba as nb\n",
    "import equinox as eqx\n",
    "import serket as sk\n",
    "import kernex as kex\n",
    "import xarray as xr\n",
    "import matplotlib.pyplot as plt\n",
    "import seaborn as sns\n",
    "from tqdm.notebook import tqdm, trange\n",
    "from jaxtyping import Float, Array, PyTree\n",
    "import wandb\n",
    "\n",
    "sns.reset_defaults()\n",
    "sns.set_context(context=\"poster\", font_scale=0.7)\n",
    "jax.config.update(\"jax_enable_x64\", True)\n",
    "\n",
    "%matplotlib inline\n",
    "%load_ext autoreload\n",
    "%autoreload 2"
   ]
  },
  {
   "cell_type": "markdown",
   "metadata": {},
   "source": [
    "## Problem - PDE"
   ]
  },
  {
   "cell_type": "markdown",
   "metadata": {},
   "source": [
    "Let's start with a simple 2D Linear Advection scheme. This PDE is defined as:\n",
    "\n",
    "```{math}\n",
    ":label: pde\n",
    "\\frac{\\partial u}{\\partial t} + c \\frac{\\partial u}{\\partial x} = 0\n",
    "```"
   ]
  },
  {
   "cell_type": "markdown",
   "metadata": {},
   "source": [
    "For the PDE {eq}`pde`, we are going to do a forward difference discretization in space and a backwards in time. It is given by:\n",
    "\n",
    "```{math}\n",
    ":label: discretization_full\n",
    "u_{i,j}^{n+1} = u_{i,j}^{n} - c \\frac{\\Delta t}{\\Delta x}\\left( u_{i,j}-u_{i-1,j}^n \\right)\n",
    "```\n",
    "\n",
    "Citation [cite](dot:10.1175/JTECH-D-20-0104.1)."
   ]
  },
  {
   "cell_type": "code",
   "execution_count": 3,
   "metadata": {},
   "outputs": [],
   "source": [
    "# PDE params\n",
    "c = 1.0\n",
    "sigma = 1.0\n",
    "\n",
    "# spatial discretization\n",
    "xmin = 0.0\n",
    "xmax = 2.0\n",
    "nx = 50\n",
    "dx = xmax / (nx - 1)\n",
    "x_grid = np.linspace(xmin, xmax, nx)\n",
    "\n",
    "# temporal discretization\n",
    "t0 = 0.0\n",
    "tmax = 0.5"
   ]
  },
  {
   "cell_type": "markdown",
   "metadata": {},
   "source": [
    "### CFL Condition\n",
    "\n",
    "This is necessary for convergence.\n",
    "\n",
    "$$\n",
    "\\sigma = \\frac{c\\Delta t}{\\Delta x} \\leq 1\n",
    "$$ (cfl_advection)\n",
    "\n",
    "So rearranging, we can find the correct time step given the CFL condition.\n",
    "\n",
    "$$\n",
    "\\Delta t = \\frac{\\sigma\\Delta x}{c} \\leq 1\n",
    "$$ (cfl_advection_dt)"
   ]
  },
  {
   "cell_type": "code",
   "execution_count": 4,
   "metadata": {},
   "outputs": [
    {
     "name": "stdout",
     "output_type": "stream",
     "text": [
      "Δt = 0.008163\n"
     ]
    }
   ],
   "source": [
    "def cfl_cond(dx, c, sigma):\n",
    "    assert sigma <= 1.0\n",
    "    return (sigma * dx) / c\n",
    "\n",
    "\n",
    "sigma = 0.2\n",
    "dt = cfl_cond(dx=dx, c=c, sigma=sigma)\n",
    "\n",
    "time_steps = np.arange(t0, tmax, dt)\n",
    "\n",
    "print(f\"Δt = {dt:2f}\")"
   ]
  },
  {
   "cell_type": "code",
   "execution_count": 5,
   "metadata": {},
   "outputs": [],
   "source": [
    "solns = dict()"
   ]
  },
  {
   "cell_type": "markdown",
   "metadata": {},
   "source": [
    "\n",
    "Steps:\n",
    "\n",
    "1. Calculate the RHS\n",
    "2. Apply the Boundary Conditions\n"
   ]
  },
  {
   "cell_type": "code",
   "execution_count": 6,
   "metadata": {},
   "outputs": [
    {
     "data": {
      "application/vnd.jupyter.widget-view+json": {
       "model_id": "a3d93d7f29614c61a3306b899e714f39",
       "version_major": 2,
       "version_minor": 0
      },
      "text/plain": [
       "  0%|          | 0/62 [00:00<?, ?it/s]"
      ]
     },
     "metadata": {},
     "output_type": "display_data"
    }
   ],
   "source": [
    "# initialize field to be zero\n",
    "u_init = np.ones((nx,))\n",
    "u_init[int(.5 / dx):int(1 / dx + 1)] = 2.0\n",
    "\n",
    "u = u_init.copy()\n",
    "\n",
    "\n",
    "for t in tqdm(time_steps):\n",
    "    \n",
    "    # copy to avoid overwriting\n",
    "    \n",
    "    # calculate the terms\n",
    "    u[1:] = u[1:] - c * (dt / dx) * (u[1:] - u[:-1])\n",
    "    \n",
    "    # boundaries\n",
    "    u[0] = 1.0\n",
    "    u[-1] = 1.0\n",
    "    \n",
    "\n",
    "\n",
    "# small sanity check\n",
    "# assert (u[45:55, 45:55] > 1.8).all()\n",
    "solns[\"numpy\"] = u"
   ]
  },
  {
   "cell_type": "code",
   "execution_count": 7,
   "metadata": {},
   "outputs": [
    {
     "data": {
      "image/png": "[encoded data removed]",
      "text/plain": [
       "<Figure size 640x480 with 1 Axes>"
      ]
     },
     "metadata": {},
     "output_type": "display_data"
    }
   ],
   "source": [
    "fig, ax = plt.subplots()\n",
    "ax.plot(x_grid, u_init, label=\"Init\")\n",
    "ax.plot(x_grid, solns[\"numpy\"], label=\"numpy\")\n",
    "plt.legend()\n",
    "plt.tight_layout()\n",
    "plt.show()"
   ]
  },
  {
   "cell_type": "code",
   "execution_count": 8,
   "metadata": {},
   "outputs": [
    {
     "name": "stderr",
     "output_type": "stream",
     "text": [
      "2023-02-25 12:54:45.528029: E external/org_tensorflow/tensorflow/compiler/xla/python/pjit.cc:461] fastpath_data is none\n"
     ]
    },
    {
     "data": {
      "application/vnd.jupyter.widget-view+json": {
       "model_id": "0f3cbdf0428a4d3f914edfe086644864",
       "version_major": 2,
       "version_minor": 0
      },
      "text/plain": [
       "  0%|          | 0/62 [00:00<?, ?it/s]"
      ]
     },
     "metadata": {},
     "output_type": "display_data"
    },
    {
     "name": "stderr",
     "output_type": "stream",
     "text": [
      "2023-02-25 12:54:45.615187: E external/org_tensorflow/tensorflow/compiler/xla/python/pjit.cc:461] fastpath_data is none\n",
      "2023-02-25 12:54:45.626844: E external/org_tensorflow/tensorflow/compiler/xla/python/pjit.cc:461] fastpath_data is none\n"
     ]
    }
   ],
   "source": [
    "# initialize field to be zero\n",
    "u_init = jnp.ones((nx,), dtype=jnp.float32)\n",
    "u_init = u_init.at[int(.5 / dx):int(1 / dx + 1)].set(2.0)\n",
    "u = u_init.copy()\n",
    "\n",
    "for t in tqdm(time_steps):\n",
    "    \n",
    "    # # loops (BUG!)\n",
    "    # for i in range(1, u.shape[0]-1):\n",
    "    #     u = u.at[i].set(u[i] - c * (dt/dx) * (u[i] - u[i-1]))\n",
    "    \n",
    "    # numpy-like\n",
    "    u = u.at[1:].set(u[1:] - c * (dt / dx) * (u[1:] - u[:-1]))\n",
    "        \n",
    "    u = u.at[0].set(1.0)\n",
    "    u = u.at[-1].set(1.0)\n",
    "    \n",
    "    \n",
    "\n",
    "\n",
    "# small sanity check\n",
    "# assert (u[45:55, 45:55] > 1.8).all()\n",
    "solns[\"jax\"] = u"
   ]
  },
  {
   "cell_type": "code",
   "execution_count": 9,
   "metadata": {},
   "outputs": [
    {
     "data": {
      "image/png": "[encoded data removed]",
      "text/plain": [
       "<Figure size 640x480 with 1 Axes>"
      ]
     },
     "metadata": {},
     "output_type": "display_data"
    }
   ],
   "source": [
    "fig, ax = plt.subplots()\n",
    "ax.plot(x_grid, u_init, label=\"Init\")\n",
    "ax.plot(x_grid, solns[\"numpy\"], label=\"numpy\", linestyle=\"-\")\n",
    "ax.plot(x_grid, solns[\"jax\"], label=\"jax\", linestyle=\"--\")\n",
    "plt.legend()\n",
    "plt.tight_layout()\n",
    "plt.show()"
   ]
  },
  {
   "cell_type": "markdown",
   "metadata": {},
   "source": [
    "## Jax-ify\n",
    "\n",
    "Now, we should jax-ify all of the things. The biggest thing is that everything should be *somewhat* funtional.\n",
    "\n",
    "---\n",
    "**Components**\n",
    "\n",
    "There are definitely some components here that I can identify from the above code.\n",
    "\n",
    "* Initialization Function\n",
    "* RHS Function (including FD Operator)\n",
    "* Boundary Conditions\n",
    "* Step Function"
   ]
  },
  {
   "cell_type": "markdown",
   "metadata": {},
   "source": [
    "## Discretization"
   ]
  },
  {
   "cell_type": "markdown",
   "metadata": {},
   "source": [
    "### Spatial"
   ]
  },
  {
   "cell_type": "code",
   "execution_count": 10,
   "metadata": {},
   "outputs": [],
   "source": [
    "# spatial discretization\n",
    "xmin = 0.0\n",
    "xmax = 2.0\n",
    "nx = 50\n",
    "dx = xmax / (nx - 1)\n",
    "\n",
    "# spatial grid\n",
    "x_grid = np.linspace(xmin, xmax, nx)\n",
    "\n",
    "# check dx\n",
    "assert x_grid[1] - x_grid[0] == dx"
   ]
  },
  {
   "cell_type": "markdown",
   "metadata": {},
   "source": [
    "### Temporal"
   ]
  },
  {
   "cell_type": "code",
   "execution_count": 11,
   "metadata": {},
   "outputs": [],
   "source": [
    "# temporal discretization\n",
    "t0 = 0.0\n",
    "tmax = 0.5\n",
    "\n",
    "# CFL Conditions\n",
    "sigma = 0.2\n",
    "dt = cfl_cond(dx=dx, c=c, sigma=sigma)\n",
    "\n",
    "\n",
    "# Temporal Grid\n",
    "time_steps = np.arange(t0, tmax, dt)"
   ]
  },
  {
   "cell_type": "markdown",
   "metadata": {},
   "source": [
    "### Parameters"
   ]
  },
  {
   "cell_type": "code",
   "execution_count": 12,
   "metadata": {},
   "outputs": [],
   "source": [
    "# PDE params\n",
    "c = 1.0"
   ]
  },
  {
   "cell_type": "markdown",
   "metadata": {},
   "source": [
    "### Initialization Function\n",
    "\n",
    "\n",
    "$$\n",
    "\\mathcal{IC}[u](x,0) = \n",
    "\\begin{cases}\n",
    "2 & \\text{where } 0.5 \\leq x \\leq 1,\\\\\n",
    "1 & \\text{everywhere else in } (0,2) \\\\\n",
    "\\end{cases}\n",
    "$$ (ic)"
   ]
  },
  {
   "cell_type": "code",
   "execution_count": 13,
   "metadata": {},
   "outputs": [],
   "source": [
    "# initialize field to be zero\n",
    "\n",
    "\n",
    "def init_u_fn(grid: Float[Array, \"D\"]) -> Float[Array, \"D\"]:\n",
    "    \"\"\"Initial condition from grid\"\"\"\n",
    "    u = jnp.ones_like(grid, dtype=jnp.float64)\n",
    "    \n",
    "    u = u.at[int(.5 / dx):int(1 / dx + 1)].set(2.0)\n",
    "    \n",
    "    return u"
   ]
  },
  {
   "cell_type": "markdown",
   "metadata": {},
   "source": [
    "### Boundary Conditions"
   ]
  },
  {
   "cell_type": "markdown",
   "metadata": {},
   "source": [
    "$$\n",
    "\\mathcal{BC}[u](x, t) = 1.0, \\hspace{10mm} x\\in\\partial\\Omega \\hspace{3mm} t\\in\\mathcal{T}\n",
    "$$ (bc)"
   ]
  },
  {
   "cell_type": "code",
   "execution_count": 14,
   "metadata": {},
   "outputs": [],
   "source": [
    "def bc_fn(u: Float[Array, \"D\"]) -> Float[Array, \"D\"]:\n",
    "    \n",
    "    u = u.at[0].set(1.0)\n",
    "    \n",
    "    u = u.at[-1].set(1.0)\n",
    "    \n",
    "    # TODO: can use where based on points\n",
    "    return u\n"
   ]
  },
  {
   "cell_type": "markdown",
   "metadata": {},
   "source": [
    "### RHS\n",
    "\n",
    "So for this, the right-hand side is the following\n",
    "\n",
    "$$\n",
    "\\mathcal{RHS}[u]:=\\mathcal{F}[u;\\theta](x) = - c \\frac{1}{\\Delta x}\\left( u_{i,j}-u_{i-1,j}^n \\right)\n",
    "$$ (rhs)\n",
    "\n",
    "We also can see that we can abstract the backwards finite difference operator as well.\n",
    "\n",
    "$$\n",
    "\\begin{aligned}\n",
    "\\mathcal{F}[u] &= - c \\cdot \\mathcal{N}[u](x) \\hspace{10mm} x\\in\\Omega \\\\\n",
    "\\mathcal{N}[u]:=\\mathcal{N}_{BD}[u] &= \\frac{1}{\\Delta x}\\left( u_{i,j}-u_{i-1,j}^n \\right) \\\\\n",
    "\\end{aligned}\n",
    "$$ (rhs_complete)"
   ]
  },
  {
   "cell_type": "markdown",
   "metadata": {},
   "source": [
    "#### Finite Difference Operator\n",
    "\n",
    "$$\n",
    "\\mathcal{N}_{BD}[u] = \\frac{1}{\\Delta x}\\left( u_{i,j}-u_{i-1,j}^n \\right)\n",
    "$$ (bd)"
   ]
  },
  {
   "cell_type": "code",
   "execution_count": 15,
   "metadata": {},
   "outputs": [],
   "source": [
    "# 1st order backwards finite difference operator\n",
    "@kex.kmap(kernel_size=(2,), padding=\"valid\", relative=True)\n",
    "def fd_back(u: Float[Array, \"2\"], dx: PyTree[float]) -> Float[Array, \"\"]:\n",
    "    return (u[1] - u[0]) / dx"
   ]
  },
  {
   "cell_type": "markdown",
   "metadata": {},
   "source": [
    "#### Final RHS"
   ]
  },
  {
   "cell_type": "code",
   "execution_count": 16,
   "metadata": {},
   "outputs": [],
   "source": [
    "# RHS function\n",
    "def rhs_fn(u: Float[Array, \"D\"], dx: PyTree[float], c: PyTree[float]) -> Float[Array, \"D\"]:\n",
    "    \"\"\"RHS for 1D Advection. \n",
    "    Uses a Backwards FD scheme\n",
    "    \"\"\"\n",
    "    # removes artefact from stencil operation\n",
    "    u = jnp.pad(u, pad_width=((1,0)), mode=\"edge\")\n",
    "    \n",
    "    # FD\n",
    "    u = fd_back(u, dx)\n",
    "    \n",
    "    # constant\n",
    "    u = - c * u\n",
    "    \n",
    "    return u"
   ]
  },
  {
   "cell_type": "markdown",
   "metadata": {},
   "source": [
    "### Step Function\n",
    "\n",
    "Now, we want to put all of this together. So we're going to create a step function that will allow us to take a state, $u$, apply the FD operator, apply the boundary conditions, return the RHS, and step forward one iteration in time. \n",
    "\n",
    "The most general form of this step function is\n",
    "\n",
    "$$\n",
    "u_{t+1} = u_t + \\boldsymbol{g}(u_t, t)\n",
    "$$ (step_fn_general)\n",
    "which basically says that \"the next state is the current state plus something\". There are many such time-steppers in the literature ranging from Taylor-based schemes (e.g. Euler) to quadrature schemes (e.g. Runga-Kutta). All have pros and cons and we can spend a long time trying to look at all of them. For this example, we will use a simple Euler time stepper.\n",
    "\n",
    "$$\n",
    "u_{t+1} = u_t + \\Delta t \\boldsymbol{f}(u_t)\n",
    "$$ (step)\n",
    "\n",
    "It's not the best, but it is fine for a simple problem. "
   ]
  },
  {
   "cell_type": "markdown",
   "metadata": {},
   "source": [
    "\n",
    "So we can write a general step of operations for the Stepper as well.\n",
    "\n",
    "$$\n",
    "\n",
    "\\mathcal{RHS}[u]:= \n",
    "\\begin{cases}\n",
    "\\mathcal{F}[u] & x\\in\\Omega\\\\\n",
    "\\mathcal{B}[u] & x\\in\\partial\\Omega \\\\\n",
    "\\end{cases}\n",
    "$$ (stepper)"
   ]
  },
  {
   "cell_type": "code",
   "execution_count": 17,
   "metadata": {},
   "outputs": [],
   "source": [
    "\n",
    "def step_fn(u: Float[Array, \"D\"]) -> Float[Array, \"D\"]:\n",
    "    \n",
    "    # apply bcs for current state\n",
    "    u = bc_fn(u)\n",
    "    \n",
    "    # calculate RHS\n",
    "    rhs = rhs_fn(u, dx, c)\n",
    "    \n",
    "    # time step\n",
    "    u = u + dt * rhs\n",
    "    \n",
    "    return u\n",
    "\n",
    "step_fn = jax.jit(step_fn)\n",
    "\n",
    "\n",
    "# small sanity check\n",
    "# assert (u[45:55, 45:55] > 1.8).all()"
   ]
  },
  {
   "cell_type": "code",
   "execution_count": 18,
   "metadata": {},
   "outputs": [
    {
     "name": "stderr",
     "output_type": "stream",
     "text": [
      "2023-02-25 12:54:46.387247: E external/org_tensorflow/tensorflow/compiler/xla/python/pjit.cc:461] fastpath_data is none\n"
     ]
    },
    {
     "data": {
      "application/vnd.jupyter.widget-view+json": {
       "model_id": "d24226c1366043418a3bd9e1839f186c",
       "version_major": 2,
       "version_minor": 0
      },
      "text/plain": [
       "  0%|          | 0/62 [00:00<?, ?it/s]"
      ]
     },
     "metadata": {},
     "output_type": "display_data"
    }
   ],
   "source": [
    "# initialize u from grid\n",
    "u = init_u_fn(x_grid)\n",
    "\n",
    "# loop through time steps\n",
    "for t in tqdm(time_steps):\n",
    "    \n",
    "    # step\n",
    "    u = step_fn(u)\n",
    "    \n",
    "solns[\"jaxify\"] = u"
   ]
  },
  {
   "cell_type": "code",
   "execution_count": 19,
   "metadata": {},
   "outputs": [
    {
     "data": {
      "image/png": "[encoded data removed]",
      "text/plain": [
       "<Figure size 640x480 with 1 Axes>"
      ]
     },
     "metadata": {},
     "output_type": "display_data"
    }
   ],
   "source": [
    "fig, ax = plt.subplots()\n",
    "ax.plot(x_grid, u_init, label=\"Init\")\n",
    "ax.plot(x_grid, solns[\"numpy\"], label=\"numpy\", linestyle=\"-\")\n",
    "ax.plot(x_grid, solns[\"jax\"], label=\"jax\", linestyle=\"--\")\n",
    "ax.plot(x_grid, solns[\"jaxify\"], label=\"jax-ified\", linestyle=\"-.\")\n",
    "plt.legend()\n",
    "plt.tight_layout()\n",
    "plt.show()"
   ]
  },
  {
   "cell_type": "code",
   "execution_count": null,
   "metadata": {},
   "outputs": [],
   "source": []
  }
 ],
 "metadata": {
  "kernelspec": {
   "display_name": "Python [conda env:jax_eo_py310]",
   "language": "python",
   "name": "conda-env-jax_eo_py310-py"
  },
  "language_info": {
   "codemirror_mode": {
    "name": "ipython",
    "version": 3
   },
   "file_extension": ".py",
   "mimetype": "text/x-python",
   "name": "python",
   "nbconvert_exporter": "python",
   "pygments_lexer": "ipython3",
   "version": "3.10.9"
  },
  "vscode": {
   "interpreter": {
    "hash": "0413e8c03f7ddb3373a2170669dfe9b537dbce6eabc17890668e4d351ed49188"
   }
  }
 },
 "nbformat": 4,
 "nbformat_minor": 4
}
